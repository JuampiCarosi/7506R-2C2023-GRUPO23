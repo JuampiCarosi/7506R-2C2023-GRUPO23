{
 "cells": [
  {
   "cell_type": "markdown",
   "metadata": {},
   "source": [
    "# TP 2 - Procesamiento del Lenguaje Natural"
   ]
  },
  {
   "cell_type": "markdown",
   "metadata": {},
   "source": [
    "## Librerias y Funciones\n"
   ]
  },
  {
   "cell_type": "code",
   "execution_count": 42,
   "metadata": {},
   "outputs": [],
   "source": [
    "import pandas as pd\n",
    "import numpy as np\n",
    "from sklearn.metrics import f1_score,  recall_score, precision_score, accuracy_score\n",
    "from sklearn.model_selection import train_test_split\n",
    "from sklearn.feature_extraction.text import CountVectorizer, TfidfVectorizer\n",
    "from sklearn.naive_bayes import MultinomialNB, GaussianNB, BernoulliNB\n",
    "from sklearn.pipeline import make_pipeline, Pipeline\n",
    "from sklearn.metrics import confusion_matrix\n",
    "from mlxtend.preprocessing import DenseTransformer\n",
    "from sklearn.feature_extraction.text import TfidfVectorizer\n",
    "from xgboost import XGBClassifier\n",
    "from sklearn.metrics import f1_score\n",
    "import matplotlib.pyplot as plt\n",
    "import seaborn as sns\n",
    "import re\n",
    "import nltk\n",
    "from nltk.corpus import stopwords\n",
    "import matplotlib.pyplot as plt\n",
    "import seaborn as sns\n",
    "from langdetect import detect, detect_langs\n",
    "from sklearn.metrics import confusion_matrix\n",
    "from sklearn.linear_model import LogisticRegression\n",
    "from sklearn.pipeline import Pipeline\n",
    "from sklearn.feature_extraction.text import TfidfVectorizer\n",
    "from sklearn.metrics import f1_score\n",
    "from sklearn.model_selection import RandomizedSearchCV\n",
    "from sklearn.model_selection import StratifiedKFold\n",
    "from sklearn.model_selection import cross_val_score\n",
    "from nltk.tokenize import word_tokenize\n",
    "from nltk.probability import FreqDist\n",
    "import tensorflow as tf\n",
    "from tensorflow import keras\n",
    "from tensorflow.keras.layers import Dense, Dropout, Activation\n",
    "from tensorflow.keras.optimizers import SGD\n",
    "from tensorflow.keras.preprocessing.text import Tokenizer\n",
    "from tensorflow.keras.preprocessing.sequence import pad_sequences\n",
    "from tensorflow.keras.callbacks import EarlyStopping\n",
    "from tensorflow.keras.layers import LSTM, Embedding\n",
    "from tensorflow.keras.layers import Dense, Input, Dropout\n",
    "from nltk.tokenize.toktok import ToktokTokenizer\n",
    "#from emoji import emoji_count, demojize\n",
    "from sklearn.ensemble import RandomForestClassifier\n",
    "from sklearn.model_selection import RandomizedSearchCV\n",
    "from sklearn.model_selection import StratifiedKFold\n",
    "from sklearn.model_selection import cross_val_score\n",
    "from sklearn.discriminant_analysis import StandardScaler\n",
    "from sklearn.preprocessing import MinMaxScaler\n",
    "from sklearn.svm import SVC\n",
    "from sklearn.model_selection import RandomizedSearchCV\n",
    "from sklearn.model_selection import StratifiedKFold\n",
    "from sklearn.model_selection import cross_val_score\n",
    "from sklearn.ensemble import VotingClassifier\n",
    "from sklearn.model_selection import cross_val_score\n",
    "from sklearn.model_selection import RepeatedStratifiedKFold\n",
    "import os"
   ]
  },
  {
   "cell_type": "code",
   "execution_count": 2,
   "metadata": {},
   "outputs": [],
   "source": [
    "def mostrar_scores(y_test: np.ndarray, y_prediccion: np.ndarray):\n",
    "    accuracy = accuracy_score(y_test,y_prediccion)\n",
    "    recall = recall_score(y_test,y_prediccion)\n",
    "    f1 = f1_score(y_test,y_prediccion,)\n",
    "    precision = precision_score(y_test,y_prediccion)\n",
    "\n",
    "    print(\"Accuracy: \"+str(accuracy))\n",
    "    print(\"Recall: \"+str(recall))\n",
    "    print(\"Precision: \"+str(precision))\n",
    "    print(\"f1 score: \"+str(f1))\n",
    "\n",
    "def cantidad_de_palabras(review):\n",
    "    return len(review.split())"
   ]
  },
  {
   "cell_type": "markdown",
   "metadata": {},
   "source": [
    "## Analisis Exploratorio"
   ]
  },
  {
   "cell_type": "markdown",
   "metadata": {},
   "source": [
    "Comenzamos con el analisis exploratorio de los datos, para ello vamos a cargar los datos y a ver como estan distribuidos."
   ]
  },
  {
   "cell_type": "code",
   "execution_count": 4,
   "metadata": {},
   "outputs": [
    {
     "data": {
      "text/html": [
       "<div>\n",
       "<style scoped>\n",
       "    .dataframe tbody tr th:only-of-type {\n",
       "        vertical-align: middle;\n",
       "    }\n",
       "\n",
       "    .dataframe tbody tr th {\n",
       "        vertical-align: top;\n",
       "    }\n",
       "\n",
       "    .dataframe thead th {\n",
       "        text-align: right;\n",
       "    }\n",
       "</style>\n",
       "<table border=\"1\" class=\"dataframe\">\n",
       "  <thead>\n",
       "    <tr style=\"text-align: right;\">\n",
       "      <th></th>\n",
       "      <th>ID</th>\n",
       "      <th>review_es</th>\n",
       "      <th>sentimiento</th>\n",
       "    </tr>\n",
       "  </thead>\n",
       "  <tbody>\n",
       "    <tr>\n",
       "      <th>0</th>\n",
       "      <td>0</td>\n",
       "      <td>Uno de los otros críticos ha mencionado que de...</td>\n",
       "      <td>positivo</td>\n",
       "    </tr>\n",
       "    <tr>\n",
       "      <th>1</th>\n",
       "      <td>1</td>\n",
       "      <td>Una pequeña pequeña producción.La técnica de f...</td>\n",
       "      <td>positivo</td>\n",
       "    </tr>\n",
       "    <tr>\n",
       "      <th>2</th>\n",
       "      <td>2</td>\n",
       "      <td>Pensé que esta era una manera maravillosa de p...</td>\n",
       "      <td>positivo</td>\n",
       "    </tr>\n",
       "    <tr>\n",
       "      <th>3</th>\n",
       "      <td>3</td>\n",
       "      <td>Básicamente, hay una familia donde un niño peq...</td>\n",
       "      <td>negativo</td>\n",
       "    </tr>\n",
       "    <tr>\n",
       "      <th>4</th>\n",
       "      <td>4</td>\n",
       "      <td>El \"amor en el tiempo\" de Petter Mattei es una...</td>\n",
       "      <td>positivo</td>\n",
       "    </tr>\n",
       "    <tr>\n",
       "      <th>5</th>\n",
       "      <td>5</td>\n",
       "      <td>Probablemente mi película favorita de todos lo...</td>\n",
       "      <td>positivo</td>\n",
       "    </tr>\n",
       "    <tr>\n",
       "      <th>6</th>\n",
       "      <td>6</td>\n",
       "      <td>Seguro que me gustaría ver una resurrección de...</td>\n",
       "      <td>positivo</td>\n",
       "    </tr>\n",
       "    <tr>\n",
       "      <th>7</th>\n",
       "      <td>7</td>\n",
       "      <td>Este espectáculo fue una idea increíble, fresc...</td>\n",
       "      <td>negativo</td>\n",
       "    </tr>\n",
       "    <tr>\n",
       "      <th>8</th>\n",
       "      <td>8</td>\n",
       "      <td>Alentados por los comentarios positivos sobre ...</td>\n",
       "      <td>negativo</td>\n",
       "    </tr>\n",
       "    <tr>\n",
       "      <th>9</th>\n",
       "      <td>9</td>\n",
       "      <td>Si te gusta la risa original desgarradora, te ...</td>\n",
       "      <td>positivo</td>\n",
       "    </tr>\n",
       "  </tbody>\n",
       "</table>\n",
       "</div>"
      ],
      "text/plain": [
       "   ID                                          review_es sentimiento\n",
       "0   0  Uno de los otros críticos ha mencionado que de...    positivo\n",
       "1   1  Una pequeña pequeña producción.La técnica de f...    positivo\n",
       "2   2  Pensé que esta era una manera maravillosa de p...    positivo\n",
       "3   3  Básicamente, hay una familia donde un niño peq...    negativo\n",
       "4   4  El \"amor en el tiempo\" de Petter Mattei es una...    positivo\n",
       "5   5  Probablemente mi película favorita de todos lo...    positivo\n",
       "6   6  Seguro que me gustaría ver una resurrección de...    positivo\n",
       "7   7  Este espectáculo fue una idea increíble, fresc...    negativo\n",
       "8   8  Alentados por los comentarios positivos sobre ...    negativo\n",
       "9   9  Si te gusta la risa original desgarradora, te ...    positivo"
      ]
     },
     "execution_count": 4,
     "metadata": {},
     "output_type": "execute_result"
    }
   ],
   "source": [
    "df = pd.read_csv('train.csv', sep=',')\n",
    "df.head(10)"
   ]
  },
  {
   "cell_type": "markdown",
   "metadata": {},
   "source": [
    "Podemos observar que contamos con un total de 50000 reviews"
   ]
  },
  {
   "cell_type": "code",
   "execution_count": 5,
   "metadata": {},
   "outputs": [
    {
     "data": {
      "text/plain": [
       "(50000, 3)"
      ]
     },
     "execution_count": 5,
     "metadata": {},
     "output_type": "execute_result"
    }
   ],
   "source": [
    "df.shape"
   ]
  },
  {
   "cell_type": "markdown",
   "metadata": {},
   "source": [
    "Como se puede observar en el siguiente grafico, veremos que la distribucion con mitad de reviews positivas y mitad de reviews negativas."
   ]
  },
  {
   "cell_type": "code",
   "execution_count": 6,
   "metadata": {},
   "outputs": [
    {
     "data": {
      "image/png": "[encoded data removed]",
      "text/plain": [
       "<Figure size 640x480 with 1 Axes>"
      ]
     },
     "metadata": {},
     "output_type": "display_data"
    }
   ],
   "source": [
    "sns.countplot(df['sentimiento'], color='blue')\n",
    "plt.xlabel('Canttidad de reviews')\n",
    "plt.title('Cantidad de reviews positivos y negativos')\n",
    "plt.show()"
   ]
  },
  {
   "cell_type": "markdown",
   "metadata": {},
   "source": [
    "A continuacion vamos a adentrarnos a analizar las caracteristicas de las reviews en general."
   ]
  },
  {
   "cell_type": "markdown",
   "metadata": {},
   "source": [
    "En primer lugar vamos a analizar el dataset para ver si contiene emojis"
   ]
  },
  {
   "cell_type": "code",
   "execution_count": 7,
   "metadata": {},
   "outputs": [
    {
     "ename": "NameError",
     "evalue": "name 'emoji_count' is not defined",
     "output_type": "error",
     "traceback": [
      "\u001b[0;31m---------------------------------------------------------------------------\u001b[0m",
      "\u001b[0;31mNameError\u001b[0m                                 Traceback (most recent call last)",
      "\u001b[1;32m/home/mateov/tp2_orga/tp2/7506R_TP2_GRUPO23_ENTREGA.ipynb Cell 14\u001b[0m line \u001b[0;36m1\n\u001b[0;32m----> <a href='vscode-notebook-cell://wsl%2Bubuntu/home/mateov/tp2_orga/tp2/7506R_TP2_GRUPO23_ENTREGA.ipynb#Y503sdnNjb2RlLXJlbW90ZQ%3D%3D?line=0'>1</a>\u001b[0m df[\u001b[39m'\u001b[39m\u001b[39mtiene_emoji\u001b[39m\u001b[39m'\u001b[39m] \u001b[39m=\u001b[39m df[\u001b[39m'\u001b[39m\u001b[39mreview_es\u001b[39m\u001b[39m'\u001b[39m]\u001b[39m.\u001b[39mapply(emoji_count)\n\u001b[1;32m      <a href='vscode-notebook-cell://wsl%2Bubuntu/home/mateov/tp2_orga/tp2/7506R_TP2_GRUPO23_ENTREGA.ipynb#Y503sdnNjb2RlLXJlbW90ZQ%3D%3D?line=1'>2</a>\u001b[0m cantidad_emojis \u001b[39m=\u001b[39m df[\u001b[39m'\u001b[39m\u001b[39mtiene_emoji\u001b[39m\u001b[39m'\u001b[39m]\u001b[39m.\u001b[39mvalue_counts()\u001b[39m.\u001b[39mreset_index()\n\u001b[1;32m      <a href='vscode-notebook-cell://wsl%2Bubuntu/home/mateov/tp2_orga/tp2/7506R_TP2_GRUPO23_ENTREGA.ipynb#Y503sdnNjb2RlLXJlbW90ZQ%3D%3D?line=2'>3</a>\u001b[0m cantidad_emojis\u001b[39m.\u001b[39mcolumns \u001b[39m=\u001b[39m [\u001b[39m'\u001b[39m\u001b[39mcantidad_emojis\u001b[39m\u001b[39m'\u001b[39m, \u001b[39m'\u001b[39m\u001b[39mcantidad_filas\u001b[39m\u001b[39m'\u001b[39m]\n",
      "\u001b[0;31mNameError\u001b[0m: name 'emoji_count' is not defined"
     ]
    }
   ],
   "source": [
    "df['tiene_emoji'] = df['review_es'].apply(emoji_count)\n",
    "cantidad_emojis = df['tiene_emoji'].value_counts().reset_index()\n",
    "cantidad_emojis.columns = ['cantidad_emojis', 'cantidad_filas']\n",
    "cantidad_emojis"
   ]
  },
  {
   "cell_type": "markdown",
   "metadata": {},
   "source": [
    "Por otro lado, buscaremos saber como se distribuye la longitud de las reviews. Para ello, vamos a calcular la cantidad de palabras de cada review."
   ]
  },
  {
   "cell_type": "code",
   "execution_count": 8,
   "metadata": {},
   "outputs": [],
   "source": [
    "df['cantidad_de_palabras'] = df['review_es'].apply(cantidad_de_palabras)"
   ]
  },
  {
   "cell_type": "code",
   "execution_count": 9,
   "metadata": {},
   "outputs": [
    {
     "data": {
      "text/plain": [
       "count    50000.000000\n",
       "mean       237.233680\n",
       "std        179.529306\n",
       "min          6.000000\n",
       "25%        123.000000\n",
       "50%        172.000000\n",
       "75%        293.000000\n",
       "max       2450.000000\n",
       "Name: cantidad_de_palabras, dtype: float64"
      ]
     },
     "execution_count": 9,
     "metadata": {},
     "output_type": "execute_result"
    }
   ],
   "source": [
    "df['cantidad_de_palabras'].describe()"
   ]
  },
  {
   "cell_type": "markdown",
   "metadata": {},
   "source": [
    "Ahora realizaremos un analisis grafico de la cantidad de palabras para ver si encontramos ciertas tendencias."
   ]
  },
  {
   "cell_type": "code",
   "execution_count": 10,
   "metadata": {},
   "outputs": [
    {
     "data": {
      "image/png": "[encoded data removed]",
      "text/plain": [
       "<Figure size 1400x400 with 2 Axes>"
      ]
     },
     "metadata": {},
     "output_type": "display_data"
    }
   ],
   "source": [
    "sns.set_style('whitegrid')\n",
    "fig, (ax1, ax2) = plt.subplots(1, 2, figsize=(14, 4))\n",
    "\n",
    "sns.kdeplot(df['cantidad_de_palabras'], fill=True, ax=ax1).set_title('Distribución de la cantidad de palabras por review')\n",
    "ax1.set_ylabel('Densidad')\n",
    "ax1.set_xlabel('Cantidad de palabras')\n",
    "\n",
    "sns.histplot(df['cantidad_de_palabras'],  ax=ax2, bins=150, kde=False).set_title('Distribución de la cantidad de palabras por review')\n",
    "ax2.set_xlabel('Cantidad de palabras')\n",
    "ax2.set_ylabel('Cantidad de reviews')\n",
    "\n",
    "plt.title('Cantidad de palabras por review')\n",
    "plt.tight_layout()\n",
    "plt.show()"
   ]
  },
  {
   "cell_type": "code",
   "execution_count": 11,
   "metadata": {},
   "outputs": [
    {
     "data": {
      "image/png": "[encoded data removed]",
      "text/plain": [
       "<Figure size 1200x800 with 1 Axes>"
      ]
     },
     "metadata": {},
     "output_type": "display_data"
    }
   ],
   "source": [
    "sns.set_style('whitegrid')\n",
    "plt.figure(figsize=(12, 8))\n",
    "sns.boxplot(df['cantidad_de_palabras'], color='blue')\n",
    "plt.ylabel('Cantidad de palabras')\n",
    "plt.title('Cantidad de palabras por review')\n",
    "plt.show()"
   ]
  },
  {
   "cell_type": "markdown",
   "metadata": {},
   "source": [
    "Como se puede observar en el boxplot de arriba, contamos con bastantes outliers en la cantidad de palabras de las reviews. Por lo tanto, vamos a utilizar otras tecnicas como el z-score y z-score modificado para ver cuantas reviews serian consideradas outliers."
   ]
  },
  {
   "cell_type": "code",
   "execution_count": 12,
   "metadata": {},
   "outputs": [],
   "source": [
    "df['zscore'] = (df['cantidad_de_palabras'] - df['cantidad_de_palabras'].mean()) / df['cantidad_de_palabras'].std()"
   ]
  },
  {
   "cell_type": "code",
   "execution_count": 13,
   "metadata": {},
   "outputs": [
    {
     "data": {
      "text/plain": [
       "(1240, 5)"
      ]
     },
     "execution_count": 13,
     "metadata": {},
     "output_type": "execute_result"
    }
   ],
   "source": [
    "df_z_score = df[(df['zscore'] > 3) | (df['zscore'] < -3)]\n",
    "df_z_score.shape"
   ]
  },
  {
   "cell_type": "code",
   "execution_count": 14,
   "metadata": {},
   "outputs": [
    {
     "data": {
      "text/plain": [
       "(4320, 6)"
      ]
     },
     "execution_count": 14,
     "metadata": {},
     "output_type": "execute_result"
    }
   ],
   "source": [
    "mediana_cantidad_de_palabras=np.median(df['cantidad_de_palabras'])\n",
    "MAD=np.median(np.absolute(df['cantidad_de_palabras']-mediana_cantidad_de_palabras))\n",
    "\n",
    "df['zm_cantidad_de_palabras']=(df['cantidad_de_palabras'] - mediana_cantidad_de_palabras)*0.6745/MAD\n",
    "df[np.absolute(df['zm_cantidad_de_palabras'] > 3.5)].shape"
   ]
  },
  {
   "cell_type": "code",
   "execution_count": 15,
   "metadata": {},
   "outputs": [
    {
     "data": {
      "image/png": "[encoded data removed]",
      "text/plain": [
       "<Figure size 640x480 with 1 Axes>"
      ]
     },
     "metadata": {},
     "output_type": "display_data"
    }
   ],
   "source": [
    "sns.countplot(df[np.absolute(df['zm_cantidad_de_palabras'] > 3.5)]['sentimiento'])\n",
    "plt.xlabel('Label')\n",
    "plt.title('Cantidad de reviews positivos y negativos')\n",
    "plt.show()"
   ]
  },
  {
   "cell_type": "markdown",
   "metadata": {},
   "source": [
    "Por otro lado, creimos que tambien seria interesante ver como se distribuye la cantidad de palabras de las reviews en funcion de su sentimiento."
   ]
  },
  {
   "cell_type": "code",
   "execution_count": 16,
   "metadata": {},
   "outputs": [
    {
     "name": "stderr",
     "output_type": "stream",
     "text": [
      "/tmp/ipykernel_85393/2888992444.py:3: FutureWarning: \n",
      "\n",
      "Passing `palette` without assigning `hue` is deprecated and will be removed in v0.14.0. Assign the `x` variable to `hue` and set `legend=False` for the same effect.\n",
      "\n",
      "  sns.boxplot(x='sentimiento', y='cantidad_de_palabras', data=df, palette='rainbow')\n"
     ]
    },
    {
     "data": {
      "image/png": "[encoded data removed]",
      "text/plain": [
       "<Figure size 1200x800 with 1 Axes>"
      ]
     },
     "metadata": {},
     "output_type": "display_data"
    }
   ],
   "source": [
    "sns.set_style('whitegrid')\n",
    "plt.figure(figsize=(12, 8))\n",
    "sns.boxplot(x='sentimiento', y='cantidad_de_palabras', data=df, palette='rainbow')\n",
    "plt.xlabel('Sentimiento')\n",
    "plt.ylabel('Cantidad de palabras')\n",
    "plt.title('Cantidad de palabras por review')\n",
    "plt.show()"
   ]
  },
  {
   "cell_type": "markdown",
   "metadata": {},
   "source": [
    "Ademas, otro factor que creemos que puede ser importante es la cantidad de caracteres de las reviews. Por lo tanto, vamos a calcular la cantidad de caracteres de cada review. Esta informacion nos servira luego a la hora de traducir los reviews ya que la API de Google Translate tiene un limite de caracteres por request de 5000 caracteres."
   ]
  },
  {
   "cell_type": "code",
   "execution_count": 17,
   "metadata": {},
   "outputs": [
    {
     "data": {
      "text/plain": [
       "count    50000.000000\n",
       "mean      1398.058240\n",
       "std       1037.688582\n",
       "min         39.000000\n",
       "25%        747.000000\n",
       "50%       1037.000000\n",
       "75%       1711.000000\n",
       "max      13465.000000\n",
       "Name: longitud_review, dtype: float64"
      ]
     },
     "execution_count": 17,
     "metadata": {},
     "output_type": "execute_result"
    }
   ],
   "source": [
    "df['longitud_review'] = df['review_es'].apply(lambda x: len(str(x)))\n",
    "df['longitud_review'].describe()"
   ]
  },
  {
   "cell_type": "code",
   "execution_count": 18,
   "metadata": {},
   "outputs": [
    {
     "data": {
      "image/png": "[encoded data removed]",
      "text/plain": [
       "<Figure size 1400x400 with 2 Axes>"
      ]
     },
     "metadata": {},
     "output_type": "display_data"
    }
   ],
   "source": [
    "sns.set_style('whitegrid')\n",
    "fig, (ax1, ax2) = plt.subplots(1, 2, figsize=(14, 4))\n",
    "\n",
    "sns.kdeplot(df['longitud_review'], fill=True, ax=ax1).set_title('Distribución de la cantidad de caracteres por review')\n",
    "ax1.set_ylabel('Densidad')\n",
    "ax1.set_xlabel('Cantidad de caracteres por review')\n",
    "\n",
    "sns.histplot(df['longitud_review'],  ax=ax2, bins=150, kde=False).set_title('Cantidad de caracteres por review')\n",
    "ax2.set_xlabel('Cantidad de caracteres por review')\n",
    "ax2.set_ylabel('Cantidad de reviews')\n",
    "\n",
    "plt.tight_layout()\n",
    "plt.show()"
   ]
  },
  {
   "cell_type": "markdown",
   "metadata": {},
   "source": [
    "Luego, verificamos que no haya reviews duplicadas. En caso positivo, durante el preprocesamiento las eliminaremos."
   ]
  },
  {
   "cell_type": "code",
   "execution_count": 19,
   "metadata": {},
   "outputs": [
    {
     "data": {
      "text/plain": [
       "401"
      ]
     },
     "execution_count": 19,
     "metadata": {},
     "output_type": "execute_result"
    }
   ],
   "source": [
    "df['review_es'].duplicated().sum()"
   ]
  },
  {
   "cell_type": "markdown",
   "metadata": {},
   "source": [
    "Otro analisis importante que esten en otro idioma ya que distorsionarian fuertemente el analisis. En caso positivo, durante el preprocesamiento las intentaremos traducir al castellano. La otra opcion seria eliminarlas, veremos cual nos brinda mejores resultados."
   ]
  },
  {
   "cell_type": "code",
   "execution_count": 20,
   "metadata": {},
   "outputs": [],
   "source": [
    "if os.path.isfile('train_con_idioma.csv'):\n",
    "    df = pd.read_csv('train_con_idioma.csv', sep=',')\n",
    "else:\n",
    "    df['idioma'] = df['review_es'].apply(detect)\n",
    "    df['idioma'].value_counts()"
   ]
  },
  {
   "cell_type": "code",
   "execution_count": 21,
   "metadata": {},
   "outputs": [],
   "source": [
    "if not os.path.isfile('train_con_idioma.csv'):\n",
    "    df.to_csv('train_con_idioma.csv', index=False)"
   ]
  },
  {
   "cell_type": "markdown",
   "metadata": {},
   "source": [
    "Por ultimo, vamos a verificar la cantidad total de palabras unicas en nuestro dataset."
   ]
  },
  {
   "cell_type": "code",
   "execution_count": 22,
   "metadata": {},
   "outputs": [
    {
     "name": "stdout",
     "output_type": "stream",
     "text": [
      "Numero de palabras unicas en el dataset pre preprocesamiento: 559112\n"
     ]
    }
   ],
   "source": [
    "tokens = []\n",
    "for review in df['review_es']:\n",
    "    tokens.extend(review.split())\n",
    "\n",
    "palabras_unicas = set(tokens)\n",
    "numero_de_palabras_unicas = len(palabras_unicas)\n",
    "\n",
    "print(\"Numero de palabras unicas en el dataset pre preprocesamiento:\", numero_de_palabras_unicas)"
   ]
  },
  {
   "cell_type": "markdown",
   "metadata": {},
   "source": [
    "## Preprocesamiento"
   ]
  },
  {
   "cell_type": "markdown",
   "metadata": {},
   "source": [
    "Comenzamos eliminando los duplicados identificados anteriormente ya que no nos aportan informacion adicional."
   ]
  },
  {
   "cell_type": "code",
   "execution_count": 23,
   "metadata": {},
   "outputs": [
    {
     "data": {
      "text/plain": [
       "(49599, 8)"
      ]
     },
     "execution_count": 23,
     "metadata": {},
     "output_type": "execute_result"
    }
   ],
   "source": [
    "df = df.drop_duplicates(subset=['review_es'])\n",
    "df.shape"
   ]
  },
  {
   "cell_type": "markdown",
   "metadata": {},
   "source": [
    "Elegimos eliminar las reviews que no esten en castellano ya que con la traduccion nuestros modelos empeoraban su performance."
   ]
  },
  {
   "cell_type": "code",
   "execution_count": 24,
   "metadata": {},
   "outputs": [
    {
     "data": {
      "text/plain": [
       "idioma\n",
       "es    47782\n",
       "Name: count, dtype: int64"
      ]
     },
     "execution_count": 24,
     "metadata": {},
     "output_type": "execute_result"
    }
   ],
   "source": [
    "df = df[df['idioma'].isin(['es'])]\n",
    "df['idioma'].value_counts()"
   ]
  },
  {
   "cell_type": "markdown",
   "metadata": {},
   "source": [
    "Como pudimos ver anteriormente, existen unas reviews las cuales contienen emojis pero a pesar de que sean muy pocos igualmente vamos a convertirlos a texto."
   ]
  },
  {
   "cell_type": "code",
   "execution_count": 25,
   "metadata": {},
   "outputs": [
    {
     "ename": "NameError",
     "evalue": "name 'demojize' is not defined",
     "output_type": "error",
     "traceback": [
      "\u001b[0;31m---------------------------------------------------------------------------\u001b[0m",
      "\u001b[0;31mNameError\u001b[0m                                 Traceback (most recent call last)",
      "\u001b[1;32m/home/mateov/tp2_orga/tp2/7506R_TP2_GRUPO23_ENTREGA.ipynb Cell 44\u001b[0m line \u001b[0;36m1\n\u001b[0;32m----> <a href='vscode-notebook-cell://wsl%2Bubuntu/home/mateov/tp2_orga/tp2/7506R_TP2_GRUPO23_ENTREGA.ipynb#Y241sdnNjb2RlLXJlbW90ZQ%3D%3D?line=0'>1</a>\u001b[0m df[\u001b[39m'\u001b[39m\u001b[39mreview_es\u001b[39m\u001b[39m'\u001b[39m] \u001b[39m=\u001b[39m df[\u001b[39m'\u001b[39m\u001b[39mreview_es\u001b[39m\u001b[39m'\u001b[39m]\u001b[39m.\u001b[39mapply(demojize)\n",
      "\u001b[0;31mNameError\u001b[0m: name 'demojize' is not defined"
     ]
    }
   ],
   "source": [
    "df['review_es'] = df['review_es'].apply(demojize)"
   ]
  },
  {
   "cell_type": "code",
   "execution_count": null,
   "metadata": {},
   "outputs": [
    {
     "name": "stderr",
     "output_type": "stream",
     "text": [
      "/var/folders/pm/lyty8ft16l3dvy_kdh07l4dc0000gn/T/ipykernel_79381/3651782182.py:1: SettingWithCopyWarning: \n",
      "A value is trying to be set on a copy of a slice from a DataFrame.\n",
      "Try using .loc[row_indexer,col_indexer] = value instead\n",
      "\n",
      "See the caveats in the documentation: https://pandas.pydata.org/pandas-docs/stable/user_guide/indexing.html#returning-a-view-versus-a-copy\n",
      "  df['tiene_emoji'] = df['review_es'].apply(emoji_count)\n"
     ]
    },
    {
     "data": {
      "text/html": [
       "<div>\n",
       "<style scoped>\n",
       "    .dataframe tbody tr th:only-of-type {\n",
       "        vertical-align: middle;\n",
       "    }\n",
       "\n",
       "    .dataframe tbody tr th {\n",
       "        vertical-align: top;\n",
       "    }\n",
       "\n",
       "    .dataframe thead th {\n",
       "        text-align: right;\n",
       "    }\n",
       "</style>\n",
       "<table border=\"1\" class=\"dataframe\">\n",
       "  <thead>\n",
       "    <tr style=\"text-align: right;\">\n",
       "      <th></th>\n",
       "      <th>cantidad_emojis</th>\n",
       "      <th>cantidad_filas</th>\n",
       "    </tr>\n",
       "  </thead>\n",
       "  <tbody>\n",
       "    <tr>\n",
       "      <th>0</th>\n",
       "      <td>0</td>\n",
       "      <td>47783</td>\n",
       "    </tr>\n",
       "  </tbody>\n",
       "</table>\n",
       "</div>"
      ],
      "text/plain": [
       "   cantidad_emojis  cantidad_filas\n",
       "0                0           47783"
      ]
     },
     "execution_count": 103,
     "metadata": {},
     "output_type": "execute_result"
    }
   ],
   "source": [
    "df['tiene_emoji'] = df['review_es'].apply(emoji_count)\n",
    "cantidad_emojis = df['tiene_emoji'].value_counts().reset_index()\n",
    "cantidad_emojis.columns = ['cantidad_emojis', 'cantidad_filas']\n",
    "cantidad_emojis"
   ]
  },
  {
   "cell_type": "markdown",
   "metadata": {},
   "source": [
    "Teniendo los emojis convertidos a texto podemos continuar trabajando con el dataset"
   ]
  },
  {
   "cell_type": "markdown",
   "metadata": {},
   "source": [
    "A continuacion, vamos a eliminar todas las reviews que tengan el z-score modificado mayor a 3.5 en modulo. Decidimos tener mas en cuenta este metodo ya que creemos que es mas efectivo que el z-score normal debido a que los outliers distorsionan notablemente esta metrica."
   ]
  },
  {
   "cell_type": "code",
   "execution_count": 26,
   "metadata": {},
   "outputs": [
    {
     "data": {
      "text/plain": [
       "(44142, 8)"
      ]
     },
     "execution_count": 26,
     "metadata": {},
     "output_type": "execute_result"
    }
   ],
   "source": [
    "df = df[np.absolute(df['zm_cantidad_de_palabras'] <= 3.5)]\n",
    "df.shape"
   ]
  },
  {
   "cell_type": "markdown",
   "metadata": {},
   "source": [
    "Con esto, eliminamos casi un 10% de samples del dataset original, entre los duplicados, las reviews que no estaban en castellano y las que tenian un z-score modificado mayor a 3.5 en modulo."
   ]
  },
  {
   "cell_type": "code",
   "execution_count": 27,
   "metadata": {},
   "outputs": [
    {
     "data": {
      "image/png": "[encoded data removed]",
      "text/plain": [
       "<Figure size 1400x400 with 2 Axes>"
      ]
     },
     "metadata": {},
     "output_type": "display_data"
    }
   ],
   "source": [
    "sns.set_style('whitegrid')\n",
    "fig, (ax1, ax2) = plt.subplots(1, 2, figsize=(14, 4))\n",
    "\n",
    "sns.boxplot(df['cantidad_de_palabras'], fill=True, ax=ax1).set_title('Distribución de la cantidad de palabras por review')\n",
    "ax1.set_ylabel('Cantidad reviews')\n",
    "ax1.set_xlabel('Cantidad de palabras')\n",
    "\n",
    "sns.histplot(df['longitud_review'],  ax=ax2, bins=150, kde=False).set_title('Cantidad de caracteres por review')\n",
    "ax2.set_xlabel('Cantidad de caracteres por review')\n",
    "ax2.set_ylabel('Cantidad de reviews')\n",
    "\n",
    "plt.tight_layout()\n",
    "plt.show()"
   ]
  },
  {
   "cell_type": "code",
   "execution_count": 28,
   "metadata": {},
   "outputs": [
    {
     "name": "stderr",
     "output_type": "stream",
     "text": [
      "/tmp/ipykernel_85393/3171170284.py:3: FutureWarning: \n",
      "\n",
      "Passing `palette` without assigning `hue` is deprecated and will be removed in v0.14.0. Assign the `x` variable to `hue` and set `legend=False` for the same effect.\n",
      "\n",
      "  sns.boxplot(x='sentimiento', y='cantidad_de_palabras', data=df, palette='rainbow')\n"
     ]
    },
    {
     "data": {
      "text/plain": [
       "Text(0.5, 1.0, 'Cantidad de palabras por review')"
      ]
     },
     "execution_count": 28,
     "metadata": {},
     "output_type": "execute_result"
    },
    {
     "data": {
      "image/png": "[encoded data removed]",
      "text/plain": [
       "<Figure size 1200x800 with 1 Axes>"
      ]
     },
     "metadata": {},
     "output_type": "display_data"
    }
   ],
   "source": [
    "sns.set_style('whitegrid')\n",
    "plt.figure(figsize=(12, 8))\n",
    "sns.boxplot(x='sentimiento', y='cantidad_de_palabras', data=df, palette='rainbow')\n",
    "plt.xlabel('Sentimiento')\n",
    "plt.ylabel('Cantidad de palabras')\n",
    "plt.title('Cantidad de palabras por review')"
   ]
  },
  {
   "cell_type": "markdown",
   "metadata": {},
   "source": [
    "Ademas, vamos a analizar que luego de la eliminacion de estos reviews nos quede una distribucion parecida de samples positivos y negativos."
   ]
  },
  {
   "cell_type": "code",
   "execution_count": 29,
   "metadata": {},
   "outputs": [
    {
     "data": {
      "image/png": "[encoded data removed]",
      "text/plain": [
       "<Figure size 640x480 with 1 Axes>"
      ]
     },
     "metadata": {},
     "output_type": "display_data"
    }
   ],
   "source": [
    "sns.countplot(df['sentimiento'])\n",
    "plt.xlabel('Label')\n",
    "plt.title('Cantidad de reviews positivos y negativos')\n",
    "plt.show()"
   ]
  },
  {
   "cell_type": "markdown",
   "metadata": {},
   "source": [
    "La cantidad sigue siendo bastante pareja, por lo tanto, podemos continuar con el preprocesamiento."
   ]
  },
  {
   "cell_type": "markdown",
   "metadata": {},
   "source": [
    "Como habiamos mencionado anteriormente, vamos a traducir las reviews que no esten en castellano. Para ello, vamos a utilizar la API de Google Translate. "
   ]
  },
  {
   "cell_type": "code",
   "execution_count": null,
   "metadata": {},
   "outputs": [],
   "source": [
    "from deep_translator import GoogleTranslator\n",
    "\n",
    "def traducir_al_castellano(texto, idioma):\n",
    "    traduccion = GoogleTranslator(source='english', target='spanish').translate(texto)\n",
    "    return traduccion\n",
    "\n",
    "if not os.path.isfile('datasets/train_con_traduccion.csv'):\n",
    "    for index, row in df.iterrows():\n",
    "        if row['idioma'] == 'en':\n",
    "            df.loc[index, 'review_es'] = traducir_al_castellano(row['review_es'],'en' )\n",
    "else:\n",
    "    df = pd.read_csv('train_con_traduccion.csv', sep=',')"
   ]
  },
  {
   "cell_type": "markdown",
   "metadata": {},
   "source": [
    "A continuacion realizaremos un paso muy importante en este tp, el cual va a reducir el tiempo de entrenaminto de los modelos, va a mejorar su performance y va a evitar que los modelos se sobreajusten. Este paso es el preprocesamiento de las reviews."
   ]
  },
  {
   "cell_type": "markdown",
   "metadata": {},
   "source": [
    "Los pasos a realizar son los siguientes:\n",
    "\n",
    "- limpiar texto = Elimina los caracteres que no sean un caracter alfanumerico y los reemplaza por espacios en blanco. Elimina las palabras que tienen solo un carácter alfabético y las reemplaza por espacios en blanco. Sustituye múltiples espacios en blanco por uno solo. Convierte todos los caracteres del texto a minúsculas.\n",
    "\n",
    "- filtrar stopwords = elimina las stopwords que son palabras comunes sin significado específico.\n",
    "\n",
    "- stem palabras = reduce cada token a su raíz (o \"stem\").\n",
    "\n",
    "- tokenize = realiza una serie de operaciones de preprocesamiento y devuelve el texto tokenizado y procesado."
   ]
  },
  {
   "cell_type": "code",
   "execution_count": 31,
   "metadata": {},
   "outputs": [],
   "source": [
    "df_preprocesado = df.copy()\n",
    "\n",
    "tokenizer = ToktokTokenizer() \n",
    "STOPWORDS = set(stopwords.words(\"spanish\"))\n",
    "stemmer = nltk.stem.SnowballStemmer(\"spanish\")\n",
    "\n",
    "def limpiar_texto(texto):\n",
    "    # Eliminamos los caracteres especiales\n",
    "    texto = re.sub(r'\\W', ' ', str(texto))\n",
    "    # Eliminado las palabras que tengo un solo caracter\n",
    "    texto = re.sub(r'\\s+[a-zA-Z]\\s+', ' ', texto)\n",
    "    # Sustituir los espacios en blanco en uno solo\n",
    "    texto = re.sub(r'\\s+', ' ', texto, flags=re.I)\n",
    "    # Convertimos textos a minusculas\n",
    "    texto = texto.lower()\n",
    "    return texto\n",
    "\n",
    "# def filtrar_stopword_digitos(tokens):\n",
    "#     return [token for token in tokens if token not in STOPWORDS \n",
    "#             and not token.isdigit()]\n",
    "\n",
    "def filtrar_stopword(tokens):\n",
    "     return [token for token in tokens if token not in STOPWORDS]\n",
    "\n",
    "def stem_palabras(tokens):\n",
    "    return [stemmer.stem(token) for token in tokens]\n",
    "\n",
    "def tokenize(texto):\n",
    "    text_cleaned = limpiar_texto(texto)\n",
    "    tokens = [word for word in tokenizer.tokenize(text_cleaned) if len(word) > 1]\n",
    "    tokens = filtrar_stopword(tokens)\n",
    "    stems = stem_palabras(tokens)\n",
    "    stems = ' '.join(stems)\n",
    "    return stems"
   ]
  },
  {
   "cell_type": "code",
   "execution_count": 32,
   "metadata": {},
   "outputs": [],
   "source": [
    "df_preprocesado['review_es'] = df_preprocesado['review_es'].apply(tokenize)"
   ]
  },
  {
   "cell_type": "code",
   "execution_count": 33,
   "metadata": {},
   "outputs": [],
   "source": [
    "if not os.path.isfile('datasets/train_preprocesado_sin_traduccion.csv'):\n",
    "    df_preprocesado.to_csv('train_preprocesado_sin_traduccion.csv', index=False)"
   ]
  },
  {
   "cell_type": "code",
   "execution_count": 3,
   "metadata": {},
   "outputs": [],
   "source": [
    "df_preprocesado = pd.read_csv('train_preprocesado_sin_traduccion.csv', sep=',')"
   ]
  },
  {
   "cell_type": "markdown",
   "metadata": {},
   "source": [
    "Con esto podemos observar brevemente como quedan las reviews luego de este preprocesamiento."
   ]
  },
  {
   "cell_type": "code",
   "execution_count": 4,
   "metadata": {},
   "outputs": [
    {
     "data": {
      "text/html": [
       "<div>\n",
       "<style scoped>\n",
       "    .dataframe tbody tr th:only-of-type {\n",
       "        vertical-align: middle;\n",
       "    }\n",
       "\n",
       "    .dataframe tbody tr th {\n",
       "        vertical-align: top;\n",
       "    }\n",
       "\n",
       "    .dataframe thead th {\n",
       "        text-align: right;\n",
       "    }\n",
       "</style>\n",
       "<table border=\"1\" class=\"dataframe\">\n",
       "  <thead>\n",
       "    <tr style=\"text-align: right;\">\n",
       "      <th></th>\n",
       "      <th>ID</th>\n",
       "      <th>review_es</th>\n",
       "      <th>sentimiento</th>\n",
       "      <th>cantidad_de_palabras</th>\n",
       "      <th>zscore</th>\n",
       "      <th>zm_cantidad_de_palabras</th>\n",
       "      <th>longitud_review</th>\n",
       "      <th>idioma</th>\n",
       "    </tr>\n",
       "  </thead>\n",
       "  <tbody>\n",
       "    <tr>\n",
       "      <th>0</th>\n",
       "      <td>0</td>\n",
       "      <td>critic mencion despues ver sol oz episodi enga...</td>\n",
       "      <td>positivo</td>\n",
       "      <td>345</td>\n",
       "      <td>0.600271</td>\n",
       "      <td>1.823258</td>\n",
       "      <td>2004</td>\n",
       "      <td>es</td>\n",
       "    </tr>\n",
       "    <tr>\n",
       "      <th>1</th>\n",
       "      <td>1</td>\n",
       "      <td>pequeñ pequeñ produccion tecnic filmacion incu...</td>\n",
       "      <td>positivo</td>\n",
       "      <td>161</td>\n",
       "      <td>-0.424631</td>\n",
       "      <td>-0.115930</td>\n",
       "      <td>1061</td>\n",
       "      <td>es</td>\n",
       "    </tr>\n",
       "    <tr>\n",
       "      <th>2</th>\n",
       "      <td>2</td>\n",
       "      <td>pens maner maravill pas tiemp fin seman veran ...</td>\n",
       "      <td>positivo</td>\n",
       "      <td>173</td>\n",
       "      <td>-0.357789</td>\n",
       "      <td>0.010539</td>\n",
       "      <td>989</td>\n",
       "      <td>es</td>\n",
       "    </tr>\n",
       "    <tr>\n",
       "      <th>3</th>\n",
       "      <td>3</td>\n",
       "      <td>basic famili niñ pequeñ jak piens zombi armari...</td>\n",
       "      <td>negativo</td>\n",
       "      <td>137</td>\n",
       "      <td>-0.558314</td>\n",
       "      <td>-0.368867</td>\n",
       "      <td>790</td>\n",
       "      <td>es</td>\n",
       "    </tr>\n",
       "    <tr>\n",
       "      <th>4</th>\n",
       "      <td>4</td>\n",
       "      <td>amor tiemp pett mattei pelicul visual impresio...</td>\n",
       "      <td>positivo</td>\n",
       "      <td>237</td>\n",
       "      <td>-0.001302</td>\n",
       "      <td>0.685039</td>\n",
       "      <td>1406</td>\n",
       "      <td>es</td>\n",
       "    </tr>\n",
       "    <tr>\n",
       "      <th>5</th>\n",
       "      <td>5</td>\n",
       "      <td>probabl pelicul favorit tiemp histori desinter...</td>\n",
       "      <td>positivo</td>\n",
       "      <td>123</td>\n",
       "      <td>-0.636295</td>\n",
       "      <td>-0.516414</td>\n",
       "      <td>724</td>\n",
       "      <td>es</td>\n",
       "    </tr>\n",
       "    <tr>\n",
       "      <th>6</th>\n",
       "      <td>6</td>\n",
       "      <td>segur gust ver resurreccion seri seahunt dat t...</td>\n",
       "      <td>positivo</td>\n",
       "      <td>157</td>\n",
       "      <td>-0.446911</td>\n",
       "      <td>-0.158086</td>\n",
       "      <td>839</td>\n",
       "      <td>es</td>\n",
       "    </tr>\n",
       "    <tr>\n",
       "      <th>7</th>\n",
       "      <td>7</td>\n",
       "      <td>espectacul ide increibl fresc innov años 70 em...</td>\n",
       "      <td>negativo</td>\n",
       "      <td>168</td>\n",
       "      <td>-0.385640</td>\n",
       "      <td>-0.042156</td>\n",
       "      <td>1034</td>\n",
       "      <td>es</td>\n",
       "    </tr>\n",
       "    <tr>\n",
       "      <th>8</th>\n",
       "      <td>8</td>\n",
       "      <td>alent comentari posit pelicul aqu des ver peli...</td>\n",
       "      <td>negativo</td>\n",
       "      <td>120</td>\n",
       "      <td>-0.653006</td>\n",
       "      <td>-0.548031</td>\n",
       "      <td>708</td>\n",
       "      <td>es</td>\n",
       "    </tr>\n",
       "    <tr>\n",
       "      <th>9</th>\n",
       "      <td>9</td>\n",
       "      <td>si gust ris original desgarr gust pelicul si j...</td>\n",
       "      <td>positivo</td>\n",
       "      <td>31</td>\n",
       "      <td>-1.148747</td>\n",
       "      <td>-1.486008</td>\n",
       "      <td>186</td>\n",
       "      <td>es</td>\n",
       "    </tr>\n",
       "  </tbody>\n",
       "</table>\n",
       "</div>"
      ],
      "text/plain": [
       "   ID                                          review_es sentimiento  \\\n",
       "0   0  critic mencion despues ver sol oz episodi enga...    positivo   \n",
       "1   1  pequeñ pequeñ produccion tecnic filmacion incu...    positivo   \n",
       "2   2  pens maner maravill pas tiemp fin seman veran ...    positivo   \n",
       "3   3  basic famili niñ pequeñ jak piens zombi armari...    negativo   \n",
       "4   4  amor tiemp pett mattei pelicul visual impresio...    positivo   \n",
       "5   5  probabl pelicul favorit tiemp histori desinter...    positivo   \n",
       "6   6  segur gust ver resurreccion seri seahunt dat t...    positivo   \n",
       "7   7  espectacul ide increibl fresc innov años 70 em...    negativo   \n",
       "8   8  alent comentari posit pelicul aqu des ver peli...    negativo   \n",
       "9   9  si gust ris original desgarr gust pelicul si j...    positivo   \n",
       "\n",
       "   cantidad_de_palabras    zscore  zm_cantidad_de_palabras  longitud_review  \\\n",
       "0                   345  0.600271                 1.823258             2004   \n",
       "1                   161 -0.424631                -0.115930             1061   \n",
       "2                   173 -0.357789                 0.010539              989   \n",
       "3                   137 -0.558314                -0.368867              790   \n",
       "4                   237 -0.001302                 0.685039             1406   \n",
       "5                   123 -0.636295                -0.516414              724   \n",
       "6                   157 -0.446911                -0.158086              839   \n",
       "7                   168 -0.385640                -0.042156             1034   \n",
       "8                   120 -0.653006                -0.548031              708   \n",
       "9                    31 -1.148747                -1.486008              186   \n",
       "\n",
       "  idioma  \n",
       "0     es  \n",
       "1     es  \n",
       "2     es  \n",
       "3     es  \n",
       "4     es  \n",
       "5     es  \n",
       "6     es  \n",
       "7     es  \n",
       "8     es  \n",
       "9     es  "
      ]
     },
     "execution_count": 4,
     "metadata": {},
     "output_type": "execute_result"
    }
   ],
   "source": [
    "df_preprocesado.head(10)"
   ]
  },
  {
   "cell_type": "code",
   "execution_count": 36,
   "metadata": {},
   "outputs": [
    {
     "name": "stdout",
     "output_type": "stream",
     "text": [
      "Numero de palabras unicas en el dataset post preprocesamiento: 78654\n"
     ]
    }
   ],
   "source": [
    "tokens = []\n",
    "for review in df_preprocesado['review_es']:\n",
    "    tokens.extend(review.split())\n",
    "\n",
    "palabras_unicas = set(tokens)\n",
    "numero_de_palabras_unicas = len(palabras_unicas)\n",
    "\n",
    "print(\"Numero de palabras unicas en el dataset post preprocesamiento:\", numero_de_palabras_unicas)"
   ]
  },
  {
   "cell_type": "markdown",
   "metadata": {},
   "source": [
    "Se puede observar que el preprocesamiento disminuyo notablemente nuestro bag of words."
   ]
  },
  {
   "cell_type": "markdown",
   "metadata": {},
   "source": [
    "Como ultimo paso del preprocesamiento, dividimos el dataset en train y test. Utilizamos un ratio de 80% para train y 20% para test. Ademas, utilizamos el parametro random_state para que la division sea reproducible. Tambien trasladamos los labels a valores numericos para poder trabajar con ellos."
   ]
  },
  {
   "cell_type": "code",
   "execution_count": 24,
   "metadata": {},
   "outputs": [],
   "source": [
    "df_preprocesado['sentimiento'] = df_preprocesado['sentimiento'].map({'negativo': 0, 'positivo': 1, 0: 0, 1: 1})\n",
    "\n",
    "x_train, x_test, y_train, y_test = train_test_split(df_preprocesado['review_es'], df_preprocesado['sentimiento'], test_size=0.2, random_state=42)"
   ]
  },
  {
   "cell_type": "markdown",
   "metadata": {},
   "source": [
    "## Entrenamiento de modelos"
   ]
  },
  {
   "cell_type": "markdown",
   "metadata": {},
   "source": [
    "Cabe recalcar que para cada modelo utilizamos CounVectorizer y TfidfVectorizer para ver cual nos brindaba mejores resultados. Solo mantenemos el que mejor performance nos brindo. Ademas, utilizamos RandomizedSearchCV para encontrar los mejores hiperparametros para los modelos principales."
   ]
  },
  {
   "cell_type": "markdown",
   "metadata": {},
   "source": [
    "### Modelos de Bayes Naïve"
   ]
  },
  {
   "cell_type": "markdown",
   "metadata": {},
   "source": [
    "#### Bayes Naïve Multinomial"
   ]
  },
  {
   "cell_type": "markdown",
   "metadata": {},
   "source": [
    "##### Vamos a probar en primer lugar con un count vectorizer y luego con un tfidf vectorizer par ver con cual obtenemos merjores resultados"
   ]
  },
  {
   "cell_type": "code",
   "execution_count": 20,
   "metadata": {},
   "outputs": [],
   "source": [
    "modelo_count = make_pipeline(CountVectorizer(), MultinomialNB())\n",
    "modelo_tfidf = Pipeline([('tvec', TfidfVectorizer()), ('mnb',MultinomialNB())])"
   ]
  },
  {
   "cell_type": "code",
   "execution_count": 25,
   "metadata": {},
   "outputs": [
    {
     "name": "stdout",
     "output_type": "stream",
     "text": [
      "Accuracy: 0.8492468003171367\n",
      "Recall: 0.8321550741163056\n",
      "Precision: 0.8598020735155514\n",
      "f1 score: 0.845752694402596\n"
     ]
    }
   ],
   "source": [
    "modelo_count.fit(x_train, y_train)\n",
    "prediccion_count = modelo_count.predict(x_test)\n",
    "\n",
    "mostrar_scores(y_test, prediccion_count)"
   ]
  },
  {
   "cell_type": "code",
   "execution_count": 40,
   "metadata": {},
   "outputs": [
    {
     "name": "stdout",
     "output_type": "stream",
     "text": [
      "Accuracy: 0.8436969079170914\n",
      "Recall: 0.8120866590649943\n",
      "Precision: 0.8649502064610153\n",
      "f1 score: 0.8376852505292872\n"
     ]
    }
   ],
   "source": [
    "modelo_tfidf.fit(x_train, y_train)\n",
    "prediccion_tfidf = modelo_tfidf.predict(x_test)\n",
    "\n",
    "mostrar_scores(y_test, prediccion_tfidf)"
   ]
  },
  {
   "cell_type": "code",
   "execution_count": 41,
   "metadata": {},
   "outputs": [
    {
     "data": {
      "image/png": "[encoded data removed]",
      "text/plain": [
       "<Figure size 1400x400 with 4 Axes>"
      ]
     },
     "metadata": {},
     "output_type": "display_data"
    }
   ],
   "source": [
    "fig, (ax1, ax2) = plt.subplots(1, 2, figsize=(14, 4))\n",
    "\n",
    "matriz_confusion = confusion_matrix(y_test, prediccion_count)\n",
    "sns.heatmap(matriz_confusion, annot=True, fmt='d', cmap='Blues', ax=ax1).set_title('Matriz de confusión count vectorizer')\n",
    "ax1.set_xlabel('Valor predicho')\n",
    "ax1.set_ylabel('Valor real')\n",
    "\n",
    "matriz_confusion = confusion_matrix(y_test, prediccion_tfidf)\n",
    "sns.heatmap(matriz_confusion, annot=True, fmt='d', cmap='Blues', ax=ax2).set_title('Matriz de confusión tfidf vectorizer')\n",
    "ax2.set_xlabel('Valor predicho')\n",
    "ax2.set_ylabel('Valor real')\n",
    "\n",
    "plt.tight_layout()\n",
    "plt.show()"
   ]
  },
  {
   "cell_type": "markdown",
   "metadata": {},
   "source": [
    "Podemos ver que en que en ambos casos nuestro modelo tiende a predecir a una review como negativa. Es por esto que la metrica de recall se ve tan baja comparada a la precision."
   ]
  },
  {
   "cell_type": "code",
   "execution_count": 42,
   "metadata": {},
   "outputs": [
    {
     "name": "stdout",
     "output_type": "stream",
     "text": [
      "Prediccion en train con count vectorizer\n",
      "Accuracy: 0.9045960411180018\n",
      "Recall: 0.8874715261958998\n",
      "Precision: 0.9179478117453025\n",
      "f1 score: 0.9024524423082492\n",
      "----------------------------------------\n",
      "Prediccion en train con tfidf vectorizer\n",
      "Accuracy: 0.8978846317220287\n",
      "Recall: 0.8745444191343964\n",
      "Precision: 0.9162887828162292\n",
      "f1 score: 0.8949300699300698\n"
     ]
    }
   ],
   "source": [
    "prediccion_count_train = modelo_count.predict(x_train)\n",
    "prediccion_tfidf_train = modelo_tfidf.predict(x_train)\n",
    "\n",
    "print(\"Prediccion en train con count vectorizer\")\n",
    "mostrar_scores(y_train, prediccion_count_train)\n",
    "print(\"----------------------------------------\")\n",
    "print(\"Prediccion en train con tfidf vectorizer\")\n",
    "mostrar_scores(y_train, prediccion_tfidf_train)"
   ]
  },
  {
   "cell_type": "markdown",
   "metadata": {},
   "source": [
    "Notamos que en ambos casos, nuestro modelo esta overfitteado."
   ]
  },
  {
   "cell_type": "markdown",
   "metadata": {},
   "source": [
    "Vamos a resolver este limitando la cantidad de features que utiliza el modelo. Para ello, vamos a utilizar el parametro max_features del vectorizer. De ahora en mas continuaremos solo con el count vectorizer ya que obtuvimos mejores resultados con el."
   ]
  },
  {
   "cell_type": "code",
   "execution_count": 43,
   "metadata": {},
   "outputs": [
    {
     "name": "stdout",
     "output_type": "stream",
     "text": [
      "Accuracy: 0.8432438554762713\n",
      "Recall: 0.8389965792474344\n",
      "Precision: 0.8443883406013312\n",
      "f1 score: 0.8416838252116221\n"
     ]
    }
   ],
   "source": [
    "vectorizer = CountVectorizer(max_features=6000)\n",
    "modelo_tfidf = make_pipeline(vectorizer, MultinomialNB(alpha=0.1))\n",
    "modelo_tfidf.fit(x_train, y_train)\n",
    "\n",
    "prediccion = modelo_tfidf.predict(x_test)\n",
    "\n",
    "mostrar_scores(y_test, prediccion)"
   ]
  },
  {
   "cell_type": "code",
   "execution_count": 44,
   "metadata": {},
   "outputs": [
    {
     "name": "stdout",
     "output_type": "stream",
     "text": [
      "Accuracy: 0.858550675388667\n",
      "Recall: 0.8559794988610478\n",
      "Precision: 0.8590615534091559\n",
      "f1 score: 0.857517756796075\n"
     ]
    }
   ],
   "source": [
    "prediccion_train = modelo_tfidf.predict(x_train)\n",
    "\n",
    "mostrar_scores(y_train, prediccion_train)"
   ]
  },
  {
   "cell_type": "markdown",
   "metadata": {},
   "source": [
    "Con esto, podemos ver que nuestro modelo mantuvo su performance. Ademas, podemos ver que ya no esta overfitteado."
   ]
  },
  {
   "cell_type": "markdown",
   "metadata": {},
   "source": [
    "#### Bayes Naive con bigramas"
   ]
  },
  {
   "cell_type": "markdown",
   "metadata": {},
   "source": [
    "Ahora vamos a probar una variante interesante la cual consiste en usar unigramas y bigramas y trigramas. Para ello, vamos a utilizar el parametro ngram_range del vectorizer. "
   ]
  },
  {
   "cell_type": "code",
   "execution_count": 6,
   "metadata": {},
   "outputs": [
    {
     "name": "stdout",
     "output_type": "stream",
     "text": [
      "Accuracy: 0.8516253256314419\n",
      "Recall: 0.85769669327252\n",
      "Precision: 0.8457387002473578\n",
      "f1 score: 0.8516757246376812\n"
     ]
    }
   ],
   "source": [
    "vectorizer = CountVectorizer(ngram_range=(1, 2), max_features=6000)\n",
    "modelo_bigramas = make_pipeline(vectorizer, MultinomialNB(alpha=0.1))\n",
    "modelo_bigramas.fit(x_train, y_train)\n",
    "\n",
    "prediccion = modelo_bigramas.predict(x_test)\n",
    "\n",
    "mostrar_scores(y_test, prediccion)"
   ]
  },
  {
   "cell_type": "code",
   "execution_count": 8,
   "metadata": {},
   "outputs": [
    {
     "data": {
      "image/png": "[encoded data removed]",
      "text/plain": [
       "<Figure size 640x480 with 2 Axes>"
      ]
     },
     "metadata": {},
     "output_type": "display_data"
    }
   ],
   "source": [
    "matriz_confusion = confusion_matrix(y_test, prediccion)\n",
    "sns.heatmap(matriz_confusion, annot=True, fmt='d', cmap='Blues').set_title('Matriz de confusión con bigramas')\n",
    "plt.xlabel('Valor predicho')\n",
    "plt.ylabel('Valor real')\n",
    "plt.show()"
   ]
  },
  {
   "cell_type": "code",
   "execution_count": 7,
   "metadata": {},
   "outputs": [
    {
     "name": "stdout",
     "output_type": "stream",
     "text": [
      "Accuracy: 0.8644408574745844\n",
      "Recall: 0.8773348519362186\n",
      "Precision: 0.8540384721991241\n",
      "f1 score: 0.8655299306160286\n"
     ]
    }
   ],
   "source": [
    "prediccion_train = modelo_bigramas.predict(x_train)\n",
    "\n",
    "mostrar_scores(y_train, prediccion_train)\n"
   ]
  },
  {
   "cell_type": "markdown",
   "metadata": {},
   "source": [
    "Notamos una gran mejoria en la metrica de recall, lo cual es muy bueno ya que nuestro modelo ahora esta prediciendo mejor las reviews negativas. Sin embargo, la metrica de precision disminuyo un poco. El lado positivo es que nuestro modelo sigue sin estar overfitteado."
   ]
  },
  {
   "cell_type": "markdown",
   "metadata": {},
   "source": [
    "#### Bayes Naive Gausseano"
   ]
  },
  {
   "cell_type": "code",
   "execution_count": 5,
   "metadata": {},
   "outputs": [
    {
     "name": "stdout",
     "output_type": "stream",
     "text": [
      "Accuracy: 0.7875184052554083\n",
      "Recall: 0.7863169897377423\n",
      "Precision: 0.7859585137907454\n",
      "f1 score: 0.786137710898313\n"
     ]
    }
   ],
   "source": [
    "vectorizer = TfidfVectorizer(max_features=2000)\n",
    "modelo_gauss = make_pipeline(vectorizer, DenseTransformer(), GaussianNB())\n",
    "modelo_gauss.fit(x_train, y_train)\n",
    "\n",
    "prediccion = modelo_gauss.predict(x_test)\n",
    "\n",
    "mostrar_scores(y_test, prediccion)"
   ]
  },
  {
   "cell_type": "code",
   "execution_count": 6,
   "metadata": {},
   "outputs": [
    {
     "ename": "",
     "evalue": "",
     "output_type": "error",
     "traceback": [
      "\u001b[1;31mThe Kernel crashed while executing code in the the current cell or a previous cell. Please review the code in the cell(s) to identify a possible cause of the failure. Click <a href='https://aka.ms/vscodeJupyterKernelCrash'>here</a> for more info. View Jupyter <a href='command:jupyter.viewOutput'>log</a> for further details."
     ]
    }
   ],
   "source": [
    "prediccion_train = modelo_gauss.predict(x_train)\n",
    "\n",
    "mostrar_scores(y_train, prediccion_train)"
   ]
  },
  {
   "cell_type": "markdown",
   "metadata": {},
   "source": [
    "Notamos que los resultados de este tipo de modelo son muy pobres comparado a los anteriores. Es por ello que no vamos probarlo en profundidad."
   ]
  },
  {
   "cell_type": "markdown",
   "metadata": {},
   "source": [
    "#### Bayes Naive Bernoulli"
   ]
  },
  {
   "cell_type": "code",
   "execution_count": 10,
   "metadata": {},
   "outputs": [
    {
     "name": "stdout",
     "output_type": "stream",
     "text": [
      "Accuracy: 0.8567221655906672\n",
      "Recall: 0.8814139110604333\n",
      "Precision: 0.8383947939262473\n",
      "f1 score: 0.8593663146192329\n"
     ]
    }
   ],
   "source": [
    "vectorizer = TfidfVectorizer(max_features=10000, ngram_range=(1, 2))\n",
    "modelo_bernoulli = make_pipeline(vectorizer, BernoulliNB(\n",
    "))\n",
    "modelo_bernoulli.fit(x_train, y_train)\n",
    "\n",
    "prediccion = modelo_bernoulli.predict(x_test)\n",
    "\n",
    "mostrar_scores(y_test, prediccion)"
   ]
  },
  {
   "cell_type": "code",
   "execution_count": 9,
   "metadata": {},
   "outputs": [
    {
     "data": {
      "image/png": "[encoded data removed]",
      "text/plain": [
       "<Figure size 640x480 with 2 Axes>"
      ]
     },
     "metadata": {},
     "output_type": "display_data"
    }
   ],
   "source": [
    "matriz_confusion = confusion_matrix(y_test, prediccion)\n",
    "sns.heatmap(matriz_confusion, annot=True, fmt='d', cmap='Blues').set_title('Matriz de confusión con bigramas')\n",
    "plt.xlabel('Valor predicho')\n",
    "plt.ylabel('Valor real')\n",
    "plt.show()"
   ]
  },
  {
   "cell_type": "code",
   "execution_count": 11,
   "metadata": {},
   "outputs": [
    {
     "name": "stdout",
     "output_type": "stream",
     "text": [
      "Accuracy: 0.8732761306034604\n",
      "Recall: 0.9013667425968109\n",
      "Precision: 0.852296591459803\n",
      "f1 score: 0.8761451385237053\n"
     ]
    }
   ],
   "source": [
    "prediccion_train = modelo_bernoulli.predict(x_train)\n",
    "\n",
    "mostrar_scores(y_train, prediccion_train)"
   ]
  },
  {
   "cell_type": "markdown",
   "metadata": {},
   "source": [
    "Aqui podemos observar otro gran modelo a tener en cuenta ya que obtuvimos muy buenos resultados. El aspecto positivo de estos modelos de Bayes Naive es que son muy rapidos de entrenar y de predecir."
   ]
  },
  {
   "cell_type": "markdown",
   "metadata": {},
   "source": [
    "#### Busqueda de hiperparametros"
   ]
  },
  {
   "cell_type": "code",
   "execution_count": null,
   "metadata": {},
   "outputs": [],
   "source": [
    "#randomized search cv para bayes naive bernoulli\n",
    "vectorizer = TfidfVectorizer(max_features=10000, ngram_range=(1, 2))\n",
    "X = vectorizer.fit_transform(df_preprocesado['review_es'])\n",
    "y = df_preprocesado['sentimiento'].map({'negativo': 0, 'positivo': 1, 0: 0, 1: 1})\n",
    "\n",
    "modelo_bernoulli_BN = BernoulliNB()\n",
    "\n",
    "cv = StratifiedKFold(n_splits=5, shuffle=True, random_state=42)\n",
    "\n",
    "n_iter = 25\n",
    "param_grid = {'alpha': [0.1, 0.5, 1.0, 1.5, 2.0],\n",
    "                'fit_prior': [True, False]}\n",
    "random_search = RandomizedSearchCV(modelo_bernoulli_BN, param_grid, n_iter=n_iter, cv=cv, scoring='f1', n_jobs=-1, verbose=3, random_state=42)\n",
    "random_search.fit(X, y)"
   ]
  },
  {
   "cell_type": "code",
   "execution_count": null,
   "metadata": {},
   "outputs": [],
   "source": [
    "print(\"Mejor estimador: \")\n",
    "print(random_search.best_estimator_)\n",
    "print(\"Mejor score: \")\n",
    "print(random_search.best_score_)\n",
    "print(\"Mejores parametros: \")\n",
    "print(random_search.best_params_)"
   ]
  },
  {
   "cell_type": "markdown",
   "metadata": {},
   "source": [
    "#### Predicción en los datos de test para kaggle"
   ]
  },
  {
   "cell_type": "code",
   "execution_count": null,
   "metadata": {},
   "outputs": [],
   "source": [
    "df_test = pd.read_csv('test.csv', sep=',')\n",
    "df_test_procesado = df_test.copy()\n",
    "\n",
    "df_test_procesado['review_es'] = df_test_procesado['review_es'].apply(demojize)\n",
    "df_test_procesado['review_es'] = df_test_procesado['review_es'].apply(tokenize)\n",
    "\n",
    "prediccion = modelo_tfidf.predict(df_test_procesado['review_es'])\n",
    "\n",
    "prediccion = np.where(prediccion == 0, 'negativo', 'positivo')\n",
    "\n",
    "df_entrega = df_test.copy()\n",
    "\n",
    "\n",
    "df_entrega['sentimiento'] = prediccion\n",
    "df_entrega.drop('review_es', axis=1, inplace=True)\n",
    "\n",
    "df_entrega.to_csv('entrega.csv', index=False)"
   ]
  },
  {
   "cell_type": "markdown",
   "metadata": {},
   "source": [
    "### Regresión Logística"
   ]
  },
  {
   "cell_type": "markdown",
   "metadata": {},
   "source": [
    "Realizaremos una regresion logistica ya que si bien el enunciado no lo pide, leimos que tiene una performance muy buena para este tipo de problemas."
   ]
  },
  {
   "cell_type": "code",
   "execution_count": 33,
   "metadata": {},
   "outputs": [
    {
     "name": "stdout",
     "output_type": "stream",
     "text": [
      "Accuracy: 0.8891154151092989\n",
      "Recall: 0.8944127708095782\n",
      "Precision: 0.8837314105452907\n",
      "f1 score: 0.8890400090672107\n"
     ]
    }
   ],
   "source": [
    "modelo_regresion_logistica = Pipeline([('tfidf', TfidfVectorizer(max_features=20000, ngram_range=(1, 2))), ('lr', LogisticRegression(\n",
    "    penalty='l2',\n",
    "    C=0.3,\n",
    "    solver='liblinear',\n",
    "    max_iter=100, \n",
    "    l1_ratio=None, \n",
    "    tol=1e-4 \n",
    "))])\n",
    "modelo_regresion_logistica.fit(x_train, y_train)\n",
    "\n",
    "prediccion = modelo_regresion_logistica.predict(x_test)\n",
    "\n",
    "mostrar_scores(y_test, prediccion)"
   ]
  },
  {
   "cell_type": "code",
   "execution_count": 34,
   "metadata": {},
   "outputs": [
    {
     "data": {
      "image/png": "[encoded data removed]",
      "text/plain": [
       "<Figure size 640x480 with 2 Axes>"
      ]
     },
     "metadata": {},
     "output_type": "display_data"
    }
   ],
   "source": [
    "matriz_confusion = confusion_matrix(y_test, prediccion)\n",
    "sns.heatmap(matriz_confusion, annot=True, fmt='d', cmap='Blues').set_title('Matriz de confusión con bigramas')\n",
    "plt.xlabel('Valor predicho')\n",
    "plt.ylabel('Valor real')\n",
    "plt.show()"
   ]
  },
  {
   "cell_type": "code",
   "execution_count": 35,
   "metadata": {},
   "outputs": [
    {
     "name": "stdout",
     "output_type": "stream",
     "text": [
      "Accuracy: 0.9505847704811259\n",
      "Recall: 0.9542710706150341\n",
      "Precision: 0.9467766540482513\n",
      "f1 score: 0.9505090898777616\n"
     ]
    }
   ],
   "source": [
    "prediccion_train = modelo_regresion_logistica.predict(x_train)\n",
    "\n",
    "mostrar_scores(y_train, prediccion_train)"
   ]
  },
  {
   "cell_type": "markdown",
   "metadata": {},
   "source": [
    "#### Busqueda de hiperparametros"
   ]
  },
  {
   "cell_type": "code",
   "execution_count": 31,
   "metadata": {},
   "outputs": [],
   "source": [
    "vectorizer = TfidfVectorizer(max_features=10000, ngram_range=(1, 2))\n",
    "X = vectorizer.fit_transform(df_preprocesado['review_es'])\n",
    "y = df_preprocesado['sentimiento'].map({'negativo': 0, 'positivo': 1, 0: 0, 1: 1})\n",
    "\n",
    "modelo_regresion_logistica = LogisticRegression()\n",
    "\n",
    "cv = StratifiedKFold(n_splits=5, shuffle=True, random_state=42)\n",
    "\n",
    "space = dict()\n",
    "space['solver'] = ['newton-cg', 'lbfgs', 'liblinear']\n",
    "space['penalty'] = ['l2']\n",
    "space['C'] = [0.01, 0.1, 0.3, 0.5, 1.0, 3]\n",
    "space['l1_ratio'] = [None]\n",
    "space['max_iter'] = [50, 100, 200, 300]\n",
    "\n",
    "n_iter = 100\n",
    "search = RandomizedSearchCV(modelo_regresion_logistica, space, n_iter=5, scoring='f1', n_jobs=-1, cv=cv, random_state=42)\n",
    "result = search.fit(X, y)"
   ]
  },
  {
   "cell_type": "code",
   "execution_count": 32,
   "metadata": {},
   "outputs": [
    {
     "name": "stdout",
     "output_type": "stream",
     "text": [
      "Mejor Score: 0.8839520777881859\n",
      "Mejores hiperparametros: {'solver': 'liblinear', 'penalty': 'l2', 'max_iter': 50, 'l1_ratio': None, 'C': 3}\n",
      ">0.847 with: {'solver': 'lbfgs', 'penalty': 'l2', 'max_iter': 100, 'l1_ratio': None, 'C': 0.01}\n",
      ">0.884 with: {'solver': 'liblinear', 'penalty': 'l2', 'max_iter': 50, 'l1_ratio': None, 'C': 3}\n",
      ">0.867 with: {'solver': 'newton-cg', 'penalty': 'l2', 'max_iter': 200, 'l1_ratio': None, 'C': 0.1}\n",
      ">0.847 with: {'solver': 'newton-cg', 'penalty': 'l2', 'max_iter': 50, 'l1_ratio': None, 'C': 0.01}\n",
      ">0.876 with: {'solver': 'lbfgs', 'penalty': 'l2', 'max_iter': 100, 'l1_ratio': None, 'C': 0.3}\n"
     ]
    }
   ],
   "source": [
    "print('Mejor Score: %s' % result.best_score_)\n",
    "print('Mejores hiperparametros: %s' % result.best_params_)\n",
    "\n",
    "promedios = result.cv_results_['mean_test_score']\n",
    "params = result.cv_results_['params']\n",
    "for promedio, param in zip(promedios, params):\n",
    "    print(\">%.3f with: %r\" % (promedio, param))"
   ]
  },
  {
   "cell_type": "markdown",
   "metadata": {},
   "source": [
    "#### Predicción en los datos de test para kaggle"
   ]
  },
  {
   "cell_type": "code",
   "execution_count": null,
   "metadata": {},
   "outputs": [],
   "source": [
    "df_test = pd.read_csv('test.csv', sep=',')\n",
    "df_test_copia = df_test.copy()\n",
    "\n",
    "df_test_copia['review_es'] = df_test_copia['review_es'].apply(demojize)\n",
    "df_test_copia['review_es'] = df_test_copia['review_es'].apply(tokenize)\n",
    "\n",
    "prediccion = modelo_regresion_logistica.predict(df_test_copia['review_es'])\n",
    "prediccion = np.where(prediccion == 0, 'negativo', 'positivo')\n",
    "\n",
    "df_entrega = df_test.copy()\n",
    "\n",
    "df_entrega['sentimiento'] = prediccion\n",
    "df_entrega.drop('review_es', axis=1, inplace=True)\n",
    "\n",
    "df_entrega.to_csv('lr_preproceso_demoji.csv', index=False)"
   ]
  },
  {
   "cell_type": "markdown",
   "metadata": {},
   "source": [
    "### XGBoost"
   ]
  },
  {
   "cell_type": "markdown",
   "metadata": {},
   "source": [
    "Seguiremos con un modelo de XGBoost ya que es un modelo que esperamos que va a tener muy buenos resultados."
   ]
  },
  {
   "cell_type": "code",
   "execution_count": null,
   "metadata": {},
   "outputs": [],
   "source": [
    "modelo_xg_boost = Pipeline([\n",
    "  ('tfidf', TfidfVectorizer(max_features=9000, ngram_range=(1, 2))), \n",
    "  ('xgb', XGBClassifier(\n",
    "        objective='binary:logistic',\n",
    "        n_jobs=-1,\n",
    "        random_state=42,\n",
    "        colsample_bytree=0.6, \n",
    "        subsample=0.6,\n",
    "        gamma=0.3, \n",
    "        max_depth=5,\n",
    "        learning_rate=0.089, \n",
    "        min_child_weight=10, \n",
    "        n_estimators=700, \n",
    "))])\n",
    "\n",
    "modelo_xg_boost.fit(x_train, y_train)\n",
    "\n",
    "y_pred = modelo_xg_boost.predict(x_test)\n",
    "\n",
    "mostar_scores(y_test, y_pred)"
   ]
  },
  {
   "cell_type": "code",
   "execution_count": null,
   "metadata": {},
   "outputs": [],
   "source": [
    "tabla = confusion_matrix(y_test, y_pred)\n",
    "sns.heatmap(tabla, annot=True, fmt='d')\n",
    "plt.xlabel('Predicho')\n",
    "plt.ylabel('Real')\n",
    "plt.show()"
   ]
  },
  {
   "cell_type": "code",
   "execution_count": null,
   "metadata": {},
   "outputs": [],
   "source": [
    "y_pred_train = modelo_xg_boost.predict(x_train)\n",
    "\n",
    "mostar_scores(y_train, y_pred_train)"
   ]
  },
  {
   "cell_type": "markdown",
   "metadata": {},
   "source": [
    "#### Busqueda de hiperparametros"
   ]
  },
  {
   "cell_type": "code",
   "execution_count": 40,
   "metadata": {},
   "outputs": [
    {
     "name": "stderr",
     "output_type": "stream",
     "text": [
      "/home/mateov/programas/anaconda3/lib/python3.11/site-packages/xgboost/data.py:440: FutureWarning: is_sparse is deprecated and will be removed in a future version. Check `isinstance(dtype, pd.SparseDtype)` instead.\n",
      "  if is_sparse(data):\n",
      "/home/mateov/programas/anaconda3/lib/python3.11/site-packages/xgboost/data.py:440: FutureWarning: is_sparse is deprecated and will be removed in a future version. Check `isinstance(dtype, pd.SparseDtype)` instead.\n",
      "  if is_sparse(data):\n",
      "/home/mateov/programas/anaconda3/lib/python3.11/site-packages/xgboost/data.py:440: FutureWarning: is_sparse is deprecated and will be removed in a future version. Check `isinstance(dtype, pd.SparseDtype)` instead.\n",
      "  if is_sparse(data):\n",
      "/home/mateov/programas/anaconda3/lib/python3.11/site-packages/xgboost/data.py:440: FutureWarning: is_sparse is deprecated and will be removed in a future version. Check `isinstance(dtype, pd.SparseDtype)` instead.\n",
      "  if is_sparse(data):\n",
      "/home/mateov/programas/anaconda3/lib/python3.11/site-packages/xgboost/data.py:440: FutureWarning: is_sparse is deprecated and will be removed in a future version. Check `isinstance(dtype, pd.SparseDtype)` instead.\n",
      "  if is_sparse(data):\n",
      "/home/mateov/programas/anaconda3/lib/python3.11/site-packages/xgboost/data.py:440: FutureWarning: is_sparse is deprecated and will be removed in a future version. Check `isinstance(dtype, pd.SparseDtype)` instead.\n",
      "  if is_sparse(data):\n"
     ]
    },
    {
     "data": {
      "text/html": [
       "<style>#sk-container-id-1 {color: black;}#sk-container-id-1 pre{padding: 0;}#sk-container-id-1 div.sk-toggleable {background-color: white;}#sk-container-id-1 label.sk-toggleable__label {cursor: pointer;display: block;width: 100%;margin-bottom: 0;padding: 0.3em;box-sizing: border-box;text-align: center;}#sk-container-id-1 label.sk-toggleable__label-arrow:before {content: \"▸\";float: left;margin-right: 0.25em;color: #696969;}#sk-container-id-1 label.sk-toggleable__label-arrow:hover:before {color: black;}#sk-container-id-1 div.sk-estimator:hover label.sk-toggleable__label-arrow:before {color: black;}#sk-container-id-1 div.sk-toggleable__content {max-height: 0;max-width: 0;overflow: hidden;text-align: left;background-color: #f0f8ff;}#sk-container-id-1 div.sk-toggleable__content pre {margin: 0.2em;color: black;border-radius: 0.25em;background-color: #f0f8ff;}#sk-container-id-1 input.sk-toggleable__control:checked~div.sk-toggleable__content {max-height: 200px;max-width: 100%;overflow: auto;}#sk-container-id-1 input.sk-toggleable__control:checked~label.sk-toggleable__label-arrow:before {content: \"▾\";}#sk-container-id-1 div.sk-estimator input.sk-toggleable__control:checked~label.sk-toggleable__label {background-color: #d4ebff;}#sk-container-id-1 div.sk-label input.sk-toggleable__control:checked~label.sk-toggleable__label {background-color: #d4ebff;}#sk-container-id-1 input.sk-hidden--visually {border: 0;clip: rect(1px 1px 1px 1px);clip: rect(1px, 1px, 1px, 1px);height: 1px;margin: -1px;overflow: hidden;padding: 0;position: absolute;width: 1px;}#sk-container-id-1 div.sk-estimator {font-family: monospace;background-color: #f0f8ff;border: 1px dotted black;border-radius: 0.25em;box-sizing: border-box;margin-bottom: 0.5em;}#sk-container-id-1 div.sk-estimator:hover {background-color: #d4ebff;}#sk-container-id-1 div.sk-parallel-item::after {content: \"\";width: 100%;border-bottom: 1px solid gray;flex-grow: 1;}#sk-container-id-1 div.sk-label:hover label.sk-toggleable__label {background-color: #d4ebff;}#sk-container-id-1 div.sk-serial::before {content: \"\";position: absolute;border-left: 1px solid gray;box-sizing: border-box;top: 0;bottom: 0;left: 50%;z-index: 0;}#sk-container-id-1 div.sk-serial {display: flex;flex-direction: column;align-items: center;background-color: white;padding-right: 0.2em;padding-left: 0.2em;position: relative;}#sk-container-id-1 div.sk-item {position: relative;z-index: 1;}#sk-container-id-1 div.sk-parallel {display: flex;align-items: stretch;justify-content: center;background-color: white;position: relative;}#sk-container-id-1 div.sk-item::before, #sk-container-id-1 div.sk-parallel-item::before {content: \"\";position: absolute;border-left: 1px solid gray;box-sizing: border-box;top: 0;bottom: 0;left: 50%;z-index: -1;}#sk-container-id-1 div.sk-parallel-item {display: flex;flex-direction: column;z-index: 1;position: relative;background-color: white;}#sk-container-id-1 div.sk-parallel-item:first-child::after {align-self: flex-end;width: 50%;}#sk-container-id-1 div.sk-parallel-item:last-child::after {align-self: flex-start;width: 50%;}#sk-container-id-1 div.sk-parallel-item:only-child::after {width: 0;}#sk-container-id-1 div.sk-dashed-wrapped {border: 1px dashed gray;margin: 0 0.4em 0.5em 0.4em;box-sizing: border-box;padding-bottom: 0.4em;background-color: white;}#sk-container-id-1 div.sk-label label {font-family: monospace;font-weight: bold;display: inline-block;line-height: 1.2em;}#sk-container-id-1 div.sk-label-container {text-align: center;}#sk-container-id-1 div.sk-container {/* jupyter's `normalize.less` sets `[hidden] { display: none; }` but bootstrap.min.css set `[hidden] { display: none !important; }` so we also need the `!important` here to be able to override the default hidden behavior on the sphinx rendered scikit-learn.org. See: https://github.com/scikit-learn/scikit-learn/issues/21755 */display: inline-block !important;position: relative;}#sk-container-id-1 div.sk-text-repr-fallback {display: none;}</style><div id=\"sk-container-id-1\" class=\"sk-top-container\"><div class=\"sk-text-repr-fallback\"><pre>RandomizedSearchCV(cv=StratifiedKFold(n_splits=5, random_state=42, shuffle=True),\n",
       "                   estimator=XGBClassifier(base_score=None, booster=None,\n",
       "                                           callbacks=None,\n",
       "                                           colsample_bylevel=None,\n",
       "                                           colsample_bynode=None,\n",
       "                                           colsample_bytree=None,\n",
       "                                           early_stopping_rounds=None,\n",
       "                                           enable_categorical=False,\n",
       "                                           eval_metric=None, feature_types=None,\n",
       "                                           gamma=None, gpu_id=None,\n",
       "                                           grow_policy=None,\n",
       "                                           importan...\n",
       "                   n_iter=1, n_jobs=-1,\n",
       "                   param_distributions={&#x27;colsample_bytree&#x27;: [0.6, 0.8, 1.0],\n",
       "                                        &#x27;gamma&#x27;: [0.1, 0.3, 0.5],\n",
       "                                        &#x27;learning_rate&#x27;: [0.001, 0.012,\n",
       "                                                          0.023000000000000003,\n",
       "                                                          0.034,\n",
       "                                                          0.045000000000000005,\n",
       "                                                          0.05600000000000001,\n",
       "                                                          0.067,\n",
       "                                                          0.07800000000000001,\n",
       "                                                          0.08900000000000001,\n",
       "                                                          0.1],\n",
       "                                        &#x27;min_child_weight&#x27;: [1, 5, 10],\n",
       "                                        &#x27;n_estimators&#x27;: [300, 400, 500, 600],\n",
       "                                        &#x27;subsample&#x27;: [0.6, 0.8, 1.0]},\n",
       "                   random_state=42, scoring=&#x27;f1&#x27;)</pre><b>In a Jupyter environment, please rerun this cell to show the HTML representation or trust the notebook. <br />On GitHub, the HTML representation is unable to render, please try loading this page with nbviewer.org.</b></div><div class=\"sk-container\" hidden><div class=\"sk-item sk-dashed-wrapped\"><div class=\"sk-label-container\"><div class=\"sk-label sk-toggleable\"><input class=\"sk-toggleable__control sk-hidden--visually\" id=\"sk-estimator-id-1\" type=\"checkbox\" ><label for=\"sk-estimator-id-1\" class=\"sk-toggleable__label sk-toggleable__label-arrow\">RandomizedSearchCV</label><div class=\"sk-toggleable__content\"><pre>RandomizedSearchCV(cv=StratifiedKFold(n_splits=5, random_state=42, shuffle=True),\n",
       "                   estimator=XGBClassifier(base_score=None, booster=None,\n",
       "                                           callbacks=None,\n",
       "                                           colsample_bylevel=None,\n",
       "                                           colsample_bynode=None,\n",
       "                                           colsample_bytree=None,\n",
       "                                           early_stopping_rounds=None,\n",
       "                                           enable_categorical=False,\n",
       "                                           eval_metric=None, feature_types=None,\n",
       "                                           gamma=None, gpu_id=None,\n",
       "                                           grow_policy=None,\n",
       "                                           importan...\n",
       "                   n_iter=1, n_jobs=-1,\n",
       "                   param_distributions={&#x27;colsample_bytree&#x27;: [0.6, 0.8, 1.0],\n",
       "                                        &#x27;gamma&#x27;: [0.1, 0.3, 0.5],\n",
       "                                        &#x27;learning_rate&#x27;: [0.001, 0.012,\n",
       "                                                          0.023000000000000003,\n",
       "                                                          0.034,\n",
       "                                                          0.045000000000000005,\n",
       "                                                          0.05600000000000001,\n",
       "                                                          0.067,\n",
       "                                                          0.07800000000000001,\n",
       "                                                          0.08900000000000001,\n",
       "                                                          0.1],\n",
       "                                        &#x27;min_child_weight&#x27;: [1, 5, 10],\n",
       "                                        &#x27;n_estimators&#x27;: [300, 400, 500, 600],\n",
       "                                        &#x27;subsample&#x27;: [0.6, 0.8, 1.0]},\n",
       "                   random_state=42, scoring=&#x27;f1&#x27;)</pre></div></div></div><div class=\"sk-parallel\"><div class=\"sk-parallel-item\"><div class=\"sk-item\"><div class=\"sk-label-container\"><div class=\"sk-label sk-toggleable\"><input class=\"sk-toggleable__control sk-hidden--visually\" id=\"sk-estimator-id-2\" type=\"checkbox\" ><label for=\"sk-estimator-id-2\" class=\"sk-toggleable__label sk-toggleable__label-arrow\">estimator: XGBClassifier</label><div class=\"sk-toggleable__content\"><pre>XGBClassifier(base_score=None, booster=None, callbacks=None,\n",
       "              colsample_bylevel=None, colsample_bynode=None,\n",
       "              colsample_bytree=None, early_stopping_rounds=None,\n",
       "              enable_categorical=False, eval_metric=None, feature_types=None,\n",
       "              gamma=None, gpu_id=None, grow_policy=None, importance_type=None,\n",
       "              interaction_constraints=None, learning_rate=None, max_bin=None,\n",
       "              max_cat_threshold=None, max_cat_to_onehot=None,\n",
       "              max_delta_step=None, max_depth=None, max_leaves=None,\n",
       "              min_child_weight=None, missing=nan, monotone_constraints=None,\n",
       "              n_estimators=100, n_jobs=-1, num_parallel_tree=None,\n",
       "              predictor=None, random_state=42, ...)</pre></div></div></div><div class=\"sk-serial\"><div class=\"sk-item\"><div class=\"sk-estimator sk-toggleable\"><input class=\"sk-toggleable__control sk-hidden--visually\" id=\"sk-estimator-id-3\" type=\"checkbox\" ><label for=\"sk-estimator-id-3\" class=\"sk-toggleable__label sk-toggleable__label-arrow\">XGBClassifier</label><div class=\"sk-toggleable__content\"><pre>XGBClassifier(base_score=None, booster=None, callbacks=None,\n",
       "              colsample_bylevel=None, colsample_bynode=None,\n",
       "              colsample_bytree=None, early_stopping_rounds=None,\n",
       "              enable_categorical=False, eval_metric=None, feature_types=None,\n",
       "              gamma=None, gpu_id=None, grow_policy=None, importance_type=None,\n",
       "              interaction_constraints=None, learning_rate=None, max_bin=None,\n",
       "              max_cat_threshold=None, max_cat_to_onehot=None,\n",
       "              max_delta_step=None, max_depth=None, max_leaves=None,\n",
       "              min_child_weight=None, missing=nan, monotone_constraints=None,\n",
       "              n_estimators=100, n_jobs=-1, num_parallel_tree=None,\n",
       "              predictor=None, random_state=42, ...)</pre></div></div></div></div></div></div></div></div></div></div>"
      ],
      "text/plain": [
       "RandomizedSearchCV(cv=StratifiedKFold(n_splits=5, random_state=42, shuffle=True),\n",
       "                   estimator=XGBClassifier(base_score=None, booster=None,\n",
       "                                           callbacks=None,\n",
       "                                           colsample_bylevel=None,\n",
       "                                           colsample_bynode=None,\n",
       "                                           colsample_bytree=None,\n",
       "                                           early_stopping_rounds=None,\n",
       "                                           enable_categorical=False,\n",
       "                                           eval_metric=None, feature_types=None,\n",
       "                                           gamma=None, gpu_id=None,\n",
       "                                           grow_policy=None,\n",
       "                                           importan...\n",
       "                   n_iter=1, n_jobs=-1,\n",
       "                   param_distributions={'colsample_bytree': [0.6, 0.8, 1.0],\n",
       "                                        'gamma': [0.1, 0.3, 0.5],\n",
       "                                        'learning_rate': [0.001, 0.012,\n",
       "                                                          0.023000000000000003,\n",
       "                                                          0.034,\n",
       "                                                          0.045000000000000005,\n",
       "                                                          0.05600000000000001,\n",
       "                                                          0.067,\n",
       "                                                          0.07800000000000001,\n",
       "                                                          0.08900000000000001,\n",
       "                                                          0.1],\n",
       "                                        'min_child_weight': [1, 5, 10],\n",
       "                                        'n_estimators': [300, 400, 500, 600],\n",
       "                                        'subsample': [0.6, 0.8, 1.0]},\n",
       "                   random_state=42, scoring='f1')"
      ]
     },
     "execution_count": 40,
     "metadata": {},
     "output_type": "execute_result"
    }
   ],
   "source": [
    "vectorizer = TfidfVectorizer(max_features=10000, ngram_range=(1, 2))\n",
    "X = vectorizer.fit_transform(df_preprocesado['review_es'])\n",
    "y = df_preprocesado['sentimiento'].map({'negativo': 0, 'positivo': 1, 0: 0, 1: 1})\n",
    "\n",
    "modelo_xg_boost = XGBClassifier(\n",
    "    objective='binary:logistic',\n",
    "    n_jobs=-1,\n",
    "    random_state=42\n",
    ")\n",
    "\n",
    "params = {\n",
    "        'min_child_weight': [1, 5, 10],\n",
    "        'gamma': [0.1,  0.3,  0.5],\n",
    "        'subsample': [0.6, 0.8, 1.0],\n",
    "        'colsample_bytree': [0.6, 0.8, 1.0],\n",
    "        'learning_rate': list(np.linspace(0.001, 0.1, 10)),\n",
    "        'n_estimators': [ 300, 400, 500, 600, 700, 800, 900, 1000],\n",
    "        }\n",
    "\n",
    "folds = 5\n",
    "n_iter = 100\n",
    "cv = StratifiedKFold(n_splits=folds, shuffle=True, random_state=42)\n",
    "\n",
    "random_search = RandomizedSearchCV(modelo_xg_boost, param_distributions=params, n_iter=n_iter, scoring='f1', n_jobs=-1, cv=cv, random_state=42 )\n",
    "random_search.fit(X, y)"
   ]
  },
  {
   "cell_type": "code",
   "execution_count": 41,
   "metadata": {},
   "outputs": [
    {
     "name": "stdout",
     "output_type": "stream",
     "text": [
      "\n",
      " Mejor estimador:\n",
      "XGBClassifier(base_score=None, booster=None, callbacks=None,\n",
      "              colsample_bylevel=None, colsample_bynode=None,\n",
      "              colsample_bytree=1.0, early_stopping_rounds=None,\n",
      "              enable_categorical=False, eval_metric=None, feature_types=None,\n",
      "              gamma=0.5, gpu_id=None, grow_policy=None, importance_type=None,\n",
      "              interaction_constraints=None, learning_rate=0.08900000000000001,\n",
      "              max_bin=None, max_cat_threshold=None, max_cat_to_onehot=None,\n",
      "              max_delta_step=None, max_depth=None, max_leaves=None,\n",
      "              min_child_weight=1, missing=nan, monotone_constraints=None,\n",
      "              n_estimators=500, n_jobs=-1, num_parallel_tree=None,\n",
      "              predictor=None, random_state=42, ...)\n",
      "\n",
      " Mejor hiperparm:\n",
      "0.8642347928007048\n"
     ]
    }
   ],
   "source": [
    "print('\\n Mejor estimador:')\n",
    "print(random_search.best_estimator_)\n",
    "print('\\n Mejor hiperparm:')\n",
    "print(random_search.best_score_)"
   ]
  },
  {
   "cell_type": "markdown",
   "metadata": {},
   "source": [
    "#### Predicción en los datos de test para kaggle"
   ]
  },
  {
   "cell_type": "code",
   "execution_count": null,
   "metadata": {},
   "outputs": [],
   "source": [
    "df_test = pd.read_csv('test.csv', sep=',')\n",
    "df_test_copia = df_test.copy()\n",
    "\n",
    "df_test_copia['review_es'] = df_test_copia['review_es'].apply(demojize)\n",
    "df_test_copia['review_es'] = df_test_copia['review_es'].apply(tokenize)\n",
    "\n",
    "\n",
    "prediccion = modelo_xg_boost.predict(df_test_copia['review_es'])\n",
    "prediccion = np.where(prediccion == 0, 'negativo', 'positivo')\n",
    "\n",
    "df_entrega = df_test.copy()\n",
    "\n",
    "df_entrega['sentimiento'] = prediccion\n",
    "df_entrega.drop('review_es', axis=1, inplace=True)\n",
    "\n",
    "df_entrega.to_csv('entrega.csv', index=False)"
   ]
  },
  {
   "cell_type": "markdown",
   "metadata": {},
   "source": [
    "### Random Forest"
   ]
  },
  {
   "cell_type": "markdown",
   "metadata": {},
   "source": [
    "Otro modelo que utilizaremos es el de Random Forest ya que es un modelo que esperamos que va a tener buenos resultados. Sin embargo, creemos que no va a superar a XGBoost. La ventaja de este modelo es que es muy rapido de entrenar y de predecir."
   ]
  },
  {
   "cell_type": "code",
   "execution_count": null,
   "metadata": {},
   "outputs": [
    {
     "name": "stdout",
     "output_type": "stream",
     "text": [
      "F1_score: 0.8187729350415244\n",
      "F1_score train: 0.8417005382840822\n"
     ]
    }
   ],
   "source": [
    "modelo_random_forest = Pipeline([\n",
    "    ('tfidf', TfidfVectorizer(max_features=7000, ngram_range=(1, 2))), \n",
    "    ('rfc', RandomForestClassifier(\n",
    "            criterion='entropy',\n",
    "            n_jobs=-1,\n",
    "            random_state=42,\n",
    "            max_depth=20,\n",
    "            min_samples_leaf=50,\n",
    "            n_estimators=1000,\n",
    "    ))])\n",
    "\n",
    "modelo_random_forest.fit(X_train, y_train)\n",
    "\n",
    "y_pred = modelo_random_forest.predict(X_test)\n",
    "\n",
    "mostrar_scores(y_test, y_pred)"
   ]
  },
  {
   "cell_type": "code",
   "execution_count": null,
   "metadata": {},
   "outputs": [],
   "source": [
    "tabla = confusion_matrix(y_test, y_pred)\n",
    "sns.heatmap(tabla, annot=True, fmt='d')\n",
    "plt.xlabel('Predicho')\n",
    "plt.ylabel('Real')\n",
    "plt.show()"
   ]
  },
  {
   "cell_type": "code",
   "execution_count": null,
   "metadata": {},
   "outputs": [],
   "source": [
    "y_pred_train = modelo_random_forest.predict(X_train)\n",
    "\n",
    "mostrar_scores(y_train, y_pred_train)"
   ]
  },
  {
   "cell_type": "markdown",
   "metadata": {},
   "source": [
    "#### Busqueda de hiperparametros"
   ]
  },
  {
   "cell_type": "code",
   "execution_count": 43,
   "metadata": {},
   "outputs": [
    {
     "data": {
      "text/html": [
       "<style>#sk-container-id-2 {color: black;}#sk-container-id-2 pre{padding: 0;}#sk-container-id-2 div.sk-toggleable {background-color: white;}#sk-container-id-2 label.sk-toggleable__label {cursor: pointer;display: block;width: 100%;margin-bottom: 0;padding: 0.3em;box-sizing: border-box;text-align: center;}#sk-container-id-2 label.sk-toggleable__label-arrow:before {content: \"▸\";float: left;margin-right: 0.25em;color: #696969;}#sk-container-id-2 label.sk-toggleable__label-arrow:hover:before {color: black;}#sk-container-id-2 div.sk-estimator:hover label.sk-toggleable__label-arrow:before {color: black;}#sk-container-id-2 div.sk-toggleable__content {max-height: 0;max-width: 0;overflow: hidden;text-align: left;background-color: #f0f8ff;}#sk-container-id-2 div.sk-toggleable__content pre {margin: 0.2em;color: black;border-radius: 0.25em;background-color: #f0f8ff;}#sk-container-id-2 input.sk-toggleable__control:checked~div.sk-toggleable__content {max-height: 200px;max-width: 100%;overflow: auto;}#sk-container-id-2 input.sk-toggleable__control:checked~label.sk-toggleable__label-arrow:before {content: \"▾\";}#sk-container-id-2 div.sk-estimator input.sk-toggleable__control:checked~label.sk-toggleable__label {background-color: #d4ebff;}#sk-container-id-2 div.sk-label input.sk-toggleable__control:checked~label.sk-toggleable__label {background-color: #d4ebff;}#sk-container-id-2 input.sk-hidden--visually {border: 0;clip: rect(1px 1px 1px 1px);clip: rect(1px, 1px, 1px, 1px);height: 1px;margin: -1px;overflow: hidden;padding: 0;position: absolute;width: 1px;}#sk-container-id-2 div.sk-estimator {font-family: monospace;background-color: #f0f8ff;border: 1px dotted black;border-radius: 0.25em;box-sizing: border-box;margin-bottom: 0.5em;}#sk-container-id-2 div.sk-estimator:hover {background-color: #d4ebff;}#sk-container-id-2 div.sk-parallel-item::after {content: \"\";width: 100%;border-bottom: 1px solid gray;flex-grow: 1;}#sk-container-id-2 div.sk-label:hover label.sk-toggleable__label {background-color: #d4ebff;}#sk-container-id-2 div.sk-serial::before {content: \"\";position: absolute;border-left: 1px solid gray;box-sizing: border-box;top: 0;bottom: 0;left: 50%;z-index: 0;}#sk-container-id-2 div.sk-serial {display: flex;flex-direction: column;align-items: center;background-color: white;padding-right: 0.2em;padding-left: 0.2em;position: relative;}#sk-container-id-2 div.sk-item {position: relative;z-index: 1;}#sk-container-id-2 div.sk-parallel {display: flex;align-items: stretch;justify-content: center;background-color: white;position: relative;}#sk-container-id-2 div.sk-item::before, #sk-container-id-2 div.sk-parallel-item::before {content: \"\";position: absolute;border-left: 1px solid gray;box-sizing: border-box;top: 0;bottom: 0;left: 50%;z-index: -1;}#sk-container-id-2 div.sk-parallel-item {display: flex;flex-direction: column;z-index: 1;position: relative;background-color: white;}#sk-container-id-2 div.sk-parallel-item:first-child::after {align-self: flex-end;width: 50%;}#sk-container-id-2 div.sk-parallel-item:last-child::after {align-self: flex-start;width: 50%;}#sk-container-id-2 div.sk-parallel-item:only-child::after {width: 0;}#sk-container-id-2 div.sk-dashed-wrapped {border: 1px dashed gray;margin: 0 0.4em 0.5em 0.4em;box-sizing: border-box;padding-bottom: 0.4em;background-color: white;}#sk-container-id-2 div.sk-label label {font-family: monospace;font-weight: bold;display: inline-block;line-height: 1.2em;}#sk-container-id-2 div.sk-label-container {text-align: center;}#sk-container-id-2 div.sk-container {/* jupyter's `normalize.less` sets `[hidden] { display: none; }` but bootstrap.min.css set `[hidden] { display: none !important; }` so we also need the `!important` here to be able to override the default hidden behavior on the sphinx rendered scikit-learn.org. See: https://github.com/scikit-learn/scikit-learn/issues/21755 */display: inline-block !important;position: relative;}#sk-container-id-2 div.sk-text-repr-fallback {display: none;}</style><div id=\"sk-container-id-2\" class=\"sk-top-container\"><div class=\"sk-text-repr-fallback\"><pre>RandomizedSearchCV(cv=StratifiedKFold(n_splits=5, random_state=42, shuffle=True),\n",
       "                   estimator=RandomForestClassifier(criterion=&#x27;entropy&#x27;,\n",
       "                                                    n_jobs=-1,\n",
       "                                                    random_state=42),\n",
       "                   n_iter=1, n_jobs=-1,\n",
       "                   param_distributions={&#x27;class_weight&#x27;: [&#x27;balanced&#x27;,\n",
       "                                                         &#x27;balanced_subsample&#x27;],\n",
       "                                        &#x27;max_depth&#x27;: [10, 20, 30],\n",
       "                                        &#x27;max_features&#x27;: [&#x27;auto&#x27;, &#x27;sqrt&#x27;,\n",
       "                                                         &#x27;log2&#x27;],\n",
       "                                        &#x27;min_samples_leaf&#x27;: [50, 100, 200],\n",
       "                                        &#x27;n_estimators&#x27;: [1000, 1500, 2000]},\n",
       "                   random_state=42, scoring=&#x27;f1&#x27;)</pre><b>In a Jupyter environment, please rerun this cell to show the HTML representation or trust the notebook. <br />On GitHub, the HTML representation is unable to render, please try loading this page with nbviewer.org.</b></div><div class=\"sk-container\" hidden><div class=\"sk-item sk-dashed-wrapped\"><div class=\"sk-label-container\"><div class=\"sk-label sk-toggleable\"><input class=\"sk-toggleable__control sk-hidden--visually\" id=\"sk-estimator-id-4\" type=\"checkbox\" ><label for=\"sk-estimator-id-4\" class=\"sk-toggleable__label sk-toggleable__label-arrow\">RandomizedSearchCV</label><div class=\"sk-toggleable__content\"><pre>RandomizedSearchCV(cv=StratifiedKFold(n_splits=5, random_state=42, shuffle=True),\n",
       "                   estimator=RandomForestClassifier(criterion=&#x27;entropy&#x27;,\n",
       "                                                    n_jobs=-1,\n",
       "                                                    random_state=42),\n",
       "                   n_iter=1, n_jobs=-1,\n",
       "                   param_distributions={&#x27;class_weight&#x27;: [&#x27;balanced&#x27;,\n",
       "                                                         &#x27;balanced_subsample&#x27;],\n",
       "                                        &#x27;max_depth&#x27;: [10, 20, 30],\n",
       "                                        &#x27;max_features&#x27;: [&#x27;auto&#x27;, &#x27;sqrt&#x27;,\n",
       "                                                         &#x27;log2&#x27;],\n",
       "                                        &#x27;min_samples_leaf&#x27;: [50, 100, 200],\n",
       "                                        &#x27;n_estimators&#x27;: [1000, 1500, 2000]},\n",
       "                   random_state=42, scoring=&#x27;f1&#x27;)</pre></div></div></div><div class=\"sk-parallel\"><div class=\"sk-parallel-item\"><div class=\"sk-item\"><div class=\"sk-label-container\"><div class=\"sk-label sk-toggleable\"><input class=\"sk-toggleable__control sk-hidden--visually\" id=\"sk-estimator-id-5\" type=\"checkbox\" ><label for=\"sk-estimator-id-5\" class=\"sk-toggleable__label sk-toggleable__label-arrow\">estimator: RandomForestClassifier</label><div class=\"sk-toggleable__content\"><pre>RandomForestClassifier(criterion=&#x27;entropy&#x27;, n_jobs=-1, random_state=42)</pre></div></div></div><div class=\"sk-serial\"><div class=\"sk-item\"><div class=\"sk-estimator sk-toggleable\"><input class=\"sk-toggleable__control sk-hidden--visually\" id=\"sk-estimator-id-6\" type=\"checkbox\" ><label for=\"sk-estimator-id-6\" class=\"sk-toggleable__label sk-toggleable__label-arrow\">RandomForestClassifier</label><div class=\"sk-toggleable__content\"><pre>RandomForestClassifier(criterion=&#x27;entropy&#x27;, n_jobs=-1, random_state=42)</pre></div></div></div></div></div></div></div></div></div></div>"
      ],
      "text/plain": [
       "RandomizedSearchCV(cv=StratifiedKFold(n_splits=5, random_state=42, shuffle=True),\n",
       "                   estimator=RandomForestClassifier(criterion='entropy',\n",
       "                                                    n_jobs=-1,\n",
       "                                                    random_state=42),\n",
       "                   n_iter=1, n_jobs=-1,\n",
       "                   param_distributions={'class_weight': ['balanced',\n",
       "                                                         'balanced_subsample'],\n",
       "                                        'max_depth': [10, 20, 30],\n",
       "                                        'max_features': ['auto', 'sqrt',\n",
       "                                                         'log2'],\n",
       "                                        'min_samples_leaf': [50, 100, 200],\n",
       "                                        'n_estimators': [1000, 1500, 2000]},\n",
       "                   random_state=42, scoring='f1')"
      ]
     },
     "execution_count": 43,
     "metadata": {},
     "output_type": "execute_result"
    }
   ],
   "source": [
    "vectorizer = TfidfVectorizer(max_features=10000, ngram_range=(1, 2))\n",
    "X = vectorizer.fit_transform(df_preprocesado['review_es'])\n",
    "y = df_preprocesado['sentimiento'].map({'negativo': 0, 'positivo': 1, 0: 0, 1: 1})\n",
    "\n",
    "modelo_random_forest = RandomForestClassifier(\n",
    "    criterion='entropy',\n",
    "    n_jobs=-1,\n",
    "    random_state=42\n",
    ")\n",
    "\n",
    "params = {\n",
    "        'n_estimators': [500, 750, 1000, 1250, 1500, 1750, 2000],\n",
    "        'max_depth': [10, 20, 30, 40, 50, 60],\n",
    "        'min_samples_leaf': [25, 50, , 75, 100, 125, 150, 175, 200],\n",
    "        'max_features': ['auto', 'sqrt', 'log2'],\n",
    "        'class_weight': ['balanced', 'balanced_subsample']\n",
    "        }\n",
    "    \n",
    "folds = 5\n",
    "n_iter = 100\n",
    "cv = StratifiedKFold(n_splits=folds, shuffle=True, random_state=42)\n",
    "\n",
    "random_search = RandomizedSearchCV(modelo_random_forest, param_distributions=params, n_iter=n_iter, scoring='f1', n_jobs=-1, cv=cv, random_state=42 )\n",
    "random_search.fit(X, y)"
   ]
  },
  {
   "cell_type": "code",
   "execution_count": 44,
   "metadata": {},
   "outputs": [
    {
     "name": "stdout",
     "output_type": "stream",
     "text": [
      "\n",
      " Mejor estimador:\n",
      "RandomForestClassifier(class_weight='balanced_subsample', criterion='entropy',\n",
      "                       max_depth=10, max_features='log2', min_samples_leaf=100,\n",
      "                       n_estimators=1000, n_jobs=-1, random_state=42)\n",
      "\n",
      " Mejor hiperparm:\n",
      "0.8403339887850227\n"
     ]
    }
   ],
   "source": [
    "print('\\n Mejor estimador:')\n",
    "print(random_search.best_estimator_)\n",
    "print('\\n Mejor hiperparm:')\n",
    "print(random_search.best_score_ )"
   ]
  },
  {
   "cell_type": "markdown",
   "metadata": {},
   "source": [
    "#### Predicción en los datos de test para kaggle"
   ]
  },
  {
   "cell_type": "code",
   "execution_count": null,
   "metadata": {},
   "outputs": [],
   "source": [
    "df_test = pd.read_csv('test.csv', sep=',')\n",
    "df_test_copia = df_test.copy()\n",
    "\n",
    "df_test_copia['review_es'] = df_test_copia['review_es'].apply(demojize)\n",
    "df_test_copia['review_es'] = df_test_copia['review_es'].apply(tokenize)\n",
    "\n",
    "prediccion = modelo_random_forest.predict(df_test_copia['review_es'])\n",
    "prediccion = np.where(prediccion == 0, 'negativo', 'positivo')\n",
    "\n",
    "df_entrega = df_test.copy()\n",
    "\n",
    "df_entrega['sentimiento'] = prediccion\n",
    "df_entrega.drop('review_es', axis=1, inplace=True)\n",
    "\n",
    "df_entrega.to_csv('lr_preproceso_demoji.csv', index=False)"
   ]
  },
  {
   "cell_type": "markdown",
   "metadata": {},
   "source": [
    "### SVM"
   ]
  },
  {
   "cell_type": "markdown",
   "metadata": {},
   "source": [
    "Tambien decidimos implementar este modelo porque, averiguando en internet, vimos que es un modelo que tiene muy buenos resultados para este tipo de problemas. El problema de este modelo es que solo se entrena en un hilo, por lo tanto, es muy lento de entrenar y para predecir"
   ]
  },
  {
   "cell_type": "code",
   "execution_count": null,
   "metadata": {},
   "outputs": [],
   "source": [
    "modelo_svm = Pipeline([\n",
    "    ('tfidf', TfidfVectorizer(max_features=10000)), \n",
    "    ('svm', SVC(C=1, probability=True, gamma='auto', kernel='rbf'))\n",
    "    ])\n",
    "\n",
    "modelo_svm.fit(X_train, y_train)\n",
    "\n",
    "y_pred = modelo_svm.predict(X_test)\n",
    "\n",
    "mostrar_scores(y_test, y_pred)"
   ]
  },
  {
   "cell_type": "code",
   "execution_count": null,
   "metadata": {},
   "outputs": [],
   "source": [
    "tabla = confusion_matrix(y_test, y_pred)\n",
    "sns.heatmap(tabla, annot=True, fmt='d')\n",
    "plt.xlabel('Predicho')\n",
    "plt.ylabel('Real')\n",
    "plt.show()"
   ]
  },
  {
   "cell_type": "code",
   "execution_count": null,
   "metadata": {},
   "outputs": [],
   "source": [
    "y_pred_train = modelo_svm.predict(X_train)\n",
    "\n",
    "mostrar_scores(y_train, y_pred_train)"
   ]
  },
  {
   "cell_type": "markdown",
   "metadata": {},
   "source": [
    "Por lo mencionado al principio, decidimos no realizar una busqueda de hiperparametros ya que el tiempo de entrenamiento seria muy largo."
   ]
  },
  {
   "cell_type": "markdown",
   "metadata": {},
   "source": [
    "#### Predicción en los datos de test para kaggle"
   ]
  },
  {
   "cell_type": "code",
   "execution_count": null,
   "metadata": {},
   "outputs": [],
   "source": [
    "df_test = pd.read_csv('test.csv', sep=',')\n",
    "df_test_copia = df_test.copy()\n",
    "\n",
    "df_test_copia['review_es'] = df_test_copia['review_es'].apply(demojize)\n",
    "df_test_copia['review_es'] = df_test_copia['review_es'].apply(tokenize)\n",
    "\n",
    "prediccion = modelo_svm.predict(df_test_copia['review_es'])\n",
    "prediccion = np.where(prediccion == 0, 'negativo', 'positivo')\n",
    "\n",
    "df_entrega = df_test.copy()\n",
    "\n",
    "df_entrega['sentimiento'] = prediccion\n",
    "df_entrega.drop('review_es', axis=1, inplace=True)\n",
    "\n",
    "df_entrega.to_csv('lr_preproceso_demoji.csv', index=False)"
   ]
  },
  {
   "cell_type": "markdown",
   "metadata": {},
   "source": [
    "### Red Neuronal"
   ]
  },
  {
   "cell_type": "code",
   "execution_count": null,
   "metadata": {},
   "outputs": [
    {
     "name": "stdout",
     "output_type": "stream",
     "text": [
      "Model: \"model\"\n",
      "_________________________________________________________________\n",
      " Layer (type)                Output Shape              Param #   \n",
      "=================================================================\n",
      " inputs (InputLayer)         [(None, 1000)]            0         \n",
      "                                                                 \n",
      " embedding (Embedding)       (None, 1000, 128)         1280000   \n",
      "                                                                 \n",
      " lstm (LSTM)                 (None, 64)                49408     \n",
      "                                                                 \n",
      " out_layer (Dense)           (None, 1)                 65        \n",
      "                                                                 \n",
      " activation (Activation)     (None, 1)                 0         \n",
      "                                                                 \n",
      "=================================================================\n",
      "Total params: 1,329,473\n",
      "Trainable params: 1,329,473\n",
      "Non-trainable params: 0\n",
      "_________________________________________________________________\n",
      "Epoch 1/10\n"
     ]
    },
    {
     "name": "stderr",
     "output_type": "stream",
     "text": [
      "2023-11-15 21:13:40.011933: I tensorflow/core/common_runtime/executor.cc:1197] [/device:CPU:0] (DEBUG INFO) Executor start aborting (this does not indicate an error and you can ignore this message): INVALID_ARGUMENT: You must feed a value for placeholder tensor 'gradients/split_2_grad/concat/split_2/split_dim' with dtype int32\n",
      "\t [[{{node gradients/split_2_grad/concat/split_2/split_dim}}]]\n",
      "2023-11-15 21:13:40.014735: I tensorflow/core/common_runtime/executor.cc:1197] [/device:CPU:0] (DEBUG INFO) Executor start aborting (this does not indicate an error and you can ignore this message): INVALID_ARGUMENT: You must feed a value for placeholder tensor 'gradients/split_grad/concat/split/split_dim' with dtype int32\n",
      "\t [[{{node gradients/split_grad/concat/split/split_dim}}]]\n",
      "2023-11-15 21:13:40.015271: I tensorflow/core/common_runtime/executor.cc:1197] [/device:CPU:0] (DEBUG INFO) Executor start aborting (this does not indicate an error and you can ignore this message): INVALID_ARGUMENT: You must feed a value for placeholder tensor 'gradients/split_1_grad/concat/split_1/split_dim' with dtype int32\n",
      "\t [[{{node gradients/split_1_grad/concat/split_1/split_dim}}]]\n",
      "2023-11-15 21:13:40.113433: W tensorflow/tsl/platform/profile_utils/cpu_utils.cc:128] Failed to get CPU frequency: 0 Hz\n",
      "2023-11-15 21:13:40.289713: I tensorflow/core/common_runtime/executor.cc:1197] [/device:CPU:0] (DEBUG INFO) Executor start aborting (this does not indicate an error and you can ignore this message): INVALID_ARGUMENT: You must feed a value for placeholder tensor 'gradients/split_2_grad/concat/split_2/split_dim' with dtype int32\n",
      "\t [[{{node gradients/split_2_grad/concat/split_2/split_dim}}]]\n",
      "2023-11-15 21:13:40.290439: I tensorflow/core/common_runtime/executor.cc:1197] [/device:CPU:0] (DEBUG INFO) Executor start aborting (this does not indicate an error and you can ignore this message): INVALID_ARGUMENT: You must feed a value for placeholder tensor 'gradients/split_grad/concat/split/split_dim' with dtype int32\n",
      "\t [[{{node gradients/split_grad/concat/split/split_dim}}]]\n",
      "2023-11-15 21:13:40.291343: I tensorflow/core/common_runtime/executor.cc:1197] [/device:CPU:0] (DEBUG INFO) Executor start aborting (this does not indicate an error and you can ignore this message): INVALID_ARGUMENT: You must feed a value for placeholder tensor 'gradients/split_1_grad/concat/split_1/split_dim' with dtype int32\n",
      "\t [[{{node gradients/split_1_grad/concat/split_1/split_dim}}]]\n",
      "2023-11-15 21:13:40.575435: I tensorflow/core/common_runtime/executor.cc:1197] [/device:CPU:0] (DEBUG INFO) Executor start aborting (this does not indicate an error and you can ignore this message): INVALID_ARGUMENT: You must feed a value for placeholder tensor 'gradients/split_2_grad/concat/split_2/split_dim' with dtype int32\n",
      "\t [[{{node gradients/split_2_grad/concat/split_2/split_dim}}]]\n",
      "2023-11-15 21:13:40.576486: I tensorflow/core/common_runtime/executor.cc:1197] [/device:CPU:0] (DEBUG INFO) Executor start aborting (this does not indicate an error and you can ignore this message): INVALID_ARGUMENT: You must feed a value for placeholder tensor 'gradients/split_grad/concat/split/split_dim' with dtype int32\n",
      "\t [[{{node gradients/split_grad/concat/split/split_dim}}]]\n",
      "2023-11-15 21:13:40.576974: I tensorflow/core/common_runtime/executor.cc:1197] [/device:CPU:0] (DEBUG INFO) Executor start aborting (this does not indicate an error and you can ignore this message): INVALID_ARGUMENT: You must feed a value for placeholder tensor 'gradients/split_1_grad/concat/split_1/split_dim' with dtype int32\n",
      "\t [[{{node gradients/split_1_grad/concat/split_1/split_dim}}]]\n"
     ]
    },
    {
     "name": "stdout",
     "output_type": "stream",
     "text": [
      "190/190 [==============================] - ETA: 0s - loss: 0.4712 - accuracy: 0.7700"
     ]
    },
    {
     "name": "stderr",
     "output_type": "stream",
     "text": [
      "2023-11-15 21:16:44.401087: I tensorflow/core/common_runtime/executor.cc:1197] [/device:CPU:0] (DEBUG INFO) Executor start aborting (this does not indicate an error and you can ignore this message): INVALID_ARGUMENT: You must feed a value for placeholder tensor 'gradients/split_2_grad/concat/split_2/split_dim' with dtype int32\n",
      "\t [[{{node gradients/split_2_grad/concat/split_2/split_dim}}]]\n",
      "2023-11-15 21:16:44.401976: I tensorflow/core/common_runtime/executor.cc:1197] [/device:CPU:0] (DEBUG INFO) Executor start aborting (this does not indicate an error and you can ignore this message): INVALID_ARGUMENT: You must feed a value for placeholder tensor 'gradients/split_grad/concat/split/split_dim' with dtype int32\n",
      "\t [[{{node gradients/split_grad/concat/split/split_dim}}]]\n",
      "2023-11-15 21:16:44.402541: I tensorflow/core/common_runtime/executor.cc:1197] [/device:CPU:0] (DEBUG INFO) Executor start aborting (this does not indicate an error and you can ignore this message): INVALID_ARGUMENT: You must feed a value for placeholder tensor 'gradients/split_1_grad/concat/split_1/split_dim' with dtype int32\n",
      "\t [[{{node gradients/split_1_grad/concat/split_1/split_dim}}]]\n"
     ]
    },
    {
     "name": "stdout",
     "output_type": "stream",
     "text": [
      "190/190 [==============================] - 210s 1s/step - loss: 0.4712 - accuracy: 0.7700 - val_loss: 0.3429 - val_accuracy: 0.8530\n",
      "Epoch 2/10\n",
      "190/190 [==============================] - 232s 1s/step - loss: 0.2686 - accuracy: 0.8945 - val_loss: 0.3485 - val_accuracy: 0.8507\n",
      "465/465 [==============================] - 58s 126ms/step - loss: 0.3531 - accuracy: 0.8504\n",
      "Test set\n",
      "  Loss: 0.353\n",
      "  Accuracy: 0.850\n",
      "  1/465 [..............................] - ETA: 7:32"
     ]
    },
    {
     "name": "stderr",
     "output_type": "stream",
     "text": [
      "2023-11-15 21:22:02.769788: I tensorflow/core/common_runtime/executor.cc:1197] [/device:CPU:0] (DEBUG INFO) Executor start aborting (this does not indicate an error and you can ignore this message): INVALID_ARGUMENT: You must feed a value for placeholder tensor 'gradients/split_2_grad/concat/split_2/split_dim' with dtype int32\n",
      "\t [[{{node gradients/split_2_grad/concat/split_2/split_dim}}]]\n",
      "2023-11-15 21:22:02.770414: I tensorflow/core/common_runtime/executor.cc:1197] [/device:CPU:0] (DEBUG INFO) Executor start aborting (this does not indicate an error and you can ignore this message): INVALID_ARGUMENT: You must feed a value for placeholder tensor 'gradients/split_grad/concat/split/split_dim' with dtype int32\n",
      "\t [[{{node gradients/split_grad/concat/split/split_dim}}]]\n",
      "2023-11-15 21:22:02.770957: I tensorflow/core/common_runtime/executor.cc:1197] [/device:CPU:0] (DEBUG INFO) Executor start aborting (this does not indicate an error and you can ignore this message): INVALID_ARGUMENT: You must feed a value for placeholder tensor 'gradients/split_1_grad/concat/split_1/split_dim' with dtype int32\n",
      "\t [[{{node gradients/split_1_grad/concat/split_1/split_dim}}]]\n"
     ]
    },
    {
     "name": "stdout",
     "output_type": "stream",
     "text": [
      "465/465 [==============================] - 53s 113ms/step\n",
      "Accuracy: 0.8504032258064517\n",
      "Recall: 0.8519913885898815\n",
      "Precision: 0.8490211853043711\n",
      "f1 score: 0.8505036937541974\n"
     ]
    }
   ],
   "source": [
    "np.random.seed(1)\n",
    "tf.random.set_seed(1)\n",
    "keras.utils.set_random_seed(812)\n",
    "os.environ['PYTHONHASHSEED']=str(1)\n",
    "\n",
    "\n",
    "df_preprocesado_copy = df_preprocesado.copy()\n",
    "df_preprocesado_copy['sentimiento'] = df_preprocesado_copy['sentimiento'].map({'negativo': 0, 'positivo': 1})\n",
    "X_train, X_test, y_train, y_test = train_test_split(df_preprocesado_copy['review_es'], df_preprocesado_copy['sentimiento'], test_size=0.3, random_state=42)\n",
    "\n",
    "max_words = 10000\n",
    "max_len = 1000\n",
    "tok = Tokenizer(num_words=max_words)\n",
    "tok.fit_on_texts(X_train)\n",
    "sequences = tok.texts_to_sequences(X_train)\n",
    "sequences_matrix = pad_sequences(sequences,maxlen=max_len)\n",
    "\n",
    "def red_neuronal_recurrente():\n",
    "    inputs = Input(name='inputs', shape=[max_len])\n",
    "    layer = Embedding(max_words, 128, input_length=max_len)(inputs)\n",
    "    layer = LSTM(64)(layer)\n",
    "    # layer = Dense(256,name='FC1')(layer)\n",
    "    # layer = Activation('relu')(layer)\n",
    "    # layer = Dropout(0.5)(layer)\n",
    "    layer = Dense(1,name='out_layer')(layer)\n",
    "    layer = Activation('sigmoid')(layer)\n",
    "    model = tf.keras.Model(inputs=inputs,outputs=layer)\n",
    "    return model\n",
    "\n",
    "model_rnn = red_neuronal_recurrente()\n",
    "model_rnn.summary()\n",
    "model_rnn.compile(loss='binary_crossentropy', optimizer='adam', metrics=['accuracy'])\n",
    "\n",
    "model_rnn.fit(sequences_matrix, y_train, batch_size=128, epochs=10, \n",
    "            validation_split=0.3,callbacks=[EarlyStopping(monitor='val_loss',min_delta=0.0001)])\n",
    "\n",
    "test_sequences = tok.texts_to_sequences(X_test)\n",
    "test_sequences_matrix = pad_sequences(test_sequences, maxlen=max_len)\n",
    "\n",
    "accr = model_rnn.evaluate(test_sequences_matrix, y_test)\n",
    "\n",
    "print('Test set\\n  Loss: {:0.3f}\\n  Accuracy: {:0.3f}'.format(accr[0],accr[1]))\n",
    "\n",
    "prediccion = model_rnn.predict(test_sequences_matrix)\n",
    "prediccion = np.where(prediccion >= 0.5, 1, 0)\n",
    "mostrar_scores(y_test, prediccion)\n",
    "prediccion = np.where(prediccion == 1, 'positivo', 'negativo')\n"
   ]
  },
  {
   "cell_type": "code",
   "execution_count": null,
   "metadata": {},
   "outputs": [
    {
     "data": {
      "image/png": "[encoded data removed]",
      "text/plain": [
       "<Figure size 640x480 with 2 Axes>"
      ]
     },
     "metadata": {},
     "output_type": "display_data"
    }
   ],
   "source": [
    "prediccion_heatmap = np.where(prediccion == 'positivo', 1, 0)\n",
    "\n",
    "tabla = confusion_matrix(y_test, prediccion_heatmap)\n",
    "sns.heatmap(tabla, annot=True, fmt='d')\n",
    "plt.xlabel('Predicho')\n",
    "plt.ylabel('Real')\n",
    "plt.show()"
   ]
  },
  {
   "cell_type": "code",
   "execution_count": null,
   "metadata": {},
   "outputs": [
    {
     "name": "stdout",
     "output_type": "stream",
     "text": [
      "   1/1085 [..............................] - ETA: 4:56"
     ]
    },
    {
     "name": "stderr",
     "output_type": "stream",
     "text": [
      "2023-11-15 21:23:10.561498: I tensorflow/core/common_runtime/executor.cc:1197] [/device:CPU:0] (DEBUG INFO) Executor start aborting (this does not indicate an error and you can ignore this message): INVALID_ARGUMENT: You must feed a value for placeholder tensor 'gradients/split_2_grad/concat/split_2/split_dim' with dtype int32\n",
      "\t [[{{node gradients/split_2_grad/concat/split_2/split_dim}}]]\n",
      "2023-11-15 21:23:10.561955: I tensorflow/core/common_runtime/executor.cc:1197] [/device:CPU:0] (DEBUG INFO) Executor start aborting (this does not indicate an error and you can ignore this message): INVALID_ARGUMENT: You must feed a value for placeholder tensor 'gradients/split_grad/concat/split/split_dim' with dtype int32\n",
      "\t [[{{node gradients/split_grad/concat/split/split_dim}}]]\n",
      "2023-11-15 21:23:10.562568: I tensorflow/core/common_runtime/executor.cc:1197] [/device:CPU:0] (DEBUG INFO) Executor start aborting (this does not indicate an error and you can ignore this message): INVALID_ARGUMENT: You must feed a value for placeholder tensor 'gradients/split_1_grad/concat/split_1/split_dim' with dtype int32\n",
      "\t [[{{node gradients/split_1_grad/concat/split_1/split_dim}}]]\n"
     ]
    },
    {
     "name": "stdout",
     "output_type": "stream",
     "text": [
      "1085/1085 [==============================] - 114s 105ms/step\n",
      "Accuracy: 0.9131311385696592\n",
      "Recall: 0.9119399564569726\n",
      "Precision: 0.9149804552770752\n",
      "f1 score: 0.9134576757532281\n"
     ]
    }
   ],
   "source": [
    "train_sequences = tok.texts_to_sequences(X_train)\n",
    "train_sequences_matrix = pad_sequences(train_sequences, maxlen=max_len)\n",
    "prediccion_train = model_rnn.predict(train_sequences_matrix)\n",
    "prediccion_train = np.where(prediccion_train >= 0.5, 1, 0)\n",
    "mostrar_scores(y_train, prediccion_train)"
   ]
  },
  {
   "cell_type": "code",
   "execution_count": null,
   "metadata": {},
   "outputs": [
    {
     "name": "stdout",
     "output_type": "stream",
     "text": [
      "Epoch 1/10\n"
     ]
    },
    {
     "name": "stderr",
     "output_type": "stream",
     "text": [
      "2023-11-15 22:15:33.883538: I tensorflow/core/common_runtime/executor.cc:1197] [/device:CPU:0] (DEBUG INFO) Executor start aborting (this does not indicate an error and you can ignore this message): INVALID_ARGUMENT: You must feed a value for placeholder tensor 'gradients/split_2_grad/concat/split_2/split_dim' with dtype int32\n",
      "\t [[{{node gradients/split_2_grad/concat/split_2/split_dim}}]]\n",
      "2023-11-15 22:15:33.884783: I tensorflow/core/common_runtime/executor.cc:1197] [/device:CPU:0] (DEBUG INFO) Executor start aborting (this does not indicate an error and you can ignore this message): INVALID_ARGUMENT: You must feed a value for placeholder tensor 'gradients/split_grad/concat/split/split_dim' with dtype int32\n",
      "\t [[{{node gradients/split_grad/concat/split/split_dim}}]]\n",
      "2023-11-15 22:15:33.885307: I tensorflow/core/common_runtime/executor.cc:1197] [/device:CPU:0] (DEBUG INFO) Executor start aborting (this does not indicate an error and you can ignore this message): INVALID_ARGUMENT: You must feed a value for placeholder tensor 'gradients/split_1_grad/concat/split_1/split_dim' with dtype int32\n",
      "\t [[{{node gradients/split_1_grad/concat/split_1/split_dim}}]]\n",
      "2023-11-15 22:15:34.065454: I tensorflow/core/common_runtime/executor.cc:1197] [/device:CPU:0] (DEBUG INFO) Executor start aborting (this does not indicate an error and you can ignore this message): INVALID_ARGUMENT: You must feed a value for placeholder tensor 'gradients/split_2_grad/concat/split_2/split_dim' with dtype int32\n",
      "\t [[{{node gradients/split_2_grad/concat/split_2/split_dim}}]]\n",
      "2023-11-15 22:15:34.066121: I tensorflow/core/common_runtime/executor.cc:1197] [/device:CPU:0] (DEBUG INFO) Executor start aborting (this does not indicate an error and you can ignore this message): INVALID_ARGUMENT: You must feed a value for placeholder tensor 'gradients/split_grad/concat/split/split_dim' with dtype int32\n",
      "\t [[{{node gradients/split_grad/concat/split/split_dim}}]]\n",
      "2023-11-15 22:15:34.066747: I tensorflow/core/common_runtime/executor.cc:1197] [/device:CPU:0] (DEBUG INFO) Executor start aborting (this does not indicate an error and you can ignore this message): INVALID_ARGUMENT: You must feed a value for placeholder tensor 'gradients/split_1_grad/concat/split_1/split_dim' with dtype int32\n",
      "\t [[{{node gradients/split_1_grad/concat/split_1/split_dim}}]]\n",
      "2023-11-15 22:15:34.340900: I tensorflow/core/common_runtime/executor.cc:1197] [/device:CPU:0] (DEBUG INFO) Executor start aborting (this does not indicate an error and you can ignore this message): INVALID_ARGUMENT: You must feed a value for placeholder tensor 'gradients/split_2_grad/concat/split_2/split_dim' with dtype int32\n",
      "\t [[{{node gradients/split_2_grad/concat/split_2/split_dim}}]]\n",
      "2023-11-15 22:15:34.341563: I tensorflow/core/common_runtime/executor.cc:1197] [/device:CPU:0] (DEBUG INFO) Executor start aborting (this does not indicate an error and you can ignore this message): INVALID_ARGUMENT: You must feed a value for placeholder tensor 'gradients/split_grad/concat/split/split_dim' with dtype int32\n",
      "\t [[{{node gradients/split_grad/concat/split/split_dim}}]]\n",
      "2023-11-15 22:15:34.342222: I tensorflow/core/common_runtime/executor.cc:1197] [/device:CPU:0] (DEBUG INFO) Executor start aborting (this does not indicate an error and you can ignore this message): INVALID_ARGUMENT: You must feed a value for placeholder tensor 'gradients/split_1_grad/concat/split_1/split_dim' with dtype int32\n",
      "\t [[{{node gradients/split_1_grad/concat/split_1/split_dim}}]]\n"
     ]
    },
    {
     "name": "stdout",
     "output_type": "stream",
     "text": [
      "1085/1085 [==============================] - 553s 509ms/step - loss: 0.4476 - accuracy: 0.7848\n",
      "Epoch 2/10\n",
      "1085/1085 [==============================] - 536s 494ms/step - loss: 0.2515 - accuracy: 0.8988\n",
      "Epoch 3/10\n",
      "1085/1085 [==============================] - 531s 489ms/step - loss: 0.1804 - accuracy: 0.9318\n",
      "Epoch 4/10\n",
      "1085/1085 [==============================] - 533s 491ms/step - loss: 0.1094 - accuracy: 0.9612\n",
      "Epoch 5/10\n",
      "1085/1085 [==============================] - 539s 497ms/step - loss: 0.0599 - accuracy: 0.9803\n",
      "Epoch 6/10\n",
      "1085/1085 [==============================] - 553s 509ms/step - loss: 0.0414 - accuracy: 0.9860\n",
      "Epoch 7/10\n",
      "1085/1085 [==============================] - 540s 498ms/step - loss: 0.0246 - accuracy: 0.9921\n",
      "Epoch 8/10\n",
      "1085/1085 [==============================] - 539s 497ms/step - loss: 0.0200 - accuracy: 0.9933\n",
      "Epoch 9/10\n",
      "1085/1085 [==============================] - 536s 494ms/step - loss: 0.0201 - accuracy: 0.9929\n",
      "Epoch 10/10\n",
      "1085/1085 [==============================] - 540s 498ms/step - loss: 0.0162 - accuracy: 0.9941\n"
     ]
    },
    {
     "data": {
      "text/plain": [
       "<keras.callbacks.History at 0x28e436290>"
      ]
     },
     "execution_count": 92,
     "metadata": {},
     "output_type": "execute_result"
    }
   ],
   "source": [
    "np.random.seed(1)\n",
    "tf.random.set_seed(1)\n",
    "keras.utils.set_random_seed(812)\n",
    "os.environ['PYTHONHASHSEED']=str(1)\n",
    "\n",
    "df_preprocesado_copy = df_preprocesado.copy()\n",
    "df_preprocesado_copy['sentimiento'] = df_preprocesado_copy['sentimiento'].map({'negativo': 0, 'positivo': 1})\n",
    "x_train, x_test, y_train, y_test = train_test_split(df_preprocesado_copy['review_es'], df_preprocesado_copy['sentimiento'], test_size=0.3, random_state=42)\n",
    "\n",
    "max_len = 1000\n",
    "tok = Tokenizer(num_words=max_words)\n",
    "tok.fit_on_texts(X_train)\n",
    "sequences = tok.texts_to_sequences(X_train)\n",
    "sequences_matrix = pad_sequences(sequences,maxlen=max_len)\n",
    "\n",
    "model = tf.keras.Sequential([\n",
    "    tf.keras.layers.Embedding(input_dim=10000, output_dim=128),\n",
    "    tf.keras.layers.Conv1D(filters=64, kernel_size=3, padding='same', activation='relu'),\n",
    "    tf.keras.layers.GRU(128),\n",
    "    tf.keras.layers.Dense(1, activation='sigmoid')\n",
    "])\n",
    "\n",
    "model.compile(loss='binary_crossentropy', optimizer='adam', metrics=['accuracy'])\n",
    "model.fit(x=sequences_matrix, y=y_train, epochs=10)\n",
    "\n",
    "# model.evaluate(x=x_test, y=y_test)\n"
   ]
  },
  {
   "cell_type": "code",
   "execution_count": null,
   "metadata": {},
   "outputs": [
    {
     "name": "stdout",
     "output_type": "stream",
     "text": [
      "465/465 [==============================] - 53s 113ms/step\n",
      "Accuracy: 0.8436155913978495\n",
      "Recall: 0.8690796555435952\n",
      "Precision: 0.8266990912581594\n",
      "f1 score: 0.8473597900951131\n"
     ]
    }
   ],
   "source": [
    "test_sequences = tok.texts_to_sequences(x_test)\n",
    "test_sequences_matrix = pad_sequences(test_sequences, maxlen=1000)\n",
    "prediccion = model.predict(test_sequences_matrix)\n",
    "prediccion = np.where(prediccion >= 0.5, 1, 0)\n",
    "mostrar_scores(y_test, prediccion)\n",
    "prediccion = np.where(prediccion == 1, 'positivo', 'negativo')"
   ]
  },
  {
   "cell_type": "code",
   "execution_count": null,
   "metadata": {},
   "outputs": [
    {
     "name": "stderr",
     "output_type": "stream",
     "text": [
      "2023-11-15 23:53:15.747490: I tensorflow/core/common_runtime/executor.cc:1197] [/device:CPU:0] (DEBUG INFO) Executor start aborting (this does not indicate an error and you can ignore this message): INVALID_ARGUMENT: You must feed a value for placeholder tensor 'gradients/split_2_grad/concat/split_2/split_dim' with dtype int32\n",
      "\t [[{{node gradients/split_2_grad/concat/split_2/split_dim}}]]\n",
      "2023-11-15 23:53:15.748132: I tensorflow/core/common_runtime/executor.cc:1197] [/device:CPU:0] (DEBUG INFO) Executor start aborting (this does not indicate an error and you can ignore this message): INVALID_ARGUMENT: You must feed a value for placeholder tensor 'gradients/split_grad/concat/split/split_dim' with dtype int32\n",
      "\t [[{{node gradients/split_grad/concat/split/split_dim}}]]\n",
      "2023-11-15 23:53:15.748825: I tensorflow/core/common_runtime/executor.cc:1197] [/device:CPU:0] (DEBUG INFO) Executor start aborting (this does not indicate an error and you can ignore this message): INVALID_ARGUMENT: You must feed a value for placeholder tensor 'gradients/split_1_grad/concat/split_1/split_dim' with dtype int32\n",
      "\t [[{{node gradients/split_1_grad/concat/split_1/split_dim}}]]\n"
     ]
    },
    {
     "name": "stdout",
     "output_type": "stream",
     "text": [
      "1085/1085 [==============================] - 126s 115ms/step\n",
      "Accuracy: 0.9976669834960684\n",
      "Recall: 0.999427065429128\n",
      "Precision: 0.9959463317156723\n",
      "f1 score: 0.997683662672653\n"
     ]
    }
   ],
   "source": [
    "train_sequences = tok.texts_to_sequences(x_train)\n",
    "train_sequences_matrix = pad_sequences(train_sequences, maxlen=max_len)\n",
    "prediccion_train = model.predict(train_sequences_matrix)\n",
    "prediccion_train = np.where(prediccion_train >= 0.5, 1, 0)\n",
    "mostrar_scores(y_train, prediccion_train)"
   ]
  },
  {
   "cell_type": "markdown",
   "metadata": {},
   "source": [
    "### Ensamble de modelos"
   ]
  },
  {
   "cell_type": "code",
   "execution_count": null,
   "metadata": {},
   "outputs": [
    {
     "data": {
      "text/html": [
       "<div>\n",
       "<style scoped>\n",
       "    .dataframe tbody tr th:only-of-type {\n",
       "        vertical-align: middle;\n",
       "    }\n",
       "\n",
       "    .dataframe tbody tr th {\n",
       "        vertical-align: top;\n",
       "    }\n",
       "\n",
       "    .dataframe thead th {\n",
       "        text-align: right;\n",
       "    }\n",
       "</style>\n",
       "<table border=\"1\" class=\"dataframe\">\n",
       "  <thead>\n",
       "    <tr style=\"text-align: right;\">\n",
       "      <th></th>\n",
       "      <th>ID</th>\n",
       "      <th>review_es</th>\n",
       "      <th>sentimiento</th>\n",
       "    </tr>\n",
       "  </thead>\n",
       "  <tbody>\n",
       "    <tr>\n",
       "      <th>0</th>\n",
       "      <td>0</td>\n",
       "      <td>críticos mencionado después ver solo oz episod...</td>\n",
       "      <td>1</td>\n",
       "    </tr>\n",
       "    <tr>\n",
       "      <th>1</th>\n",
       "      <td>1</td>\n",
       "      <td>pequeña pequeña producciónla técnica filmación...</td>\n",
       "      <td>1</td>\n",
       "    </tr>\n",
       "    <tr>\n",
       "      <th>2</th>\n",
       "      <td>2</td>\n",
       "      <td>pensé manera maravillosa pasar tiempo fin sema...</td>\n",
       "      <td>1</td>\n",
       "    </tr>\n",
       "    <tr>\n",
       "      <th>3</th>\n",
       "      <td>3</td>\n",
       "      <td>básicamente familia niño pequeño jake piensa z...</td>\n",
       "      <td>0</td>\n",
       "    </tr>\n",
       "    <tr>\n",
       "      <th>4</th>\n",
       "      <td>4</td>\n",
       "      <td>amor tiempo petter mattei película visualmente...</td>\n",
       "      <td>1</td>\n",
       "    </tr>\n",
       "    <tr>\n",
       "      <th>...</th>\n",
       "      <td>...</td>\n",
       "      <td>...</td>\n",
       "      <td>...</td>\n",
       "    </tr>\n",
       "    <tr>\n",
       "      <th>49995</th>\n",
       "      <td>49995</td>\n",
       "      <td>pensé película hizo buen trabajo derechano tan...</td>\n",
       "      <td>1</td>\n",
       "    </tr>\n",
       "    <tr>\n",
       "      <th>49996</th>\n",
       "      <td>49996</td>\n",
       "      <td>mala parcela mal diálogo mala actuación direcc...</td>\n",
       "      <td>0</td>\n",
       "    </tr>\n",
       "    <tr>\n",
       "      <th>49997</th>\n",
       "      <td>49997</td>\n",
       "      <td>católica enseñada escuelas primarias parroquia...</td>\n",
       "      <td>0</td>\n",
       "    </tr>\n",
       "    <tr>\n",
       "      <th>49998</th>\n",
       "      <td>49998</td>\n",
       "      <td>voy tener desacuerdo comentario anterior lado ...</td>\n",
       "      <td>0</td>\n",
       "    </tr>\n",
       "    <tr>\n",
       "      <th>49999</th>\n",
       "      <td>49999</td>\n",
       "      <td>nadie espera películas star trek altas artes f...</td>\n",
       "      <td>0</td>\n",
       "    </tr>\n",
       "  </tbody>\n",
       "</table>\n",
       "<p>49599 rows × 3 columns</p>\n",
       "</div>"
      ],
      "text/plain": [
       "          ID                                          review_es  sentimiento\n",
       "0          0  críticos mencionado después ver solo oz episod...            1\n",
       "1          1  pequeña pequeña producciónla técnica filmación...            1\n",
       "2          2  pensé manera maravillosa pasar tiempo fin sema...            1\n",
       "3          3  básicamente familia niño pequeño jake piensa z...            0\n",
       "4          4  amor tiempo petter mattei película visualmente...            1\n",
       "...      ...                                                ...          ...\n",
       "49995  49995  pensé película hizo buen trabajo derechano tan...            1\n",
       "49996  49996  mala parcela mal diálogo mala actuación direcc...            0\n",
       "49997  49997  católica enseñada escuelas primarias parroquia...            0\n",
       "49998  49998  voy tener desacuerdo comentario anterior lado ...            0\n",
       "49999  49999  nadie espera películas star trek altas artes f...            0\n",
       "\n",
       "[49599 rows x 3 columns]"
      ]
     },
     "metadata": {},
     "output_type": "display_data"
    }
   ],
   "source": [
    "display(df_preprocesado_copy)"
   ]
  },
  {
   "cell_type": "code",
   "execution_count": null,
   "metadata": {},
   "outputs": [
    {
     "name": "stdout",
     "output_type": "stream",
     "text": [
      "Accuracy: 0.874260752688172\n",
      "Recall: 0.8969321851453176\n",
      "Precision: 0.8578046583451293\n",
      "f1 score: 0.8769321844372822\n"
     ]
    }
   ],
   "source": [
    "estimators = [('xgb', modelo_xg_boost), ('lr', modelo_regresion_logistica), ('mnb', modelo_tfidf)]\n",
    "ensamble = VotingClassifier(estimators=estimators, voting='soft')\n",
    "ensamble.fit(X_train, y_train)\n",
    "\n",
    "prediccion = ensamble.predict(X_test)\n",
    "mostrar_scores(y_test, prediccion)"
   ]
  },
  {
   "cell_type": "code",
   "execution_count": null,
   "metadata": {},
   "outputs": [
    {
     "name": "stdout",
     "output_type": "stream",
     "text": [
      "Accuracy: 0.9159538005126876\n",
      "Recall: 0.9333677094075856\n",
      "Precision: 0.902748531530533\n",
      "f1 score: 0.9178028169014084\n"
     ]
    }
   ],
   "source": [
    "prediccion_train = ensamble.predict(X_train)\n",
    "\n",
    "mostrar_scores(y_train, prediccion_train)"
   ]
  },
  {
   "cell_type": "markdown",
   "metadata": {},
   "source": [
    "#### Prediccion en los datos de test"
   ]
  },
  {
   "cell_type": "code",
   "execution_count": null,
   "metadata": {},
   "outputs": [
    {
     "data": {
      "text/html": [
       "<div>\n",
       "<style scoped>\n",
       "    .dataframe tbody tr th:only-of-type {\n",
       "        vertical-align: middle;\n",
       "    }\n",
       "\n",
       "    .dataframe tbody tr th {\n",
       "        vertical-align: top;\n",
       "    }\n",
       "\n",
       "    .dataframe thead th {\n",
       "        text-align: right;\n",
       "    }\n",
       "</style>\n",
       "<table border=\"1\" class=\"dataframe\">\n",
       "  <thead>\n",
       "    <tr style=\"text-align: right;\">\n",
       "      <th></th>\n",
       "      <th>ID</th>\n",
       "      <th>review_es</th>\n",
       "    </tr>\n",
       "  </thead>\n",
       "  <tbody>\n",
       "    <tr>\n",
       "      <th>0</th>\n",
       "      <td>60000</td>\n",
       "      <td>La mayor virtud de esta película es su existen...</td>\n",
       "    </tr>\n",
       "    <tr>\n",
       "      <th>1</th>\n",
       "      <td>60001</td>\n",
       "      <td>No soy un experto cinéfilo, pero pocas veces m...</td>\n",
       "    </tr>\n",
       "    <tr>\n",
       "      <th>2</th>\n",
       "      <td>60002</td>\n",
       "      <td>Si no eres un incondicional del humor estilo T...</td>\n",
       "    </tr>\n",
       "    <tr>\n",
       "      <th>3</th>\n",
       "      <td>60003</td>\n",
       "      <td>No sé qué está pasando, si la gente se deja ll...</td>\n",
       "    </tr>\n",
       "    <tr>\n",
       "      <th>4</th>\n",
       "      <td>60004</td>\n",
       "      <td>Pero cuando amanece,y me quedo solo,siento en ...</td>\n",
       "    </tr>\n",
       "    <tr>\n",
       "      <th>...</th>\n",
       "      <td>...</td>\n",
       "      <td>...</td>\n",
       "    </tr>\n",
       "    <tr>\n",
       "      <th>8594</th>\n",
       "      <td>68594</td>\n",
       "      <td>Buena no, lo siguiente. Por fin un film serio ...</td>\n",
       "    </tr>\n",
       "    <tr>\n",
       "      <th>8595</th>\n",
       "      <td>68595</td>\n",
       "      <td>Me esperaba mucho, pero que mucho, más.Guión m...</td>\n",
       "    </tr>\n",
       "    <tr>\n",
       "      <th>8596</th>\n",
       "      <td>68596</td>\n",
       "      <td>De mal cuerpo como sensación al finalizar, de ...</td>\n",
       "    </tr>\n",
       "    <tr>\n",
       "      <th>8597</th>\n",
       "      <td>68597</td>\n",
       "      <td>Los que han añadido comentarios os lo han dich...</td>\n",
       "    </tr>\n",
       "    <tr>\n",
       "      <th>8598</th>\n",
       "      <td>68598</td>\n",
       "      <td>Fui a ver esta película de cine con entusiasmo...</td>\n",
       "    </tr>\n",
       "  </tbody>\n",
       "</table>\n",
       "<p>8599 rows × 2 columns</p>\n",
       "</div>"
      ],
      "text/plain": [
       "         ID                                          review_es\n",
       "0     60000  La mayor virtud de esta película es su existen...\n",
       "1     60001  No soy un experto cinéfilo, pero pocas veces m...\n",
       "2     60002  Si no eres un incondicional del humor estilo T...\n",
       "3     60003  No sé qué está pasando, si la gente se deja ll...\n",
       "4     60004  Pero cuando amanece,y me quedo solo,siento en ...\n",
       "...     ...                                                ...\n",
       "8594  68594  Buena no, lo siguiente. Por fin un film serio ...\n",
       "8595  68595  Me esperaba mucho, pero que mucho, más.Guión m...\n",
       "8596  68596  De mal cuerpo como sensación al finalizar, de ...\n",
       "8597  68597  Los que han añadido comentarios os lo han dich...\n",
       "8598  68598  Fui a ver esta película de cine con entusiasmo...\n",
       "\n",
       "[8599 rows x 2 columns]"
      ]
     },
     "execution_count": 31,
     "metadata": {},
     "output_type": "execute_result"
    }
   ],
   "source": [
    "df_test = pd.read_csv('test.csv', sep=',')\n",
    "df_test"
   ]
  },
  {
   "cell_type": "code",
   "execution_count": null,
   "metadata": {},
   "outputs": [],
   "source": [
    "df_test_copia = df_test.copy()\n",
    "df_test_copia['review_es'] = df_test_copia['review_es'].apply(preprocess_text)\n",
    "\n",
    "train_sequences = tok.texts_to_sequences(df_test_copia['review_es'])\n",
    "train_sequences_matrix = pad_sequences(train_sequences, maxlen=max_len)\n",
    "prediccion_final = model.predict(train_sequences_matrix)\n",
    "prediccion_final = np.where(prediccion_final >= 0.5, 1, 0)\n",
    "\n",
    "\n",
    "prediccion_final = np.where(prediccion_final == 0, 'negativo', 'positivo')\n",
    "\n",
    "\n",
    "df_entrega = df_test.copy()\n",
    "\n",
    "df_entrega['sentimiento'] = prediccion_final\n",
    "df_entrega.drop('review_es', axis=1, inplace=True)\n",
    "\n",
    "df_entrega.to_csv('rnr_conv.csv', index=False)"
   ]
  }
 ],
 "metadata": {
  "kernelspec": {
   "display_name": "base",
   "language": "python",
   "name": "python3"
  },
  "language_info": {
   "codemirror_mode": {
    "name": "ipython",
    "version": 3
   },
   "file_extension": ".py",
   "mimetype": "text/x-python",
   "name": "python",
   "nbconvert_exporter": "python",
   "pygments_lexer": "ipython3",
   "version": "3.11.4"
  }
 },
 "nbformat": 4,
 "nbformat_minor": 2
}
