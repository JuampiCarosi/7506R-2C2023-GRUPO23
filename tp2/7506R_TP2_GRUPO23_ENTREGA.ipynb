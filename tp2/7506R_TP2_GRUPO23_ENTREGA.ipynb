{
 "cells": [
  {
   "cell_type": "markdown",
   "metadata": {},
   "source": [
    "# TP 2 - Procesamiento del Lenguaje Natural"
   ]
  },
  {
   "cell_type": "markdown",
   "metadata": {},
   "source": [
    "## Librerias"
   ]
  },
  {
   "cell_type": "code",
   "execution_count": 1,
   "metadata": {},
   "outputs": [],
   "source": [
    "import pandas as pd\n",
    "import numpy as np\n",
    "from sklearn.metrics import f1_score,  recall_score, precision_score, accuracy_score\n",
    "from sklearn.model_selection import train_test_split, GridSearchCV\n",
    "from sklearn.feature_extraction.text import CountVectorizer, TfidfVectorizer\n",
    "from sklearn.naive_bayes import MultinomialNB, GaussianNB, BernoulliNB\n",
    "from sklearn.pipeline import make_pipeline, Pipeline\n",
    "from sklearn.metrics import confusion_matrix, classification_report\n",
    "from mlxtend.preprocessing import DenseTransformer\n",
    "from sklearn.feature_extraction.text import TfidfVectorizer\n",
    "from xgboost import XGBClassifier\n",
    "from sklearn.metrics import f1_score\n",
    "import matplotlib.pyplot as plt\n",
    "import seaborn as sns\n",
    "import re\n",
    "import nltk\n",
    "from nltk.corpus import stopwords\n",
    "import matplotlib.pyplot as plt\n",
    "import seaborn as sns\n",
    "from sklearn.metrics import confusion_matrix\n",
    "from sklearn.linear_model import LogisticRegression\n",
    "from sklearn.pipeline import Pipeline\n",
    "from sklearn.feature_extraction.text import TfidfVectorizer\n",
    "from sklearn.metrics import f1_score\n",
    "from sklearn.model_selection import RandomizedSearchCV\n",
    "from sklearn.model_selection import StratifiedKFold\n",
    "from sklearn.model_selection import cross_val_score\n",
    "import tensorflow as tf\n",
    "from tensorflow import keras\n",
    "from tensorflow.keras.layers import Dense, Dropout, Activation\n",
    "from tensorflow.keras.optimizers import SGD\n",
    "from tensorflow.keras.preprocessing.text import Tokenizer\n",
    "from tensorflow.keras.preprocessing.sequence import pad_sequences\n",
    "from tensorflow.keras.callbacks import EarlyStopping\n",
    "from tensorflow.keras.layers import LSTM, Embedding\n",
    "from tensorflow.keras.layers import Dense, Input, Dropout\n",
    "import os"
   ]
  },
  {
   "cell_type": "code",
   "execution_count": 2,
   "metadata": {},
   "outputs": [
    {
     "data": {
      "text/html": [
       "<div>\n",
       "<style scoped>\n",
       "    .dataframe tbody tr th:only-of-type {\n",
       "        vertical-align: middle;\n",
       "    }\n",
       "\n",
       "    .dataframe tbody tr th {\n",
       "        vertical-align: top;\n",
       "    }\n",
       "\n",
       "    .dataframe thead th {\n",
       "        text-align: right;\n",
       "    }\n",
       "</style>\n",
       "<table border=\"1\" class=\"dataframe\">\n",
       "  <thead>\n",
       "    <tr style=\"text-align: right;\">\n",
       "      <th></th>\n",
       "      <th>ID</th>\n",
       "      <th>review_es</th>\n",
       "      <th>sentimiento</th>\n",
       "    </tr>\n",
       "  </thead>\n",
       "  <tbody>\n",
       "    <tr>\n",
       "      <th>0</th>\n",
       "      <td>0</td>\n",
       "      <td>Uno de los otros críticos ha mencionado que de...</td>\n",
       "      <td>positivo</td>\n",
       "    </tr>\n",
       "    <tr>\n",
       "      <th>1</th>\n",
       "      <td>1</td>\n",
       "      <td>Una pequeña pequeña producción.La técnica de f...</td>\n",
       "      <td>positivo</td>\n",
       "    </tr>\n",
       "    <tr>\n",
       "      <th>2</th>\n",
       "      <td>2</td>\n",
       "      <td>Pensé que esta era una manera maravillosa de p...</td>\n",
       "      <td>positivo</td>\n",
       "    </tr>\n",
       "    <tr>\n",
       "      <th>3</th>\n",
       "      <td>3</td>\n",
       "      <td>Básicamente, hay una familia donde un niño peq...</td>\n",
       "      <td>negativo</td>\n",
       "    </tr>\n",
       "    <tr>\n",
       "      <th>4</th>\n",
       "      <td>4</td>\n",
       "      <td>El \"amor en el tiempo\" de Petter Mattei es una...</td>\n",
       "      <td>positivo</td>\n",
       "    </tr>\n",
       "    <tr>\n",
       "      <th>5</th>\n",
       "      <td>5</td>\n",
       "      <td>Probablemente mi película favorita de todos lo...</td>\n",
       "      <td>positivo</td>\n",
       "    </tr>\n",
       "    <tr>\n",
       "      <th>6</th>\n",
       "      <td>6</td>\n",
       "      <td>Seguro que me gustaría ver una resurrección de...</td>\n",
       "      <td>positivo</td>\n",
       "    </tr>\n",
       "    <tr>\n",
       "      <th>7</th>\n",
       "      <td>7</td>\n",
       "      <td>Este espectáculo fue una idea increíble, fresc...</td>\n",
       "      <td>negativo</td>\n",
       "    </tr>\n",
       "    <tr>\n",
       "      <th>8</th>\n",
       "      <td>8</td>\n",
       "      <td>Alentados por los comentarios positivos sobre ...</td>\n",
       "      <td>negativo</td>\n",
       "    </tr>\n",
       "    <tr>\n",
       "      <th>9</th>\n",
       "      <td>9</td>\n",
       "      <td>Si te gusta la risa original desgarradora, te ...</td>\n",
       "      <td>positivo</td>\n",
       "    </tr>\n",
       "  </tbody>\n",
       "</table>\n",
       "</div>"
      ],
      "text/plain": [
       "   ID                                          review_es sentimiento\n",
       "0   0  Uno de los otros críticos ha mencionado que de...    positivo\n",
       "1   1  Una pequeña pequeña producción.La técnica de f...    positivo\n",
       "2   2  Pensé que esta era una manera maravillosa de p...    positivo\n",
       "3   3  Básicamente, hay una familia donde un niño peq...    negativo\n",
       "4   4  El \"amor en el tiempo\" de Petter Mattei es una...    positivo\n",
       "5   5  Probablemente mi película favorita de todos lo...    positivo\n",
       "6   6  Seguro que me gustaría ver una resurrección de...    positivo\n",
       "7   7  Este espectáculo fue una idea increíble, fresc...    negativo\n",
       "8   8  Alentados por los comentarios positivos sobre ...    negativo\n",
       "9   9  Si te gusta la risa original desgarradora, te ...    positivo"
      ]
     },
     "execution_count": 2,
     "metadata": {},
     "output_type": "execute_result"
    }
   ],
   "source": [
    "df = pd.read_csv('train.csv', sep=',')\n",
    "df.head(10)"
   ]
  },
  {
   "cell_type": "code",
   "execution_count": 3,
   "metadata": {},
   "outputs": [
    {
     "data": {
      "text/plain": [
       "(50000, 3)"
      ]
     },
     "execution_count": 3,
     "metadata": {},
     "output_type": "execute_result"
    }
   ],
   "source": [
    "df.shape"
   ]
  },
  {
   "cell_type": "code",
   "execution_count": 4,
   "metadata": {},
   "outputs": [
    {
     "data": {
      "text/html": [
       "<div>\n",
       "<style scoped>\n",
       "    .dataframe tbody tr th:only-of-type {\n",
       "        vertical-align: middle;\n",
       "    }\n",
       "\n",
       "    .dataframe tbody tr th {\n",
       "        vertical-align: top;\n",
       "    }\n",
       "\n",
       "    .dataframe thead th {\n",
       "        text-align: right;\n",
       "    }\n",
       "</style>\n",
       "<table border=\"1\" class=\"dataframe\">\n",
       "  <thead>\n",
       "    <tr style=\"text-align: right;\">\n",
       "      <th></th>\n",
       "      <th>ID</th>\n",
       "      <th>review_es</th>\n",
       "    </tr>\n",
       "  </thead>\n",
       "  <tbody>\n",
       "    <tr>\n",
       "      <th>0</th>\n",
       "      <td>60000</td>\n",
       "      <td>La mayor virtud de esta película es su existen...</td>\n",
       "    </tr>\n",
       "    <tr>\n",
       "      <th>1</th>\n",
       "      <td>60001</td>\n",
       "      <td>No soy un experto cinéfilo, pero pocas veces m...</td>\n",
       "    </tr>\n",
       "    <tr>\n",
       "      <th>2</th>\n",
       "      <td>60002</td>\n",
       "      <td>Si no eres un incondicional del humor estilo T...</td>\n",
       "    </tr>\n",
       "    <tr>\n",
       "      <th>3</th>\n",
       "      <td>60003</td>\n",
       "      <td>No sé qué está pasando, si la gente se deja ll...</td>\n",
       "    </tr>\n",
       "    <tr>\n",
       "      <th>4</th>\n",
       "      <td>60004</td>\n",
       "      <td>Pero cuando amanece,y me quedo solo,siento en ...</td>\n",
       "    </tr>\n",
       "    <tr>\n",
       "      <th>...</th>\n",
       "      <td>...</td>\n",
       "      <td>...</td>\n",
       "    </tr>\n",
       "    <tr>\n",
       "      <th>8594</th>\n",
       "      <td>68594</td>\n",
       "      <td>Buena no, lo siguiente. Por fin un film serio ...</td>\n",
       "    </tr>\n",
       "    <tr>\n",
       "      <th>8595</th>\n",
       "      <td>68595</td>\n",
       "      <td>Me esperaba mucho, pero que mucho, más.Guión m...</td>\n",
       "    </tr>\n",
       "    <tr>\n",
       "      <th>8596</th>\n",
       "      <td>68596</td>\n",
       "      <td>De mal cuerpo como sensación al finalizar, de ...</td>\n",
       "    </tr>\n",
       "    <tr>\n",
       "      <th>8597</th>\n",
       "      <td>68597</td>\n",
       "      <td>Los que han añadido comentarios os lo han dich...</td>\n",
       "    </tr>\n",
       "    <tr>\n",
       "      <th>8598</th>\n",
       "      <td>68598</td>\n",
       "      <td>Fui a ver esta película de cine con entusiasmo...</td>\n",
       "    </tr>\n",
       "  </tbody>\n",
       "</table>\n",
       "<p>8599 rows × 2 columns</p>\n",
       "</div>"
      ],
      "text/plain": [
       "         ID                                          review_es\n",
       "0     60000  La mayor virtud de esta película es su existen...\n",
       "1     60001  No soy un experto cinéfilo, pero pocas veces m...\n",
       "2     60002  Si no eres un incondicional del humor estilo T...\n",
       "3     60003  No sé qué está pasando, si la gente se deja ll...\n",
       "4     60004  Pero cuando amanece,y me quedo solo,siento en ...\n",
       "...     ...                                                ...\n",
       "8594  68594  Buena no, lo siguiente. Por fin un film serio ...\n",
       "8595  68595  Me esperaba mucho, pero que mucho, más.Guión m...\n",
       "8596  68596  De mal cuerpo como sensación al finalizar, de ...\n",
       "8597  68597  Los que han añadido comentarios os lo han dich...\n",
       "8598  68598  Fui a ver esta película de cine con entusiasmo...\n",
       "\n",
       "[8599 rows x 2 columns]"
      ]
     },
     "execution_count": 4,
     "metadata": {},
     "output_type": "execute_result"
    }
   ],
   "source": [
    "df_test = pd.read_csv('test.csv', sep=',')\n",
    "df_test"
   ]
  },
  {
   "cell_type": "code",
   "execution_count": 5,
   "metadata": {},
   "outputs": [],
   "source": [
    "def mostrar_scores(y_test: np.ndarray, y_prediccion: np.ndarray):\n",
    "    accuracy = accuracy_score(y_test,y_prediccion)\n",
    "    recall = recall_score(y_test,y_prediccion)\n",
    "    f1 = f1_score(y_test,y_prediccion,)\n",
    "    precision = precision_score(y_test,y_prediccion)\n",
    "\n",
    "    print(\"Accuracy: \"+str(accuracy))\n",
    "    print(\"Recall: \"+str(recall))\n",
    "    print(\"Precision: \"+str(precision))\n",
    "    print(\"f1 score: \"+str(f1))"
   ]
  },
  {
   "cell_type": "markdown",
   "metadata": {},
   "source": [
    "### Preprocesamiento"
   ]
  },
  {
   "cell_type": "code",
   "execution_count": 6,
   "metadata": {},
   "outputs": [],
   "source": [
    "def cantidad_de_palabras(review):\n",
    "    return len(review.split())"
   ]
  },
  {
   "cell_type": "code",
   "execution_count": 7,
   "metadata": {},
   "outputs": [],
   "source": [
    "df_copia = df.copy()\n",
    "df_copia['cantidad_de_palabras'] = df_copia['review_es'].apply(cantidad_de_palabras)"
   ]
  },
  {
   "cell_type": "code",
   "execution_count": 8,
   "metadata": {},
   "outputs": [
    {
     "data": {
      "text/plain": [
       "count    50000.000000\n",
       "mean       237.233680\n",
       "std        179.529306\n",
       "min          6.000000\n",
       "25%        123.000000\n",
       "50%        172.000000\n",
       "75%        293.000000\n",
       "max       2450.000000\n",
       "Name: cantidad_de_palabras, dtype: float64"
      ]
     },
     "execution_count": 8,
     "metadata": {},
     "output_type": "execute_result"
    }
   ],
   "source": [
    "df_copia['cantidad_de_palabras'].describe()"
   ]
  },
  {
   "cell_type": "code",
   "execution_count": 9,
   "metadata": {},
   "outputs": [
    {
     "data": {
      "text/plain": [
       "401"
      ]
     },
     "execution_count": 9,
     "metadata": {},
     "output_type": "execute_result"
    }
   ],
   "source": [
    "df_copia['review_es'].duplicated().sum()"
   ]
  },
  {
   "cell_type": "code",
   "execution_count": 10,
   "metadata": {},
   "outputs": [
    {
     "data": {
      "text/plain": [
       "(49599, 3)"
      ]
     },
     "execution_count": 10,
     "metadata": {},
     "output_type": "execute_result"
    }
   ],
   "source": [
    "df = df.drop_duplicates(subset=['review_es'])\n",
    "df.shape"
   ]
  },
  {
   "cell_type": "code",
   "execution_count": 11,
   "metadata": {},
   "outputs": [
    {
     "name": "stdout",
     "output_type": "stream",
     "text": [
      "Numero de palabras unicas en el dataset pre preprocesamiento: 175853\n"
     ]
    }
   ],
   "source": [
    "vectorizer = TfidfVectorizer()\n",
    "\n",
    "X = vectorizer.fit_transform(df['review_es'])\n",
    "\n",
    "vocabulario = vectorizer.get_feature_names_out()\n",
    "\n",
    "numero_de_palabras_unicas = len(vocabulario)\n",
    "\n",
    "print(\"Numero de palabras unicas en el dataset pre preprocesamiento:\", numero_de_palabras_unicas)"
   ]
  },
  {
   "cell_type": "code",
   "execution_count": 14,
   "metadata": {},
   "outputs": [],
   "source": [
    "df_preprocesado = df.copy()\n",
    "#si ya estan descargados los paquetes no es necesario volver a hacerlo.\n",
    "#nltk.download('stopwords')\n",
    "#nltk.download('punkt')\n",
    "\n",
    "stop_words = set(stopwords.words('spanish'))\n",
    "\n",
    "def preprocess_text(text):\n",
    "    text = text.lower()\n",
    "    text = re.sub(r'[^a-zA-Zñáéíóúü\\s]', '', text)\n",
    "    tokens = nltk.word_tokenize(text)\n",
    "    tokens = [word for word in tokens if word not in stop_words]\n",
    "    stemmer = nltk.stem.SnowballStemmer('spanish')\n",
    "    stems = [stemmer.stem(token) for token in tokens]\n",
    "    preprocessed_text = ' '.join(stems)\n",
    "    return preprocessed_text\n",
    "\n",
    "df_preprocesado['review_es'] = df_preprocesado['review_es'].apply(preprocess_text)"
   ]
  },
  {
   "cell_type": "code",
   "execution_count": 15,
   "metadata": {},
   "outputs": [
    {
     "data": {
      "text/html": [
       "<div>\n",
       "<style scoped>\n",
       "    .dataframe tbody tr th:only-of-type {\n",
       "        vertical-align: middle;\n",
       "    }\n",
       "\n",
       "    .dataframe tbody tr th {\n",
       "        vertical-align: top;\n",
       "    }\n",
       "\n",
       "    .dataframe thead th {\n",
       "        text-align: right;\n",
       "    }\n",
       "</style>\n",
       "<table border=\"1\" class=\"dataframe\">\n",
       "  <thead>\n",
       "    <tr style=\"text-align: right;\">\n",
       "      <th></th>\n",
       "      <th>ID</th>\n",
       "      <th>review_es</th>\n",
       "      <th>sentimiento</th>\n",
       "    </tr>\n",
       "  </thead>\n",
       "  <tbody>\n",
       "    <tr>\n",
       "      <th>0</th>\n",
       "      <td>0</td>\n",
       "      <td>critic mencion despues ver sol oz episodi enga...</td>\n",
       "      <td>positivo</td>\n",
       "    </tr>\n",
       "    <tr>\n",
       "      <th>1</th>\n",
       "      <td>1</td>\n",
       "      <td>pequeñ pequeñ produccionl tecnic filmacion inc...</td>\n",
       "      <td>positivo</td>\n",
       "    </tr>\n",
       "    <tr>\n",
       "      <th>2</th>\n",
       "      <td>2</td>\n",
       "      <td>pens maner maravill pas tiemp fin seman veran ...</td>\n",
       "      <td>positivo</td>\n",
       "    </tr>\n",
       "    <tr>\n",
       "      <th>3</th>\n",
       "      <td>3</td>\n",
       "      <td>basic famili niñ pequeñ jak piens zombi armari...</td>\n",
       "      <td>negativo</td>\n",
       "    </tr>\n",
       "    <tr>\n",
       "      <th>4</th>\n",
       "      <td>4</td>\n",
       "      <td>amor tiemp pett mattei pelicul visual impresio...</td>\n",
       "      <td>positivo</td>\n",
       "    </tr>\n",
       "    <tr>\n",
       "      <th>5</th>\n",
       "      <td>5</td>\n",
       "      <td>probabl pelicul favorit tiemp histori desinter...</td>\n",
       "      <td>positivo</td>\n",
       "    </tr>\n",
       "    <tr>\n",
       "      <th>6</th>\n",
       "      <td>6</td>\n",
       "      <td>segur gust ver resurreccion seri seahunt dat t...</td>\n",
       "      <td>positivo</td>\n",
       "    </tr>\n",
       "    <tr>\n",
       "      <th>7</th>\n",
       "      <td>7</td>\n",
       "      <td>espectacul ide increibl fresc innov años emit ...</td>\n",
       "      <td>negativo</td>\n",
       "    </tr>\n",
       "    <tr>\n",
       "      <th>8</th>\n",
       "      <td>8</td>\n",
       "      <td>alent comentari posit pelicul aqu des ver peli...</td>\n",
       "      <td>negativo</td>\n",
       "    </tr>\n",
       "    <tr>\n",
       "      <th>9</th>\n",
       "      <td>9</td>\n",
       "      <td>si gust ris original desgarr gust peliculasi j...</td>\n",
       "      <td>positivo</td>\n",
       "    </tr>\n",
       "  </tbody>\n",
       "</table>\n",
       "</div>"
      ],
      "text/plain": [
       "   ID                                          review_es sentimiento\n",
       "0   0  critic mencion despues ver sol oz episodi enga...    positivo\n",
       "1   1  pequeñ pequeñ produccionl tecnic filmacion inc...    positivo\n",
       "2   2  pens maner maravill pas tiemp fin seman veran ...    positivo\n",
       "3   3  basic famili niñ pequeñ jak piens zombi armari...    negativo\n",
       "4   4  amor tiemp pett mattei pelicul visual impresio...    positivo\n",
       "5   5  probabl pelicul favorit tiemp histori desinter...    positivo\n",
       "6   6  segur gust ver resurreccion seri seahunt dat t...    positivo\n",
       "7   7  espectacul ide increibl fresc innov años emit ...    negativo\n",
       "8   8  alent comentari posit pelicul aqu des ver peli...    negativo\n",
       "9   9  si gust ris original desgarr gust peliculasi j...    positivo"
      ]
     },
     "execution_count": 15,
     "metadata": {},
     "output_type": "execute_result"
    }
   ],
   "source": [
    "df_preprocesado.head(10)"
   ]
  },
  {
   "cell_type": "code",
   "execution_count": 17,
   "metadata": {},
   "outputs": [
    {
     "name": "stdout",
     "output_type": "stream",
     "text": [
      "Numero de palabras unicas en el dataset post preprocesamiento: 210315\n"
     ]
    }
   ],
   "source": [
    "vectorizer = TfidfVectorizer()\n",
    "\n",
    "X = vectorizer.fit_transform(df_preprocesado['review_es'])\n",
    "\n",
    "vocabulario = vectorizer.get_feature_names_out()\n",
    "\n",
    "numero_de_palabras_unicas = len(vocabulario)\n",
    "\n",
    "print(\"Numero de palabras unicas en el dataset post preprocesamiento:\", numero_de_palabras_unicas)"
   ]
  },
  {
   "cell_type": "code",
   "execution_count": 18,
   "metadata": {},
   "outputs": [],
   "source": [
    "x_train, x_test, y_train, y_test = train_test_split(\n",
    "                                          df['review_es'], df['sentimiento'], \n",
    "                                          test_size=0.3, random_state=42)"
   ]
  },
  {
   "cell_type": "markdown",
   "metadata": {},
   "source": [
    "### Modelos de Bayes Naïve"
   ]
  },
  {
   "cell_type": "markdown",
   "metadata": {},
   "source": [
    "##### Vamos a probar en primer lugar con un count vectorizer y luego con un tfidf vectorizer par ver con cual obtenemos merjores resultados"
   ]
  },
  {
   "cell_type": "code",
   "execution_count": null,
   "metadata": {},
   "outputs": [],
   "source": [
    "modelo_count = make_pipeline(CountVectorizer(), MultinomialNB())\n",
    "modelo_tfidf = Pipeline([('tvec', TfidfVectorizer()), ('mnb',MultinomialNB())])"
   ]
  },
  {
   "cell_type": "markdown",
   "metadata": {},
   "source": [
    "##### Count vectorizer"
   ]
  },
  {
   "cell_type": "code",
   "execution_count": null,
   "metadata": {},
   "outputs": [],
   "source": [
    "modelo_count.fit(x_train, y_train)\n",
    "\n",
    "prediccion = modelo_count.predict(x_test)\n",
    "\n",
    "# mostrar_scores(y_test, prediccion)"
   ]
  },
  {
   "cell_type": "code",
   "execution_count": null,
   "metadata": {},
   "outputs": [],
   "source": [
    "modelo_tfidf.fit(x_train, y_train)\n",
    "\n",
    "prediccion = modelo_tfidf.predict(x_test)\n",
    "\n",
    "# mostrar_scores(y_test, prediccion)"
   ]
  },
  {
   "cell_type": "code",
   "execution_count": 15,
   "metadata": {},
   "outputs": [
    {
     "name": "stdout",
     "output_type": "stream",
     "text": [
      "Accuracy: 0.8244623655913978\n",
      "Recall: 0.8371905274488698\n",
      "Precision: 0.8161070304302204\n",
      "f1 score: 0.8265143464399575\n"
     ]
    }
   ],
   "source": [
    "df_preprocesado_copy = df_preprocesado.copy()\n",
    "df_preprocesado_copy['sentimiento'] = df_preprocesado_copy['sentimiento'].map({'negativo': 0, 'positivo': 1})\n",
    "X_train, X_test, y_train, y_test = train_test_split(df_preprocesado_copy['review_es'], df_preprocesado_copy['sentimiento'], test_size=0.3, random_state=42)\n",
    "\n",
    "\n",
    "vectorizer = TfidfVectorizer(max_features=9000)\n",
    "modelo_tfidf = make_pipeline(vectorizer, MultinomialNB(alpha=0.5))\n",
    "modelo_tfidf.fit(X_train, y_train)\n",
    "\n",
    "prediccion = modelo_tfidf.predict(X_test)\n",
    "\n",
    "mostrar_scores(y_test, prediccion)"
   ]
  },
  {
   "cell_type": "code",
   "execution_count": 16,
   "metadata": {},
   "outputs": [
    {
     "name": "stdout",
     "output_type": "stream",
     "text": [
      "Accuracy: 0.8508597597857082\n",
      "Recall: 0.8575684656812192\n",
      "Precision: 0.8475651189127973\n",
      "f1 score: 0.8525374494503617\n"
     ]
    }
   ],
   "source": [
    "prediccion_train = modelo_tfidf.predict(X_train)\n",
    "\n",
    "mostrar_scores(y_train, prediccion_train)"
   ]
  },
  {
   "cell_type": "code",
   "execution_count": null,
   "metadata": {},
   "outputs": [
    {
     "name": "stdout",
     "output_type": "stream",
     "text": [
      "Accuracy: 0.7362231182795699\n",
      "Recall: 0.6990043057050592\n",
      "Precision: 0.7547580996658434\n",
      "f1 score: 0.7258120852252882\n"
     ]
    }
   ],
   "source": [
    "df_preprocesado_copy = df_preprocesado.copy()\n",
    "df_preprocesado_copy['sentimiento'] = df_preprocesado_copy['sentimiento'].map({'negativo': 0, 'positivo': 1})\n",
    "X_train, X_test, y_train, y_test = train_test_split(df_preprocesado_copy['review_es'], df_preprocesado_copy['sentimiento'], test_size=0.3, random_state=42)\n",
    "\n",
    "\n",
    "vectorizer = TfidfVectorizer(max_features=7000)\n",
    "modelo_gauss = make_pipeline(vectorizer,   DenseTransformer() ,GaussianNB())\n",
    "modelo_gauss.fit(X_train, y_train)\n",
    "\n",
    "prediccion = modelo_gauss.predict(X_test)\n",
    "\n",
    "mostrar_scores(y_test, prediccion)"
   ]
  },
  {
   "cell_type": "code",
   "execution_count": null,
   "metadata": {},
   "outputs": [
    {
     "name": "stdout",
     "output_type": "stream",
     "text": [
      "Accuracy: 0.8185714285714286\n",
      "Recall: 0.8056401125725117\n",
      "Precision: 0.8254575413405519\n",
      "f1 score: 0.8154284385536564\n"
     ]
    }
   ],
   "source": [
    "prediccion_train = modelo_gauss.predict(X_train)\n",
    "\n",
    "mostrar_scores(y_train, prediccion_train)"
   ]
  },
  {
   "cell_type": "code",
   "execution_count": 85,
   "metadata": {},
   "outputs": [
    {
     "name": "stdout",
     "output_type": "stream",
     "text": [
      "Accuracy: 0.8344086021505376\n",
      "Recall: 0.8223896663078579\n",
      "Precision: 0.8423373759647188\n",
      "f1 score: 0.8322440087145969\n"
     ]
    }
   ],
   "source": [
    "df_preprocesado_copy = df_preprocesado.copy()\n",
    "df_preprocesado_copy['sentimiento'] = df_preprocesado_copy['sentimiento'].map({'negativo': 0, 'positivo': 1})\n",
    "X_train, X_test, y_train, y_test = train_test_split(df_preprocesado_copy['review_es'], df_preprocesado_copy['sentimiento'], test_size=0.3, random_state=42)\n",
    "\n",
    "\n",
    "vectorizer = TfidfVectorizer(max_features=14700)\n",
    "modelo_bernoulli = make_pipeline(vectorizer, BernoulliNB(\n",
    "))\n",
    "modelo_bernoulli.fit(X_train, y_train)\n",
    "\n",
    "prediccion = modelo_bernoulli.predict(X_test)\n",
    "\n",
    "mostrar_scores(y_test, prediccion)\n",
    "\n"
   ]
  },
  {
   "cell_type": "code",
   "execution_count": 87,
   "metadata": {},
   "outputs": [
    {
     "name": "stdout",
     "output_type": "stream",
     "text": [
      "Accuracy: 0.854056856476281\n",
      "Recall: 0.8377449295290478\n",
      "Precision: 0.8674141306282257\n",
      "f1 score: 0.8523214129579435\n"
     ]
    }
   ],
   "source": [
    "prediccion_train = modelo_bernoulli.predict(X_train)\n",
    "\n",
    "mostrar_scores(y_train, prediccion_train)"
   ]
  },
  {
   "cell_type": "code",
   "execution_count": null,
   "metadata": {},
   "outputs": [],
   "source": [
    "df_test = pd.read_csv('test.csv', sep=',')\n",
    "df_test_procesado = df_test.copy()\n",
    "\n",
    "prediccion = modelo_tfidf.predict(df_test_procesado['review_es'].apply(preprocess_text))\n",
    "prediccion = np.where(prediccion == 0, 'negativo', 'positivo')\n",
    "\n",
    "df_entrega = df_test.copy()\n",
    "\n",
    "\n",
    "df_entrega['sentimiento'] = prediccion\n",
    "df_entrega.drop('review_es', axis=1, inplace=True)\n",
    "\n",
    "df_entrega.to_csv('entrega.csv', index=False)"
   ]
  },
  {
   "cell_type": "markdown",
   "metadata": {},
   "source": [
    "### Regresión Logística"
   ]
  },
  {
   "cell_type": "code",
   "execution_count": 23,
   "metadata": {},
   "outputs": [
    {
     "name": "stdout",
     "output_type": "stream",
     "text": [
      "Accuracy: 0.8539650537634409\n",
      "Recall: 0.8867061356297093\n",
      "Precision: 0.8319656609014013\n",
      "f1 score: 0.8584641438155409\n"
     ]
    }
   ],
   "source": [
    "df_preprocesado_copy = df_preprocesado.copy()\n",
    "df_preprocesado_copy['sentimiento'] = df_preprocesado_copy['sentimiento'].map({'negativo': 0, 'positivo': 1})\n",
    "X_train, X_test, y_train, y_test = train_test_split(df_preprocesado_copy['review_es'], df_preprocesado_copy['sentimiento'], test_size=0.3, random_state=42)\n",
    "\n",
    "modelo_regresion_logistica = Pipeline([('tfidf', TfidfVectorizer(max_features=15000)), ('lr', LogisticRegression(\n",
    "    penalty='l2',\n",
    "    C=0.1,\n",
    "    solver='lbfgs',\n",
    "    max_iter=200, \n",
    "    l1_ratio=None, \n",
    "    tol=1e-4 \n",
    "))])\n",
    "modelo_regresion_logistica.fit(X_train, y_train)\n",
    "\n",
    "prediccion = modelo_regresion_logistica.predict(X_test)\n",
    "\n",
    "mostrar_scores(y_test, prediccion)"
   ]
  },
  {
   "cell_type": "code",
   "execution_count": 24,
   "metadata": {},
   "outputs": [
    {
     "name": "stdout",
     "output_type": "stream",
     "text": [
      "Accuracy: 0.8642530026786486\n",
      "Recall: 0.8935487567319812\n",
      "Precision: 0.8452658392499052\n",
      "f1 score: 0.8687369447152207\n"
     ]
    }
   ],
   "source": [
    "prediccion_train = modelo_regresion_logistica.predict(X_train)\n",
    "\n",
    "mostrar_scores(y_train, prediccion_train)"
   ]
  },
  {
   "cell_type": "code",
   "execution_count": 35,
   "metadata": {},
   "outputs": [],
   "source": [
    "df_test = pd.read_csv('test.csv', sep=',')\n",
    "df_test_copia = df_test.copy()\n",
    "df_test_copia['review_es'] = df_test_copia['review_es'].apply(preprocess_text)\n",
    "\n",
    "prediccion = modelo_regresion_logistica.predict(df_test_copia['review_es'])\n",
    "prediccion = np.where(prediccion == 0, 'negativo', 'positivo')\n",
    "\n",
    "df_entrega = df_test.copy()\n",
    "\n",
    "df_entrega['sentimiento'] = prediccion\n",
    "df_entrega.drop('review_es', axis=1, inplace=True)\n",
    "\n",
    "df_entrega.to_csv('lr_upgrade.csv', index=False)"
   ]
  },
  {
   "cell_type": "markdown",
   "metadata": {},
   "source": [
    "### XGBoost"
   ]
  },
  {
   "cell_type": "code",
   "execution_count": 25,
   "metadata": {},
   "outputs": [
    {
     "ename": "KeyboardInterrupt",
     "evalue": "",
     "output_type": "error",
     "traceback": [
      "\u001b[0;31m---------------------------------------------------------------------------\u001b[0m",
      "\u001b[0;31mKeyboardInterrupt\u001b[0m                         Traceback (most recent call last)",
      "\u001b[1;32m/Users/juampi/Documents/uba/Cuarto Cuatrimestre/Organizacion de Datos/tp2/7506R_TP2_GRUPO23_ENTREGA.ipynb Cell 37\u001b[0m line \u001b[0;36m1\n\u001b[1;32m      <a href='vscode-notebook-cell:/Users/juampi/Documents/uba/Cuarto%20Cuatrimestre/Organizacion%20de%20Datos/tp2/7506R_TP2_GRUPO23_ENTREGA.ipynb#X51sZmlsZQ%3D%3D?line=5'>6</a>\u001b[0m X_train, X_test, y_train, y_test \u001b[39m=\u001b[39m train_test_split(X, df_preprocesado_copy[\u001b[39m'\u001b[39m\u001b[39msentimiento\u001b[39m\u001b[39m'\u001b[39m], test_size\u001b[39m=\u001b[39m\u001b[39m0.3\u001b[39m, random_state\u001b[39m=\u001b[39m\u001b[39m42\u001b[39m)\n\u001b[1;32m      <a href='vscode-notebook-cell:/Users/juampi/Documents/uba/Cuarto%20Cuatrimestre/Organizacion%20de%20Datos/tp2/7506R_TP2_GRUPO23_ENTREGA.ipynb#X51sZmlsZQ%3D%3D?line=7'>8</a>\u001b[0m modelo_xg_boost \u001b[39m=\u001b[39m XGBClassifier(\n\u001b[1;32m      <a href='vscode-notebook-cell:/Users/juampi/Documents/uba/Cuarto%20Cuatrimestre/Organizacion%20de%20Datos/tp2/7506R_TP2_GRUPO23_ENTREGA.ipynb#X51sZmlsZQ%3D%3D?line=8'>9</a>\u001b[0m     \u001b[39m# learning_rate=0.001,\u001b[39;00m\n\u001b[1;32m     <a href='vscode-notebook-cell:/Users/juampi/Documents/uba/Cuarto%20Cuatrimestre/Organizacion%20de%20Datos/tp2/7506R_TP2_GRUPO23_ENTREGA.ipynb#X51sZmlsZQ%3D%3D?line=9'>10</a>\u001b[0m     n_estimators\u001b[39m=\u001b[39m\u001b[39m500\u001b[39m,\n\u001b[0;32m   (...)\u001b[0m\n\u001b[1;32m     <a href='vscode-notebook-cell:/Users/juampi/Documents/uba/Cuarto%20Cuatrimestre/Organizacion%20de%20Datos/tp2/7506R_TP2_GRUPO23_ENTREGA.ipynb#X51sZmlsZQ%3D%3D?line=16'>17</a>\u001b[0m     random_state\u001b[39m=\u001b[39m\u001b[39m42\u001b[39m\n\u001b[1;32m     <a href='vscode-notebook-cell:/Users/juampi/Documents/uba/Cuarto%20Cuatrimestre/Organizacion%20de%20Datos/tp2/7506R_TP2_GRUPO23_ENTREGA.ipynb#X51sZmlsZQ%3D%3D?line=17'>18</a>\u001b[0m )\n\u001b[0;32m---> <a href='vscode-notebook-cell:/Users/juampi/Documents/uba/Cuarto%20Cuatrimestre/Organizacion%20de%20Datos/tp2/7506R_TP2_GRUPO23_ENTREGA.ipynb#X51sZmlsZQ%3D%3D?line=18'>19</a>\u001b[0m modelo_xg_boost\u001b[39m.\u001b[39mfit(X_train, y_train)\n\u001b[1;32m     <a href='vscode-notebook-cell:/Users/juampi/Documents/uba/Cuarto%20Cuatrimestre/Organizacion%20de%20Datos/tp2/7506R_TP2_GRUPO23_ENTREGA.ipynb#X51sZmlsZQ%3D%3D?line=20'>21</a>\u001b[0m y_pred \u001b[39m=\u001b[39m modelo_xg_boost\u001b[39m.\u001b[39mpredict(X_test)\n\u001b[1;32m     <a href='vscode-notebook-cell:/Users/juampi/Documents/uba/Cuarto%20Cuatrimestre/Organizacion%20de%20Datos/tp2/7506R_TP2_GRUPO23_ENTREGA.ipynb#X51sZmlsZQ%3D%3D?line=21'>22</a>\u001b[0m f1 \u001b[39m=\u001b[39m f1_score(y_test, y_pred)\n",
      "File \u001b[0;32m~/anaconda3/lib/python3.11/site-packages/xgboost/core.py:620\u001b[0m, in \u001b[0;36mrequire_keyword_args.<locals>.throw_if.<locals>.inner_f\u001b[0;34m(*args, **kwargs)\u001b[0m\n\u001b[1;32m    618\u001b[0m \u001b[39mfor\u001b[39;00m k, arg \u001b[39min\u001b[39;00m \u001b[39mzip\u001b[39m(sig\u001b[39m.\u001b[39mparameters, args):\n\u001b[1;32m    619\u001b[0m     kwargs[k] \u001b[39m=\u001b[39m arg\n\u001b[0;32m--> 620\u001b[0m \u001b[39mreturn\u001b[39;00m func(\u001b[39m*\u001b[39m\u001b[39m*\u001b[39mkwargs)\n",
      "File \u001b[0;32m~/anaconda3/lib/python3.11/site-packages/xgboost/sklearn.py:1490\u001b[0m, in \u001b[0;36mXGBClassifier.fit\u001b[0;34m(self, X, y, sample_weight, base_margin, eval_set, eval_metric, early_stopping_rounds, verbose, xgb_model, sample_weight_eval_set, base_margin_eval_set, feature_weights, callbacks)\u001b[0m\n\u001b[1;32m   1462\u001b[0m (\n\u001b[1;32m   1463\u001b[0m     model,\n\u001b[1;32m   1464\u001b[0m     metric,\n\u001b[0;32m   (...)\u001b[0m\n\u001b[1;32m   1469\u001b[0m     xgb_model, eval_metric, params, early_stopping_rounds, callbacks\n\u001b[1;32m   1470\u001b[0m )\n\u001b[1;32m   1471\u001b[0m train_dmatrix, evals \u001b[39m=\u001b[39m _wrap_evaluation_matrices(\n\u001b[1;32m   1472\u001b[0m     missing\u001b[39m=\u001b[39m\u001b[39mself\u001b[39m\u001b[39m.\u001b[39mmissing,\n\u001b[1;32m   1473\u001b[0m     X\u001b[39m=\u001b[39mX,\n\u001b[0;32m   (...)\u001b[0m\n\u001b[1;32m   1487\u001b[0m     feature_types\u001b[39m=\u001b[39m\u001b[39mself\u001b[39m\u001b[39m.\u001b[39mfeature_types,\n\u001b[1;32m   1488\u001b[0m )\n\u001b[0;32m-> 1490\u001b[0m \u001b[39mself\u001b[39m\u001b[39m.\u001b[39m_Booster \u001b[39m=\u001b[39m train(\n\u001b[1;32m   1491\u001b[0m     params,\n\u001b[1;32m   1492\u001b[0m     train_dmatrix,\n\u001b[1;32m   1493\u001b[0m     \u001b[39mself\u001b[39m\u001b[39m.\u001b[39mget_num_boosting_rounds(),\n\u001b[1;32m   1494\u001b[0m     evals\u001b[39m=\u001b[39mevals,\n\u001b[1;32m   1495\u001b[0m     early_stopping_rounds\u001b[39m=\u001b[39mearly_stopping_rounds,\n\u001b[1;32m   1496\u001b[0m     evals_result\u001b[39m=\u001b[39mevals_result,\n\u001b[1;32m   1497\u001b[0m     obj\u001b[39m=\u001b[39mobj,\n\u001b[1;32m   1498\u001b[0m     custom_metric\u001b[39m=\u001b[39mmetric,\n\u001b[1;32m   1499\u001b[0m     verbose_eval\u001b[39m=\u001b[39mverbose,\n\u001b[1;32m   1500\u001b[0m     xgb_model\u001b[39m=\u001b[39mmodel,\n\u001b[1;32m   1501\u001b[0m     callbacks\u001b[39m=\u001b[39mcallbacks,\n\u001b[1;32m   1502\u001b[0m )\n\u001b[1;32m   1504\u001b[0m \u001b[39mif\u001b[39;00m \u001b[39mnot\u001b[39;00m \u001b[39mcallable\u001b[39m(\u001b[39mself\u001b[39m\u001b[39m.\u001b[39mobjective):\n\u001b[1;32m   1505\u001b[0m     \u001b[39mself\u001b[39m\u001b[39m.\u001b[39mobjective \u001b[39m=\u001b[39m params[\u001b[39m\"\u001b[39m\u001b[39mobjective\u001b[39m\u001b[39m\"\u001b[39m]\n",
      "File \u001b[0;32m~/anaconda3/lib/python3.11/site-packages/xgboost/core.py:620\u001b[0m, in \u001b[0;36mrequire_keyword_args.<locals>.throw_if.<locals>.inner_f\u001b[0;34m(*args, **kwargs)\u001b[0m\n\u001b[1;32m    618\u001b[0m \u001b[39mfor\u001b[39;00m k, arg \u001b[39min\u001b[39;00m \u001b[39mzip\u001b[39m(sig\u001b[39m.\u001b[39mparameters, args):\n\u001b[1;32m    619\u001b[0m     kwargs[k] \u001b[39m=\u001b[39m arg\n\u001b[0;32m--> 620\u001b[0m \u001b[39mreturn\u001b[39;00m func(\u001b[39m*\u001b[39m\u001b[39m*\u001b[39mkwargs)\n",
      "File \u001b[0;32m~/anaconda3/lib/python3.11/site-packages/xgboost/training.py:185\u001b[0m, in \u001b[0;36mtrain\u001b[0;34m(params, dtrain, num_boost_round, evals, obj, feval, maximize, early_stopping_rounds, evals_result, verbose_eval, xgb_model, callbacks, custom_metric)\u001b[0m\n\u001b[1;32m    183\u001b[0m \u001b[39mif\u001b[39;00m cb_container\u001b[39m.\u001b[39mbefore_iteration(bst, i, dtrain, evals):\n\u001b[1;32m    184\u001b[0m     \u001b[39mbreak\u001b[39;00m\n\u001b[0;32m--> 185\u001b[0m bst\u001b[39m.\u001b[39mupdate(dtrain, i, obj)\n\u001b[1;32m    186\u001b[0m \u001b[39mif\u001b[39;00m cb_container\u001b[39m.\u001b[39mafter_iteration(bst, i, dtrain, evals):\n\u001b[1;32m    187\u001b[0m     \u001b[39mbreak\u001b[39;00m\n",
      "File \u001b[0;32m~/anaconda3/lib/python3.11/site-packages/xgboost/core.py:1918\u001b[0m, in \u001b[0;36mBooster.update\u001b[0;34m(self, dtrain, iteration, fobj)\u001b[0m\n\u001b[1;32m   1915\u001b[0m \u001b[39mself\u001b[39m\u001b[39m.\u001b[39m_validate_dmatrix_features(dtrain)\n\u001b[1;32m   1917\u001b[0m \u001b[39mif\u001b[39;00m fobj \u001b[39mis\u001b[39;00m \u001b[39mNone\u001b[39;00m:\n\u001b[0;32m-> 1918\u001b[0m     _check_call(_LIB\u001b[39m.\u001b[39mXGBoosterUpdateOneIter(\u001b[39mself\u001b[39m\u001b[39m.\u001b[39mhandle,\n\u001b[1;32m   1919\u001b[0m                                             ctypes\u001b[39m.\u001b[39mc_int(iteration),\n\u001b[1;32m   1920\u001b[0m                                             dtrain\u001b[39m.\u001b[39mhandle))\n\u001b[1;32m   1921\u001b[0m \u001b[39melse\u001b[39;00m:\n\u001b[1;32m   1922\u001b[0m     pred \u001b[39m=\u001b[39m \u001b[39mself\u001b[39m\u001b[39m.\u001b[39mpredict(dtrain, output_margin\u001b[39m=\u001b[39m\u001b[39mTrue\u001b[39;00m, training\u001b[39m=\u001b[39m\u001b[39mTrue\u001b[39;00m)\n",
      "\u001b[0;31mKeyboardInterrupt\u001b[0m: "
     ]
    }
   ],
   "source": [
    "df_preprocesado_copy = df_preprocesado.copy()\n",
    "vectorizer = TfidfVectorizer(max_features=9000)\n",
    "X = vectorizer.fit_transform(df_preprocesado_copy['review_es'])\n",
    "df_preprocesado_copy['sentimiento'] = df_preprocesado_copy['sentimiento'].map({'negativo': 0, 'positivo': 1})\n",
    "\n",
    "X_train, X_test, y_train, y_test = train_test_split(X, df_preprocesado_copy['sentimiento'], test_size=0.3, random_state=42)\n",
    "\n",
    "modelo_xg_boost = XGBClassifier(\n",
    "    # learning_rate=0.001,\n",
    "    n_estimators=500,\n",
    "    # max_depth=5,\n",
    "    # min_child_weight=1,\n",
    "    subsample=0.8,\n",
    "    colsample_bytree=0.8,\n",
    "    objective='binary:logistic',\n",
    "    n_jobs=-1,\n",
    "    random_state=42\n",
    ")\n",
    "modelo_xg_boost.fit(X_train, y_train)\n",
    "\n",
    "y_pred = modelo_xg_boost.predict(X_test)\n",
    "f1 = f1_score(y_test, y_pred)\n",
    "print(f'F1_score: {f1}')\n",
    "f1_train = f1_score(y_train, modelo_xg_boost.predict(X_train))\n",
    "print(f'F1_score train: {f1_train}')\n"
   ]
  },
  {
   "cell_type": "code",
   "execution_count": null,
   "metadata": {},
   "outputs": [],
   "source": [
    "tabla = confusion_matrix(y_test, y_pred)\n",
    "sns.heatmap(tabla, annot=True, fmt='d')\n",
    "plt.xlabel('Predicho')\n",
    "plt.ylabel('Real')\n",
    "plt.show()"
   ]
  },
  {
   "cell_type": "code",
   "execution_count": null,
   "metadata": {},
   "outputs": [],
   "source": [
    "df_preprocesado_copy = df_preprocesado.copy()\n",
    "vectorizer = TfidfVectorizer(max_features=7000)\n",
    "X = vectorizer.fit_transform(df_preprocesado_copy['review_es'])\n",
    "df_preprocesado_copy['sentimiento'] = df_preprocesado_copy['sentimiento'].map({'negativo': 0, 'positivo': 1})\n",
    "\n",
    "X_train, X_test, y_train, y_test = train_test_split(X, df_preprocesado_copy['sentimiento'], test_size=0.3, random_state=42)\n",
    "\n",
    "modelo_xg_boost = XGBClassifier(\n",
    "    objective='binary:logistic',\n",
    "    n_jobs=-1,\n",
    "    random_state=42\n",
    ")\n",
    "\n",
    "params = {\n",
    "        'min_child_weight': [1, 5, 10],\n",
    "        'gamma': [0.1,  0.3,  0.5],\n",
    "        'subsample': [0.6, 0.8, 1.0],\n",
    "        'colsample_bytree': [0.6, 0.8, 1.0],\n",
    "        'learning_rate': list(np.linspace(0.001, 0.1, 10)),\n",
    "        'n_estimators': [ 300, 400, 500, 600 ],\n",
    "        }\n",
    "\n",
    "folds = 5\n",
    "n_iter = 75\n",
    "skf = StratifiedKFold(n_splits=folds, shuffle = True, random_state = 42)\n",
    "random_search = RandomizedSearchCV(modelo_xg_boost, param_distributions=params, n_iter=n_iter, scoring='f1', n_jobs=-1, cv=skf.split(X_train,y_train), verbose=3, random_state=42 )\n",
    "# random_search.fit(X_train, y_train)\n",
    "\n",
    "print('\\n Best estimator:')\n",
    "print(random_search.best_estimator_)\n",
    "print('\\n Best score:')\n",
    "print(random_search.best_score_ * 2 - 1)"
   ]
  },
  {
   "cell_type": "code",
   "execution_count": null,
   "metadata": {},
   "outputs": [],
   "source": [
    "y_pred = random_search.predict(X_test)\n",
    "f1 = f1_score(y_test, y_pred)\n",
    "print(f'F1_score: {f1}')\n",
    "f1_train = f1_score(y_train, random_search.predict(X_train))\n",
    "print(f'F1_score train: {f1_train}')"
   ]
  },
  {
   "cell_type": "code",
   "execution_count": 26,
   "metadata": {},
   "outputs": [
    {
     "name": "stdout",
     "output_type": "stream",
     "text": [
      "F1_score: 0.8636243735162227\n",
      "F1_score train: 0.9279236007120052\n"
     ]
    }
   ],
   "source": [
    "# colsample_bytree=0.6, gamma=0.1, learning_rate=0.08900000000000001, min_child_weight=10, n_estimators=600, subsample=0.6;, score=0.853\n",
    "df_preprocesado_copy = df_preprocesado.copy()\n",
    "df_preprocesado_copy['sentimiento'] = df_preprocesado_copy['sentimiento'].map({'negativo': 0, 'positivo': 1})\n",
    "X_train, X_test, y_train, y_test = train_test_split(df_preprocesado_copy['review_es'], df_preprocesado_copy['sentimiento'], test_size=0.3, random_state=42)\n",
    "\n",
    "\n",
    "modelo_xg_boost = Pipeline([\n",
    "  ('tfidf', TfidfVectorizer(max_features=9000)), \n",
    "  ('xgb', XGBClassifier(\n",
    "        objective='binary:logistic',\n",
    "        n_jobs=-1,\n",
    "        random_state=42,\n",
    "        colsample_bytree=0.6, \n",
    "        subsample=0.6,\n",
    "        gamma=0.3, \n",
    "        max_depth=5,\n",
    "        learning_rate=0.089, \n",
    "        min_child_weight=10, \n",
    "        n_estimators=700, \n",
    "))])\n",
    "\n",
    "modelo_xg_boost.fit(X_train, y_train)\n",
    "\n",
    "y_pred = modelo_xg_boost.predict(X_test)\n",
    "f1 = f1_score(y_test, y_pred)\n",
    "print(f'F1_score: {f1}')\n",
    "f1_train = f1_score(y_train, modelo_xg_boost.predict(X_train))\n",
    "print(f'F1_score train: {f1_train}')\n"
   ]
  },
  {
   "cell_type": "markdown",
   "metadata": {},
   "source": [
    "#### Predicción en los datos de test"
   ]
  },
  {
   "cell_type": "code",
   "execution_count": null,
   "metadata": {},
   "outputs": [],
   "source": [
    "df_test = pd.read_csv('test.csv', sep=',')\n",
    "df_test_copia = df_test.copy()\n",
    "df_test_copia['review_es'] = df_test_copia['review_es'].apply(preprocess_text)\n",
    "\n",
    "prediccion = modelo_xg_boost.predict(df_test_copia['review_es'])\n",
    "prediccion = np.where(prediccion == 0, 'negativo', 'positivo')\n",
    "\n",
    "df_entrega = df_test.copy()\n",
    "\n",
    "df_entrega['sentimiento'] = prediccion\n",
    "df_entrega.drop('review_es', axis=1, inplace=True)\n",
    "\n",
    "df_entrega.to_csv('entrega.csv', index=False)"
   ]
  },
  {
   "cell_type": "markdown",
   "metadata": {},
   "source": [
    "### Random Forest"
   ]
  },
  {
   "cell_type": "code",
   "execution_count": 28,
   "metadata": {},
   "outputs": [
    {
     "name": "stdout",
     "output_type": "stream",
     "text": [
      "F1_score: 0.8187729350415244\n",
      "F1_score train: 0.8417005382840822\n"
     ]
    }
   ],
   "source": [
    "from sklearn.ensemble import RandomForestClassifier\n",
    "from sklearn.model_selection import RandomizedSearchCV\n",
    "from sklearn.model_selection import StratifiedKFold\n",
    "from sklearn.model_selection import cross_val_score\n",
    "\n",
    "df_preprocesado_copy = df_preprocesado.copy()\n",
    "df_preprocesado_copy['sentimiento'] = df_preprocesado_copy['sentimiento'].map({'negativo': 0, 'positivo': 1})\n",
    "X_train, X_test, y_train, y_test = train_test_split(df_preprocesado_copy['review_es'], df_preprocesado_copy['sentimiento'], test_size=0.3, random_state=42)\n",
    "\n",
    "modelo_random_forest = Pipeline([\n",
    "    ('tfidf', TfidfVectorizer(max_features=7000)), \n",
    "    ('rfc', RandomForestClassifier(\n",
    "            criterion='entropy',\n",
    "            n_jobs=-1,\n",
    "            random_state=42,\n",
    "            max_depth=20,\n",
    "            min_samples_leaf=50,\n",
    "            n_estimators=1000,\n",
    "    ))])\n",
    "\n",
    "modelo_random_forest.fit(X_train, y_train)\n",
    "\n",
    "y_pred = modelo_random_forest.predict(X_test)\n",
    "f1 = f1_score(y_test, y_pred)\n",
    "print(f'F1_score: {f1}')\n",
    "f1_train = f1_score(y_train, modelo_random_forest.predict(X_train))\n",
    "print(f'F1_score train: {f1_train}')"
   ]
  },
  {
   "cell_type": "markdown",
   "metadata": {},
   "source": [
    "### Red Neuronal"
   ]
  },
  {
   "cell_type": "code",
   "execution_count": 86,
   "metadata": {},
   "outputs": [
    {
     "name": "stdout",
     "output_type": "stream",
     "text": [
      "Model: \"model\"\n",
      "_________________________________________________________________\n",
      " Layer (type)                Output Shape              Param #   \n",
      "=================================================================\n",
      " inputs (InputLayer)         [(None, 1000)]            0         \n",
      "                                                                 \n",
      " embedding (Embedding)       (None, 1000, 128)         1280000   \n",
      "                                                                 \n",
      " lstm (LSTM)                 (None, 64)                49408     \n",
      "                                                                 \n",
      " out_layer (Dense)           (None, 1)                 65        \n",
      "                                                                 \n",
      " activation (Activation)     (None, 1)                 0         \n",
      "                                                                 \n",
      "=================================================================\n",
      "Total params: 1,329,473\n",
      "Trainable params: 1,329,473\n",
      "Non-trainable params: 0\n",
      "_________________________________________________________________\n",
      "Epoch 1/10\n"
     ]
    },
    {
     "name": "stderr",
     "output_type": "stream",
     "text": [
      "2023-11-15 21:13:40.011933: I tensorflow/core/common_runtime/executor.cc:1197] [/device:CPU:0] (DEBUG INFO) Executor start aborting (this does not indicate an error and you can ignore this message): INVALID_ARGUMENT: You must feed a value for placeholder tensor 'gradients/split_2_grad/concat/split_2/split_dim' with dtype int32\n",
      "\t [[{{node gradients/split_2_grad/concat/split_2/split_dim}}]]\n",
      "2023-11-15 21:13:40.014735: I tensorflow/core/common_runtime/executor.cc:1197] [/device:CPU:0] (DEBUG INFO) Executor start aborting (this does not indicate an error and you can ignore this message): INVALID_ARGUMENT: You must feed a value for placeholder tensor 'gradients/split_grad/concat/split/split_dim' with dtype int32\n",
      "\t [[{{node gradients/split_grad/concat/split/split_dim}}]]\n",
      "2023-11-15 21:13:40.015271: I tensorflow/core/common_runtime/executor.cc:1197] [/device:CPU:0] (DEBUG INFO) Executor start aborting (this does not indicate an error and you can ignore this message): INVALID_ARGUMENT: You must feed a value for placeholder tensor 'gradients/split_1_grad/concat/split_1/split_dim' with dtype int32\n",
      "\t [[{{node gradients/split_1_grad/concat/split_1/split_dim}}]]\n",
      "2023-11-15 21:13:40.113433: W tensorflow/tsl/platform/profile_utils/cpu_utils.cc:128] Failed to get CPU frequency: 0 Hz\n",
      "2023-11-15 21:13:40.289713: I tensorflow/core/common_runtime/executor.cc:1197] [/device:CPU:0] (DEBUG INFO) Executor start aborting (this does not indicate an error and you can ignore this message): INVALID_ARGUMENT: You must feed a value for placeholder tensor 'gradients/split_2_grad/concat/split_2/split_dim' with dtype int32\n",
      "\t [[{{node gradients/split_2_grad/concat/split_2/split_dim}}]]\n",
      "2023-11-15 21:13:40.290439: I tensorflow/core/common_runtime/executor.cc:1197] [/device:CPU:0] (DEBUG INFO) Executor start aborting (this does not indicate an error and you can ignore this message): INVALID_ARGUMENT: You must feed a value for placeholder tensor 'gradients/split_grad/concat/split/split_dim' with dtype int32\n",
      "\t [[{{node gradients/split_grad/concat/split/split_dim}}]]\n",
      "2023-11-15 21:13:40.291343: I tensorflow/core/common_runtime/executor.cc:1197] [/device:CPU:0] (DEBUG INFO) Executor start aborting (this does not indicate an error and you can ignore this message): INVALID_ARGUMENT: You must feed a value for placeholder tensor 'gradients/split_1_grad/concat/split_1/split_dim' with dtype int32\n",
      "\t [[{{node gradients/split_1_grad/concat/split_1/split_dim}}]]\n",
      "2023-11-15 21:13:40.575435: I tensorflow/core/common_runtime/executor.cc:1197] [/device:CPU:0] (DEBUG INFO) Executor start aborting (this does not indicate an error and you can ignore this message): INVALID_ARGUMENT: You must feed a value for placeholder tensor 'gradients/split_2_grad/concat/split_2/split_dim' with dtype int32\n",
      "\t [[{{node gradients/split_2_grad/concat/split_2/split_dim}}]]\n",
      "2023-11-15 21:13:40.576486: I tensorflow/core/common_runtime/executor.cc:1197] [/device:CPU:0] (DEBUG INFO) Executor start aborting (this does not indicate an error and you can ignore this message): INVALID_ARGUMENT: You must feed a value for placeholder tensor 'gradients/split_grad/concat/split/split_dim' with dtype int32\n",
      "\t [[{{node gradients/split_grad/concat/split/split_dim}}]]\n",
      "2023-11-15 21:13:40.576974: I tensorflow/core/common_runtime/executor.cc:1197] [/device:CPU:0] (DEBUG INFO) Executor start aborting (this does not indicate an error and you can ignore this message): INVALID_ARGUMENT: You must feed a value for placeholder tensor 'gradients/split_1_grad/concat/split_1/split_dim' with dtype int32\n",
      "\t [[{{node gradients/split_1_grad/concat/split_1/split_dim}}]]\n"
     ]
    },
    {
     "name": "stdout",
     "output_type": "stream",
     "text": [
      "190/190 [==============================] - ETA: 0s - loss: 0.4712 - accuracy: 0.7700"
     ]
    },
    {
     "name": "stderr",
     "output_type": "stream",
     "text": [
      "2023-11-15 21:16:44.401087: I tensorflow/core/common_runtime/executor.cc:1197] [/device:CPU:0] (DEBUG INFO) Executor start aborting (this does not indicate an error and you can ignore this message): INVALID_ARGUMENT: You must feed a value for placeholder tensor 'gradients/split_2_grad/concat/split_2/split_dim' with dtype int32\n",
      "\t [[{{node gradients/split_2_grad/concat/split_2/split_dim}}]]\n",
      "2023-11-15 21:16:44.401976: I tensorflow/core/common_runtime/executor.cc:1197] [/device:CPU:0] (DEBUG INFO) Executor start aborting (this does not indicate an error and you can ignore this message): INVALID_ARGUMENT: You must feed a value for placeholder tensor 'gradients/split_grad/concat/split/split_dim' with dtype int32\n",
      "\t [[{{node gradients/split_grad/concat/split/split_dim}}]]\n",
      "2023-11-15 21:16:44.402541: I tensorflow/core/common_runtime/executor.cc:1197] [/device:CPU:0] (DEBUG INFO) Executor start aborting (this does not indicate an error and you can ignore this message): INVALID_ARGUMENT: You must feed a value for placeholder tensor 'gradients/split_1_grad/concat/split_1/split_dim' with dtype int32\n",
      "\t [[{{node gradients/split_1_grad/concat/split_1/split_dim}}]]\n"
     ]
    },
    {
     "name": "stdout",
     "output_type": "stream",
     "text": [
      "190/190 [==============================] - 210s 1s/step - loss: 0.4712 - accuracy: 0.7700 - val_loss: 0.3429 - val_accuracy: 0.8530\n",
      "Epoch 2/10\n",
      "190/190 [==============================] - 232s 1s/step - loss: 0.2686 - accuracy: 0.8945 - val_loss: 0.3485 - val_accuracy: 0.8507\n",
      "465/465 [==============================] - 58s 126ms/step - loss: 0.3531 - accuracy: 0.8504\n",
      "Test set\n",
      "  Loss: 0.353\n",
      "  Accuracy: 0.850\n",
      "  1/465 [..............................] - ETA: 7:32"
     ]
    },
    {
     "name": "stderr",
     "output_type": "stream",
     "text": [
      "2023-11-15 21:22:02.769788: I tensorflow/core/common_runtime/executor.cc:1197] [/device:CPU:0] (DEBUG INFO) Executor start aborting (this does not indicate an error and you can ignore this message): INVALID_ARGUMENT: You must feed a value for placeholder tensor 'gradients/split_2_grad/concat/split_2/split_dim' with dtype int32\n",
      "\t [[{{node gradients/split_2_grad/concat/split_2/split_dim}}]]\n",
      "2023-11-15 21:22:02.770414: I tensorflow/core/common_runtime/executor.cc:1197] [/device:CPU:0] (DEBUG INFO) Executor start aborting (this does not indicate an error and you can ignore this message): INVALID_ARGUMENT: You must feed a value for placeholder tensor 'gradients/split_grad/concat/split/split_dim' with dtype int32\n",
      "\t [[{{node gradients/split_grad/concat/split/split_dim}}]]\n",
      "2023-11-15 21:22:02.770957: I tensorflow/core/common_runtime/executor.cc:1197] [/device:CPU:0] (DEBUG INFO) Executor start aborting (this does not indicate an error and you can ignore this message): INVALID_ARGUMENT: You must feed a value for placeholder tensor 'gradients/split_1_grad/concat/split_1/split_dim' with dtype int32\n",
      "\t [[{{node gradients/split_1_grad/concat/split_1/split_dim}}]]\n"
     ]
    },
    {
     "name": "stdout",
     "output_type": "stream",
     "text": [
      "465/465 [==============================] - 53s 113ms/step\n",
      "Accuracy: 0.8504032258064517\n",
      "Recall: 0.8519913885898815\n",
      "Precision: 0.8490211853043711\n",
      "f1 score: 0.8505036937541974\n"
     ]
    }
   ],
   "source": [
    "np.random.seed(1)\n",
    "tf.random.set_seed(1)\n",
    "keras.utils.set_random_seed(812)\n",
    "os.environ['PYTHONHASHSEED']=str(1)\n",
    "\n",
    "\n",
    "df_preprocesado_copy = df_preprocesado.copy()\n",
    "df_preprocesado_copy['sentimiento'] = df_preprocesado_copy['sentimiento'].map({'negativo': 0, 'positivo': 1})\n",
    "X_train, X_test, y_train, y_test = train_test_split(df_preprocesado_copy['review_es'], df_preprocesado_copy['sentimiento'], test_size=0.3, random_state=42)\n",
    "\n",
    "max_words = 10000\n",
    "max_len = 1000\n",
    "tok = Tokenizer(num_words=max_words)\n",
    "tok.fit_on_texts(X_train)\n",
    "sequences = tok.texts_to_sequences(X_train)\n",
    "sequences_matrix = pad_sequences(sequences,maxlen=max_len)\n",
    "\n",
    "def red_neuronal_recurrente():\n",
    "    inputs = Input(name='inputs', shape=[max_len])\n",
    "    layer = Embedding(max_words, 128, input_length=max_len)(inputs)\n",
    "    layer = LSTM(64)(layer)\n",
    "    # layer = Dense(256,name='FC1')(layer)\n",
    "    # layer = Activation('relu')(layer)\n",
    "    # layer = Dropout(0.5)(layer)\n",
    "    layer = Dense(1,name='out_layer')(layer)\n",
    "    layer = Activation('sigmoid')(layer)\n",
    "    model = tf.keras.Model(inputs=inputs,outputs=layer)\n",
    "    return model\n",
    "\n",
    "model_rnn = red_neuronal_recurrente()\n",
    "model_rnn.summary()\n",
    "model_rnn.compile(loss='binary_crossentropy', optimizer='adam', metrics=['accuracy'])\n",
    "\n",
    "model_rnn.fit(sequences_matrix, y_train, batch_size=128, epochs=10, \n",
    "            validation_split=0.3,callbacks=[EarlyStopping(monitor='val_loss',min_delta=0.0001)])\n",
    "\n",
    "test_sequences = tok.texts_to_sequences(X_test)\n",
    "test_sequences_matrix = pad_sequences(test_sequences, maxlen=max_len)\n",
    "\n",
    "accr = model_rnn.evaluate(test_sequences_matrix, y_test)\n",
    "\n",
    "print('Test set\\n  Loss: {:0.3f}\\n  Accuracy: {:0.3f}'.format(accr[0],accr[1]))\n",
    "\n",
    "prediccion = model_rnn.predict(test_sequences_matrix)\n",
    "prediccion = np.where(prediccion >= 0.5, 1, 0)\n",
    "mostrar_scores(y_test, prediccion)\n",
    "prediccion = np.where(prediccion == 1, 'positivo', 'negativo')\n"
   ]
  },
  {
   "cell_type": "code",
   "execution_count": 88,
   "metadata": {},
   "outputs": [
    {
     "data": {
      "image/png": "[encoded data removed]",
      "text/plain": [
       "<Figure size 640x480 with 2 Axes>"
      ]
     },
     "metadata": {},
     "output_type": "display_data"
    }
   ],
   "source": [
    "prediccion_heatmap = np.where(prediccion == 'positivo', 1, 0)\n",
    "\n",
    "tabla = confusion_matrix(y_test, prediccion_heatmap)\n",
    "sns.heatmap(tabla, annot=True, fmt='d')\n",
    "plt.xlabel('Predicho')\n",
    "plt.ylabel('Real')\n",
    "plt.show()"
   ]
  },
  {
   "cell_type": "code",
   "execution_count": 89,
   "metadata": {},
   "outputs": [
    {
     "name": "stdout",
     "output_type": "stream",
     "text": [
      "   1/1085 [..............................] - ETA: 4:56"
     ]
    },
    {
     "name": "stderr",
     "output_type": "stream",
     "text": [
      "2023-11-15 21:23:10.561498: I tensorflow/core/common_runtime/executor.cc:1197] [/device:CPU:0] (DEBUG INFO) Executor start aborting (this does not indicate an error and you can ignore this message): INVALID_ARGUMENT: You must feed a value for placeholder tensor 'gradients/split_2_grad/concat/split_2/split_dim' with dtype int32\n",
      "\t [[{{node gradients/split_2_grad/concat/split_2/split_dim}}]]\n",
      "2023-11-15 21:23:10.561955: I tensorflow/core/common_runtime/executor.cc:1197] [/device:CPU:0] (DEBUG INFO) Executor start aborting (this does not indicate an error and you can ignore this message): INVALID_ARGUMENT: You must feed a value for placeholder tensor 'gradients/split_grad/concat/split/split_dim' with dtype int32\n",
      "\t [[{{node gradients/split_grad/concat/split/split_dim}}]]\n",
      "2023-11-15 21:23:10.562568: I tensorflow/core/common_runtime/executor.cc:1197] [/device:CPU:0] (DEBUG INFO) Executor start aborting (this does not indicate an error and you can ignore this message): INVALID_ARGUMENT: You must feed a value for placeholder tensor 'gradients/split_1_grad/concat/split_1/split_dim' with dtype int32\n",
      "\t [[{{node gradients/split_1_grad/concat/split_1/split_dim}}]]\n"
     ]
    },
    {
     "name": "stdout",
     "output_type": "stream",
     "text": [
      "1085/1085 [==============================] - 114s 105ms/step\n",
      "Accuracy: 0.9131311385696592\n",
      "Recall: 0.9119399564569726\n",
      "Precision: 0.9149804552770752\n",
      "f1 score: 0.9134576757532281\n"
     ]
    }
   ],
   "source": [
    "train_sequences = tok.texts_to_sequences(X_train)\n",
    "train_sequences_matrix = pad_sequences(train_sequences, maxlen=max_len)\n",
    "prediccion_train = model_rnn.predict(train_sequences_matrix)\n",
    "prediccion_train = np.where(prediccion_train >= 0.5, 1, 0)\n",
    "mostrar_scores(y_train, prediccion_train)"
   ]
  },
  {
   "cell_type": "code",
   "execution_count": 92,
   "metadata": {},
   "outputs": [
    {
     "name": "stdout",
     "output_type": "stream",
     "text": [
      "Epoch 1/10\n"
     ]
    },
    {
     "name": "stderr",
     "output_type": "stream",
     "text": [
      "2023-11-15 22:15:33.883538: I tensorflow/core/common_runtime/executor.cc:1197] [/device:CPU:0] (DEBUG INFO) Executor start aborting (this does not indicate an error and you can ignore this message): INVALID_ARGUMENT: You must feed a value for placeholder tensor 'gradients/split_2_grad/concat/split_2/split_dim' with dtype int32\n",
      "\t [[{{node gradients/split_2_grad/concat/split_2/split_dim}}]]\n",
      "2023-11-15 22:15:33.884783: I tensorflow/core/common_runtime/executor.cc:1197] [/device:CPU:0] (DEBUG INFO) Executor start aborting (this does not indicate an error and you can ignore this message): INVALID_ARGUMENT: You must feed a value for placeholder tensor 'gradients/split_grad/concat/split/split_dim' with dtype int32\n",
      "\t [[{{node gradients/split_grad/concat/split/split_dim}}]]\n",
      "2023-11-15 22:15:33.885307: I tensorflow/core/common_runtime/executor.cc:1197] [/device:CPU:0] (DEBUG INFO) Executor start aborting (this does not indicate an error and you can ignore this message): INVALID_ARGUMENT: You must feed a value for placeholder tensor 'gradients/split_1_grad/concat/split_1/split_dim' with dtype int32\n",
      "\t [[{{node gradients/split_1_grad/concat/split_1/split_dim}}]]\n",
      "2023-11-15 22:15:34.065454: I tensorflow/core/common_runtime/executor.cc:1197] [/device:CPU:0] (DEBUG INFO) Executor start aborting (this does not indicate an error and you can ignore this message): INVALID_ARGUMENT: You must feed a value for placeholder tensor 'gradients/split_2_grad/concat/split_2/split_dim' with dtype int32\n",
      "\t [[{{node gradients/split_2_grad/concat/split_2/split_dim}}]]\n",
      "2023-11-15 22:15:34.066121: I tensorflow/core/common_runtime/executor.cc:1197] [/device:CPU:0] (DEBUG INFO) Executor start aborting (this does not indicate an error and you can ignore this message): INVALID_ARGUMENT: You must feed a value for placeholder tensor 'gradients/split_grad/concat/split/split_dim' with dtype int32\n",
      "\t [[{{node gradients/split_grad/concat/split/split_dim}}]]\n",
      "2023-11-15 22:15:34.066747: I tensorflow/core/common_runtime/executor.cc:1197] [/device:CPU:0] (DEBUG INFO) Executor start aborting (this does not indicate an error and you can ignore this message): INVALID_ARGUMENT: You must feed a value for placeholder tensor 'gradients/split_1_grad/concat/split_1/split_dim' with dtype int32\n",
      "\t [[{{node gradients/split_1_grad/concat/split_1/split_dim}}]]\n",
      "2023-11-15 22:15:34.340900: I tensorflow/core/common_runtime/executor.cc:1197] [/device:CPU:0] (DEBUG INFO) Executor start aborting (this does not indicate an error and you can ignore this message): INVALID_ARGUMENT: You must feed a value for placeholder tensor 'gradients/split_2_grad/concat/split_2/split_dim' with dtype int32\n",
      "\t [[{{node gradients/split_2_grad/concat/split_2/split_dim}}]]\n",
      "2023-11-15 22:15:34.341563: I tensorflow/core/common_runtime/executor.cc:1197] [/device:CPU:0] (DEBUG INFO) Executor start aborting (this does not indicate an error and you can ignore this message): INVALID_ARGUMENT: You must feed a value for placeholder tensor 'gradients/split_grad/concat/split/split_dim' with dtype int32\n",
      "\t [[{{node gradients/split_grad/concat/split/split_dim}}]]\n",
      "2023-11-15 22:15:34.342222: I tensorflow/core/common_runtime/executor.cc:1197] [/device:CPU:0] (DEBUG INFO) Executor start aborting (this does not indicate an error and you can ignore this message): INVALID_ARGUMENT: You must feed a value for placeholder tensor 'gradients/split_1_grad/concat/split_1/split_dim' with dtype int32\n",
      "\t [[{{node gradients/split_1_grad/concat/split_1/split_dim}}]]\n"
     ]
    },
    {
     "name": "stdout",
     "output_type": "stream",
     "text": [
      "1085/1085 [==============================] - 553s 509ms/step - loss: 0.4476 - accuracy: 0.7848\n",
      "Epoch 2/10\n",
      "1085/1085 [==============================] - 536s 494ms/step - loss: 0.2515 - accuracy: 0.8988\n",
      "Epoch 3/10\n",
      "1085/1085 [==============================] - 531s 489ms/step - loss: 0.1804 - accuracy: 0.9318\n",
      "Epoch 4/10\n",
      "1085/1085 [==============================] - 533s 491ms/step - loss: 0.1094 - accuracy: 0.9612\n",
      "Epoch 5/10\n",
      "1085/1085 [==============================] - 539s 497ms/step - loss: 0.0599 - accuracy: 0.9803\n",
      "Epoch 6/10\n",
      "1085/1085 [==============================] - 553s 509ms/step - loss: 0.0414 - accuracy: 0.9860\n",
      "Epoch 7/10\n",
      "1085/1085 [==============================] - 540s 498ms/step - loss: 0.0246 - accuracy: 0.9921\n",
      "Epoch 8/10\n",
      "1085/1085 [==============================] - 539s 497ms/step - loss: 0.0200 - accuracy: 0.9933\n",
      "Epoch 9/10\n",
      "1085/1085 [==============================] - 536s 494ms/step - loss: 0.0201 - accuracy: 0.9929\n",
      "Epoch 10/10\n",
      "1085/1085 [==============================] - 540s 498ms/step - loss: 0.0162 - accuracy: 0.9941\n"
     ]
    },
    {
     "data": {
      "text/plain": [
       "<keras.callbacks.History at 0x28e436290>"
      ]
     },
     "execution_count": 92,
     "metadata": {},
     "output_type": "execute_result"
    }
   ],
   "source": [
    "np.random.seed(1)\n",
    "tf.random.set_seed(1)\n",
    "keras.utils.set_random_seed(812)\n",
    "os.environ['PYTHONHASHSEED']=str(1)\n",
    "\n",
    "df_preprocesado_copy = df_preprocesado.copy()\n",
    "df_preprocesado_copy['sentimiento'] = df_preprocesado_copy['sentimiento'].map({'negativo': 0, 'positivo': 1})\n",
    "x_train, x_test, y_train, y_test = train_test_split(df_preprocesado_copy['review_es'], df_preprocesado_copy['sentimiento'], test_size=0.3, random_state=42)\n",
    "\n",
    "max_len = 1000\n",
    "tok = Tokenizer(num_words=max_words)\n",
    "tok.fit_on_texts(X_train)\n",
    "sequences = tok.texts_to_sequences(X_train)\n",
    "sequences_matrix = pad_sequences(sequences,maxlen=max_len)\n",
    "\n",
    "model = tf.keras.Sequential([\n",
    "    tf.keras.layers.Embedding(input_dim=10000, output_dim=128),\n",
    "    tf.keras.layers.Conv1D(filters=64, kernel_size=3, padding='same', activation='relu'),\n",
    "    tf.keras.layers.GRU(128),\n",
    "    tf.keras.layers.Dense(1, activation='sigmoid')\n",
    "])\n",
    "\n",
    "model.compile(loss='binary_crossentropy', optimizer='adam', metrics=['accuracy'])\n",
    "model.fit(x=sequences_matrix, y=y_train, epochs=10)\n",
    "\n",
    "# model.evaluate(x=x_test, y=y_test)\n"
   ]
  },
  {
   "cell_type": "code",
   "execution_count": 95,
   "metadata": {},
   "outputs": [
    {
     "name": "stdout",
     "output_type": "stream",
     "text": [
      "465/465 [==============================] - 53s 113ms/step\n",
      "Accuracy: 0.8436155913978495\n",
      "Recall: 0.8690796555435952\n",
      "Precision: 0.8266990912581594\n",
      "f1 score: 0.8473597900951131\n"
     ]
    }
   ],
   "source": [
    "test_sequences = tok.texts_to_sequences(x_test)\n",
    "test_sequences_matrix = pad_sequences(test_sequences, maxlen=1000)\n",
    "prediccion = model.predict(test_sequences_matrix)\n",
    "prediccion = np.where(prediccion >= 0.5, 1, 0)\n",
    "mostrar_scores(y_test, prediccion)\n",
    "prediccion = np.where(prediccion == 1, 'positivo', 'negativo')"
   ]
  },
  {
   "cell_type": "code",
   "execution_count": 97,
   "metadata": {},
   "outputs": [
    {
     "name": "stderr",
     "output_type": "stream",
     "text": [
      "2023-11-15 23:53:15.747490: I tensorflow/core/common_runtime/executor.cc:1197] [/device:CPU:0] (DEBUG INFO) Executor start aborting (this does not indicate an error and you can ignore this message): INVALID_ARGUMENT: You must feed a value for placeholder tensor 'gradients/split_2_grad/concat/split_2/split_dim' with dtype int32\n",
      "\t [[{{node gradients/split_2_grad/concat/split_2/split_dim}}]]\n",
      "2023-11-15 23:53:15.748132: I tensorflow/core/common_runtime/executor.cc:1197] [/device:CPU:0] (DEBUG INFO) Executor start aborting (this does not indicate an error and you can ignore this message): INVALID_ARGUMENT: You must feed a value for placeholder tensor 'gradients/split_grad/concat/split/split_dim' with dtype int32\n",
      "\t [[{{node gradients/split_grad/concat/split/split_dim}}]]\n",
      "2023-11-15 23:53:15.748825: I tensorflow/core/common_runtime/executor.cc:1197] [/device:CPU:0] (DEBUG INFO) Executor start aborting (this does not indicate an error and you can ignore this message): INVALID_ARGUMENT: You must feed a value for placeholder tensor 'gradients/split_1_grad/concat/split_1/split_dim' with dtype int32\n",
      "\t [[{{node gradients/split_1_grad/concat/split_1/split_dim}}]]\n"
     ]
    },
    {
     "name": "stdout",
     "output_type": "stream",
     "text": [
      "1085/1085 [==============================] - 126s 115ms/step\n",
      "Accuracy: 0.9976669834960684\n",
      "Recall: 0.999427065429128\n",
      "Precision: 0.9959463317156723\n",
      "f1 score: 0.997683662672653\n"
     ]
    }
   ],
   "source": [
    "train_sequences = tok.texts_to_sequences(x_train)\n",
    "train_sequences_matrix = pad_sequences(train_sequences, maxlen=max_len)\n",
    "prediccion_train = model.predict(train_sequences_matrix)\n",
    "prediccion_train = np.where(prediccion_train >= 0.5, 1, 0)\n",
    "mostrar_scores(y_train, prediccion_train)"
   ]
  },
  {
   "cell_type": "markdown",
   "metadata": {},
   "source": [
    "### SVM"
   ]
  },
  {
   "cell_type": "code",
   "execution_count": 100,
   "metadata": {},
   "outputs": [
    {
     "name": "stdout",
     "output_type": "stream",
     "text": [
      "F1_score: 0.6661885980638221\n",
      "F1_score train: 0.6690817089299063\n"
     ]
    }
   ],
   "source": [
    "from sklearn.discriminant_analysis import StandardScaler\n",
    "from sklearn.preprocessing import MinMaxScaler\n",
    "from sklearn.svm import SVC\n",
    "from sklearn.model_selection import RandomizedSearchCV\n",
    "from sklearn.model_selection import StratifiedKFold\n",
    "from sklearn.model_selection import cross_val_score\n",
    "\n",
    "df_preprocesado_copy = df_preprocesado.copy()\n",
    "df_preprocesado_copy['sentimiento'] = df_preprocesado_copy['sentimiento'].map({'negativo': 0, 'positivo': 1})\n",
    "X_train, X_test, y_train, y_test = train_test_split(df_preprocesado_copy['review_es'], df_preprocesado_copy['sentimiento'], test_size=0.3, random_state=42)\n",
    "\n",
    "modelo_svm = Pipeline([\n",
    "    ('tfidf', TfidfVectorizer(max_features=14500)), \n",
    "    ('svm', SVC(C=0.1, random_state=42, gamma='auto', kernel='poly', degree=3))\n",
    "    ])\n",
    "\n",
    "modelo_svm.fit(X_train, y_train)\n",
    "\n",
    "y_pred = modelo_svm.predict(X_test)\n",
    "f1 = f1_score(y_test, y_pred)\n",
    "print(f'F1_score: {f1}')\n",
    "f1_train = f1_score(y_train, modelo_svm.predict(X_train))\n",
    "print(f'F1_score train: {f1_train}')"
   ]
  },
  {
   "cell_type": "markdown",
   "metadata": {},
   "source": [
    "### Ensamble de modelos"
   ]
  },
  {
   "cell_type": "code",
   "execution_count": 48,
   "metadata": {},
   "outputs": [
    {
     "data": {
      "text/html": [
       "<div>\n",
       "<style scoped>\n",
       "    .dataframe tbody tr th:only-of-type {\n",
       "        vertical-align: middle;\n",
       "    }\n",
       "\n",
       "    .dataframe tbody tr th {\n",
       "        vertical-align: top;\n",
       "    }\n",
       "\n",
       "    .dataframe thead th {\n",
       "        text-align: right;\n",
       "    }\n",
       "</style>\n",
       "<table border=\"1\" class=\"dataframe\">\n",
       "  <thead>\n",
       "    <tr style=\"text-align: right;\">\n",
       "      <th></th>\n",
       "      <th>ID</th>\n",
       "      <th>review_es</th>\n",
       "      <th>sentimiento</th>\n",
       "    </tr>\n",
       "  </thead>\n",
       "  <tbody>\n",
       "    <tr>\n",
       "      <th>0</th>\n",
       "      <td>0</td>\n",
       "      <td>críticos mencionado después ver solo oz episod...</td>\n",
       "      <td>1</td>\n",
       "    </tr>\n",
       "    <tr>\n",
       "      <th>1</th>\n",
       "      <td>1</td>\n",
       "      <td>pequeña pequeña producciónla técnica filmación...</td>\n",
       "      <td>1</td>\n",
       "    </tr>\n",
       "    <tr>\n",
       "      <th>2</th>\n",
       "      <td>2</td>\n",
       "      <td>pensé manera maravillosa pasar tiempo fin sema...</td>\n",
       "      <td>1</td>\n",
       "    </tr>\n",
       "    <tr>\n",
       "      <th>3</th>\n",
       "      <td>3</td>\n",
       "      <td>básicamente familia niño pequeño jake piensa z...</td>\n",
       "      <td>0</td>\n",
       "    </tr>\n",
       "    <tr>\n",
       "      <th>4</th>\n",
       "      <td>4</td>\n",
       "      <td>amor tiempo petter mattei película visualmente...</td>\n",
       "      <td>1</td>\n",
       "    </tr>\n",
       "    <tr>\n",
       "      <th>...</th>\n",
       "      <td>...</td>\n",
       "      <td>...</td>\n",
       "      <td>...</td>\n",
       "    </tr>\n",
       "    <tr>\n",
       "      <th>49995</th>\n",
       "      <td>49995</td>\n",
       "      <td>pensé película hizo buen trabajo derechano tan...</td>\n",
       "      <td>1</td>\n",
       "    </tr>\n",
       "    <tr>\n",
       "      <th>49996</th>\n",
       "      <td>49996</td>\n",
       "      <td>mala parcela mal diálogo mala actuación direcc...</td>\n",
       "      <td>0</td>\n",
       "    </tr>\n",
       "    <tr>\n",
       "      <th>49997</th>\n",
       "      <td>49997</td>\n",
       "      <td>católica enseñada escuelas primarias parroquia...</td>\n",
       "      <td>0</td>\n",
       "    </tr>\n",
       "    <tr>\n",
       "      <th>49998</th>\n",
       "      <td>49998</td>\n",
       "      <td>voy tener desacuerdo comentario anterior lado ...</td>\n",
       "      <td>0</td>\n",
       "    </tr>\n",
       "    <tr>\n",
       "      <th>49999</th>\n",
       "      <td>49999</td>\n",
       "      <td>nadie espera películas star trek altas artes f...</td>\n",
       "      <td>0</td>\n",
       "    </tr>\n",
       "  </tbody>\n",
       "</table>\n",
       "<p>49599 rows × 3 columns</p>\n",
       "</div>"
      ],
      "text/plain": [
       "          ID                                          review_es  sentimiento\n",
       "0          0  críticos mencionado después ver solo oz episod...            1\n",
       "1          1  pequeña pequeña producciónla técnica filmación...            1\n",
       "2          2  pensé manera maravillosa pasar tiempo fin sema...            1\n",
       "3          3  básicamente familia niño pequeño jake piensa z...            0\n",
       "4          4  amor tiempo petter mattei película visualmente...            1\n",
       "...      ...                                                ...          ...\n",
       "49995  49995  pensé película hizo buen trabajo derechano tan...            1\n",
       "49996  49996  mala parcela mal diálogo mala actuación direcc...            0\n",
       "49997  49997  católica enseñada escuelas primarias parroquia...            0\n",
       "49998  49998  voy tener desacuerdo comentario anterior lado ...            0\n",
       "49999  49999  nadie espera películas star trek altas artes f...            0\n",
       "\n",
       "[49599 rows x 3 columns]"
      ]
     },
     "metadata": {},
     "output_type": "display_data"
    }
   ],
   "source": [
    "display(df_preprocesado_copy)"
   ]
  },
  {
   "cell_type": "code",
   "execution_count": 29,
   "metadata": {},
   "outputs": [
    {
     "name": "stdout",
     "output_type": "stream",
     "text": [
      "Accuracy: 0.874260752688172\n",
      "Recall: 0.8969321851453176\n",
      "Precision: 0.8578046583451293\n",
      "f1 score: 0.8769321844372822\n"
     ]
    }
   ],
   "source": [
    "from sklearn.ensemble import VotingClassifier\n",
    "from sklearn.model_selection import cross_val_score\n",
    "from sklearn.model_selection import RepeatedStratifiedKFold\n",
    "\n",
    "df_preprocesado_copy = df_preprocesado.copy()\n",
    "df_preprocesado_copy['sentimiento'] = df_preprocesado_copy['sentimiento'].map({'negativo': 0, 'positivo': 1})\n",
    "X_train, X_test, y_train, y_test = train_test_split(df_preprocesado_copy['review_es'], df_preprocesado_copy['sentimiento'], test_size=0.3, random_state=42)\n",
    "\n",
    "estimators = [('xgb', modelo_xg_boost), ('lr', modelo_regresion_logistica), ('mnb', modelo_tfidf)]\n",
    "ensamble = VotingClassifier(estimators=estimators, voting='soft')\n",
    "ensamble.fit(X_train, y_train)\n",
    "\n",
    "prediccion = ensamble.predict(X_test)\n",
    "mostrar_scores(y_test, prediccion)"
   ]
  },
  {
   "cell_type": "code",
   "execution_count": 30,
   "metadata": {},
   "outputs": [
    {
     "name": "stdout",
     "output_type": "stream",
     "text": [
      "Accuracy: 0.9159538005126876\n",
      "Recall: 0.9333677094075856\n",
      "Precision: 0.902748531530533\n",
      "f1 score: 0.9178028169014084\n"
     ]
    }
   ],
   "source": [
    "prediccion_train = ensamble.predict(X_train)\n",
    "\n",
    "mostrar_scores(y_train, prediccion_train)"
   ]
  },
  {
   "cell_type": "markdown",
   "metadata": {},
   "source": [
    "#### Prediccion en los datos de test"
   ]
  },
  {
   "cell_type": "code",
   "execution_count": 31,
   "metadata": {},
   "outputs": [
    {
     "data": {
      "text/html": [
       "<div>\n",
       "<style scoped>\n",
       "    .dataframe tbody tr th:only-of-type {\n",
       "        vertical-align: middle;\n",
       "    }\n",
       "\n",
       "    .dataframe tbody tr th {\n",
       "        vertical-align: top;\n",
       "    }\n",
       "\n",
       "    .dataframe thead th {\n",
       "        text-align: right;\n",
       "    }\n",
       "</style>\n",
       "<table border=\"1\" class=\"dataframe\">\n",
       "  <thead>\n",
       "    <tr style=\"text-align: right;\">\n",
       "      <th></th>\n",
       "      <th>ID</th>\n",
       "      <th>review_es</th>\n",
       "    </tr>\n",
       "  </thead>\n",
       "  <tbody>\n",
       "    <tr>\n",
       "      <th>0</th>\n",
       "      <td>60000</td>\n",
       "      <td>La mayor virtud de esta película es su existen...</td>\n",
       "    </tr>\n",
       "    <tr>\n",
       "      <th>1</th>\n",
       "      <td>60001</td>\n",
       "      <td>No soy un experto cinéfilo, pero pocas veces m...</td>\n",
       "    </tr>\n",
       "    <tr>\n",
       "      <th>2</th>\n",
       "      <td>60002</td>\n",
       "      <td>Si no eres un incondicional del humor estilo T...</td>\n",
       "    </tr>\n",
       "    <tr>\n",
       "      <th>3</th>\n",
       "      <td>60003</td>\n",
       "      <td>No sé qué está pasando, si la gente se deja ll...</td>\n",
       "    </tr>\n",
       "    <tr>\n",
       "      <th>4</th>\n",
       "      <td>60004</td>\n",
       "      <td>Pero cuando amanece,y me quedo solo,siento en ...</td>\n",
       "    </tr>\n",
       "    <tr>\n",
       "      <th>...</th>\n",
       "      <td>...</td>\n",
       "      <td>...</td>\n",
       "    </tr>\n",
       "    <tr>\n",
       "      <th>8594</th>\n",
       "      <td>68594</td>\n",
       "      <td>Buena no, lo siguiente. Por fin un film serio ...</td>\n",
       "    </tr>\n",
       "    <tr>\n",
       "      <th>8595</th>\n",
       "      <td>68595</td>\n",
       "      <td>Me esperaba mucho, pero que mucho, más.Guión m...</td>\n",
       "    </tr>\n",
       "    <tr>\n",
       "      <th>8596</th>\n",
       "      <td>68596</td>\n",
       "      <td>De mal cuerpo como sensación al finalizar, de ...</td>\n",
       "    </tr>\n",
       "    <tr>\n",
       "      <th>8597</th>\n",
       "      <td>68597</td>\n",
       "      <td>Los que han añadido comentarios os lo han dich...</td>\n",
       "    </tr>\n",
       "    <tr>\n",
       "      <th>8598</th>\n",
       "      <td>68598</td>\n",
       "      <td>Fui a ver esta película de cine con entusiasmo...</td>\n",
       "    </tr>\n",
       "  </tbody>\n",
       "</table>\n",
       "<p>8599 rows × 2 columns</p>\n",
       "</div>"
      ],
      "text/plain": [
       "         ID                                          review_es\n",
       "0     60000  La mayor virtud de esta película es su existen...\n",
       "1     60001  No soy un experto cinéfilo, pero pocas veces m...\n",
       "2     60002  Si no eres un incondicional del humor estilo T...\n",
       "3     60003  No sé qué está pasando, si la gente se deja ll...\n",
       "4     60004  Pero cuando amanece,y me quedo solo,siento en ...\n",
       "...     ...                                                ...\n",
       "8594  68594  Buena no, lo siguiente. Por fin un film serio ...\n",
       "8595  68595  Me esperaba mucho, pero que mucho, más.Guión m...\n",
       "8596  68596  De mal cuerpo como sensación al finalizar, de ...\n",
       "8597  68597  Los que han añadido comentarios os lo han dich...\n",
       "8598  68598  Fui a ver esta película de cine con entusiasmo...\n",
       "\n",
       "[8599 rows x 2 columns]"
      ]
     },
     "execution_count": 31,
     "metadata": {},
     "output_type": "execute_result"
    }
   ],
   "source": [
    "df_test = pd.read_csv('test.csv', sep=',')\n",
    "df_test"
   ]
  },
  {
   "cell_type": "code",
   "execution_count": 34,
   "metadata": {},
   "outputs": [],
   "source": [
    "df_test_copia = df_test.copy()\n",
    "df_test_copia['review_es'] = df_test_copia['review_es'].apply(preprocess_text)\n",
    "\n",
    "train_sequences = tok.texts_to_sequences(df_test_copia['review_es'])\n",
    "train_sequences_matrix = pad_sequences(train_sequences, maxlen=max_len)\n",
    "prediccion_final = model.predict(train_sequences_matrix)\n",
    "prediccion_final = np.where(prediccion_final >= 0.5, 1, 0)\n",
    "\n",
    "\n",
    "prediccion_final = np.where(prediccion_final == 0, 'negativo', 'positivo')\n",
    "\n",
    "\n",
    "df_entrega = df_test.copy()\n",
    "\n",
    "df_entrega['sentimiento'] = prediccion_final\n",
    "df_entrega.drop('review_es', axis=1, inplace=True)\n",
    "\n",
    "df_entrega.to_csv('rnr_conv.csv', index=False)"
   ]
  },
  {
   "cell_type": "markdown",
   "metadata": {},
   "source": [
    "### Red Neuronal Recurrente"
   ]
  },
  {
   "cell_type": "code",
   "execution_count": null,
   "metadata": {},
   "outputs": [],
   "source": [
    "df_copia = df.copy()\n",
    "X_train, X_test, y_train, y_test = train_test_split(df_preprocesado_copy['review_es'], df_preprocesado_copy['sentimiento'], test_size=0.3, random_state=42)\n",
    "x_train, x_test, y_train, y_test = train_test_split(df_copia['review_es'], df_copia['sentimiento'], test_size=0.3, random_state=42)\n",
    "from keras.preprocessing.text import Tokenizer\n",
    "from keras.preprocessing.sequence import pad_sequences\n",
    "\n",
    "tokenizer = Tokenizer(num_words=10000, lower = True)\n",
    "tokenizer.fit_on_texts(x_train)\n",
    "\n",
    "vocabulario = tokenizer.word_index+1\n",
    "\n"
   ]
  }
 ],
 "metadata": {
  "kernelspec": {
   "display_name": "base",
   "language": "python",
   "name": "python3"
  },
  "language_info": {
   "codemirror_mode": {
    "name": "ipython",
    "version": 3
   },
   "file_extension": ".py",
   "mimetype": "text/x-python",
   "name": "python",
   "nbconvert_exporter": "python",
   "pygments_lexer": "ipython3",
   "version": "3.11.4"
  }
 },
 "nbformat": 4,
 "nbformat_minor": 2
}
