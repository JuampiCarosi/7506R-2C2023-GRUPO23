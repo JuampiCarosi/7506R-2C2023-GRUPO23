{
 "cells": [
  {
   "cell_type": "markdown",
   "metadata": {},
   "source": [
    "# TP 2 - Procesamiento del Lenguaje Natural"
   ]
  },
  {
   "cell_type": "markdown",
   "metadata": {},
   "source": [
    "## Librerias"
   ]
  },
  {
   "cell_type": "code",
   "execution_count": 277,
   "metadata": {},
   "outputs": [],
   "source": [
    "import pandas as pd\n",
    "import numpy as np\n",
    "from sklearn.metrics import f1_score,  recall_score, precision_score, accuracy_score\n",
    "from sklearn.model_selection import train_test_split, GridSearchCV\n",
    "from sklearn.feature_extraction.text import CountVectorizer, TfidfVectorizer\n",
    "from sklearn.naive_bayes import MultinomialNB, GaussianNB\n",
    "from sklearn.pipeline import make_pipeline, Pipeline\n",
    "from sklearn.metrics import confusion_matrix, classification_report\n",
    "from mlxtend.preprocessing import DenseTransformer\n",
    "from sklearn.feature_extraction.text import TfidfVectorizer\n",
    "from xgboost import XGBClassifier\n",
    "from sklearn.metrics import f1_score"
   ]
  },
  {
   "cell_type": "code",
   "execution_count": 278,
   "metadata": {},
   "outputs": [
    {
     "data": {
      "text/html": [
       "<div>\n",
       "<style scoped>\n",
       "    .dataframe tbody tr th:only-of-type {\n",
       "        vertical-align: middle;\n",
       "    }\n",
       "\n",
       "    .dataframe tbody tr th {\n",
       "        vertical-align: top;\n",
       "    }\n",
       "\n",
       "    .dataframe thead th {\n",
       "        text-align: right;\n",
       "    }\n",
       "</style>\n",
       "<table border=\"1\" class=\"dataframe\">\n",
       "  <thead>\n",
       "    <tr style=\"text-align: right;\">\n",
       "      <th></th>\n",
       "      <th>ID</th>\n",
       "      <th>review_es</th>\n",
       "      <th>sentimiento</th>\n",
       "    </tr>\n",
       "  </thead>\n",
       "  <tbody>\n",
       "    <tr>\n",
       "      <th>0</th>\n",
       "      <td>0</td>\n",
       "      <td>Uno de los otros críticos ha mencionado que de...</td>\n",
       "      <td>positivo</td>\n",
       "    </tr>\n",
       "    <tr>\n",
       "      <th>1</th>\n",
       "      <td>1</td>\n",
       "      <td>Una pequeña pequeña producción.La técnica de f...</td>\n",
       "      <td>positivo</td>\n",
       "    </tr>\n",
       "    <tr>\n",
       "      <th>2</th>\n",
       "      <td>2</td>\n",
       "      <td>Pensé que esta era una manera maravillosa de p...</td>\n",
       "      <td>positivo</td>\n",
       "    </tr>\n",
       "    <tr>\n",
       "      <th>3</th>\n",
       "      <td>3</td>\n",
       "      <td>Básicamente, hay una familia donde un niño peq...</td>\n",
       "      <td>negativo</td>\n",
       "    </tr>\n",
       "    <tr>\n",
       "      <th>4</th>\n",
       "      <td>4</td>\n",
       "      <td>El \"amor en el tiempo\" de Petter Mattei es una...</td>\n",
       "      <td>positivo</td>\n",
       "    </tr>\n",
       "    <tr>\n",
       "      <th>5</th>\n",
       "      <td>5</td>\n",
       "      <td>Probablemente mi película favorita de todos lo...</td>\n",
       "      <td>positivo</td>\n",
       "    </tr>\n",
       "    <tr>\n",
       "      <th>6</th>\n",
       "      <td>6</td>\n",
       "      <td>Seguro que me gustaría ver una resurrección de...</td>\n",
       "      <td>positivo</td>\n",
       "    </tr>\n",
       "    <tr>\n",
       "      <th>7</th>\n",
       "      <td>7</td>\n",
       "      <td>Este espectáculo fue una idea increíble, fresc...</td>\n",
       "      <td>negativo</td>\n",
       "    </tr>\n",
       "    <tr>\n",
       "      <th>8</th>\n",
       "      <td>8</td>\n",
       "      <td>Alentados por los comentarios positivos sobre ...</td>\n",
       "      <td>negativo</td>\n",
       "    </tr>\n",
       "    <tr>\n",
       "      <th>9</th>\n",
       "      <td>9</td>\n",
       "      <td>Si te gusta la risa original desgarradora, te ...</td>\n",
       "      <td>positivo</td>\n",
       "    </tr>\n",
       "  </tbody>\n",
       "</table>\n",
       "</div>"
      ],
      "text/plain": [
       "   ID                                          review_es sentimiento\n",
       "0   0  Uno de los otros críticos ha mencionado que de...    positivo\n",
       "1   1  Una pequeña pequeña producción.La técnica de f...    positivo\n",
       "2   2  Pensé que esta era una manera maravillosa de p...    positivo\n",
       "3   3  Básicamente, hay una familia donde un niño peq...    negativo\n",
       "4   4  El \"amor en el tiempo\" de Petter Mattei es una...    positivo\n",
       "5   5  Probablemente mi película favorita de todos lo...    positivo\n",
       "6   6  Seguro que me gustaría ver una resurrección de...    positivo\n",
       "7   7  Este espectáculo fue una idea increíble, fresc...    negativo\n",
       "8   8  Alentados por los comentarios positivos sobre ...    negativo\n",
       "9   9  Si te gusta la risa original desgarradora, te ...    positivo"
      ]
     },
     "execution_count": 278,
     "metadata": {},
     "output_type": "execute_result"
    }
   ],
   "source": [
    "df = pd.read_csv('train.csv', sep=',')\n",
    "df.head(10)"
   ]
  },
  {
   "cell_type": "code",
   "execution_count": 279,
   "metadata": {},
   "outputs": [
    {
     "data": {
      "text/plain": [
       "(50000, 3)"
      ]
     },
     "execution_count": 279,
     "metadata": {},
     "output_type": "execute_result"
    }
   ],
   "source": [
    "df.shape"
   ]
  },
  {
   "cell_type": "code",
   "execution_count": 280,
   "metadata": {},
   "outputs": [
    {
     "data": {
      "text/html": [
       "<div>\n",
       "<style scoped>\n",
       "    .dataframe tbody tr th:only-of-type {\n",
       "        vertical-align: middle;\n",
       "    }\n",
       "\n",
       "    .dataframe tbody tr th {\n",
       "        vertical-align: top;\n",
       "    }\n",
       "\n",
       "    .dataframe thead th {\n",
       "        text-align: right;\n",
       "    }\n",
       "</style>\n",
       "<table border=\"1\" class=\"dataframe\">\n",
       "  <thead>\n",
       "    <tr style=\"text-align: right;\">\n",
       "      <th></th>\n",
       "      <th>ID</th>\n",
       "      <th>review_es</th>\n",
       "    </tr>\n",
       "  </thead>\n",
       "  <tbody>\n",
       "    <tr>\n",
       "      <th>0</th>\n",
       "      <td>60000</td>\n",
       "      <td>La mayor virtud de esta película es su existen...</td>\n",
       "    </tr>\n",
       "    <tr>\n",
       "      <th>1</th>\n",
       "      <td>60001</td>\n",
       "      <td>No soy un experto cinéfilo, pero pocas veces m...</td>\n",
       "    </tr>\n",
       "    <tr>\n",
       "      <th>2</th>\n",
       "      <td>60002</td>\n",
       "      <td>Si no eres un incondicional del humor estilo T...</td>\n",
       "    </tr>\n",
       "    <tr>\n",
       "      <th>3</th>\n",
       "      <td>60003</td>\n",
       "      <td>No sé qué está pasando, si la gente se deja ll...</td>\n",
       "    </tr>\n",
       "    <tr>\n",
       "      <th>4</th>\n",
       "      <td>60004</td>\n",
       "      <td>Pero cuando amanece,y me quedo solo,siento en ...</td>\n",
       "    </tr>\n",
       "    <tr>\n",
       "      <th>...</th>\n",
       "      <td>...</td>\n",
       "      <td>...</td>\n",
       "    </tr>\n",
       "    <tr>\n",
       "      <th>8594</th>\n",
       "      <td>68594</td>\n",
       "      <td>Buena no, lo siguiente. Por fin un film serio ...</td>\n",
       "    </tr>\n",
       "    <tr>\n",
       "      <th>8595</th>\n",
       "      <td>68595</td>\n",
       "      <td>Me esperaba mucho, pero que mucho, más.Guión m...</td>\n",
       "    </tr>\n",
       "    <tr>\n",
       "      <th>8596</th>\n",
       "      <td>68596</td>\n",
       "      <td>De mal cuerpo como sensación al finalizar, de ...</td>\n",
       "    </tr>\n",
       "    <tr>\n",
       "      <th>8597</th>\n",
       "      <td>68597</td>\n",
       "      <td>Los que han añadido comentarios os lo han dich...</td>\n",
       "    </tr>\n",
       "    <tr>\n",
       "      <th>8598</th>\n",
       "      <td>68598</td>\n",
       "      <td>Fui a ver esta película de cine con entusiasmo...</td>\n",
       "    </tr>\n",
       "  </tbody>\n",
       "</table>\n",
       "<p>8599 rows × 2 columns</p>\n",
       "</div>"
      ],
      "text/plain": [
       "         ID                                          review_es\n",
       "0     60000  La mayor virtud de esta película es su existen...\n",
       "1     60001  No soy un experto cinéfilo, pero pocas veces m...\n",
       "2     60002  Si no eres un incondicional del humor estilo T...\n",
       "3     60003  No sé qué está pasando, si la gente se deja ll...\n",
       "4     60004  Pero cuando amanece,y me quedo solo,siento en ...\n",
       "...     ...                                                ...\n",
       "8594  68594  Buena no, lo siguiente. Por fin un film serio ...\n",
       "8595  68595  Me esperaba mucho, pero que mucho, más.Guión m...\n",
       "8596  68596  De mal cuerpo como sensación al finalizar, de ...\n",
       "8597  68597  Los que han añadido comentarios os lo han dich...\n",
       "8598  68598  Fui a ver esta película de cine con entusiasmo...\n",
       "\n",
       "[8599 rows x 2 columns]"
      ]
     },
     "execution_count": 280,
     "metadata": {},
     "output_type": "execute_result"
    }
   ],
   "source": [
    "df_test = pd.read_csv('test.csv', sep=',')\n",
    "df_test"
   ]
  },
  {
   "cell_type": "code",
   "execution_count": 281,
   "metadata": {},
   "outputs": [],
   "source": [
    "def mostrar_scores(y_test: np.ndarray, y_prediccion: np.ndarray):\n",
    "    accuracy = accuracy_score(y_test,y_prediccion)\n",
    "    recall = recall_score(y_test,y_prediccion)\n",
    "    f1 = f1_score(y_test,y_prediccion,)\n",
    "    precision = precision_score(y_test,y_prediccion)\n",
    "\n",
    "    print(\"Accuracy: \"+str(accuracy))\n",
    "    print(\"Recall: \"+str(recall))\n",
    "    print(\"Precision: \"+str(precision))\n",
    "    print(\"f1 score: \"+str(f1))"
   ]
  },
  {
   "cell_type": "markdown",
   "metadata": {},
   "source": [
    "### Preprocesamiento"
   ]
  },
  {
   "cell_type": "code",
   "execution_count": 307,
   "metadata": {},
   "outputs": [],
   "source": [
    "import re\n",
    "import nltk\n",
    "from nltk.corpus import stopwords\n",
    "from nltk.stem import SnowballStemmer\n",
    "from sklearn.model_selection import train_test_split\n",
    "from sklearn.feature_extraction.text import TfidfVectorizer\n",
    "\n",
    "df_preprocesado = df.copy()\n",
    "#nltk.download('stopwords')\n",
    "#nltk.download('punkt')\n",
    "\n",
    "stop_words = set(stopwords.words('spanish'))\n",
    "\n",
    "def preprocess_text(text):\n",
    "    text = text.lower()\n",
    "    text = re.sub(r'[^a-zA-Zñáéíóúü\\s]', '', text)\n",
    "    tokens = nltk.word_tokenize(text)\n",
    "    stop_words = set(stopwords.words('spanish'))\n",
    "    tokens = [word for word in tokens if word not in stop_words]\n",
    "    preprocessed_text = ' '.join(tokens)\n",
    "    return preprocessed_text\n",
    "\n",
    "df_preprocesado['review_es'] = df_preprocesado['review_es'].apply(preprocess_text)"
   ]
  },
  {
   "cell_type": "code",
   "execution_count": 283,
   "metadata": {},
   "outputs": [
    {
     "data": {
      "text/html": [
       "<div>\n",
       "<style scoped>\n",
       "    .dataframe tbody tr th:only-of-type {\n",
       "        vertical-align: middle;\n",
       "    }\n",
       "\n",
       "    .dataframe tbody tr th {\n",
       "        vertical-align: top;\n",
       "    }\n",
       "\n",
       "    .dataframe thead th {\n",
       "        text-align: right;\n",
       "    }\n",
       "</style>\n",
       "<table border=\"1\" class=\"dataframe\">\n",
       "  <thead>\n",
       "    <tr style=\"text-align: right;\">\n",
       "      <th></th>\n",
       "      <th>ID</th>\n",
       "      <th>review_es</th>\n",
       "      <th>sentimiento</th>\n",
       "    </tr>\n",
       "  </thead>\n",
       "  <tbody>\n",
       "    <tr>\n",
       "      <th>0</th>\n",
       "      <td>0</td>\n",
       "      <td>críticos mencionado después ver solo oz episod...</td>\n",
       "      <td>positivo</td>\n",
       "    </tr>\n",
       "    <tr>\n",
       "      <th>1</th>\n",
       "      <td>1</td>\n",
       "      <td>pequeña pequeña producciónla técnica filmación...</td>\n",
       "      <td>positivo</td>\n",
       "    </tr>\n",
       "    <tr>\n",
       "      <th>2</th>\n",
       "      <td>2</td>\n",
       "      <td>pensé manera maravillosa pasar tiempo fin sema...</td>\n",
       "      <td>positivo</td>\n",
       "    </tr>\n",
       "    <tr>\n",
       "      <th>3</th>\n",
       "      <td>3</td>\n",
       "      <td>básicamente familia niño pequeño jake piensa z...</td>\n",
       "      <td>negativo</td>\n",
       "    </tr>\n",
       "    <tr>\n",
       "      <th>4</th>\n",
       "      <td>4</td>\n",
       "      <td>amor tiempo petter mattei película visualmente...</td>\n",
       "      <td>positivo</td>\n",
       "    </tr>\n",
       "    <tr>\n",
       "      <th>5</th>\n",
       "      <td>5</td>\n",
       "      <td>probablemente película favorita tiempos histor...</td>\n",
       "      <td>positivo</td>\n",
       "    </tr>\n",
       "    <tr>\n",
       "      <th>6</th>\n",
       "      <td>6</td>\n",
       "      <td>seguro gustaría ver resurrección serie seahunt...</td>\n",
       "      <td>positivo</td>\n",
       "    </tr>\n",
       "    <tr>\n",
       "      <th>7</th>\n",
       "      <td>7</td>\n",
       "      <td>espectáculo idea increíble fresca innovadora a...</td>\n",
       "      <td>negativo</td>\n",
       "    </tr>\n",
       "    <tr>\n",
       "      <th>8</th>\n",
       "      <td>8</td>\n",
       "      <td>alentados comentarios positivos película aquí ...</td>\n",
       "      <td>negativo</td>\n",
       "    </tr>\n",
       "    <tr>\n",
       "      <th>9</th>\n",
       "      <td>9</td>\n",
       "      <td>si gusta risa original desgarradora gustará pe...</td>\n",
       "      <td>positivo</td>\n",
       "    </tr>\n",
       "  </tbody>\n",
       "</table>\n",
       "</div>"
      ],
      "text/plain": [
       "   ID                                          review_es sentimiento\n",
       "0   0  críticos mencionado después ver solo oz episod...    positivo\n",
       "1   1  pequeña pequeña producciónla técnica filmación...    positivo\n",
       "2   2  pensé manera maravillosa pasar tiempo fin sema...    positivo\n",
       "3   3  básicamente familia niño pequeño jake piensa z...    negativo\n",
       "4   4  amor tiempo petter mattei película visualmente...    positivo\n",
       "5   5  probablemente película favorita tiempos histor...    positivo\n",
       "6   6  seguro gustaría ver resurrección serie seahunt...    positivo\n",
       "7   7  espectáculo idea increíble fresca innovadora a...    negativo\n",
       "8   8  alentados comentarios positivos película aquí ...    negativo\n",
       "9   9  si gusta risa original desgarradora gustará pe...    positivo"
      ]
     },
     "execution_count": 283,
     "metadata": {},
     "output_type": "execute_result"
    }
   ],
   "source": [
    "df_preprocesado.head(10)"
   ]
  },
  {
   "cell_type": "code",
   "execution_count": 284,
   "metadata": {},
   "outputs": [],
   "source": [
    "x_train, x_test, y_train, y_test = train_test_split(\n",
    "                                          df['review_es'], df['sentimiento'], \n",
    "                                          test_size=0.3, random_state=42)"
   ]
  },
  {
   "cell_type": "markdown",
   "metadata": {},
   "source": [
    "### Modelos de Bayes Naïve"
   ]
  },
  {
   "cell_type": "markdown",
   "metadata": {},
   "source": [
    "##### Vamos a probar en primer lugar con un count vectorizer y luego con un tfidf vectorizer par ver con cual obtenemos merjores resultados"
   ]
  },
  {
   "cell_type": "code",
   "execution_count": 285,
   "metadata": {},
   "outputs": [],
   "source": [
    "modelo_count = make_pipeline(CountVectorizer(), MultinomialNB())\n",
    "modelo_tfidf = Pipeline([('tvec', TfidfVectorizer()), ('mnb',MultinomialNB())])"
   ]
  },
  {
   "cell_type": "markdown",
   "metadata": {},
   "source": [
    "##### Count vectorizer"
   ]
  },
  {
   "cell_type": "code",
   "execution_count": 286,
   "metadata": {},
   "outputs": [],
   "source": [
    "modelo_count.fit(x_train, y_train)\n",
    "\n",
    "prediccion = modelo_count.predict(x_test)\n",
    "\n",
    "# mostrar_scores(y_test, prediccion)"
   ]
  },
  {
   "cell_type": "code",
   "execution_count": 287,
   "metadata": {},
   "outputs": [],
   "source": [
    "modelo_tfidf.fit(x_train, y_train)\n",
    "\n",
    "prediccion = modelo_tfidf.predict(x_test)\n",
    "\n",
    "# mostrar_scores(y_test, prediccion)"
   ]
  },
  {
   "cell_type": "code",
   "execution_count": 288,
   "metadata": {},
   "outputs": [
    {
     "name": "stdout",
     "output_type": "stream",
     "text": [
      "Accuracy: 0.8277333333333333\n",
      "Recall: 0.8381868493872711\n",
      "Precision: 0.8242840482052611\n",
      "f1 score: 0.8311773160851954\n"
     ]
    }
   ],
   "source": [
    "df_preprocesado_copy = df_preprocesado.copy()\n",
    "df_preprocesado_copy['sentimiento'] = df_preprocesado_copy['sentimiento'].map({'negativo': 0, 'positivo': 1})\n",
    "X_train, X_test, y_train, y_test = train_test_split(df_preprocesado_copy['review_es'], df_preprocesado_copy['sentimiento'], test_size=0.3, random_state=42)\n",
    "\n",
    "\n",
    "vectorizer = TfidfVectorizer(max_features=7000)\n",
    "modelo_tfidf = make_pipeline(vectorizer, MultinomialNB(alpha=0.5))\n",
    "modelo_tfidf.fit(X_train, y_train)\n",
    "\n",
    "prediccion = modelo_tfidf.predict(X_test)\n",
    "\n",
    "mostrar_scores(y_test, prediccion)"
   ]
  },
  {
   "cell_type": "code",
   "execution_count": 289,
   "metadata": {},
   "outputs": [
    {
     "name": "stdout",
     "output_type": "stream",
     "text": [
      "Accuracy: 0.8460857142857143\n",
      "Recall: 0.8575038768594566\n",
      "Precision: 0.837071092173133\n",
      "f1 score: 0.8471642976707238\n"
     ]
    }
   ],
   "source": [
    "prediccion_train = modelo_tfidf.predict(X_train)\n",
    "\n",
    "mostrar_scores(y_train, prediccion_train)"
   ]
  },
  {
   "cell_type": "code",
   "execution_count": 292,
   "metadata": {},
   "outputs": [
    {
     "name": "stdout",
     "output_type": "stream",
     "text": [
      "Accuracy: 0.7766666666666666\n",
      "Recall: 0.7663723810778759\n",
      "Precision: 0.7866901122683619\n",
      "f1 score: 0.7763983446802829\n"
     ]
    }
   ],
   "source": [
    "df_preprocesado_copy = df_preprocesado.copy()\n",
    "df_preprocesado_copy['sentimiento'] = df_preprocesado_copy['sentimiento'].map({'negativo': 0, 'positivo': 1})\n",
    "X_train, X_test, y_train, y_test = train_test_split(df_preprocesado_copy['review_es'], df_preprocesado_copy['sentimiento'], test_size=0.3, random_state=42)\n",
    "\n",
    "\n",
    "vectorizer = TfidfVectorizer(max_features=7000)\n",
    "modelo_gauss = make_pipeline(vectorizer,   DenseTransformer() ,GaussianNB())\n",
    "modelo_gauss.fit(X_train, y_train)\n",
    "\n",
    "prediccion = modelo_gauss.predict(X_test)\n",
    "\n",
    "mostrar_scores(y_test, prediccion)"
   ]
  },
  {
   "cell_type": "code",
   "execution_count": 293,
   "metadata": {},
   "outputs": [
    {
     "name": "stdout",
     "output_type": "stream",
     "text": [
      "Accuracy: 0.8185714285714286\n",
      "Recall: 0.8056401125725117\n",
      "Precision: 0.8254575413405519\n",
      "f1 score: 0.8154284385536564\n"
     ]
    }
   ],
   "source": [
    "prediccion_train = modelo_gauss.predict(X_train)\n",
    "\n",
    "mostrar_scores(y_train, prediccion_train)"
   ]
  },
  {
   "cell_type": "code",
   "execution_count": 294,
   "metadata": {},
   "outputs": [],
   "source": [
    "df_test = pd.read_csv('test.csv', sep=',')\n",
    "df_test_procesado = df_test.copy()\n",
    "\n",
    "prediccion = modelo_tfidf.predict(df_test_procesado['review_es'].apply(preprocess_text))\n",
    "prediccion = np.where(prediccion == 0, 'negativo', 'positivo')\n",
    "\n",
    "df_entrega = df_test.copy()\n",
    "\n",
    "\n",
    "df_entrega['sentimiento'] = prediccion\n",
    "df_entrega.drop('review_es', axis=1, inplace=True)\n",
    "\n",
    "df_entrega.to_csv('entrega.csv', index=False)"
   ]
  },
  {
   "cell_type": "markdown",
   "metadata": {},
   "source": [
    "### XGBoost"
   ]
  },
  {
   "cell_type": "code",
   "execution_count": 295,
   "metadata": {},
   "outputs": [
    {
     "name": "stdout",
     "output_type": "stream",
     "text": [
      "F1_score: 0.7480124438299343\n",
      "F1_score train: 0.7492442601244161\n"
     ]
    }
   ],
   "source": [
    "vectorizer = TfidfVectorizer(max_features=1000)\n",
    "X = vectorizer.fit_transform(df_preprocesado['review_es'])\n",
    "df_preprocesado['sentimiento'] = df_preprocesado['sentimiento'].map({'negativo': 0, 'positivo': 1})\n",
    "\n",
    "X_train, X_test, y_train, y_test = train_test_split(X, df_preprocesado['sentimiento'], test_size=0.3, random_state=42)\n",
    "\n",
    "modelo_xg_boost = XGBClassifier(\n",
    "    learning_rate=0.01,\n",
    "    n_estimators=100,\n",
    "    max_depth=5,\n",
    "    min_child_weight=1,\n",
    "    subsample=0.8,\n",
    "    colsample_bytree=0.8,\n",
    "    objective='binary:logistic',\n",
    "    n_jobs=-1,\n",
    "    random_state=42\n",
    ")\n",
    "modelo_xg_boost.fit(X_train, y_train)\n",
    "\n",
    "y_pred = modelo_xg_boost.predict(X_test)\n",
    "f1 = f1_score(y_test, y_pred)\n",
    "print(f'F1_score: {f1}')\n",
    "f1_train = f1_score(y_train, modelo_xg_boost.predict(X_train))\n",
    "print(f'F1_score train: {f1_train}')\n"
   ]
  },
  {
   "cell_type": "code",
   "execution_count": 296,
   "metadata": {},
   "outputs": [
    {
     "data": {
      "image/png": "[encoded data removed]",
      "text/plain": [
       "<Figure size 640x480 with 2 Axes>"
      ]
     },
     "metadata": {},
     "output_type": "display_data"
    }
   ],
   "source": [
    "import matplotlib.pyplot as plt\n",
    "import seaborn as sns\n",
    "from sklearn.metrics import confusion_matrix\n",
    "\n",
    "tabla = confusion_matrix(y_test, y_pred)\n",
    "sns.heatmap(tabla, annot=True, fmt='d')\n",
    "plt.xlabel('Predicho')\n",
    "plt.ylabel('Real')\n",
    "plt.show()\n"
   ]
  },
  {
   "cell_type": "markdown",
   "metadata": {},
   "source": [
    "### Predicción en los datos de test"
   ]
  },
  {
   "cell_type": "code",
   "execution_count": 297,
   "metadata": {},
   "outputs": [],
   "source": [
    "df_test_copia = df_test.copy()\n",
    "X = vectorizer.transform(df_test_copia['review_es'])\n",
    "\n",
    "prediccion = modelo_xg_boost.predict(X)\n",
    "prediccion = np.where(prediccion == 0, 'negativo', 'positivo')\n",
    "\n",
    "df_entrega = df_test.copy()\n",
    "\n",
    "df_entrega['sentimiento'] = prediccion\n",
    "df_entrega.drop('review_es', axis=1, inplace=True)\n",
    "\n",
    "df_entrega.to_csv('entrega.csv', index=False)"
   ]
  },
  {
   "cell_type": "markdown",
   "metadata": {},
   "source": [
    "### Red Neuronal"
   ]
  },
  {
   "cell_type": "code",
   "execution_count": 308,
   "metadata": {},
   "outputs": [
    {
     "ename": "ImportError",
     "evalue": "cannot import name 'pad_sequences' from 'keras.preprocessing.sequence' (/Users/juampi/anaconda3/lib/python3.11/site-packages/keras/preprocessing/sequence.py)",
     "output_type": "error",
     "traceback": [
      "\u001b[0;31m---------------------------------------------------------------------------\u001b[0m",
      "\u001b[0;31mImportError\u001b[0m                               Traceback (most recent call last)",
      "\u001b[1;32m/Users/juampi/Documents/uba/Cuarto Cuatrimestre/Organizacion de Datos/tp2/7506R_TP2_GRUPO23_ENTREGA.ipynb Cell 29\u001b[0m line \u001b[0;36m6\n\u001b[1;32m      <a href='vscode-notebook-cell:/Users/juampi/Documents/uba/Cuarto%20Cuatrimestre/Organizacion%20de%20Datos/tp2/7506R_TP2_GRUPO23_ENTREGA.ipynb#Y140sZmlsZQ%3D%3D?line=3'>4</a>\u001b[0m \u001b[39mfrom\u001b[39;00m \u001b[39mkeras\u001b[39;00m\u001b[39m.\u001b[39;00m\u001b[39moptimizers\u001b[39;00m \u001b[39mimport\u001b[39;00m SGD\n\u001b[1;32m      <a href='vscode-notebook-cell:/Users/juampi/Documents/uba/Cuarto%20Cuatrimestre/Organizacion%20de%20Datos/tp2/7506R_TP2_GRUPO23_ENTREGA.ipynb#Y140sZmlsZQ%3D%3D?line=4'>5</a>\u001b[0m \u001b[39mfrom\u001b[39;00m \u001b[39mkeras\u001b[39;00m\u001b[39m.\u001b[39;00m\u001b[39mpreprocessing\u001b[39;00m\u001b[39m.\u001b[39;00m\u001b[39mtext\u001b[39;00m \u001b[39mimport\u001b[39;00m Tokenizer\n\u001b[0;32m----> <a href='vscode-notebook-cell:/Users/juampi/Documents/uba/Cuarto%20Cuatrimestre/Organizacion%20de%20Datos/tp2/7506R_TP2_GRUPO23_ENTREGA.ipynb#Y140sZmlsZQ%3D%3D?line=5'>6</a>\u001b[0m \u001b[39mfrom\u001b[39;00m \u001b[39mkeras\u001b[39;00m\u001b[39m.\u001b[39;00m\u001b[39mpreprocessing\u001b[39;00m\u001b[39m.\u001b[39;00m\u001b[39msequence\u001b[39;00m \u001b[39mimport\u001b[39;00m pad_sequences\n\u001b[1;32m      <a href='vscode-notebook-cell:/Users/juampi/Documents/uba/Cuarto%20Cuatrimestre/Organizacion%20de%20Datos/tp2/7506R_TP2_GRUPO23_ENTREGA.ipynb#Y140sZmlsZQ%3D%3D?line=6'>7</a>\u001b[0m \u001b[39mfrom\u001b[39;00m \u001b[39mkeras\u001b[39;00m\u001b[39m.\u001b[39;00m\u001b[39mcallbacks\u001b[39;00m \u001b[39mimport\u001b[39;00m EarlyStopping\n\u001b[1;32m      <a href='vscode-notebook-cell:/Users/juampi/Documents/uba/Cuarto%20Cuatrimestre/Organizacion%20de%20Datos/tp2/7506R_TP2_GRUPO23_ENTREGA.ipynb#Y140sZmlsZQ%3D%3D?line=7'>8</a>\u001b[0m \u001b[39mfrom\u001b[39;00m \u001b[39mkeras\u001b[39;00m\u001b[39m.\u001b[39;00m\u001b[39mlayers\u001b[39;00m \u001b[39mimport\u001b[39;00m LSTM, Embedding\n",
      "\u001b[0;31mImportError\u001b[0m: cannot import name 'pad_sequences' from 'keras.preprocessing.sequence' (/Users/juampi/anaconda3/lib/python3.11/site-packages/keras/preprocessing/sequence.py)"
     ]
    }
   ],
   "source": [
    "import tensorflow as tf\n",
    "from tensorflow import keras\n",
    "\n",
    "from tensorflow.keras.layers import Dense, Dropout, Activation\n",
    "from tensorflow.keras.optimizers import SGD\n",
    "from tensorflow.keras.preprocessing.text import Tokenizer\n",
    "from tensorflow.keras.preprocessing.sequence import pad_sequences\n",
    "from tensorflow.keras.callbacks import EarlyStopping\n",
    "from tensorflow.keras.layers import LSTM, Embedding\n",
    "from tensorflow.keras.layers import Dense, Input, Dropout\n",
    "import os\n",
    "\n",
    "np.random.seed(1)\n",
    "tf.random.set_seed(1)\n",
    "keras.utils.set_random_seed(812)\n",
    "os.environ['PYTHONHASHSEED']=str(1)\n",
    "\n",
    "\n",
    "df_preprocesado_copy = df_preprocesado.copy()\n",
    "df_preprocesado_copy['sentimiento'] = df_preprocesado_copy['sentimiento'].map({'negativo': 0, 'positivo': 1})\n",
    "X_train, X_test, y_train, y_test = train_test_split(df_preprocesado_copy['review_es'], df_preprocesado_copy['sentimiento'], test_size=0.3, random_state=42)\n",
    "\n",
    "max_words = 1000\n",
    "max_len = 150\n",
    "tok = Tokenizer(num_words=max_words)\n",
    "tok.fit_on_texts(X_train)\n",
    "sequences = tok.texts_to_sequences(X_train)\n",
    "sequences_matrix = pad_sequences(sequences,maxlen=max_len)\n",
    "\n",
    "def RNN():\n",
    "    inputs = Input(name='inputs', shape=[max_len])\n",
    "    layer = Embedding(max_words, 50, input_length=max_len)(inputs)\n",
    "    layer = LSTM(128)(layer)\n",
    "    layer = Dense(256,name='FC1')(layer)\n",
    "    layer = Activation('relu')(layer)\n",
    "    layer = Dropout(0.5)(layer)\n",
    "    layer = Dense(1,name='out_layer')(layer)\n",
    "    layer = Activation('sigmoid')(layer)\n",
    "    model = tf.keras.Model(inputs=inputs,outputs=layer)\n",
    "    return model\n",
    "\n",
    "model_rnn = RNN()\n",
    "model_rnn.summary()\n",
    "model_rnn.compile(loss='binary_crossentropy', optimizer='adam', metrics=['accuracy'])\n",
    "\n",
    "model_rnn.fit(sequences_matrix, y_train, batch_size=128, epochs=100, \n",
    "            validation_split=0.3,callbacks=[EarlyStopping(monitor='val_loss',min_delta=0.0001)])\n",
    "\n",
    "test_sequences = tok.texts_to_sequences(X_test)\n",
    "test_sequences_matrix = pad_sequences(test_sequences, maxlen=max_len)\n",
    "\n",
    "accr = model_rnn.evaluate(test_sequences_matrix, y_test)\n",
    "\n",
    "print('Test set\\n  Loss: {:0.3f}\\n  Accuracy: {:0.3f}'.format(accr[0],accr[1]))\n",
    "\n",
    "prediccion = model_rnn.predict(test_sequences_matrix)\n",
    "prediccion = np.where(prediccion >= 0.5, 1, 0)\n",
    "mostrar_scores(y_test, prediccion)\n",
    "prediccion = np.where(prediccion == 1, 'positivo', 'negativo')\n"
   ]
  },
  {
   "cell_type": "code",
   "execution_count": 304,
   "metadata": {},
   "outputs": [
    {
     "data": {
      "image/png": "[encoded data removed]",
      "text/plain": [
       "<Figure size 640x480 with 2 Axes>"
      ]
     },
     "metadata": {},
     "output_type": "display_data"
    }
   ],
   "source": [
    "#heatmap\n",
    "import matplotlib.pyplot as plt\n",
    "import seaborn as sns\n",
    "from sklearn.metrics import confusion_matrix\n",
    "\n",
    "prediccion_heatmap = np.where(prediccion == 'positivo', 1, 0)\n",
    "\n",
    "tabla = confusion_matrix(y_test, prediccion_heatmap)\n",
    "sns.heatmap(tabla, annot=True, fmt='d')\n",
    "plt.xlabel('Predicho')\n",
    "plt.ylabel('Real')\n",
    "plt.show()"
   ]
  },
  {
   "cell_type": "code",
   "execution_count": null,
   "metadata": {},
   "outputs": [
    {
     "name": "stdout",
     "output_type": "stream",
     "text": [
      "1094/1094 [==============================] - 25s 23ms/step\n",
      "Accuracy: 0.8404285714285714\n",
      "Recall: 0.8960427316064556\n",
      "Precision: 0.8051713459950454\n",
      "f1 score: 0.8481800636094272\n"
     ]
    }
   ],
   "source": [
    "train_sequences = tok.texts_to_sequences(X_train)\n",
    "train_sequences_matrix = pad_sequences(train_sequences, maxlen=max_len)\n",
    "prediccion_train = model_rnn.predict(train_sequences_matrix)\n",
    "prediccion_train = np.where(prediccion_train >= 0.5, 1, 0)\n",
    "mostrar_scores(y_train, prediccion_train)"
   ]
  },
  {
   "cell_type": "markdown",
   "metadata": {},
   "source": [
    "### Prediccion en los datos de test"
   ]
  },
  {
   "cell_type": "code",
   "execution_count": null,
   "metadata": {},
   "outputs": [
    {
     "data": {
      "text/html": [
       "<div>\n",
       "<style scoped>\n",
       "    .dataframe tbody tr th:only-of-type {\n",
       "        vertical-align: middle;\n",
       "    }\n",
       "\n",
       "    .dataframe tbody tr th {\n",
       "        vertical-align: top;\n",
       "    }\n",
       "\n",
       "    .dataframe thead th {\n",
       "        text-align: right;\n",
       "    }\n",
       "</style>\n",
       "<table border=\"1\" class=\"dataframe\">\n",
       "  <thead>\n",
       "    <tr style=\"text-align: right;\">\n",
       "      <th></th>\n",
       "      <th>ID</th>\n",
       "      <th>review_es</th>\n",
       "    </tr>\n",
       "  </thead>\n",
       "  <tbody>\n",
       "    <tr>\n",
       "      <th>0</th>\n",
       "      <td>60000</td>\n",
       "      <td>La mayor virtud de esta película es su existen...</td>\n",
       "    </tr>\n",
       "    <tr>\n",
       "      <th>1</th>\n",
       "      <td>60001</td>\n",
       "      <td>No soy un experto cinéfilo, pero pocas veces m...</td>\n",
       "    </tr>\n",
       "    <tr>\n",
       "      <th>2</th>\n",
       "      <td>60002</td>\n",
       "      <td>Si no eres un incondicional del humor estilo T...</td>\n",
       "    </tr>\n",
       "    <tr>\n",
       "      <th>3</th>\n",
       "      <td>60003</td>\n",
       "      <td>No sé qué está pasando, si la gente se deja ll...</td>\n",
       "    </tr>\n",
       "    <tr>\n",
       "      <th>4</th>\n",
       "      <td>60004</td>\n",
       "      <td>Pero cuando amanece,y me quedo solo,siento en ...</td>\n",
       "    </tr>\n",
       "    <tr>\n",
       "      <th>...</th>\n",
       "      <td>...</td>\n",
       "      <td>...</td>\n",
       "    </tr>\n",
       "    <tr>\n",
       "      <th>8594</th>\n",
       "      <td>68594</td>\n",
       "      <td>Buena no, lo siguiente. Por fin un film serio ...</td>\n",
       "    </tr>\n",
       "    <tr>\n",
       "      <th>8595</th>\n",
       "      <td>68595</td>\n",
       "      <td>Me esperaba mucho, pero que mucho, más.Guión m...</td>\n",
       "    </tr>\n",
       "    <tr>\n",
       "      <th>8596</th>\n",
       "      <td>68596</td>\n",
       "      <td>De mal cuerpo como sensación al finalizar, de ...</td>\n",
       "    </tr>\n",
       "    <tr>\n",
       "      <th>8597</th>\n",
       "      <td>68597</td>\n",
       "      <td>Los que han añadido comentarios os lo han dich...</td>\n",
       "    </tr>\n",
       "    <tr>\n",
       "      <th>8598</th>\n",
       "      <td>68598</td>\n",
       "      <td>Fui a ver esta película de cine con entusiasmo...</td>\n",
       "    </tr>\n",
       "  </tbody>\n",
       "</table>\n",
       "<p>8599 rows × 2 columns</p>\n",
       "</div>"
      ],
      "text/plain": [
       "         ID                                          review_es\n",
       "0     60000  La mayor virtud de esta película es su existen...\n",
       "1     60001  No soy un experto cinéfilo, pero pocas veces m...\n",
       "2     60002  Si no eres un incondicional del humor estilo T...\n",
       "3     60003  No sé qué está pasando, si la gente se deja ll...\n",
       "4     60004  Pero cuando amanece,y me quedo solo,siento en ...\n",
       "...     ...                                                ...\n",
       "8594  68594  Buena no, lo siguiente. Por fin un film serio ...\n",
       "8595  68595  Me esperaba mucho, pero que mucho, más.Guión m...\n",
       "8596  68596  De mal cuerpo como sensación al finalizar, de ...\n",
       "8597  68597  Los que han añadido comentarios os lo han dich...\n",
       "8598  68598  Fui a ver esta película de cine con entusiasmo...\n",
       "\n",
       "[8599 rows x 2 columns]"
      ]
     },
     "execution_count": 49,
     "metadata": {},
     "output_type": "execute_result"
    }
   ],
   "source": [
    "df_test = pd.read_csv('test.csv', sep=',')\n",
    "df_test"
   ]
  },
  {
   "cell_type": "code",
   "execution_count": null,
   "metadata": {},
   "outputs": [
    {
     "name": "stdout",
     "output_type": "stream",
     "text": [
      "269/269 [==============================] - 6s 24ms/step\n"
     ]
    }
   ],
   "source": [
    "df_test_copia = df_test.copy()\n",
    "\n",
    "train_sequences = tok.texts_to_sequences(df_test_copia['review_es'])\n",
    "train_sequences_matrix = pad_sequences(train_sequences, maxlen=max_len)\n",
    "prediccion_final = model_rnn.predict(train_sequences_matrix)\n",
    "prediccion_final = np.where(prediccion_final >= 0.5, 'positivo', 'negativo')\n",
    "\n",
    "df_entrega = df_test.copy()\n",
    "\n",
    "df_entrega['sentimiento'] = prediccion_final\n",
    "df_entrega.drop('review_es', axis=1, inplace=True)\n",
    "\n",
    "df_entrega.to_csv('entrega.csv', index=False)"
   ]
  }
 ],
 "metadata": {
  "kernelspec": {
   "display_name": "base",
   "language": "python",
   "name": "python3"
  },
  "language_info": {
   "codemirror_mode": {
    "name": "ipython",
    "version": 3
   },
   "file_extension": ".py",
   "mimetype": "text/x-python",
   "name": "python",
   "nbconvert_exporter": "python",
   "pygments_lexer": "ipython3",
   "version": "3.11.4"
  }
 },
 "nbformat": 4,
 "nbformat_minor": 2
}
