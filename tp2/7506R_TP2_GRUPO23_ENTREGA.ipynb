{
 "cells": [
  {
   "cell_type": "markdown",
   "metadata": {},
   "source": [
    "# TP 2 - Procesamiento del Lenguaje Natural"
   ]
  },
  {
   "cell_type": "markdown",
   "metadata": {},
   "source": [
    "## Librerias y Funciones\n"
   ]
  },
  {
   "cell_type": "code",
   "execution_count": 84,
   "metadata": {},
   "outputs": [],
   "source": [
    "import pandas as pd\n",
    "import numpy as np\n",
    "from sklearn.metrics import f1_score,  recall_score, precision_score, accuracy_score\n",
    "from sklearn.model_selection import train_test_split, GridSearchCV\n",
    "from sklearn.feature_extraction.text import CountVectorizer, TfidfVectorizer\n",
    "from sklearn.naive_bayes import MultinomialNB, GaussianNB, BernoulliNB\n",
    "from sklearn.pipeline import make_pipeline, Pipeline\n",
    "from sklearn.metrics import confusion_matrix, classification_report\n",
    "from mlxtend.preprocessing import DenseTransformer\n",
    "from sklearn.feature_extraction.text import TfidfVectorizer\n",
    "from xgboost import XGBClassifier\n",
    "from sklearn.metrics import f1_score\n",
    "import matplotlib.pyplot as plt\n",
    "import seaborn as sns\n",
    "import re\n",
    "import nltk\n",
    "from nltk.corpus import stopwords\n",
    "import matplotlib.pyplot as plt\n",
    "import seaborn as sns\n",
    "from langdetect import detect, detect_langs\n",
    "from sklearn.metrics import confusion_matrix\n",
    "from sklearn.linear_model import LogisticRegression\n",
    "from sklearn.pipeline import Pipeline\n",
    "from sklearn.feature_extraction.text import TfidfVectorizer\n",
    "from sklearn.metrics import f1_score\n",
    "from sklearn.model_selection import RandomizedSearchCV\n",
    "from sklearn.model_selection import StratifiedKFold\n",
    "from sklearn.model_selection import cross_val_score\n",
    "import scipy.stats as st\n",
    "import tensorflow as tf\n",
    "from tensorflow import keras\n",
    "from tensorflow.keras.layers import Dense, Dropout, Activation\n",
    "from tensorflow.keras.optimizers import SGD\n",
    "from tensorflow.keras.preprocessing.text import Tokenizer\n",
    "from tensorflow.keras.preprocessing.sequence import pad_sequences\n",
    "from tensorflow.keras.callbacks import EarlyStopping\n",
    "from tensorflow.keras.layers import LSTM, Embedding\n",
    "from tensorflow.keras.layers import Dense, Input, Dropout\n",
    "from emoji import emoji_count, demojize\n",
    "import os"
   ]
  },
  {
   "cell_type": "code",
   "execution_count": 85,
   "metadata": {},
   "outputs": [],
   "source": [
    "def mostrar_scores(y_test: np.ndarray, y_prediccion: np.ndarray):\n",
    "    accuracy = accuracy_score(y_test,y_prediccion)\n",
    "    recall = recall_score(y_test,y_prediccion)\n",
    "    f1 = f1_score(y_test,y_prediccion,)\n",
    "    precision = precision_score(y_test,y_prediccion)\n",
    "\n",
    "    print(\"Accuracy: \"+str(accuracy))\n",
    "    print(\"Recall: \"+str(recall))\n",
    "    print(\"Precision: \"+str(precision))\n",
    "    print(\"f1 score: \"+str(f1))\n",
    "\n",
    "def cantidad_de_palabras(review):\n",
    "    return len(review.split())"
   ]
  },
  {
   "cell_type": "markdown",
   "metadata": {},
   "source": [
    "## Analisis Exploratorio"
   ]
  },
  {
   "cell_type": "code",
   "execution_count": 86,
   "metadata": {},
   "outputs": [
    {
     "data": {
      "text/html": [
       "<div>\n",
       "<style scoped>\n",
       "    .dataframe tbody tr th:only-of-type {\n",
       "        vertical-align: middle;\n",
       "    }\n",
       "\n",
       "    .dataframe tbody tr th {\n",
       "        vertical-align: top;\n",
       "    }\n",
       "\n",
       "    .dataframe thead th {\n",
       "        text-align: right;\n",
       "    }\n",
       "</style>\n",
       "<table border=\"1\" class=\"dataframe\">\n",
       "  <thead>\n",
       "    <tr style=\"text-align: right;\">\n",
       "      <th></th>\n",
       "      <th>ID</th>\n",
       "      <th>review_es</th>\n",
       "      <th>sentimiento</th>\n",
       "    </tr>\n",
       "  </thead>\n",
       "  <tbody>\n",
       "    <tr>\n",
       "      <th>0</th>\n",
       "      <td>0</td>\n",
       "      <td>Uno de los otros críticos ha mencionado que de...</td>\n",
       "      <td>positivo</td>\n",
       "    </tr>\n",
       "    <tr>\n",
       "      <th>1</th>\n",
       "      <td>1</td>\n",
       "      <td>Una pequeña pequeña producción.La técnica de f...</td>\n",
       "      <td>positivo</td>\n",
       "    </tr>\n",
       "    <tr>\n",
       "      <th>2</th>\n",
       "      <td>2</td>\n",
       "      <td>Pensé que esta era una manera maravillosa de p...</td>\n",
       "      <td>positivo</td>\n",
       "    </tr>\n",
       "    <tr>\n",
       "      <th>3</th>\n",
       "      <td>3</td>\n",
       "      <td>Básicamente, hay una familia donde un niño peq...</td>\n",
       "      <td>negativo</td>\n",
       "    </tr>\n",
       "    <tr>\n",
       "      <th>4</th>\n",
       "      <td>4</td>\n",
       "      <td>El \"amor en el tiempo\" de Petter Mattei es una...</td>\n",
       "      <td>positivo</td>\n",
       "    </tr>\n",
       "    <tr>\n",
       "      <th>5</th>\n",
       "      <td>5</td>\n",
       "      <td>Probablemente mi película favorita de todos lo...</td>\n",
       "      <td>positivo</td>\n",
       "    </tr>\n",
       "    <tr>\n",
       "      <th>6</th>\n",
       "      <td>6</td>\n",
       "      <td>Seguro que me gustaría ver una resurrección de...</td>\n",
       "      <td>positivo</td>\n",
       "    </tr>\n",
       "    <tr>\n",
       "      <th>7</th>\n",
       "      <td>7</td>\n",
       "      <td>Este espectáculo fue una idea increíble, fresc...</td>\n",
       "      <td>negativo</td>\n",
       "    </tr>\n",
       "    <tr>\n",
       "      <th>8</th>\n",
       "      <td>8</td>\n",
       "      <td>Alentados por los comentarios positivos sobre ...</td>\n",
       "      <td>negativo</td>\n",
       "    </tr>\n",
       "    <tr>\n",
       "      <th>9</th>\n",
       "      <td>9</td>\n",
       "      <td>Si te gusta la risa original desgarradora, te ...</td>\n",
       "      <td>positivo</td>\n",
       "    </tr>\n",
       "  </tbody>\n",
       "</table>\n",
       "</div>"
      ],
      "text/plain": [
       "   ID                                          review_es sentimiento\n",
       "0   0  Uno de los otros críticos ha mencionado que de...    positivo\n",
       "1   1  Una pequeña pequeña producción.La técnica de f...    positivo\n",
       "2   2  Pensé que esta era una manera maravillosa de p...    positivo\n",
       "3   3  Básicamente, hay una familia donde un niño peq...    negativo\n",
       "4   4  El \"amor en el tiempo\" de Petter Mattei es una...    positivo\n",
       "5   5  Probablemente mi película favorita de todos lo...    positivo\n",
       "6   6  Seguro que me gustaría ver una resurrección de...    positivo\n",
       "7   7  Este espectáculo fue una idea increíble, fresc...    negativo\n",
       "8   8  Alentados por los comentarios positivos sobre ...    negativo\n",
       "9   9  Si te gusta la risa original desgarradora, te ...    positivo"
      ]
     },
     "execution_count": 86,
     "metadata": {},
     "output_type": "execute_result"
    }
   ],
   "source": [
    "df = pd.read_csv('train.csv', sep=',')\n",
    "df.head(10)"
   ]
  },
  {
   "cell_type": "code",
   "execution_count": 87,
   "metadata": {},
   "outputs": [
    {
     "data": {
      "text/plain": [
       "(50000, 3)"
      ]
     },
     "execution_count": 87,
     "metadata": {},
     "output_type": "execute_result"
    }
   ],
   "source": [
    "df.shape"
   ]
  },
  {
   "cell_type": "markdown",
   "metadata": {},
   "source": [
    "En primer lugar vamos a analizar el dataset para ver si contiene emojis"
   ]
  },
  {
   "cell_type": "code",
   "execution_count": 88,
   "metadata": {},
   "outputs": [
    {
     "data": {
      "text/html": [
       "<div>\n",
       "<style scoped>\n",
       "    .dataframe tbody tr th:only-of-type {\n",
       "        vertical-align: middle;\n",
       "    }\n",
       "\n",
       "    .dataframe tbody tr th {\n",
       "        vertical-align: top;\n",
       "    }\n",
       "\n",
       "    .dataframe thead th {\n",
       "        text-align: right;\n",
       "    }\n",
       "</style>\n",
       "<table border=\"1\" class=\"dataframe\">\n",
       "  <thead>\n",
       "    <tr style=\"text-align: right;\">\n",
       "      <th></th>\n",
       "      <th>cantidad_emojis</th>\n",
       "      <th>cantidad_filas</th>\n",
       "    </tr>\n",
       "  </thead>\n",
       "  <tbody>\n",
       "    <tr>\n",
       "      <th>0</th>\n",
       "      <td>0</td>\n",
       "      <td>49995</td>\n",
       "    </tr>\n",
       "    <tr>\n",
       "      <th>1</th>\n",
       "      <td>1</td>\n",
       "      <td>5</td>\n",
       "    </tr>\n",
       "  </tbody>\n",
       "</table>\n",
       "</div>"
      ],
      "text/plain": [
       "   cantidad_emojis  cantidad_filas\n",
       "0                0           49995\n",
       "1                1               5"
      ]
     },
     "execution_count": 88,
     "metadata": {},
     "output_type": "execute_result"
    }
   ],
   "source": [
    "df['tiene_emoji'] = df['review_es'].apply(emoji_count)\n",
    "cantidad_emojis = df['tiene_emoji'].value_counts().reset_index()\n",
    "cantidad_emojis.columns = ['cantidad_emojis', 'cantidad_filas']\n",
    "cantidad_emojis"
   ]
  },
  {
   "cell_type": "code",
   "execution_count": 89,
   "metadata": {},
   "outputs": [],
   "source": [
    "df.drop(['tiene_emoji'], axis=1, inplace=True)"
   ]
  },
  {
   "cell_type": "code",
   "execution_count": 90,
   "metadata": {},
   "outputs": [],
   "source": [
    "df['cantidad_de_palabras'] = df['review_es'].apply(cantidad_de_palabras)"
   ]
  },
  {
   "cell_type": "code",
   "execution_count": 91,
   "metadata": {},
   "outputs": [
    {
     "data": {
      "text/plain": [
       "count    50000.000000\n",
       "mean       237.233680\n",
       "std        179.529306\n",
       "min          6.000000\n",
       "25%        123.000000\n",
       "50%        172.000000\n",
       "75%        293.000000\n",
       "max       2450.000000\n",
       "Name: cantidad_de_palabras, dtype: float64"
      ]
     },
     "execution_count": 91,
     "metadata": {},
     "output_type": "execute_result"
    }
   ],
   "source": [
    "df['cantidad_de_palabras'].describe()"
   ]
  },
  {
   "cell_type": "code",
   "execution_count": 62,
   "metadata": {},
   "outputs": [
    {
     "data": {
      "image/png": "[encoded data removed]",
      "text/plain": [
       "<Figure size 1400x400 with 2 Axes>"
      ]
     },
     "metadata": {},
     "output_type": "display_data"
    }
   ],
   "source": [
    "sns.set_style('whitegrid')\n",
    "fig, (ax1, ax2) = plt.subplots(1, 2, figsize=(14, 4))\n",
    "\n",
    "sns.kdeplot(df['cantidad_de_palabras'], fill=True, ax=ax1).set_title('Distribución de la cantidad de palabras por review')\n",
    "ax1.set_ylabel('Densidad')\n",
    "ax1.set_xlabel('Cantidad de palabras')\n",
    "\n",
    "sns.histplot(df['cantidad_de_palabras'],  ax=ax2, bins=150, kde=False).set_title('Distribución de la cantidad de palabras por review')\n",
    "ax2.xlabel('Cantidad de palabras')\n",
    "ax2.ylabel('Cantidad de reviews')\n",
    "\n",
    "plt.title('Cantidad de palabras por review')\n",
    "plt.tight_layout()\n",
    "plt.show()"
   ]
  },
  {
   "cell_type": "code",
   "execution_count": 44,
   "metadata": {},
   "outputs": [
    {
     "data": {
      "image/png": "[encoded data removed]",
      "text/plain": [
       "<Figure size 1200x800 with 1 Axes>"
      ]
     },
     "metadata": {},
     "output_type": "display_data"
    }
   ],
   "source": [
    "sns.set_style('whitegrid')\n",
    "plt.figure(figsize=(12, 8))\n",
    "sns.boxplot(df['cantidad_de_palabras'], color='blue')\n",
    "plt.xlabel('Cantidad de palabras')\n",
    "plt.title('Cantidad de palabras por review')\n",
    "plt.tight_layout()\n",
    "plt.show()"
   ]
  },
  {
   "cell_type": "code",
   "execution_count": 92,
   "metadata": {},
   "outputs": [],
   "source": [
    "df['zscore'] = (df['cantidad_de_palabras'] - df['cantidad_de_palabras'].mean()) / df['cantidad_de_palabras'].std()"
   ]
  },
  {
   "cell_type": "code",
   "execution_count": 93,
   "metadata": {},
   "outputs": [
    {
     "data": {
      "text/plain": [
       "(1240, 5)"
      ]
     },
     "execution_count": 93,
     "metadata": {},
     "output_type": "execute_result"
    }
   ],
   "source": [
    "df_z_score = df[(df['zscore'] > 3) | (df['zscore'] < -3)]\n",
    "df_z_score.shape"
   ]
  },
  {
   "cell_type": "code",
   "execution_count": 94,
   "metadata": {},
   "outputs": [
    {
     "data": {
      "text/plain": [
       "(4320, 6)"
      ]
     },
     "execution_count": 94,
     "metadata": {},
     "output_type": "execute_result"
    }
   ],
   "source": [
    "mediana_cantidad_de_palabras=np.median(df['cantidad_de_palabras'])\n",
    "MAD=np.median(np.absolute(df['cantidad_de_palabras']-mediana_cantidad_de_palabras))\n",
    "\n",
    "df['zm_cantidad_de_palabras']=(df['cantidad_de_palabras'] - mediana_cantidad_de_palabras)*0.6745/MAD\n",
    "df[np.absolute(df['zm_cantidad_de_palabras'] > 3.5)].shape"
   ]
  },
  {
   "cell_type": "code",
   "execution_count": 95,
   "metadata": {},
   "outputs": [
    {
     "data": {
      "text/plain": [
       "401"
      ]
     },
     "execution_count": 95,
     "metadata": {},
     "output_type": "execute_result"
    }
   ],
   "source": [
    "df['review_es'].duplicated().sum()"
   ]
  },
  {
   "cell_type": "code",
   "execution_count": 100,
   "metadata": {},
   "outputs": [
    {
     "data": {
      "text/plain": [
       "es    47783\n",
       "en     1814\n",
       "fr        1\n",
       "id        1\n",
       "Name: idioma, dtype: int64"
      ]
     },
     "execution_count": 100,
     "metadata": {},
     "output_type": "execute_result"
    }
   ],
   "source": [
    "df['idioma'] = df['review_es'].apply(detect)\n",
    "df['idioma'].value_counts()"
   ]
  },
  {
   "cell_type": "code",
   "execution_count": 96,
   "metadata": {},
   "outputs": [
    {
     "name": "stdout",
     "output_type": "stream",
     "text": [
      "Numero de palabras unicas en el dataset pre preprocesamiento: 175853\n"
     ]
    }
   ],
   "source": [
    "vectorizer = TfidfVectorizer()\n",
    "\n",
    "X = vectorizer.fit_transform(df['review_es'])\n",
    "\n",
    "vocabulario = vectorizer.get_feature_names_out()\n",
    "\n",
    "numero_de_palabras_unicas = len(vocabulario)\n",
    "\n",
    "print(\"Numero de palabras unicas en el dataset pre preprocesamiento:\", numero_de_palabras_unicas)"
   ]
  },
  {
   "cell_type": "code",
   "execution_count": 97,
   "metadata": {},
   "outputs": [
    {
     "name": "stdout",
     "output_type": "stream",
     "text": [
      "Cantidad de palabras únicas en el conjunto de datos: 329607\n"
     ]
    }
   ],
   "source": [
    "import nltk\n",
    "from nltk.tokenize import word_tokenize\n",
    "from nltk.probability import FreqDist\n",
    "import pandas as pd\n",
    "def contar_palabras_unicas(texto):\n",
    "    palabras = word_tokenize(texto)\n",
    "    frecuencia_palabras = FreqDist(palabras)\n",
    "    palabras_unicas = len(frecuencia_palabras)\n",
    "    return palabras_unicas\n",
    "\n",
    "texto_completo = \" \".join(df['review_es'].astype(str))\n",
    "\n",
    "cantidad_palabras_unicas = contar_palabras_unicas(texto_completo)\n",
    "\n",
    "print(\"Cantidad de palabras únicas en el conjunto de datos:\", cantidad_palabras_unicas)"
   ]
  },
  {
   "cell_type": "markdown",
   "metadata": {},
   "source": [
    "## Preprocesamiento"
   ]
  },
  {
   "cell_type": "code",
   "execution_count": 98,
   "metadata": {},
   "outputs": [
    {
     "data": {
      "text/plain": [
       "(49599, 6)"
      ]
     },
     "execution_count": 98,
     "metadata": {},
     "output_type": "execute_result"
    }
   ],
   "source": [
    "df = df.drop_duplicates(subset=['review_es'])\n",
    "df.shape"
   ]
  },
  {
   "cell_type": "code",
   "execution_count": 101,
   "metadata": {},
   "outputs": [
    {
     "data": {
      "text/plain": [
       "es    47783\n",
       "Name: idioma, dtype: int64"
      ]
     },
     "execution_count": 101,
     "metadata": {},
     "output_type": "execute_result"
    }
   ],
   "source": [
    "df = df[df['idioma'].isin(['es'])]\n",
    "df['idioma'].value_counts()"
   ]
  },
  {
   "cell_type": "markdown",
   "metadata": {},
   "source": [
    "Como pudimos ver anteriormente, a pesar que sean muy pocos vamos a convertirlos a texto"
   ]
  },
  {
   "cell_type": "code",
   "execution_count": 102,
   "metadata": {},
   "outputs": [
    {
     "name": "stderr",
     "output_type": "stream",
     "text": [
      "/var/folders/pm/lyty8ft16l3dvy_kdh07l4dc0000gn/T/ipykernel_79381/2887564833.py:1: SettingWithCopyWarning: \n",
      "A value is trying to be set on a copy of a slice from a DataFrame.\n",
      "Try using .loc[row_indexer,col_indexer] = value instead\n",
      "\n",
      "See the caveats in the documentation: https://pandas.pydata.org/pandas-docs/stable/user_guide/indexing.html#returning-a-view-versus-a-copy\n",
      "  df['review_es'] = df['review_es'].apply(demojize)\n"
     ]
    }
   ],
   "source": [
    "df['review_es'] = df['review_es'].apply(demojize)"
   ]
  },
  {
   "cell_type": "code",
   "execution_count": 103,
   "metadata": {},
   "outputs": [
    {
     "name": "stderr",
     "output_type": "stream",
     "text": [
      "/var/folders/pm/lyty8ft16l3dvy_kdh07l4dc0000gn/T/ipykernel_79381/3651782182.py:1: SettingWithCopyWarning: \n",
      "A value is trying to be set on a copy of a slice from a DataFrame.\n",
      "Try using .loc[row_indexer,col_indexer] = value instead\n",
      "\n",
      "See the caveats in the documentation: https://pandas.pydata.org/pandas-docs/stable/user_guide/indexing.html#returning-a-view-versus-a-copy\n",
      "  df['tiene_emoji'] = df['review_es'].apply(emoji_count)\n"
     ]
    },
    {
     "data": {
      "text/html": [
       "<div>\n",
       "<style scoped>\n",
       "    .dataframe tbody tr th:only-of-type {\n",
       "        vertical-align: middle;\n",
       "    }\n",
       "\n",
       "    .dataframe tbody tr th {\n",
       "        vertical-align: top;\n",
       "    }\n",
       "\n",
       "    .dataframe thead th {\n",
       "        text-align: right;\n",
       "    }\n",
       "</style>\n",
       "<table border=\"1\" class=\"dataframe\">\n",
       "  <thead>\n",
       "    <tr style=\"text-align: right;\">\n",
       "      <th></th>\n",
       "      <th>cantidad_emojis</th>\n",
       "      <th>cantidad_filas</th>\n",
       "    </tr>\n",
       "  </thead>\n",
       "  <tbody>\n",
       "    <tr>\n",
       "      <th>0</th>\n",
       "      <td>0</td>\n",
       "      <td>47783</td>\n",
       "    </tr>\n",
       "  </tbody>\n",
       "</table>\n",
       "</div>"
      ],
      "text/plain": [
       "   cantidad_emojis  cantidad_filas\n",
       "0                0           47783"
      ]
     },
     "execution_count": 103,
     "metadata": {},
     "output_type": "execute_result"
    }
   ],
   "source": [
    "df['tiene_emoji'] = df['review_es'].apply(emoji_count)\n",
    "cantidad_emojis = df['tiene_emoji'].value_counts().reset_index()\n",
    "cantidad_emojis.columns = ['cantidad_emojis', 'cantidad_filas']\n",
    "cantidad_emojis"
   ]
  },
  {
   "cell_type": "markdown",
   "metadata": {},
   "source": [
    "Teniendo los emojis convertidos a texto podemos continuar trabajando con el dataset"
   ]
  },
  {
   "cell_type": "code",
   "execution_count": 104,
   "metadata": {},
   "outputs": [
    {
     "name": "stderr",
     "output_type": "stream",
     "text": [
      "/var/folders/pm/lyty8ft16l3dvy_kdh07l4dc0000gn/T/ipykernel_79381/3954416950.py:1: SettingWithCopyWarning: \n",
      "A value is trying to be set on a copy of a slice from a DataFrame\n",
      "\n",
      "See the caveats in the documentation: https://pandas.pydata.org/pandas-docs/stable/user_guide/indexing.html#returning-a-view-versus-a-copy\n",
      "  df.drop(['tiene_emoji'], axis=1, inplace=True)\n"
     ]
    }
   ],
   "source": [
    "df.drop(['tiene_emoji'], axis=1, inplace=True)"
   ]
  },
  {
   "cell_type": "markdown",
   "metadata": {},
   "source": [
    "A continuacion, vamos a eliminar todas las reviews que tengan el z-score modificado mayor a 3.5 en modulo. Decidimos tener mas en cuenta este metodo ya que creemos que es mas efectivo que el z-score normal debido a que los outliers distorsionan notablemente esta metrica."
   ]
  },
  {
   "cell_type": "code",
   "execution_count": 105,
   "metadata": {},
   "outputs": [
    {
     "data": {
      "text/plain": [
       "(44143, 7)"
      ]
     },
     "execution_count": 105,
     "metadata": {},
     "output_type": "execute_result"
    }
   ],
   "source": [
    "df = df[np.absolute(df['zm_cantidad_de_palabras'] <= 3.5)]\n",
    "df.shape"
   ]
  },
  {
   "cell_type": "markdown",
   "metadata": {},
   "source": [
    "Con esto, eliminamos casi un 10% de samples del dataset original, entre los duplicados, las reviews que no estaban en castellano y las que tenian un z-score modificado mayor a 3.5 en modulo."
   ]
  },
  {
   "cell_type": "code",
   "execution_count": 14,
   "metadata": {},
   "outputs": [],
   "source": [
    "df_preprocesado = df.copy()\n",
    "#si ya estan descargados los paquetes no es necesario volver a hacerlo.\n",
    "#nltk.download('stopwords')\n",
    "#nltk.download('punkt')\n",
    "\n",
    "stop_words = set(stopwords.words('spanish'))\n",
    "\n",
    "def preprocess_text(text):\n",
    "    text = text.lower()\n",
    "    text = re.sub(r'[^a-zA-Zñáéíóúü\\s]', '', text)\n",
    "    tokens = nltk.word_tokenize(text)\n",
    "    tokens = [word for word in tokens if word not in stop_words]\n",
    "    stemmer = nltk.stem.SnowballStemmer('spanish')\n",
    "    stems = [stemmer.stem(token) for token in tokens]\n",
    "    preprocessed_text = ' '.join(stems)\n",
    "    return preprocessed_text\n",
    "\n",
    "df_preprocesado['review_es'] = df_preprocesado['review_es'].apply(preprocess_text)"
   ]
  },
  {
   "cell_type": "code",
   "execution_count": 156,
   "metadata": {},
   "outputs": [],
   "source": [
    "from nltk.tokenize.toktok import ToktokTokenizer\n",
    "df_preprocesado = df.copy()\n",
    "\n",
    "tokenizer = ToktokTokenizer() \n",
    "STOPWORDS = set(stopwords.words(\"spanish\"))\n",
    "stemmer = nltk.stem.SnowballStemmer(\"spanish\")\n",
    "\n",
    "def limpiar_texto(texto):\n",
    "    # Eliminamos los caracteres especiales\n",
    "    texto = re.sub(r'\\W', ' ', str(texto))\n",
    "    # Eliminado las palabras que tengo un solo caracter\n",
    "    texto = re.sub(r'\\s+[a-zA-Z]\\s+', ' ', texto)\n",
    "    # Sustituir los espacios en blanco en uno solo\n",
    "    texto = re.sub(r'\\s+', ' ', texto, flags=re.I)\n",
    "    # Convertimos textos a minusculas\n",
    "    #texto = texto.lower()\n",
    "    return texto\n",
    "\n",
    "def filtrar_stopword_digitos(tokens):\n",
    "    return [token for token in tokens if token not in STOPWORDS \n",
    "            and not token.isdigit()]\n",
    "\n",
    "def stem_palabras(tokens):\n",
    "    return [stemmer.stem(token) for token in tokens]\n",
    "\n",
    "def tokenize(texto):\n",
    "    text_cleaned = limpiar_texto(texto)\n",
    "    tokens = [word for word in tokenizer.tokenize(text_cleaned) if len(word) > 1]\n",
    "    tokens = filtrar_stopword_digitos(tokens)\n",
    "    stems = stem_palabras(tokens)\n",
    "    stems = ' '.join(stems)\n",
    "    return stems"
   ]
  },
  {
   "cell_type": "code",
   "execution_count": 157,
   "metadata": {},
   "outputs": [],
   "source": [
    "df_preprocesado['review_es'] = df_preprocesado['review_es'].apply(tokenize)"
   ]
  },
  {
   "cell_type": "code",
   "execution_count": null,
   "metadata": {},
   "outputs": [
    {
     "data": {
      "text/html": [
       "<div>\n",
       "<style scoped>\n",
       "    .dataframe tbody tr th:only-of-type {\n",
       "        vertical-align: middle;\n",
       "    }\n",
       "\n",
       "    .dataframe tbody tr th {\n",
       "        vertical-align: top;\n",
       "    }\n",
       "\n",
       "    .dataframe thead th {\n",
       "        text-align: right;\n",
       "    }\n",
       "</style>\n",
       "<table border=\"1\" class=\"dataframe\">\n",
       "  <thead>\n",
       "    <tr style=\"text-align: right;\">\n",
       "      <th></th>\n",
       "      <th>ID</th>\n",
       "      <th>review_es</th>\n",
       "      <th>sentimiento</th>\n",
       "      <th>cantidad_de_palabras</th>\n",
       "      <th>zscore</th>\n",
       "      <th>zm_cantidad_de_palabras</th>\n",
       "      <th>idioma</th>\n",
       "    </tr>\n",
       "  </thead>\n",
       "  <tbody>\n",
       "    <tr>\n",
       "      <th>0</th>\n",
       "      <td>0</td>\n",
       "      <td>uno critic mencion despues ver sol oz episodi ...</td>\n",
       "      <td>NaN</td>\n",
       "      <td>345</td>\n",
       "      <td>0.600271</td>\n",
       "      <td>1.823258</td>\n",
       "      <td>es</td>\n",
       "    </tr>\n",
       "    <tr>\n",
       "      <th>1</th>\n",
       "      <td>1</td>\n",
       "      <td>una pequeñ pequeñ produccion la tecnic filmaci...</td>\n",
       "      <td>NaN</td>\n",
       "      <td>161</td>\n",
       "      <td>-0.424631</td>\n",
       "      <td>-0.115930</td>\n",
       "      <td>es</td>\n",
       "    </tr>\n",
       "    <tr>\n",
       "      <th>2</th>\n",
       "      <td>2</td>\n",
       "      <td>pens maner maravill pas tiemp fin seman veran ...</td>\n",
       "      <td>NaN</td>\n",
       "      <td>173</td>\n",
       "      <td>-0.357789</td>\n",
       "      <td>0.010539</td>\n",
       "      <td>es</td>\n",
       "    </tr>\n",
       "    <tr>\n",
       "      <th>3</th>\n",
       "      <td>3</td>\n",
       "      <td>basic famili niñ pequeñ jak piens zombi armari...</td>\n",
       "      <td>NaN</td>\n",
       "      <td>137</td>\n",
       "      <td>-0.558314</td>\n",
       "      <td>-0.368867</td>\n",
       "      <td>es</td>\n",
       "    </tr>\n",
       "    <tr>\n",
       "      <th>4</th>\n",
       "      <td>4</td>\n",
       "      <td>el amor tiemp pett mattei pelicul visual impre...</td>\n",
       "      <td>NaN</td>\n",
       "      <td>237</td>\n",
       "      <td>-0.001302</td>\n",
       "      <td>0.685039</td>\n",
       "      <td>es</td>\n",
       "    </tr>\n",
       "    <tr>\n",
       "      <th>...</th>\n",
       "      <td>...</td>\n",
       "      <td>...</td>\n",
       "      <td>...</td>\n",
       "      <td>...</td>\n",
       "      <td>...</td>\n",
       "      <td>...</td>\n",
       "      <td>...</td>\n",
       "    </tr>\n",
       "    <tr>\n",
       "      <th>49995</th>\n",
       "      <td>49995</td>\n",
       "      <td>pens pelicul hiz buen trabaj derech no tan cre...</td>\n",
       "      <td>NaN</td>\n",
       "      <td>170</td>\n",
       "      <td>-0.374500</td>\n",
       "      <td>-0.021078</td>\n",
       "      <td>es</td>\n",
       "    </tr>\n",
       "    <tr>\n",
       "      <th>49996</th>\n",
       "      <td>49996</td>\n",
       "      <td>mal parcel mal dialog mal actuacion direccion ...</td>\n",
       "      <td>NaN</td>\n",
       "      <td>105</td>\n",
       "      <td>-0.736558</td>\n",
       "      <td>-0.706117</td>\n",
       "      <td>es</td>\n",
       "    </tr>\n",
       "    <tr>\n",
       "      <th>49997</th>\n",
       "      <td>49997</td>\n",
       "      <td>soy catol enseñ escuel primari parroquial monj...</td>\n",
       "      <td>NaN</td>\n",
       "      <td>246</td>\n",
       "      <td>0.048829</td>\n",
       "      <td>0.779891</td>\n",
       "      <td>es</td>\n",
       "    </tr>\n",
       "    <tr>\n",
       "      <th>49998</th>\n",
       "      <td>49998</td>\n",
       "      <td>voy ten desacuerd comentari anterior lad malti...</td>\n",
       "      <td>NaN</td>\n",
       "      <td>232</td>\n",
       "      <td>-0.029152</td>\n",
       "      <td>0.632344</td>\n",
       "      <td>es</td>\n",
       "    </tr>\n",
       "    <tr>\n",
       "      <th>49999</th>\n",
       "      <td>49999</td>\n",
       "      <td>nadi esper pelicul star trek altas artes fanat...</td>\n",
       "      <td>NaN</td>\n",
       "      <td>122</td>\n",
       "      <td>-0.641866</td>\n",
       "      <td>-0.526953</td>\n",
       "      <td>es</td>\n",
       "    </tr>\n",
       "  </tbody>\n",
       "</table>\n",
       "<p>44143 rows × 7 columns</p>\n",
       "</div>"
      ],
      "text/plain": [
       "          ID                                          review_es  sentimiento  \\\n",
       "0          0  uno critic mencion despues ver sol oz episodi ...          NaN   \n",
       "1          1  una pequeñ pequeñ produccion la tecnic filmaci...          NaN   \n",
       "2          2  pens maner maravill pas tiemp fin seman veran ...          NaN   \n",
       "3          3  basic famili niñ pequeñ jak piens zombi armari...          NaN   \n",
       "4          4  el amor tiemp pett mattei pelicul visual impre...          NaN   \n",
       "...      ...                                                ...          ...   \n",
       "49995  49995  pens pelicul hiz buen trabaj derech no tan cre...          NaN   \n",
       "49996  49996  mal parcel mal dialog mal actuacion direccion ...          NaN   \n",
       "49997  49997  soy catol enseñ escuel primari parroquial monj...          NaN   \n",
       "49998  49998  voy ten desacuerd comentari anterior lad malti...          NaN   \n",
       "49999  49999  nadi esper pelicul star trek altas artes fanat...          NaN   \n",
       "\n",
       "       cantidad_de_palabras    zscore  zm_cantidad_de_palabras idioma  \n",
       "0                       345  0.600271                 1.823258     es  \n",
       "1                       161 -0.424631                -0.115930     es  \n",
       "2                       173 -0.357789                 0.010539     es  \n",
       "3                       137 -0.558314                -0.368867     es  \n",
       "4                       237 -0.001302                 0.685039     es  \n",
       "...                     ...       ...                      ...    ...  \n",
       "49995                   170 -0.374500                -0.021078     es  \n",
       "49996                   105 -0.736558                -0.706117     es  \n",
       "49997                   246  0.048829                 0.779891     es  \n",
       "49998                   232 -0.029152                 0.632344     es  \n",
       "49999                   122 -0.641866                -0.526953     es  \n",
       "\n",
       "[44143 rows x 7 columns]"
      ]
     },
     "execution_count": 155,
     "metadata": {},
     "output_type": "execute_result"
    }
   ],
   "source": [
    "df_preprocesado['sentimiento'] = df_preprocesado['sentimiento'].map({'negativo': 0, 'positivo': 1, 0: 0, 1: 1})\n",
    "X_train, X_test, y_train, y_test = train_test_split(df_preprocesado['review_es'], df_preprocesado['sentimiento'], test_size=0.2, random_state=42)\n",
    "df_preprocesado"
   ]
  },
  {
   "cell_type": "markdown",
   "metadata": {},
   "source": [
    "Con esto podemos observar brevemente como quedan las reviews luego de este preprocesamiento."
   ]
  },
  {
   "cell_type": "code",
   "execution_count": 109,
   "metadata": {},
   "outputs": [
    {
     "data": {
      "text/html": [
       "<div>\n",
       "<style scoped>\n",
       "    .dataframe tbody tr th:only-of-type {\n",
       "        vertical-align: middle;\n",
       "    }\n",
       "\n",
       "    .dataframe tbody tr th {\n",
       "        vertical-align: top;\n",
       "    }\n",
       "\n",
       "    .dataframe thead th {\n",
       "        text-align: right;\n",
       "    }\n",
       "</style>\n",
       "<table border=\"1\" class=\"dataframe\">\n",
       "  <thead>\n",
       "    <tr style=\"text-align: right;\">\n",
       "      <th></th>\n",
       "      <th>ID</th>\n",
       "      <th>review_es</th>\n",
       "      <th>sentimiento</th>\n",
       "      <th>cantidad_de_palabras</th>\n",
       "      <th>zscore</th>\n",
       "      <th>zm_cantidad_de_palabras</th>\n",
       "      <th>idioma</th>\n",
       "    </tr>\n",
       "  </thead>\n",
       "  <tbody>\n",
       "    <tr>\n",
       "      <th>0</th>\n",
       "      <td>0</td>\n",
       "      <td>Uno de los otros críticos ha mencionado que de...</td>\n",
       "      <td>1</td>\n",
       "      <td>345</td>\n",
       "      <td>0.600271</td>\n",
       "      <td>1.823258</td>\n",
       "      <td>es</td>\n",
       "    </tr>\n",
       "    <tr>\n",
       "      <th>1</th>\n",
       "      <td>1</td>\n",
       "      <td>Una pequeña pequeña producción.La técnica de f...</td>\n",
       "      <td>1</td>\n",
       "      <td>161</td>\n",
       "      <td>-0.424631</td>\n",
       "      <td>-0.115930</td>\n",
       "      <td>es</td>\n",
       "    </tr>\n",
       "    <tr>\n",
       "      <th>2</th>\n",
       "      <td>2</td>\n",
       "      <td>Pensé que esta era una manera maravillosa de p...</td>\n",
       "      <td>1</td>\n",
       "      <td>173</td>\n",
       "      <td>-0.357789</td>\n",
       "      <td>0.010539</td>\n",
       "      <td>es</td>\n",
       "    </tr>\n",
       "    <tr>\n",
       "      <th>3</th>\n",
       "      <td>3</td>\n",
       "      <td>Básicamente, hay una familia donde un niño peq...</td>\n",
       "      <td>0</td>\n",
       "      <td>137</td>\n",
       "      <td>-0.558314</td>\n",
       "      <td>-0.368867</td>\n",
       "      <td>es</td>\n",
       "    </tr>\n",
       "    <tr>\n",
       "      <th>4</th>\n",
       "      <td>4</td>\n",
       "      <td>El \"amor en el tiempo\" de Petter Mattei es una...</td>\n",
       "      <td>1</td>\n",
       "      <td>237</td>\n",
       "      <td>-0.001302</td>\n",
       "      <td>0.685039</td>\n",
       "      <td>es</td>\n",
       "    </tr>\n",
       "    <tr>\n",
       "      <th>5</th>\n",
       "      <td>5</td>\n",
       "      <td>Probablemente mi película favorita de todos lo...</td>\n",
       "      <td>1</td>\n",
       "      <td>123</td>\n",
       "      <td>-0.636295</td>\n",
       "      <td>-0.516414</td>\n",
       "      <td>es</td>\n",
       "    </tr>\n",
       "    <tr>\n",
       "      <th>6</th>\n",
       "      <td>6</td>\n",
       "      <td>Seguro que me gustaría ver una resurrección de...</td>\n",
       "      <td>1</td>\n",
       "      <td>157</td>\n",
       "      <td>-0.446911</td>\n",
       "      <td>-0.158086</td>\n",
       "      <td>es</td>\n",
       "    </tr>\n",
       "    <tr>\n",
       "      <th>7</th>\n",
       "      <td>7</td>\n",
       "      <td>Este espectáculo fue una idea increíble, fresc...</td>\n",
       "      <td>0</td>\n",
       "      <td>168</td>\n",
       "      <td>-0.385640</td>\n",
       "      <td>-0.042156</td>\n",
       "      <td>es</td>\n",
       "    </tr>\n",
       "    <tr>\n",
       "      <th>8</th>\n",
       "      <td>8</td>\n",
       "      <td>Alentados por los comentarios positivos sobre ...</td>\n",
       "      <td>0</td>\n",
       "      <td>120</td>\n",
       "      <td>-0.653006</td>\n",
       "      <td>-0.548031</td>\n",
       "      <td>es</td>\n",
       "    </tr>\n",
       "    <tr>\n",
       "      <th>9</th>\n",
       "      <td>9</td>\n",
       "      <td>Si te gusta la risa original desgarradora, te ...</td>\n",
       "      <td>1</td>\n",
       "      <td>31</td>\n",
       "      <td>-1.148747</td>\n",
       "      <td>-1.486008</td>\n",
       "      <td>es</td>\n",
       "    </tr>\n",
       "  </tbody>\n",
       "</table>\n",
       "</div>"
      ],
      "text/plain": [
       "   ID                                          review_es  sentimiento  \\\n",
       "0   0  Uno de los otros críticos ha mencionado que de...            1   \n",
       "1   1  Una pequeña pequeña producción.La técnica de f...            1   \n",
       "2   2  Pensé que esta era una manera maravillosa de p...            1   \n",
       "3   3  Básicamente, hay una familia donde un niño peq...            0   \n",
       "4   4  El \"amor en el tiempo\" de Petter Mattei es una...            1   \n",
       "5   5  Probablemente mi película favorita de todos lo...            1   \n",
       "6   6  Seguro que me gustaría ver una resurrección de...            1   \n",
       "7   7  Este espectáculo fue una idea increíble, fresc...            0   \n",
       "8   8  Alentados por los comentarios positivos sobre ...            0   \n",
       "9   9  Si te gusta la risa original desgarradora, te ...            1   \n",
       "\n",
       "   cantidad_de_palabras    zscore  zm_cantidad_de_palabras idioma  \n",
       "0                   345  0.600271                 1.823258     es  \n",
       "1                   161 -0.424631                -0.115930     es  \n",
       "2                   173 -0.357789                 0.010539     es  \n",
       "3                   137 -0.558314                -0.368867     es  \n",
       "4                   237 -0.001302                 0.685039     es  \n",
       "5                   123 -0.636295                -0.516414     es  \n",
       "6                   157 -0.446911                -0.158086     es  \n",
       "7                   168 -0.385640                -0.042156     es  \n",
       "8                   120 -0.653006                -0.548031     es  \n",
       "9                    31 -1.148747                -1.486008     es  "
      ]
     },
     "execution_count": 109,
     "metadata": {},
     "output_type": "execute_result"
    }
   ],
   "source": [
    "df_preprocesado.head(10)"
   ]
  },
  {
   "cell_type": "code",
   "execution_count": 110,
   "metadata": {},
   "outputs": [
    {
     "name": "stdout",
     "output_type": "stream",
     "text": [
      "Numero de palabras unicas en el dataset post preprocesamiento: 134518\n"
     ]
    }
   ],
   "source": [
    "vectorizer = TfidfVectorizer()\n",
    "\n",
    "X = vectorizer.fit_transform(df_preprocesado['review_es'])\n",
    "\n",
    "vocabulario = vectorizer.get_feature_names_out()\n",
    "\n",
    "numero_de_palabras_unicas = len(vocabulario)\n",
    "\n",
    "print(\"Numero de palabras unicas en el dataset post preprocesamiento:\", numero_de_palabras_unicas)"
   ]
  },
  {
   "cell_type": "code",
   "execution_count": 111,
   "metadata": {},
   "outputs": [
    {
     "name": "stdout",
     "output_type": "stream",
     "text": [
      "Cantidad de palabras únicas en el conjunto de datos: 265670\n"
     ]
    }
   ],
   "source": [
    "texto_completo = \" \".join(df_preprocesado['review_es'].astype(str))\n",
    "\n",
    "cantidad_palabras_unicas = contar_palabras_unicas(texto_completo)\n",
    "\n",
    "print(\"Cantidad de palabras únicas en el conjunto de datos:\", cantidad_palabras_unicas)"
   ]
  },
  {
   "cell_type": "code",
   "execution_count": 115,
   "metadata": {},
   "outputs": [],
   "source": [
    "df_preprocesado_copy = df_preprocesado.copy()\n",
    "df_preprocesado_copy['sentimiento'] = df_preprocesado_copy['sentimiento'].map({'negativo': 0, 'positivo': 1})\n",
    "x_train, x_test, y_train, y_test = train_test_split(\n",
    "                                          df_preprocesado['review_es'], df_preprocesado['sentimiento'], \n",
    "                                          test_size=0.2, random_state=42)"
   ]
  },
  {
   "cell_type": "markdown",
   "metadata": {},
   "source": [
    "### Modelos de Bayes Naïve"
   ]
  },
  {
   "cell_type": "markdown",
   "metadata": {},
   "source": [
    "##### Vamos a probar en primer lugar con un count vectorizer y luego con un tfidf vectorizer par ver con cual obtenemos merjores resultados"
   ]
  },
  {
   "cell_type": "code",
   "execution_count": null,
   "metadata": {},
   "outputs": [],
   "source": [
    "modelo_count = make_pipeline(CountVectorizer(), MultinomialNB())\n",
    "modelo_tfidf = Pipeline([('tvec', TfidfVectorizer()), ('mnb',MultinomialNB())])"
   ]
  },
  {
   "cell_type": "markdown",
   "metadata": {},
   "source": [
    "##### Count vectorizer"
   ]
  },
  {
   "cell_type": "code",
   "execution_count": null,
   "metadata": {},
   "outputs": [],
   "source": [
    "modelo_count.fit(x_train, y_train)\n",
    "\n",
    "prediccion = modelo_count.predict(x_test)\n",
    "\n",
    "# mostrar_scores(y_test, prediccion)"
   ]
  },
  {
   "cell_type": "code",
   "execution_count": null,
   "metadata": {},
   "outputs": [],
   "source": [
    "modelo_tfidf.fit(x_train, y_train)\n",
    "\n",
    "prediccion = modelo_tfidf.predict(x_test)\n",
    "\n",
    "# mostrar_scores(y_test, prediccion)"
   ]
  },
  {
   "cell_type": "code",
   "execution_count": 15,
   "metadata": {},
   "outputs": [
    {
     "name": "stdout",
     "output_type": "stream",
     "text": [
      "Accuracy: 0.8244623655913978\n",
      "Recall: 0.8371905274488698\n",
      "Precision: 0.8161070304302204\n",
      "f1 score: 0.8265143464399575\n"
     ]
    }
   ],
   "source": [
    "df_preprocesado_copy = df_preprocesado.copy()\n",
    "df_preprocesado_copy['sentimiento'] = df_preprocesado_copy['sentimiento'].map({'negativo': 0, 'positivo': 1})\n",
    "X_train, X_test, y_train, y_test = train_test_split(df_preprocesado_copy['review_es'], df_preprocesado_copy['sentimiento'], test_size=0.3, random_state=42)\n",
    "\n",
    "\n",
    "vectorizer = TfidfVectorizer(max_features=9000)\n",
    "modelo_tfidf = make_pipeline(vectorizer, MultinomialNB(alpha=0.5))\n",
    "modelo_tfidf.fit(X_train, y_train)\n",
    "\n",
    "prediccion = modelo_tfidf.predict(X_test)\n",
    "\n",
    "mostrar_scores(y_test, prediccion)"
   ]
  },
  {
   "cell_type": "code",
   "execution_count": 16,
   "metadata": {},
   "outputs": [
    {
     "name": "stdout",
     "output_type": "stream",
     "text": [
      "Accuracy: 0.8508597597857082\n",
      "Recall: 0.8575684656812192\n",
      "Precision: 0.8475651189127973\n",
      "f1 score: 0.8525374494503617\n"
     ]
    }
   ],
   "source": [
    "prediccion_train = modelo_tfidf.predict(X_train)\n",
    "\n",
    "mostrar_scores(y_train, prediccion_train)"
   ]
  },
  {
   "cell_type": "code",
   "execution_count": null,
   "metadata": {},
   "outputs": [
    {
     "name": "stdout",
     "output_type": "stream",
     "text": [
      "Accuracy: 0.7362231182795699\n",
      "Recall: 0.6990043057050592\n",
      "Precision: 0.7547580996658434\n",
      "f1 score: 0.7258120852252882\n"
     ]
    }
   ],
   "source": [
    "df_preprocesado_copy = df_preprocesado.copy()\n",
    "df_preprocesado_copy['sentimiento'] = df_preprocesado_copy['sentimiento'].map({'negativo': 0, 'positivo': 1})\n",
    "X_train, X_test, y_train, y_test = train_test_split(df_preprocesado_copy['review_es'], df_preprocesado_copy['sentimiento'], test_size=0.3, random_state=42)\n",
    "\n",
    "\n",
    "vectorizer = TfidfVectorizer(max_features=7000)\n",
    "modelo_gauss = make_pipeline(vectorizer,   DenseTransformer() ,GaussianNB())\n",
    "modelo_gauss.fit(X_train, y_train)\n",
    "\n",
    "prediccion = modelo_gauss.predict(X_test)\n",
    "\n",
    "mostrar_scores(y_test, prediccion)"
   ]
  },
  {
   "cell_type": "code",
   "execution_count": null,
   "metadata": {},
   "outputs": [
    {
     "name": "stdout",
     "output_type": "stream",
     "text": [
      "Accuracy: 0.8185714285714286\n",
      "Recall: 0.8056401125725117\n",
      "Precision: 0.8254575413405519\n",
      "f1 score: 0.8154284385536564\n"
     ]
    }
   ],
   "source": [
    "prediccion_train = modelo_gauss.predict(X_train)\n",
    "\n",
    "mostrar_scores(y_train, prediccion_train)"
   ]
  },
  {
   "cell_type": "code",
   "execution_count": 85,
   "metadata": {},
   "outputs": [
    {
     "name": "stdout",
     "output_type": "stream",
     "text": [
      "Accuracy: 0.8344086021505376\n",
      "Recall: 0.8223896663078579\n",
      "Precision: 0.8423373759647188\n",
      "f1 score: 0.8322440087145969\n"
     ]
    }
   ],
   "source": [
    "df_preprocesado_copy = df_preprocesado.copy()\n",
    "df_preprocesado_copy['sentimiento'] = df_preprocesado_copy['sentimiento'].map({'negativo': 0, 'positivo': 1})\n",
    "X_train, X_test, y_train, y_test = train_test_split(df_preprocesado_copy['review_es'], df_preprocesado_copy['sentimiento'], test_size=0.3, random_state=42)\n",
    "\n",
    "\n",
    "vectorizer = TfidfVectorizer(max_features=14700)\n",
    "modelo_bernoulli = make_pipeline(vectorizer, BernoulliNB(\n",
    "))\n",
    "modelo_bernoulli.fit(X_train, y_train)\n",
    "\n",
    "prediccion = modelo_bernoulli.predict(X_test)\n",
    "\n",
    "mostrar_scores(y_test, prediccion)"
   ]
  },
  {
   "cell_type": "code",
   "execution_count": 87,
   "metadata": {},
   "outputs": [
    {
     "name": "stdout",
     "output_type": "stream",
     "text": [
      "Accuracy: 0.854056856476281\n",
      "Recall: 0.8377449295290478\n",
      "Precision: 0.8674141306282257\n",
      "f1 score: 0.8523214129579435\n"
     ]
    }
   ],
   "source": [
    "prediccion_train = modelo_bernoulli.predict(X_train)\n",
    "\n",
    "mostrar_scores(y_train, prediccion_train)"
   ]
  },
  {
   "cell_type": "code",
   "execution_count": null,
   "metadata": {},
   "outputs": [],
   "source": [
    "df_test = pd.read_csv('test.csv', sep=',')\n",
    "df_test_procesado = df_test.copy()\n",
    "\n",
    "prediccion = modelo_tfidf.predict(df_test_procesado['review_es'].apply(preprocess_text))\n",
    "prediccion = np.where(prediccion == 0, 'negativo', 'positivo')\n",
    "\n",
    "df_entrega = df_test.copy()\n",
    "\n",
    "\n",
    "df_entrega['sentimiento'] = prediccion\n",
    "df_entrega.drop('review_es', axis=1, inplace=True)\n",
    "\n",
    "df_entrega.to_csv('entrega.csv', index=False)"
   ]
  },
  {
   "cell_type": "markdown",
   "metadata": {},
   "source": [
    "### Regresión Logística"
   ]
  },
  {
   "cell_type": "code",
   "execution_count": 149,
   "metadata": {},
   "outputs": [
    {
     "name": "stdout",
     "output_type": "stream",
     "text": [
      "Accuracy: 0.8739381583418281\n",
      "Recall: 0.8848904267589389\n",
      "Precision: 0.8620224719101124\n",
      "f1 score: 0.8733067729083667\n"
     ]
    }
   ],
   "source": [
    "modelo_regresion_logistica = Pipeline([('tfidf', TfidfVectorizer(max_features=5000)), ('lr', LogisticRegression(\n",
    "    penalty='l2',\n",
    "    C=0.3,\n",
    "    solver='liblinear',\n",
    "    max_iter=100, \n",
    "    l1_ratio=None, \n",
    "    tol=1e-4 \n",
    "))])\n",
    "modelo_regresion_logistica.fit(x_train, y_train)\n",
    "\n",
    "prediccion = modelo_regresion_logistica.predict(x_test)\n",
    "\n",
    "mostrar_scores(y_test, prediccion)"
   ]
  },
  {
   "cell_type": "code",
   "execution_count": 150,
   "metadata": {},
   "outputs": [
    {
     "name": "stdout",
     "output_type": "stream",
     "text": [
      "Accuracy: 0.8869570142153254\n",
      "Recall: 0.898302197490205\n",
      "Precision: 0.877864713389934\n",
      "f1 score: 0.8879658733722496\n"
     ]
    }
   ],
   "source": [
    "prediccion_train = modelo_regresion_logistica.predict(x_train)\n",
    "\n",
    "mostrar_scores(y_train, prediccion_train)"
   ]
  },
  {
   "cell_type": "code",
   "execution_count": 153,
   "metadata": {},
   "outputs": [
    {
     "ename": "KeyboardInterrupt",
     "evalue": "",
     "output_type": "error",
     "traceback": [
      "\u001b[0;31m---------------------------------------------------------------------------\u001b[0m",
      "\u001b[0;31mKeyboardInterrupt\u001b[0m                         Traceback (most recent call last)",
      "\u001b[1;32m/Users/juampi/Documents/uba/Cuarto Cuatrimestre/Organizacion de Datos/tp2/7506R_TP2_GRUPO23_ENTREGA.ipynb Cell 57\u001b[0m line \u001b[0;36m3\n\u001b[1;32m      <a href='vscode-notebook-cell:/Users/juampi/Documents/uba/Cuarto%20Cuatrimestre/Organizacion%20de%20Datos/tp2/7506R_TP2_GRUPO23_ENTREGA.ipynb#X46sZmlsZQ%3D%3D?line=0'>1</a>\u001b[0m df_test \u001b[39m=\u001b[39m pd\u001b[39m.\u001b[39mread_csv(\u001b[39m'\u001b[39m\u001b[39mtest.csv\u001b[39m\u001b[39m'\u001b[39m, sep\u001b[39m=\u001b[39m\u001b[39m'\u001b[39m\u001b[39m,\u001b[39m\u001b[39m'\u001b[39m)\n\u001b[1;32m      <a href='vscode-notebook-cell:/Users/juampi/Documents/uba/Cuarto%20Cuatrimestre/Organizacion%20de%20Datos/tp2/7506R_TP2_GRUPO23_ENTREGA.ipynb#X46sZmlsZQ%3D%3D?line=1'>2</a>\u001b[0m df_test_copia \u001b[39m=\u001b[39m df_test\u001b[39m.\u001b[39mcopy()\n\u001b[0;32m----> <a href='vscode-notebook-cell:/Users/juampi/Documents/uba/Cuarto%20Cuatrimestre/Organizacion%20de%20Datos/tp2/7506R_TP2_GRUPO23_ENTREGA.ipynb#X46sZmlsZQ%3D%3D?line=2'>3</a>\u001b[0m df_test_copia[\u001b[39m'\u001b[39m\u001b[39mreview_es\u001b[39m\u001b[39m'\u001b[39m] \u001b[39m=\u001b[39m df_test_copia[\u001b[39m'\u001b[39m\u001b[39mreview_es\u001b[39m\u001b[39m'\u001b[39m]\u001b[39m.\u001b[39mapply(tokenize)\n\u001b[1;32m      <a href='vscode-notebook-cell:/Users/juampi/Documents/uba/Cuarto%20Cuatrimestre/Organizacion%20de%20Datos/tp2/7506R_TP2_GRUPO23_ENTREGA.ipynb#X46sZmlsZQ%3D%3D?line=3'>4</a>\u001b[0m df_test_copia[\u001b[39m'\u001b[39m\u001b[39mreview_es\u001b[39m\u001b[39m'\u001b[39m] \u001b[39m=\u001b[39m df_test_copia[\u001b[39m'\u001b[39m\u001b[39mreview_es\u001b[39m\u001b[39m'\u001b[39m]\u001b[39m.\u001b[39mapply(demojize)\n\u001b[1;32m      <a href='vscode-notebook-cell:/Users/juampi/Documents/uba/Cuarto%20Cuatrimestre/Organizacion%20de%20Datos/tp2/7506R_TP2_GRUPO23_ENTREGA.ipynb#X46sZmlsZQ%3D%3D?line=5'>6</a>\u001b[0m prediccion \u001b[39m=\u001b[39m modelo_regresion_logistica\u001b[39m.\u001b[39mpredict(df_test_copia[\u001b[39m'\u001b[39m\u001b[39mreview_es\u001b[39m\u001b[39m'\u001b[39m])\n",
      "File \u001b[0;32m~/anaconda3/lib/python3.11/site-packages/pandas/core/series.py:4771\u001b[0m, in \u001b[0;36mSeries.apply\u001b[0;34m(self, func, convert_dtype, args, **kwargs)\u001b[0m\n\u001b[1;32m   4661\u001b[0m \u001b[39mdef\u001b[39;00m \u001b[39mapply\u001b[39m(\n\u001b[1;32m   4662\u001b[0m     \u001b[39mself\u001b[39m,\n\u001b[1;32m   4663\u001b[0m     func: AggFuncType,\n\u001b[0;32m   (...)\u001b[0m\n\u001b[1;32m   4666\u001b[0m     \u001b[39m*\u001b[39m\u001b[39m*\u001b[39mkwargs,\n\u001b[1;32m   4667\u001b[0m ) \u001b[39m-\u001b[39m\u001b[39m>\u001b[39m DataFrame \u001b[39m|\u001b[39m Series:\n\u001b[1;32m   4668\u001b[0m \u001b[39m    \u001b[39m\u001b[39m\"\"\"\u001b[39;00m\n\u001b[1;32m   4669\u001b[0m \u001b[39m    Invoke function on values of Series.\u001b[39;00m\n\u001b[1;32m   4670\u001b[0m \n\u001b[0;32m   (...)\u001b[0m\n\u001b[1;32m   4769\u001b[0m \u001b[39m    dtype: float64\u001b[39;00m\n\u001b[1;32m   4770\u001b[0m \u001b[39m    \"\"\"\u001b[39;00m\n\u001b[0;32m-> 4771\u001b[0m     \u001b[39mreturn\u001b[39;00m SeriesApply(\u001b[39mself\u001b[39m, func, convert_dtype, args, kwargs)\u001b[39m.\u001b[39mapply()\n",
      "File \u001b[0;32m~/anaconda3/lib/python3.11/site-packages/pandas/core/apply.py:1123\u001b[0m, in \u001b[0;36mSeriesApply.apply\u001b[0;34m(self)\u001b[0m\n\u001b[1;32m   1120\u001b[0m     \u001b[39mreturn\u001b[39;00m \u001b[39mself\u001b[39m\u001b[39m.\u001b[39mapply_str()\n\u001b[1;32m   1122\u001b[0m \u001b[39m# self.f is Callable\u001b[39;00m\n\u001b[0;32m-> 1123\u001b[0m \u001b[39mreturn\u001b[39;00m \u001b[39mself\u001b[39m\u001b[39m.\u001b[39mapply_standard()\n",
      "File \u001b[0;32m~/anaconda3/lib/python3.11/site-packages/pandas/core/apply.py:1174\u001b[0m, in \u001b[0;36mSeriesApply.apply_standard\u001b[0;34m(self)\u001b[0m\n\u001b[1;32m   1172\u001b[0m     \u001b[39melse\u001b[39;00m:\n\u001b[1;32m   1173\u001b[0m         values \u001b[39m=\u001b[39m obj\u001b[39m.\u001b[39mastype(\u001b[39mobject\u001b[39m)\u001b[39m.\u001b[39m_values\n\u001b[0;32m-> 1174\u001b[0m         mapped \u001b[39m=\u001b[39m lib\u001b[39m.\u001b[39mmap_infer(\n\u001b[1;32m   1175\u001b[0m             values,\n\u001b[1;32m   1176\u001b[0m             f,\n\u001b[1;32m   1177\u001b[0m             convert\u001b[39m=\u001b[39m\u001b[39mself\u001b[39m\u001b[39m.\u001b[39mconvert_dtype,\n\u001b[1;32m   1178\u001b[0m         )\n\u001b[1;32m   1180\u001b[0m \u001b[39mif\u001b[39;00m \u001b[39mlen\u001b[39m(mapped) \u001b[39mand\u001b[39;00m \u001b[39misinstance\u001b[39m(mapped[\u001b[39m0\u001b[39m], ABCSeries):\n\u001b[1;32m   1181\u001b[0m     \u001b[39m# GH#43986 Need to do list(mapped) in order to get treated as nested\u001b[39;00m\n\u001b[1;32m   1182\u001b[0m     \u001b[39m#  See also GH#25959 regarding EA support\u001b[39;00m\n\u001b[1;32m   1183\u001b[0m     \u001b[39mreturn\u001b[39;00m obj\u001b[39m.\u001b[39m_constructor_expanddim(\u001b[39mlist\u001b[39m(mapped), index\u001b[39m=\u001b[39mobj\u001b[39m.\u001b[39mindex)\n",
      "File \u001b[0;32m~/anaconda3/lib/python3.11/site-packages/pandas/_libs/lib.pyx:2924\u001b[0m, in \u001b[0;36mpandas._libs.lib.map_infer\u001b[0;34m()\u001b[0m\n",
      "\u001b[1;32m/Users/juampi/Documents/uba/Cuarto Cuatrimestre/Organizacion de Datos/tp2/7506R_TP2_GRUPO23_ENTREGA.ipynb Cell 57\u001b[0m line \u001b[0;36m3\n\u001b[1;32m     <a href='vscode-notebook-cell:/Users/juampi/Documents/uba/Cuarto%20Cuatrimestre/Organizacion%20de%20Datos/tp2/7506R_TP2_GRUPO23_ENTREGA.ipynb#X46sZmlsZQ%3D%3D?line=27'>28</a>\u001b[0m tokens \u001b[39m=\u001b[39m [word \u001b[39mfor\u001b[39;00m word \u001b[39min\u001b[39;00m tokenizer\u001b[39m.\u001b[39mtokenize(text_cleaned) \u001b[39mif\u001b[39;00m \u001b[39mlen\u001b[39m(word) \u001b[39m>\u001b[39m \u001b[39m1\u001b[39m]\n\u001b[1;32m     <a href='vscode-notebook-cell:/Users/juampi/Documents/uba/Cuarto%20Cuatrimestre/Organizacion%20de%20Datos/tp2/7506R_TP2_GRUPO23_ENTREGA.ipynb#X46sZmlsZQ%3D%3D?line=28'>29</a>\u001b[0m tokens \u001b[39m=\u001b[39m filtrar_stopword_digitos(tokens)\n\u001b[0;32m---> <a href='vscode-notebook-cell:/Users/juampi/Documents/uba/Cuarto%20Cuatrimestre/Organizacion%20de%20Datos/tp2/7506R_TP2_GRUPO23_ENTREGA.ipynb#X46sZmlsZQ%3D%3D?line=29'>30</a>\u001b[0m stems \u001b[39m=\u001b[39m stem_palabras(tokens)\n\u001b[1;32m     <a href='vscode-notebook-cell:/Users/juampi/Documents/uba/Cuarto%20Cuatrimestre/Organizacion%20de%20Datos/tp2/7506R_TP2_GRUPO23_ENTREGA.ipynb#X46sZmlsZQ%3D%3D?line=30'>31</a>\u001b[0m stems \u001b[39m=\u001b[39m \u001b[39m'\u001b[39m\u001b[39m \u001b[39m\u001b[39m'\u001b[39m\u001b[39m.\u001b[39mjoin(stems)\n\u001b[1;32m     <a href='vscode-notebook-cell:/Users/juampi/Documents/uba/Cuarto%20Cuatrimestre/Organizacion%20de%20Datos/tp2/7506R_TP2_GRUPO23_ENTREGA.ipynb#X46sZmlsZQ%3D%3D?line=31'>32</a>\u001b[0m \u001b[39mreturn\u001b[39;00m stems\n",
      "\u001b[1;32m/Users/juampi/Documents/uba/Cuarto Cuatrimestre/Organizacion de Datos/tp2/7506R_TP2_GRUPO23_ENTREGA.ipynb Cell 57\u001b[0m line \u001b[0;36m2\n\u001b[1;32m     <a href='vscode-notebook-cell:/Users/juampi/Documents/uba/Cuarto%20Cuatrimestre/Organizacion%20de%20Datos/tp2/7506R_TP2_GRUPO23_ENTREGA.ipynb#X46sZmlsZQ%3D%3D?line=22'>23</a>\u001b[0m \u001b[39mdef\u001b[39;00m \u001b[39mstem_palabras\u001b[39m(tokens):\n\u001b[0;32m---> <a href='vscode-notebook-cell:/Users/juampi/Documents/uba/Cuarto%20Cuatrimestre/Organizacion%20de%20Datos/tp2/7506R_TP2_GRUPO23_ENTREGA.ipynb#X46sZmlsZQ%3D%3D?line=23'>24</a>\u001b[0m     \u001b[39mreturn\u001b[39;00m [stemmer\u001b[39m.\u001b[39mstem(token) \u001b[39mfor\u001b[39;00m token \u001b[39min\u001b[39;00m tokens]\n",
      "\u001b[1;32m/Users/juampi/Documents/uba/Cuarto Cuatrimestre/Organizacion de Datos/tp2/7506R_TP2_GRUPO23_ENTREGA.ipynb Cell 57\u001b[0m line \u001b[0;36m2\n\u001b[1;32m     <a href='vscode-notebook-cell:/Users/juampi/Documents/uba/Cuarto%20Cuatrimestre/Organizacion%20de%20Datos/tp2/7506R_TP2_GRUPO23_ENTREGA.ipynb#X46sZmlsZQ%3D%3D?line=22'>23</a>\u001b[0m \u001b[39mdef\u001b[39;00m \u001b[39mstem_palabras\u001b[39m(tokens):\n\u001b[0;32m---> <a href='vscode-notebook-cell:/Users/juampi/Documents/uba/Cuarto%20Cuatrimestre/Organizacion%20de%20Datos/tp2/7506R_TP2_GRUPO23_ENTREGA.ipynb#X46sZmlsZQ%3D%3D?line=23'>24</a>\u001b[0m     \u001b[39mreturn\u001b[39;00m [stemmer\u001b[39m.\u001b[39mstem(token) \u001b[39mfor\u001b[39;00m token \u001b[39min\u001b[39;00m tokens]\n",
      "File \u001b[0;32m~/anaconda3/lib/python3.11/site-packages/nltk/stem/snowball.py:5714\u001b[0m, in \u001b[0;36mSpanishStemmer.stem\u001b[0;34m(self, word)\u001b[0m\n\u001b[1;32m   5712\u001b[0m \u001b[39m# STEP 2b: Other verb suffixes\u001b[39;00m\n\u001b[1;32m   5713\u001b[0m \u001b[39mfor\u001b[39;00m suffix \u001b[39min\u001b[39;00m \u001b[39mself\u001b[39m\u001b[39m.\u001b[39m__step2b_suffixes:\n\u001b[0;32m-> 5714\u001b[0m     \u001b[39mif\u001b[39;00m rv\u001b[39m.\u001b[39mendswith(suffix):\n\u001b[1;32m   5715\u001b[0m         word \u001b[39m=\u001b[39m word[: \u001b[39m-\u001b[39m\u001b[39mlen\u001b[39m(suffix)]\n\u001b[1;32m   5716\u001b[0m         rv \u001b[39m=\u001b[39m rv[: \u001b[39m-\u001b[39m\u001b[39mlen\u001b[39m(suffix)]\n",
      "\u001b[0;31mKeyboardInterrupt\u001b[0m: "
     ]
    }
   ],
   "source": [
    "df_test = pd.read_csv('test.csv', sep=',')\n",
    "df_test_copia = df_test.copy()\n",
    "df_test_copia['review_es'] = df_test_copia['review_es'].apply(tokenize)\n",
    "df_test_copia['review_es'] = df_test_copia['review_es'].apply(demojize)\n",
    "\n",
    "prediccion = modelo_regresion_logistica.predict(df_test_copia['review_es'])\n",
    "prediccion = np.where(prediccion == 0, 'negativo', 'positivo')\n",
    "\n",
    "df_entrega = df_test.copy()\n",
    "\n",
    "df_entrega['sentimiento'] = prediccion\n",
    "df_entrega.drop('review_es', axis=1, inplace=True)\n",
    "\n",
    "df_entrega.to_csv('lr_preproceso_demoji.csv', index=False)"
   ]
  },
  {
   "cell_type": "markdown",
   "metadata": {},
   "source": [
    "### XGBoost"
   ]
  },
  {
   "cell_type": "code",
   "execution_count": 25,
   "metadata": {},
   "outputs": [
    {
     "ename": "KeyboardInterrupt",
     "evalue": "",
     "output_type": "error",
     "traceback": [
      "\u001b[0;31m---------------------------------------------------------------------------\u001b[0m",
      "\u001b[0;31mKeyboardInterrupt\u001b[0m                         Traceback (most recent call last)",
      "\u001b[1;32m/Users/juampi/Documents/uba/Cuarto Cuatrimestre/Organizacion de Datos/tp2/7506R_TP2_GRUPO23_ENTREGA.ipynb Cell 37\u001b[0m line \u001b[0;36m1\n\u001b[1;32m      <a href='vscode-notebook-cell:/Users/juampi/Documents/uba/Cuarto%20Cuatrimestre/Organizacion%20de%20Datos/tp2/7506R_TP2_GRUPO23_ENTREGA.ipynb#X51sZmlsZQ%3D%3D?line=5'>6</a>\u001b[0m X_train, X_test, y_train, y_test \u001b[39m=\u001b[39m train_test_split(X, df_preprocesado_copy[\u001b[39m'\u001b[39m\u001b[39msentimiento\u001b[39m\u001b[39m'\u001b[39m], test_size\u001b[39m=\u001b[39m\u001b[39m0.3\u001b[39m, random_state\u001b[39m=\u001b[39m\u001b[39m42\u001b[39m)\n\u001b[1;32m      <a href='vscode-notebook-cell:/Users/juampi/Documents/uba/Cuarto%20Cuatrimestre/Organizacion%20de%20Datos/tp2/7506R_TP2_GRUPO23_ENTREGA.ipynb#X51sZmlsZQ%3D%3D?line=7'>8</a>\u001b[0m modelo_xg_boost \u001b[39m=\u001b[39m XGBClassifier(\n\u001b[1;32m      <a href='vscode-notebook-cell:/Users/juampi/Documents/uba/Cuarto%20Cuatrimestre/Organizacion%20de%20Datos/tp2/7506R_TP2_GRUPO23_ENTREGA.ipynb#X51sZmlsZQ%3D%3D?line=8'>9</a>\u001b[0m     \u001b[39m# learning_rate=0.001,\u001b[39;00m\n\u001b[1;32m     <a href='vscode-notebook-cell:/Users/juampi/Documents/uba/Cuarto%20Cuatrimestre/Organizacion%20de%20Datos/tp2/7506R_TP2_GRUPO23_ENTREGA.ipynb#X51sZmlsZQ%3D%3D?line=9'>10</a>\u001b[0m     n_estimators\u001b[39m=\u001b[39m\u001b[39m500\u001b[39m,\n\u001b[0;32m   (...)\u001b[0m\n\u001b[1;32m     <a href='vscode-notebook-cell:/Users/juampi/Documents/uba/Cuarto%20Cuatrimestre/Organizacion%20de%20Datos/tp2/7506R_TP2_GRUPO23_ENTREGA.ipynb#X51sZmlsZQ%3D%3D?line=16'>17</a>\u001b[0m     random_state\u001b[39m=\u001b[39m\u001b[39m42\u001b[39m\n\u001b[1;32m     <a href='vscode-notebook-cell:/Users/juampi/Documents/uba/Cuarto%20Cuatrimestre/Organizacion%20de%20Datos/tp2/7506R_TP2_GRUPO23_ENTREGA.ipynb#X51sZmlsZQ%3D%3D?line=17'>18</a>\u001b[0m )\n\u001b[0;32m---> <a href='vscode-notebook-cell:/Users/juampi/Documents/uba/Cuarto%20Cuatrimestre/Organizacion%20de%20Datos/tp2/7506R_TP2_GRUPO23_ENTREGA.ipynb#X51sZmlsZQ%3D%3D?line=18'>19</a>\u001b[0m modelo_xg_boost\u001b[39m.\u001b[39mfit(X_train, y_train)\n\u001b[1;32m     <a href='vscode-notebook-cell:/Users/juampi/Documents/uba/Cuarto%20Cuatrimestre/Organizacion%20de%20Datos/tp2/7506R_TP2_GRUPO23_ENTREGA.ipynb#X51sZmlsZQ%3D%3D?line=20'>21</a>\u001b[0m y_pred \u001b[39m=\u001b[39m modelo_xg_boost\u001b[39m.\u001b[39mpredict(X_test)\n\u001b[1;32m     <a href='vscode-notebook-cell:/Users/juampi/Documents/uba/Cuarto%20Cuatrimestre/Organizacion%20de%20Datos/tp2/7506R_TP2_GRUPO23_ENTREGA.ipynb#X51sZmlsZQ%3D%3D?line=21'>22</a>\u001b[0m f1 \u001b[39m=\u001b[39m f1_score(y_test, y_pred)\n",
      "File \u001b[0;32m~/anaconda3/lib/python3.11/site-packages/xgboost/core.py:620\u001b[0m, in \u001b[0;36mrequire_keyword_args.<locals>.throw_if.<locals>.inner_f\u001b[0;34m(*args, **kwargs)\u001b[0m\n\u001b[1;32m    618\u001b[0m \u001b[39mfor\u001b[39;00m k, arg \u001b[39min\u001b[39;00m \u001b[39mzip\u001b[39m(sig\u001b[39m.\u001b[39mparameters, args):\n\u001b[1;32m    619\u001b[0m     kwargs[k] \u001b[39m=\u001b[39m arg\n\u001b[0;32m--> 620\u001b[0m \u001b[39mreturn\u001b[39;00m func(\u001b[39m*\u001b[39m\u001b[39m*\u001b[39mkwargs)\n",
      "File \u001b[0;32m~/anaconda3/lib/python3.11/site-packages/xgboost/sklearn.py:1490\u001b[0m, in \u001b[0;36mXGBClassifier.fit\u001b[0;34m(self, X, y, sample_weight, base_margin, eval_set, eval_metric, early_stopping_rounds, verbose, xgb_model, sample_weight_eval_set, base_margin_eval_set, feature_weights, callbacks)\u001b[0m\n\u001b[1;32m   1462\u001b[0m (\n\u001b[1;32m   1463\u001b[0m     model,\n\u001b[1;32m   1464\u001b[0m     metric,\n\u001b[0;32m   (...)\u001b[0m\n\u001b[1;32m   1469\u001b[0m     xgb_model, eval_metric, params, early_stopping_rounds, callbacks\n\u001b[1;32m   1470\u001b[0m )\n\u001b[1;32m   1471\u001b[0m train_dmatrix, evals \u001b[39m=\u001b[39m _wrap_evaluation_matrices(\n\u001b[1;32m   1472\u001b[0m     missing\u001b[39m=\u001b[39m\u001b[39mself\u001b[39m\u001b[39m.\u001b[39mmissing,\n\u001b[1;32m   1473\u001b[0m     X\u001b[39m=\u001b[39mX,\n\u001b[0;32m   (...)\u001b[0m\n\u001b[1;32m   1487\u001b[0m     feature_types\u001b[39m=\u001b[39m\u001b[39mself\u001b[39m\u001b[39m.\u001b[39mfeature_types,\n\u001b[1;32m   1488\u001b[0m )\n\u001b[0;32m-> 1490\u001b[0m \u001b[39mself\u001b[39m\u001b[39m.\u001b[39m_Booster \u001b[39m=\u001b[39m train(\n\u001b[1;32m   1491\u001b[0m     params,\n\u001b[1;32m   1492\u001b[0m     train_dmatrix,\n\u001b[1;32m   1493\u001b[0m     \u001b[39mself\u001b[39m\u001b[39m.\u001b[39mget_num_boosting_rounds(),\n\u001b[1;32m   1494\u001b[0m     evals\u001b[39m=\u001b[39mevals,\n\u001b[1;32m   1495\u001b[0m     early_stopping_rounds\u001b[39m=\u001b[39mearly_stopping_rounds,\n\u001b[1;32m   1496\u001b[0m     evals_result\u001b[39m=\u001b[39mevals_result,\n\u001b[1;32m   1497\u001b[0m     obj\u001b[39m=\u001b[39mobj,\n\u001b[1;32m   1498\u001b[0m     custom_metric\u001b[39m=\u001b[39mmetric,\n\u001b[1;32m   1499\u001b[0m     verbose_eval\u001b[39m=\u001b[39mverbose,\n\u001b[1;32m   1500\u001b[0m     xgb_model\u001b[39m=\u001b[39mmodel,\n\u001b[1;32m   1501\u001b[0m     callbacks\u001b[39m=\u001b[39mcallbacks,\n\u001b[1;32m   1502\u001b[0m )\n\u001b[1;32m   1504\u001b[0m \u001b[39mif\u001b[39;00m \u001b[39mnot\u001b[39;00m \u001b[39mcallable\u001b[39m(\u001b[39mself\u001b[39m\u001b[39m.\u001b[39mobjective):\n\u001b[1;32m   1505\u001b[0m     \u001b[39mself\u001b[39m\u001b[39m.\u001b[39mobjective \u001b[39m=\u001b[39m params[\u001b[39m\"\u001b[39m\u001b[39mobjective\u001b[39m\u001b[39m\"\u001b[39m]\n",
      "File \u001b[0;32m~/anaconda3/lib/python3.11/site-packages/xgboost/core.py:620\u001b[0m, in \u001b[0;36mrequire_keyword_args.<locals>.throw_if.<locals>.inner_f\u001b[0;34m(*args, **kwargs)\u001b[0m\n\u001b[1;32m    618\u001b[0m \u001b[39mfor\u001b[39;00m k, arg \u001b[39min\u001b[39;00m \u001b[39mzip\u001b[39m(sig\u001b[39m.\u001b[39mparameters, args):\n\u001b[1;32m    619\u001b[0m     kwargs[k] \u001b[39m=\u001b[39m arg\n\u001b[0;32m--> 620\u001b[0m \u001b[39mreturn\u001b[39;00m func(\u001b[39m*\u001b[39m\u001b[39m*\u001b[39mkwargs)\n",
      "File \u001b[0;32m~/anaconda3/lib/python3.11/site-packages/xgboost/training.py:185\u001b[0m, in \u001b[0;36mtrain\u001b[0;34m(params, dtrain, num_boost_round, evals, obj, feval, maximize, early_stopping_rounds, evals_result, verbose_eval, xgb_model, callbacks, custom_metric)\u001b[0m\n\u001b[1;32m    183\u001b[0m \u001b[39mif\u001b[39;00m cb_container\u001b[39m.\u001b[39mbefore_iteration(bst, i, dtrain, evals):\n\u001b[1;32m    184\u001b[0m     \u001b[39mbreak\u001b[39;00m\n\u001b[0;32m--> 185\u001b[0m bst\u001b[39m.\u001b[39mupdate(dtrain, i, obj)\n\u001b[1;32m    186\u001b[0m \u001b[39mif\u001b[39;00m cb_container\u001b[39m.\u001b[39mafter_iteration(bst, i, dtrain, evals):\n\u001b[1;32m    187\u001b[0m     \u001b[39mbreak\u001b[39;00m\n",
      "File \u001b[0;32m~/anaconda3/lib/python3.11/site-packages/xgboost/core.py:1918\u001b[0m, in \u001b[0;36mBooster.update\u001b[0;34m(self, dtrain, iteration, fobj)\u001b[0m\n\u001b[1;32m   1915\u001b[0m \u001b[39mself\u001b[39m\u001b[39m.\u001b[39m_validate_dmatrix_features(dtrain)\n\u001b[1;32m   1917\u001b[0m \u001b[39mif\u001b[39;00m fobj \u001b[39mis\u001b[39;00m \u001b[39mNone\u001b[39;00m:\n\u001b[0;32m-> 1918\u001b[0m     _check_call(_LIB\u001b[39m.\u001b[39mXGBoosterUpdateOneIter(\u001b[39mself\u001b[39m\u001b[39m.\u001b[39mhandle,\n\u001b[1;32m   1919\u001b[0m                                             ctypes\u001b[39m.\u001b[39mc_int(iteration),\n\u001b[1;32m   1920\u001b[0m                                             dtrain\u001b[39m.\u001b[39mhandle))\n\u001b[1;32m   1921\u001b[0m \u001b[39melse\u001b[39;00m:\n\u001b[1;32m   1922\u001b[0m     pred \u001b[39m=\u001b[39m \u001b[39mself\u001b[39m\u001b[39m.\u001b[39mpredict(dtrain, output_margin\u001b[39m=\u001b[39m\u001b[39mTrue\u001b[39;00m, training\u001b[39m=\u001b[39m\u001b[39mTrue\u001b[39;00m)\n",
      "\u001b[0;31mKeyboardInterrupt\u001b[0m: "
     ]
    }
   ],
   "source": [
    "df_preprocesado_copy = df_preprocesado.copy()\n",
    "vectorizer = TfidfVectorizer(max_features=9000)\n",
    "X = vectorizer.fit_transform(df_preprocesado_copy['review_es'])\n",
    "df_preprocesado_copy['sentimiento'] = df_preprocesado_copy['sentimiento'].map({'negativo': 0, 'positivo': 1})\n",
    "\n",
    "X_train, X_test, y_train, y_test = train_test_split(X, df_preprocesado_copy['sentimiento'], test_size=0.3, random_state=42)\n",
    "\n",
    "modelo_xg_boost = XGBClassifier(\n",
    "    # learning_rate=0.001,\n",
    "    n_estimators=500,\n",
    "    # max_depth=5,\n",
    "    # min_child_weight=1,\n",
    "    subsample=0.8,\n",
    "    colsample_bytree=0.8,\n",
    "    objective='binary:logistic',\n",
    "    n_jobs=-1,\n",
    "    random_state=42\n",
    ")\n",
    "modelo_xg_boost.fit(X_train, y_train)\n",
    "\n",
    "y_pred = modelo_xg_boost.predict(X_test)\n",
    "f1 = f1_score(y_test, y_pred)\n",
    "print(f'F1_score: {f1}')\n",
    "f1_train = f1_score(y_train, modelo_xg_boost.predict(X_train))\n",
    "print(f'F1_score train: {f1_train}')\n"
   ]
  },
  {
   "cell_type": "code",
   "execution_count": null,
   "metadata": {},
   "outputs": [],
   "source": [
    "tabla = confusion_matrix(y_test, y_pred)\n",
    "sns.heatmap(tabla, annot=True, fmt='d')\n",
    "plt.xlabel('Predicho')\n",
    "plt.ylabel('Real')\n",
    "plt.show()"
   ]
  },
  {
   "cell_type": "code",
   "execution_count": null,
   "metadata": {},
   "outputs": [],
   "source": [
    "df_preprocesado_copy = df_preprocesado.copy()\n",
    "vectorizer = TfidfVectorizer(max_features=7000)\n",
    "X = vectorizer.fit_transform(df_preprocesado_copy['review_es'])\n",
    "df_preprocesado_copy['sentimiento'] = df_preprocesado_copy['sentimiento'].map({'negativo': 0, 'positivo': 1})\n",
    "\n",
    "X_train, X_test, y_train, y_test = train_test_split(X, df_preprocesado_copy['sentimiento'], test_size=0.3, random_state=42)\n",
    "\n",
    "modelo_xg_boost = XGBClassifier(\n",
    "    objective='binary:logistic',\n",
    "    n_jobs=-1,\n",
    "    random_state=42\n",
    ")\n",
    "\n",
    "params = {\n",
    "        'min_child_weight': [1, 5, 10],\n",
    "        'gamma': [0.1,  0.3,  0.5],\n",
    "        'subsample': [0.6, 0.8, 1.0],\n",
    "        'colsample_bytree': [0.6, 0.8, 1.0],\n",
    "        'learning_rate': list(np.linspace(0.001, 0.1, 10)),\n",
    "        'n_estimators': [ 300, 400, 500, 600 ],\n",
    "        }\n",
    "\n",
    "folds = 5\n",
    "n_iter = 75\n",
    "skf = StratifiedKFold(n_splits=folds, shuffle = True, random_state = 42)\n",
    "random_search = RandomizedSearchCV(modelo_xg_boost, param_distributions=params, n_iter=n_iter, scoring='f1', n_jobs=-1, cv=skf.split(X_train,y_train), verbose=3, random_state=42 )\n",
    "# random_search.fit(X_train, y_train)\n",
    "\n",
    "print('\\n Best estimator:')\n",
    "print(random_search.best_estimator_)\n",
    "print('\\n Best score:')\n",
    "print(random_search.best_score_ * 2 - 1)"
   ]
  },
  {
   "cell_type": "code",
   "execution_count": null,
   "metadata": {},
   "outputs": [],
   "source": [
    "y_pred = random_search.predict(X_test)\n",
    "f1 = f1_score(y_test, y_pred)\n",
    "print(f'F1_score: {f1}')\n",
    "f1_train = f1_score(y_train, random_search.predict(X_train))\n",
    "print(f'F1_score train: {f1_train}')"
   ]
  },
  {
   "cell_type": "code",
   "execution_count": 26,
   "metadata": {},
   "outputs": [
    {
     "name": "stdout",
     "output_type": "stream",
     "text": [
      "F1_score: 0.8636243735162227\n",
      "F1_score train: 0.9279236007120052\n"
     ]
    }
   ],
   "source": [
    "# colsample_bytree=0.6, gamma=0.1, learning_rate=0.08900000000000001, min_child_weight=10, n_estimators=600, subsample=0.6;, score=0.853\n",
    "df_preprocesado_copy = df_preprocesado.copy()\n",
    "df_preprocesado_copy['sentimiento'] = df_preprocesado_copy['sentimiento'].map({'negativo': 0, 'positivo': 1})\n",
    "X_train, X_test, y_train, y_test = train_test_split(df_preprocesado_copy['review_es'], df_preprocesado_copy['sentimiento'], test_size=0.3, random_state=42)\n",
    "\n",
    "\n",
    "modelo_xg_boost = Pipeline([\n",
    "  ('tfidf', TfidfVectorizer(max_features=9000)), \n",
    "  ('xgb', XGBClassifier(\n",
    "        objective='binary:logistic',\n",
    "        n_jobs=-1,\n",
    "        random_state=42,\n",
    "        colsample_bytree=0.6, \n",
    "        subsample=0.6,\n",
    "        gamma=0.3, \n",
    "        max_depth=5,\n",
    "        learning_rate=0.089, \n",
    "        min_child_weight=10, \n",
    "        n_estimators=700, \n",
    "))])\n",
    "\n",
    "modelo_xg_boost.fit(X_train, y_train)\n",
    "\n",
    "y_pred = modelo_xg_boost.predict(X_test)\n",
    "f1 = f1_score(y_test, y_pred)\n",
    "print(f'F1_score: {f1}')\n",
    "f1_train = f1_score(y_train, modelo_xg_boost.predict(X_train))\n",
    "print(f'F1_score train: {f1_train}')\n"
   ]
  },
  {
   "cell_type": "markdown",
   "metadata": {},
   "source": [
    "#### Predicción en los datos de test"
   ]
  },
  {
   "cell_type": "code",
   "execution_count": null,
   "metadata": {},
   "outputs": [],
   "source": [
    "df_test = pd.read_csv('test.csv', sep=',')\n",
    "df_test_copia = df_test.copy()\n",
    "df_test_copia['review_es'] = df_test_copia['review_es'].apply(preprocess_text)\n",
    "\n",
    "prediccion = modelo_xg_boost.predict(df_test_copia['review_es'])\n",
    "prediccion = np.where(prediccion == 0, 'negativo', 'positivo')\n",
    "\n",
    "df_entrega = df_test.copy()\n",
    "\n",
    "df_entrega['sentimiento'] = prediccion\n",
    "df_entrega.drop('review_es', axis=1, inplace=True)\n",
    "\n",
    "df_entrega.to_csv('entrega.csv', index=False)"
   ]
  },
  {
   "cell_type": "markdown",
   "metadata": {},
   "source": [
    "### Random Forest"
   ]
  },
  {
   "cell_type": "code",
   "execution_count": 28,
   "metadata": {},
   "outputs": [
    {
     "name": "stdout",
     "output_type": "stream",
     "text": [
      "F1_score: 0.8187729350415244\n",
      "F1_score train: 0.8417005382840822\n"
     ]
    }
   ],
   "source": [
    "from sklearn.ensemble import RandomForestClassifier\n",
    "from sklearn.model_selection import RandomizedSearchCV\n",
    "from sklearn.model_selection import StratifiedKFold\n",
    "from sklearn.model_selection import cross_val_score\n",
    "\n",
    "df_preprocesado_copy = df_preprocesado.copy()\n",
    "df_preprocesado_copy['sentimiento'] = df_preprocesado_copy['sentimiento'].map({'negativo': 0, 'positivo': 1})\n",
    "X_train, X_test, y_train, y_test = train_test_split(df_preprocesado_copy['review_es'], df_preprocesado_copy['sentimiento'], test_size=0.3, random_state=42)\n",
    "\n",
    "modelo_random_forest = Pipeline([\n",
    "    ('tfidf', TfidfVectorizer(max_features=7000)), \n",
    "    ('rfc', RandomForestClassifier(\n",
    "            criterion='entropy',\n",
    "            n_jobs=-1,\n",
    "            random_state=42,\n",
    "            max_depth=20,\n",
    "            min_samples_leaf=50,\n",
    "            n_estimators=1000,\n",
    "    ))])\n",
    "\n",
    "modelo_random_forest.fit(X_train, y_train)\n",
    "\n",
    "y_pred = modelo_random_forest.predict(X_test)\n",
    "f1 = f1_score(y_test, y_pred)\n",
    "print(f'F1_score: {f1}')\n",
    "f1_train = f1_score(y_train, modelo_random_forest.predict(X_train))\n",
    "print(f'F1_score train: {f1_train}')"
   ]
  },
  {
   "cell_type": "markdown",
   "metadata": {},
   "source": [
    "### Red Neuronal"
   ]
  },
  {
   "cell_type": "code",
   "execution_count": 86,
   "metadata": {},
   "outputs": [
    {
     "name": "stdout",
     "output_type": "stream",
     "text": [
      "Model: \"model\"\n",
      "_________________________________________________________________\n",
      " Layer (type)                Output Shape              Param #   \n",
      "=================================================================\n",
      " inputs (InputLayer)         [(None, 1000)]            0         \n",
      "                                                                 \n",
      " embedding (Embedding)       (None, 1000, 128)         1280000   \n",
      "                                                                 \n",
      " lstm (LSTM)                 (None, 64)                49408     \n",
      "                                                                 \n",
      " out_layer (Dense)           (None, 1)                 65        \n",
      "                                                                 \n",
      " activation (Activation)     (None, 1)                 0         \n",
      "                                                                 \n",
      "=================================================================\n",
      "Total params: 1,329,473\n",
      "Trainable params: 1,329,473\n",
      "Non-trainable params: 0\n",
      "_________________________________________________________________\n",
      "Epoch 1/10\n"
     ]
    },
    {
     "name": "stderr",
     "output_type": "stream",
     "text": [
      "2023-11-15 21:13:40.011933: I tensorflow/core/common_runtime/executor.cc:1197] [/device:CPU:0] (DEBUG INFO) Executor start aborting (this does not indicate an error and you can ignore this message): INVALID_ARGUMENT: You must feed a value for placeholder tensor 'gradients/split_2_grad/concat/split_2/split_dim' with dtype int32\n",
      "\t [[{{node gradients/split_2_grad/concat/split_2/split_dim}}]]\n",
      "2023-11-15 21:13:40.014735: I tensorflow/core/common_runtime/executor.cc:1197] [/device:CPU:0] (DEBUG INFO) Executor start aborting (this does not indicate an error and you can ignore this message): INVALID_ARGUMENT: You must feed a value for placeholder tensor 'gradients/split_grad/concat/split/split_dim' with dtype int32\n",
      "\t [[{{node gradients/split_grad/concat/split/split_dim}}]]\n",
      "2023-11-15 21:13:40.015271: I tensorflow/core/common_runtime/executor.cc:1197] [/device:CPU:0] (DEBUG INFO) Executor start aborting (this does not indicate an error and you can ignore this message): INVALID_ARGUMENT: You must feed a value for placeholder tensor 'gradients/split_1_grad/concat/split_1/split_dim' with dtype int32\n",
      "\t [[{{node gradients/split_1_grad/concat/split_1/split_dim}}]]\n",
      "2023-11-15 21:13:40.113433: W tensorflow/tsl/platform/profile_utils/cpu_utils.cc:128] Failed to get CPU frequency: 0 Hz\n",
      "2023-11-15 21:13:40.289713: I tensorflow/core/common_runtime/executor.cc:1197] [/device:CPU:0] (DEBUG INFO) Executor start aborting (this does not indicate an error and you can ignore this message): INVALID_ARGUMENT: You must feed a value for placeholder tensor 'gradients/split_2_grad/concat/split_2/split_dim' with dtype int32\n",
      "\t [[{{node gradients/split_2_grad/concat/split_2/split_dim}}]]\n",
      "2023-11-15 21:13:40.290439: I tensorflow/core/common_runtime/executor.cc:1197] [/device:CPU:0] (DEBUG INFO) Executor start aborting (this does not indicate an error and you can ignore this message): INVALID_ARGUMENT: You must feed a value for placeholder tensor 'gradients/split_grad/concat/split/split_dim' with dtype int32\n",
      "\t [[{{node gradients/split_grad/concat/split/split_dim}}]]\n",
      "2023-11-15 21:13:40.291343: I tensorflow/core/common_runtime/executor.cc:1197] [/device:CPU:0] (DEBUG INFO) Executor start aborting (this does not indicate an error and you can ignore this message): INVALID_ARGUMENT: You must feed a value for placeholder tensor 'gradients/split_1_grad/concat/split_1/split_dim' with dtype int32\n",
      "\t [[{{node gradients/split_1_grad/concat/split_1/split_dim}}]]\n",
      "2023-11-15 21:13:40.575435: I tensorflow/core/common_runtime/executor.cc:1197] [/device:CPU:0] (DEBUG INFO) Executor start aborting (this does not indicate an error and you can ignore this message): INVALID_ARGUMENT: You must feed a value for placeholder tensor 'gradients/split_2_grad/concat/split_2/split_dim' with dtype int32\n",
      "\t [[{{node gradients/split_2_grad/concat/split_2/split_dim}}]]\n",
      "2023-11-15 21:13:40.576486: I tensorflow/core/common_runtime/executor.cc:1197] [/device:CPU:0] (DEBUG INFO) Executor start aborting (this does not indicate an error and you can ignore this message): INVALID_ARGUMENT: You must feed a value for placeholder tensor 'gradients/split_grad/concat/split/split_dim' with dtype int32\n",
      "\t [[{{node gradients/split_grad/concat/split/split_dim}}]]\n",
      "2023-11-15 21:13:40.576974: I tensorflow/core/common_runtime/executor.cc:1197] [/device:CPU:0] (DEBUG INFO) Executor start aborting (this does not indicate an error and you can ignore this message): INVALID_ARGUMENT: You must feed a value for placeholder tensor 'gradients/split_1_grad/concat/split_1/split_dim' with dtype int32\n",
      "\t [[{{node gradients/split_1_grad/concat/split_1/split_dim}}]]\n"
     ]
    },
    {
     "name": "stdout",
     "output_type": "stream",
     "text": [
      "190/190 [==============================] - ETA: 0s - loss: 0.4712 - accuracy: 0.7700"
     ]
    },
    {
     "name": "stderr",
     "output_type": "stream",
     "text": [
      "2023-11-15 21:16:44.401087: I tensorflow/core/common_runtime/executor.cc:1197] [/device:CPU:0] (DEBUG INFO) Executor start aborting (this does not indicate an error and you can ignore this message): INVALID_ARGUMENT: You must feed a value for placeholder tensor 'gradients/split_2_grad/concat/split_2/split_dim' with dtype int32\n",
      "\t [[{{node gradients/split_2_grad/concat/split_2/split_dim}}]]\n",
      "2023-11-15 21:16:44.401976: I tensorflow/core/common_runtime/executor.cc:1197] [/device:CPU:0] (DEBUG INFO) Executor start aborting (this does not indicate an error and you can ignore this message): INVALID_ARGUMENT: You must feed a value for placeholder tensor 'gradients/split_grad/concat/split/split_dim' with dtype int32\n",
      "\t [[{{node gradients/split_grad/concat/split/split_dim}}]]\n",
      "2023-11-15 21:16:44.402541: I tensorflow/core/common_runtime/executor.cc:1197] [/device:CPU:0] (DEBUG INFO) Executor start aborting (this does not indicate an error and you can ignore this message): INVALID_ARGUMENT: You must feed a value for placeholder tensor 'gradients/split_1_grad/concat/split_1/split_dim' with dtype int32\n",
      "\t [[{{node gradients/split_1_grad/concat/split_1/split_dim}}]]\n"
     ]
    },
    {
     "name": "stdout",
     "output_type": "stream",
     "text": [
      "190/190 [==============================] - 210s 1s/step - loss: 0.4712 - accuracy: 0.7700 - val_loss: 0.3429 - val_accuracy: 0.8530\n",
      "Epoch 2/10\n",
      "190/190 [==============================] - 232s 1s/step - loss: 0.2686 - accuracy: 0.8945 - val_loss: 0.3485 - val_accuracy: 0.8507\n",
      "465/465 [==============================] - 58s 126ms/step - loss: 0.3531 - accuracy: 0.8504\n",
      "Test set\n",
      "  Loss: 0.353\n",
      "  Accuracy: 0.850\n",
      "  1/465 [..............................] - ETA: 7:32"
     ]
    },
    {
     "name": "stderr",
     "output_type": "stream",
     "text": [
      "2023-11-15 21:22:02.769788: I tensorflow/core/common_runtime/executor.cc:1197] [/device:CPU:0] (DEBUG INFO) Executor start aborting (this does not indicate an error and you can ignore this message): INVALID_ARGUMENT: You must feed a value for placeholder tensor 'gradients/split_2_grad/concat/split_2/split_dim' with dtype int32\n",
      "\t [[{{node gradients/split_2_grad/concat/split_2/split_dim}}]]\n",
      "2023-11-15 21:22:02.770414: I tensorflow/core/common_runtime/executor.cc:1197] [/device:CPU:0] (DEBUG INFO) Executor start aborting (this does not indicate an error and you can ignore this message): INVALID_ARGUMENT: You must feed a value for placeholder tensor 'gradients/split_grad/concat/split/split_dim' with dtype int32\n",
      "\t [[{{node gradients/split_grad/concat/split/split_dim}}]]\n",
      "2023-11-15 21:22:02.770957: I tensorflow/core/common_runtime/executor.cc:1197] [/device:CPU:0] (DEBUG INFO) Executor start aborting (this does not indicate an error and you can ignore this message): INVALID_ARGUMENT: You must feed a value for placeholder tensor 'gradients/split_1_grad/concat/split_1/split_dim' with dtype int32\n",
      "\t [[{{node gradients/split_1_grad/concat/split_1/split_dim}}]]\n"
     ]
    },
    {
     "name": "stdout",
     "output_type": "stream",
     "text": [
      "465/465 [==============================] - 53s 113ms/step\n",
      "Accuracy: 0.8504032258064517\n",
      "Recall: 0.8519913885898815\n",
      "Precision: 0.8490211853043711\n",
      "f1 score: 0.8505036937541974\n"
     ]
    }
   ],
   "source": [
    "np.random.seed(1)\n",
    "tf.random.set_seed(1)\n",
    "keras.utils.set_random_seed(812)\n",
    "os.environ['PYTHONHASHSEED']=str(1)\n",
    "\n",
    "\n",
    "df_preprocesado_copy = df_preprocesado.copy()\n",
    "df_preprocesado_copy['sentimiento'] = df_preprocesado_copy['sentimiento'].map({'negativo': 0, 'positivo': 1})\n",
    "X_train, X_test, y_train, y_test = train_test_split(df_preprocesado_copy['review_es'], df_preprocesado_copy['sentimiento'], test_size=0.3, random_state=42)\n",
    "\n",
    "max_words = 10000\n",
    "max_len = 1000\n",
    "tok = Tokenizer(num_words=max_words)\n",
    "tok.fit_on_texts(X_train)\n",
    "sequences = tok.texts_to_sequences(X_train)\n",
    "sequences_matrix = pad_sequences(sequences,maxlen=max_len)\n",
    "\n",
    "def red_neuronal_recurrente():\n",
    "    inputs = Input(name='inputs', shape=[max_len])\n",
    "    layer = Embedding(max_words, 128, input_length=max_len)(inputs)\n",
    "    layer = LSTM(64)(layer)\n",
    "    # layer = Dense(256,name='FC1')(layer)\n",
    "    # layer = Activation('relu')(layer)\n",
    "    # layer = Dropout(0.5)(layer)\n",
    "    layer = Dense(1,name='out_layer')(layer)\n",
    "    layer = Activation('sigmoid')(layer)\n",
    "    model = tf.keras.Model(inputs=inputs,outputs=layer)\n",
    "    return model\n",
    "\n",
    "model_rnn = red_neuronal_recurrente()\n",
    "model_rnn.summary()\n",
    "model_rnn.compile(loss='binary_crossentropy', optimizer='adam', metrics=['accuracy'])\n",
    "\n",
    "model_rnn.fit(sequences_matrix, y_train, batch_size=128, epochs=10, \n",
    "            validation_split=0.3,callbacks=[EarlyStopping(monitor='val_loss',min_delta=0.0001)])\n",
    "\n",
    "test_sequences = tok.texts_to_sequences(X_test)\n",
    "test_sequences_matrix = pad_sequences(test_sequences, maxlen=max_len)\n",
    "\n",
    "accr = model_rnn.evaluate(test_sequences_matrix, y_test)\n",
    "\n",
    "print('Test set\\n  Loss: {:0.3f}\\n  Accuracy: {:0.3f}'.format(accr[0],accr[1]))\n",
    "\n",
    "prediccion = model_rnn.predict(test_sequences_matrix)\n",
    "prediccion = np.where(prediccion >= 0.5, 1, 0)\n",
    "mostrar_scores(y_test, prediccion)\n",
    "prediccion = np.where(prediccion == 1, 'positivo', 'negativo')\n"
   ]
  },
  {
   "cell_type": "code",
   "execution_count": 88,
   "metadata": {},
   "outputs": [
    {
     "data": {
      "image/png": "[encoded data removed]",
      "text/plain": [
       "<Figure size 640x480 with 2 Axes>"
      ]
     },
     "metadata": {},
     "output_type": "display_data"
    }
   ],
   "source": [
    "prediccion_heatmap = np.where(prediccion == 'positivo', 1, 0)\n",
    "\n",
    "tabla = confusion_matrix(y_test, prediccion_heatmap)\n",
    "sns.heatmap(tabla, annot=True, fmt='d')\n",
    "plt.xlabel('Predicho')\n",
    "plt.ylabel('Real')\n",
    "plt.show()"
   ]
  },
  {
   "cell_type": "code",
   "execution_count": 89,
   "metadata": {},
   "outputs": [
    {
     "name": "stdout",
     "output_type": "stream",
     "text": [
      "   1/1085 [..............................] - ETA: 4:56"
     ]
    },
    {
     "name": "stderr",
     "output_type": "stream",
     "text": [
      "2023-11-15 21:23:10.561498: I tensorflow/core/common_runtime/executor.cc:1197] [/device:CPU:0] (DEBUG INFO) Executor start aborting (this does not indicate an error and you can ignore this message): INVALID_ARGUMENT: You must feed a value for placeholder tensor 'gradients/split_2_grad/concat/split_2/split_dim' with dtype int32\n",
      "\t [[{{node gradients/split_2_grad/concat/split_2/split_dim}}]]\n",
      "2023-11-15 21:23:10.561955: I tensorflow/core/common_runtime/executor.cc:1197] [/device:CPU:0] (DEBUG INFO) Executor start aborting (this does not indicate an error and you can ignore this message): INVALID_ARGUMENT: You must feed a value for placeholder tensor 'gradients/split_grad/concat/split/split_dim' with dtype int32\n",
      "\t [[{{node gradients/split_grad/concat/split/split_dim}}]]\n",
      "2023-11-15 21:23:10.562568: I tensorflow/core/common_runtime/executor.cc:1197] [/device:CPU:0] (DEBUG INFO) Executor start aborting (this does not indicate an error and you can ignore this message): INVALID_ARGUMENT: You must feed a value for placeholder tensor 'gradients/split_1_grad/concat/split_1/split_dim' with dtype int32\n",
      "\t [[{{node gradients/split_1_grad/concat/split_1/split_dim}}]]\n"
     ]
    },
    {
     "name": "stdout",
     "output_type": "stream",
     "text": [
      "1085/1085 [==============================] - 114s 105ms/step\n",
      "Accuracy: 0.9131311385696592\n",
      "Recall: 0.9119399564569726\n",
      "Precision: 0.9149804552770752\n",
      "f1 score: 0.9134576757532281\n"
     ]
    }
   ],
   "source": [
    "train_sequences = tok.texts_to_sequences(X_train)\n",
    "train_sequences_matrix = pad_sequences(train_sequences, maxlen=max_len)\n",
    "prediccion_train = model_rnn.predict(train_sequences_matrix)\n",
    "prediccion_train = np.where(prediccion_train >= 0.5, 1, 0)\n",
    "mostrar_scores(y_train, prediccion_train)"
   ]
  },
  {
   "cell_type": "code",
   "execution_count": 92,
   "metadata": {},
   "outputs": [
    {
     "name": "stdout",
     "output_type": "stream",
     "text": [
      "Epoch 1/10\n"
     ]
    },
    {
     "name": "stderr",
     "output_type": "stream",
     "text": [
      "2023-11-15 22:15:33.883538: I tensorflow/core/common_runtime/executor.cc:1197] [/device:CPU:0] (DEBUG INFO) Executor start aborting (this does not indicate an error and you can ignore this message): INVALID_ARGUMENT: You must feed a value for placeholder tensor 'gradients/split_2_grad/concat/split_2/split_dim' with dtype int32\n",
      "\t [[{{node gradients/split_2_grad/concat/split_2/split_dim}}]]\n",
      "2023-11-15 22:15:33.884783: I tensorflow/core/common_runtime/executor.cc:1197] [/device:CPU:0] (DEBUG INFO) Executor start aborting (this does not indicate an error and you can ignore this message): INVALID_ARGUMENT: You must feed a value for placeholder tensor 'gradients/split_grad/concat/split/split_dim' with dtype int32\n",
      "\t [[{{node gradients/split_grad/concat/split/split_dim}}]]\n",
      "2023-11-15 22:15:33.885307: I tensorflow/core/common_runtime/executor.cc:1197] [/device:CPU:0] (DEBUG INFO) Executor start aborting (this does not indicate an error and you can ignore this message): INVALID_ARGUMENT: You must feed a value for placeholder tensor 'gradients/split_1_grad/concat/split_1/split_dim' with dtype int32\n",
      "\t [[{{node gradients/split_1_grad/concat/split_1/split_dim}}]]\n",
      "2023-11-15 22:15:34.065454: I tensorflow/core/common_runtime/executor.cc:1197] [/device:CPU:0] (DEBUG INFO) Executor start aborting (this does not indicate an error and you can ignore this message): INVALID_ARGUMENT: You must feed a value for placeholder tensor 'gradients/split_2_grad/concat/split_2/split_dim' with dtype int32\n",
      "\t [[{{node gradients/split_2_grad/concat/split_2/split_dim}}]]\n",
      "2023-11-15 22:15:34.066121: I tensorflow/core/common_runtime/executor.cc:1197] [/device:CPU:0] (DEBUG INFO) Executor start aborting (this does not indicate an error and you can ignore this message): INVALID_ARGUMENT: You must feed a value for placeholder tensor 'gradients/split_grad/concat/split/split_dim' with dtype int32\n",
      "\t [[{{node gradients/split_grad/concat/split/split_dim}}]]\n",
      "2023-11-15 22:15:34.066747: I tensorflow/core/common_runtime/executor.cc:1197] [/device:CPU:0] (DEBUG INFO) Executor start aborting (this does not indicate an error and you can ignore this message): INVALID_ARGUMENT: You must feed a value for placeholder tensor 'gradients/split_1_grad/concat/split_1/split_dim' with dtype int32\n",
      "\t [[{{node gradients/split_1_grad/concat/split_1/split_dim}}]]\n",
      "2023-11-15 22:15:34.340900: I tensorflow/core/common_runtime/executor.cc:1197] [/device:CPU:0] (DEBUG INFO) Executor start aborting (this does not indicate an error and you can ignore this message): INVALID_ARGUMENT: You must feed a value for placeholder tensor 'gradients/split_2_grad/concat/split_2/split_dim' with dtype int32\n",
      "\t [[{{node gradients/split_2_grad/concat/split_2/split_dim}}]]\n",
      "2023-11-15 22:15:34.341563: I tensorflow/core/common_runtime/executor.cc:1197] [/device:CPU:0] (DEBUG INFO) Executor start aborting (this does not indicate an error and you can ignore this message): INVALID_ARGUMENT: You must feed a value for placeholder tensor 'gradients/split_grad/concat/split/split_dim' with dtype int32\n",
      "\t [[{{node gradients/split_grad/concat/split/split_dim}}]]\n",
      "2023-11-15 22:15:34.342222: I tensorflow/core/common_runtime/executor.cc:1197] [/device:CPU:0] (DEBUG INFO) Executor start aborting (this does not indicate an error and you can ignore this message): INVALID_ARGUMENT: You must feed a value for placeholder tensor 'gradients/split_1_grad/concat/split_1/split_dim' with dtype int32\n",
      "\t [[{{node gradients/split_1_grad/concat/split_1/split_dim}}]]\n"
     ]
    },
    {
     "name": "stdout",
     "output_type": "stream",
     "text": [
      "1085/1085 [==============================] - 553s 509ms/step - loss: 0.4476 - accuracy: 0.7848\n",
      "Epoch 2/10\n",
      "1085/1085 [==============================] - 536s 494ms/step - loss: 0.2515 - accuracy: 0.8988\n",
      "Epoch 3/10\n",
      "1085/1085 [==============================] - 531s 489ms/step - loss: 0.1804 - accuracy: 0.9318\n",
      "Epoch 4/10\n",
      "1085/1085 [==============================] - 533s 491ms/step - loss: 0.1094 - accuracy: 0.9612\n",
      "Epoch 5/10\n",
      "1085/1085 [==============================] - 539s 497ms/step - loss: 0.0599 - accuracy: 0.9803\n",
      "Epoch 6/10\n",
      "1085/1085 [==============================] - 553s 509ms/step - loss: 0.0414 - accuracy: 0.9860\n",
      "Epoch 7/10\n",
      "1085/1085 [==============================] - 540s 498ms/step - loss: 0.0246 - accuracy: 0.9921\n",
      "Epoch 8/10\n",
      "1085/1085 [==============================] - 539s 497ms/step - loss: 0.0200 - accuracy: 0.9933\n",
      "Epoch 9/10\n",
      "1085/1085 [==============================] - 536s 494ms/step - loss: 0.0201 - accuracy: 0.9929\n",
      "Epoch 10/10\n",
      "1085/1085 [==============================] - 540s 498ms/step - loss: 0.0162 - accuracy: 0.9941\n"
     ]
    },
    {
     "data": {
      "text/plain": [
       "<keras.callbacks.History at 0x28e436290>"
      ]
     },
     "execution_count": 92,
     "metadata": {},
     "output_type": "execute_result"
    }
   ],
   "source": [
    "np.random.seed(1)\n",
    "tf.random.set_seed(1)\n",
    "keras.utils.set_random_seed(812)\n",
    "os.environ['PYTHONHASHSEED']=str(1)\n",
    "\n",
    "df_preprocesado_copy = df_preprocesado.copy()\n",
    "df_preprocesado_copy['sentimiento'] = df_preprocesado_copy['sentimiento'].map({'negativo': 0, 'positivo': 1})\n",
    "x_train, x_test, y_train, y_test = train_test_split(df_preprocesado_copy['review_es'], df_preprocesado_copy['sentimiento'], test_size=0.3, random_state=42)\n",
    "\n",
    "max_len = 1000\n",
    "tok = Tokenizer(num_words=max_words)\n",
    "tok.fit_on_texts(X_train)\n",
    "sequences = tok.texts_to_sequences(X_train)\n",
    "sequences_matrix = pad_sequences(sequences,maxlen=max_len)\n",
    "\n",
    "model = tf.keras.Sequential([\n",
    "    tf.keras.layers.Embedding(input_dim=10000, output_dim=128),\n",
    "    tf.keras.layers.Conv1D(filters=64, kernel_size=3, padding='same', activation='relu'),\n",
    "    tf.keras.layers.GRU(128),\n",
    "    tf.keras.layers.Dense(1, activation='sigmoid')\n",
    "])\n",
    "\n",
    "model.compile(loss='binary_crossentropy', optimizer='adam', metrics=['accuracy'])\n",
    "model.fit(x=sequences_matrix, y=y_train, epochs=10)\n",
    "\n",
    "# model.evaluate(x=x_test, y=y_test)\n"
   ]
  },
  {
   "cell_type": "code",
   "execution_count": 95,
   "metadata": {},
   "outputs": [
    {
     "name": "stdout",
     "output_type": "stream",
     "text": [
      "465/465 [==============================] - 53s 113ms/step\n",
      "Accuracy: 0.8436155913978495\n",
      "Recall: 0.8690796555435952\n",
      "Precision: 0.8266990912581594\n",
      "f1 score: 0.8473597900951131\n"
     ]
    }
   ],
   "source": [
    "test_sequences = tok.texts_to_sequences(x_test)\n",
    "test_sequences_matrix = pad_sequences(test_sequences, maxlen=1000)\n",
    "prediccion = model.predict(test_sequences_matrix)\n",
    "prediccion = np.where(prediccion >= 0.5, 1, 0)\n",
    "mostrar_scores(y_test, prediccion)\n",
    "prediccion = np.where(prediccion == 1, 'positivo', 'negativo')"
   ]
  },
  {
   "cell_type": "code",
   "execution_count": 97,
   "metadata": {},
   "outputs": [
    {
     "name": "stderr",
     "output_type": "stream",
     "text": [
      "2023-11-15 23:53:15.747490: I tensorflow/core/common_runtime/executor.cc:1197] [/device:CPU:0] (DEBUG INFO) Executor start aborting (this does not indicate an error and you can ignore this message): INVALID_ARGUMENT: You must feed a value for placeholder tensor 'gradients/split_2_grad/concat/split_2/split_dim' with dtype int32\n",
      "\t [[{{node gradients/split_2_grad/concat/split_2/split_dim}}]]\n",
      "2023-11-15 23:53:15.748132: I tensorflow/core/common_runtime/executor.cc:1197] [/device:CPU:0] (DEBUG INFO) Executor start aborting (this does not indicate an error and you can ignore this message): INVALID_ARGUMENT: You must feed a value for placeholder tensor 'gradients/split_grad/concat/split/split_dim' with dtype int32\n",
      "\t [[{{node gradients/split_grad/concat/split/split_dim}}]]\n",
      "2023-11-15 23:53:15.748825: I tensorflow/core/common_runtime/executor.cc:1197] [/device:CPU:0] (DEBUG INFO) Executor start aborting (this does not indicate an error and you can ignore this message): INVALID_ARGUMENT: You must feed a value for placeholder tensor 'gradients/split_1_grad/concat/split_1/split_dim' with dtype int32\n",
      "\t [[{{node gradients/split_1_grad/concat/split_1/split_dim}}]]\n"
     ]
    },
    {
     "name": "stdout",
     "output_type": "stream",
     "text": [
      "1085/1085 [==============================] - 126s 115ms/step\n",
      "Accuracy: 0.9976669834960684\n",
      "Recall: 0.999427065429128\n",
      "Precision: 0.9959463317156723\n",
      "f1 score: 0.997683662672653\n"
     ]
    }
   ],
   "source": [
    "train_sequences = tok.texts_to_sequences(x_train)\n",
    "train_sequences_matrix = pad_sequences(train_sequences, maxlen=max_len)\n",
    "prediccion_train = model.predict(train_sequences_matrix)\n",
    "prediccion_train = np.where(prediccion_train >= 0.5, 1, 0)\n",
    "mostrar_scores(y_train, prediccion_train)"
   ]
  },
  {
   "cell_type": "markdown",
   "metadata": {},
   "source": [
    "### SVM"
   ]
  },
  {
   "cell_type": "code",
   "execution_count": 100,
   "metadata": {},
   "outputs": [
    {
     "name": "stdout",
     "output_type": "stream",
     "text": [
      "F1_score: 0.6661885980638221\n",
      "F1_score train: 0.6690817089299063\n"
     ]
    }
   ],
   "source": [
    "from sklearn.discriminant_analysis import StandardScaler\n",
    "from sklearn.preprocessing import MinMaxScaler\n",
    "from sklearn.svm import SVC\n",
    "from sklearn.model_selection import RandomizedSearchCV\n",
    "from sklearn.model_selection import StratifiedKFold\n",
    "from sklearn.model_selection import cross_val_score\n",
    "\n",
    "df_preprocesado_copy = df_preprocesado.copy()\n",
    "df_preprocesado_copy['sentimiento'] = df_preprocesado_copy['sentimiento'].map({'negativo': 0, 'positivo': 1})\n",
    "X_train, X_test, y_train, y_test = train_test_split(df_preprocesado_copy['review_es'], df_preprocesado_copy['sentimiento'], test_size=0.3, random_state=42)\n",
    "\n",
    "modelo_svm = Pipeline([\n",
    "    ('tfidf', TfidfVectorizer(max_features=14500)), \n",
    "    ('svm', SVC(C=0.1, random_state=42, gamma='auto', kernel='poly', degree=3))\n",
    "    ])\n",
    "\n",
    "modelo_svm.fit(X_train, y_train)\n",
    "\n",
    "y_pred = modelo_svm.predict(X_test)\n",
    "f1 = f1_score(y_test, y_pred)\n",
    "print(f'F1_score: {f1}')\n",
    "f1_train = f1_score(y_train, modelo_svm.predict(X_train))\n",
    "print(f'F1_score train: {f1_train}')"
   ]
  },
  {
   "cell_type": "markdown",
   "metadata": {},
   "source": [
    "### Ensamble de modelos"
   ]
  },
  {
   "cell_type": "code",
   "execution_count": 48,
   "metadata": {},
   "outputs": [
    {
     "data": {
      "text/html": [
       "<div>\n",
       "<style scoped>\n",
       "    .dataframe tbody tr th:only-of-type {\n",
       "        vertical-align: middle;\n",
       "    }\n",
       "\n",
       "    .dataframe tbody tr th {\n",
       "        vertical-align: top;\n",
       "    }\n",
       "\n",
       "    .dataframe thead th {\n",
       "        text-align: right;\n",
       "    }\n",
       "</style>\n",
       "<table border=\"1\" class=\"dataframe\">\n",
       "  <thead>\n",
       "    <tr style=\"text-align: right;\">\n",
       "      <th></th>\n",
       "      <th>ID</th>\n",
       "      <th>review_es</th>\n",
       "      <th>sentimiento</th>\n",
       "    </tr>\n",
       "  </thead>\n",
       "  <tbody>\n",
       "    <tr>\n",
       "      <th>0</th>\n",
       "      <td>0</td>\n",
       "      <td>críticos mencionado después ver solo oz episod...</td>\n",
       "      <td>1</td>\n",
       "    </tr>\n",
       "    <tr>\n",
       "      <th>1</th>\n",
       "      <td>1</td>\n",
       "      <td>pequeña pequeña producciónla técnica filmación...</td>\n",
       "      <td>1</td>\n",
       "    </tr>\n",
       "    <tr>\n",
       "      <th>2</th>\n",
       "      <td>2</td>\n",
       "      <td>pensé manera maravillosa pasar tiempo fin sema...</td>\n",
       "      <td>1</td>\n",
       "    </tr>\n",
       "    <tr>\n",
       "      <th>3</th>\n",
       "      <td>3</td>\n",
       "      <td>básicamente familia niño pequeño jake piensa z...</td>\n",
       "      <td>0</td>\n",
       "    </tr>\n",
       "    <tr>\n",
       "      <th>4</th>\n",
       "      <td>4</td>\n",
       "      <td>amor tiempo petter mattei película visualmente...</td>\n",
       "      <td>1</td>\n",
       "    </tr>\n",
       "    <tr>\n",
       "      <th>...</th>\n",
       "      <td>...</td>\n",
       "      <td>...</td>\n",
       "      <td>...</td>\n",
       "    </tr>\n",
       "    <tr>\n",
       "      <th>49995</th>\n",
       "      <td>49995</td>\n",
       "      <td>pensé película hizo buen trabajo derechano tan...</td>\n",
       "      <td>1</td>\n",
       "    </tr>\n",
       "    <tr>\n",
       "      <th>49996</th>\n",
       "      <td>49996</td>\n",
       "      <td>mala parcela mal diálogo mala actuación direcc...</td>\n",
       "      <td>0</td>\n",
       "    </tr>\n",
       "    <tr>\n",
       "      <th>49997</th>\n",
       "      <td>49997</td>\n",
       "      <td>católica enseñada escuelas primarias parroquia...</td>\n",
       "      <td>0</td>\n",
       "    </tr>\n",
       "    <tr>\n",
       "      <th>49998</th>\n",
       "      <td>49998</td>\n",
       "      <td>voy tener desacuerdo comentario anterior lado ...</td>\n",
       "      <td>0</td>\n",
       "    </tr>\n",
       "    <tr>\n",
       "      <th>49999</th>\n",
       "      <td>49999</td>\n",
       "      <td>nadie espera películas star trek altas artes f...</td>\n",
       "      <td>0</td>\n",
       "    </tr>\n",
       "  </tbody>\n",
       "</table>\n",
       "<p>49599 rows × 3 columns</p>\n",
       "</div>"
      ],
      "text/plain": [
       "          ID                                          review_es  sentimiento\n",
       "0          0  críticos mencionado después ver solo oz episod...            1\n",
       "1          1  pequeña pequeña producciónla técnica filmación...            1\n",
       "2          2  pensé manera maravillosa pasar tiempo fin sema...            1\n",
       "3          3  básicamente familia niño pequeño jake piensa z...            0\n",
       "4          4  amor tiempo petter mattei película visualmente...            1\n",
       "...      ...                                                ...          ...\n",
       "49995  49995  pensé película hizo buen trabajo derechano tan...            1\n",
       "49996  49996  mala parcela mal diálogo mala actuación direcc...            0\n",
       "49997  49997  católica enseñada escuelas primarias parroquia...            0\n",
       "49998  49998  voy tener desacuerdo comentario anterior lado ...            0\n",
       "49999  49999  nadie espera películas star trek altas artes f...            0\n",
       "\n",
       "[49599 rows x 3 columns]"
      ]
     },
     "metadata": {},
     "output_type": "display_data"
    }
   ],
   "source": [
    "display(df_preprocesado_copy)"
   ]
  },
  {
   "cell_type": "code",
   "execution_count": 29,
   "metadata": {},
   "outputs": [
    {
     "name": "stdout",
     "output_type": "stream",
     "text": [
      "Accuracy: 0.874260752688172\n",
      "Recall: 0.8969321851453176\n",
      "Precision: 0.8578046583451293\n",
      "f1 score: 0.8769321844372822\n"
     ]
    }
   ],
   "source": [
    "from sklearn.ensemble import VotingClassifier\n",
    "from sklearn.model_selection import cross_val_score\n",
    "from sklearn.model_selection import RepeatedStratifiedKFold\n",
    "\n",
    "df_preprocesado_copy = df_preprocesado.copy()\n",
    "df_preprocesado_copy['sentimiento'] = df_preprocesado_copy['sentimiento'].map({'negativo': 0, 'positivo': 1})\n",
    "X_train, X_test, y_train, y_test = train_test_split(df_preprocesado_copy['review_es'], df_preprocesado_copy['sentimiento'], test_size=0.3, random_state=42)\n",
    "\n",
    "estimators = [('xgb', modelo_xg_boost), ('lr', modelo_regresion_logistica), ('mnb', modelo_tfidf)]\n",
    "ensamble = VotingClassifier(estimators=estimators, voting='soft')\n",
    "ensamble.fit(X_train, y_train)\n",
    "\n",
    "prediccion = ensamble.predict(X_test)\n",
    "mostrar_scores(y_test, prediccion)"
   ]
  },
  {
   "cell_type": "code",
   "execution_count": 30,
   "metadata": {},
   "outputs": [
    {
     "name": "stdout",
     "output_type": "stream",
     "text": [
      "Accuracy: 0.9159538005126876\n",
      "Recall: 0.9333677094075856\n",
      "Precision: 0.902748531530533\n",
      "f1 score: 0.9178028169014084\n"
     ]
    }
   ],
   "source": [
    "prediccion_train = ensamble.predict(X_train)\n",
    "\n",
    "mostrar_scores(y_train, prediccion_train)"
   ]
  },
  {
   "cell_type": "markdown",
   "metadata": {},
   "source": [
    "#### Prediccion en los datos de test"
   ]
  },
  {
   "cell_type": "code",
   "execution_count": 31,
   "metadata": {},
   "outputs": [
    {
     "data": {
      "text/html": [
       "<div>\n",
       "<style scoped>\n",
       "    .dataframe tbody tr th:only-of-type {\n",
       "        vertical-align: middle;\n",
       "    }\n",
       "\n",
       "    .dataframe tbody tr th {\n",
       "        vertical-align: top;\n",
       "    }\n",
       "\n",
       "    .dataframe thead th {\n",
       "        text-align: right;\n",
       "    }\n",
       "</style>\n",
       "<table border=\"1\" class=\"dataframe\">\n",
       "  <thead>\n",
       "    <tr style=\"text-align: right;\">\n",
       "      <th></th>\n",
       "      <th>ID</th>\n",
       "      <th>review_es</th>\n",
       "    </tr>\n",
       "  </thead>\n",
       "  <tbody>\n",
       "    <tr>\n",
       "      <th>0</th>\n",
       "      <td>60000</td>\n",
       "      <td>La mayor virtud de esta película es su existen...</td>\n",
       "    </tr>\n",
       "    <tr>\n",
       "      <th>1</th>\n",
       "      <td>60001</td>\n",
       "      <td>No soy un experto cinéfilo, pero pocas veces m...</td>\n",
       "    </tr>\n",
       "    <tr>\n",
       "      <th>2</th>\n",
       "      <td>60002</td>\n",
       "      <td>Si no eres un incondicional del humor estilo T...</td>\n",
       "    </tr>\n",
       "    <tr>\n",
       "      <th>3</th>\n",
       "      <td>60003</td>\n",
       "      <td>No sé qué está pasando, si la gente se deja ll...</td>\n",
       "    </tr>\n",
       "    <tr>\n",
       "      <th>4</th>\n",
       "      <td>60004</td>\n",
       "      <td>Pero cuando amanece,y me quedo solo,siento en ...</td>\n",
       "    </tr>\n",
       "    <tr>\n",
       "      <th>...</th>\n",
       "      <td>...</td>\n",
       "      <td>...</td>\n",
       "    </tr>\n",
       "    <tr>\n",
       "      <th>8594</th>\n",
       "      <td>68594</td>\n",
       "      <td>Buena no, lo siguiente. Por fin un film serio ...</td>\n",
       "    </tr>\n",
       "    <tr>\n",
       "      <th>8595</th>\n",
       "      <td>68595</td>\n",
       "      <td>Me esperaba mucho, pero que mucho, más.Guión m...</td>\n",
       "    </tr>\n",
       "    <tr>\n",
       "      <th>8596</th>\n",
       "      <td>68596</td>\n",
       "      <td>De mal cuerpo como sensación al finalizar, de ...</td>\n",
       "    </tr>\n",
       "    <tr>\n",
       "      <th>8597</th>\n",
       "      <td>68597</td>\n",
       "      <td>Los que han añadido comentarios os lo han dich...</td>\n",
       "    </tr>\n",
       "    <tr>\n",
       "      <th>8598</th>\n",
       "      <td>68598</td>\n",
       "      <td>Fui a ver esta película de cine con entusiasmo...</td>\n",
       "    </tr>\n",
       "  </tbody>\n",
       "</table>\n",
       "<p>8599 rows × 2 columns</p>\n",
       "</div>"
      ],
      "text/plain": [
       "         ID                                          review_es\n",
       "0     60000  La mayor virtud de esta película es su existen...\n",
       "1     60001  No soy un experto cinéfilo, pero pocas veces m...\n",
       "2     60002  Si no eres un incondicional del humor estilo T...\n",
       "3     60003  No sé qué está pasando, si la gente se deja ll...\n",
       "4     60004  Pero cuando amanece,y me quedo solo,siento en ...\n",
       "...     ...                                                ...\n",
       "8594  68594  Buena no, lo siguiente. Por fin un film serio ...\n",
       "8595  68595  Me esperaba mucho, pero que mucho, más.Guión m...\n",
       "8596  68596  De mal cuerpo como sensación al finalizar, de ...\n",
       "8597  68597  Los que han añadido comentarios os lo han dich...\n",
       "8598  68598  Fui a ver esta película de cine con entusiasmo...\n",
       "\n",
       "[8599 rows x 2 columns]"
      ]
     },
     "execution_count": 31,
     "metadata": {},
     "output_type": "execute_result"
    }
   ],
   "source": [
    "df_test = pd.read_csv('test.csv', sep=',')\n",
    "df_test"
   ]
  },
  {
   "cell_type": "code",
   "execution_count": 34,
   "metadata": {},
   "outputs": [],
   "source": [
    "df_test_copia = df_test.copy()\n",
    "df_test_copia['review_es'] = df_test_copia['review_es'].apply(preprocess_text)\n",
    "\n",
    "train_sequences = tok.texts_to_sequences(df_test_copia['review_es'])\n",
    "train_sequences_matrix = pad_sequences(train_sequences, maxlen=max_len)\n",
    "prediccion_final = model.predict(train_sequences_matrix)\n",
    "prediccion_final = np.where(prediccion_final >= 0.5, 1, 0)\n",
    "\n",
    "\n",
    "prediccion_final = np.where(prediccion_final == 0, 'negativo', 'positivo')\n",
    "\n",
    "\n",
    "df_entrega = df_test.copy()\n",
    "\n",
    "df_entrega['sentimiento'] = prediccion_final\n",
    "df_entrega.drop('review_es', axis=1, inplace=True)\n",
    "\n",
    "df_entrega.to_csv('rnr_conv.csv', index=False)"
   ]
  },
  {
   "cell_type": "markdown",
   "metadata": {},
   "source": [
    "### Red Neuronal Recurrente"
   ]
  },
  {
   "cell_type": "code",
   "execution_count": null,
   "metadata": {},
   "outputs": [],
   "source": [
    "df_copia = df.copy()\n",
    "X_train, X_test, y_train, y_test = train_test_split(df_preprocesado_copy['review_es'], df_preprocesado_copy['sentimiento'], test_size=0.3, random_state=42)\n",
    "x_train, x_test, y_train, y_test = train_test_split(df_copia['review_es'], df_copia['sentimiento'], test_size=0.3, random_state=42)\n",
    "from keras.preprocessing.text import Tokenizer\n",
    "from keras.preprocessing.sequence import pad_sequences\n",
    "\n",
    "tokenizer = Tokenizer(num_words=10000, lower = True)\n",
    "tokenizer.fit_on_texts(x_train)\n",
    "\n",
    "vocabulario = tokenizer.word_index+1\n",
    "\n"
   ]
  },
  {
   "cell_type": "code",
   "execution_count": 20,
   "metadata": {},
   "outputs": [
    {
     "name": "stderr",
     "output_type": "stream",
     "text": [
      "2023-11-28 21:03:22.954805: I tensorflow/core/common_runtime/executor.cc:1197] [/device:CPU:0] (DEBUG INFO) Executor start aborting (this does not indicate an error and you can ignore this message): INVALID_ARGUMENT: You must feed a value for placeholder tensor 'Placeholder/_1' with dtype string and shape [39679]\n",
      "\t [[{{node Placeholder/_1}}]]\n"
     ]
    }
   ],
   "source": [
    "from collections import Counter\n",
    "\n",
    "df_preprocesado_copy = df.copy()\n",
    "train_df, test_df = train_test_split(df, test_size=0.2, random_state=42)\n",
    "\n",
    "train_dataset = tf.data.Dataset.from_tensor_slices((train_df['review_es'].values, train_df['sentimiento'].values))\n",
    "test_dataset = tf.data.Dataset.from_tensor_slices((test_df['review_es'].values, test_df['sentimiento'].values))\n",
    "\n",
    "def preprocess(X_batch, y_batch):\n",
    "    X_batch = tf.strings.substr(X_batch, 0, 300)\n",
    "    X_batch = tf.strings.regex_replace(X_batch, b\"<br\\\\s*/?>\", b\" \")\n",
    "    X_batch = tf.strings.regex_replace(X_batch, b\"[^a-zA-Z']\", b\" \")\n",
    "    X_batch = tf.strings.split(X_batch)\n",
    "    return X_batch.to_tensor(default_value=b\"<pad>\"), y_batch\n",
    "\n",
    "vocabulary = Counter()\n",
    "for X_batch, y_batch in train_dataset.batch(32).map(preprocess):\n",
    "    for review in X_batch:\n",
    "        vocabulary.update(list(review.numpy()))\n"
   ]
  },
  {
   "cell_type": "code",
   "execution_count": 21,
   "metadata": {},
   "outputs": [],
   "source": [
    "vocab_size = 10000\n",
    "truncated_vocabulary = [\n",
    " word for word, count in vocabulario.most_common()[:vocab_size]]"
   ]
  },
  {
   "cell_type": "code",
   "execution_count": 24,
   "metadata": {},
   "outputs": [],
   "source": [
    "words = tf.constant(truncated_vocabulary, dtype=tf.int64)\n",
    "word_ids = tf.range(len(truncated_vocabulary), dtype=tf.int64)\n",
    "vocab_init = tf.lookup.KeyValueTensorInitializer(words, word_ids)\n",
    "num_oov_buckets = 1000\n",
    "table = tf.lookup.StaticVocabularyTable(vocab_init, num_oov_buckets)"
   ]
  },
  {
   "cell_type": "code",
   "execution_count": 27,
   "metadata": {},
   "outputs": [],
   "source": [
    "def encode_words(X_batch, y_batch):\n",
    "    X_batch_int64 = tf.strings.to_number(X_batch, out_type=tf.int64)\n",
    "    return table.lookup(X_batch_int64), y_batch\n",
    "train_set = train_dataset.batch(32).map(preprocess)\n",
    "train_set = train_set.map(encode_words).prefetch(1)"
   ]
  },
  {
   "cell_type": "code",
   "execution_count": 30,
   "metadata": {},
   "outputs": [
    {
     "name": "stderr",
     "output_type": "stream",
     "text": [
      "2023-11-28 21:14:37.514105: I tensorflow/core/common_runtime/executor.cc:1197] [/device:CPU:0] (DEBUG INFO) Executor start aborting (this does not indicate an error and you can ignore this message): INVALID_ARGUMENT: You must feed a value for placeholder tensor 'gradients/split_2_grad/concat/split_2/split_dim' with dtype int32\n",
      "\t [[{{node gradients/split_2_grad/concat/split_2/split_dim}}]]\n",
      "2023-11-28 21:14:37.519931: I tensorflow/core/common_runtime/executor.cc:1197] [/device:CPU:0] (DEBUG INFO) Executor start aborting (this does not indicate an error and you can ignore this message): INVALID_ARGUMENT: You must feed a value for placeholder tensor 'gradients/split_grad/concat/split/split_dim' with dtype int32\n",
      "\t [[{{node gradients/split_grad/concat/split/split_dim}}]]\n",
      "2023-11-28 21:14:37.525235: I tensorflow/core/common_runtime/executor.cc:1197] [/device:CPU:0] (DEBUG INFO) Executor start aborting (this does not indicate an error and you can ignore this message): INVALID_ARGUMENT: You must feed a value for placeholder tensor 'gradients/split_1_grad/concat/split_1/split_dim' with dtype int32\n",
      "\t [[{{node gradients/split_1_grad/concat/split_1/split_dim}}]]\n",
      "2023-11-28 21:14:37.846700: I tensorflow/core/common_runtime/executor.cc:1197] [/device:CPU:0] (DEBUG INFO) Executor start aborting (this does not indicate an error and you can ignore this message): INVALID_ARGUMENT: You must feed a value for placeholder tensor 'gradients/split_2_grad/concat/split_2/split_dim' with dtype int32\n",
      "\t [[{{node gradients/split_2_grad/concat/split_2/split_dim}}]]\n",
      "2023-11-28 21:14:37.853789: I tensorflow/core/common_runtime/executor.cc:1197] [/device:CPU:0] (DEBUG INFO) Executor start aborting (this does not indicate an error and you can ignore this message): INVALID_ARGUMENT: You must feed a value for placeholder tensor 'gradients/split_grad/concat/split/split_dim' with dtype int32\n",
      "\t [[{{node gradients/split_grad/concat/split/split_dim}}]]\n",
      "2023-11-28 21:14:37.856083: I tensorflow/core/common_runtime/executor.cc:1197] [/device:CPU:0] (DEBUG INFO) Executor start aborting (this does not indicate an error and you can ignore this message): INVALID_ARGUMENT: You must feed a value for placeholder tensor 'gradients/split_1_grad/concat/split_1/split_dim' with dtype int32\n",
      "\t [[{{node gradients/split_1_grad/concat/split_1/split_dim}}]]\n",
      "2023-11-28 21:14:37.920247: I tensorflow/core/common_runtime/executor.cc:1197] [/device:CPU:0] (DEBUG INFO) Executor start aborting (this does not indicate an error and you can ignore this message): INVALID_ARGUMENT: You must feed a value for placeholder tensor 'Placeholder/_7' with dtype resource\n",
      "\t [[{{node Placeholder/_7}}]]\n",
      "2023-11-28 21:14:37.981038: W tensorflow/core/framework/op_kernel.cc:1807] OP_REQUIRES failed at cast_op.cc:121 : UNIMPLEMENTED: Cast string to float is not supported\n"
     ]
    },
    {
     "ename": "UnimplementedError",
     "evalue": "{{function_node __wrapped__MakeIterator_device_/job:localhost/replica:0/task:0/device:CPU:0}} Cast string to float is not supported\n\t [[{{node Cast}}]] [Op:MakeIterator]",
     "output_type": "error",
     "traceback": [
      "\u001b[0;31m---------------------------------------------------------------------------\u001b[0m",
      "\u001b[0;31mUnimplementedError\u001b[0m                        Traceback (most recent call last)",
      "\u001b[1;32m/home/mateov/tp2_orga/tp2/7506R_TP2_GRUPO23_ENTREGA.ipynb Cell 65\u001b[0m line \u001b[0;36m1\n\u001b[1;32m      <a href='vscode-notebook-cell://wsl%2Bubuntu/home/mateov/tp2_orga/tp2/7506R_TP2_GRUPO23_ENTREGA.ipynb#Y124sdnNjb2RlLXJlbW90ZQ%3D%3D?line=6'>7</a>\u001b[0m model \u001b[39m=\u001b[39m keras\u001b[39m.\u001b[39mmodels\u001b[39m.\u001b[39mSequential([\n\u001b[1;32m      <a href='vscode-notebook-cell://wsl%2Bubuntu/home/mateov/tp2_orga/tp2/7506R_TP2_GRUPO23_ENTREGA.ipynb#Y124sdnNjb2RlLXJlbW90ZQ%3D%3D?line=7'>8</a>\u001b[0m  keras\u001b[39m.\u001b[39mlayers\u001b[39m.\u001b[39mEmbedding(vocab_size \u001b[39m+\u001b[39m num_oov_buckets, embed_size,\n\u001b[1;32m      <a href='vscode-notebook-cell://wsl%2Bubuntu/home/mateov/tp2_orga/tp2/7506R_TP2_GRUPO23_ENTREGA.ipynb#Y124sdnNjb2RlLXJlbW90ZQ%3D%3D?line=8'>9</a>\u001b[0m  input_shape\u001b[39m=\u001b[39m[\u001b[39mNone\u001b[39;00m]),\n\u001b[0;32m   (...)\u001b[0m\n\u001b[1;32m     <a href='vscode-notebook-cell://wsl%2Bubuntu/home/mateov/tp2_orga/tp2/7506R_TP2_GRUPO23_ENTREGA.ipynb#Y124sdnNjb2RlLXJlbW90ZQ%3D%3D?line=11'>12</a>\u001b[0m  keras\u001b[39m.\u001b[39mlayers\u001b[39m.\u001b[39mDense(\u001b[39m1\u001b[39m, activation\u001b[39m=\u001b[39m\u001b[39m\"\u001b[39m\u001b[39msigmoid\u001b[39m\u001b[39m\"\u001b[39m)\n\u001b[1;32m     <a href='vscode-notebook-cell://wsl%2Bubuntu/home/mateov/tp2_orga/tp2/7506R_TP2_GRUPO23_ENTREGA.ipynb#Y124sdnNjb2RlLXJlbW90ZQ%3D%3D?line=12'>13</a>\u001b[0m ])\n\u001b[1;32m     <a href='vscode-notebook-cell://wsl%2Bubuntu/home/mateov/tp2_orga/tp2/7506R_TP2_GRUPO23_ENTREGA.ipynb#Y124sdnNjb2RlLXJlbW90ZQ%3D%3D?line=13'>14</a>\u001b[0m model\u001b[39m.\u001b[39mcompile(loss\u001b[39m=\u001b[39m\u001b[39m\"\u001b[39m\u001b[39mbinary_crossentropy\u001b[39m\u001b[39m\"\u001b[39m, optimizer\u001b[39m=\u001b[39m\u001b[39m\"\u001b[39m\u001b[39madam\u001b[39m\u001b[39m\"\u001b[39m,\n\u001b[1;32m     <a href='vscode-notebook-cell://wsl%2Bubuntu/home/mateov/tp2_orga/tp2/7506R_TP2_GRUPO23_ENTREGA.ipynb#Y124sdnNjb2RlLXJlbW90ZQ%3D%3D?line=14'>15</a>\u001b[0m  metrics\u001b[39m=\u001b[39m[\u001b[39m\"\u001b[39m\u001b[39maccuracy\u001b[39m\u001b[39m\"\u001b[39m])\n\u001b[0;32m---> <a href='vscode-notebook-cell://wsl%2Bubuntu/home/mateov/tp2_orga/tp2/7506R_TP2_GRUPO23_ENTREGA.ipynb#Y124sdnNjb2RlLXJlbW90ZQ%3D%3D?line=15'>16</a>\u001b[0m history \u001b[39m=\u001b[39m model\u001b[39m.\u001b[39;49mfit(train_set, epochs\u001b[39m=\u001b[39;49m\u001b[39m5\u001b[39;49m)\n",
      "File \u001b[0;32m~/programas/anaconda3/lib/python3.11/site-packages/keras/utils/traceback_utils.py:70\u001b[0m, in \u001b[0;36mfilter_traceback.<locals>.error_handler\u001b[0;34m(*args, **kwargs)\u001b[0m\n\u001b[1;32m     67\u001b[0m     filtered_tb \u001b[39m=\u001b[39m _process_traceback_frames(e\u001b[39m.\u001b[39m__traceback__)\n\u001b[1;32m     68\u001b[0m     \u001b[39m# To get the full stack trace, call:\u001b[39;00m\n\u001b[1;32m     69\u001b[0m     \u001b[39m# `tf.debugging.disable_traceback_filtering()`\u001b[39;00m\n\u001b[0;32m---> 70\u001b[0m     \u001b[39mraise\u001b[39;00m e\u001b[39m.\u001b[39mwith_traceback(filtered_tb) \u001b[39mfrom\u001b[39;00m \u001b[39mNone\u001b[39;00m\n\u001b[1;32m     71\u001b[0m \u001b[39mfinally\u001b[39;00m:\n\u001b[1;32m     72\u001b[0m     \u001b[39mdel\u001b[39;00m filtered_tb\n",
      "File \u001b[0;32m~/programas/anaconda3/lib/python3.11/site-packages/tensorflow/python/framework/ops.py:7262\u001b[0m, in \u001b[0;36mraise_from_not_ok_status\u001b[0;34m(e, name)\u001b[0m\n\u001b[1;32m   7260\u001b[0m \u001b[39mdef\u001b[39;00m \u001b[39mraise_from_not_ok_status\u001b[39m(e, name):\n\u001b[1;32m   7261\u001b[0m   e\u001b[39m.\u001b[39mmessage \u001b[39m+\u001b[39m\u001b[39m=\u001b[39m (\u001b[39m\"\u001b[39m\u001b[39m name: \u001b[39m\u001b[39m\"\u001b[39m \u001b[39m+\u001b[39m name \u001b[39mif\u001b[39;00m name \u001b[39mis\u001b[39;00m \u001b[39mnot\u001b[39;00m \u001b[39mNone\u001b[39;00m \u001b[39melse\u001b[39;00m \u001b[39m\"\u001b[39m\u001b[39m\"\u001b[39m)\n\u001b[0;32m-> 7262\u001b[0m   \u001b[39mraise\u001b[39;00m core\u001b[39m.\u001b[39m_status_to_exception(e) \u001b[39mfrom\u001b[39;00m \u001b[39mNone\u001b[39;00m\n",
      "\u001b[0;31mUnimplementedError\u001b[0m: {{function_node __wrapped__MakeIterator_device_/job:localhost/replica:0/task:0/device:CPU:0}} Cast string to float is not supported\n\t [[{{node Cast}}]] [Op:MakeIterator]"
     ]
    }
   ],
   "source": [
    "train_set = train_set.map(lambda x, y: (tf.strings.as_string(x), y))\n",
    "\n",
    "\n",
    "train_set = train_set.map(lambda x, y: (x, tf.cast(y, tf.float32)))\n",
    "embed_size = 128\n",
    "model = keras.models.Sequential([\n",
    " keras.layers.Embedding(vocab_size + num_oov_buckets, embed_size,\n",
    " input_shape=[None]),\n",
    " keras.layers.GRU(128, return_sequences=True),\n",
    " keras.layers.GRU(128),\n",
    " keras.layers.Dense(1, activation=\"sigmoid\")\n",
    "])\n",
    "model.compile(loss=\"binary_crossentropy\", optimizer=\"adam\",\n",
    " metrics=[\"accuracy\"])\n",
    "history = model.fit(train_set, epochs=5)"
   ]
  },
  {
   "cell_type": "code",
   "execution_count": 32,
   "metadata": {},
   "outputs": [
    {
     "ename": "IndexError",
     "evalue": "single positional indexer is out-of-bounds",
     "output_type": "error",
     "traceback": [
      "\u001b[0;31m---------------------------------------------------------------------------\u001b[0m",
      "\u001b[0;31mIndexError\u001b[0m                                Traceback (most recent call last)",
      "\u001b[1;32m/home/mateov/tp2_orga/tp2/7506R_TP2_GRUPO23_ENTREGA.ipynb Cell 66\u001b[0m line \u001b[0;36m2\n\u001b[1;32m     <a href='vscode-notebook-cell://wsl%2Bubuntu/home/mateov/tp2_orga/tp2/7506R_TP2_GRUPO23_ENTREGA.ipynb#Y126sdnNjb2RlLXJlbW90ZQ%3D%3D?line=24'>25</a>\u001b[0m     \u001b[39mreturn\u001b[39;00m text\n\u001b[1;32m     <a href='vscode-notebook-cell://wsl%2Bubuntu/home/mateov/tp2_orga/tp2/7506R_TP2_GRUPO23_ENTREGA.ipynb#Y126sdnNjb2RlLXJlbW90ZQ%3D%3D?line=26'>27</a>\u001b[0m train_df[\u001b[39m'\u001b[39m\u001b[39mreview_es\u001b[39m\u001b[39m'\u001b[39m] \u001b[39m=\u001b[39m train_df[\u001b[39m'\u001b[39m\u001b[39mreview_es\u001b[39m\u001b[39m'\u001b[39m]\u001b[39m.\u001b[39mapply(\u001b[39mlambda\u001b[39;00m x: clean_text(x))\n\u001b[0;32m---> <a href='vscode-notebook-cell://wsl%2Bubuntu/home/mateov/tp2_orga/tp2/7506R_TP2_GRUPO23_ENTREGA.ipynb#Y126sdnNjb2RlLXJlbW90ZQ%3D%3D?line=27'>28</a>\u001b[0m x_train, y_train \u001b[39m=\u001b[39m train_df\u001b[39m.\u001b[39;49miloc[:, \u001b[39m3\u001b[39;49m]\u001b[39m.\u001b[39mvalues, train_df\u001b[39m.\u001b[39miloc[:, \u001b[39m4\u001b[39m]\u001b[39m.\u001b[39mvalues\n\u001b[1;32m     <a href='vscode-notebook-cell://wsl%2Bubuntu/home/mateov/tp2_orga/tp2/7506R_TP2_GRUPO23_ENTREGA.ipynb#Y126sdnNjb2RlLXJlbW90ZQ%3D%3D?line=29'>30</a>\u001b[0m tokenizer \u001b[39m=\u001b[39m Tokenizer(num_words\u001b[39m=\u001b[39mvocab_size)\n\u001b[1;32m     <a href='vscode-notebook-cell://wsl%2Bubuntu/home/mateov/tp2_orga/tp2/7506R_TP2_GRUPO23_ENTREGA.ipynb#Y126sdnNjb2RlLXJlbW90ZQ%3D%3D?line=31'>32</a>\u001b[0m tokenizer\u001b[39m.\u001b[39mfit_on_texts(x_train)\n",
      "File \u001b[0;32m~/programas/anaconda3/lib/python3.11/site-packages/pandas/core/indexing.py:1147\u001b[0m, in \u001b[0;36m_LocationIndexer.__getitem__\u001b[0;34m(self, key)\u001b[0m\n\u001b[1;32m   1145\u001b[0m     \u001b[39mif\u001b[39;00m \u001b[39mself\u001b[39m\u001b[39m.\u001b[39m_is_scalar_access(key):\n\u001b[1;32m   1146\u001b[0m         \u001b[39mreturn\u001b[39;00m \u001b[39mself\u001b[39m\u001b[39m.\u001b[39mobj\u001b[39m.\u001b[39m_get_value(\u001b[39m*\u001b[39mkey, takeable\u001b[39m=\u001b[39m\u001b[39mself\u001b[39m\u001b[39m.\u001b[39m_takeable)\n\u001b[0;32m-> 1147\u001b[0m     \u001b[39mreturn\u001b[39;00m \u001b[39mself\u001b[39;49m\u001b[39m.\u001b[39;49m_getitem_tuple(key)\n\u001b[1;32m   1148\u001b[0m \u001b[39melse\u001b[39;00m:\n\u001b[1;32m   1149\u001b[0m     \u001b[39m# we by definition only have the 0th axis\u001b[39;00m\n\u001b[1;32m   1150\u001b[0m     axis \u001b[39m=\u001b[39m \u001b[39mself\u001b[39m\u001b[39m.\u001b[39maxis \u001b[39mor\u001b[39;00m \u001b[39m0\u001b[39m\n",
      "File \u001b[0;32m~/programas/anaconda3/lib/python3.11/site-packages/pandas/core/indexing.py:1652\u001b[0m, in \u001b[0;36m_iLocIndexer._getitem_tuple\u001b[0;34m(self, tup)\u001b[0m\n\u001b[1;32m   1651\u001b[0m \u001b[39mdef\u001b[39;00m \u001b[39m_getitem_tuple\u001b[39m(\u001b[39mself\u001b[39m, tup: \u001b[39mtuple\u001b[39m):\n\u001b[0;32m-> 1652\u001b[0m     tup \u001b[39m=\u001b[39m \u001b[39mself\u001b[39;49m\u001b[39m.\u001b[39;49m_validate_tuple_indexer(tup)\n\u001b[1;32m   1653\u001b[0m     \u001b[39mwith\u001b[39;00m suppress(IndexingError):\n\u001b[1;32m   1654\u001b[0m         \u001b[39mreturn\u001b[39;00m \u001b[39mself\u001b[39m\u001b[39m.\u001b[39m_getitem_lowerdim(tup)\n",
      "File \u001b[0;32m~/programas/anaconda3/lib/python3.11/site-packages/pandas/core/indexing.py:940\u001b[0m, in \u001b[0;36m_LocationIndexer._validate_tuple_indexer\u001b[0;34m(self, key)\u001b[0m\n\u001b[1;32m    938\u001b[0m \u001b[39mfor\u001b[39;00m i, k \u001b[39min\u001b[39;00m \u001b[39menumerate\u001b[39m(key):\n\u001b[1;32m    939\u001b[0m     \u001b[39mtry\u001b[39;00m:\n\u001b[0;32m--> 940\u001b[0m         \u001b[39mself\u001b[39;49m\u001b[39m.\u001b[39;49m_validate_key(k, i)\n\u001b[1;32m    941\u001b[0m     \u001b[39mexcept\u001b[39;00m \u001b[39mValueError\u001b[39;00m \u001b[39mas\u001b[39;00m err:\n\u001b[1;32m    942\u001b[0m         \u001b[39mraise\u001b[39;00m \u001b[39mValueError\u001b[39;00m(\n\u001b[1;32m    943\u001b[0m             \u001b[39m\"\u001b[39m\u001b[39mLocation based indexing can only have \u001b[39m\u001b[39m\"\u001b[39m\n\u001b[1;32m    944\u001b[0m             \u001b[39mf\u001b[39m\u001b[39m\"\u001b[39m\u001b[39m[\u001b[39m\u001b[39m{\u001b[39;00m\u001b[39mself\u001b[39m\u001b[39m.\u001b[39m_valid_types\u001b[39m}\u001b[39;00m\u001b[39m] types\u001b[39m\u001b[39m\"\u001b[39m\n\u001b[1;32m    945\u001b[0m         ) \u001b[39mfrom\u001b[39;00m \u001b[39merr\u001b[39;00m\n",
      "File \u001b[0;32m~/programas/anaconda3/lib/python3.11/site-packages/pandas/core/indexing.py:1554\u001b[0m, in \u001b[0;36m_iLocIndexer._validate_key\u001b[0;34m(self, key, axis)\u001b[0m\n\u001b[1;32m   1552\u001b[0m     \u001b[39mreturn\u001b[39;00m\n\u001b[1;32m   1553\u001b[0m \u001b[39melif\u001b[39;00m is_integer(key):\n\u001b[0;32m-> 1554\u001b[0m     \u001b[39mself\u001b[39;49m\u001b[39m.\u001b[39;49m_validate_integer(key, axis)\n\u001b[1;32m   1555\u001b[0m \u001b[39melif\u001b[39;00m \u001b[39misinstance\u001b[39m(key, \u001b[39mtuple\u001b[39m):\n\u001b[1;32m   1556\u001b[0m     \u001b[39m# a tuple should already have been caught by this point\u001b[39;00m\n\u001b[1;32m   1557\u001b[0m     \u001b[39m# so don't treat a tuple as a valid indexer\u001b[39;00m\n\u001b[1;32m   1558\u001b[0m     \u001b[39mraise\u001b[39;00m IndexingError(\u001b[39m\"\u001b[39m\u001b[39mToo many indexers\u001b[39m\u001b[39m\"\u001b[39m)\n",
      "File \u001b[0;32m~/programas/anaconda3/lib/python3.11/site-packages/pandas/core/indexing.py:1647\u001b[0m, in \u001b[0;36m_iLocIndexer._validate_integer\u001b[0;34m(self, key, axis)\u001b[0m\n\u001b[1;32m   1645\u001b[0m len_axis \u001b[39m=\u001b[39m \u001b[39mlen\u001b[39m(\u001b[39mself\u001b[39m\u001b[39m.\u001b[39mobj\u001b[39m.\u001b[39m_get_axis(axis))\n\u001b[1;32m   1646\u001b[0m \u001b[39mif\u001b[39;00m key \u001b[39m>\u001b[39m\u001b[39m=\u001b[39m len_axis \u001b[39mor\u001b[39;00m key \u001b[39m<\u001b[39m \u001b[39m-\u001b[39mlen_axis:\n\u001b[0;32m-> 1647\u001b[0m     \u001b[39mraise\u001b[39;00m \u001b[39mIndexError\u001b[39;00m(\u001b[39m\"\u001b[39m\u001b[39msingle positional indexer is out-of-bounds\u001b[39m\u001b[39m\"\u001b[39m)\n",
      "\u001b[0;31mIndexError\u001b[0m: single positional indexer is out-of-bounds"
     ]
    }
   ],
   "source": [
    "import re\n",
    "import nltk\n",
    "import numpy as np\n",
    "import pandas as pd\n",
    "from tensorflow.keras.models import Sequential\n",
    "from tensorflow.keras.preprocessing.text import Tokenizer\n",
    "from tensorflow.keras.layers import Embedding, LSTM, Dense\n",
    "from tensorflow.keras.preprocessing.sequence import pad_sequences\n",
    "\n",
    "vocab_size = 10000\n",
    "batch_size = 32\n",
    "epochs = 4\n",
    "max_len = 25\n",
    "\n",
    "train_df = pd.read_csv('train.csv')\n",
    "test_df = pd.read_csv('test.csv')\n",
    "\n",
    "def clean_text(text):\n",
    "    text = re.sub(r'https?://\\S+|www.\\S+', '', text)\n",
    "    text = re.sub(r'[^a-zA-Z]', ' ', text)\n",
    "    text = text.lower()\n",
    "    text = text.split()\n",
    "    text = [word for word in text if not word in set(nltk.corpus.stopwords.words('english'))]\n",
    "    text = ' '.join(text)\n",
    "    return text\n",
    "\n",
    "train_df['review_es'] = train_df['review_es'].apply(lambda x: clean_text(x))\n",
    "x_train, y_train = train_df.iloc[:, 3].values, train_df.iloc[:, 4].values\n",
    "\n",
    "tokenizer = Tokenizer(num_words=vocab_size)\n",
    "\n",
    "tokenizer.fit_on_texts(x_train)\n",
    "sequences = tokenizer.texts_to_sequences(x_train)\n",
    "x_train_new = pad_sequences(sequences, maxlen=max_len)\n",
    "\n",
    "model = Sequential()\n",
    "model.add(Embedding(vocab_size, 128))\n",
    "model.add(LSTM(128, dropout=0.2))\n",
    "model.add(Dense(32, activation='relu'))\n",
    "model.add(Dense(1, activation='sigmoid'))\n",
    "\n",
    "model.compile(loss='binary_crossentropy', optimizer = 'RMSprop', metrics=['accuracy'])\n",
    "\n",
    "model.fit(x_train_new, y_train, batch_size=batch_size, epochs=epochs, verbose = 1)"
   ]
  },
  {
   "cell_type": "code",
   "execution_count": null,
   "metadata": {},
   "outputs": [],
   "source": [
    "prediccion = model.predict(x_train_new)\n",
    "prediccion = np.where(prediccion >= 0.5, 1, 0)\n",
    "mostrar_scores(y_test, prediccion)\n",
    "prediccion = np.where(prediccion == 1, 'positivo', 'negativo')"
   ]
  },
  {
   "cell_type": "code",
   "execution_count": 12,
   "metadata": {},
   "outputs": [],
   "source": [
    "from nltk.tokenize.toktok import ToktokTokenizer\n",
    "tokenizer = ToktokTokenizer() \n",
    "STOPWORDS = set(stopwords.words(\"spanish\"))\n",
    "stemmer = nltk.stem.SnowballStemmer(\"spanish\")\n",
    "\n",
    "def limpiar_texto(texto):\n",
    "    # Eliminamos los caracteres especiales\n",
    "    texto = re.sub(r'\\W', ' ', str(texto))\n",
    "    # Eliminado las palabras que tengo un solo caracter\n",
    "    texto = re.sub(r'\\s+[a-zA-Z]\\s+', ' ', texto)\n",
    "    # Sustituir los espacios en blanco en uno solo\n",
    "    texto = re.sub(r'\\s+', ' ', texto, flags=re.I)\n",
    "    # Convertimos textos a minusculas\n",
    "    texto = texto.lower()\n",
    "    return texto\n",
    "\n",
    "def filtrar_stopword_digitos(tokens):\n",
    "    return [token for token in tokens if token not in STOPWORDS \n",
    "            and not token.isdigit()]\n",
    "\n",
    "def stem_palabras(tokens):\n",
    "    return [stemmer.stem(token) for token in tokens]\n",
    "\n",
    "def tokenize(texto):\n",
    "    text_cleaned = limpiar_texto(texto)\n",
    "    tokens = [word for word in tokenizer.tokenize(text_cleaned) if len(word) > 1]\n",
    "    tokens = filtrar_stopword_digitos(tokens)\n",
    "    stems = stem_palabras(tokens)\n",
    "    return stems\n",
    "\n",
    "# df_preprocesado_copy = df.copy()\n",
    "# df_preprocesado_copy['review_es'] = df_preprocesado_copy['review_es'].apply(tokenize)\n",
    "\n",
    "# df_preprocesado_copy['review_es'] = df_preprocesado_copy['review_es'].apply(lambda x: ' '.join(x))\n",
    "\n",
    "# df_preprocesado_copy.head(10)\n"
   ]
  },
  {
   "cell_type": "code",
   "execution_count": 14,
   "metadata": {},
   "outputs": [
    {
     "data": {
      "text/html": [
       "<div>\n",
       "<style scoped>\n",
       "    .dataframe tbody tr th:only-of-type {\n",
       "        vertical-align: middle;\n",
       "    }\n",
       "\n",
       "    .dataframe tbody tr th {\n",
       "        vertical-align: top;\n",
       "    }\n",
       "\n",
       "    .dataframe thead th {\n",
       "        text-align: right;\n",
       "    }\n",
       "</style>\n",
       "<table border=\"1\" class=\"dataframe\">\n",
       "  <thead>\n",
       "    <tr style=\"text-align: right;\">\n",
       "      <th></th>\n",
       "      <th>ID</th>\n",
       "      <th>review_es</th>\n",
       "      <th>sentimiento</th>\n",
       "    </tr>\n",
       "  </thead>\n",
       "  <tbody>\n",
       "    <tr>\n",
       "      <th>0</th>\n",
       "      <td>0</td>\n",
       "      <td>Uno de los otros críticos ha mencionado que de...</td>\n",
       "      <td>1</td>\n",
       "    </tr>\n",
       "    <tr>\n",
       "      <th>1</th>\n",
       "      <td>1</td>\n",
       "      <td>Una pequeña pequeña producción.La técnica de f...</td>\n",
       "      <td>1</td>\n",
       "    </tr>\n",
       "    <tr>\n",
       "      <th>2</th>\n",
       "      <td>2</td>\n",
       "      <td>Pensé que esta era una manera maravillosa de p...</td>\n",
       "      <td>1</td>\n",
       "    </tr>\n",
       "    <tr>\n",
       "      <th>3</th>\n",
       "      <td>3</td>\n",
       "      <td>Básicamente, hay una familia donde un niño peq...</td>\n",
       "      <td>0</td>\n",
       "    </tr>\n",
       "    <tr>\n",
       "      <th>4</th>\n",
       "      <td>4</td>\n",
       "      <td>El \"amor en el tiempo\" de Petter Mattei es una...</td>\n",
       "      <td>1</td>\n",
       "    </tr>\n",
       "    <tr>\n",
       "      <th>...</th>\n",
       "      <td>...</td>\n",
       "      <td>...</td>\n",
       "      <td>...</td>\n",
       "    </tr>\n",
       "    <tr>\n",
       "      <th>49995</th>\n",
       "      <td>49995</td>\n",
       "      <td>Pensé que esta película hizo un buen trabajo a...</td>\n",
       "      <td>1</td>\n",
       "    </tr>\n",
       "    <tr>\n",
       "      <th>49996</th>\n",
       "      <td>49996</td>\n",
       "      <td>Mala parcela, mal diálogo, mala actuación, dir...</td>\n",
       "      <td>0</td>\n",
       "    </tr>\n",
       "    <tr>\n",
       "      <th>49997</th>\n",
       "      <td>49997</td>\n",
       "      <td>Soy católica enseñada en escuelas primarias pa...</td>\n",
       "      <td>0</td>\n",
       "    </tr>\n",
       "    <tr>\n",
       "      <th>49998</th>\n",
       "      <td>49998</td>\n",
       "      <td>Voy a tener que estar en desacuerdo con el com...</td>\n",
       "      <td>0</td>\n",
       "    </tr>\n",
       "    <tr>\n",
       "      <th>49999</th>\n",
       "      <td>49999</td>\n",
       "      <td>Nadie espera que las películas de Star Trek se...</td>\n",
       "      <td>0</td>\n",
       "    </tr>\n",
       "  </tbody>\n",
       "</table>\n",
       "<p>49599 rows × 3 columns</p>\n",
       "</div>"
      ],
      "text/plain": [
       "          ID                                          review_es  sentimiento\n",
       "0          0  Uno de los otros críticos ha mencionado que de...            1\n",
       "1          1  Una pequeña pequeña producción.La técnica de f...            1\n",
       "2          2  Pensé que esta era una manera maravillosa de p...            1\n",
       "3          3  Básicamente, hay una familia donde un niño peq...            0\n",
       "4          4  El \"amor en el tiempo\" de Petter Mattei es una...            1\n",
       "...      ...                                                ...          ...\n",
       "49995  49995  Pensé que esta película hizo un buen trabajo a...            1\n",
       "49996  49996  Mala parcela, mal diálogo, mala actuación, dir...            0\n",
       "49997  49997  Soy católica enseñada en escuelas primarias pa...            0\n",
       "49998  49998  Voy a tener que estar en desacuerdo con el com...            0\n",
       "49999  49999  Nadie espera que las películas de Star Trek se...            0\n",
       "\n",
       "[49599 rows x 3 columns]"
      ]
     },
     "execution_count": 14,
     "metadata": {},
     "output_type": "execute_result"
    }
   ],
   "source": [
    "df_preprocesado_copy['sentimiento'] = df_preprocesado_copy['sentimiento'].map({'negativo': 0, 'positivo': 1})\n",
    "X_train, X_test, y_train, y_test = train_test_split(df_preprocesado_copy['review_es'], df_preprocesado_copy['sentimiento'], test_size=0.2, random_state=42)\n",
    "df_preprocesado_copy"
   ]
  },
  {
   "cell_type": "code",
   "execution_count": 21,
   "metadata": {},
   "outputs": [
    {
     "name": "stderr",
     "output_type": "stream",
     "text": [
      "/home/mateov/programas/anaconda3/lib/python3.11/site-packages/xgboost/data.py:440: FutureWarning: is_sparse is deprecated and will be removed in a future version. Check `isinstance(dtype, pd.SparseDtype)` instead.\n",
      "  if is_sparse(data):\n"
     ]
    },
    {
     "name": "stdout",
     "output_type": "stream",
     "text": [
      "F1_score: 0.8666208656394151\n",
      "F1_score train: 0.9194526242854668\n"
     ]
    }
   ],
   "source": [
    "modelo_xg_boost = Pipeline([\n",
    "    ('tfidf', TfidfVectorizer(max_features=5000)), \n",
    "    ('xgb', XGBClassifier(\n",
    "            objective='binary:logistic',\n",
    "            n_jobs=-1,\n",
    "            random_state=42,\n",
    "            colsample_bytree=0.6, \n",
    "            subsample=0.6,\n",
    "            gamma=0.3, \n",
    "            max_depth=5,\n",
    "            learning_rate=0.089, \n",
    "            min_child_weight=10, \n",
    "            n_estimators=700, \n",
    "    ))])\n",
    "\n",
    "modelo_xg_boost.fit(X_train, y_train)\n",
    "\n",
    "y_pred = modelo_xg_boost.predict(X_test)\n",
    "f1 = f1_score(y_test, y_pred)\n",
    "print(f'F1_score: {f1}')\n",
    "f1_train = f1_score(y_train, modelo_xg_boost.predict(X_train))\n",
    "print(f'F1_score train: {f1_train}')"
   ]
  },
  {
   "cell_type": "code",
   "execution_count": 35,
   "metadata": {},
   "outputs": [
    {
     "name": "stdout",
     "output_type": "stream",
     "text": [
      "F1_score: 0.8363066065477358\n",
      "F1_score train: 0.8448664864998885\n"
     ]
    }
   ],
   "source": [
    "from sklearn.naive_bayes import MultinomialNB\n",
    "from sklearn.pipeline import Pipeline\n",
    "from sklearn.feature_extraction.text import TfidfVectorizer\n",
    "from sklearn.metrics import f1_score\n",
    "\n",
    "modelo = Pipeline([('tfidf', TfidfVectorizer(max_features=5000)), ('mnb',MultinomialNB(alpha=0.5))])\n",
    "modelo.fit(X_train, y_train)\n",
    "\n",
    "y_pred = modelo.predict(X_test)\n",
    "f1 = f1_score(y_test, y_pred)\n",
    "print(f'F1_score: {f1}')\n",
    "f1_train = f1_score(y_train, modelo.predict(X_train))\n",
    "print(f'F1_score train: {f1_train}')"
   ]
  },
  {
   "cell_type": "code",
   "execution_count": 47,
   "metadata": {},
   "outputs": [
    {
     "name": "stdout",
     "output_type": "stream",
     "text": [
      "F1_score: 0.8763557483731019\n",
      "F1_score train: 0.9142376929541333\n"
     ]
    }
   ],
   "source": [
    "from sklearn.linear_model import LogisticRegression\n",
    "from sklearn.pipeline import Pipeline\n",
    "from sklearn.feature_extraction.text import TfidfVectorizer\n",
    "from sklearn.metrics import f1_score\n",
    "\n",
    "modelo = Pipeline([('tfidf', TfidfVectorizer(max_features=5000)), ('lr', LogisticRegression(\n",
    "    penalty='l2',\n",
    "    C=10,\n",
    "    solver='liblinear',\n",
    "    max_iter=100, \n",
    "    l1_ratio=None, \n",
    "    tol=1e-4\n",
    "))])\n",
    "modelo.fit(X_train, y_train)\n",
    "\n",
    "y_pred = modelo.predict(X_test)\n",
    "f1 = f1_score(y_test, y_pred)\n",
    "print(f'F1_score: {f1}')\n",
    "f1_train = f1_score(y_train, modelo.predict(X_train))\n",
    "print(f'F1_score train: {f1_train}')\n"
   ]
  },
  {
   "cell_type": "code",
   "execution_count": 48,
   "metadata": {},
   "outputs": [],
   "source": [
    "df_test = pd.read_csv('test.csv', sep=',')\n",
    "df_test_copia = df_test.copy()\n",
    "df_test_copia['review_es'] = df_test_copia['review_es'].apply(tokenize)\n",
    "df_test_copia['review_es'] = df_test_copia['review_es'].apply(lambda x: ' '.join(x))\n",
    "prediccion_final = modelo.predict(df_test_copia['review_es'])\n",
    "prediccion_final = np.where(prediccion_final == 0, 'negativo', 'positivo')\n",
    "\n",
    "df_entrega = df_test.copy()\n",
    "\n",
    "df_entrega['sentimiento'] = prediccion_final\n",
    "df_entrega.drop('review_es', axis=1, inplace=True)\n",
    "\n",
    "df_entrega.to_csv('voting.csv', index=False)"
   ]
  },
  {
   "cell_type": "code",
   "execution_count": 15,
   "metadata": {},
   "outputs": [
    {
     "data": {
      "text/html": [
       "<div>\n",
       "<style scoped>\n",
       "    .dataframe tbody tr th:only-of-type {\n",
       "        vertical-align: middle;\n",
       "    }\n",
       "\n",
       "    .dataframe tbody tr th {\n",
       "        vertical-align: top;\n",
       "    }\n",
       "\n",
       "    .dataframe thead th {\n",
       "        text-align: right;\n",
       "    }\n",
       "</style>\n",
       "<table border=\"1\" class=\"dataframe\">\n",
       "  <thead>\n",
       "    <tr style=\"text-align: right;\">\n",
       "      <th></th>\n",
       "      <th>ID</th>\n",
       "      <th>review_es</th>\n",
       "      <th>sentimiento</th>\n",
       "    </tr>\n",
       "  </thead>\n",
       "  <tbody>\n",
       "    <tr>\n",
       "      <th>0</th>\n",
       "      <td>0</td>\n",
       "      <td>Uno de los otros críticos ha mencionado que de...</td>\n",
       "      <td>positivo</td>\n",
       "    </tr>\n",
       "    <tr>\n",
       "      <th>1</th>\n",
       "      <td>1</td>\n",
       "      <td>Una pequeña pequeña producción.La técnica de f...</td>\n",
       "      <td>positivo</td>\n",
       "    </tr>\n",
       "    <tr>\n",
       "      <th>2</th>\n",
       "      <td>2</td>\n",
       "      <td>Pensé que esta era una manera maravillosa de p...</td>\n",
       "      <td>positivo</td>\n",
       "    </tr>\n",
       "    <tr>\n",
       "      <th>3</th>\n",
       "      <td>3</td>\n",
       "      <td>Básicamente, hay una familia donde un niño peq...</td>\n",
       "      <td>negativo</td>\n",
       "    </tr>\n",
       "    <tr>\n",
       "      <th>4</th>\n",
       "      <td>4</td>\n",
       "      <td>El \"amor en el tiempo\" de Petter Mattei es una...</td>\n",
       "      <td>positivo</td>\n",
       "    </tr>\n",
       "    <tr>\n",
       "      <th>...</th>\n",
       "      <td>...</td>\n",
       "      <td>...</td>\n",
       "      <td>...</td>\n",
       "    </tr>\n",
       "    <tr>\n",
       "      <th>49995</th>\n",
       "      <td>49995</td>\n",
       "      <td>Pensé que esta película hizo un buen trabajo a...</td>\n",
       "      <td>positivo</td>\n",
       "    </tr>\n",
       "    <tr>\n",
       "      <th>49996</th>\n",
       "      <td>49996</td>\n",
       "      <td>Mala parcela, mal diálogo, mala actuación, dir...</td>\n",
       "      <td>negativo</td>\n",
       "    </tr>\n",
       "    <tr>\n",
       "      <th>49997</th>\n",
       "      <td>49997</td>\n",
       "      <td>Soy católica enseñada en escuelas primarias pa...</td>\n",
       "      <td>negativo</td>\n",
       "    </tr>\n",
       "    <tr>\n",
       "      <th>49998</th>\n",
       "      <td>49998</td>\n",
       "      <td>Voy a tener que estar en desacuerdo con el com...</td>\n",
       "      <td>negativo</td>\n",
       "    </tr>\n",
       "    <tr>\n",
       "      <th>49999</th>\n",
       "      <td>49999</td>\n",
       "      <td>Nadie espera que las películas de Star Trek se...</td>\n",
       "      <td>negativo</td>\n",
       "    </tr>\n",
       "  </tbody>\n",
       "</table>\n",
       "<p>49599 rows × 3 columns</p>\n",
       "</div>"
      ],
      "text/plain": [
       "          ID                                          review_es sentimiento\n",
       "0          0  Uno de los otros críticos ha mencionado que de...    positivo\n",
       "1          1  Una pequeña pequeña producción.La técnica de f...    positivo\n",
       "2          2  Pensé que esta era una manera maravillosa de p...    positivo\n",
       "3          3  Básicamente, hay una familia donde un niño peq...    negativo\n",
       "4          4  El \"amor en el tiempo\" de Petter Mattei es una...    positivo\n",
       "...      ...                                                ...         ...\n",
       "49995  49995  Pensé que esta película hizo un buen trabajo a...    positivo\n",
       "49996  49996  Mala parcela, mal diálogo, mala actuación, dir...    negativo\n",
       "49997  49997  Soy católica enseñada en escuelas primarias pa...    negativo\n",
       "49998  49998  Voy a tener que estar en desacuerdo con el com...    negativo\n",
       "49999  49999  Nadie espera que las películas de Star Trek se...    negativo\n",
       "\n",
       "[49599 rows x 3 columns]"
      ]
     },
     "execution_count": 15,
     "metadata": {},
     "output_type": "execute_result"
    }
   ],
   "source": [
    "df_copia"
   ]
  },
  {
   "cell_type": "code",
   "execution_count": 70,
   "metadata": {},
   "outputs": [],
   "source": [
    "from langdetect import detect, detect_langs\n",
    "\n",
    "df_post = df.copy()\n",
    "df_post['idioma'] = df_post['review_es'].apply(detect)\n"
   ]
  },
  {
   "cell_type": "code",
   "execution_count": 71,
   "metadata": {},
   "outputs": [],
   "source": [
    "df_copia = df_post.copy()"
   ]
  },
  {
   "cell_type": "code",
   "execution_count": 80,
   "metadata": {},
   "outputs": [
    {
     "data": {
      "text/plain": [
       "es    48181\n",
       "en     1817\n",
       "Name: idioma, dtype: int64"
      ]
     },
     "execution_count": 80,
     "metadata": {},
     "output_type": "execute_result"
    }
   ],
   "source": [
    "df_copia['idioma'].value_counts()"
   ]
  },
  {
   "cell_type": "code",
   "execution_count": 82,
   "metadata": {},
   "outputs": [],
   "source": [
    "from deep_translator import GoogleTranslator\n",
    "\n",
    "def translate_to_spanish(texto, idioma):\n",
    "    if texto is None:\n",
    "        return None\n",
    "\n",
    "    try:\n",
    "        if idioma == 'en':\n",
    "            if texto:\n",
    "                traduccion = GoogleTranslator(source='english', target='spanish').translate(texto)\n",
    "                return traduccion\n",
    "            else:\n",
    "                return texto\n",
    "        else:\n",
    "            return texto\n",
    "    except Exception as error:\n",
    "        print(f\"Error durante la traducción: {error}\")\n",
    "        return texto"
   ]
  },
  {
   "cell_type": "code",
   "execution_count": 78,
   "metadata": {},
   "outputs": [],
   "source": [
    "df_copia = df_copia[df_copia['idioma'].isin(['en', 'es'])]"
   ]
  },
  {
   "cell_type": "code",
   "execution_count": 83,
   "metadata": {},
   "outputs": [
    {
     "name": "stdout",
     "output_type": "stream",
     "text": [
      "Error durante la traducción: From the film's first shot - Keira Knightley as Elizabeth Bennet wandering reading through a field at dawn, thus invoking all the clichés cinema has developed to address the phenomenon of the strong-minded rebellious female character in period drama - I knew I was in for something to make me want to kill myselfJoe Wright seemed not only to have not read the book, but to be under the regrettable misapprehension that what he was filming was not in fact Jane Austen's subtle, nuanced comedy of manners conducted through sparkling, delicate social interaction in eighteenth century English drawing-rooms, but a sort of U-certificate Wuthering Heights Thus we were treated to every scene between Elizabeth and Darcy taking place outside for no apparent reason, in inappropriately rugged scenery and often in the pouring rain Not to mention that Jane Austen, and in particular P & P, is not about passion, sexual tension or love It's about different strategies of negotiating the stultification of eighteenth century society Which was completely ignored, so that the Bennets' house was a rambunctious, chaotic place where everybody shouts at once, runs around, leaves their underwear on chairs, and pigs wander happily through the house; the society balls become rowdy country dances one step away from a Matrix Reloaded style dance-orgy; and everybody says exactly what they think without the slightest regard for proprietyThe genius of Jane Austen lies in exploring the void created by a society in which nobody says what they think or mean because of an overwhelming regard for propriety, and the tragic predicaments of her characters arise from misunderstandings and miscommunications enabled by that speechless gap So both the brilliance of Jane Austen and the very factor that allows her plots - particularly in this film - to function was completely erased Subtlety in general was nowhere int his film, sacrificed in favour of an overwrought drama which jarred entirely with the material and the performancesIt was so obviously trying to be a *serious* film The humour - which IS Pride & Prejudice, both Austen's methodology and her appeal - was almost entirely suppressed in favour of all this po-faced melodrama, and when it was allowed in, was handled so clumsily Pride & Prejudice is a serious narrative which makes serious points, yes, but those serious points and weightier themes are not just intertwined with the humour, they are embedded in it You can't lose Jane Austen's technique, leaving only the bare bones of the story, and expect the themes to remain Not even when you replace her techniques with your own heavy-handed mystical-numinous fauxbrow cinematographyElizabeth Bennett is supposed to be a woman, an adult, mature and sensible and clear-sighted Keira Knightley played the first half of the film like an empty-headed giggling schoolgirl, and the second half like an empty-headed schoolgirl who thinks she is a tragic heroine Elizabeth's wit, her combative verbal exchanges, her quintessential characteristic of being able to see and laugh at everybody's follies including her own, her strength and composure, and her fantastic clear-sightedness were completely lost and replaced with  what? A lot of giggling and staring into the distance? Rather than being able to keep her head when all about her were losing theirs, she started to cry and scream at the slightest provocation - and not genuinely raging, either; no, these were petulant hissy fits And where the great strength of Austen's Elizabeth (at least in Austen's eyes) was her ability to retain integrity and observance while remaining within the boundaries of society and sustaining impeachable propriety, Knightley's Elizabeth had no regard whatsoever for convention Furthermore, she seemed to think that wandering around barefoot in the mud in the eighteenth century version of overalls established her beyond doubt as spirited and strong-minded, and therefore nothing in the character as written or the performance had to sustain it An astonishingly unsubtle and bland performance In which quest for blandness and weakness, she was ably matched by Matthew MacfaydenDonald Sutherland as Mr Bennet seemed weak, ineffectual and permanently befuddled without the wicked sense of humour and ironic detachment at the expense of human relationships that makes Mr Bennet so fascinating and tragic His special bond with Lizzie, as the only two sensible people in a world of fools, was completely lost, not least because both of them were fools in a world of fools, and that completely deprived the end of the film of emotional impact Mr Bingley was no longer amiable and well-meaning to the point of folly, but was played as a complete retard for cheap laughs, and the woman who was playing Jane was so wildly inconsistent that she may as well not have tried to do anything with the character at all The script veered wildly between verbatim chunks of Jane Austen - delivered with remarkable clumsiness - and totally contemporaneous language which would not be out of place in a modern day romantic comedyJust get the BBC adaptation on DVD and save yourself the heartache --> Text length need to be between 0 and 5000 characters\n",
      "Error durante la traducción: Some people drift through life, moving from one thing or one person to the next without batting an eye; others latch on to a cause, another person or a principle and remain adamant, committed to whatever it is-- and figuratively or literally they give their word and stand by it But we're all different, `Made of different clay,' as one of the characters in this film puts it, which is what makes life so interesting Some people are just plain crazy, though-- and maybe that's the way you have to be to live among the masses Who knows? Who knows what it takes to make things-- life-- work? Writer/director Lisa Krueger takes a shot at it, using a light approach to examine that thin line between being committed-- and how one `gets' committed-- and obsession, in `Committed,' starring Heather Graham as a young woman who is adamant, committed, obsessive and maybe just a little bit crazy, too Her name is Joline, and this is her story\tAdmittedly, Joline has always been a committed person; in work, relationships, in life in general She's a woman of her word who sticks by it no matter what And when she marries Carl (Luke Wilson), it's forever The only problem is, someone forgot to tell Carl-- and 597 days into the marriage, he's gone; off to `find' himself and figure it all out When Joline realizes he's not coming back, she refuses to give up on him, or their marriage Maybe it's because of that `clay' she's made of Regardless, she leaves their home in New York City and sets off to find him, which she does-- in El Paso, Texas, of all places But once she knows where he is, she keeps her distance, giving him his `space' and not even letting him know she's there She considers Carl as being in a `spiritual coma,' and it's her job to keep a `spiritual vigil' over him until he comes to his senses And while she watches and waits, her life is anything but dull, as she encounters a young woman named Carmen (Patricia Velazquez), a waitress at one of the local eateries; Carmen's `Grampy,' (Alfonso Arau), who is something of a mystic; T-Bo (Mark Ruffalo), a truck driver who has issues concerning Carl; and Neil (Goran Visnjic) an artist who makes pinatas and takes a fancy to her For Joline, it's a journey of discovery, during which she learns a lot about Carl, but even more about herself\tThere's a touch of humor, a touch of romance, and some insights into human nature in this quirky film that is more about characterization and character than plot And Krueger presents it all extremely well, delivering a film that is engaging and entertaining Her characters are very real people, with all the wants, needs and imperfections that make up the human condition; a rich and eclectic bunch through which she tells her story We see it from Joline's point-of-view, as Krueger makes us privy to Joline's thoughts and therefore her motivations, which puts a decided perspective on the events as they unfold That, along with the deliberate pace she sets that allows you to soak up the atmosphere and the ambiance she creates, makes for a very effective piece of storytelling There's an underlying seriousness to this subject matter, but Krueger chooses to avoid anything heavy-handed or too deep and concentrates instead on the natural humor that evolves from the people and situations that Joline encounters And the result is a well textured, affecting and upbeat look at that thing we call life\tHeather Graham takes hold of this role from the first frame of the film to make Joline a character totally of her own creation She immerses herself in the part and gives a performance that is convincing and believable, adding the little personal traits and nuance that makes all the difference between a portrayal that is a mere representation of a person, and one that is real And for this film to work, it was imperative that Joline be viable and believable-- and Graham succeeds on all fronts Her screen presence has never been more alluring, and her vibrant personality or even just the way she uses her eyes, is enough to draw you in entirely it's all a part of the character she creates; there's an appeal to Joline that exudes from her entire countenance, who she is inside and out She's a likable, agreeable person, and because you've shared her innermost thoughts, you know who she is It's a good job all the way around, beginning with the way the character was written, to the way Graham brings her so vibrantly to life\tAs Carmen, Patricia Velazquez is totally engaging, as well Her performance is very natural and straightforward, and she uses her instincts to effectively create her character She has a charismatic presence, but is less than flamboyant, and it gives her an aspect that is attractively down-to-earth She is refreshingly open and up-front; you get the impression that Carmen is not one to hold anything back, but is totally honest on all fronts, and that, too, is part of her appeal And, as with Joline, this character is well written, and Velazquez brings her convincingly to life\tOverall, there is a number of notable performances that are the heart and soul of this film, including those of Luke Wilson, Casey Affleck (as Joline's brother, Jay), Goran Visnjic, Alfonso Arau and especially Mark Ruffalo as T-Bo, who, with very little actual screen time, manages to create a memorable character\tThe supporting cast includes Kim Dickens (Jenny), Clea Du Vall (Mimi), Summer Phoenix (Meg), Art Alexakis (New York Car Thief), Dylan Baker (Carl's Editor), and Mary Kay Place (Psychiatrist) A film that says something about the value of stepping back to consider The Big Picture-- reflecting upon who we are, where we're going and what we really need-- `Committed' is an enjoyable experience; a ride definitely worth taking 8/10 --> Text length need to be between 0 and 5000 characters\n",
      "Error durante la traducción: \"Quitting\" may be as much about exiting a pre-ordained identity as about drug withdrawal As a rural guy coming to Beijing, class and success must have struck this young artist face on as an appeal to separate from his roots and far surpass his peasant parents' acting success Troubles arise, however, when the new man is too new, when it demands too big a departure from family, history, nature, and personal identity The ensuing splits, and confusion between the imaginary and the real and the dissonance between the ordinary and the heroic are the stuff of a gut check on the one hand or a complete escape from self on the other Hongshen slips into the latter and his long and lonely road back to self can be grimBut what an exceptionally convincing particularity, honesty, and sensuousness director Zhang Yang, and his actors, bring to this journey No clichés, no stereotypes, no rigid gender roles, no requisite sex, romance or violence scenes, no requisite street language and, to boot, no assumed money to float character acts and whims Hongshen Jia is in his mid-twenties He's a talented actor, impressionable, vain, idealistic, and perhaps emotionally starved The perfect recipe for his enablers Soon he's the \"cool\" actor, idolized by youth \"He was hot in the early nineties\" \"He always had to be the most fashionable\" He needs extremes, and goes in for heavy metal, adopts earrings and a scarf His acting means the arts, friends--and roles, But not the kind that offer any personal challenge or input And his self-criticism, dulled by the immediacy of success, opens the doors to an irrational self-doubt, self-hatred-- \"I didn't know how to act\" \"I felt like a phony\"--and to readily available drugs to counter them He says \"I had to get high to do what director wanted\" So, his shallow identity as an actor becomes, via drugs, an escape from identity Hongshen's disengagement from drugs and his false life is very gradual, intermittent--and doggedly his own Solitude, space, meditative thinking, speech refusal, replace therapy The abstract is out And a great deal of his change occurs outdoors---not in idealized locations but mainly on green patches under the freeways, bridges, and high-rises of Beijing The physicality is almost romantic, but is not The bike rides to Ritan Park, the long spontaneous walks, the drenching sun and rain, grassy picnics, the sky patterns and kites that absorb his musing are very specific He drifts in order to arrive, all the while picking up cues to a more real and realistic identity \"I started to open up\" he says of this period in retrospect And the contact seems to start with his lanky body which projects a kind of dancer's positioning (clumsy, graceful, humorous, telling) in a current circumstance If mind or spirit is lacking, his legs can compel him to walk all night Central to his comeback is the rejection of set roles To punctuate his end to acting and his determination to a new identity, he smashes his videos and TV, and bangs his head till bloody against his \"John Lennon Forever\" poster He has let down his iconic anti-establishment artist---but he's the only viable guide he knows He even imagines himself as John's son (Yoko Ono), and adopts his \"Mother Mary\" as an intercessor in his \"hour of darkness\" and \"time of trouble\" (the wrenching, shaking pain in the park--hallucinatory and skitzoid ordeals) \"Music is so much more real than acting\" he says And speaks of Lennon's influence as \"showing me a new way\" In the mental institute, the life-saving apples (resistance, nourishment) reflect Lennon's presence, as does Hongshen's need to re-hang his hero's poster in his redecorated roomIf Lennon's influence is spiriting, Hongshen's father's influence is grounding Although father and son are both actors and users (drugs and drink), it is Fegsen's differences from his son that underwrites his change For the father is more secure in himself: he accepts that he's Chinese, a peasant in a line of peasants, a rural theater director And he exercises control over both his habit and his emotions It's this recognizable identity that drives Hongshen to treat him like a sounding board, sometimes with anger and rage, sometimes with humor (the blue jeans, Beatles) and passivity In his most crazed, and violent exchange with his father in which he accuses him of being a liar, and a fake, he exposes more of himself than his father: \"all the acts I acted before were bullshit life is bullshit\" And to Hongshen's emphatic \"you are NOT my father,\" he softly replies, \"why can't a peasant be your father?\" Under these two teachers and with much additional help from his mother, sister, friends, inmates at the rehab inst, he makes some tangible connection to a real (not whole) self As the long term drug effects recede, so does his old identity Indebtedness replaces pride, trust distrust Integrity banishes his black cloud All his edges soften \"You are just a human being\" he repeats endlessly after being released from the strap-down incurred for refusing medicine Back home, lard peasant soap is fine with him now And his once \"rare and true friendships\" begin again as is so evident in the back to poignant back-to-back fence scene with his musician buddy Hongshen says of this movie: \"it's a good chance to think about my life\" And I might add, become a New Actor, one bound to art and life Like Lennon, he has gained success without a loss of identity --> Text length need to be between 0 and 5000 characters\n",
      "Error durante la traducción: Years ago, when DARLING LILI played on TV, it was always the pan and scan version, which I hated and decided to wait and see the film in its proper widescreen format So when I saw an inexpensive DVD of this Julie Andrews/Blake Edwards opus, I decided to purchase and watch it once and for allBoy, what a terrible film It's so bad and on so many levels that I really do not know where to start in describing where and when it goes so horribly wrong Looking at it now, it's obvious to any fans of movies that Blake Edwards created this star vehicle for his wife simply because so many other directors had struck gold with Andrews in musicals (MARY POPPINS, SOUND OF MUSIC, THOROUGHLY MODERN MILLIE, etc) but also because Andrews was snubbed from starring in projects made famous on stage by Julie herself (CAMELOT, MY FAIR LADY, etc) because Hollywood thought she wasn't sexy or glamorous enough So Blake created this stillborn effort, to showcase his wife in a bizarre concoction of spy story/war movie/romance/slapstick comedy/musical DARLING LILI suffers from multiple personalities, never knowing who or what it is Some specific scenes are good or effective but as a whole, it just doesn't work at all to a point of it being very embarrassingMind you, the version on the DVD is the \"director's cut\", or in this case, \"let's salvage whatever we can\" from this notorious box office flop In releasing the DVD, Edwards cut 19 scenes (19!!!!!!!!) from the original bloated theatrical version into this more streamlined and yet remarkably ineffective version The film moves along with no idea of what it is We are 25 minutes into it and we still don't know what's going on or why we're watching what's going What kind of spy is Lili? How powerful is she? Was she ever responsible for someone's death? Instead we watch a thoroughly bored looking Rock Hudson trying to woo a thoroughly bored looking Julie Andrews Things aren't helped much with the inexplicable reason why the two fall in love Why does Julie fall for Hudson? Why him and not other men she got involved with? There should have been one of her ex hanging around, trying to win her back or trying to decipher her secret This would have given us some much needed contrast to the muddled action It would also have given us some impetuous to the sluggish proceedings There's no catalyst in this storyOne only has to look at the cut scenes to clearly see that Edwards and the writer just came up with ideas inspired by Andrews' (and Edwards') previous successes The best (or worst) example is the scene when Andrews and Hudson follows a group of children who sing in the middle of a forest Edwards channeling SOUND OF MUSIC It's no wonder he removed it from the DVD Back in 1970, that scene might have worked on a certain level but today, that moment reeks of desperation There are other plot elements directly inspired by Andrews/Edwards other films The endless scenes of dogfights is inspired by the much better MODERN MILLIE The musical moment \"I'll give you three guesses\" was created just to make fun of Julie's MARY POPPINS persona, which is turned \"raunchy\" with Julie doing a striptease in the act The ending, bird's eye view of Julie running towards Hudson's plane, is another \"wink\" at SOUND OF MUSICThe whole thing is confusing Julie plays a singer, born from a German father and British mother, who lives in England but sings her (English) songs in Paris You never know exactly where the story takes place Some moments are just badly edited Like when Julie and her \"uncle\" are on horseback They talk and talk and then Julie suddenly sprints off in mid-sentence I'm like \"what happened here?\"The comedy bits are unfunny and cringe-worthy Every scene with the French police are pathetic Where's Peter Sellers when you really need him The action is stupid beyond belief When Julie and her \"uncle\" are on their way to Germany on that train, Hudson's squadron shoots rounds of bullets at the train, almost killing Lili in the process Brilliant What's also funny about that scene is the two leave on the train in the middle of the night but Hudson and his squadron reach the train even though they fly off the next morning That's one slow moving train there The musical moments The beginning is the best part of the entire film (and the reason I gave this film 3 stars) but it's effect is diminished considerably because it's repeated at the end Speaking of redundant, did we really need to see a can-can dance, Crepe Suzette stripping scene and Julie stripping too? The \"Girl in no man's land\" is OK even if it's bleeding obvious, but that moment just doesn't make any sense whatsoever because Lili sings it to a group of injured soldiers at a French hospital, making me wonder: how many soldiers there were injured indirectly by the result of her spying?The whole project is listless and without energy The romance is 100% unbelievable Rock Hudson is way too old and tired looking (check out the museum scene) Julie looks dazed, like she's on Valium But what really kills this ill-conceived project is Julie playing a German spy Edwards desperately wanted to dispel the Mary Poppins syndrome afflicting his wife and believed that playing a traitor was a good career decision As much as I like Julie, she's no Greta Garbo, who pulled it off so beautifully in MATA HARI Funny enough, even if Julie plays a German spy, she still comes across as cloying and cuteHow bad is DARLING LILI? Even after 37 years since its release, Blake Edwards felt he still needed to work on it for its DVD release --> Text length need to be between 0 and 5000 characters\n",
      "Error durante la traducción: Such a joyous world has been created for us in Pixar's A Bug's Life; we're immersed in a universe which could only be documented this enjoyably on film, but more precisely a universe which could only be documented through the world of animation For those who have forgotten what a plentiful and exuberant world animation can offer  when it's in the right hands that is  A Bug's Life is a warm reminder We walk out of the film with an equally-warm feeling, and a sense of satisfaction derivative of only high-calibre film productionsIt is only Pixar's second animated feature The sub-group of Disney made their spectacular debut and perhaps entirely inadvertent mark on the film world three years prior in 1995, with their landmark movie Toy Story It was a movie which defied convention, re-invented and breathed new life into animation and defined a whole new level of excellence Now, they return with their sophomore effort which, to be honest, draws a creeping sense of cynicism in us all prior to seeing the filmAfter all, it's a film about ants Well, all walks of the insect and bug world are covered in A Bug's Life, but it is the ant which is the focal point in this film, as humans are the focal point in dramas, romances and so on How can such an insignificant species of animal such as an ant act as the protagonist of a movie, let alone provide the entire premise of a feature film? Surely they jest However, we forget that in Toy Story, a bunch of toy-box items were able to become the grandest, most inspiring and lovable bunch of animated heroes and villains ever concocted The guys at Pixar manage to pull off the same feat, and manage to turn a bunch of dirty and miniscule bugs into the most endearing and pleasant gang of vermin you'll probably ever encounterNot only are they all entirely amiable and likable  there isn't an unpleasant character in sight; even the villains are riveting characters  but they're colourful, they're eclectic, and they're idiosyncratic And the array of characters is also gargantuan for lack of a better term, only adding the rich layers of distinctiveness already plastered onto A Bug's Life from the beginning We shall start with our main character, and our hero His name is Flik (David Foley), and his character is rather generic to say the least Out of the thousands of faithful and obedient worker ants residing on the lush, beautiful Ant Island, he is the one considered the 'black sheep' of the clan, as seen in the opening moments of the movie when he inadvertently destroys the season's harvest with his anticsThe problem arises in the fact that the ants' harvest is for a bunch of greedy grasshoppers led by Hopper (Kevin Spacey), who are eager to continue to assert their wrath and autocracy amongst the puny little ants; when they show up to Ant Island for their annual banquet and see that their offering is gone, they go insane, for lack of a better term Hopper offers a proposition to save the ants from total extinction at his pack's hands; however, it's a negotiation which is simply impossible to fulfil The cogs and clockwork in Flik's mind run at full steam now despite his guilt and shame, and he offers to leave Ant Island in search of some mighty bug warriors who can come to the colony's rescue and fight off Hopper and the grasshoppersIf you think about it, A Bug's Life bears some heavy resemblance to the plot line's of Akira Kurosawa's classic Seven Samurai, or the American remake The Magnificent Seven, in which a village of hapless but good-hearted folk are threatened by malevolent and wicked enemies  one lone village-dweller goes in search for help in the big city, finds it and returns to the colony to drive off evil In A Bug's Life, the help comes in the form of a down-and-out circus troupe who is mistakenly perceived by Flik as warriors in a bar-room brawlMuch amusement comes out of these scenes, and much amusement comes out of these circus troupe bugs Among them are an erudite stick insect (David Hyde Pierce), a side-splitting obese German caterpillar by the name of Heimlich and a quasi-femme fatale ladybug who's in fact a gritty and masculine ladybug (Dennis Hopper) It's exceedingly enjoyable watching these bugs on-screen, as it is watching the bugs and the insects interact on-screen, as is the entire movie collectivelyAs I've said, much amusement and mirth comes out of their characters and joyous interactions with one another, which give way to a bevy of hilarious lines, wonderfully suspenseful and riveting situations and overall a dazzling movie What makes A Bug's Life even better is that the film isn't restricted simply to children as many may perceive it to be, although children would indeed find more entertainment out of this film  the clichéd kid-friendly situations are a bit more abundant than we'd like However, it's easy to ignore this fault, and it's incredulously easy to enjoy this filmAlthough A Bug's Life may not reach the dizzying and landmark standards set by its predecessor, this is still a superb movie, and the start of something promising here Pixar have proved that they're not just a one-hit wonder, but instead a much-gifted and talented group of film artists in Hollywood They raise the bar endlessly, and when someone always manages to top their standards, it's only always by themselves What more is there to say about A Bug's Life other than: see it; it's not quite the best which we've seen from the folks at Emeryville, California, but this beats out the lot of its year  and I'll be damned if this isn't the best animated feature of 199885/10 --> Text length need to be between 0 and 5000 characters\n"
     ]
    },
    {
     "ename": "KeyboardInterrupt",
     "evalue": "",
     "output_type": "error",
     "traceback": [
      "\u001b[0;31m---------------------------------------------------------------------------\u001b[0m",
      "\u001b[0;31mKeyboardInterrupt\u001b[0m                         Traceback (most recent call last)",
      "\u001b[1;32m/Users/juampi/Documents/uba/Cuarto Cuatrimestre/Organizacion de Datos/tp2/7506R_TP2_GRUPO23_ENTREGA.ipynb Cell 103\u001b[0m line \u001b[0;36m3\n\u001b[1;32m      <a href='vscode-notebook-cell:/Users/juampi/Documents/uba/Cuarto%20Cuatrimestre/Organizacion%20de%20Datos/tp2/7506R_TP2_GRUPO23_ENTREGA.ipynb#Y145sZmlsZQ%3D%3D?line=0'>1</a>\u001b[0m \u001b[39mfor\u001b[39;00m index, row \u001b[39min\u001b[39;00m df_copia\u001b[39m.\u001b[39miterrows():\n\u001b[1;32m      <a href='vscode-notebook-cell:/Users/juampi/Documents/uba/Cuarto%20Cuatrimestre/Organizacion%20de%20Datos/tp2/7506R_TP2_GRUPO23_ENTREGA.ipynb#Y145sZmlsZQ%3D%3D?line=1'>2</a>\u001b[0m     \u001b[39mif\u001b[39;00m row[\u001b[39m'\u001b[39m\u001b[39midioma\u001b[39m\u001b[39m'\u001b[39m] \u001b[39m==\u001b[39m \u001b[39m'\u001b[39m\u001b[39men\u001b[39m\u001b[39m'\u001b[39m:\n\u001b[0;32m----> <a href='vscode-notebook-cell:/Users/juampi/Documents/uba/Cuarto%20Cuatrimestre/Organizacion%20de%20Datos/tp2/7506R_TP2_GRUPO23_ENTREGA.ipynb#Y145sZmlsZQ%3D%3D?line=2'>3</a>\u001b[0m         df_copia\u001b[39m.\u001b[39mloc[index, \u001b[39m'\u001b[39m\u001b[39mreview_es\u001b[39m\u001b[39m'\u001b[39m] \u001b[39m=\u001b[39m translate_to_spanish(row[\u001b[39m'\u001b[39m\u001b[39mreview_es\u001b[39m\u001b[39m'\u001b[39m],\u001b[39m'\u001b[39m\u001b[39men\u001b[39m\u001b[39m'\u001b[39m )\n",
      "\u001b[1;32m/Users/juampi/Documents/uba/Cuarto Cuatrimestre/Organizacion de Datos/tp2/7506R_TP2_GRUPO23_ENTREGA.ipynb Cell 103\u001b[0m line \u001b[0;36m1\n\u001b[1;32m      <a href='vscode-notebook-cell:/Users/juampi/Documents/uba/Cuarto%20Cuatrimestre/Organizacion%20de%20Datos/tp2/7506R_TP2_GRUPO23_ENTREGA.ipynb#Y145sZmlsZQ%3D%3D?line=7'>8</a>\u001b[0m \u001b[39mif\u001b[39;00m idioma \u001b[39m==\u001b[39m \u001b[39m'\u001b[39m\u001b[39men\u001b[39m\u001b[39m'\u001b[39m:\n\u001b[1;32m      <a href='vscode-notebook-cell:/Users/juampi/Documents/uba/Cuarto%20Cuatrimestre/Organizacion%20de%20Datos/tp2/7506R_TP2_GRUPO23_ENTREGA.ipynb#Y145sZmlsZQ%3D%3D?line=8'>9</a>\u001b[0m     \u001b[39mif\u001b[39;00m texto:\n\u001b[0;32m---> <a href='vscode-notebook-cell:/Users/juampi/Documents/uba/Cuarto%20Cuatrimestre/Organizacion%20de%20Datos/tp2/7506R_TP2_GRUPO23_ENTREGA.ipynb#Y145sZmlsZQ%3D%3D?line=9'>10</a>\u001b[0m         traduccion \u001b[39m=\u001b[39m GoogleTranslator(source\u001b[39m=\u001b[39m\u001b[39m'\u001b[39m\u001b[39menglish\u001b[39m\u001b[39m'\u001b[39m, target\u001b[39m=\u001b[39m\u001b[39m'\u001b[39m\u001b[39mspanish\u001b[39m\u001b[39m'\u001b[39m)\u001b[39m.\u001b[39mtranslate(texto)\n\u001b[1;32m     <a href='vscode-notebook-cell:/Users/juampi/Documents/uba/Cuarto%20Cuatrimestre/Organizacion%20de%20Datos/tp2/7506R_TP2_GRUPO23_ENTREGA.ipynb#Y145sZmlsZQ%3D%3D?line=10'>11</a>\u001b[0m         \u001b[39mreturn\u001b[39;00m traduccion\n\u001b[1;32m     <a href='vscode-notebook-cell:/Users/juampi/Documents/uba/Cuarto%20Cuatrimestre/Organizacion%20de%20Datos/tp2/7506R_TP2_GRUPO23_ENTREGA.ipynb#Y145sZmlsZQ%3D%3D?line=11'>12</a>\u001b[0m     \u001b[39melse\u001b[39;00m:\n",
      "File \u001b[0;32m~/anaconda3/lib/python3.11/site-packages/deep_translator/google.py:67\u001b[0m, in \u001b[0;36mGoogleTranslator.translate\u001b[0;34m(self, text, **kwargs)\u001b[0m\n\u001b[1;32m     64\u001b[0m \u001b[39mif\u001b[39;00m \u001b[39mself\u001b[39m\u001b[39m.\u001b[39mpayload_key:\n\u001b[1;32m     65\u001b[0m     \u001b[39mself\u001b[39m\u001b[39m.\u001b[39m_url_params[\u001b[39mself\u001b[39m\u001b[39m.\u001b[39mpayload_key] \u001b[39m=\u001b[39m text\n\u001b[0;32m---> 67\u001b[0m response \u001b[39m=\u001b[39m requests\u001b[39m.\u001b[39mget(\n\u001b[1;32m     68\u001b[0m     \u001b[39mself\u001b[39m\u001b[39m.\u001b[39m_base_url, params\u001b[39m=\u001b[39m\u001b[39mself\u001b[39m\u001b[39m.\u001b[39m_url_params, proxies\u001b[39m=\u001b[39m\u001b[39mself\u001b[39m\u001b[39m.\u001b[39mproxies\n\u001b[1;32m     69\u001b[0m )\n\u001b[1;32m     70\u001b[0m \u001b[39mif\u001b[39;00m response\u001b[39m.\u001b[39mstatus_code \u001b[39m==\u001b[39m \u001b[39m429\u001b[39m:\n\u001b[1;32m     71\u001b[0m     \u001b[39mraise\u001b[39;00m TooManyRequests()\n",
      "File \u001b[0;32m~/anaconda3/lib/python3.11/site-packages/requests/api.py:73\u001b[0m, in \u001b[0;36mget\u001b[0;34m(url, params, **kwargs)\u001b[0m\n\u001b[1;32m     62\u001b[0m \u001b[39mdef\u001b[39;00m \u001b[39mget\u001b[39m(url, params\u001b[39m=\u001b[39m\u001b[39mNone\u001b[39;00m, \u001b[39m*\u001b[39m\u001b[39m*\u001b[39mkwargs):\n\u001b[1;32m     63\u001b[0m \u001b[39m    \u001b[39m\u001b[39mr\u001b[39m\u001b[39m\"\"\"Sends a GET request.\u001b[39;00m\n\u001b[1;32m     64\u001b[0m \n\u001b[1;32m     65\u001b[0m \u001b[39m    :param url: URL for the new :class:`Request` object.\u001b[39;00m\n\u001b[0;32m   (...)\u001b[0m\n\u001b[1;32m     70\u001b[0m \u001b[39m    :rtype: requests.Response\u001b[39;00m\n\u001b[1;32m     71\u001b[0m \u001b[39m    \"\"\"\u001b[39;00m\n\u001b[0;32m---> 73\u001b[0m     \u001b[39mreturn\u001b[39;00m request(\u001b[39m\"\u001b[39m\u001b[39mget\u001b[39m\u001b[39m\"\u001b[39m, url, params\u001b[39m=\u001b[39mparams, \u001b[39m*\u001b[39m\u001b[39m*\u001b[39mkwargs)\n",
      "File \u001b[0;32m~/anaconda3/lib/python3.11/site-packages/requests/api.py:59\u001b[0m, in \u001b[0;36mrequest\u001b[0;34m(method, url, **kwargs)\u001b[0m\n\u001b[1;32m     55\u001b[0m \u001b[39m# By using the 'with' statement we are sure the session is closed, thus we\u001b[39;00m\n\u001b[1;32m     56\u001b[0m \u001b[39m# avoid leaving sockets open which can trigger a ResourceWarning in some\u001b[39;00m\n\u001b[1;32m     57\u001b[0m \u001b[39m# cases, and look like a memory leak in others.\u001b[39;00m\n\u001b[1;32m     58\u001b[0m \u001b[39mwith\u001b[39;00m sessions\u001b[39m.\u001b[39mSession() \u001b[39mas\u001b[39;00m session:\n\u001b[0;32m---> 59\u001b[0m     \u001b[39mreturn\u001b[39;00m session\u001b[39m.\u001b[39mrequest(method\u001b[39m=\u001b[39mmethod, url\u001b[39m=\u001b[39murl, \u001b[39m*\u001b[39m\u001b[39m*\u001b[39mkwargs)\n",
      "File \u001b[0;32m~/anaconda3/lib/python3.11/site-packages/requests/sessions.py:589\u001b[0m, in \u001b[0;36mSession.request\u001b[0;34m(self, method, url, params, data, headers, cookies, files, auth, timeout, allow_redirects, proxies, hooks, stream, verify, cert, json)\u001b[0m\n\u001b[1;32m    584\u001b[0m send_kwargs \u001b[39m=\u001b[39m {\n\u001b[1;32m    585\u001b[0m     \u001b[39m\"\u001b[39m\u001b[39mtimeout\u001b[39m\u001b[39m\"\u001b[39m: timeout,\n\u001b[1;32m    586\u001b[0m     \u001b[39m\"\u001b[39m\u001b[39mallow_redirects\u001b[39m\u001b[39m\"\u001b[39m: allow_redirects,\n\u001b[1;32m    587\u001b[0m }\n\u001b[1;32m    588\u001b[0m send_kwargs\u001b[39m.\u001b[39mupdate(settings)\n\u001b[0;32m--> 589\u001b[0m resp \u001b[39m=\u001b[39m \u001b[39mself\u001b[39m\u001b[39m.\u001b[39msend(prep, \u001b[39m*\u001b[39m\u001b[39m*\u001b[39msend_kwargs)\n\u001b[1;32m    591\u001b[0m \u001b[39mreturn\u001b[39;00m resp\n",
      "File \u001b[0;32m~/anaconda3/lib/python3.11/site-packages/requests/sessions.py:747\u001b[0m, in \u001b[0;36mSession.send\u001b[0;34m(self, request, **kwargs)\u001b[0m\n\u001b[1;32m    744\u001b[0m         \u001b[39mpass\u001b[39;00m\n\u001b[1;32m    746\u001b[0m \u001b[39mif\u001b[39;00m \u001b[39mnot\u001b[39;00m stream:\n\u001b[0;32m--> 747\u001b[0m     r\u001b[39m.\u001b[39mcontent\n\u001b[1;32m    749\u001b[0m \u001b[39mreturn\u001b[39;00m r\n",
      "File \u001b[0;32m~/anaconda3/lib/python3.11/site-packages/requests/models.py:899\u001b[0m, in \u001b[0;36mResponse.content\u001b[0;34m(self)\u001b[0m\n\u001b[1;32m    897\u001b[0m         \u001b[39mself\u001b[39m\u001b[39m.\u001b[39m_content \u001b[39m=\u001b[39m \u001b[39mNone\u001b[39;00m\n\u001b[1;32m    898\u001b[0m     \u001b[39melse\u001b[39;00m:\n\u001b[0;32m--> 899\u001b[0m         \u001b[39mself\u001b[39m\u001b[39m.\u001b[39m_content \u001b[39m=\u001b[39m \u001b[39mb\u001b[39m\u001b[39m\"\u001b[39m\u001b[39m\"\u001b[39m\u001b[39m.\u001b[39mjoin(\u001b[39mself\u001b[39m\u001b[39m.\u001b[39miter_content(CONTENT_CHUNK_SIZE)) \u001b[39mor\u001b[39;00m \u001b[39mb\u001b[39m\u001b[39m\"\u001b[39m\u001b[39m\"\u001b[39m\n\u001b[1;32m    901\u001b[0m \u001b[39mself\u001b[39m\u001b[39m.\u001b[39m_content_consumed \u001b[39m=\u001b[39m \u001b[39mTrue\u001b[39;00m\n\u001b[1;32m    902\u001b[0m \u001b[39m# don't need to release the connection; that's been handled by urllib3\u001b[39;00m\n\u001b[1;32m    903\u001b[0m \u001b[39m# since we exhausted the data.\u001b[39;00m\n",
      "File \u001b[0;32m~/anaconda3/lib/python3.11/site-packages/requests/models.py:816\u001b[0m, in \u001b[0;36mResponse.iter_content.<locals>.generate\u001b[0;34m()\u001b[0m\n\u001b[1;32m    814\u001b[0m \u001b[39mif\u001b[39;00m \u001b[39mhasattr\u001b[39m(\u001b[39mself\u001b[39m\u001b[39m.\u001b[39mraw, \u001b[39m\"\u001b[39m\u001b[39mstream\u001b[39m\u001b[39m\"\u001b[39m):\n\u001b[1;32m    815\u001b[0m     \u001b[39mtry\u001b[39;00m:\n\u001b[0;32m--> 816\u001b[0m         \u001b[39myield from\u001b[39;00m \u001b[39mself\u001b[39m\u001b[39m.\u001b[39mraw\u001b[39m.\u001b[39mstream(chunk_size, decode_content\u001b[39m=\u001b[39m\u001b[39mTrue\u001b[39;00m)\n\u001b[1;32m    817\u001b[0m     \u001b[39mexcept\u001b[39;00m ProtocolError \u001b[39mas\u001b[39;00m e:\n\u001b[1;32m    818\u001b[0m         \u001b[39mraise\u001b[39;00m ChunkedEncodingError(e)\n",
      "File \u001b[0;32m~/anaconda3/lib/python3.11/site-packages/urllib3/response.py:624\u001b[0m, in \u001b[0;36mHTTPResponse.stream\u001b[0;34m(self, amt, decode_content)\u001b[0m\n\u001b[1;32m    608\u001b[0m \u001b[39m\u001b[39m\u001b[39m\"\"\"\u001b[39;00m\n\u001b[1;32m    609\u001b[0m \u001b[39mA generator wrapper for the read() method. A call will block until\u001b[39;00m\n\u001b[1;32m    610\u001b[0m \u001b[39m``amt`` bytes have been read from the connection or until the\u001b[39;00m\n\u001b[0;32m   (...)\u001b[0m\n\u001b[1;32m    621\u001b[0m \u001b[39m    'content-encoding' header.\u001b[39;00m\n\u001b[1;32m    622\u001b[0m \u001b[39m\"\"\"\u001b[39;00m\n\u001b[1;32m    623\u001b[0m \u001b[39mif\u001b[39;00m \u001b[39mself\u001b[39m\u001b[39m.\u001b[39mchunked \u001b[39mand\u001b[39;00m \u001b[39mself\u001b[39m\u001b[39m.\u001b[39msupports_chunked_reads():\n\u001b[0;32m--> 624\u001b[0m     \u001b[39mfor\u001b[39;00m line \u001b[39min\u001b[39;00m \u001b[39mself\u001b[39m\u001b[39m.\u001b[39mread_chunked(amt, decode_content\u001b[39m=\u001b[39mdecode_content):\n\u001b[1;32m    625\u001b[0m         \u001b[39myield\u001b[39;00m line\n\u001b[1;32m    626\u001b[0m \u001b[39melse\u001b[39;00m:\n",
      "File \u001b[0;32m~/anaconda3/lib/python3.11/site-packages/urllib3/response.py:828\u001b[0m, in \u001b[0;36mHTTPResponse.read_chunked\u001b[0;34m(self, amt, decode_content)\u001b[0m\n\u001b[1;32m    825\u001b[0m     \u001b[39mreturn\u001b[39;00m\n\u001b[1;32m    827\u001b[0m \u001b[39mwhile\u001b[39;00m \u001b[39mTrue\u001b[39;00m:\n\u001b[0;32m--> 828\u001b[0m     \u001b[39mself\u001b[39m\u001b[39m.\u001b[39m_update_chunk_length()\n\u001b[1;32m    829\u001b[0m     \u001b[39mif\u001b[39;00m \u001b[39mself\u001b[39m\u001b[39m.\u001b[39mchunk_left \u001b[39m==\u001b[39m \u001b[39m0\u001b[39m:\n\u001b[1;32m    830\u001b[0m         \u001b[39mbreak\u001b[39;00m\n",
      "File \u001b[0;32m~/anaconda3/lib/python3.11/site-packages/urllib3/response.py:758\u001b[0m, in \u001b[0;36mHTTPResponse._update_chunk_length\u001b[0;34m(self)\u001b[0m\n\u001b[1;32m    756\u001b[0m \u001b[39mif\u001b[39;00m \u001b[39mself\u001b[39m\u001b[39m.\u001b[39mchunk_left \u001b[39mis\u001b[39;00m \u001b[39mnot\u001b[39;00m \u001b[39mNone\u001b[39;00m:\n\u001b[1;32m    757\u001b[0m     \u001b[39mreturn\u001b[39;00m\n\u001b[0;32m--> 758\u001b[0m line \u001b[39m=\u001b[39m \u001b[39mself\u001b[39m\u001b[39m.\u001b[39m_fp\u001b[39m.\u001b[39mfp\u001b[39m.\u001b[39mreadline()\n\u001b[1;32m    759\u001b[0m line \u001b[39m=\u001b[39m line\u001b[39m.\u001b[39msplit(\u001b[39mb\u001b[39m\u001b[39m\"\u001b[39m\u001b[39m;\u001b[39m\u001b[39m\"\u001b[39m, \u001b[39m1\u001b[39m)[\u001b[39m0\u001b[39m]\n\u001b[1;32m    760\u001b[0m \u001b[39mtry\u001b[39;00m:\n",
      "File \u001b[0;32m~/anaconda3/lib/python3.11/socket.py:706\u001b[0m, in \u001b[0;36mSocketIO.readinto\u001b[0;34m(self, b)\u001b[0m\n\u001b[1;32m    704\u001b[0m \u001b[39mwhile\u001b[39;00m \u001b[39mTrue\u001b[39;00m:\n\u001b[1;32m    705\u001b[0m     \u001b[39mtry\u001b[39;00m:\n\u001b[0;32m--> 706\u001b[0m         \u001b[39mreturn\u001b[39;00m \u001b[39mself\u001b[39m\u001b[39m.\u001b[39m_sock\u001b[39m.\u001b[39mrecv_into(b)\n\u001b[1;32m    707\u001b[0m     \u001b[39mexcept\u001b[39;00m timeout:\n\u001b[1;32m    708\u001b[0m         \u001b[39mself\u001b[39m\u001b[39m.\u001b[39m_timeout_occurred \u001b[39m=\u001b[39m \u001b[39mTrue\u001b[39;00m\n",
      "File \u001b[0;32m~/anaconda3/lib/python3.11/ssl.py:1278\u001b[0m, in \u001b[0;36mSSLSocket.recv_into\u001b[0;34m(self, buffer, nbytes, flags)\u001b[0m\n\u001b[1;32m   1274\u001b[0m     \u001b[39mif\u001b[39;00m flags \u001b[39m!=\u001b[39m \u001b[39m0\u001b[39m:\n\u001b[1;32m   1275\u001b[0m         \u001b[39mraise\u001b[39;00m \u001b[39mValueError\u001b[39;00m(\n\u001b[1;32m   1276\u001b[0m           \u001b[39m\"\u001b[39m\u001b[39mnon-zero flags not allowed in calls to recv_into() on \u001b[39m\u001b[39m%s\u001b[39;00m\u001b[39m\"\u001b[39m \u001b[39m%\u001b[39m\n\u001b[1;32m   1277\u001b[0m           \u001b[39mself\u001b[39m\u001b[39m.\u001b[39m\u001b[39m__class__\u001b[39m)\n\u001b[0;32m-> 1278\u001b[0m     \u001b[39mreturn\u001b[39;00m \u001b[39mself\u001b[39m\u001b[39m.\u001b[39mread(nbytes, buffer)\n\u001b[1;32m   1279\u001b[0m \u001b[39melse\u001b[39;00m:\n\u001b[1;32m   1280\u001b[0m     \u001b[39mreturn\u001b[39;00m \u001b[39msuper\u001b[39m()\u001b[39m.\u001b[39mrecv_into(buffer, nbytes, flags)\n",
      "File \u001b[0;32m~/anaconda3/lib/python3.11/ssl.py:1134\u001b[0m, in \u001b[0;36mSSLSocket.read\u001b[0;34m(self, len, buffer)\u001b[0m\n\u001b[1;32m   1132\u001b[0m \u001b[39mtry\u001b[39;00m:\n\u001b[1;32m   1133\u001b[0m     \u001b[39mif\u001b[39;00m buffer \u001b[39mis\u001b[39;00m \u001b[39mnot\u001b[39;00m \u001b[39mNone\u001b[39;00m:\n\u001b[0;32m-> 1134\u001b[0m         \u001b[39mreturn\u001b[39;00m \u001b[39mself\u001b[39m\u001b[39m.\u001b[39m_sslobj\u001b[39m.\u001b[39mread(\u001b[39mlen\u001b[39m, buffer)\n\u001b[1;32m   1135\u001b[0m     \u001b[39melse\u001b[39;00m:\n\u001b[1;32m   1136\u001b[0m         \u001b[39mreturn\u001b[39;00m \u001b[39mself\u001b[39m\u001b[39m.\u001b[39m_sslobj\u001b[39m.\u001b[39mread(\u001b[39mlen\u001b[39m)\n",
      "\u001b[0;31mKeyboardInterrupt\u001b[0m: "
     ]
    }
   ],
   "source": [
    "for index, row in df_copia.iterrows():\n",
    "    if row['idioma'] == 'en':\n",
    "        df_copia.loc[index, 'review_es'] = translate_to_spanish(row['review_es'],'en' )"
   ]
  },
  {
   "cell_type": "code",
   "execution_count": 66,
   "metadata": {},
   "outputs": [],
   "source": [
    "df_copia = df_copia[df_copia['idioma'].isin(['es'])]"
   ]
  },
  {
   "cell_type": "code",
   "execution_count": 30,
   "metadata": {},
   "outputs": [
    {
     "name": "stdout",
     "output_type": "stream",
     "text": [
      "Error durante la traducción: THE SHOP AROUND THE CORNER is one of the sweetest and most feel-good romantic comedies ever made There's just no getting around that, and it's hard to actually put one's feeling for this film into words It's not one of those films that tries too hard, nor does it come up with the oddest possible scenarios to get the two protagonists together in the end In fact, all its charm is innate, contained within the characters and the setting and the plot which is highly believable to boot It's easy to think that such a love story, as beautiful as any other ever told, *could* happen to you a feeling you don't often get from other romantic comedies, however sweet and heart-warming they may be Alfred Kralik (James Stewart) and Clara Novak (Margaret Sullavan) don't have the most auspicious of first meetings when she arrives in the shop (Matuschek & Co) he's been working in for the past nine years, asking for a job They clash from the very beginning, mostly over a cigarette box that plays music when it's opened--he thinks it's a ludicrous idea; she makes one big sell of it and gets hired Their bickering takes them through the next six months, even as they both (unconsciously, of course!) fall in love with each other when they share their souls and minds in letters passed through PO Box 237 This would be a pretty thin plotline to base an entire film on, except that THE SHOP AROUND THE CORNER is expertly fleshed-out with a brilliant supporting cast made up of entirely engaging characters, from the fatherly but lonely Hugo Matuschek (Frank Morgan) himself, who learns that his shop really is his home; Pirovitch (Felix Bressart), Kralik's sidekick and friend who always skitters out of the room when faced with the possibility of being asked for his honest opinion; smarmy pimp-du-jour Vadas (Joseph Schildkraut) who ultimately gets his comeuppance from a gloriously righteous Kralik; and ambitious errand boy Pepi Katona (William Tracy) who wants nothing more than to be promoted to the position of clerk for Matuschek & Co The unpretentious love story between 'Dear Friends' is played out in this little shop in Budapest, Hungary, in which Kralik's unceremonious dismissal and subsequent promotion to shop manager help the two lovebirds-to-be along It's nice that everyone gets a story in this film; the supporting characters are well-developed, and Matuschek's own journey in life is almost as touching as the one Alfred and Clara share His invitation to new errand boy Rudy (Charles Smith) for Christmas Eve dinner, made in the whirling, beautiful snow of a Hungarian winter, makes the audience glad that he is not alone; we come to care even for the characters whose love story it isn't this film's business to tell Aside from the love story, I must say that James Stewart is truly one of the best things about this film He doesn't play the full-fledged Jimmy Stewart persona in this film (c/f 'Mr Smith Goes To Washington' for that); in fact Alfred Kralik is prickly and abrupt and not particularly kind He's rather a brusque man, in fact, with little hint (until, perhaps, the very end) of the aw-shucks down-home boyish charm Stewart would soon come to patent When he finds out before Clara that they have been corresponding in secret, in fact, Kralik doesn't 'fess up--he waits it out to see how far he can take the charade, especially since he quickly realises (given his stormy relationship with Clara as boss and underling) that loving the person he knows through the exchanged letters might not equate with loving the person herself His description to Clara of the fictional Matthias Popkin (what a name!) who was to become her fiance is hilarious in the extreme, but also his way of proving that the letters don't reveal all there is to a man, just as her letters don't reveal all there is to her Stewart plays this role perfectly--he keeps his face perfectly controlled whenever Clara insults Mr Kralik, as she is often wont to do, even (and especially) to his face And yet one believes, underneath the brusqueness and professionalism, that he *could* reveal his identity with as much earnestness and sincerity and sheer *hope* as he eventually does Special mention must be given to the other members of the cast as well Margaret Sullavan fares rather less well in the first half of the film, but she really comes into her own in the closing-shop scene on Christmas Eve, when she almost gets her heart broken again by Alfred's most vivid description of her mailbox sweetheart Frank Morgan turns in a great performance as the jealous Hugo Matuschek driven to nervous breakdown, the man who has to rediscover his meaning in life when he realises that his wife of 22 years does not want to 'grow old with him' And Felix Bressart plays the role of the meek but loyal Pirovitch wonderfully (a Lubitsch regular, since he appears as a hilarious Russian ambassador in NINOTCHKA)--of particular note is the scene in which he helps his good friend Alfred get the Christmas present the latter *really* wants a wallet instead of that ludicrous cigarette box Clara is so hung up on Ernst Lubitsch really does himself proud with this film--for example, the famously lavish and meticulous care given to detail in the creation of the Matuschek shop is well worth the effort, right down to the Hungarian names on the door, the wares and the cash register and so on But even though Lubitsch chose to have the story set in Hungary, the setting is actually universal: it could happen anywhere; it could happen to you Therein lies the charm of this simple story, these believable characters who really *are* people The snow on Christmas Eve is real as well, or at least as real as Lubitsch could make it (he had snow machines brought in at great expense) It is this desire to make everything appear as real as possible that helps make the story even more believable, that gives this entire film a dreamy realism that cannot be replicated (No, not even in a remake like YOU'VE GOT MAIL) *This* is really the Jimmy Stewart Christmas film that people are missing out on when they talk about IT'S A WONDERFUL LIFE Not to detract from the merits of that other film, but there'd be no harm, and in fact a lot of good, done in watching THE SHOP AROUND THE CORNER this Christmas instead It's sweet, funny, charming, and Stewart is impeccable in his role We should all be so lucky as to have the romance depicted in this film; the best thing about this film is that we come away from it feeling that we very possibly could --> Text length need to be between 0 and 5000 characters\n",
      "THE SHOP AROUND THE CORNER is one of the sweetest and most feel-good romantic comedies ever made There's just no getting around that, and it's hard to actually put one's feeling for this film into words It's not one of those films that tries too hard, nor does it come up with the oddest possible scenarios to get the two protagonists together in the end In fact, all its charm is innate, contained within the characters and the setting and the plot which is highly believable to boot It's easy to think that such a love story, as beautiful as any other ever told, *could* happen to you a feeling you don't often get from other romantic comedies, however sweet and heart-warming they may be Alfred Kralik (James Stewart) and Clara Novak (Margaret Sullavan) don't have the most auspicious of first meetings when she arrives in the shop (Matuschek & Co) he's been working in for the past nine years, asking for a job They clash from the very beginning, mostly over a cigarette box that plays music when it's opened--he thinks it's a ludicrous idea; she makes one big sell of it and gets hired Their bickering takes them through the next six months, even as they both (unconsciously, of course!) fall in love with each other when they share their souls and minds in letters passed through PO Box 237 This would be a pretty thin plotline to base an entire film on, except that THE SHOP AROUND THE CORNER is expertly fleshed-out with a brilliant supporting cast made up of entirely engaging characters, from the fatherly but lonely Hugo Matuschek (Frank Morgan) himself, who learns that his shop really is his home; Pirovitch (Felix Bressart), Kralik's sidekick and friend who always skitters out of the room when faced with the possibility of being asked for his honest opinion; smarmy pimp-du-jour Vadas (Joseph Schildkraut) who ultimately gets his comeuppance from a gloriously righteous Kralik; and ambitious errand boy Pepi Katona (William Tracy) who wants nothing more than to be promoted to the position of clerk for Matuschek & Co The unpretentious love story between 'Dear Friends' is played out in this little shop in Budapest, Hungary, in which Kralik's unceremonious dismissal and subsequent promotion to shop manager help the two lovebirds-to-be along It's nice that everyone gets a story in this film; the supporting characters are well-developed, and Matuschek's own journey in life is almost as touching as the one Alfred and Clara share His invitation to new errand boy Rudy (Charles Smith) for Christmas Eve dinner, made in the whirling, beautiful snow of a Hungarian winter, makes the audience glad that he is not alone; we come to care even for the characters whose love story it isn't this film's business to tell Aside from the love story, I must say that James Stewart is truly one of the best things about this film He doesn't play the full-fledged Jimmy Stewart persona in this film (c/f 'Mr Smith Goes To Washington' for that); in fact Alfred Kralik is prickly and abrupt and not particularly kind He's rather a brusque man, in fact, with little hint (until, perhaps, the very end) of the aw-shucks down-home boyish charm Stewart would soon come to patent When he finds out before Clara that they have been corresponding in secret, in fact, Kralik doesn't 'fess up--he waits it out to see how far he can take the charade, especially since he quickly realises (given his stormy relationship with Clara as boss and underling) that loving the person he knows through the exchanged letters might not equate with loving the person herself His description to Clara of the fictional Matthias Popkin (what a name!) who was to become her fiance is hilarious in the extreme, but also his way of proving that the letters don't reveal all there is to a man, just as her letters don't reveal all there is to her Stewart plays this role perfectly--he keeps his face perfectly controlled whenever Clara insults Mr Kralik, as she is often wont to do, even (and especially) to his face And yet one believes, underneath the brusqueness and professionalism, that he *could* reveal his identity with as much earnestness and sincerity and sheer *hope* as he eventually does Special mention must be given to the other members of the cast as well Margaret Sullavan fares rather less well in the first half of the film, but she really comes into her own in the closing-shop scene on Christmas Eve, when she almost gets her heart broken again by Alfred's most vivid description of her mailbox sweetheart Frank Morgan turns in a great performance as the jealous Hugo Matuschek driven to nervous breakdown, the man who has to rediscover his meaning in life when he realises that his wife of 22 years does not want to 'grow old with him' And Felix Bressart plays the role of the meek but loyal Pirovitch wonderfully (a Lubitsch regular, since he appears as a hilarious Russian ambassador in NINOTCHKA)--of particular note is the scene in which he helps his good friend Alfred get the Christmas present the latter *really* wants a wallet instead of that ludicrous cigarette box Clara is so hung up on Ernst Lubitsch really does himself proud with this film--for example, the famously lavish and meticulous care given to detail in the creation of the Matuschek shop is well worth the effort, right down to the Hungarian names on the door, the wares and the cash register and so on But even though Lubitsch chose to have the story set in Hungary, the setting is actually universal: it could happen anywhere; it could happen to you Therein lies the charm of this simple story, these believable characters who really *are* people The snow on Christmas Eve is real as well, or at least as real as Lubitsch could make it (he had snow machines brought in at great expense) It is this desire to make everything appear as real as possible that helps make the story even more believable, that gives this entire film a dreamy realism that cannot be replicated (No, not even in a remake like YOU'VE GOT MAIL) *This* is really the Jimmy Stewart Christmas film that people are missing out on when they talk about IT'S A WONDERFUL LIFE Not to detract from the merits of that other film, but there'd be no harm, and in fact a lot of good, done in watching THE SHOP AROUND THE CORNER this Christmas instead It's sweet, funny, charming, and Stewart is impeccable in his role We should all be so lucky as to have the romance depicted in this film; the best thing about this film is that we come away from it feeling that we very possibly could\n"
     ]
    }
   ],
   "source": [
    "sample = df_copia[df_copia['ID'] == 49833]['review_es'].values[0]\n",
    "\n",
    "texto_traducido = translate_to_spanish(str(sample), 'en')\n",
    "print(texto_traducido)\n"
   ]
  },
  {
   "cell_type": "code",
   "execution_count": 26,
   "metadata": {},
   "outputs": [
    {
     "data": {
      "text/plain": [
       "idioma\n",
       "es    47784\n",
       "Name: count, dtype: int64"
      ]
     },
     "execution_count": 26,
     "metadata": {},
     "output_type": "execute_result"
    }
   ],
   "source": [
    "df_copia['idioma'].value_counts()"
   ]
  },
  {
   "cell_type": "code",
   "execution_count": 45,
   "metadata": {},
   "outputs": [
    {
     "name": "stderr",
     "output_type": "stream",
     "text": [
      "/tmp/ipykernel_129469/1958305492.py:1: SettingWithCopyWarning: \n",
      "A value is trying to be set on a copy of a slice from a DataFrame.\n",
      "Try using .loc[row_indexer,col_indexer] = value instead\n",
      "\n",
      "See the caveats in the documentation: https://pandas.pydata.org/pandas-docs/stable/user_guide/indexing.html#returning-a-view-versus-a-copy\n",
      "  df_copia['review_es'] = df_copia['review_es'].apply(tokenize)\n",
      "/tmp/ipykernel_129469/1958305492.py:3: SettingWithCopyWarning: \n",
      "A value is trying to be set on a copy of a slice from a DataFrame.\n",
      "Try using .loc[row_indexer,col_indexer] = value instead\n",
      "\n",
      "See the caveats in the documentation: https://pandas.pydata.org/pandas-docs/stable/user_guide/indexing.html#returning-a-view-versus-a-copy\n",
      "  df_copia['review_es'] = df_copia['review_es'].apply(lambda x: ' '.join(x))\n"
     ]
    }
   ],
   "source": [
    "df_copia['review_es'] = df_copia['review_es'].apply(tokenize)\n",
    "\n",
    "df_copia['review_es'] = df_copia['review_es'].apply(lambda x: ' '.join(x))"
   ]
  },
  {
   "cell_type": "code",
   "execution_count": 63,
   "metadata": {},
   "outputs": [
    {
     "name": "stdout",
     "output_type": "stream",
     "text": [
      "Accuracy: 0.873046875\n",
      "Recall: 0.8907340217694669\n",
      "Precision: 0.8602425876010782\n",
      "f1 score: 0.8752228163992869\n"
     ]
    }
   ],
   "source": [
    "df_preprocesado_copy = df_copia.copy()\n",
    "df_preprocesado_copy['sentimiento'] = df_preprocesado_copy['sentimiento'].map({'negativo': 0, 'positivo': 1})\n",
    "\n",
    "X_train, X_test, y_train, y_test = train_test_split(\n",
    "    df_preprocesado_copy['review_es'].astype(str), \n",
    "    df_preprocesado_copy['sentimiento'],\n",
    "    test_size=0.3,\n",
    "    random_state=42\n",
    ")\n",
    "\n",
    "modelo_regresion_logistica = Pipeline([\n",
    "    ('tfidf', TfidfVectorizer(max_features=10000)),\n",
    "    ('lr', LogisticRegression(\n",
    "        penalty='l2',\n",
    "        C=0.3,\n",
    "        solver='lbfgs',\n",
    "        max_iter=200,\n",
    "        l1_ratio=None,\n",
    "        tol=1e-4\n",
    "    ))\n",
    "])\n",
    "modelo_regresion_logistica.fit(X_train, y_train)\n",
    "\n",
    "prediccion = modelo_regresion_logistica.predict(X_test)\n",
    "mostrar_scores(y_test, prediccion)"
   ]
  },
  {
   "cell_type": "code",
   "execution_count": 64,
   "metadata": {},
   "outputs": [
    {
     "name": "stdout",
     "output_type": "stream",
     "text": [
      "Accuracy: 0.8909351829705812\n",
      "Recall: 0.9095354523227384\n",
      "Precision: 0.8774089627797274\n",
      "f1 score: 0.8931834153197469\n"
     ]
    }
   ],
   "source": [
    "prediccion_train = modelo_regresion_logistica.predict(X_train)\n",
    "\n",
    "mostrar_scores(y_train, prediccion_train)"
   ]
  },
  {
   "cell_type": "code",
   "execution_count": 49,
   "metadata": {},
   "outputs": [
    {
     "data": {
      "text/plain": [
       "idioma\n",
       "es    1433\n",
       "ca     472\n",
       "ro      15\n",
       "en       4\n",
       "it       2\n",
       "fr       2\n",
       "Name: count, dtype: int64"
      ]
     },
     "execution_count": 49,
     "metadata": {},
     "output_type": "execute_result"
    }
   ],
   "source": [
    "df_test_copia['idioma'] = df_test_copia['review_es'].apply(detect)\n",
    "df_test_copia['idioma'].value_counts()"
   ]
  },
  {
   "cell_type": "code",
   "execution_count": 65,
   "metadata": {},
   "outputs": [],
   "source": [
    "df_test = pd.read_csv('test.csv', sep=',')\n",
    "df_test_copia = df_test.copy()\n",
    "df_test_copia['review_es'] = df_test_copia['review_es'].apply(tokenize)\n",
    "\n",
    "df_test_copia['review_es'] = df_test_copia['review_es'].apply(lambda x: ' '.join(x))\n",
    "\n",
    "prediccion = modelo_regresion_logistica.predict(df_test_copia['review_es'])\n",
    "prediccion = np.where(prediccion == 0, 'negativo', 'positivo')\n",
    "\n",
    "df_entrega = df_test.copy()\n",
    "\n",
    "df_entrega['sentimiento'] = prediccion\n",
    "df_entrega.drop('review_es', axis=1, inplace=True)\n",
    "\n",
    "df_entrega.to_csv('lr_upgrade.csv', index=False)"
   ]
  }
 ],
 "metadata": {
  "kernelspec": {
   "display_name": "base",
   "language": "python",
   "name": "python3"
  },
  "language_info": {
   "codemirror_mode": {
    "name": "ipython",
    "version": 3
   },
   "file_extension": ".py",
   "mimetype": "text/x-python",
   "name": "python",
   "nbconvert_exporter": "python",
   "pygments_lexer": "ipython3",
   "version": "3.11.4"
  }
 },
 "nbformat": 4,
 "nbformat_minor": 2
}
