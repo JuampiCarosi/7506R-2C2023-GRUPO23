{
 "cells": [
  {
   "cell_type": "markdown",
   "metadata": {},
   "source": [
    "# TP 2 - Procesamiento del Lenguaje Natural"
   ]
  },
  {
   "cell_type": "markdown",
   "metadata": {},
   "source": [
    "## Librerias y Funciones\n"
   ]
  },
  {
   "cell_type": "code",
   "execution_count": 2,
   "metadata": {},
   "outputs": [],
   "source": [
    "import pandas as pd\n",
    "import numpy as np\n",
    "from sklearn.metrics import f1_score,  recall_score, precision_score, accuracy_score\n",
    "from sklearn.model_selection import train_test_split\n",
    "from sklearn.feature_extraction.text import CountVectorizer, TfidfVectorizer\n",
    "from sklearn.naive_bayes import MultinomialNB, GaussianNB, BernoulliNB\n",
    "from sklearn.pipeline import make_pipeline, Pipeline\n",
    "from sklearn.metrics import confusion_matrix\n",
    "from mlxtend.preprocessing import DenseTransformer\n",
    "from xgboost import XGBClassifier\n",
    "from sklearn.metrics import f1_score\n",
    "import matplotlib.pyplot as plt\n",
    "import seaborn as sns\n",
    "import re\n",
    "import nltk\n",
    "from nltk.corpus import stopwords\n",
    "from langdetect import detect\n",
    "from sklearn.metrics import confusion_matrix\n",
    "from sklearn.linear_model import LogisticRegression\n",
    "from sklearn.pipeline import Pipeline\n",
    "from sklearn.feature_extraction.text import TfidfVectorizer\n",
    "from sklearn.metrics import f1_score\n",
    "from sklearn.model_selection import RandomizedSearchCV\n",
    "from sklearn.model_selection import StratifiedKFold\n",
    "# import tensorflow as tf\n",
    "# from tensorflow import keras\n",
    "# from tensorflow.keras.layers import Dense, Activation\n",
    "# from tensorflow.keras.optimizers import SGD\n",
    "# from tensorflow.keras.preprocessing.text import Tokenizer\n",
    "# from tensorflow.keras.preprocessing.sequence import pad_sequences\n",
    "# from tensorflow.keras.callbacks import EarlyStopping\n",
    "# from tensorflow.keras.layers import LSTM, Embedding, GRU\n",
    "# from tensorflow.keras.layers import Input\n",
    "from nltk.tokenize.toktok import ToktokTokenizer\n",
    "from emoji import emoji_count, demojize\n",
    "from sklearn.ensemble import RandomForestClassifier\n",
    "from sklearn.model_selection import RandomizedSearchCV\n",
    "from sklearn.model_selection import StratifiedKFold\n",
    "from sklearn.svm import SVC\n",
    "from sklearn.ensemble import VotingClassifier\n",
    "from sklearn.ensemble import StackingClassifier\n",
    "import os\n",
    "# import pickle\n",
    "# import spacy\n",
    "from sklearn.tree import DecisionTreeClassifier\n",
    "# from keras.optimizers.legacy import Adam\n",
    "# from keras.layers import Input, Dense, Embedding, Concatenate, Dropout, GlobalAveragePooling1D, GlobalMaxPooling1D, Bidirectional, GRU, Flatten, Conv1D, MaxPooling1D, LSTM\n",
    "# from tensorflow.keras.models import Model"
   ]
  },
  {
   "cell_type": "code",
   "execution_count": 72,
   "metadata": {},
   "outputs": [],
   "source": [
    "def mostrar_scores(y_test: np.ndarray, y_prediccion: np.ndarray):\n",
    "    accuracy = accuracy_score(y_test,y_prediccion)\n",
    "    recall = recall_score(y_test,y_prediccion)\n",
    "    f1 = f1_score(y_test,y_prediccion,)\n",
    "    precision = precision_score(y_test,y_prediccion)\n",
    "\n",
    "    print(\"Accuracy: \"+str(accuracy))\n",
    "    print(\"Recall: \"+str(recall))\n",
    "    print(\"Precision: \"+str(precision))\n",
    "    print(\"f1 score: \"+str(f1))\n",
    "\n",
    "def cantidad_de_palabras(review):\n",
    "    return len(review.split())"
   ]
  },
  {
   "cell_type": "markdown",
   "metadata": {},
   "source": [
    "## Analisis Exploratorio"
   ]
  },
  {
   "cell_type": "markdown",
   "metadata": {},
   "source": [
    "Comenzamos con el analisis exploratorio de los datos, para ello vamos a cargar los datos y a ver como estan distribuidos."
   ]
  },
  {
   "cell_type": "code",
   "execution_count": 4,
   "metadata": {},
   "outputs": [
    {
     "data": {
      "text/html": [
       "<div>\n",
       "<style scoped>\n",
       "    .dataframe tbody tr th:only-of-type {\n",
       "        vertical-align: middle;\n",
       "    }\n",
       "\n",
       "    .dataframe tbody tr th {\n",
       "        vertical-align: top;\n",
       "    }\n",
       "\n",
       "    .dataframe thead th {\n",
       "        text-align: right;\n",
       "    }\n",
       "</style>\n",
       "<table border=\"1\" class=\"dataframe\">\n",
       "  <thead>\n",
       "    <tr style=\"text-align: right;\">\n",
       "      <th></th>\n",
       "      <th>ID</th>\n",
       "      <th>review_es</th>\n",
       "      <th>sentimiento</th>\n",
       "    </tr>\n",
       "  </thead>\n",
       "  <tbody>\n",
       "    <tr>\n",
       "      <th>0</th>\n",
       "      <td>0</td>\n",
       "      <td>Uno de los otros críticos ha mencionado que de...</td>\n",
       "      <td>positivo</td>\n",
       "    </tr>\n",
       "    <tr>\n",
       "      <th>1</th>\n",
       "      <td>1</td>\n",
       "      <td>Una pequeña pequeña producción.La técnica de f...</td>\n",
       "      <td>positivo</td>\n",
       "    </tr>\n",
       "    <tr>\n",
       "      <th>2</th>\n",
       "      <td>2</td>\n",
       "      <td>Pensé que esta era una manera maravillosa de p...</td>\n",
       "      <td>positivo</td>\n",
       "    </tr>\n",
       "    <tr>\n",
       "      <th>3</th>\n",
       "      <td>3</td>\n",
       "      <td>Básicamente, hay una familia donde un niño peq...</td>\n",
       "      <td>negativo</td>\n",
       "    </tr>\n",
       "    <tr>\n",
       "      <th>4</th>\n",
       "      <td>4</td>\n",
       "      <td>El \"amor en el tiempo\" de Petter Mattei es una...</td>\n",
       "      <td>positivo</td>\n",
       "    </tr>\n",
       "    <tr>\n",
       "      <th>5</th>\n",
       "      <td>5</td>\n",
       "      <td>Probablemente mi película favorita de todos lo...</td>\n",
       "      <td>positivo</td>\n",
       "    </tr>\n",
       "    <tr>\n",
       "      <th>6</th>\n",
       "      <td>6</td>\n",
       "      <td>Seguro que me gustaría ver una resurrección de...</td>\n",
       "      <td>positivo</td>\n",
       "    </tr>\n",
       "    <tr>\n",
       "      <th>7</th>\n",
       "      <td>7</td>\n",
       "      <td>Este espectáculo fue una idea increíble, fresc...</td>\n",
       "      <td>negativo</td>\n",
       "    </tr>\n",
       "    <tr>\n",
       "      <th>8</th>\n",
       "      <td>8</td>\n",
       "      <td>Alentados por los comentarios positivos sobre ...</td>\n",
       "      <td>negativo</td>\n",
       "    </tr>\n",
       "    <tr>\n",
       "      <th>9</th>\n",
       "      <td>9</td>\n",
       "      <td>Si te gusta la risa original desgarradora, te ...</td>\n",
       "      <td>positivo</td>\n",
       "    </tr>\n",
       "  </tbody>\n",
       "</table>\n",
       "</div>"
      ],
      "text/plain": [
       "   ID                                          review_es sentimiento\n",
       "0   0  Uno de los otros críticos ha mencionado que de...    positivo\n",
       "1   1  Una pequeña pequeña producción.La técnica de f...    positivo\n",
       "2   2  Pensé que esta era una manera maravillosa de p...    positivo\n",
       "3   3  Básicamente, hay una familia donde un niño peq...    negativo\n",
       "4   4  El \"amor en el tiempo\" de Petter Mattei es una...    positivo\n",
       "5   5  Probablemente mi película favorita de todos lo...    positivo\n",
       "6   6  Seguro que me gustaría ver una resurrección de...    positivo\n",
       "7   7  Este espectáculo fue una idea increíble, fresc...    negativo\n",
       "8   8  Alentados por los comentarios positivos sobre ...    negativo\n",
       "9   9  Si te gusta la risa original desgarradora, te ...    positivo"
      ]
     },
     "execution_count": 4,
     "metadata": {},
     "output_type": "execute_result"
    }
   ],
   "source": [
    "df = pd.read_csv('datasets/train.csv', sep=',')\n",
    "df.head(10)"
   ]
  },
  {
   "cell_type": "markdown",
   "metadata": {},
   "source": [
    "Podemos observar que contamos con un total de 50000 reviews"
   ]
  },
  {
   "cell_type": "code",
   "execution_count": 74,
   "metadata": {},
   "outputs": [
    {
     "data": {
      "text/plain": [
       "(50000, 3)"
      ]
     },
     "execution_count": 74,
     "metadata": {},
     "output_type": "execute_result"
    }
   ],
   "source": [
    "df.shape"
   ]
  },
  {
   "cell_type": "markdown",
   "metadata": {},
   "source": [
    "Como se puede observar en la siguiente celda, veremos la distribucion del sentimiento de las reviews, con mitad de las mismas positivas y mitad de reviews negativas."
   ]
  },
  {
   "cell_type": "code",
   "execution_count": 75,
   "metadata": {},
   "outputs": [
    {
     "data": {
      "text/plain": [
       "sentimiento\n",
       "negativo    25000\n",
       "positivo    25000\n",
       "Name: count, dtype: int64"
      ]
     },
     "execution_count": 75,
     "metadata": {},
     "output_type": "execute_result"
    }
   ],
   "source": [
    "df.value_counts('sentimiento')"
   ]
  },
  {
   "cell_type": "markdown",
   "metadata": {},
   "source": [
    "A continuacion vamos a adentrarnos a analizar las caracteristicas de las reviews en general."
   ]
  },
  {
   "cell_type": "markdown",
   "metadata": {},
   "source": [
    "En primer lugar vamos a analizar el dataset para ver si contiene emojis"
   ]
  },
  {
   "cell_type": "code",
   "execution_count": 76,
   "metadata": {},
   "outputs": [
    {
     "data": {
      "text/html": [
       "<div>\n",
       "<style scoped>\n",
       "    .dataframe tbody tr th:only-of-type {\n",
       "        vertical-align: middle;\n",
       "    }\n",
       "\n",
       "    .dataframe tbody tr th {\n",
       "        vertical-align: top;\n",
       "    }\n",
       "\n",
       "    .dataframe thead th {\n",
       "        text-align: right;\n",
       "    }\n",
       "</style>\n",
       "<table border=\"1\" class=\"dataframe\">\n",
       "  <thead>\n",
       "    <tr style=\"text-align: right;\">\n",
       "      <th></th>\n",
       "      <th>cantidad_emojis</th>\n",
       "      <th>cantidad_filas</th>\n",
       "    </tr>\n",
       "  </thead>\n",
       "  <tbody>\n",
       "    <tr>\n",
       "      <th>0</th>\n",
       "      <td>0</td>\n",
       "      <td>49995</td>\n",
       "    </tr>\n",
       "    <tr>\n",
       "      <th>1</th>\n",
       "      <td>1</td>\n",
       "      <td>5</td>\n",
       "    </tr>\n",
       "  </tbody>\n",
       "</table>\n",
       "</div>"
      ],
      "text/plain": [
       "   cantidad_emojis  cantidad_filas\n",
       "0                0           49995\n",
       "1                1               5"
      ]
     },
     "execution_count": 76,
     "metadata": {},
     "output_type": "execute_result"
    }
   ],
   "source": [
    "df['tiene_emoji'] = df['review_es'].apply(emoji_count)\n",
    "cantidad_emojis = df['tiene_emoji'].value_counts().reset_index()\n",
    "cantidad_emojis.columns = ['cantidad_emojis', 'cantidad_filas']\n",
    "cantidad_emojis"
   ]
  },
  {
   "cell_type": "markdown",
   "metadata": {},
   "source": [
    "Por otro lado, buscaremos saber como se distribuye la longitud de las reviews. Para ello, vamos a calcular la cantidad de palabras de cada review."
   ]
  },
  {
   "cell_type": "code",
   "execution_count": 77,
   "metadata": {},
   "outputs": [],
   "source": [
    "df['cantidad_de_palabras'] = df['review_es'].apply(cantidad_de_palabras)"
   ]
  },
  {
   "cell_type": "code",
   "execution_count": 78,
   "metadata": {},
   "outputs": [
    {
     "data": {
      "text/plain": [
       "count    50000.000000\n",
       "mean       237.233680\n",
       "std        179.529306\n",
       "min          6.000000\n",
       "25%        123.000000\n",
       "50%        172.000000\n",
       "75%        293.000000\n",
       "max       2450.000000\n",
       "Name: cantidad_de_palabras, dtype: float64"
      ]
     },
     "execution_count": 78,
     "metadata": {},
     "output_type": "execute_result"
    }
   ],
   "source": [
    "df['cantidad_de_palabras'].describe()"
   ]
  },
  {
   "cell_type": "markdown",
   "metadata": {},
   "source": [
    "Ahora realizaremos un analisis grafico de la cantidad de palabras para ver si encontramos ciertas tendencias."
   ]
  },
  {
   "cell_type": "code",
   "execution_count": 79,
   "metadata": {},
   "outputs": [
    {
     "name": "stderr",
     "output_type": "stream",
     "text": [
      "/Users/juampi/Library/Python/3.9/lib/python/site-packages/seaborn/_oldcore.py:1498: FutureWarning: is_categorical_dtype is deprecated and will be removed in a future version. Use isinstance(dtype, CategoricalDtype) instead\n",
      "  if pd.api.types.is_categorical_dtype(vector):\n",
      "/Users/juampi/Library/Python/3.9/lib/python/site-packages/seaborn/_oldcore.py:1119: FutureWarning: use_inf_as_na option is deprecated and will be removed in a future version. Convert inf values to NaN before operating instead.\n",
      "  with pd.option_context('mode.use_inf_as_na', True):\n",
      "/Users/juampi/Library/Python/3.9/lib/python/site-packages/seaborn/_oldcore.py:1498: FutureWarning: is_categorical_dtype is deprecated and will be removed in a future version. Use isinstance(dtype, CategoricalDtype) instead\n",
      "  if pd.api.types.is_categorical_dtype(vector):\n",
      "/Users/juampi/Library/Python/3.9/lib/python/site-packages/seaborn/_oldcore.py:1119: FutureWarning: use_inf_as_na option is deprecated and will be removed in a future version. Convert inf values to NaN before operating instead.\n",
      "  with pd.option_context('mode.use_inf_as_na', True):\n"
     ]
    },
    {
     "data": {
      "image/png": "[encoded data removed]",
      "text/plain": [
       "<Figure size 1400x400 with 2 Axes>"
      ]
     },
     "metadata": {},
     "output_type": "display_data"
    }
   ],
   "source": [
    "sns.set_style('whitegrid')\n",
    "fig, (ax1, ax2) = plt.subplots(1, 2, figsize=(14, 4))\n",
    "\n",
    "sns.kdeplot(df['cantidad_de_palabras'], fill=True, ax=ax1).set_title('Distribución de la cantidad de palabras por review')\n",
    "ax1.set_ylabel('Densidad')\n",
    "ax1.set_xlabel('Cantidad de palabras')\n",
    "\n",
    "sns.histplot(df['cantidad_de_palabras'],  ax=ax2, bins=150, kde=False).set_title('Distribución de la cantidad de palabras por review')\n",
    "ax2.set_xlabel('Cantidad de palabras')\n",
    "ax2.set_ylabel('Cantidad de reviews')\n",
    "\n",
    "plt.title('Cantidad de palabras por review')\n",
    "plt.tight_layout()\n",
    "plt.show()"
   ]
  },
  {
   "cell_type": "code",
   "execution_count": 80,
   "metadata": {},
   "outputs": [
    {
     "data": {
      "image/png": "[encoded data removed]",
      "text/plain": [
       "<Figure size 1200x800 with 1 Axes>"
      ]
     },
     "metadata": {},
     "output_type": "display_data"
    }
   ],
   "source": [
    "sns.set_style('whitegrid')\n",
    "plt.figure(figsize=(12, 8))\n",
    "sns.boxplot(df['cantidad_de_palabras'], color='blue')\n",
    "plt.ylabel('Cantidad de palabras')\n",
    "plt.title('Cantidad de palabras por review')\n",
    "plt.show()"
   ]
  },
  {
   "cell_type": "markdown",
   "metadata": {},
   "source": [
    "Como se puede observar en el boxplot de arriba, contamos con bastantes outliers en la cantidad de palabras de las reviews. Por lo tanto, vamos a utilizar otras tecnicas como el z-score y z-score modificado para ver cuantas reviews serian consideradas outliers."
   ]
  },
  {
   "cell_type": "code",
   "execution_count": 7,
   "metadata": {},
   "outputs": [
    {
     "ename": "KeyError",
     "evalue": "'cantidad_de_palabras'",
     "output_type": "error",
     "traceback": [
      "\u001b[0;31m---------------------------------------------------------------------------\u001b[0m",
      "\u001b[0;31mKeyError\u001b[0m                                  Traceback (most recent call last)",
      "File \u001b[0;32m~/anaconda3/lib/python3.11/site-packages/pandas/core/indexes/base.py:3790\u001b[0m, in \u001b[0;36mIndex.get_loc\u001b[0;34m(self, key)\u001b[0m\n\u001b[1;32m   3789\u001b[0m \u001b[39mtry\u001b[39;00m:\n\u001b[0;32m-> 3790\u001b[0m     \u001b[39mreturn\u001b[39;00m \u001b[39mself\u001b[39m\u001b[39m.\u001b[39m_engine\u001b[39m.\u001b[39mget_loc(casted_key)\n\u001b[1;32m   3791\u001b[0m \u001b[39mexcept\u001b[39;00m \u001b[39mKeyError\u001b[39;00m \u001b[39mas\u001b[39;00m err:\n",
      "File \u001b[0;32mindex.pyx:152\u001b[0m, in \u001b[0;36mpandas._libs.index.IndexEngine.get_loc\u001b[0;34m()\u001b[0m\n",
      "File \u001b[0;32mindex.pyx:181\u001b[0m, in \u001b[0;36mpandas._libs.index.IndexEngine.get_loc\u001b[0;34m()\u001b[0m\n",
      "File \u001b[0;32mpandas/_libs/hashtable_class_helper.pxi:7080\u001b[0m, in \u001b[0;36mpandas._libs.hashtable.PyObjectHashTable.get_item\u001b[0;34m()\u001b[0m\n",
      "File \u001b[0;32mpandas/_libs/hashtable_class_helper.pxi:7088\u001b[0m, in \u001b[0;36mpandas._libs.hashtable.PyObjectHashTable.get_item\u001b[0;34m()\u001b[0m\n",
      "\u001b[0;31mKeyError\u001b[0m: 'cantidad_de_palabras'",
      "\nThe above exception was the direct cause of the following exception:\n",
      "\u001b[0;31mKeyError\u001b[0m                                  Traceback (most recent call last)",
      "\u001b[1;32m/Users/juampi/Documents/uba/Cuarto Cuatrimestre/Organizacion de Datos/tp2/7506R_TP2_GRUPO23_ENTREGA.ipynb Cell 22\u001b[0m line \u001b[0;36m1\n\u001b[0;32m----> <a href='vscode-notebook-cell:/Users/juampi/Documents/uba/Cuarto%20Cuatrimestre/Organizacion%20de%20Datos/tp2/7506R_TP2_GRUPO23_ENTREGA.ipynb#X30sZmlsZQ%3D%3D?line=0'>1</a>\u001b[0m df[\u001b[39m'\u001b[39m\u001b[39mzscore\u001b[39m\u001b[39m'\u001b[39m] \u001b[39m=\u001b[39m (df[\u001b[39m'\u001b[39m\u001b[39mcantidad_de_palabras\u001b[39m\u001b[39m'\u001b[39m] \u001b[39m-\u001b[39m df[\u001b[39m'\u001b[39m\u001b[39mcantidad_de_palabras\u001b[39m\u001b[39m'\u001b[39m]\u001b[39m.\u001b[39mmean()) \u001b[39m/\u001b[39m df[\u001b[39m'\u001b[39m\u001b[39mcantidad_de_palabras\u001b[39m\u001b[39m'\u001b[39m]\u001b[39m.\u001b[39mstd()\n",
      "File \u001b[0;32m~/anaconda3/lib/python3.11/site-packages/pandas/core/frame.py:3896\u001b[0m, in \u001b[0;36mDataFrame.__getitem__\u001b[0;34m(self, key)\u001b[0m\n\u001b[1;32m   3894\u001b[0m \u001b[39mif\u001b[39;00m \u001b[39mself\u001b[39m\u001b[39m.\u001b[39mcolumns\u001b[39m.\u001b[39mnlevels \u001b[39m>\u001b[39m \u001b[39m1\u001b[39m:\n\u001b[1;32m   3895\u001b[0m     \u001b[39mreturn\u001b[39;00m \u001b[39mself\u001b[39m\u001b[39m.\u001b[39m_getitem_multilevel(key)\n\u001b[0;32m-> 3896\u001b[0m indexer \u001b[39m=\u001b[39m \u001b[39mself\u001b[39m\u001b[39m.\u001b[39mcolumns\u001b[39m.\u001b[39mget_loc(key)\n\u001b[1;32m   3897\u001b[0m \u001b[39mif\u001b[39;00m is_integer(indexer):\n\u001b[1;32m   3898\u001b[0m     indexer \u001b[39m=\u001b[39m [indexer]\n",
      "File \u001b[0;32m~/anaconda3/lib/python3.11/site-packages/pandas/core/indexes/base.py:3797\u001b[0m, in \u001b[0;36mIndex.get_loc\u001b[0;34m(self, key)\u001b[0m\n\u001b[1;32m   3792\u001b[0m     \u001b[39mif\u001b[39;00m \u001b[39misinstance\u001b[39m(casted_key, \u001b[39mslice\u001b[39m) \u001b[39mor\u001b[39;00m (\n\u001b[1;32m   3793\u001b[0m         \u001b[39misinstance\u001b[39m(casted_key, abc\u001b[39m.\u001b[39mIterable)\n\u001b[1;32m   3794\u001b[0m         \u001b[39mand\u001b[39;00m \u001b[39many\u001b[39m(\u001b[39misinstance\u001b[39m(x, \u001b[39mslice\u001b[39m) \u001b[39mfor\u001b[39;00m x \u001b[39min\u001b[39;00m casted_key)\n\u001b[1;32m   3795\u001b[0m     ):\n\u001b[1;32m   3796\u001b[0m         \u001b[39mraise\u001b[39;00m InvalidIndexError(key)\n\u001b[0;32m-> 3797\u001b[0m     \u001b[39mraise\u001b[39;00m \u001b[39mKeyError\u001b[39;00m(key) \u001b[39mfrom\u001b[39;00m \u001b[39merr\u001b[39;00m\n\u001b[1;32m   3798\u001b[0m \u001b[39mexcept\u001b[39;00m \u001b[39mTypeError\u001b[39;00m:\n\u001b[1;32m   3799\u001b[0m     \u001b[39m# If we have a listlike key, _check_indexing_error will raise\u001b[39;00m\n\u001b[1;32m   3800\u001b[0m     \u001b[39m#  InvalidIndexError. Otherwise we fall through and re-raise\u001b[39;00m\n\u001b[1;32m   3801\u001b[0m     \u001b[39m#  the TypeError.\u001b[39;00m\n\u001b[1;32m   3802\u001b[0m     \u001b[39mself\u001b[39m\u001b[39m.\u001b[39m_check_indexing_error(key)\n",
      "\u001b[0;31mKeyError\u001b[0m: 'cantidad_de_palabras'"
     ]
    }
   ],
   "source": [
    "df['zscore'] = (df['cantidad_de_palabras'] - df['cantidad_de_palabras'].mean()) / df['cantidad_de_palabras'].std()"
   ]
  },
  {
   "cell_type": "code",
   "execution_count": 82,
   "metadata": {},
   "outputs": [
    {
     "data": {
      "text/plain": [
       "(1240, 6)"
      ]
     },
     "execution_count": 82,
     "metadata": {},
     "output_type": "execute_result"
    }
   ],
   "source": [
    "df_z_score = df[(df['zscore'] > 3) | (df['zscore'] < -3)]\n",
    "df_z_score.shape"
   ]
  },
  {
   "cell_type": "code",
   "execution_count": 6,
   "metadata": {},
   "outputs": [
    {
     "ename": "KeyError",
     "evalue": "'cantidad_de_palabras'",
     "output_type": "error",
     "traceback": [
      "\u001b[0;31m---------------------------------------------------------------------------\u001b[0m",
      "\u001b[0;31mKeyError\u001b[0m                                  Traceback (most recent call last)",
      "File \u001b[0;32m~/anaconda3/lib/python3.11/site-packages/pandas/core/indexes/base.py:3790\u001b[0m, in \u001b[0;36mIndex.get_loc\u001b[0;34m(self, key)\u001b[0m\n\u001b[1;32m   3789\u001b[0m \u001b[39mtry\u001b[39;00m:\n\u001b[0;32m-> 3790\u001b[0m     \u001b[39mreturn\u001b[39;00m \u001b[39mself\u001b[39m\u001b[39m.\u001b[39m_engine\u001b[39m.\u001b[39mget_loc(casted_key)\n\u001b[1;32m   3791\u001b[0m \u001b[39mexcept\u001b[39;00m \u001b[39mKeyError\u001b[39;00m \u001b[39mas\u001b[39;00m err:\n",
      "File \u001b[0;32mindex.pyx:152\u001b[0m, in \u001b[0;36mpandas._libs.index.IndexEngine.get_loc\u001b[0;34m()\u001b[0m\n",
      "File \u001b[0;32mindex.pyx:181\u001b[0m, in \u001b[0;36mpandas._libs.index.IndexEngine.get_loc\u001b[0;34m()\u001b[0m\n",
      "File \u001b[0;32mpandas/_libs/hashtable_class_helper.pxi:7080\u001b[0m, in \u001b[0;36mpandas._libs.hashtable.PyObjectHashTable.get_item\u001b[0;34m()\u001b[0m\n",
      "File \u001b[0;32mpandas/_libs/hashtable_class_helper.pxi:7088\u001b[0m, in \u001b[0;36mpandas._libs.hashtable.PyObjectHashTable.get_item\u001b[0;34m()\u001b[0m\n",
      "\u001b[0;31mKeyError\u001b[0m: 'cantidad_de_palabras'",
      "\nThe above exception was the direct cause of the following exception:\n",
      "\u001b[0;31mKeyError\u001b[0m                                  Traceback (most recent call last)",
      "\u001b[1;32m/Users/juampi/Documents/uba/Cuarto Cuatrimestre/Organizacion de Datos/tp2/7506R_TP2_GRUPO23_ENTREGA.ipynb Cell 24\u001b[0m line \u001b[0;36m1\n\u001b[0;32m----> <a href='vscode-notebook-cell:/Users/juampi/Documents/uba/Cuarto%20Cuatrimestre/Organizacion%20de%20Datos/tp2/7506R_TP2_GRUPO23_ENTREGA.ipynb#X32sZmlsZQ%3D%3D?line=0'>1</a>\u001b[0m mediana_cantidad_de_palabras\u001b[39m=\u001b[39mnp\u001b[39m.\u001b[39mmedian(df[\u001b[39m'\u001b[39m\u001b[39mcantidad_de_palabras\u001b[39m\u001b[39m'\u001b[39m])\n\u001b[1;32m      <a href='vscode-notebook-cell:/Users/juampi/Documents/uba/Cuarto%20Cuatrimestre/Organizacion%20de%20Datos/tp2/7506R_TP2_GRUPO23_ENTREGA.ipynb#X32sZmlsZQ%3D%3D?line=1'>2</a>\u001b[0m MAD\u001b[39m=\u001b[39mnp\u001b[39m.\u001b[39mmedian(np\u001b[39m.\u001b[39mabsolute(df[\u001b[39m'\u001b[39m\u001b[39mcantidad_de_palabras\u001b[39m\u001b[39m'\u001b[39m]\u001b[39m-\u001b[39mmediana_cantidad_de_palabras))\n\u001b[1;32m      <a href='vscode-notebook-cell:/Users/juampi/Documents/uba/Cuarto%20Cuatrimestre/Organizacion%20de%20Datos/tp2/7506R_TP2_GRUPO23_ENTREGA.ipynb#X32sZmlsZQ%3D%3D?line=3'>4</a>\u001b[0m df[\u001b[39m'\u001b[39m\u001b[39mzm_cantidad_de_palabras\u001b[39m\u001b[39m'\u001b[39m]\u001b[39m=\u001b[39m(df[\u001b[39m'\u001b[39m\u001b[39mcantidad_de_palabras\u001b[39m\u001b[39m'\u001b[39m] \u001b[39m-\u001b[39m mediana_cantidad_de_palabras)\u001b[39m*\u001b[39m\u001b[39m0.6745\u001b[39m\u001b[39m/\u001b[39mMAD\n",
      "File \u001b[0;32m~/anaconda3/lib/python3.11/site-packages/pandas/core/frame.py:3896\u001b[0m, in \u001b[0;36mDataFrame.__getitem__\u001b[0;34m(self, key)\u001b[0m\n\u001b[1;32m   3894\u001b[0m \u001b[39mif\u001b[39;00m \u001b[39mself\u001b[39m\u001b[39m.\u001b[39mcolumns\u001b[39m.\u001b[39mnlevels \u001b[39m>\u001b[39m \u001b[39m1\u001b[39m:\n\u001b[1;32m   3895\u001b[0m     \u001b[39mreturn\u001b[39;00m \u001b[39mself\u001b[39m\u001b[39m.\u001b[39m_getitem_multilevel(key)\n\u001b[0;32m-> 3896\u001b[0m indexer \u001b[39m=\u001b[39m \u001b[39mself\u001b[39m\u001b[39m.\u001b[39mcolumns\u001b[39m.\u001b[39mget_loc(key)\n\u001b[1;32m   3897\u001b[0m \u001b[39mif\u001b[39;00m is_integer(indexer):\n\u001b[1;32m   3898\u001b[0m     indexer \u001b[39m=\u001b[39m [indexer]\n",
      "File \u001b[0;32m~/anaconda3/lib/python3.11/site-packages/pandas/core/indexes/base.py:3797\u001b[0m, in \u001b[0;36mIndex.get_loc\u001b[0;34m(self, key)\u001b[0m\n\u001b[1;32m   3792\u001b[0m     \u001b[39mif\u001b[39;00m \u001b[39misinstance\u001b[39m(casted_key, \u001b[39mslice\u001b[39m) \u001b[39mor\u001b[39;00m (\n\u001b[1;32m   3793\u001b[0m         \u001b[39misinstance\u001b[39m(casted_key, abc\u001b[39m.\u001b[39mIterable)\n\u001b[1;32m   3794\u001b[0m         \u001b[39mand\u001b[39;00m \u001b[39many\u001b[39m(\u001b[39misinstance\u001b[39m(x, \u001b[39mslice\u001b[39m) \u001b[39mfor\u001b[39;00m x \u001b[39min\u001b[39;00m casted_key)\n\u001b[1;32m   3795\u001b[0m     ):\n\u001b[1;32m   3796\u001b[0m         \u001b[39mraise\u001b[39;00m InvalidIndexError(key)\n\u001b[0;32m-> 3797\u001b[0m     \u001b[39mraise\u001b[39;00m \u001b[39mKeyError\u001b[39;00m(key) \u001b[39mfrom\u001b[39;00m \u001b[39merr\u001b[39;00m\n\u001b[1;32m   3798\u001b[0m \u001b[39mexcept\u001b[39;00m \u001b[39mTypeError\u001b[39;00m:\n\u001b[1;32m   3799\u001b[0m     \u001b[39m# If we have a listlike key, _check_indexing_error will raise\u001b[39;00m\n\u001b[1;32m   3800\u001b[0m     \u001b[39m#  InvalidIndexError. Otherwise we fall through and re-raise\u001b[39;00m\n\u001b[1;32m   3801\u001b[0m     \u001b[39m#  the TypeError.\u001b[39;00m\n\u001b[1;32m   3802\u001b[0m     \u001b[39mself\u001b[39m\u001b[39m.\u001b[39m_check_indexing_error(key)\n",
      "\u001b[0;31mKeyError\u001b[0m: 'cantidad_de_palabras'"
     ]
    }
   ],
   "source": [
    "mediana_cantidad_de_palabras=np.median(df['cantidad_de_palabras'])\n",
    "MAD=np.median(np.absolute(df['cantidad_de_palabras']-mediana_cantidad_de_palabras))\n",
    "\n",
    "df['zm_cantidad_de_palabras']=(df['cantidad_de_palabras'] - mediana_cantidad_de_palabras)*0.6745/MAD\n",
    "df[np.absolute(df['zm_cantidad_de_palabras'] > 3.5)].shape"
   ]
  },
  {
   "cell_type": "code",
   "execution_count": 5,
   "metadata": {},
   "outputs": [
    {
     "ename": "KeyError",
     "evalue": "'zm_cantidad_de_palabras'",
     "output_type": "error",
     "traceback": [
      "\u001b[0;31m---------------------------------------------------------------------------\u001b[0m",
      "\u001b[0;31mKeyError\u001b[0m                                  Traceback (most recent call last)",
      "File \u001b[0;32m~/anaconda3/lib/python3.11/site-packages/pandas/core/indexes/base.py:3790\u001b[0m, in \u001b[0;36mIndex.get_loc\u001b[0;34m(self, key)\u001b[0m\n\u001b[1;32m   3789\u001b[0m \u001b[39mtry\u001b[39;00m:\n\u001b[0;32m-> 3790\u001b[0m     \u001b[39mreturn\u001b[39;00m \u001b[39mself\u001b[39m\u001b[39m.\u001b[39m_engine\u001b[39m.\u001b[39mget_loc(casted_key)\n\u001b[1;32m   3791\u001b[0m \u001b[39mexcept\u001b[39;00m \u001b[39mKeyError\u001b[39;00m \u001b[39mas\u001b[39;00m err:\n",
      "File \u001b[0;32mindex.pyx:152\u001b[0m, in \u001b[0;36mpandas._libs.index.IndexEngine.get_loc\u001b[0;34m()\u001b[0m\n",
      "File \u001b[0;32mindex.pyx:181\u001b[0m, in \u001b[0;36mpandas._libs.index.IndexEngine.get_loc\u001b[0;34m()\u001b[0m\n",
      "File \u001b[0;32mpandas/_libs/hashtable_class_helper.pxi:7080\u001b[0m, in \u001b[0;36mpandas._libs.hashtable.PyObjectHashTable.get_item\u001b[0;34m()\u001b[0m\n",
      "File \u001b[0;32mpandas/_libs/hashtable_class_helper.pxi:7088\u001b[0m, in \u001b[0;36mpandas._libs.hashtable.PyObjectHashTable.get_item\u001b[0;34m()\u001b[0m\n",
      "\u001b[0;31mKeyError\u001b[0m: 'zm_cantidad_de_palabras'",
      "\nThe above exception was the direct cause of the following exception:\n",
      "\u001b[0;31mKeyError\u001b[0m                                  Traceback (most recent call last)",
      "\u001b[1;32m/Users/juampi/Documents/uba/Cuarto Cuatrimestre/Organizacion de Datos/tp2/7506R_TP2_GRUPO23_ENTREGA.ipynb Cell 25\u001b[0m line \u001b[0;36m1\n\u001b[0;32m----> <a href='vscode-notebook-cell:/Users/juampi/Documents/uba/Cuarto%20Cuatrimestre/Organizacion%20de%20Datos/tp2/7506R_TP2_GRUPO23_ENTREGA.ipynb#X33sZmlsZQ%3D%3D?line=0'>1</a>\u001b[0m sns\u001b[39m.\u001b[39mcountplot(df[np\u001b[39m.\u001b[39mabsolute(df[\u001b[39m'\u001b[39m\u001b[39mzm_cantidad_de_palabras\u001b[39m\u001b[39m'\u001b[39m] \u001b[39m>\u001b[39m \u001b[39m3.5\u001b[39m)][\u001b[39m'\u001b[39m\u001b[39msentimiento\u001b[39m\u001b[39m'\u001b[39m])\n\u001b[1;32m      <a href='vscode-notebook-cell:/Users/juampi/Documents/uba/Cuarto%20Cuatrimestre/Organizacion%20de%20Datos/tp2/7506R_TP2_GRUPO23_ENTREGA.ipynb#X33sZmlsZQ%3D%3D?line=1'>2</a>\u001b[0m plt\u001b[39m.\u001b[39mxlabel(\u001b[39m'\u001b[39m\u001b[39mSentimiento\u001b[39m\u001b[39m'\u001b[39m)\n\u001b[1;32m      <a href='vscode-notebook-cell:/Users/juampi/Documents/uba/Cuarto%20Cuatrimestre/Organizacion%20de%20Datos/tp2/7506R_TP2_GRUPO23_ENTREGA.ipynb#X33sZmlsZQ%3D%3D?line=2'>3</a>\u001b[0m plt\u001b[39m.\u001b[39mtitle(\u001b[39m'\u001b[39m\u001b[39mCantidad de reviews positivos y negativos\u001b[39m\u001b[39m'\u001b[39m)\n",
      "File \u001b[0;32m~/anaconda3/lib/python3.11/site-packages/pandas/core/frame.py:3896\u001b[0m, in \u001b[0;36mDataFrame.__getitem__\u001b[0;34m(self, key)\u001b[0m\n\u001b[1;32m   3894\u001b[0m \u001b[39mif\u001b[39;00m \u001b[39mself\u001b[39m\u001b[39m.\u001b[39mcolumns\u001b[39m.\u001b[39mnlevels \u001b[39m>\u001b[39m \u001b[39m1\u001b[39m:\n\u001b[1;32m   3895\u001b[0m     \u001b[39mreturn\u001b[39;00m \u001b[39mself\u001b[39m\u001b[39m.\u001b[39m_getitem_multilevel(key)\n\u001b[0;32m-> 3896\u001b[0m indexer \u001b[39m=\u001b[39m \u001b[39mself\u001b[39m\u001b[39m.\u001b[39mcolumns\u001b[39m.\u001b[39mget_loc(key)\n\u001b[1;32m   3897\u001b[0m \u001b[39mif\u001b[39;00m is_integer(indexer):\n\u001b[1;32m   3898\u001b[0m     indexer \u001b[39m=\u001b[39m [indexer]\n",
      "File \u001b[0;32m~/anaconda3/lib/python3.11/site-packages/pandas/core/indexes/base.py:3797\u001b[0m, in \u001b[0;36mIndex.get_loc\u001b[0;34m(self, key)\u001b[0m\n\u001b[1;32m   3792\u001b[0m     \u001b[39mif\u001b[39;00m \u001b[39misinstance\u001b[39m(casted_key, \u001b[39mslice\u001b[39m) \u001b[39mor\u001b[39;00m (\n\u001b[1;32m   3793\u001b[0m         \u001b[39misinstance\u001b[39m(casted_key, abc\u001b[39m.\u001b[39mIterable)\n\u001b[1;32m   3794\u001b[0m         \u001b[39mand\u001b[39;00m \u001b[39many\u001b[39m(\u001b[39misinstance\u001b[39m(x, \u001b[39mslice\u001b[39m) \u001b[39mfor\u001b[39;00m x \u001b[39min\u001b[39;00m casted_key)\n\u001b[1;32m   3795\u001b[0m     ):\n\u001b[1;32m   3796\u001b[0m         \u001b[39mraise\u001b[39;00m InvalidIndexError(key)\n\u001b[0;32m-> 3797\u001b[0m     \u001b[39mraise\u001b[39;00m \u001b[39mKeyError\u001b[39;00m(key) \u001b[39mfrom\u001b[39;00m \u001b[39merr\u001b[39;00m\n\u001b[1;32m   3798\u001b[0m \u001b[39mexcept\u001b[39;00m \u001b[39mTypeError\u001b[39;00m:\n\u001b[1;32m   3799\u001b[0m     \u001b[39m# If we have a listlike key, _check_indexing_error will raise\u001b[39;00m\n\u001b[1;32m   3800\u001b[0m     \u001b[39m#  InvalidIndexError. Otherwise we fall through and re-raise\u001b[39;00m\n\u001b[1;32m   3801\u001b[0m     \u001b[39m#  the TypeError.\u001b[39;00m\n\u001b[1;32m   3802\u001b[0m     \u001b[39mself\u001b[39m\u001b[39m.\u001b[39m_check_indexing_error(key)\n",
      "\u001b[0;31mKeyError\u001b[0m: 'zm_cantidad_de_palabras'"
     ]
    }
   ],
   "source": [
    "sns.countplot(df[np.absolute(df['zm_cantidad_de_palabras'] > 3.5)]['sentimiento'])\n",
    "plt.xlabel('Sentimiento')\n",
    "plt.title('Cantidad de reviews positivos y negativos')\n",
    "plt.show()"
   ]
  },
  {
   "cell_type": "markdown",
   "metadata": {},
   "source": [
    "Por otro lado, creimos que tambien seria interesante ver como se distribuye la cantidad de palabras de las reviews en funcion de su sentimiento."
   ]
  },
  {
   "cell_type": "code",
   "execution_count": 91,
   "metadata": {},
   "outputs": [
    {
     "name": "stderr",
     "output_type": "stream",
     "text": [
      "/Users/juampi/Library/Python/3.9/lib/python/site-packages/seaborn/_oldcore.py:1498: FutureWarning: is_categorical_dtype is deprecated and will be removed in a future version. Use isinstance(dtype, CategoricalDtype) instead\n",
      "  if pd.api.types.is_categorical_dtype(vector):\n",
      "/Users/juampi/Library/Python/3.9/lib/python/site-packages/seaborn/_oldcore.py:1498: FutureWarning: is_categorical_dtype is deprecated and will be removed in a future version. Use isinstance(dtype, CategoricalDtype) instead\n",
      "  if pd.api.types.is_categorical_dtype(vector):\n",
      "/Users/juampi/Library/Python/3.9/lib/python/site-packages/seaborn/_oldcore.py:1498: FutureWarning: is_categorical_dtype is deprecated and will be removed in a future version. Use isinstance(dtype, CategoricalDtype) instead\n",
      "  if pd.api.types.is_categorical_dtype(vector):\n"
     ]
    },
    {
     "data": {
      "image/png": "[encoded data removed]",
      "text/plain": [
       "<Figure size 1200x800 with 1 Axes>"
      ]
     },
     "metadata": {},
     "output_type": "display_data"
    }
   ],
   "source": [
    "sns.set_style('whitegrid')\n",
    "plt.figure(figsize=(12, 8))\n",
    "sns.boxplot(x='sentimiento', y='cantidad_de_palabras', data=df, palette='rainbow')\n",
    "plt.xlabel('Sentimiento')\n",
    "plt.ylabel('Cantidad de palabras')\n",
    "plt.title('Cantidad de palabras por review')\n",
    "plt.show()"
   ]
  },
  {
   "cell_type": "markdown",
   "metadata": {},
   "source": [
    "Dejando de lado a los outliers, se puede ver que la cantidad de palabras es muy pareja entre las reviews positivas y negativas."
   ]
  },
  {
   "cell_type": "markdown",
   "metadata": {},
   "source": [
    "Ademas, otro factor que creemos que puede ser importante es la cantidad de caracteres de las reviews. Por lo tanto, vamos a calcularlo por cada review. Esta informacion nos servira luego a la hora de traducir los reviews que no esten en castellano ya que la API de Google Translate tiene un limite de caracteres por request de 5000 caracteres."
   ]
  },
  {
   "cell_type": "code",
   "execution_count": 92,
   "metadata": {},
   "outputs": [
    {
     "data": {
      "text/plain": [
       "count    50000.000000\n",
       "mean      1398.058240\n",
       "std       1037.688582\n",
       "min         39.000000\n",
       "25%        747.000000\n",
       "50%       1037.000000\n",
       "75%       1711.000000\n",
       "max      13465.000000\n",
       "Name: longitud_review, dtype: float64"
      ]
     },
     "execution_count": 92,
     "metadata": {},
     "output_type": "execute_result"
    }
   ],
   "source": [
    "df['longitud_review'] = df['review_es'].apply(lambda x: len(str(x)))\n",
    "df['longitud_review'].describe()"
   ]
  },
  {
   "cell_type": "code",
   "execution_count": 93,
   "metadata": {},
   "outputs": [
    {
     "name": "stderr",
     "output_type": "stream",
     "text": [
      "/Users/juampi/Library/Python/3.9/lib/python/site-packages/seaborn/_oldcore.py:1498: FutureWarning: is_categorical_dtype is deprecated and will be removed in a future version. Use isinstance(dtype, CategoricalDtype) instead\n",
      "  if pd.api.types.is_categorical_dtype(vector):\n",
      "/Users/juampi/Library/Python/3.9/lib/python/site-packages/seaborn/_oldcore.py:1119: FutureWarning: use_inf_as_na option is deprecated and will be removed in a future version. Convert inf values to NaN before operating instead.\n",
      "  with pd.option_context('mode.use_inf_as_na', True):\n",
      "/Users/juampi/Library/Python/3.9/lib/python/site-packages/seaborn/_oldcore.py:1498: FutureWarning: is_categorical_dtype is deprecated and will be removed in a future version. Use isinstance(dtype, CategoricalDtype) instead\n",
      "  if pd.api.types.is_categorical_dtype(vector):\n",
      "/Users/juampi/Library/Python/3.9/lib/python/site-packages/seaborn/_oldcore.py:1119: FutureWarning: use_inf_as_na option is deprecated and will be removed in a future version. Convert inf values to NaN before operating instead.\n",
      "  with pd.option_context('mode.use_inf_as_na', True):\n"
     ]
    },
    {
     "data": {
      "image/png": "[encoded data removed]",
      "text/plain": [
       "<Figure size 1400x400 with 2 Axes>"
      ]
     },
     "metadata": {},
     "output_type": "display_data"
    }
   ],
   "source": [
    "sns.set_style('whitegrid')\n",
    "fig, (ax1, ax2) = plt.subplots(1, 2, figsize=(14, 4))\n",
    "\n",
    "sns.kdeplot(df['longitud_review'], fill=True, ax=ax1).set_title('Distribución de la cantidad de caracteres por review')\n",
    "ax1.set_ylabel('Densidad')\n",
    "ax1.set_xlabel('Cantidad de caracteres por review')\n",
    "\n",
    "sns.histplot(df['longitud_review'],  ax=ax2, bins=150, kde=False).set_title('Cantidad de caracteres por review')\n",
    "ax2.set_xlabel('Cantidad de caracteres por review')\n",
    "ax2.set_ylabel('Cantidad de reviews')\n",
    "\n",
    "plt.tight_layout()\n",
    "plt.show()"
   ]
  },
  {
   "cell_type": "markdown",
   "metadata": {},
   "source": [
    "Luego, verificamos que no haya reviews duplicadas. En caso positivo, durante el preprocesamiento las eliminaremos."
   ]
  },
  {
   "cell_type": "code",
   "execution_count": 94,
   "metadata": {},
   "outputs": [
    {
     "data": {
      "text/plain": [
       "401"
      ]
     },
     "execution_count": 94,
     "metadata": {},
     "output_type": "execute_result"
    }
   ],
   "source": [
    "df['review_es'].duplicated().sum()"
   ]
  },
  {
   "cell_type": "markdown",
   "metadata": {},
   "source": [
    "Otro analisis importante es verificar si hay reviews que esten en otro idioma ya que distorsionarian fuertemente el analisis. En caso positivo, durante el preprocesamiento las intentaremos traducir al castellano. La otra opcion seria eliminarlas, veremos cual nos brinda mejores resultados."
   ]
  },
  {
   "cell_type": "code",
   "execution_count": 95,
   "metadata": {},
   "outputs": [
    {
     "data": {
      "text/plain": [
       "idioma\n",
       "es    48180\n",
       "en     1817\n",
       "fr        1\n",
       "it        1\n",
       "id        1\n",
       "Name: count, dtype: int64"
      ]
     },
     "execution_count": 95,
     "metadata": {},
     "output_type": "execute_result"
    }
   ],
   "source": [
    "if os.path.isfile('datasets/train_con_idioma.csv'):\n",
    "    df = pd.read_csv('datasets/train_con_idioma.csv', sep=',')\n",
    "else:\n",
    "    df['idioma'] = df['review_es'].apply(detect)\n",
    "df['idioma'].value_counts()"
   ]
  },
  {
   "cell_type": "code",
   "execution_count": 96,
   "metadata": {},
   "outputs": [],
   "source": [
    "if not os.path.isfile('datasets/train_con_idioma.csv'):\n",
    "    df.to_csv('datasets/train_con_idioma.csv', index=False)"
   ]
  },
  {
   "cell_type": "markdown",
   "metadata": {},
   "source": [
    "Tambien, vamos a verificar la cantidad de reviews que contienen numeros, ya que si esta entre 1 y 10, nos puede indicar informacion relevante de la puntuacion de la pelicula."
   ]
  },
  {
   "cell_type": "code",
   "execution_count": 97,
   "metadata": {},
   "outputs": [
    {
     "name": "stdout",
     "output_type": "stream",
     "text": [
      "Cantidad de reseñas que contienen números: 27609\n"
     ]
    }
   ],
   "source": [
    "df['contiene_numeros'] = df['review_es'].str.contains(r'\\d', regex=True)\n",
    "\n",
    "conteo_contiene_numeros = df['contiene_numeros'].sum()\n",
    "\n",
    "print(f\"Cantidad de reseñas que contienen números: {conteo_contiene_numeros}\")"
   ]
  },
  {
   "cell_type": "markdown",
   "metadata": {},
   "source": [
    "Obesrevamos que la gran mayoria de reviews contienen numeros."
   ]
  },
  {
   "cell_type": "markdown",
   "metadata": {},
   "source": [
    "Ahora vamos a graficar la cantidad de reviews que contienen numeros de nuestro interes. Osea, puntuaciones posibles entre 0 y 10 ya que creemos que mas tarde nos puede aportar informacion extra para el modelo."
   ]
  },
  {
   "cell_type": "code",
   "execution_count": 98,
   "metadata": {},
   "outputs": [
    {
     "data": {
      "image/png": "[encoded data removed]",
      "text/plain": [
       "<Figure size 1000x600 with 1 Axes>"
      ]
     },
     "metadata": {},
     "output_type": "display_data"
    }
   ],
   "source": [
    "df['numeros_en_review'] = df['review_es'].str.extractall(r'(\\d+)').astype(float).groupby(level=0)[0].apply(list)\n",
    "\n",
    "todos_los_numeros = [numero for lista_numeros in df['numeros_en_review'].dropna() for numero in lista_numeros]\n",
    "\n",
    "frecuencia_numeros = pd.Series(todos_los_numeros).value_counts()\n",
    "\n",
    "frecuencia_filtrada = frecuencia_numeros[(frecuencia_numeros.index.astype(int) >= 0) & (frecuencia_numeros.index.astype(int) <= 10)]\n",
    "mejores_valores = frecuencia_numeros[(frecuencia_numeros.index.astype(int) > 10)].sum()\n",
    "peores_valores = frecuencia_numeros[(frecuencia_numeros.index.astype(int) < 0)].sum()\n",
    "frecuencia_filtrada['Mayor a 10'] = mejores_valores\n",
    "frecuencia_filtrada['Menor a 0'] = peores_valores\n",
    "\n",
    "plt.figure(figsize=(10, 6))\n",
    "frecuencia_filtrada.plot(kind='bar', color='skyblue')\n",
    "plt.title('Frecuencia de Números en Reseñas')\n",
    "plt.xlabel('Número')\n",
    "plt.ylabel('Frecuencia')\n",
    "plt.show()"
   ]
  },
  {
   "cell_type": "markdown",
   "metadata": {},
   "source": [
    "Como se puede ver, hay una gran cantidad de reviews con numeros de nuestro interes, es por esto que vamos a indagar mas profundamente para ver si nos provee informacion relevante."
   ]
  },
  {
   "cell_type": "code",
   "execution_count": 99,
   "metadata": {},
   "outputs": [
    {
     "name": "stderr",
     "output_type": "stream",
     "text": [
      "/Users/juampi/Library/Python/3.9/lib/python/site-packages/seaborn/_oldcore.py:1498: FutureWarning: is_categorical_dtype is deprecated and will be removed in a future version. Use isinstance(dtype, CategoricalDtype) instead\n",
      "  if pd.api.types.is_categorical_dtype(vector):\n",
      "/Users/juampi/Library/Python/3.9/lib/python/site-packages/seaborn/_oldcore.py:1498: FutureWarning: is_categorical_dtype is deprecated and will be removed in a future version. Use isinstance(dtype, CategoricalDtype) instead\n",
      "  if pd.api.types.is_categorical_dtype(vector):\n",
      "/Users/juampi/Library/Python/3.9/lib/python/site-packages/seaborn/_oldcore.py:1498: FutureWarning: is_categorical_dtype is deprecated and will be removed in a future version. Use isinstance(dtype, CategoricalDtype) instead\n",
      "  if pd.api.types.is_categorical_dtype(vector):\n",
      "/Users/juampi/Library/Python/3.9/lib/python/site-packages/seaborn/_oldcore.py:1498: FutureWarning: is_categorical_dtype is deprecated and will be removed in a future version. Use isinstance(dtype, CategoricalDtype) instead\n",
      "  if pd.api.types.is_categorical_dtype(vector):\n"
     ]
    },
    {
     "data": {
      "image/png": "[encoded data removed]",
      "text/plain": [
       "<Figure size 1000x600 with 1 Axes>"
      ]
     },
     "metadata": {},
     "output_type": "display_data"
    }
   ],
   "source": [
    "def extraer_numeros_y_sentimiento(texto, sentimiento):\n",
    "    numeros = re.findall(r'(\\d+)', texto)\n",
    "    return [(int(numero), sentimiento) for numero in numeros]\n",
    "\n",
    "df_numeros_sentimientos = df.apply(lambda row: extraer_numeros_y_sentimiento(row['review_es'], row['sentimiento']), axis=1).explode()\n",
    "\n",
    "df_numeros_sentimientos = pd.DataFrame(list(df_numeros_sentimientos), columns=['numero', 'sentimiento'])\n",
    "\n",
    "frecuencia_filtrada = df_numeros_sentimientos[(df_numeros_sentimientos['numero'] >= 1) & (df_numeros_sentimientos['numero'] <= 10)]\n",
    "otros_valores = df_numeros_sentimientos[(df_numeros_sentimientos['numero'] < 1) | (df_numeros_sentimientos['numero'] > 10)].groupby('sentimiento').size().reset_index(name='count')\n",
    "frecuencia_filtrada = frecuencia_filtrada.groupby(['numero', 'sentimiento']).size().reset_index(name='count')\n",
    "frecuencia_filtrada = pd.concat([frecuencia_filtrada, otros_valores], ignore_index=True)\n",
    "\n",
    "plt.figure(figsize=(10, 6))\n",
    "sns.barplot(x='numero', y='count', hue='sentimiento', data=frecuencia_filtrada, palette='viridis')\n",
    "plt.title('Frecuencia de Números en Reseñas con Hue de Sentimiento')\n",
    "plt.xlabel('Número')\n",
    "plt.ylabel('Frecuencia')\n",
    "plt.legend(title='Sentimiento')\n",
    "plt.show()"
   ]
  },
  {
   "cell_type": "markdown",
   "metadata": {},
   "source": [
    "Podemos ver que como se esperaba, en la mayoria de los numeros tiene un sentimiento acorde a su valor, exceptuando 10 que tiene un sentimiento muy parejo. Esto realmente nos sorprendio."
   ]
  },
  {
   "cell_type": "markdown",
   "metadata": {},
   "source": [
    "Por ultimo, vamos a verificar la cantidad total de palabras unicas en nuestro dataset antes del preprocesamiento. Luego del preprocesamiento, esperamos que esta cantidad disminuya considerablemente, haciendo que nuestros modelos se entrenen mas rapido y tengan mejor performance."
   ]
  },
  {
   "cell_type": "code",
   "execution_count": 100,
   "metadata": {},
   "outputs": [
    {
     "name": "stdout",
     "output_type": "stream",
     "text": [
      "Numero de palabras unicas en el dataset pre preprocesamiento: 559112\n"
     ]
    }
   ],
   "source": [
    "tokens = []\n",
    "for review in df['review_es']:\n",
    "    tokens.extend(review.split())\n",
    "\n",
    "palabras_unicas = set(tokens)\n",
    "numero_de_palabras_unicas = len(palabras_unicas)\n",
    "\n",
    "print(\"Numero de palabras unicas en el dataset pre preprocesamiento:\", numero_de_palabras_unicas)"
   ]
  },
  {
   "cell_type": "markdown",
   "metadata": {},
   "source": [
    "## Preprocesamiento"
   ]
  },
  {
   "cell_type": "markdown",
   "metadata": {},
   "source": [
    "Comenzamos eliminando los duplicados identificados anteriormente ya que no nos aportan informacion adicional."
   ]
  },
  {
   "cell_type": "code",
   "execution_count": 101,
   "metadata": {},
   "outputs": [
    {
     "data": {
      "text/plain": [
       "(49599, 10)"
      ]
     },
     "execution_count": 101,
     "metadata": {},
     "output_type": "execute_result"
    }
   ],
   "source": [
    "df = df.drop_duplicates(subset=['review_es'])\n",
    "df.shape"
   ]
  },
  {
   "cell_type": "markdown",
   "metadata": {},
   "source": [
    "Antes de borrar las reviews que esten en otro idioma, veremos si el idioma nos brinda alguna informacion en el sentimiento."
   ]
  },
  {
   "cell_type": "code",
   "execution_count": 102,
   "metadata": {},
   "outputs": [
    {
     "name": "stderr",
     "output_type": "stream",
     "text": [
      "/Users/juampi/Library/Python/3.9/lib/python/site-packages/seaborn/_oldcore.py:1498: FutureWarning: is_categorical_dtype is deprecated and will be removed in a future version. Use isinstance(dtype, CategoricalDtype) instead\n",
      "  if pd.api.types.is_categorical_dtype(vector):\n",
      "/Users/juampi/Library/Python/3.9/lib/python/site-packages/seaborn/_oldcore.py:1498: FutureWarning: is_categorical_dtype is deprecated and will be removed in a future version. Use isinstance(dtype, CategoricalDtype) instead\n",
      "  if pd.api.types.is_categorical_dtype(vector):\n",
      "/Users/juampi/Library/Python/3.9/lib/python/site-packages/seaborn/_oldcore.py:1498: FutureWarning: is_categorical_dtype is deprecated and will be removed in a future version. Use isinstance(dtype, CategoricalDtype) instead\n",
      "  if pd.api.types.is_categorical_dtype(vector):\n",
      "/Users/juampi/Library/Python/3.9/lib/python/site-packages/seaborn/_oldcore.py:1498: FutureWarning: is_categorical_dtype is deprecated and will be removed in a future version. Use isinstance(dtype, CategoricalDtype) instead\n",
      "  if pd.api.types.is_categorical_dtype(vector):\n"
     ]
    },
    {
     "data": {
      "image/png": "[encoded data removed]",
      "text/plain": [
       "<Figure size 1200x800 with 1 Axes>"
      ]
     },
     "metadata": {},
     "output_type": "display_data"
    }
   ],
   "source": [
    "sns.set_style('whitegrid')\n",
    "plt.figure(figsize=(12, 8))\n",
    "sns.countplot(x='idioma', hue='sentimiento', data=df)\n",
    "plt.xlabel('Idioma')\n",
    "plt.ylabel('Cantidad de reviews')\n",
    "plt.title('Cantidad de reviews por idioma')\n",
    "\n",
    "plt.show()"
   ]
  },
  {
   "cell_type": "markdown",
   "metadata": {},
   "source": [
    "Como la distribucion de sentimientos es bastante pareja, y teniendo en cuenta que con la traduccion nuestros modelos empeoraban su performance, elegimos eliminar las reviews que no esten en castellano."
   ]
  },
  {
   "cell_type": "code",
   "execution_count": 103,
   "metadata": {},
   "outputs": [
    {
     "data": {
      "text/plain": [
       "idioma\n",
       "es    47782\n",
       "Name: count, dtype: int64"
      ]
     },
     "execution_count": 103,
     "metadata": {},
     "output_type": "execute_result"
    }
   ],
   "source": [
    "df = df[df['idioma'].isin(['es'])]\n",
    "df['idioma'].value_counts()"
   ]
  },
  {
   "cell_type": "markdown",
   "metadata": {},
   "source": [
    "Como pudimos ver anteriormente, existen unas reviews las cuales contienen emojis pero a pesar de que sean muy pocos igualmente vamos a convertirlos a texto."
   ]
  },
  {
   "cell_type": "code",
   "execution_count": 104,
   "metadata": {},
   "outputs": [],
   "source": [
    "df['review_es'] = df['review_es'].apply(demojize)"
   ]
  },
  {
   "cell_type": "code",
   "execution_count": 105,
   "metadata": {},
   "outputs": [
    {
     "data": {
      "text/html": [
       "<div>\n",
       "<style scoped>\n",
       "    .dataframe tbody tr th:only-of-type {\n",
       "        vertical-align: middle;\n",
       "    }\n",
       "\n",
       "    .dataframe tbody tr th {\n",
       "        vertical-align: top;\n",
       "    }\n",
       "\n",
       "    .dataframe thead th {\n",
       "        text-align: right;\n",
       "    }\n",
       "</style>\n",
       "<table border=\"1\" class=\"dataframe\">\n",
       "  <thead>\n",
       "    <tr style=\"text-align: right;\">\n",
       "      <th></th>\n",
       "      <th>cantidad_emojis</th>\n",
       "      <th>cantidad_filas</th>\n",
       "    </tr>\n",
       "  </thead>\n",
       "  <tbody>\n",
       "    <tr>\n",
       "      <th>0</th>\n",
       "      <td>0</td>\n",
       "      <td>47782</td>\n",
       "    </tr>\n",
       "  </tbody>\n",
       "</table>\n",
       "</div>"
      ],
      "text/plain": [
       "   cantidad_emojis  cantidad_filas\n",
       "0                0           47782"
      ]
     },
     "execution_count": 105,
     "metadata": {},
     "output_type": "execute_result"
    }
   ],
   "source": [
    "df['tiene_emoji'] = df['review_es'].apply(emoji_count)\n",
    "cantidad_emojis = df['tiene_emoji'].value_counts().reset_index()\n",
    "cantidad_emojis.columns = ['cantidad_emojis', 'cantidad_filas']\n",
    "cantidad_emojis"
   ]
  },
  {
   "cell_type": "markdown",
   "metadata": {},
   "source": [
    "Teniendo los emojis convertidos a texto podemos continuar trabajando con el dataset"
   ]
  },
  {
   "cell_type": "markdown",
   "metadata": {},
   "source": [
    "A continuacion, vamos a eliminar todas las reviews que tengan el z-score mayor a 3 en modulo. Decidimos tener en cuenta este metodo ya que luego de utilizar ambos, sorprendentemente el z-score nos dio mejores resultados. Quizas se deba a que el z-score modificado es mas agresivo a la hora de eliminar outliers, dejandonos con bastante menos data para entrenar los modelos."
   ]
  },
  {
   "cell_type": "code",
   "execution_count": 106,
   "metadata": {},
   "outputs": [
    {
     "data": {
      "text/plain": [
       "(47120, 11)"
      ]
     },
     "execution_count": 106,
     "metadata": {},
     "output_type": "execute_result"
    }
   ],
   "source": [
    "df = df[np.absolute(df['zscore'] < 3)]\n",
    "df.shape"
   ]
  },
  {
   "cell_type": "markdown",
   "metadata": {},
   "source": [
    "Con esto, eliminamos casi un 5% de samples del dataset original, entre los duplicados, las reviews que no estaban en castellano y las que tenian un z-score mayor a 3 en modulo."
   ]
  },
  {
   "cell_type": "markdown",
   "metadata": {},
   "source": [
    "Veremos como se comportan los campos analizados previamente luego del preprocesamiento."
   ]
  },
  {
   "cell_type": "code",
   "execution_count": 107,
   "metadata": {},
   "outputs": [
    {
     "ename": "TypeError",
     "evalue": "boxplot() got an unexpected keyword argument 'fill'",
     "output_type": "error",
     "traceback": [
      "\u001b[0;31m---------------------------------------------------------------------------\u001b[0m",
      "\u001b[0;31mTypeError\u001b[0m                                 Traceback (most recent call last)",
      "\u001b[1;32m/Users/juampi/Documents/uba/Cuarto Cuatrimestre/Organizacion de Datos/tp2/7506R_TP2_GRUPO23_ENTREGA.ipynb Cell 62\u001b[0m line \u001b[0;36m4\n\u001b[1;32m      <a href='vscode-notebook-cell:/Users/juampi/Documents/uba/Cuarto%20Cuatrimestre/Organizacion%20de%20Datos/tp2/7506R_TP2_GRUPO23_ENTREGA.ipynb#Y103sZmlsZQ%3D%3D?line=0'>1</a>\u001b[0m sns\u001b[39m.\u001b[39mset_style(\u001b[39m'\u001b[39m\u001b[39mwhitegrid\u001b[39m\u001b[39m'\u001b[39m)\n\u001b[1;32m      <a href='vscode-notebook-cell:/Users/juampi/Documents/uba/Cuarto%20Cuatrimestre/Organizacion%20de%20Datos/tp2/7506R_TP2_GRUPO23_ENTREGA.ipynb#Y103sZmlsZQ%3D%3D?line=1'>2</a>\u001b[0m fig, (ax1, ax2) \u001b[39m=\u001b[39m plt\u001b[39m.\u001b[39msubplots(\u001b[39m1\u001b[39m, \u001b[39m2\u001b[39m, figsize\u001b[39m=\u001b[39m(\u001b[39m14\u001b[39m, \u001b[39m4\u001b[39m))\n\u001b[0;32m----> <a href='vscode-notebook-cell:/Users/juampi/Documents/uba/Cuarto%20Cuatrimestre/Organizacion%20de%20Datos/tp2/7506R_TP2_GRUPO23_ENTREGA.ipynb#Y103sZmlsZQ%3D%3D?line=3'>4</a>\u001b[0m sns\u001b[39m.\u001b[39;49mboxplot(df[\u001b[39m'\u001b[39;49m\u001b[39mcantidad_de_palabras\u001b[39;49m\u001b[39m'\u001b[39;49m], fill\u001b[39m=\u001b[39;49m\u001b[39mTrue\u001b[39;49;00m, ax\u001b[39m=\u001b[39;49max1)\u001b[39m.\u001b[39mset_title(\u001b[39m'\u001b[39m\u001b[39mDistribución de la cantidad de palabras por review\u001b[39m\u001b[39m'\u001b[39m)\n\u001b[1;32m      <a href='vscode-notebook-cell:/Users/juampi/Documents/uba/Cuarto%20Cuatrimestre/Organizacion%20de%20Datos/tp2/7506R_TP2_GRUPO23_ENTREGA.ipynb#Y103sZmlsZQ%3D%3D?line=4'>5</a>\u001b[0m ax1\u001b[39m.\u001b[39mset_ylabel(\u001b[39m'\u001b[39m\u001b[39mCantidad reviews\u001b[39m\u001b[39m'\u001b[39m)\n\u001b[1;32m      <a href='vscode-notebook-cell:/Users/juampi/Documents/uba/Cuarto%20Cuatrimestre/Organizacion%20de%20Datos/tp2/7506R_TP2_GRUPO23_ENTREGA.ipynb#Y103sZmlsZQ%3D%3D?line=5'>6</a>\u001b[0m ax1\u001b[39m.\u001b[39mset_xlabel(\u001b[39m'\u001b[39m\u001b[39mCantidad de palabras\u001b[39m\u001b[39m'\u001b[39m)\n",
      "File \u001b[0;32m~/Library/Python/3.9/lib/python/site-packages/seaborn/categorical.py:2239\u001b[0m, in \u001b[0;36mboxplot\u001b[0;34m(data, x, y, hue, order, hue_order, orient, color, palette, saturation, width, dodge, fliersize, linewidth, whis, ax, **kwargs)\u001b[0m\n\u001b[1;32m   2236\u001b[0m     ax \u001b[39m=\u001b[39m plt\u001b[39m.\u001b[39mgca()\n\u001b[1;32m   2237\u001b[0m kwargs\u001b[39m.\u001b[39mupdate(\u001b[39mdict\u001b[39m(whis\u001b[39m=\u001b[39mwhis))\n\u001b[0;32m-> 2239\u001b[0m plotter\u001b[39m.\u001b[39;49mplot(ax, kwargs)\n\u001b[1;32m   2240\u001b[0m \u001b[39mreturn\u001b[39;00m ax\n",
      "File \u001b[0;32m~/Library/Python/3.9/lib/python/site-packages/seaborn/categorical.py:888\u001b[0m, in \u001b[0;36m_BoxPlotter.plot\u001b[0;34m(self, ax, boxplot_kws)\u001b[0m\n\u001b[1;32m    886\u001b[0m \u001b[39mdef\u001b[39;00m \u001b[39mplot\u001b[39m(\u001b[39mself\u001b[39m, ax, boxplot_kws):\n\u001b[1;32m    887\u001b[0m \u001b[39m    \u001b[39m\u001b[39m\"\"\"Make the plot.\"\"\"\u001b[39;00m\n\u001b[0;32m--> 888\u001b[0m     \u001b[39mself\u001b[39;49m\u001b[39m.\u001b[39;49mdraw_boxplot(ax, boxplot_kws)\n\u001b[1;32m    889\u001b[0m     \u001b[39mself\u001b[39m\u001b[39m.\u001b[39mannotate_axes(ax)\n\u001b[1;32m    890\u001b[0m     \u001b[39mif\u001b[39;00m \u001b[39mself\u001b[39m\u001b[39m.\u001b[39morient \u001b[39m==\u001b[39m \u001b[39m\"\u001b[39m\u001b[39mh\u001b[39m\u001b[39m\"\u001b[39m:\n",
      "File \u001b[0;32m~/Library/Python/3.9/lib/python/site-packages/seaborn/categorical.py:820\u001b[0m, in \u001b[0;36m_BoxPlotter.draw_boxplot\u001b[0;34m(self, ax, kws)\u001b[0m\n\u001b[1;32m    817\u001b[0m \u001b[39mif\u001b[39;00m box_data\u001b[39m.\u001b[39msize \u001b[39m==\u001b[39m \u001b[39m0\u001b[39m:\n\u001b[1;32m    818\u001b[0m     \u001b[39mcontinue\u001b[39;00m\n\u001b[0;32m--> 820\u001b[0m artist_dict \u001b[39m=\u001b[39m ax\u001b[39m.\u001b[39;49mboxplot(box_data,\n\u001b[1;32m    821\u001b[0m                          vert\u001b[39m=\u001b[39;49mvert,\n\u001b[1;32m    822\u001b[0m                          patch_artist\u001b[39m=\u001b[39;49m\u001b[39mTrue\u001b[39;49;00m,\n\u001b[1;32m    823\u001b[0m                          positions\u001b[39m=\u001b[39;49m[i],\n\u001b[1;32m    824\u001b[0m                          widths\u001b[39m=\u001b[39;49m\u001b[39mself\u001b[39;49m\u001b[39m.\u001b[39;49mwidth,\n\u001b[1;32m    825\u001b[0m                          \u001b[39m*\u001b[39;49m\u001b[39m*\u001b[39;49mkws)\n\u001b[1;32m    826\u001b[0m color \u001b[39m=\u001b[39m \u001b[39mself\u001b[39m\u001b[39m.\u001b[39mcolors[i]\n\u001b[1;32m    827\u001b[0m \u001b[39mself\u001b[39m\u001b[39m.\u001b[39mrestyle_boxplot(artist_dict, color, props)\n",
      "File \u001b[0;32m~/Library/Python/3.9/lib/python/site-packages/matplotlib/__init__.py:1465\u001b[0m, in \u001b[0;36minner\u001b[0;34m(ax, data, *args, **kwargs)\u001b[0m\n\u001b[1;32m   1462\u001b[0m             bound\u001b[39m.\u001b[39marguments[k] \u001b[39m=\u001b[39m _replacer(data, v)\n\u001b[1;32m   1464\u001b[0m new_args \u001b[39m=\u001b[39m bound\u001b[39m.\u001b[39margs\n\u001b[0;32m-> 1465\u001b[0m new_kwargs \u001b[39m=\u001b[39m bound\u001b[39m.\u001b[39mkwargs\n\u001b[1;32m   1467\u001b[0m args_and_kwargs \u001b[39m=\u001b[39m {\u001b[39m*\u001b[39m\u001b[39m*\u001b[39mbound\u001b[39m.\u001b[39marguments, \u001b[39m*\u001b[39m\u001b[39m*\u001b[39mbound\u001b[39m.\u001b[39mkwargs}\n\u001b[1;32m   1468\u001b[0m \u001b[39mif\u001b[39;00m label_namer \u001b[39mand\u001b[39;00m \u001b[39m\"\u001b[39m\u001b[39mlabel\u001b[39m\u001b[39m\"\u001b[39m \u001b[39mnot\u001b[39;00m \u001b[39min\u001b[39;00m args_and_kwargs:\n",
      "\u001b[0;31mTypeError\u001b[0m: boxplot() got an unexpected keyword argument 'fill'"
     ]
    },
    {
     "data": {
      "image/png": "[encoded data removed]",
      "text/plain": [
       "<Figure size 1400x400 with 2 Axes>"
      ]
     },
     "metadata": {},
     "output_type": "display_data"
    }
   ],
   "source": [
    "sns.set_style('whitegrid')\n",
    "fig, (ax1, ax2) = plt.subplots(1, 2, figsize=(14, 4))\n",
    "\n",
    "sns.boxplot(df['cantidad_de_palabras'], fill=True, ax=ax1).set_title('Distribución de la cantidad de palabras por review')\n",
    "ax1.set_ylabel('Cantidad reviews')\n",
    "ax1.set_xlabel('Cantidad de palabras')\n",
    "\n",
    "sns.histplot(df['longitud_review'],  ax=ax2, bins=150, kde=False).set_title('Cantidad de caracteres por review')\n",
    "ax2.set_xlabel('Cantidad de caracteres por review')\n",
    "ax2.set_ylabel('Cantidad de reviews')\n",
    "\n",
    "plt.tight_layout()\n",
    "plt.show()"
   ]
  },
  {
   "cell_type": "code",
   "execution_count": 108,
   "metadata": {},
   "outputs": [
    {
     "data": {
      "text/plain": [
       "count    47120.000000\n",
       "mean      1303.951677\n",
       "std        843.374861\n",
       "min         39.000000\n",
       "25%        744.000000\n",
       "50%       1020.000000\n",
       "75%       1638.000000\n",
       "max       4958.000000\n",
       "Name: longitud_review, dtype: float64"
      ]
     },
     "execution_count": 108,
     "metadata": {},
     "output_type": "execute_result"
    }
   ],
   "source": [
    "df['longitud_review'].describe()"
   ]
  },
  {
   "cell_type": "markdown",
   "metadata": {},
   "source": [
    "Ademas, eliminando los samples que indicaba el z-score seguimos aptos para traducir las reviews ya que no superamos el limite de caracteres por request de la API de Google Translate."
   ]
  },
  {
   "cell_type": "code",
   "execution_count": 109,
   "metadata": {},
   "outputs": [
    {
     "name": "stderr",
     "output_type": "stream",
     "text": [
      "/Users/juampi/Library/Python/3.9/lib/python/site-packages/seaborn/_oldcore.py:1498: FutureWarning: is_categorical_dtype is deprecated and will be removed in a future version. Use isinstance(dtype, CategoricalDtype) instead\n",
      "  if pd.api.types.is_categorical_dtype(vector):\n",
      "/Users/juampi/Library/Python/3.9/lib/python/site-packages/seaborn/_oldcore.py:1498: FutureWarning: is_categorical_dtype is deprecated and will be removed in a future version. Use isinstance(dtype, CategoricalDtype) instead\n",
      "  if pd.api.types.is_categorical_dtype(vector):\n",
      "/Users/juampi/Library/Python/3.9/lib/python/site-packages/seaborn/_oldcore.py:1498: FutureWarning: is_categorical_dtype is deprecated and will be removed in a future version. Use isinstance(dtype, CategoricalDtype) instead\n",
      "  if pd.api.types.is_categorical_dtype(vector):\n"
     ]
    },
    {
     "data": {
      "text/plain": [
       "Text(0.5, 1.0, 'Cantidad de palabras por review')"
      ]
     },
     "execution_count": 109,
     "metadata": {},
     "output_type": "execute_result"
    },
    {
     "data": {
      "image/png": "[encoded data removed]",
      "text/plain": [
       "<Figure size 1200x800 with 1 Axes>"
      ]
     },
     "metadata": {},
     "output_type": "display_data"
    }
   ],
   "source": [
    "sns.set_style('whitegrid')\n",
    "plt.figure(figsize=(12, 8))\n",
    "sns.boxplot(x='sentimiento', y='cantidad_de_palabras', data=df, palette='rainbow')\n",
    "plt.xlabel('Sentimiento')\n",
    "plt.ylabel('Cantidad de palabras')\n",
    "plt.title('Cantidad de palabras por review')"
   ]
  },
  {
   "cell_type": "markdown",
   "metadata": {},
   "source": [
    "Ademas, vamos a analizar que luego de la eliminacion de estos reviews nos quede una distribucion parecida de samples positivos y negativos."
   ]
  },
  {
   "cell_type": "code",
   "execution_count": 110,
   "metadata": {},
   "outputs": [
    {
     "ename": "ValueError",
     "evalue": "could not convert string to float: 'positivo'",
     "output_type": "error",
     "traceback": [
      "\u001b[0;31m---------------------------------------------------------------------------\u001b[0m",
      "\u001b[0;31mValueError\u001b[0m                                Traceback (most recent call last)",
      "\u001b[1;32m/Users/juampi/Documents/uba/Cuarto Cuatrimestre/Organizacion de Datos/tp2/7506R_TP2_GRUPO23_ENTREGA.ipynb Cell 67\u001b[0m line \u001b[0;36m1\n\u001b[0;32m----> <a href='vscode-notebook-cell:/Users/juampi/Documents/uba/Cuarto%20Cuatrimestre/Organizacion%20de%20Datos/tp2/7506R_TP2_GRUPO23_ENTREGA.ipynb#Y111sZmlsZQ%3D%3D?line=0'>1</a>\u001b[0m sns\u001b[39m.\u001b[39;49mcountplot(df[\u001b[39m'\u001b[39;49m\u001b[39msentimiento\u001b[39;49m\u001b[39m'\u001b[39;49m])\n\u001b[1;32m      <a href='vscode-notebook-cell:/Users/juampi/Documents/uba/Cuarto%20Cuatrimestre/Organizacion%20de%20Datos/tp2/7506R_TP2_GRUPO23_ENTREGA.ipynb#Y111sZmlsZQ%3D%3D?line=1'>2</a>\u001b[0m plt\u001b[39m.\u001b[39mxlabel(\u001b[39m'\u001b[39m\u001b[39mLabel\u001b[39m\u001b[39m'\u001b[39m)\n\u001b[1;32m      <a href='vscode-notebook-cell:/Users/juampi/Documents/uba/Cuarto%20Cuatrimestre/Organizacion%20de%20Datos/tp2/7506R_TP2_GRUPO23_ENTREGA.ipynb#Y111sZmlsZQ%3D%3D?line=2'>3</a>\u001b[0m plt\u001b[39m.\u001b[39mtitle(\u001b[39m'\u001b[39m\u001b[39mCantidad de reviews positivos y negativos\u001b[39m\u001b[39m'\u001b[39m)\n",
      "File \u001b[0;32m~/Library/Python/3.9/lib/python/site-packages/seaborn/categorical.py:2943\u001b[0m, in \u001b[0;36mcountplot\u001b[0;34m(data, x, y, hue, order, hue_order, orient, color, palette, saturation, width, dodge, ax, **kwargs)\u001b[0m\n\u001b[1;32m   2940\u001b[0m \u001b[39melif\u001b[39;00m x \u001b[39mis\u001b[39;00m \u001b[39mnot\u001b[39;00m \u001b[39mNone\u001b[39;00m \u001b[39mand\u001b[39;00m y \u001b[39mis\u001b[39;00m \u001b[39mnot\u001b[39;00m \u001b[39mNone\u001b[39;00m:\n\u001b[1;32m   2941\u001b[0m     \u001b[39mraise\u001b[39;00m \u001b[39mValueError\u001b[39;00m(\u001b[39m\"\u001b[39m\u001b[39mCannot pass values for both `x` and `y`\u001b[39m\u001b[39m\"\u001b[39m)\n\u001b[0;32m-> 2943\u001b[0m plotter \u001b[39m=\u001b[39m _CountPlotter(\n\u001b[1;32m   2944\u001b[0m     x, y, hue, data, order, hue_order,\n\u001b[1;32m   2945\u001b[0m     estimator, errorbar, n_boot, units, seed,\n\u001b[1;32m   2946\u001b[0m     orient, color, palette, saturation,\n\u001b[1;32m   2947\u001b[0m     width, errcolor, errwidth, capsize, dodge\n\u001b[1;32m   2948\u001b[0m )\n\u001b[1;32m   2950\u001b[0m plotter\u001b[39m.\u001b[39mvalue_label \u001b[39m=\u001b[39m \u001b[39m\"\u001b[39m\u001b[39mcount\u001b[39m\u001b[39m\"\u001b[39m\n\u001b[1;32m   2952\u001b[0m \u001b[39mif\u001b[39;00m ax \u001b[39mis\u001b[39;00m \u001b[39mNone\u001b[39;00m:\n",
      "File \u001b[0;32m~/Library/Python/3.9/lib/python/site-packages/seaborn/categorical.py:1530\u001b[0m, in \u001b[0;36m_BarPlotter.__init__\u001b[0;34m(self, x, y, hue, data, order, hue_order, estimator, errorbar, n_boot, units, seed, orient, color, palette, saturation, width, errcolor, errwidth, capsize, dodge)\u001b[0m\n\u001b[1;32m   1525\u001b[0m \u001b[39mdef\u001b[39;00m \u001b[39m__init__\u001b[39m(\u001b[39mself\u001b[39m, x, y, hue, data, order, hue_order,\n\u001b[1;32m   1526\u001b[0m              estimator, errorbar, n_boot, units, seed,\n\u001b[1;32m   1527\u001b[0m              orient, color, palette, saturation, width,\n\u001b[1;32m   1528\u001b[0m              errcolor, errwidth, capsize, dodge):\n\u001b[1;32m   1529\u001b[0m \u001b[39m    \u001b[39m\u001b[39m\"\"\"Initialize the plotter.\"\"\"\u001b[39;00m\n\u001b[0;32m-> 1530\u001b[0m     \u001b[39mself\u001b[39;49m\u001b[39m.\u001b[39;49mestablish_variables(x, y, hue, data, orient,\n\u001b[1;32m   1531\u001b[0m                              order, hue_order, units)\n\u001b[1;32m   1532\u001b[0m     \u001b[39mself\u001b[39m\u001b[39m.\u001b[39mestablish_colors(color, palette, saturation)\n\u001b[1;32m   1533\u001b[0m     \u001b[39mself\u001b[39m\u001b[39m.\u001b[39mestimate_statistic(estimator, errorbar, n_boot, seed)\n",
      "File \u001b[0;32m~/Library/Python/3.9/lib/python/site-packages/seaborn/categorical.py:516\u001b[0m, in \u001b[0;36m_CategoricalPlotter.establish_variables\u001b[0;34m(self, x, y, hue, data, orient, order, hue_order, units)\u001b[0m\n\u001b[1;32m    513\u001b[0m     plot_data \u001b[39m=\u001b[39m data\n\u001b[1;32m    515\u001b[0m \u001b[39m# Convert to a list of arrays, the common representation\u001b[39;00m\n\u001b[0;32m--> 516\u001b[0m plot_data \u001b[39m=\u001b[39m [np\u001b[39m.\u001b[39masarray(d, \u001b[39mfloat\u001b[39m) \u001b[39mfor\u001b[39;00m d \u001b[39min\u001b[39;00m plot_data]\n\u001b[1;32m    518\u001b[0m \u001b[39m# The group names will just be numeric indices\u001b[39;00m\n\u001b[1;32m    519\u001b[0m group_names \u001b[39m=\u001b[39m \u001b[39mlist\u001b[39m(\u001b[39mrange\u001b[39m(\u001b[39mlen\u001b[39m(plot_data)))\n",
      "File \u001b[0;32m~/Library/Python/3.9/lib/python/site-packages/seaborn/categorical.py:516\u001b[0m, in \u001b[0;36m<listcomp>\u001b[0;34m(.0)\u001b[0m\n\u001b[1;32m    513\u001b[0m     plot_data \u001b[39m=\u001b[39m data\n\u001b[1;32m    515\u001b[0m \u001b[39m# Convert to a list of arrays, the common representation\u001b[39;00m\n\u001b[0;32m--> 516\u001b[0m plot_data \u001b[39m=\u001b[39m [np\u001b[39m.\u001b[39;49masarray(d, \u001b[39mfloat\u001b[39;49m) \u001b[39mfor\u001b[39;00m d \u001b[39min\u001b[39;00m plot_data]\n\u001b[1;32m    518\u001b[0m \u001b[39m# The group names will just be numeric indices\u001b[39;00m\n\u001b[1;32m    519\u001b[0m group_names \u001b[39m=\u001b[39m \u001b[39mlist\u001b[39m(\u001b[39mrange\u001b[39m(\u001b[39mlen\u001b[39m(plot_data)))\n",
      "File \u001b[0;32m~/Library/Python/3.9/lib/python/site-packages/pandas/core/series.py:953\u001b[0m, in \u001b[0;36mSeries.__array__\u001b[0;34m(self, dtype)\u001b[0m\n\u001b[1;32m    906\u001b[0m \u001b[39m\u001b[39m\u001b[39m\"\"\"\u001b[39;00m\n\u001b[1;32m    907\u001b[0m \u001b[39mReturn the values as a NumPy array.\u001b[39;00m\n\u001b[1;32m    908\u001b[0m \n\u001b[0;32m   (...)\u001b[0m\n\u001b[1;32m    950\u001b[0m \u001b[39m      dtype='datetime64[ns]')\u001b[39;00m\n\u001b[1;32m    951\u001b[0m \u001b[39m\"\"\"\u001b[39;00m\n\u001b[1;32m    952\u001b[0m values \u001b[39m=\u001b[39m \u001b[39mself\u001b[39m\u001b[39m.\u001b[39m_values\n\u001b[0;32m--> 953\u001b[0m arr \u001b[39m=\u001b[39m np\u001b[39m.\u001b[39;49masarray(values, dtype\u001b[39m=\u001b[39;49mdtype)\n\u001b[1;32m    954\u001b[0m \u001b[39mif\u001b[39;00m using_copy_on_write() \u001b[39mand\u001b[39;00m astype_is_view(values\u001b[39m.\u001b[39mdtype, arr\u001b[39m.\u001b[39mdtype):\n\u001b[1;32m    955\u001b[0m     arr \u001b[39m=\u001b[39m arr\u001b[39m.\u001b[39mview()\n",
      "\u001b[0;31mValueError\u001b[0m: could not convert string to float: 'positivo'"
     ]
    }
   ],
   "source": [
    "sns.countplot(df['sentimiento'])\n",
    "plt.xlabel('Label')\n",
    "plt.title('Cantidad de reviews positivos y negativos')\n",
    "plt.show()"
   ]
  },
  {
   "cell_type": "markdown",
   "metadata": {},
   "source": [
    "La cantidad sigue siendo bastante pareja, por lo tanto, podemos continuar con el preprocesamiento."
   ]
  },
  {
   "cell_type": "markdown",
   "metadata": {},
   "source": [
    "Como habiamos mencionado anteriormente, aca esta la idea de como traducir las reviews que no esten en castellano. Para ello, vamos a utilizar la API de Google Translate. Sin embargo, no lo utilizaremos ya que luego de haber experimentado con esta idea, vimos que empeora la performance de los modelos."
   ]
  },
  {
   "cell_type": "code",
   "execution_count": null,
   "metadata": {},
   "outputs": [
    {
     "ename": "NotValidLength",
     "evalue": "From the film's first shot - Keira Knightley as Elizabeth Bennet wandering reading through a field at dawn, thus invoking all the clichés cinema has developed to address the phenomenon of the strong-minded rebellious female character in period drama - I knew I was in for something to make me want to kill myselfJoe Wright seemed not only to have not read the book, but to be under the regrettable misapprehension that what he was filming was not in fact Jane Austen's subtle, nuanced comedy of manners conducted through sparkling, delicate social interaction in eighteenth century English drawing-rooms, but a sort of U-certificate Wuthering Heights Thus we were treated to every scene between Elizabeth and Darcy taking place outside for no apparent reason, in inappropriately rugged scenery and often in the pouring rain Not to mention that Jane Austen, and in particular P & P, is not about passion, sexual tension or love It's about different strategies of negotiating the stultification of eighteenth century society Which was completely ignored, so that the Bennets' house was a rambunctious, chaotic place where everybody shouts at once, runs around, leaves their underwear on chairs, and pigs wander happily through the house; the society balls become rowdy country dances one step away from a Matrix Reloaded style dance-orgy; and everybody says exactly what they think without the slightest regard for proprietyThe genius of Jane Austen lies in exploring the void created by a society in which nobody says what they think or mean because of an overwhelming regard for propriety, and the tragic predicaments of her characters arise from misunderstandings and miscommunications enabled by that speechless gap So both the brilliance of Jane Austen and the very factor that allows her plots - particularly in this film - to function was completely erased Subtlety in general was nowhere int his film, sacrificed in favour of an overwrought drama which jarred entirely with the material and the performancesIt was so obviously trying to be a *serious* film The humour - which IS Pride & Prejudice, both Austen's methodology and her appeal - was almost entirely suppressed in favour of all this po-faced melodrama, and when it was allowed in, was handled so clumsily Pride & Prejudice is a serious narrative which makes serious points, yes, but those serious points and weightier themes are not just intertwined with the humour, they are embedded in it You can't lose Jane Austen's technique, leaving only the bare bones of the story, and expect the themes to remain Not even when you replace her techniques with your own heavy-handed mystical-numinous fauxbrow cinematographyElizabeth Bennett is supposed to be a woman, an adult, mature and sensible and clear-sighted Keira Knightley played the first half of the film like an empty-headed giggling schoolgirl, and the second half like an empty-headed schoolgirl who thinks she is a tragic heroine Elizabeth's wit, her combative verbal exchanges, her quintessential characteristic of being able to see and laugh at everybody's follies including her own, her strength and composure, and her fantastic clear-sightedness were completely lost and replaced with  what? A lot of giggling and staring into the distance? Rather than being able to keep her head when all about her were losing theirs, she started to cry and scream at the slightest provocation - and not genuinely raging, either; no, these were petulant hissy fits And where the great strength of Austen's Elizabeth (at least in Austen's eyes) was her ability to retain integrity and observance while remaining within the boundaries of society and sustaining impeachable propriety, Knightley's Elizabeth had no regard whatsoever for convention Furthermore, she seemed to think that wandering around barefoot in the mud in the eighteenth century version of overalls established her beyond doubt as spirited and strong-minded, and therefore nothing in the character as written or the performance had to sustain it An astonishingly unsubtle and bland performance In which quest for blandness and weakness, she was ably matched by Matthew MacfaydenDonald Sutherland as Mr Bennet seemed weak, ineffectual and permanently befuddled without the wicked sense of humour and ironic detachment at the expense of human relationships that makes Mr Bennet so fascinating and tragic His special bond with Lizzie, as the only two sensible people in a world of fools, was completely lost, not least because both of them were fools in a world of fools, and that completely deprived the end of the film of emotional impact Mr Bingley was no longer amiable and well-meaning to the point of folly, but was played as a complete retard for cheap laughs, and the woman who was playing Jane was so wildly inconsistent that she may as well not have tried to do anything with the character at all The script veered wildly between verbatim chunks of Jane Austen - delivered with remarkable clumsiness - and totally contemporaneous language which would not be out of place in a modern day romantic comedyJust get the BBC adaptation on DVD and save yourself the heartache --> Text length need to be between 0 and 5000 characters",
     "output_type": "error",
     "traceback": [
      "\u001b[0;31m---------------------------------------------------------------------------\u001b[0m",
      "\u001b[0;31mNotValidLength\u001b[0m                            Traceback (most recent call last)",
      "\u001b[1;32m/Users/juampi/Documents/uba/Cuarto Cuatrimestre/Organizacion de Datos/tp2/7506R_TP2_GRUPO23_ENTREGA.ipynb Cell 61\u001b[0m line \u001b[0;36m1\n\u001b[1;32m      <a href='vscode-notebook-cell:/Users/juampi/Documents/uba/Cuarto%20Cuatrimestre/Organizacion%20de%20Datos/tp2/7506R_TP2_GRUPO23_ENTREGA.ipynb#Y404sZmlsZQ%3D%3D?line=7'>8</a>\u001b[0m     \u001b[39mfor\u001b[39;00m index, row \u001b[39min\u001b[39;00m df\u001b[39m.\u001b[39miterrows():\n\u001b[1;32m      <a href='vscode-notebook-cell:/Users/juampi/Documents/uba/Cuarto%20Cuatrimestre/Organizacion%20de%20Datos/tp2/7506R_TP2_GRUPO23_ENTREGA.ipynb#Y404sZmlsZQ%3D%3D?line=8'>9</a>\u001b[0m         \u001b[39mif\u001b[39;00m row[\u001b[39m'\u001b[39m\u001b[39midioma\u001b[39m\u001b[39m'\u001b[39m] \u001b[39m==\u001b[39m \u001b[39m'\u001b[39m\u001b[39men\u001b[39m\u001b[39m'\u001b[39m:\n\u001b[0;32m---> <a href='vscode-notebook-cell:/Users/juampi/Documents/uba/Cuarto%20Cuatrimestre/Organizacion%20de%20Datos/tp2/7506R_TP2_GRUPO23_ENTREGA.ipynb#Y404sZmlsZQ%3D%3D?line=9'>10</a>\u001b[0m             df\u001b[39m.\u001b[39mloc[index, \u001b[39m'\u001b[39m\u001b[39mreview_es\u001b[39m\u001b[39m'\u001b[39m] \u001b[39m=\u001b[39m traducir_al_castellano(row[\u001b[39m'\u001b[39m\u001b[39mreview_es\u001b[39m\u001b[39m'\u001b[39m],\u001b[39m'\u001b[39m\u001b[39men\u001b[39m\u001b[39m'\u001b[39m )\n\u001b[1;32m     <a href='vscode-notebook-cell:/Users/juampi/Documents/uba/Cuarto%20Cuatrimestre/Organizacion%20de%20Datos/tp2/7506R_TP2_GRUPO23_ENTREGA.ipynb#Y404sZmlsZQ%3D%3D?line=10'>11</a>\u001b[0m     df\u001b[39m.\u001b[39mto_csv(\u001b[39m'\u001b[39m\u001b[39mdatasets/train_con_traduccion.csv\u001b[39m\u001b[39m'\u001b[39m, index\u001b[39m=\u001b[39m\u001b[39mFalse\u001b[39;00m)\n\u001b[1;32m     <a href='vscode-notebook-cell:/Users/juampi/Documents/uba/Cuarto%20Cuatrimestre/Organizacion%20de%20Datos/tp2/7506R_TP2_GRUPO23_ENTREGA.ipynb#Y404sZmlsZQ%3D%3D?line=11'>12</a>\u001b[0m \u001b[39melse\u001b[39;00m:\n",
      "\u001b[1;32m/Users/juampi/Documents/uba/Cuarto Cuatrimestre/Organizacion de Datos/tp2/7506R_TP2_GRUPO23_ENTREGA.ipynb Cell 61\u001b[0m line \u001b[0;36m4\n\u001b[1;32m      <a href='vscode-notebook-cell:/Users/juampi/Documents/uba/Cuarto%20Cuatrimestre/Organizacion%20de%20Datos/tp2/7506R_TP2_GRUPO23_ENTREGA.ipynb#Y404sZmlsZQ%3D%3D?line=2'>3</a>\u001b[0m \u001b[39mdef\u001b[39;00m \u001b[39mtraducir_al_castellano\u001b[39m(texto, idioma):\n\u001b[0;32m----> <a href='vscode-notebook-cell:/Users/juampi/Documents/uba/Cuarto%20Cuatrimestre/Organizacion%20de%20Datos/tp2/7506R_TP2_GRUPO23_ENTREGA.ipynb#Y404sZmlsZQ%3D%3D?line=3'>4</a>\u001b[0m     traduccion \u001b[39m=\u001b[39m GoogleTranslator(source\u001b[39m=\u001b[39m\u001b[39m'\u001b[39m\u001b[39menglish\u001b[39m\u001b[39m'\u001b[39m, target\u001b[39m=\u001b[39m\u001b[39m'\u001b[39m\u001b[39mspanish\u001b[39m\u001b[39m'\u001b[39m)\u001b[39m.\u001b[39mtranslate(texto)\n\u001b[1;32m      <a href='vscode-notebook-cell:/Users/juampi/Documents/uba/Cuarto%20Cuatrimestre/Organizacion%20de%20Datos/tp2/7506R_TP2_GRUPO23_ENTREGA.ipynb#Y404sZmlsZQ%3D%3D?line=4'>5</a>\u001b[0m     \u001b[39mreturn\u001b[39;00m traduccion\n",
      "File \u001b[0;32m~/anaconda3/lib/python3.11/site-packages/deep_translator/google.py:57\u001b[0m, in \u001b[0;36mGoogleTranslator.translate\u001b[0;34m(self, text, **kwargs)\u001b[0m\n\u001b[1;32m     51\u001b[0m \u001b[39mdef\u001b[39;00m \u001b[39mtranslate\u001b[39m(\u001b[39mself\u001b[39m, text: \u001b[39mstr\u001b[39m, \u001b[39m*\u001b[39m\u001b[39m*\u001b[39mkwargs) \u001b[39m-\u001b[39m\u001b[39m>\u001b[39m \u001b[39mstr\u001b[39m:\n\u001b[1;32m     52\u001b[0m \u001b[39m    \u001b[39m\u001b[39m\"\"\"\u001b[39;00m\n\u001b[1;32m     53\u001b[0m \u001b[39m    function to translate a text\u001b[39;00m\n\u001b[1;32m     54\u001b[0m \u001b[39m    @param text: desired text to translate\u001b[39;00m\n\u001b[1;32m     55\u001b[0m \u001b[39m    @return: str: translated text\u001b[39;00m\n\u001b[1;32m     56\u001b[0m \u001b[39m    \"\"\"\u001b[39;00m\n\u001b[0;32m---> 57\u001b[0m     \u001b[39mif\u001b[39;00m is_input_valid(text, max_chars\u001b[39m=\u001b[39m\u001b[39m5000\u001b[39m):\n\u001b[1;32m     58\u001b[0m         text \u001b[39m=\u001b[39m text\u001b[39m.\u001b[39mstrip()\n\u001b[1;32m     59\u001b[0m         \u001b[39mif\u001b[39;00m \u001b[39mself\u001b[39m\u001b[39m.\u001b[39m_same_source_target() \u001b[39mor\u001b[39;00m is_empty(text):\n",
      "File \u001b[0;32m~/anaconda3/lib/python3.11/site-packages/deep_translator/validate.py:41\u001b[0m, in \u001b[0;36mis_input_valid\u001b[0;34m(text, min_chars, max_chars)\u001b[0m\n\u001b[1;32m     39\u001b[0m     \u001b[39mraise\u001b[39;00m NotValidPayload(text)\n\u001b[1;32m     40\u001b[0m \u001b[39mif\u001b[39;00m max_chars \u001b[39mand\u001b[39;00m (\u001b[39mnot\u001b[39;00m min_chars \u001b[39m<\u001b[39m\u001b[39m=\u001b[39m \u001b[39mlen\u001b[39m(text) \u001b[39m<\u001b[39m max_chars):\n\u001b[0;32m---> 41\u001b[0m     \u001b[39mraise\u001b[39;00m NotValidLength(text, min_chars, max_chars)\n\u001b[1;32m     43\u001b[0m \u001b[39mreturn\u001b[39;00m \u001b[39mTrue\u001b[39;00m\n",
      "\u001b[0;31mNotValidLength\u001b[0m: From the film's first shot - Keira Knightley as Elizabeth Bennet wandering reading through a field at dawn, thus invoking all the clichés cinema has developed to address the phenomenon of the strong-minded rebellious female character in period drama - I knew I was in for something to make me want to kill myselfJoe Wright seemed not only to have not read the book, but to be under the regrettable misapprehension that what he was filming was not in fact Jane Austen's subtle, nuanced comedy of manners conducted through sparkling, delicate social interaction in eighteenth century English drawing-rooms, but a sort of U-certificate Wuthering Heights Thus we were treated to every scene between Elizabeth and Darcy taking place outside for no apparent reason, in inappropriately rugged scenery and often in the pouring rain Not to mention that Jane Austen, and in particular P & P, is not about passion, sexual tension or love It's about different strategies of negotiating the stultification of eighteenth century society Which was completely ignored, so that the Bennets' house was a rambunctious, chaotic place where everybody shouts at once, runs around, leaves their underwear on chairs, and pigs wander happily through the house; the society balls become rowdy country dances one step away from a Matrix Reloaded style dance-orgy; and everybody says exactly what they think without the slightest regard for proprietyThe genius of Jane Austen lies in exploring the void created by a society in which nobody says what they think or mean because of an overwhelming regard for propriety, and the tragic predicaments of her characters arise from misunderstandings and miscommunications enabled by that speechless gap So both the brilliance of Jane Austen and the very factor that allows her plots - particularly in this film - to function was completely erased Subtlety in general was nowhere int his film, sacrificed in favour of an overwrought drama which jarred entirely with the material and the performancesIt was so obviously trying to be a *serious* film The humour - which IS Pride & Prejudice, both Austen's methodology and her appeal - was almost entirely suppressed in favour of all this po-faced melodrama, and when it was allowed in, was handled so clumsily Pride & Prejudice is a serious narrative which makes serious points, yes, but those serious points and weightier themes are not just intertwined with the humour, they are embedded in it You can't lose Jane Austen's technique, leaving only the bare bones of the story, and expect the themes to remain Not even when you replace her techniques with your own heavy-handed mystical-numinous fauxbrow cinematographyElizabeth Bennett is supposed to be a woman, an adult, mature and sensible and clear-sighted Keira Knightley played the first half of the film like an empty-headed giggling schoolgirl, and the second half like an empty-headed schoolgirl who thinks she is a tragic heroine Elizabeth's wit, her combative verbal exchanges, her quintessential characteristic of being able to see and laugh at everybody's follies including her own, her strength and composure, and her fantastic clear-sightedness were completely lost and replaced with  what? A lot of giggling and staring into the distance? Rather than being able to keep her head when all about her were losing theirs, she started to cry and scream at the slightest provocation - and not genuinely raging, either; no, these were petulant hissy fits And where the great strength of Austen's Elizabeth (at least in Austen's eyes) was her ability to retain integrity and observance while remaining within the boundaries of society and sustaining impeachable propriety, Knightley's Elizabeth had no regard whatsoever for convention Furthermore, she seemed to think that wandering around barefoot in the mud in the eighteenth century version of overalls established her beyond doubt as spirited and strong-minded, and therefore nothing in the character as written or the performance had to sustain it An astonishingly unsubtle and bland performance In which quest for blandness and weakness, she was ably matched by Matthew MacfaydenDonald Sutherland as Mr Bennet seemed weak, ineffectual and permanently befuddled without the wicked sense of humour and ironic detachment at the expense of human relationships that makes Mr Bennet so fascinating and tragic His special bond with Lizzie, as the only two sensible people in a world of fools, was completely lost, not least because both of them were fools in a world of fools, and that completely deprived the end of the film of emotional impact Mr Bingley was no longer amiable and well-meaning to the point of folly, but was played as a complete retard for cheap laughs, and the woman who was playing Jane was so wildly inconsistent that she may as well not have tried to do anything with the character at all The script veered wildly between verbatim chunks of Jane Austen - delivered with remarkable clumsiness - and totally contemporaneous language which would not be out of place in a modern day romantic comedyJust get the BBC adaptation on DVD and save yourself the heartache --> Text length need to be between 0 and 5000 characters"
     ]
    }
   ],
   "source": [
    "from deep_translator import GoogleTranslator\n",
    "\n",
    "def traducir_al_castellano(texto, idioma):\n",
    "    traduccion = GoogleTranslator(source='english', target='spanish').translate(texto)\n",
    "    return traduccion\n",
    "\n",
    "if not os.path.isfile('datasets/train_con_traduccion.csv'):\n",
    "    for index, row in df.iterrows():\n",
    "        if row['idioma'] == 'en':\n",
    "            df.loc[index, 'review_es'] = traducir_al_castellano(row['review_es'],'en' )\n",
    "    df.to_csv('datasets/train_con_traduccion.csv', index=False)\n",
    "else:\n",
    "    df = pd.read_csv('datasets/train_con_traduccion..csv', sep=',')"
   ]
  },
  {
   "cell_type": "markdown",
   "metadata": {},
   "source": [
    "A continuacion realizaremos un paso muy importante en este tp, el cual va a reducir el tiempo de entrenaminto de los modelos, va a mejorar su performance y va a evitar que los modelos se sobreajusten. Este paso es el preprocesamiento de las reviews."
   ]
  },
  {
   "cell_type": "markdown",
   "metadata": {},
   "source": [
    "Los pasos a realizar son los siguientes:\n",
    "\n",
    "- limpiar texto = Elimina los caracteres que no sean un caracter alfanumerico y los reemplaza por espacios en blanco. Elimina las palabras que tienen solo un carácter alfabético y las reemplaza por espacios en blanco. Sustituye múltiples espacios en blanco por uno solo. Convierte todos los caracteres del texto a minúsculas.\n",
    "\n",
    "- filtrar stopwords = elimina las stopwords que son palabras comunes sin significado específico.\n",
    "\n",
    "- stem palabras = reduce cada token a su raíz (o \"stem\").\n",
    "\n",
    "- tokenize = realiza una serie de operaciones de preprocesamiento (las mencionadas anteriormente y tambien elimina los sustantivos propios) y devuelve el texto tokenizado y procesado."
   ]
  },
  {
   "cell_type": "code",
   "execution_count": 111,
   "metadata": {},
   "outputs": [
    {
     "ename": "OSError",
     "evalue": "[E050] Can't find model 'es_core_news_sm'. It doesn't seem to be a Python package or a valid path to a data directory.",
     "output_type": "error",
     "traceback": [
      "\u001b[0;31m---------------------------------------------------------------------------\u001b[0m",
      "\u001b[0;31mOSError\u001b[0m                                   Traceback (most recent call last)",
      "\u001b[1;32m/Users/juampi/Documents/uba/Cuarto Cuatrimestre/Organizacion de Datos/tp2/7506R_TP2_GRUPO23_ENTREGA.ipynb Cell 73\u001b[0m line \u001b[0;36m3\n\u001b[1;32m      <a href='vscode-notebook-cell:/Users/juampi/Documents/uba/Cuarto%20Cuatrimestre/Organizacion%20de%20Datos/tp2/7506R_TP2_GRUPO23_ENTREGA.ipynb#Y120sZmlsZQ%3D%3D?line=0'>1</a>\u001b[0m df_preprocesado \u001b[39m=\u001b[39m df\u001b[39m.\u001b[39mcopy()\n\u001b[0;32m----> <a href='vscode-notebook-cell:/Users/juampi/Documents/uba/Cuarto%20Cuatrimestre/Organizacion%20de%20Datos/tp2/7506R_TP2_GRUPO23_ENTREGA.ipynb#Y120sZmlsZQ%3D%3D?line=2'>3</a>\u001b[0m nlp \u001b[39m=\u001b[39m spacy\u001b[39m.\u001b[39;49mload(\u001b[39m\"\u001b[39;49m\u001b[39mes_core_news_sm\u001b[39;49m\u001b[39m\"\u001b[39;49m)\n\u001b[1;32m      <a href='vscode-notebook-cell:/Users/juampi/Documents/uba/Cuarto%20Cuatrimestre/Organizacion%20de%20Datos/tp2/7506R_TP2_GRUPO23_ENTREGA.ipynb#Y120sZmlsZQ%3D%3D?line=4'>5</a>\u001b[0m df_preprocesado \u001b[39m=\u001b[39m df\u001b[39m.\u001b[39mcopy()\n\u001b[1;32m      <a href='vscode-notebook-cell:/Users/juampi/Documents/uba/Cuarto%20Cuatrimestre/Organizacion%20de%20Datos/tp2/7506R_TP2_GRUPO23_ENTREGA.ipynb#Y120sZmlsZQ%3D%3D?line=6'>7</a>\u001b[0m tokenizer \u001b[39m=\u001b[39m ToktokTokenizer() \n",
      "File \u001b[0;32m~/Library/Python/3.9/lib/python/site-packages/spacy/__init__.py:51\u001b[0m, in \u001b[0;36mload\u001b[0;34m(name, vocab, disable, enable, exclude, config)\u001b[0m\n\u001b[1;32m     27\u001b[0m \u001b[39mdef\u001b[39;00m \u001b[39mload\u001b[39m(\n\u001b[1;32m     28\u001b[0m     name: Union[\u001b[39mstr\u001b[39m, Path],\n\u001b[1;32m     29\u001b[0m     \u001b[39m*\u001b[39m,\n\u001b[0;32m   (...)\u001b[0m\n\u001b[1;32m     34\u001b[0m     config: Union[Dict[\u001b[39mstr\u001b[39m, Any], Config] \u001b[39m=\u001b[39m util\u001b[39m.\u001b[39mSimpleFrozenDict(),\n\u001b[1;32m     35\u001b[0m ) \u001b[39m-\u001b[39m\u001b[39m>\u001b[39m Language:\n\u001b[1;32m     36\u001b[0m \u001b[39m    \u001b[39m\u001b[39m\"\"\"Load a spaCy model from an installed package or a local path.\u001b[39;00m\n\u001b[1;32m     37\u001b[0m \n\u001b[1;32m     38\u001b[0m \u001b[39m    name (str): Package name or model path.\u001b[39;00m\n\u001b[0;32m   (...)\u001b[0m\n\u001b[1;32m     49\u001b[0m \u001b[39m    RETURNS (Language): The loaded nlp object.\u001b[39;00m\n\u001b[1;32m     50\u001b[0m \u001b[39m    \"\"\"\u001b[39;00m\n\u001b[0;32m---> 51\u001b[0m     \u001b[39mreturn\u001b[39;00m util\u001b[39m.\u001b[39;49mload_model(\n\u001b[1;32m     52\u001b[0m         name,\n\u001b[1;32m     53\u001b[0m         vocab\u001b[39m=\u001b[39;49mvocab,\n\u001b[1;32m     54\u001b[0m         disable\u001b[39m=\u001b[39;49mdisable,\n\u001b[1;32m     55\u001b[0m         enable\u001b[39m=\u001b[39;49menable,\n\u001b[1;32m     56\u001b[0m         exclude\u001b[39m=\u001b[39;49mexclude,\n\u001b[1;32m     57\u001b[0m         config\u001b[39m=\u001b[39;49mconfig,\n\u001b[1;32m     58\u001b[0m     )\n",
      "File \u001b[0;32m~/Library/Python/3.9/lib/python/site-packages/spacy/util.py:472\u001b[0m, in \u001b[0;36mload_model\u001b[0;34m(name, vocab, disable, enable, exclude, config)\u001b[0m\n\u001b[1;32m    470\u001b[0m \u001b[39mif\u001b[39;00m name \u001b[39min\u001b[39;00m OLD_MODEL_SHORTCUTS:\n\u001b[1;32m    471\u001b[0m     \u001b[39mraise\u001b[39;00m \u001b[39mIOError\u001b[39;00m(Errors\u001b[39m.\u001b[39mE941\u001b[39m.\u001b[39mformat(name\u001b[39m=\u001b[39mname, full\u001b[39m=\u001b[39mOLD_MODEL_SHORTCUTS[name]))  \u001b[39m# type: ignore[index]\u001b[39;00m\n\u001b[0;32m--> 472\u001b[0m \u001b[39mraise\u001b[39;00m \u001b[39mIOError\u001b[39;00m(Errors\u001b[39m.\u001b[39mE050\u001b[39m.\u001b[39mformat(name\u001b[39m=\u001b[39mname))\n",
      "\u001b[0;31mOSError\u001b[0m: [E050] Can't find model 'es_core_news_sm'. It doesn't seem to be a Python package or a valid path to a data directory."
     ]
    }
   ],
   "source": [
    "df_preprocesado = df.copy()\n",
    "\n",
    "nlp = spacy.load(\"es_core_news_sm\")\n",
    "\n",
    "tokenizer = ToktokTokenizer() \n",
    "STOPWORDS = set(stopwords.words(\"spanish\"))\n",
    "stemmer = nltk.stem.SnowballStemmer(\"spanish\")\n",
    "\n",
    "def limpiar_texto(texto):\n",
    "    # Eliminamos los caracteres especiales\n",
    "    texto = re.sub(r'\\W', ' ', str(texto))\n",
    "    # Eliminado las palabras que tengo un solo caracter\n",
    "    texto = re.sub(r'\\s+[a-zA-Z]\\s+', ' ', texto)\n",
    "    # Sustituir los espacios en blanco en uno solo\n",
    "    texto = re.sub(r'\\s+', ' ', texto, flags=re.I)\n",
    "    # Convertimos textos a minúsculas\n",
    "    texto = texto.lower()\n",
    "    return texto\n",
    "\n",
    "def filtrar_stopword_digitos(tokens):\n",
    "    return [token for token in tokens if token not in STOPWORDS and not token.isdigit()]\n",
    "\n",
    "def stem_palabras(tokens):\n",
    "    return [stemmer.stem(token) for token in tokens]\n",
    "\n",
    "def tokenize(texto):\n",
    "    text_cleaned = limpiar_texto(texto)\n",
    "    doc = nlp(text_cleaned)\n",
    "    \n",
    "    tokens = [token.text for token in doc if token.pos_ != 'PROPN' and len(token.text) > 1]\n",
    "    tokens = filtrar_stopword_digitos(tokens)\n",
    "    stems = stem_palabras(tokens)\n",
    "    stems = ' '.join(stems)\n",
    "    return stems"
   ]
  },
  {
   "cell_type": "markdown",
   "metadata": {},
   "source": [
    "Tambien decidimos eliminar los numeros, ya que incluyendo todos los modelos empeoraban su performance. Ademas, probamos manteniendo los numeros que estaban entre 0 y 10 pero tampoco ayudo."
   ]
  },
  {
   "cell_type": "markdown",
   "metadata": {},
   "source": [
    "Aca preprocesamos todas las reviews con los pasos mencionados anteriormente."
   ]
  },
  {
   "cell_type": "code",
   "execution_count": null,
   "metadata": {},
   "outputs": [],
   "source": [
    "df_preprocesado['review_es'] = df_preprocesado['review_es'].apply(tokenize)"
   ]
  },
  {
   "cell_type": "code",
   "execution_count": 112,
   "metadata": {},
   "outputs": [],
   "source": [
    "nombre_df_exportar = 'datasets/train_preprocesado_sin_traduccion_z_score.csv'\n",
    "if not os.path.isfile(nombre_df_exportar):\n",
    "    df_preprocesado.to_csv(nombre_df_exportar, index=False)"
   ]
  },
  {
   "cell_type": "markdown",
   "metadata": {},
   "source": [
    "Utilizameros el dataset ya preprocesado sin traducciones, o sea, que elimina las reviews que no estaban en castellano. Ademas, elimina los outliers marcados por el z-score y los sustantivos propios. Esto lo hicimos para ahorrarnos tiempo de ejecucion ya que tenemos frecuentemente crasheos del kernel."
   ]
  },
  {
   "cell_type": "code",
   "execution_count": 113,
   "metadata": {},
   "outputs": [],
   "source": [
    "nombre_df = 'datasets/train_preprocesado_sin_traduccion_z_score_sin_propper_nouns.csv'\n",
    "df_preprocesado = pd.read_csv(nombre_df, sep=',')"
   ]
  },
  {
   "cell_type": "markdown",
   "metadata": {},
   "source": [
    "Con esto podemos observar brevemente como quedan las reviews luego de este preprocesamiento."
   ]
  },
  {
   "cell_type": "code",
   "execution_count": 114,
   "metadata": {},
   "outputs": [
    {
     "data": {
      "text/html": [
       "<div>\n",
       "<style scoped>\n",
       "    .dataframe tbody tr th:only-of-type {\n",
       "        vertical-align: middle;\n",
       "    }\n",
       "\n",
       "    .dataframe tbody tr th {\n",
       "        vertical-align: top;\n",
       "    }\n",
       "\n",
       "    .dataframe thead th {\n",
       "        text-align: right;\n",
       "    }\n",
       "</style>\n",
       "<table border=\"1\" class=\"dataframe\">\n",
       "  <thead>\n",
       "    <tr style=\"text-align: right;\">\n",
       "      <th></th>\n",
       "      <th>ID</th>\n",
       "      <th>review_es</th>\n",
       "      <th>sentimiento</th>\n",
       "      <th>cantidad_de_palabras</th>\n",
       "      <th>zscore</th>\n",
       "      <th>zm_cantidad_de_palabras</th>\n",
       "      <th>longitud_review</th>\n",
       "      <th>idioma</th>\n",
       "    </tr>\n",
       "  </thead>\n",
       "  <tbody>\n",
       "    <tr>\n",
       "      <th>0</th>\n",
       "      <td>0</td>\n",
       "      <td>critic mencion despues ver sol oz episodi enga...</td>\n",
       "      <td>positivo</td>\n",
       "      <td>345</td>\n",
       "      <td>0.600271</td>\n",
       "      <td>1.823258</td>\n",
       "      <td>2004</td>\n",
       "      <td>es</td>\n",
       "    </tr>\n",
       "    <tr>\n",
       "      <th>1</th>\n",
       "      <td>1</td>\n",
       "      <td>pequeñ pequeñ produccion tecnic filmacion incu...</td>\n",
       "      <td>positivo</td>\n",
       "      <td>161</td>\n",
       "      <td>-0.424631</td>\n",
       "      <td>-0.115930</td>\n",
       "      <td>1061</td>\n",
       "      <td>es</td>\n",
       "    </tr>\n",
       "    <tr>\n",
       "      <th>2</th>\n",
       "      <td>2</td>\n",
       "      <td>pens maner maravill pas tiemp fin seman veran ...</td>\n",
       "      <td>positivo</td>\n",
       "      <td>173</td>\n",
       "      <td>-0.357789</td>\n",
       "      <td>0.010539</td>\n",
       "      <td>989</td>\n",
       "      <td>es</td>\n",
       "    </tr>\n",
       "    <tr>\n",
       "      <th>3</th>\n",
       "      <td>3</td>\n",
       "      <td>basic famili niñ pequeñ piens zombi armari pad...</td>\n",
       "      <td>negativo</td>\n",
       "      <td>137</td>\n",
       "      <td>-0.558314</td>\n",
       "      <td>-0.368867</td>\n",
       "      <td>790</td>\n",
       "      <td>es</td>\n",
       "    </tr>\n",
       "    <tr>\n",
       "      <th>4</th>\n",
       "      <td>4</td>\n",
       "      <td>amor tiemp pett mattei pelicul visual impresio...</td>\n",
       "      <td>positivo</td>\n",
       "      <td>237</td>\n",
       "      <td>-0.001302</td>\n",
       "      <td>0.685039</td>\n",
       "      <td>1406</td>\n",
       "      <td>es</td>\n",
       "    </tr>\n",
       "    <tr>\n",
       "      <th>5</th>\n",
       "      <td>5</td>\n",
       "      <td>probabl pelicul favorit tiemp histori desinter...</td>\n",
       "      <td>positivo</td>\n",
       "      <td>123</td>\n",
       "      <td>-0.636295</td>\n",
       "      <td>-0.516414</td>\n",
       "      <td>724</td>\n",
       "      <td>es</td>\n",
       "    </tr>\n",
       "    <tr>\n",
       "      <th>6</th>\n",
       "      <td>6</td>\n",
       "      <td>segur gust ver resurreccion seri tecnolog hoy ...</td>\n",
       "      <td>positivo</td>\n",
       "      <td>157</td>\n",
       "      <td>-0.446911</td>\n",
       "      <td>-0.158086</td>\n",
       "      <td>839</td>\n",
       "      <td>es</td>\n",
       "    </tr>\n",
       "    <tr>\n",
       "      <th>7</th>\n",
       "      <td>7</td>\n",
       "      <td>espectacul ide increibl fresc innov años emit ...</td>\n",
       "      <td>negativo</td>\n",
       "      <td>168</td>\n",
       "      <td>-0.385640</td>\n",
       "      <td>-0.042156</td>\n",
       "      <td>1034</td>\n",
       "      <td>es</td>\n",
       "    </tr>\n",
       "    <tr>\n",
       "      <th>8</th>\n",
       "      <td>8</td>\n",
       "      <td>alent comentari posit pelicul aqu des ver peli...</td>\n",
       "      <td>negativo</td>\n",
       "      <td>120</td>\n",
       "      <td>-0.653006</td>\n",
       "      <td>-0.548031</td>\n",
       "      <td>708</td>\n",
       "      <td>es</td>\n",
       "    </tr>\n",
       "    <tr>\n",
       "      <th>9</th>\n",
       "      <td>9</td>\n",
       "      <td>si gust ris original desgarr gust pelicul si j...</td>\n",
       "      <td>positivo</td>\n",
       "      <td>31</td>\n",
       "      <td>-1.148747</td>\n",
       "      <td>-1.486008</td>\n",
       "      <td>186</td>\n",
       "      <td>es</td>\n",
       "    </tr>\n",
       "  </tbody>\n",
       "</table>\n",
       "</div>"
      ],
      "text/plain": [
       "   ID                                          review_es sentimiento  \\\n",
       "0   0  critic mencion despues ver sol oz episodi enga...    positivo   \n",
       "1   1  pequeñ pequeñ produccion tecnic filmacion incu...    positivo   \n",
       "2   2  pens maner maravill pas tiemp fin seman veran ...    positivo   \n",
       "3   3  basic famili niñ pequeñ piens zombi armari pad...    negativo   \n",
       "4   4  amor tiemp pett mattei pelicul visual impresio...    positivo   \n",
       "5   5  probabl pelicul favorit tiemp histori desinter...    positivo   \n",
       "6   6  segur gust ver resurreccion seri tecnolog hoy ...    positivo   \n",
       "7   7  espectacul ide increibl fresc innov años emit ...    negativo   \n",
       "8   8  alent comentari posit pelicul aqu des ver peli...    negativo   \n",
       "9   9  si gust ris original desgarr gust pelicul si j...    positivo   \n",
       "\n",
       "   cantidad_de_palabras    zscore  zm_cantidad_de_palabras  longitud_review  \\\n",
       "0                   345  0.600271                 1.823258             2004   \n",
       "1                   161 -0.424631                -0.115930             1061   \n",
       "2                   173 -0.357789                 0.010539              989   \n",
       "3                   137 -0.558314                -0.368867              790   \n",
       "4                   237 -0.001302                 0.685039             1406   \n",
       "5                   123 -0.636295                -0.516414              724   \n",
       "6                   157 -0.446911                -0.158086              839   \n",
       "7                   168 -0.385640                -0.042156             1034   \n",
       "8                   120 -0.653006                -0.548031              708   \n",
       "9                    31 -1.148747                -1.486008              186   \n",
       "\n",
       "  idioma  \n",
       "0     es  \n",
       "1     es  \n",
       "2     es  \n",
       "3     es  \n",
       "4     es  \n",
       "5     es  \n",
       "6     es  \n",
       "7     es  \n",
       "8     es  \n",
       "9     es  "
      ]
     },
     "execution_count": 114,
     "metadata": {},
     "output_type": "execute_result"
    }
   ],
   "source": [
    "df_preprocesado.head(10)"
   ]
  },
  {
   "cell_type": "code",
   "execution_count": 115,
   "metadata": {},
   "outputs": [
    {
     "name": "stdout",
     "output_type": "stream",
     "text": [
      "Numero de palabras unicas en el dataset post preprocesamiento: 73046\n"
     ]
    }
   ],
   "source": [
    "tokens = []\n",
    "for review in df_preprocesado['review_es']:\n",
    "    tokens.extend(review.split())\n",
    "\n",
    "palabras_unicas = set(tokens)\n",
    "numero_de_palabras_unicas = len(palabras_unicas)\n",
    "\n",
    "print(\"Numero de palabras unicas en el dataset post preprocesamiento:\", numero_de_palabras_unicas)"
   ]
  },
  {
   "cell_type": "markdown",
   "metadata": {},
   "source": [
    "Se puede observar que el preprocesamiento disminuyo notablemente nuestro bag of words."
   ]
  },
  {
   "cell_type": "markdown",
   "metadata": {},
   "source": [
    "Como ultimo paso del preprocesamiento, dividimos el dataset en train y test. Utilizamos un ratio de 80% para train y 20% para test. Ademas, utilizamos el parametro random_state para que la division sea reproducible. Tambien trasladamos los labels a valores numericos para poder trabajar con ellos."
   ]
  },
  {
   "cell_type": "code",
   "execution_count": 155,
   "metadata": {},
   "outputs": [],
   "source": [
    "df_preprocesado['sentimiento'] = df_preprocesado['sentimiento'].map({'negativo': 0, 'positivo': 1, 0: 0, 1: 1})\n",
    "\n",
    "x_train, x_test, y_train, y_test = train_test_split(df_preprocesado['review_es'], df_preprocesado['sentimiento'], test_size=0.2, random_state=42)"
   ]
  },
  {
   "cell_type": "markdown",
   "metadata": {},
   "source": [
    "## Entrenamiento de modelos"
   ]
  },
  {
   "cell_type": "markdown",
   "metadata": {},
   "source": [
    "Cabe recalcar que para cada modelo utilizamos CountVectorizer y TfidfVectorizer para ver cual nos brindaba mejores resultados. Solo mantenemos el que mejor performance nos brindo. Ademas, utilizamos RandomizedSearchCV para encontrar los mejores hiperparametros para los modelos principales. Ademas, las busquedas de hiperparetros estaran con baja cantidad de iteraciones ya que las corridas largas fueron realizadas previamente."
   ]
  },
  {
   "cell_type": "markdown",
   "metadata": {},
   "source": [
    "### Modelos de Bayes Naïve"
   ]
  },
  {
   "cell_type": "markdown",
   "metadata": {},
   "source": [
    "#### Bayes Naïve Multinomial"
   ]
  },
  {
   "cell_type": "markdown",
   "metadata": {},
   "source": [
    "Vamos a probar en primer lugar con un count vectorizer y luego con un tfidf vectorizer par ver con cual obtenemos mejores resultados"
   ]
  },
  {
   "cell_type": "code",
   "execution_count": 117,
   "metadata": {},
   "outputs": [],
   "source": [
    "modelo_count = make_pipeline(CountVectorizer(), MultinomialNB())\n",
    "modelo_tfidf = Pipeline([('tvec', TfidfVectorizer()), ('mnb',MultinomialNB())])"
   ]
  },
  {
   "cell_type": "code",
   "execution_count": 118,
   "metadata": {},
   "outputs": [
    {
     "name": "stdout",
     "output_type": "stream",
     "text": [
      "Accuracy: 0.8544142614601019\n",
      "Recall: 0.8460391822827938\n",
      "Precision: 0.8595845954132411\n",
      "f1 score: 0.8527581025971239\n"
     ]
    }
   ],
   "source": [
    "modelo_count.fit(x_train, y_train)\n",
    "prediccion_count = modelo_count.predict(x_test)\n",
    "\n",
    "mostrar_scores(y_test, prediccion_count)"
   ]
  },
  {
   "cell_type": "code",
   "execution_count": 119,
   "metadata": {},
   "outputs": [
    {
     "name": "stdout",
     "output_type": "stream",
     "text": [
      "Accuracy: 0.8542020373514432\n",
      "Recall: 0.8517887563884157\n",
      "Precision: 0.8550662676357418\n",
      "f1 score: 0.8534243652656284\n"
     ]
    }
   ],
   "source": [
    "modelo_tfidf.fit(x_train, y_train)\n",
    "prediccion_tfidf = modelo_tfidf.predict(x_test)\n",
    "\n",
    "mostrar_scores(y_test, prediccion_tfidf)"
   ]
  },
  {
   "cell_type": "markdown",
   "metadata": {},
   "source": [
    "En este caso, dio mejores resultados el count vectorizer. Sin embargo, por investigaciones nuestras, creemos que el tfidf es superior para este tipo de problemas. De todas maneras, por cada modelo vamos a probar los dos quedandonos con el mejor, tal como dijimos anteriormente."
   ]
  },
  {
   "cell_type": "code",
   "execution_count": 120,
   "metadata": {},
   "outputs": [
    {
     "data": {
      "image/png": "[encoded data removed]",
      "text/plain": [
       "<Figure size 1400x400 with 4 Axes>"
      ]
     },
     "metadata": {},
     "output_type": "display_data"
    }
   ],
   "source": [
    "fig, (ax1, ax2) = plt.subplots(1, 2, figsize=(14, 4))\n",
    "\n",
    "matriz_confusion = confusion_matrix(y_test, prediccion_count)\n",
    "sns.heatmap(matriz_confusion, annot=True, fmt='d', cmap='Blues', ax=ax1).set_title('Matriz de confusión count vectorizer')\n",
    "ax1.set_xlabel('Valor predicho')\n",
    "ax1.set_ylabel('Valor real')\n",
    "\n",
    "matriz_confusion = confusion_matrix(y_test, prediccion_tfidf)\n",
    "sns.heatmap(matriz_confusion, annot=True, fmt='d', cmap='Blues', ax=ax2).set_title('Matriz de confusión tfidf vectorizer')\n",
    "ax2.set_xlabel('Valor predicho')\n",
    "ax2.set_ylabel('Valor real')\n",
    "\n",
    "plt.tight_layout()\n",
    "plt.show()"
   ]
  },
  {
   "cell_type": "markdown",
   "metadata": {},
   "source": [
    "Podemos ver que en que en ambos casos nuestro modelo tiende a predecir a una review como negativa. Es por esto que la metrica de recall se ve tan baja comparada a la precision."
   ]
  },
  {
   "cell_type": "code",
   "execution_count": 121,
   "metadata": {},
   "outputs": [
    {
     "name": "stdout",
     "output_type": "stream",
     "text": [
      "Prediccion en train con count vectorizer\n",
      "Accuracy: 0.89526740237691\n",
      "Recall: 0.8826830430409233\n",
      "Precision: 0.9058951371909807\n",
      "f1 score: 0.894138467313777\n",
      "----------------------------------------\n",
      "Prediccion en train con tfidf vectorizer\n",
      "Accuracy: 0.8950286502546689\n",
      "Recall: 0.8863889035946847\n",
      "Precision: 0.902393014983292\n",
      "f1 score: 0.894319365435462\n"
     ]
    }
   ],
   "source": [
    "prediccion_count_train = modelo_count.predict(x_train)\n",
    "prediccion_tfidf_train = modelo_tfidf.predict(x_train)\n",
    "\n",
    "print(\"Prediccion en train con count vectorizer\")\n",
    "mostrar_scores(y_train, prediccion_count_train)\n",
    "print(\"----------------------------------------\")\n",
    "print(\"Prediccion en train con tfidf vectorizer\")\n",
    "mostrar_scores(y_train, prediccion_tfidf_train)"
   ]
  },
  {
   "cell_type": "markdown",
   "metadata": {},
   "source": [
    "Notamos que en ambos casos, nuestro modelo esta overfitteado."
   ]
  },
  {
   "cell_type": "markdown",
   "metadata": {},
   "source": [
    "Vamos a resolver este limitando la cantidad de features que utiliza el modelo. Para ello, vamos a utilizar el parametro max_features del vectorizer. De ahora en mas continuaremos solo con el count vectorizer ya que obtuvimos mejores resultados con el en este unico caso."
   ]
  },
  {
   "cell_type": "code",
   "execution_count": 122,
   "metadata": {},
   "outputs": [
    {
     "name": "stdout",
     "output_type": "stream",
     "text": [
      "Accuracy: 0.8504881154499151\n",
      "Recall: 0.8522146507666098\n",
      "Precision: 0.8484206063175748\n",
      "f1 score: 0.8503133963667268\n"
     ]
    }
   ],
   "source": [
    "vectorizer = CountVectorizer(max_features=6000)\n",
    "modelo_tfidf = make_pipeline(vectorizer, MultinomialNB(alpha=0.1))\n",
    "modelo_tfidf.fit(x_train, y_train)\n",
    "\n",
    "prediccion = modelo_tfidf.predict(x_test)\n",
    "\n",
    "mostrar_scores(y_test, prediccion)"
   ]
  },
  {
   "cell_type": "code",
   "execution_count": 123,
   "metadata": {},
   "outputs": [
    {
     "name": "stdout",
     "output_type": "stream",
     "text": [
      "Accuracy: 0.8539632852292021\n",
      "Recall: 0.8505479379533062\n",
      "Precision: 0.8569447407723491\n",
      "f1 score: 0.8537343571485506\n"
     ]
    }
   ],
   "source": [
    "prediccion_train = modelo_tfidf.predict(x_train)\n",
    "\n",
    "mostrar_scores(y_train, prediccion_train)"
   ]
  },
  {
   "cell_type": "markdown",
   "metadata": {},
   "source": [
    "Con esto, podemos ver que nuestro modelo mantuvo su performance. Ademas, podemos ver que ya no esta overfitteado."
   ]
  },
  {
   "cell_type": "markdown",
   "metadata": {},
   "source": [
    "#### Bayes Naive Multinomial con bigramas"
   ]
  },
  {
   "cell_type": "markdown",
   "metadata": {},
   "source": [
    "Este modelo tienen en cuenta la cantidad de apariciones de cada palabra. "
   ]
  },
  {
   "cell_type": "markdown",
   "metadata": {},
   "source": [
    "Ahora vamos a probar una variante interesante la cual consiste en usar unigramas y bigramas. Para ello, vamos a utilizar el parametro ngram_range del vectorizer. "
   ]
  },
  {
   "cell_type": "code",
   "execution_count": 124,
   "metadata": {},
   "outputs": [
    {
     "name": "stdout",
     "output_type": "stream",
     "text": [
      "Accuracy: 0.8729838709677419\n",
      "Recall: 0.9028960817717206\n",
      "Precision: 0.8512346918289501\n",
      "f1 score: 0.8763046398677278\n"
     ]
    }
   ],
   "source": [
    "vectorizer = TfidfVectorizer(max_features=25000, ngram_range=(1, 2), min_df=5, max_df=0.7, norm='l1')\n",
    "modelo_bigramas = make_pipeline(vectorizer, MultinomialNB(alpha=0.5))\n",
    "modelo_bigramas.fit(x_train, y_train)\n",
    "\n",
    "prediccion = modelo_bigramas.predict(x_test)\n",
    "\n",
    "mostrar_scores(y_test, prediccion)"
   ]
  },
  {
   "cell_type": "code",
   "execution_count": 125,
   "metadata": {},
   "outputs": [
    {
     "data": {
      "image/png": "[encoded data removed]",
      "text/plain": [
       "<Figure size 640x480 with 2 Axes>"
      ]
     },
     "metadata": {},
     "output_type": "display_data"
    }
   ],
   "source": [
    "matriz_confusion = confusion_matrix(y_test, prediccion)\n",
    "sns.heatmap(matriz_confusion, annot=True, fmt='d', cmap='Blues').set_title('Matriz de confusión BN multinomial con bigramas')\n",
    "plt.xlabel('Valor predicho')\n",
    "plt.ylabel('Valor real')\n",
    "plt.show()"
   ]
  },
  {
   "cell_type": "code",
   "execution_count": 126,
   "metadata": {},
   "outputs": [
    {
     "name": "stdout",
     "output_type": "stream",
     "text": [
      "Accuracy: 0.8911025042444821\n",
      "Recall: 0.9179416591667108\n",
      "Precision: 0.8715693173821253\n",
      "f1 score: 0.8941546553902483\n"
     ]
    }
   ],
   "source": [
    "prediccion_train = modelo_bigramas.predict(x_train)\n",
    "\n",
    "mostrar_scores(y_train, prediccion_train)\n"
   ]
  },
  {
   "cell_type": "markdown",
   "metadata": {},
   "source": [
    "Notamos una gran mejoria en la metrica de recall, lo cual es muy bueno ya que nuestro modelo ahora esta prediciendo mejor las reviews negativas. Sin embargo, la metrica de precision disminuyo un poco. El lado positivo es que nuestro modelo sigue sin estar overfitteado."
   ]
  },
  {
   "cell_type": "code",
   "execution_count": null,
   "metadata": {},
   "outputs": [],
   "source": [
    "pickle.dump(modelo_bigramas, open('modelos/bayes_naive_multinomial.pkl', 'wb'))"
   ]
  },
  {
   "cell_type": "markdown",
   "metadata": {},
   "source": [
    "#### Bayes Naive Gausseano"
   ]
  },
  {
   "cell_type": "code",
   "execution_count": 127,
   "metadata": {},
   "outputs": [
    {
     "name": "stdout",
     "output_type": "stream",
     "text": [
      "Accuracy: 0.79223259762309\n",
      "Recall: 0.8002555366269165\n",
      "Precision: 0.7865215571368773\n",
      "f1 score: 0.7933291112518472\n"
     ]
    }
   ],
   "source": [
    "vectorizer = TfidfVectorizer(max_features=2000)\n",
    "modelo_gauss = make_pipeline(vectorizer, DenseTransformer(), GaussianNB())\n",
    "modelo_gauss.fit(x_train, y_train)\n",
    "\n",
    "prediccion = modelo_gauss.predict(x_test)\n",
    "\n",
    "mostrar_scores(y_test, prediccion)"
   ]
  },
  {
   "cell_type": "code",
   "execution_count": 128,
   "metadata": {},
   "outputs": [
    {
     "name": "stdout",
     "output_type": "stream",
     "text": [
      "Accuracy: 0.8044354838709677\n",
      "Recall: 0.8038011541108582\n",
      "Precision: 0.8055069234442146\n",
      "f1 score: 0.8046531347713181\n"
     ]
    }
   ],
   "source": [
    "prediccion_train = modelo_gauss.predict(x_train)\n",
    "\n",
    "mostrar_scores(y_train, prediccion_train)"
   ]
  },
  {
   "cell_type": "markdown",
   "metadata": {},
   "source": [
    "Notamos que los resultados de este tipo de modelo son muy pobres comparado a los anteriores. Es por ello que no vamos probarlo en profundidad."
   ]
  },
  {
   "cell_type": "markdown",
   "metadata": {},
   "source": [
    "#### Bayes Naive Bernoulli"
   ]
  },
  {
   "cell_type": "markdown",
   "metadata": {},
   "source": [
    "Este modelo a diferencia del multinomial, solo tiene en cuenta si una palabra ocurre o no."
   ]
  },
  {
   "cell_type": "markdown",
   "metadata": {},
   "source": [
    "Aca decidimos experimentar mas en profundidad los parametros del vectorizer. Nos vamos a quedar con los que mejor resultados nos dieron."
   ]
  },
  {
   "cell_type": "code",
   "execution_count": 129,
   "metadata": {},
   "outputs": [
    {
     "name": "stdout",
     "output_type": "stream",
     "text": [
      "Accuracy: 0.8729838709677419\n",
      "Recall: 0.9005536626916525\n",
      "Precision: 0.8527929017947167\n",
      "f1 score: 0.8760227861211807\n"
     ]
    }
   ],
   "source": [
    "vectorizer = TfidfVectorizer(max_features=25000, ngram_range=(1, 2), min_df=5, max_df=0.7, binary=True)\n",
    "modelo_bernoulli = make_pipeline(vectorizer, BernoulliNB( alpha=0.5\n",
    "))\n",
    "modelo_bernoulli.fit(x_train, y_train)\n",
    "\n",
    "prediccion = modelo_bernoulli.predict(x_test)\n",
    "\n",
    "mostrar_scores(y_test, prediccion)"
   ]
  },
  {
   "cell_type": "code",
   "execution_count": 130,
   "metadata": {},
   "outputs": [
    {
     "data": {
      "image/png": "[encoded data removed]",
      "text/plain": [
       "<Figure size 640x480 with 2 Axes>"
      ]
     },
     "metadata": {},
     "output_type": "display_data"
    }
   ],
   "source": [
    "matriz_confusion = confusion_matrix(y_test, prediccion)\n",
    "sns.heatmap(matriz_confusion, annot=True, fmt='d', cmap='Blues').set_title('Matriz de confusión BN bernoulli con bigramas')\n",
    "plt.xlabel('Valor predicho')\n",
    "plt.ylabel('Valor real')\n",
    "plt.show()"
   ]
  },
  {
   "cell_type": "code",
   "execution_count": 131,
   "metadata": {},
   "outputs": [
    {
     "name": "stdout",
     "output_type": "stream",
     "text": [
      "Accuracy: 0.8916861205432938\n",
      "Recall: 0.9167240192704749\n",
      "Precision: 0.8733985675375769\n",
      "f1 score: 0.8945370011623401\n"
     ]
    }
   ],
   "source": [
    "prediccion_train = modelo_bernoulli.predict(x_train)\n",
    "\n",
    "mostrar_scores(y_train, prediccion_train)"
   ]
  },
  {
   "cell_type": "code",
   "execution_count": null,
   "metadata": {},
   "outputs": [],
   "source": [
    "pickle.dump(modelo_bernoulli, open('modelos/bayes_naive_bernoulli.pkl', 'wb'))"
   ]
  },
  {
   "cell_type": "markdown",
   "metadata": {},
   "source": [
    "Aqui podemos observar otro gran modelo a tener en cuenta ya que obtuvimos muy buenos resultados. El aspecto positivo de estos modelos de Bayes Naive es que son muy rapidos de entrenar y de predecir."
   ]
  },
  {
   "cell_type": "markdown",
   "metadata": {},
   "source": [
    "#### Busqueda de hiperparametros"
   ]
  },
  {
   "cell_type": "markdown",
   "metadata": {},
   "source": [
    "En este caso la busqueda va a ser bastante simple ya que este modelo no tiene muchos hiperparametros para tunear."
   ]
  },
  {
   "cell_type": "code",
   "execution_count": 132,
   "metadata": {},
   "outputs": [
    {
     "name": "stdout",
     "output_type": "stream",
     "text": [
      "Fitting 5 folds for each of 1 candidates, totalling 5 fits\n",
      "[CV 5/5] END .........alpha=0.1, fit_prior=True;, score=0.862 total time=   0.3s\n",
      "[CV 1/5] END .........alpha=0.1, fit_prior=True;, score=0.865 total time=   0.3s\n",
      "[CV 2/5] END .........alpha=0.1, fit_prior=True;, score=0.865 total time=   0.3s\n",
      "[CV 4/5] END .........alpha=0.1, fit_prior=True;, score=0.870 total time=   0.3s\n",
      "[CV 3/5] END .........alpha=0.1, fit_prior=True;, score=0.860 total time=   0.3s\n"
     ]
    },
    {
     "data": {
      "text/html": [
       "<style>#sk-container-id-1 {color: black;}#sk-container-id-1 pre{padding: 0;}#sk-container-id-1 div.sk-toggleable {background-color: white;}#sk-container-id-1 label.sk-toggleable__label {cursor: pointer;display: block;width: 100%;margin-bottom: 0;padding: 0.3em;box-sizing: border-box;text-align: center;}#sk-container-id-1 label.sk-toggleable__label-arrow:before {content: \"▸\";float: left;margin-right: 0.25em;color: #696969;}#sk-container-id-1 label.sk-toggleable__label-arrow:hover:before {color: black;}#sk-container-id-1 div.sk-estimator:hover label.sk-toggleable__label-arrow:before {color: black;}#sk-container-id-1 div.sk-toggleable__content {max-height: 0;max-width: 0;overflow: hidden;text-align: left;background-color: #f0f8ff;}#sk-container-id-1 div.sk-toggleable__content pre {margin: 0.2em;color: black;border-radius: 0.25em;background-color: #f0f8ff;}#sk-container-id-1 input.sk-toggleable__control:checked~div.sk-toggleable__content {max-height: 200px;max-width: 100%;overflow: auto;}#sk-container-id-1 input.sk-toggleable__control:checked~label.sk-toggleable__label-arrow:before {content: \"▾\";}#sk-container-id-1 div.sk-estimator input.sk-toggleable__control:checked~label.sk-toggleable__label {background-color: #d4ebff;}#sk-container-id-1 div.sk-label input.sk-toggleable__control:checked~label.sk-toggleable__label {background-color: #d4ebff;}#sk-container-id-1 input.sk-hidden--visually {border: 0;clip: rect(1px 1px 1px 1px);clip: rect(1px, 1px, 1px, 1px);height: 1px;margin: -1px;overflow: hidden;padding: 0;position: absolute;width: 1px;}#sk-container-id-1 div.sk-estimator {font-family: monospace;background-color: #f0f8ff;border: 1px dotted black;border-radius: 0.25em;box-sizing: border-box;margin-bottom: 0.5em;}#sk-container-id-1 div.sk-estimator:hover {background-color: #d4ebff;}#sk-container-id-1 div.sk-parallel-item::after {content: \"\";width: 100%;border-bottom: 1px solid gray;flex-grow: 1;}#sk-container-id-1 div.sk-label:hover label.sk-toggleable__label {background-color: #d4ebff;}#sk-container-id-1 div.sk-serial::before {content: \"\";position: absolute;border-left: 1px solid gray;box-sizing: border-box;top: 0;bottom: 0;left: 50%;z-index: 0;}#sk-container-id-1 div.sk-serial {display: flex;flex-direction: column;align-items: center;background-color: white;padding-right: 0.2em;padding-left: 0.2em;position: relative;}#sk-container-id-1 div.sk-item {position: relative;z-index: 1;}#sk-container-id-1 div.sk-parallel {display: flex;align-items: stretch;justify-content: center;background-color: white;position: relative;}#sk-container-id-1 div.sk-item::before, #sk-container-id-1 div.sk-parallel-item::before {content: \"\";position: absolute;border-left: 1px solid gray;box-sizing: border-box;top: 0;bottom: 0;left: 50%;z-index: -1;}#sk-container-id-1 div.sk-parallel-item {display: flex;flex-direction: column;z-index: 1;position: relative;background-color: white;}#sk-container-id-1 div.sk-parallel-item:first-child::after {align-self: flex-end;width: 50%;}#sk-container-id-1 div.sk-parallel-item:last-child::after {align-self: flex-start;width: 50%;}#sk-container-id-1 div.sk-parallel-item:only-child::after {width: 0;}#sk-container-id-1 div.sk-dashed-wrapped {border: 1px dashed gray;margin: 0 0.4em 0.5em 0.4em;box-sizing: border-box;padding-bottom: 0.4em;background-color: white;}#sk-container-id-1 div.sk-label label {font-family: monospace;font-weight: bold;display: inline-block;line-height: 1.2em;}#sk-container-id-1 div.sk-label-container {text-align: center;}#sk-container-id-1 div.sk-container {/* jupyter's `normalize.less` sets `[hidden] { display: none; }` but bootstrap.min.css set `[hidden] { display: none !important; }` so we also need the `!important` here to be able to override the default hidden behavior on the sphinx rendered scikit-learn.org. See: https://github.com/scikit-learn/scikit-learn/issues/21755 */display: inline-block !important;position: relative;}#sk-container-id-1 div.sk-text-repr-fallback {display: none;}</style><div id=\"sk-container-id-1\" class=\"sk-top-container\"><div class=\"sk-text-repr-fallback\"><pre>RandomizedSearchCV(cv=StratifiedKFold(n_splits=5, random_state=42, shuffle=True),\n",
       "                   estimator=BernoulliNB(), n_iter=1, n_jobs=-1,\n",
       "                   param_distributions={&#x27;alpha&#x27;: [0.1, 1.5, 2.0],\n",
       "                                        &#x27;fit_prior&#x27;: [True, False]},\n",
       "                   random_state=42, scoring=&#x27;f1&#x27;, verbose=3)</pre><b>In a Jupyter environment, please rerun this cell to show the HTML representation or trust the notebook. <br />On GitHub, the HTML representation is unable to render, please try loading this page with nbviewer.org.</b></div><div class=\"sk-container\" hidden><div class=\"sk-item sk-dashed-wrapped\"><div class=\"sk-label-container\"><div class=\"sk-label sk-toggleable\"><input class=\"sk-toggleable__control sk-hidden--visually\" id=\"sk-estimator-id-1\" type=\"checkbox\" ><label for=\"sk-estimator-id-1\" class=\"sk-toggleable__label sk-toggleable__label-arrow\">RandomizedSearchCV</label><div class=\"sk-toggleable__content\"><pre>RandomizedSearchCV(cv=StratifiedKFold(n_splits=5, random_state=42, shuffle=True),\n",
       "                   estimator=BernoulliNB(), n_iter=1, n_jobs=-1,\n",
       "                   param_distributions={&#x27;alpha&#x27;: [0.1, 1.5, 2.0],\n",
       "                                        &#x27;fit_prior&#x27;: [True, False]},\n",
       "                   random_state=42, scoring=&#x27;f1&#x27;, verbose=3)</pre></div></div></div><div class=\"sk-parallel\"><div class=\"sk-parallel-item\"><div class=\"sk-item\"><div class=\"sk-label-container\"><div class=\"sk-label sk-toggleable\"><input class=\"sk-toggleable__control sk-hidden--visually\" id=\"sk-estimator-id-2\" type=\"checkbox\" ><label for=\"sk-estimator-id-2\" class=\"sk-toggleable__label sk-toggleable__label-arrow\">estimator: BernoulliNB</label><div class=\"sk-toggleable__content\"><pre>BernoulliNB()</pre></div></div></div><div class=\"sk-serial\"><div class=\"sk-item\"><div class=\"sk-estimator sk-toggleable\"><input class=\"sk-toggleable__control sk-hidden--visually\" id=\"sk-estimator-id-3\" type=\"checkbox\" ><label for=\"sk-estimator-id-3\" class=\"sk-toggleable__label sk-toggleable__label-arrow\">BernoulliNB</label><div class=\"sk-toggleable__content\"><pre>BernoulliNB()</pre></div></div></div></div></div></div></div></div></div></div>"
      ],
      "text/plain": [
       "RandomizedSearchCV(cv=StratifiedKFold(n_splits=5, random_state=42, shuffle=True),\n",
       "                   estimator=BernoulliNB(), n_iter=1, n_jobs=-1,\n",
       "                   param_distributions={'alpha': [0.1, 1.5, 2.0],\n",
       "                                        'fit_prior': [True, False]},\n",
       "                   random_state=42, scoring='f1', verbose=3)"
      ]
     },
     "execution_count": 132,
     "metadata": {},
     "output_type": "execute_result"
    }
   ],
   "source": [
    "vectorizer = TfidfVectorizer(max_features=10000, ngram_range=(1, 2), min_df=5, max_df=0.7, binary=True)\n",
    "X = vectorizer.fit_transform(df_preprocesado['review_es'])\n",
    "y = df_preprocesado['sentimiento'].map({'negativo': 0, 'positivo': 1, 0: 0, 1: 1})\n",
    "\n",
    "modelo_multinomial_BN = BernoulliNB()\n",
    "\n",
    "cv = StratifiedKFold(n_splits=5, shuffle=True, random_state=42)\n",
    "\n",
    "n_iter = 1\n",
    "param_grid = {'alpha': [0.1, 1.5, 2.0],\n",
    "                'fit_prior': [True, False]}\n",
    "random_search = RandomizedSearchCV(modelo_multinomial_BN, param_grid, n_iter=n_iter, cv=cv, scoring='f1', n_jobs=-1, verbose=3, random_state=42)\n",
    "random_search.fit(X, y)"
   ]
  },
  {
   "cell_type": "code",
   "execution_count": 133,
   "metadata": {},
   "outputs": [
    {
     "name": "stdout",
     "output_type": "stream",
     "text": [
      "Mejor estimador: \n",
      "BernoulliNB(alpha=0.1)\n",
      "Mejor score: \n",
      "0.864337103875562\n",
      "Mejores parametros: \n",
      "{'fit_prior': True, 'alpha': 0.1}\n"
     ]
    }
   ],
   "source": [
    "print(\"Mejor estimador: \")\n",
    "print(random_search.best_estimator_)\n",
    "print(\"Mejor score: \")\n",
    "print(random_search.best_score_)\n",
    "print(\"Mejores parametros: \")\n",
    "print(random_search.best_params_)"
   ]
  },
  {
   "cell_type": "markdown",
   "metadata": {},
   "source": [
    "#### Busqueda de hiperparametros de TFIDF"
   ]
  },
  {
   "cell_type": "markdown",
   "metadata": {},
   "source": [
    "Observamos tanto en local como en los resultados de kaggle que los parametros del tfidf vectorizer afectan mucho a la performance de los modelos. Es por ello que vamos a realizar una busqueda de hiperparametros para el tfidf vectorizer."
   ]
  },
  {
   "cell_type": "code",
   "execution_count": 134,
   "metadata": {},
   "outputs": [
    {
     "name": "stdout",
     "output_type": "stream",
     "text": [
      "Fitting 5 folds for each of 1 candidates, totalling 5 fits\n",
      "[CV 2/5] END modelo__alpha=0.2, modelo__fit_prior=True, vectorizer__max_df=0.9, vectorizer__max_features=30000, vectorizer__min_df=5;, score=0.872 total time=  11.8s\n",
      "[CV 3/5] END modelo__alpha=0.2, modelo__fit_prior=True, vectorizer__max_df=0.9, vectorizer__max_features=30000, vectorizer__min_df=5;, score=0.865 total time=  12.0s\n",
      "[CV 5/5] END modelo__alpha=0.2, modelo__fit_prior=True, vectorizer__max_df=0.9, vectorizer__max_features=30000, vectorizer__min_df=5;, score=0.871 total time=  12.2s\n",
      "[CV 1/5] END modelo__alpha=0.2, modelo__fit_prior=True, vectorizer__max_df=0.9, vectorizer__max_features=30000, vectorizer__min_df=5;, score=0.874 total time=  12.0s\n",
      "[CV 4/5] END modelo__alpha=0.2, modelo__fit_prior=True, vectorizer__max_df=0.9, vectorizer__max_features=30000, vectorizer__min_df=5;, score=0.871 total time=  11.9s\n",
      "Mejor estimador: \n",
      "Pipeline(steps=[('vectorizer',\n",
      "                 TfidfVectorizer(binary=True, max_df=0.9, max_features=30000,\n",
      "                                 min_df=5, ngram_range=(1, 2))),\n",
      "                ('modelo', BernoulliNB(alpha=0.2))])\n",
      "Mejor score: \n",
      "0.8705447244481057\n",
      "Mejores parametros: \n",
      "{'vectorizer__min_df': 5, 'vectorizer__max_features': 30000, 'vectorizer__max_df': 0.9, 'modelo__fit_prior': True, 'modelo__alpha': 0.2}\n"
     ]
    }
   ],
   "source": [
    "vectorizer = TfidfVectorizer(binary=True, ngram_range=(1, 2))\n",
    "modelo_multinomial_BN_random = BernoulliNB()\n",
    "cv = StratifiedKFold(n_splits=5, shuffle=True, random_state=42)\n",
    "\n",
    "n_iter = 1\n",
    "pipe = Pipeline([('vectorizer', vectorizer), ('modelo', modelo_multinomial_BN_random)])\n",
    "\n",
    "param_grid = {'vectorizer__max_features': [10000, 20000, 30000, 50000],\n",
    "              'vectorizer__min_df': [5, 10, 15],\n",
    "              'vectorizer__max_df': [0.7, 0.8, 0.9],\n",
    "              'modelo__alpha': list(np.linspace(0.1, 1, num=10)),\n",
    "              'modelo__fit_prior': [True, False]}\n",
    "\n",
    "random_search = RandomizedSearchCV(pipe, param_grid, n_iter=n_iter, cv=cv, scoring='f1', n_jobs=-1, verbose=3, random_state=42)\n",
    "\n",
    "random_search.fit(x_train, y_train)\n",
    "\n",
    "print(\"Mejor estimador: \")\n",
    "print(random_search.best_estimator_)\n",
    "print(\"Mejor score: \")\n",
    "print(random_search.best_score_)\n",
    "\n",
    "print(\"Mejores parametros: \")\n",
    "print(random_search.best_params_)"
   ]
  },
  {
   "cell_type": "markdown",
   "metadata": {},
   "source": [
    "#### Predicción en los datos de test para kaggle"
   ]
  },
  {
   "cell_type": "code",
   "execution_count": null,
   "metadata": {},
   "outputs": [],
   "source": [
    "df_test = pd.read_csv('datasets/test.csv', sep=',')\n",
    "df_test_procesado = df_test.copy()\n",
    "\n",
    "df_test_procesado['review_es'] = df_test_procesado['review_es'].apply(demojize)\n",
    "df_test_procesado['review_es'] = df_test_procesado['review_es'].apply(tokenize)\n",
    "\n",
    "prediccion = modelo_bernoulli.predict(df_test_procesado['review_es'])\n",
    "\n",
    "prediccion = np.where(prediccion == 0, 'negativo', 'positivo')\n",
    "\n",
    "df_entrega = df_test.copy()\n",
    "\n",
    "\n",
    "df_entrega['sentimiento'] = prediccion\n",
    "df_entrega.drop('review_es', axis=1, inplace=True)\n",
    "\n",
    "df_entrega.to_csv('bernoulliNB_l1.csv', index=False)"
   ]
  },
  {
   "cell_type": "markdown",
   "metadata": {},
   "source": [
    "### Regresión Logística"
   ]
  },
  {
   "cell_type": "markdown",
   "metadata": {},
   "source": [
    "Realizaremos una regresion logistica ya que si bien el enunciado no lo pide, leimos que tiene una performance muy buena para este tipo de problemas."
   ]
  },
  {
   "cell_type": "code",
   "execution_count": 135,
   "metadata": {},
   "outputs": [
    {
     "name": "stdout",
     "output_type": "stream",
     "text": [
      "Accuracy: 0.8847623089983022\n",
      "Recall: 0.8973594548551959\n",
      "Precision: 0.8746367787463678\n",
      "f1 score: 0.885852428000841\n"
     ]
    }
   ],
   "source": [
    "vectorizer = TfidfVectorizer(max_features=10000, ngram_range=(1, 2), min_df=5, max_df=0.7, binary=True)\n",
    "modelo_regresion_logistica = Pipeline([('tfidf', vectorizer), ('lr', LogisticRegression(\n",
    "    penalty='l2',\n",
    "    C=0.3,\n",
    "    solver='liblinear',\n",
    "    max_iter=100, \n",
    "    l1_ratio=None, \n",
    "    tol=1e-4,\n",
    "))])\n",
    "modelo_regresion_logistica.fit(x_train, y_train)\n",
    "\n",
    "prediccion = modelo_regresion_logistica.predict(x_test)\n",
    "\n",
    "mostrar_scores(y_test, prediccion)"
   ]
  },
  {
   "cell_type": "code",
   "execution_count": 136,
   "metadata": {},
   "outputs": [
    {
     "data": {
      "image/png": "[encoded data removed]",
      "text/plain": [
       "<Figure size 640x480 with 2 Axes>"
      ]
     },
     "metadata": {},
     "output_type": "display_data"
    }
   ],
   "source": [
    "matriz_confusion = confusion_matrix(y_test, prediccion)\n",
    "sns.heatmap(matriz_confusion, annot=True, fmt='d', cmap='Blues').set_title('Matriz de confusión regresion logistica con bigramas')\n",
    "plt.xlabel('Valor predicho')\n",
    "plt.ylabel('Valor real')\n",
    "plt.show()"
   ]
  },
  {
   "cell_type": "markdown",
   "metadata": {},
   "source": [
    "Se puede observar en este heatmap que nuestro modelo tiene tendencia a predecir a las reviews como positivas. "
   ]
  },
  {
   "cell_type": "code",
   "execution_count": 137,
   "metadata": {},
   "outputs": [
    {
     "name": "stdout",
     "output_type": "stream",
     "text": [
      "Accuracy: 0.8964876910016978\n",
      "Recall: 0.9105828789242416\n",
      "Precision: 0.8860042239736259\n",
      "f1 score: 0.8981254242598298\n"
     ]
    }
   ],
   "source": [
    "prediccion_train = modelo_regresion_logistica.predict(x_train)\n",
    "\n",
    "mostrar_scores(y_train, prediccion_train)"
   ]
  },
  {
   "cell_type": "code",
   "execution_count": null,
   "metadata": {},
   "outputs": [],
   "source": [
    "pickle.dump(modelo_regresion_logistica, open('modelos/regresion_logistica.pkl', 'wb'))"
   ]
  },
  {
   "cell_type": "markdown",
   "metadata": {},
   "source": [
    "Lo raro a destacar de este modelo es que localmente nos brindo mejores resultados que el Bernoulli Bayes Naive, pero en kaggle obtuvimos peores resultados. "
   ]
  },
  {
   "cell_type": "markdown",
   "metadata": {},
   "source": [
    "#### Busqueda de hiperparametros"
   ]
  },
  {
   "cell_type": "code",
   "execution_count": 138,
   "metadata": {},
   "outputs": [],
   "source": [
    "vectorizer = TfidfVectorizer(max_features=7000, ngram_range=(1, 2), min_df=5, max_df=0.7, binary=True)\n",
    "X = vectorizer.fit_transform(df_preprocesado['review_es'])\n",
    "y = df_preprocesado['sentimiento'].map({'negativo': 0, 'positivo': 1, 0: 0, 1: 1})\n",
    "\n",
    "modelo_regresion_logistica = LogisticRegression()\n",
    "\n",
    "cv = StratifiedKFold(n_splits=5, shuffle=True, random_state=42)\n",
    "\n",
    "space = dict()\n",
    "space['solver'] = ['newton-cg', 'lbfgs', 'liblinear']\n",
    "space['penalty'] = ['l2']\n",
    "space['C'] = [0.01, 0.1, 0.3, 0.5, 1.0, 3]\n",
    "space['l1_ratio'] = [None]\n",
    "space['max_iter'] = [50, 100, 200, 300]\n",
    "\n",
    "n_iter = 1\n",
    "search = RandomizedSearchCV(modelo_regresion_logistica, space, n_iter=5, scoring='f1', n_jobs=-1, cv=cv, random_state=42)\n",
    "result = search.fit(X, y)"
   ]
  },
  {
   "cell_type": "markdown",
   "metadata": {},
   "source": [
    "Con esto vemos los resultados de nuestra busqueda de hiperparametros."
   ]
  },
  {
   "cell_type": "code",
   "execution_count": 139,
   "metadata": {},
   "outputs": [
    {
     "name": "stdout",
     "output_type": "stream",
     "text": [
      "Mejor Score: 0.8821962343105862\n",
      "Mejores hiperparametros: {'solver': 'liblinear', 'penalty': 'l2', 'max_iter': 50, 'l1_ratio': None, 'C': 3}\n",
      ">0.858 with: {'solver': 'lbfgs', 'penalty': 'l2', 'max_iter': 100, 'l1_ratio': None, 'C': 0.01}\n",
      ">0.882 with: {'solver': 'liblinear', 'penalty': 'l2', 'max_iter': 50, 'l1_ratio': None, 'C': 3}\n",
      ">0.873 with: {'solver': 'newton-cg', 'penalty': 'l2', 'max_iter': 200, 'l1_ratio': None, 'C': 0.1}\n",
      ">0.858 with: {'solver': 'newton-cg', 'penalty': 'l2', 'max_iter': 50, 'l1_ratio': None, 'C': 0.01}\n",
      ">0.879 with: {'solver': 'lbfgs', 'penalty': 'l2', 'max_iter': 100, 'l1_ratio': None, 'C': 0.3}\n"
     ]
    }
   ],
   "source": [
    "print('Mejor Score: %s' % result.best_score_)\n",
    "print('Mejores hiperparametros: %s' % result.best_params_)\n",
    "\n",
    "promedios = result.cv_results_['mean_test_score']\n",
    "params = result.cv_results_['params']\n",
    "for promedio, param in zip(promedios, params):\n",
    "    print(\">%.3f with: %r\" % (promedio, param))"
   ]
  },
  {
   "cell_type": "markdown",
   "metadata": {},
   "source": [
    "#### Predicción en los datos de test para kaggle"
   ]
  },
  {
   "cell_type": "code",
   "execution_count": null,
   "metadata": {},
   "outputs": [],
   "source": [
    "df_test = pd.read_csv('datasets/test.csv', sep=',')\n",
    "df_test_copia = df_test.copy()\n",
    "\n",
    "df_test_copia['review_es'] = df_test_copia['review_es'].apply(demojize)\n",
    "df_test_copia['review_es'] = df_test_copia['review_es'].apply(tokenize)\n",
    "\n",
    "prediccion = modelo_regresion_logistica.predict(df_test_copia['review_es'])\n",
    "prediccion = np.where(prediccion == 0, 'negativo', 'positivo')\n",
    "\n",
    "df_entrega = df_test.copy()\n",
    "\n",
    "df_entrega['sentimiento'] = prediccion\n",
    "df_entrega.drop('review_es', axis=1, inplace=True)\n",
    "\n",
    "df_entrega.to_csv('lr_preproceso_upgrade.csv', index=False)"
   ]
  },
  {
   "cell_type": "markdown",
   "metadata": {},
   "source": [
    "### XGBoost"
   ]
  },
  {
   "cell_type": "markdown",
   "metadata": {},
   "source": [
    "Seguiremos con un modelo de XGBoost ya que es un modelo que esperamos que va a tener muy buenos resultados."
   ]
  },
  {
   "cell_type": "code",
   "execution_count": 140,
   "metadata": {},
   "outputs": [
    {
     "name": "stdout",
     "output_type": "stream",
     "text": [
      "Accuracy: 0.865025466893039\n",
      "Recall: 0.8756388415672913\n",
      "Precision: 0.8566666666666667\n",
      "f1 score: 0.8660488626790228\n"
     ]
    }
   ],
   "source": [
    "vectorizer = TfidfVectorizer(max_features=7000, ngram_range=(1, 2), min_df=5, max_df=0.7, binary=True)\n",
    "modelo_xg_boost = Pipeline([\n",
    "  ('tfidf', vectorizer), \n",
    "  ('xgb', XGBClassifier(\n",
    "        objective='binary:logistic',\n",
    "        n_jobs=-1,\n",
    "        random_state=42,\n",
    "        colsample_bytree=0.6, \n",
    "        subsample=0.6,\n",
    "        gamma=0.3, \n",
    "        max_depth=5,\n",
    "        learning_rate=0.089, \n",
    "        min_child_weight=10, \n",
    "        n_estimators=700, \n",
    "))])\n",
    "\n",
    "modelo_xg_boost.fit(x_train, y_train)\n",
    "\n",
    "y_pred = modelo_xg_boost.predict(x_test)\n",
    "\n",
    "mostrar_scores(y_test, y_pred)"
   ]
  },
  {
   "cell_type": "code",
   "execution_count": 141,
   "metadata": {},
   "outputs": [
    {
     "data": {
      "image/png": "[encoded data removed]",
      "text/plain": [
       "<Figure size 640x480 with 2 Axes>"
      ]
     },
     "metadata": {},
     "output_type": "display_data"
    }
   ],
   "source": [
    "tabla = confusion_matrix(y_test, y_pred)\n",
    "sns.heatmap(tabla, annot=True, fmt='d').set_title('Matriz de confusión XGBoost')\n",
    "plt.xlabel('Predicho')\n",
    "plt.ylabel('Real')\n",
    "plt.show()"
   ]
  },
  {
   "cell_type": "markdown",
   "metadata": {},
   "source": [
    "A continuacion, vamos a analizar que tan overfitteado esta nuestro modelo ya que en el tp1 notamos que este modelo tiende a overfittearse facilmente. "
   ]
  },
  {
   "cell_type": "code",
   "execution_count": 142,
   "metadata": {},
   "outputs": [
    {
     "name": "stdout",
     "output_type": "stream",
     "text": [
      "Accuracy: 0.9188508064516129\n",
      "Recall: 0.9304357033193923\n",
      "Precision: 0.9096790890269151\n",
      "f1 score: 0.9199403281949278\n"
     ]
    }
   ],
   "source": [
    "y_pred_train = modelo_xg_boost.predict(x_train)\n",
    "\n",
    "mostrar_scores(y_train, y_pred_train)"
   ]
  },
  {
   "cell_type": "code",
   "execution_count": null,
   "metadata": {},
   "outputs": [],
   "source": [
    "pickle.dump(modelo_xg_boost, open('modelos/modelo_xg_boost.pkl', 'wb'))"
   ]
  },
  {
   "cell_type": "markdown",
   "metadata": {},
   "source": [
    "Ademas de ser un poco mas costoso para entrenar comparado a los mdoelos anteriores, brinda peores resultados y se puede ver que esta levemente overfitteado. Para agregar, si bien localmente parece dar buenos numeros, en kaggle obtuvimos resultados muy pobres."
   ]
  },
  {
   "cell_type": "markdown",
   "metadata": {},
   "source": [
    "#### Busqueda de hiperparametros"
   ]
  },
  {
   "cell_type": "code",
   "execution_count": 143,
   "metadata": {},
   "outputs": [
    {
     "data": {
      "text/html": [
       "<style>#sk-container-id-2 {color: black;}#sk-container-id-2 pre{padding: 0;}#sk-container-id-2 div.sk-toggleable {background-color: white;}#sk-container-id-2 label.sk-toggleable__label {cursor: pointer;display: block;width: 100%;margin-bottom: 0;padding: 0.3em;box-sizing: border-box;text-align: center;}#sk-container-id-2 label.sk-toggleable__label-arrow:before {content: \"▸\";float: left;margin-right: 0.25em;color: #696969;}#sk-container-id-2 label.sk-toggleable__label-arrow:hover:before {color: black;}#sk-container-id-2 div.sk-estimator:hover label.sk-toggleable__label-arrow:before {color: black;}#sk-container-id-2 div.sk-toggleable__content {max-height: 0;max-width: 0;overflow: hidden;text-align: left;background-color: #f0f8ff;}#sk-container-id-2 div.sk-toggleable__content pre {margin: 0.2em;color: black;border-radius: 0.25em;background-color: #f0f8ff;}#sk-container-id-2 input.sk-toggleable__control:checked~div.sk-toggleable__content {max-height: 200px;max-width: 100%;overflow: auto;}#sk-container-id-2 input.sk-toggleable__control:checked~label.sk-toggleable__label-arrow:before {content: \"▾\";}#sk-container-id-2 div.sk-estimator input.sk-toggleable__control:checked~label.sk-toggleable__label {background-color: #d4ebff;}#sk-container-id-2 div.sk-label input.sk-toggleable__control:checked~label.sk-toggleable__label {background-color: #d4ebff;}#sk-container-id-2 input.sk-hidden--visually {border: 0;clip: rect(1px 1px 1px 1px);clip: rect(1px, 1px, 1px, 1px);height: 1px;margin: -1px;overflow: hidden;padding: 0;position: absolute;width: 1px;}#sk-container-id-2 div.sk-estimator {font-family: monospace;background-color: #f0f8ff;border: 1px dotted black;border-radius: 0.25em;box-sizing: border-box;margin-bottom: 0.5em;}#sk-container-id-2 div.sk-estimator:hover {background-color: #d4ebff;}#sk-container-id-2 div.sk-parallel-item::after {content: \"\";width: 100%;border-bottom: 1px solid gray;flex-grow: 1;}#sk-container-id-2 div.sk-label:hover label.sk-toggleable__label {background-color: #d4ebff;}#sk-container-id-2 div.sk-serial::before {content: \"\";position: absolute;border-left: 1px solid gray;box-sizing: border-box;top: 0;bottom: 0;left: 50%;z-index: 0;}#sk-container-id-2 div.sk-serial {display: flex;flex-direction: column;align-items: center;background-color: white;padding-right: 0.2em;padding-left: 0.2em;position: relative;}#sk-container-id-2 div.sk-item {position: relative;z-index: 1;}#sk-container-id-2 div.sk-parallel {display: flex;align-items: stretch;justify-content: center;background-color: white;position: relative;}#sk-container-id-2 div.sk-item::before, #sk-container-id-2 div.sk-parallel-item::before {content: \"\";position: absolute;border-left: 1px solid gray;box-sizing: border-box;top: 0;bottom: 0;left: 50%;z-index: -1;}#sk-container-id-2 div.sk-parallel-item {display: flex;flex-direction: column;z-index: 1;position: relative;background-color: white;}#sk-container-id-2 div.sk-parallel-item:first-child::after {align-self: flex-end;width: 50%;}#sk-container-id-2 div.sk-parallel-item:last-child::after {align-self: flex-start;width: 50%;}#sk-container-id-2 div.sk-parallel-item:only-child::after {width: 0;}#sk-container-id-2 div.sk-dashed-wrapped {border: 1px dashed gray;margin: 0 0.4em 0.5em 0.4em;box-sizing: border-box;padding-bottom: 0.4em;background-color: white;}#sk-container-id-2 div.sk-label label {font-family: monospace;font-weight: bold;display: inline-block;line-height: 1.2em;}#sk-container-id-2 div.sk-label-container {text-align: center;}#sk-container-id-2 div.sk-container {/* jupyter's `normalize.less` sets `[hidden] { display: none; }` but bootstrap.min.css set `[hidden] { display: none !important; }` so we also need the `!important` here to be able to override the default hidden behavior on the sphinx rendered scikit-learn.org. See: https://github.com/scikit-learn/scikit-learn/issues/21755 */display: inline-block !important;position: relative;}#sk-container-id-2 div.sk-text-repr-fallback {display: none;}</style><div id=\"sk-container-id-2\" class=\"sk-top-container\"><div class=\"sk-text-repr-fallback\"><pre>RandomizedSearchCV(cv=StratifiedKFold(n_splits=5, random_state=42, shuffle=True),\n",
       "                   estimator=XGBClassifier(base_score=None, booster=None,\n",
       "                                           callbacks=None,\n",
       "                                           colsample_bylevel=None,\n",
       "                                           colsample_bynode=None,\n",
       "                                           colsample_bytree=None, device=None,\n",
       "                                           early_stopping_rounds=None,\n",
       "                                           enable_categorical=False,\n",
       "                                           eval_metric=None, feature_types=None,\n",
       "                                           gamma=None, grow_policy=None,\n",
       "                                           importan...\n",
       "                   param_distributions={&#x27;colsample_bytree&#x27;: [0.6, 0.8, 1.0],\n",
       "                                        &#x27;gamma&#x27;: [0.1, 0.3, 0.5],\n",
       "                                        &#x27;learning_rate&#x27;: [0.001, 0.012,\n",
       "                                                          0.023000000000000003,\n",
       "                                                          0.034,\n",
       "                                                          0.045000000000000005,\n",
       "                                                          0.05600000000000001,\n",
       "                                                          0.067,\n",
       "                                                          0.07800000000000001,\n",
       "                                                          0.08900000000000001,\n",
       "                                                          0.1],\n",
       "                                        &#x27;min_child_weight&#x27;: [1, 5, 10],\n",
       "                                        &#x27;n_estimators&#x27;: [300, 400, 500, 600,\n",
       "                                                         700, 800, 900, 1000],\n",
       "                                        &#x27;subsample&#x27;: [0.6, 0.8, 1.0]},\n",
       "                   random_state=42, scoring=&#x27;f1&#x27;)</pre><b>In a Jupyter environment, please rerun this cell to show the HTML representation or trust the notebook. <br />On GitHub, the HTML representation is unable to render, please try loading this page with nbviewer.org.</b></div><div class=\"sk-container\" hidden><div class=\"sk-item sk-dashed-wrapped\"><div class=\"sk-label-container\"><div class=\"sk-label sk-toggleable\"><input class=\"sk-toggleable__control sk-hidden--visually\" id=\"sk-estimator-id-4\" type=\"checkbox\" ><label for=\"sk-estimator-id-4\" class=\"sk-toggleable__label sk-toggleable__label-arrow\">RandomizedSearchCV</label><div class=\"sk-toggleable__content\"><pre>RandomizedSearchCV(cv=StratifiedKFold(n_splits=5, random_state=42, shuffle=True),\n",
       "                   estimator=XGBClassifier(base_score=None, booster=None,\n",
       "                                           callbacks=None,\n",
       "                                           colsample_bylevel=None,\n",
       "                                           colsample_bynode=None,\n",
       "                                           colsample_bytree=None, device=None,\n",
       "                                           early_stopping_rounds=None,\n",
       "                                           enable_categorical=False,\n",
       "                                           eval_metric=None, feature_types=None,\n",
       "                                           gamma=None, grow_policy=None,\n",
       "                                           importan...\n",
       "                   param_distributions={&#x27;colsample_bytree&#x27;: [0.6, 0.8, 1.0],\n",
       "                                        &#x27;gamma&#x27;: [0.1, 0.3, 0.5],\n",
       "                                        &#x27;learning_rate&#x27;: [0.001, 0.012,\n",
       "                                                          0.023000000000000003,\n",
       "                                                          0.034,\n",
       "                                                          0.045000000000000005,\n",
       "                                                          0.05600000000000001,\n",
       "                                                          0.067,\n",
       "                                                          0.07800000000000001,\n",
       "                                                          0.08900000000000001,\n",
       "                                                          0.1],\n",
       "                                        &#x27;min_child_weight&#x27;: [1, 5, 10],\n",
       "                                        &#x27;n_estimators&#x27;: [300, 400, 500, 600,\n",
       "                                                         700, 800, 900, 1000],\n",
       "                                        &#x27;subsample&#x27;: [0.6, 0.8, 1.0]},\n",
       "                   random_state=42, scoring=&#x27;f1&#x27;)</pre></div></div></div><div class=\"sk-parallel\"><div class=\"sk-parallel-item\"><div class=\"sk-item\"><div class=\"sk-label-container\"><div class=\"sk-label sk-toggleable\"><input class=\"sk-toggleable__control sk-hidden--visually\" id=\"sk-estimator-id-5\" type=\"checkbox\" ><label for=\"sk-estimator-id-5\" class=\"sk-toggleable__label sk-toggleable__label-arrow\">estimator: XGBClassifier</label><div class=\"sk-toggleable__content\"><pre>XGBClassifier(base_score=None, booster=None, callbacks=None,\n",
       "              colsample_bylevel=None, colsample_bynode=None,\n",
       "              colsample_bytree=None, device=None, early_stopping_rounds=None,\n",
       "              enable_categorical=False, eval_metric=None, feature_types=None,\n",
       "              gamma=None, grow_policy=None, importance_type=None,\n",
       "              interaction_constraints=None, learning_rate=None, max_bin=None,\n",
       "              max_cat_threshold=None, max_cat_to_onehot=None,\n",
       "              max_delta_step=None, max_depth=None, max_leaves=None,\n",
       "              min_child_weight=None, missing=nan, monotone_constraints=None,\n",
       "              multi_strategy=None, n_estimators=None, n_jobs=-1,\n",
       "              num_parallel_tree=None, random_state=42, ...)</pre></div></div></div><div class=\"sk-serial\"><div class=\"sk-item\"><div class=\"sk-estimator sk-toggleable\"><input class=\"sk-toggleable__control sk-hidden--visually\" id=\"sk-estimator-id-6\" type=\"checkbox\" ><label for=\"sk-estimator-id-6\" class=\"sk-toggleable__label sk-toggleable__label-arrow\">XGBClassifier</label><div class=\"sk-toggleable__content\"><pre>XGBClassifier(base_score=None, booster=None, callbacks=None,\n",
       "              colsample_bylevel=None, colsample_bynode=None,\n",
       "              colsample_bytree=None, device=None, early_stopping_rounds=None,\n",
       "              enable_categorical=False, eval_metric=None, feature_types=None,\n",
       "              gamma=None, grow_policy=None, importance_type=None,\n",
       "              interaction_constraints=None, learning_rate=None, max_bin=None,\n",
       "              max_cat_threshold=None, max_cat_to_onehot=None,\n",
       "              max_delta_step=None, max_depth=None, max_leaves=None,\n",
       "              min_child_weight=None, missing=nan, monotone_constraints=None,\n",
       "              multi_strategy=None, n_estimators=None, n_jobs=-1,\n",
       "              num_parallel_tree=None, random_state=42, ...)</pre></div></div></div></div></div></div></div></div></div></div>"
      ],
      "text/plain": [
       "RandomizedSearchCV(cv=StratifiedKFold(n_splits=5, random_state=42, shuffle=True),\n",
       "                   estimator=XGBClassifier(base_score=None, booster=None,\n",
       "                                           callbacks=None,\n",
       "                                           colsample_bylevel=None,\n",
       "                                           colsample_bynode=None,\n",
       "                                           colsample_bytree=None, device=None,\n",
       "                                           early_stopping_rounds=None,\n",
       "                                           enable_categorical=False,\n",
       "                                           eval_metric=None, feature_types=None,\n",
       "                                           gamma=None, grow_policy=None,\n",
       "                                           importan...\n",
       "                   param_distributions={'colsample_bytree': [0.6, 0.8, 1.0],\n",
       "                                        'gamma': [0.1, 0.3, 0.5],\n",
       "                                        'learning_rate': [0.001, 0.012,\n",
       "                                                          0.023000000000000003,\n",
       "                                                          0.034,\n",
       "                                                          0.045000000000000005,\n",
       "                                                          0.05600000000000001,\n",
       "                                                          0.067,\n",
       "                                                          0.07800000000000001,\n",
       "                                                          0.08900000000000001,\n",
       "                                                          0.1],\n",
       "                                        'min_child_weight': [1, 5, 10],\n",
       "                                        'n_estimators': [300, 400, 500, 600,\n",
       "                                                         700, 800, 900, 1000],\n",
       "                                        'subsample': [0.6, 0.8, 1.0]},\n",
       "                   random_state=42, scoring='f1')"
      ]
     },
     "execution_count": 143,
     "metadata": {},
     "output_type": "execute_result"
    }
   ],
   "source": [
    "vectorizer = TfidfVectorizer(max_features=7000, ngram_range=(1, 2), min_df=5, max_df=0.7, binary=True)\n",
    "X = vectorizer.fit_transform(df_preprocesado['review_es'])\n",
    "y = df_preprocesado['sentimiento'].map({'negativo': 0, 'positivo': 1, 0: 0, 1: 1})\n",
    "\n",
    "modelo_xg_boost = XGBClassifier(\n",
    "    objective='binary:logistic',\n",
    "    n_jobs=-1,\n",
    "    random_state=42\n",
    ")\n",
    "\n",
    "params = {\n",
    "        'min_child_weight': [1, 5, 10],\n",
    "        'gamma': [0.1,  0.3,  0.5],\n",
    "        'subsample': [0.6, 0.8, 1.0],\n",
    "        'colsample_bytree': [0.6, 0.8, 1.0],\n",
    "        'learning_rate': list(np.linspace(0.001, 0.1, 10)),\n",
    "        'n_estimators': [ 300, 400, 500, 600, 700, 800, 900, 1000],\n",
    "        }\n",
    "\n",
    "folds = 5\n",
    "n_iter = 1\n",
    "cv = StratifiedKFold(n_splits=folds, shuffle=True, random_state=42)\n",
    "\n",
    "random_search = RandomizedSearchCV(modelo_xg_boost, param_distributions=params, n_iter=n_iter, scoring='f1', n_jobs=-1, cv=cv, random_state=42 )\n",
    "random_search.fit(X, y)"
   ]
  },
  {
   "cell_type": "code",
   "execution_count": 144,
   "metadata": {},
   "outputs": [
    {
     "name": "stdout",
     "output_type": "stream",
     "text": [
      "\n",
      " Mejor estimador:\n",
      "XGBClassifier(base_score=None, booster=None, callbacks=None,\n",
      "              colsample_bylevel=None, colsample_bynode=None,\n",
      "              colsample_bytree=0.6, device=None, early_stopping_rounds=None,\n",
      "              enable_categorical=False, eval_metric=None, feature_types=None,\n",
      "              gamma=0.3, grow_policy=None, importance_type=None,\n",
      "              interaction_constraints=None, learning_rate=0.012, max_bin=None,\n",
      "              max_cat_threshold=None, max_cat_to_onehot=None,\n",
      "              max_delta_step=None, max_depth=None, max_leaves=None,\n",
      "              min_child_weight=10, missing=nan, monotone_constraints=None,\n",
      "              multi_strategy=None, n_estimators=900, n_jobs=-1,\n",
      "              num_parallel_tree=None, random_state=42, ...)\n",
      "\n",
      " Mejor hiperparm:\n",
      "0.8318231476152935\n"
     ]
    }
   ],
   "source": [
    "print('\\n Mejor estimador:')\n",
    "print(random_search.best_estimator_)\n",
    "print('\\n Mejor hiperparm:')\n",
    "print(random_search.best_score_)"
   ]
  },
  {
   "cell_type": "markdown",
   "metadata": {},
   "source": [
    "#### Predicción en los datos de test para kaggle"
   ]
  },
  {
   "cell_type": "code",
   "execution_count": null,
   "metadata": {},
   "outputs": [],
   "source": [
    "df_test = pd.read_csv('datasets/test.csv', sep=',')\n",
    "df_test_copia = df_test.copy()\n",
    "\n",
    "df_test_copia['review_es'] = df_test_copia['review_es'].apply(demojize)\n",
    "df_test_copia['review_es'] = df_test_copia['review_es'].apply(tokenize)\n",
    "\n",
    "\n",
    "prediccion = modelo_xg_boost.predict(df_test_copia['review_es'])\n",
    "prediccion = np.where(prediccion == 0, 'negativo', 'positivo')\n",
    "\n",
    "df_entrega = df_test.copy()\n",
    "\n",
    "df_entrega['sentimiento'] = prediccion\n",
    "df_entrega.drop('review_es', axis=1, inplace=True)\n",
    "\n",
    "df_entrega.to_csv('xgb.csv', index=False)"
   ]
  },
  {
   "cell_type": "markdown",
   "metadata": {},
   "source": [
    "### Random Forest"
   ]
  },
  {
   "cell_type": "markdown",
   "metadata": {},
   "source": [
    "Otro modelo que utilizaremos es el de Random Forest ya que es un modelo que esperamos que va a tener buenos resultados. Sin embargo, creemos que no va a superar a XGBoost. La ventaja de este modelo es que es muy rapido de entrenar y de predecir."
   ]
  },
  {
   "cell_type": "code",
   "execution_count": 145,
   "metadata": {},
   "outputs": [
    {
     "name": "stdout",
     "output_type": "stream",
     "text": [
      "Accuracy: 0.8231112054329371\n",
      "Recall: 0.8600936967632027\n",
      "Precision: 0.7999603881956823\n",
      "f1 score: 0.8289379168804515\n"
     ]
    }
   ],
   "source": [
    "vectorizer = TfidfVectorizer(max_features=7000, ngram_range=(1, 2), min_df=5, max_df=0.7, binary=True)\n",
    "modelo_random_forest = Pipeline([\n",
    "    ('tfidf', vectorizer), \n",
    "    ('rfc', RandomForestClassifier(\n",
    "            criterion='entropy',\n",
    "            n_jobs=-1,\n",
    "            random_state=42,\n",
    "            max_depth=20,\n",
    "            min_samples_leaf=50,\n",
    "            n_estimators=900,\n",
    "    ))])\n",
    "\n",
    "modelo_random_forest.fit(x_train, y_train)\n",
    "\n",
    "y_pred = modelo_random_forest.predict(x_test)\n",
    "\n",
    "mostrar_scores(y_test, y_pred)"
   ]
  },
  {
   "cell_type": "code",
   "execution_count": 146,
   "metadata": {},
   "outputs": [
    {
     "data": {
      "image/png": "[encoded data removed]",
      "text/plain": [
       "<Figure size 640x480 with 2 Axes>"
      ]
     },
     "metadata": {},
     "output_type": "display_data"
    }
   ],
   "source": [
    "tabla = confusion_matrix(y_test, y_pred)\n",
    "sns.heatmap(tabla, annot=True, fmt='d').set_title('Matriz de confusión RandomForest')\n",
    "plt.xlabel('Predicho')\n",
    "plt.ylabel('Real')\n",
    "plt.show()"
   ]
  },
  {
   "cell_type": "code",
   "execution_count": 147,
   "metadata": {},
   "outputs": [
    {
     "name": "stdout",
     "output_type": "stream",
     "text": [
      "Accuracy: 0.8417869269949066\n",
      "Recall: 0.883741860341998\n",
      "Precision: 0.8158447778700944\n",
      "f1 score: 0.8484371029224905\n"
     ]
    }
   ],
   "source": [
    "y_pred_train = modelo_random_forest.predict(x_train)\n",
    "\n",
    "mostrar_scores(y_train, y_pred_train)"
   ]
  },
  {
   "cell_type": "code",
   "execution_count": null,
   "metadata": {},
   "outputs": [],
   "source": [
    "pickle.dump(modelo_random_forest, open('modelos/random_forest.pkl', 'wb'))"
   ]
  },
  {
   "cell_type": "markdown",
   "metadata": {},
   "source": [
    "Este modelo fue una gran sorpresa porque dio resultados realmente bajos, tanto localmente como en kaggle. Quizas el inconveniente esta los parametros utilizados. Aunque hayamos puedos gran enfasis en la busqueda de hiperparametros, no pudimos encontrar una combinacion que nos brinde buenos resultados."
   ]
  },
  {
   "cell_type": "markdown",
   "metadata": {},
   "source": [
    "#### Busqueda de hiperparametros"
   ]
  },
  {
   "cell_type": "code",
   "execution_count": 148,
   "metadata": {},
   "outputs": [
    {
     "data": {
      "text/html": [
       "<style>#sk-container-id-3 {color: black;}#sk-container-id-3 pre{padding: 0;}#sk-container-id-3 div.sk-toggleable {background-color: white;}#sk-container-id-3 label.sk-toggleable__label {cursor: pointer;display: block;width: 100%;margin-bottom: 0;padding: 0.3em;box-sizing: border-box;text-align: center;}#sk-container-id-3 label.sk-toggleable__label-arrow:before {content: \"▸\";float: left;margin-right: 0.25em;color: #696969;}#sk-container-id-3 label.sk-toggleable__label-arrow:hover:before {color: black;}#sk-container-id-3 div.sk-estimator:hover label.sk-toggleable__label-arrow:before {color: black;}#sk-container-id-3 div.sk-toggleable__content {max-height: 0;max-width: 0;overflow: hidden;text-align: left;background-color: #f0f8ff;}#sk-container-id-3 div.sk-toggleable__content pre {margin: 0.2em;color: black;border-radius: 0.25em;background-color: #f0f8ff;}#sk-container-id-3 input.sk-toggleable__control:checked~div.sk-toggleable__content {max-height: 200px;max-width: 100%;overflow: auto;}#sk-container-id-3 input.sk-toggleable__control:checked~label.sk-toggleable__label-arrow:before {content: \"▾\";}#sk-container-id-3 div.sk-estimator input.sk-toggleable__control:checked~label.sk-toggleable__label {background-color: #d4ebff;}#sk-container-id-3 div.sk-label input.sk-toggleable__control:checked~label.sk-toggleable__label {background-color: #d4ebff;}#sk-container-id-3 input.sk-hidden--visually {border: 0;clip: rect(1px 1px 1px 1px);clip: rect(1px, 1px, 1px, 1px);height: 1px;margin: -1px;overflow: hidden;padding: 0;position: absolute;width: 1px;}#sk-container-id-3 div.sk-estimator {font-family: monospace;background-color: #f0f8ff;border: 1px dotted black;border-radius: 0.25em;box-sizing: border-box;margin-bottom: 0.5em;}#sk-container-id-3 div.sk-estimator:hover {background-color: #d4ebff;}#sk-container-id-3 div.sk-parallel-item::after {content: \"\";width: 100%;border-bottom: 1px solid gray;flex-grow: 1;}#sk-container-id-3 div.sk-label:hover label.sk-toggleable__label {background-color: #d4ebff;}#sk-container-id-3 div.sk-serial::before {content: \"\";position: absolute;border-left: 1px solid gray;box-sizing: border-box;top: 0;bottom: 0;left: 50%;z-index: 0;}#sk-container-id-3 div.sk-serial {display: flex;flex-direction: column;align-items: center;background-color: white;padding-right: 0.2em;padding-left: 0.2em;position: relative;}#sk-container-id-3 div.sk-item {position: relative;z-index: 1;}#sk-container-id-3 div.sk-parallel {display: flex;align-items: stretch;justify-content: center;background-color: white;position: relative;}#sk-container-id-3 div.sk-item::before, #sk-container-id-3 div.sk-parallel-item::before {content: \"\";position: absolute;border-left: 1px solid gray;box-sizing: border-box;top: 0;bottom: 0;left: 50%;z-index: -1;}#sk-container-id-3 div.sk-parallel-item {display: flex;flex-direction: column;z-index: 1;position: relative;background-color: white;}#sk-container-id-3 div.sk-parallel-item:first-child::after {align-self: flex-end;width: 50%;}#sk-container-id-3 div.sk-parallel-item:last-child::after {align-self: flex-start;width: 50%;}#sk-container-id-3 div.sk-parallel-item:only-child::after {width: 0;}#sk-container-id-3 div.sk-dashed-wrapped {border: 1px dashed gray;margin: 0 0.4em 0.5em 0.4em;box-sizing: border-box;padding-bottom: 0.4em;background-color: white;}#sk-container-id-3 div.sk-label label {font-family: monospace;font-weight: bold;display: inline-block;line-height: 1.2em;}#sk-container-id-3 div.sk-label-container {text-align: center;}#sk-container-id-3 div.sk-container {/* jupyter's `normalize.less` sets `[hidden] { display: none; }` but bootstrap.min.css set `[hidden] { display: none !important; }` so we also need the `!important` here to be able to override the default hidden behavior on the sphinx rendered scikit-learn.org. See: https://github.com/scikit-learn/scikit-learn/issues/21755 */display: inline-block !important;position: relative;}#sk-container-id-3 div.sk-text-repr-fallback {display: none;}</style><div id=\"sk-container-id-3\" class=\"sk-top-container\"><div class=\"sk-text-repr-fallback\"><pre>RandomizedSearchCV(cv=StratifiedKFold(n_splits=5, random_state=42, shuffle=True),\n",
       "                   estimator=RandomForestClassifier(criterion=&#x27;entropy&#x27;,\n",
       "                                                    n_jobs=-1,\n",
       "                                                    random_state=42),\n",
       "                   n_iter=1, n_jobs=-1,\n",
       "                   param_distributions={&#x27;class_weight&#x27;: [&#x27;balanced&#x27;,\n",
       "                                                         &#x27;balanced_subsample&#x27;],\n",
       "                                        &#x27;max_depth&#x27;: [10, 20, 30, 40, 50, 60],\n",
       "                                        &#x27;max_features&#x27;: [&#x27;auto&#x27;, &#x27;sqrt&#x27;,\n",
       "                                                         &#x27;log2&#x27;],\n",
       "                                        &#x27;min_samples_leaf&#x27;: [25, 50, 75, 100,\n",
       "                                                             125, 150, 175,\n",
       "                                                             200],\n",
       "                                        &#x27;n_estimators&#x27;: [500, 750, 1000, 1250,\n",
       "                                                         1500, 1750, 2000]},\n",
       "                   random_state=42, scoring=&#x27;f1&#x27;)</pre><b>In a Jupyter environment, please rerun this cell to show the HTML representation or trust the notebook. <br />On GitHub, the HTML representation is unable to render, please try loading this page with nbviewer.org.</b></div><div class=\"sk-container\" hidden><div class=\"sk-item sk-dashed-wrapped\"><div class=\"sk-label-container\"><div class=\"sk-label sk-toggleable\"><input class=\"sk-toggleable__control sk-hidden--visually\" id=\"sk-estimator-id-7\" type=\"checkbox\" ><label for=\"sk-estimator-id-7\" class=\"sk-toggleable__label sk-toggleable__label-arrow\">RandomizedSearchCV</label><div class=\"sk-toggleable__content\"><pre>RandomizedSearchCV(cv=StratifiedKFold(n_splits=5, random_state=42, shuffle=True),\n",
       "                   estimator=RandomForestClassifier(criterion=&#x27;entropy&#x27;,\n",
       "                                                    n_jobs=-1,\n",
       "                                                    random_state=42),\n",
       "                   n_iter=1, n_jobs=-1,\n",
       "                   param_distributions={&#x27;class_weight&#x27;: [&#x27;balanced&#x27;,\n",
       "                                                         &#x27;balanced_subsample&#x27;],\n",
       "                                        &#x27;max_depth&#x27;: [10, 20, 30, 40, 50, 60],\n",
       "                                        &#x27;max_features&#x27;: [&#x27;auto&#x27;, &#x27;sqrt&#x27;,\n",
       "                                                         &#x27;log2&#x27;],\n",
       "                                        &#x27;min_samples_leaf&#x27;: [25, 50, 75, 100,\n",
       "                                                             125, 150, 175,\n",
       "                                                             200],\n",
       "                                        &#x27;n_estimators&#x27;: [500, 750, 1000, 1250,\n",
       "                                                         1500, 1750, 2000]},\n",
       "                   random_state=42, scoring=&#x27;f1&#x27;)</pre></div></div></div><div class=\"sk-parallel\"><div class=\"sk-parallel-item\"><div class=\"sk-item\"><div class=\"sk-label-container\"><div class=\"sk-label sk-toggleable\"><input class=\"sk-toggleable__control sk-hidden--visually\" id=\"sk-estimator-id-8\" type=\"checkbox\" ><label for=\"sk-estimator-id-8\" class=\"sk-toggleable__label sk-toggleable__label-arrow\">estimator: RandomForestClassifier</label><div class=\"sk-toggleable__content\"><pre>RandomForestClassifier(criterion=&#x27;entropy&#x27;, n_jobs=-1, random_state=42)</pre></div></div></div><div class=\"sk-serial\"><div class=\"sk-item\"><div class=\"sk-estimator sk-toggleable\"><input class=\"sk-toggleable__control sk-hidden--visually\" id=\"sk-estimator-id-9\" type=\"checkbox\" ><label for=\"sk-estimator-id-9\" class=\"sk-toggleable__label sk-toggleable__label-arrow\">RandomForestClassifier</label><div class=\"sk-toggleable__content\"><pre>RandomForestClassifier(criterion=&#x27;entropy&#x27;, n_jobs=-1, random_state=42)</pre></div></div></div></div></div></div></div></div></div></div>"
      ],
      "text/plain": [
       "RandomizedSearchCV(cv=StratifiedKFold(n_splits=5, random_state=42, shuffle=True),\n",
       "                   estimator=RandomForestClassifier(criterion='entropy',\n",
       "                                                    n_jobs=-1,\n",
       "                                                    random_state=42),\n",
       "                   n_iter=1, n_jobs=-1,\n",
       "                   param_distributions={'class_weight': ['balanced',\n",
       "                                                         'balanced_subsample'],\n",
       "                                        'max_depth': [10, 20, 30, 40, 50, 60],\n",
       "                                        'max_features': ['auto', 'sqrt',\n",
       "                                                         'log2'],\n",
       "                                        'min_samples_leaf': [25, 50, 75, 100,\n",
       "                                                             125, 150, 175,\n",
       "                                                             200],\n",
       "                                        'n_estimators': [500, 750, 1000, 1250,\n",
       "                                                         1500, 1750, 2000]},\n",
       "                   random_state=42, scoring='f1')"
      ]
     },
     "execution_count": 148,
     "metadata": {},
     "output_type": "execute_result"
    }
   ],
   "source": [
    "vectorizer = TfidfVectorizer(max_features=7000, ngram_range=(1, 2), min_df=5, max_df=0.7, binary=True)\n",
    "X = vectorizer.fit_transform(df_preprocesado['review_es'])\n",
    "y = df_preprocesado['sentimiento'].map({'negativo': 0, 'positivo': 1, 0: 0, 1: 1})\n",
    "\n",
    "modelo_random_forest = RandomForestClassifier(\n",
    "    criterion='entropy',\n",
    "    n_jobs=-1,\n",
    "    random_state=42\n",
    ")\n",
    "\n",
    "params = {\n",
    "        'n_estimators': [500, 750, 1000, 1250, 1500, 1750, 2000],\n",
    "        'max_depth': [10, 20, 30, 40, 50, 60],\n",
    "        'min_samples_leaf': [25, 50, 75, 100, 125, 150, 175, 200],\n",
    "        'max_features': ['auto', 'sqrt', 'log2'],\n",
    "        'class_weight': ['balanced', 'balanced_subsample']\n",
    "        }\n",
    "    \n",
    "folds = 5\n",
    "n_iter = 1\n",
    "cv = StratifiedKFold(n_splits=folds, shuffle=True, random_state=42)\n",
    "\n",
    "random_search = RandomizedSearchCV(modelo_random_forest, param_distributions=params, n_iter=n_iter, scoring='f1', n_jobs=-1, cv=cv, random_state=42 )\n",
    "random_search.fit(X, y)"
   ]
  },
  {
   "cell_type": "code",
   "execution_count": 149,
   "metadata": {},
   "outputs": [
    {
     "name": "stdout",
     "output_type": "stream",
     "text": [
      "\n",
      " Mejor estimador:\n",
      "RandomForestClassifier(class_weight='balanced_subsample', criterion='entropy',\n",
      "                       max_depth=10, max_features='log2', min_samples_leaf=25,\n",
      "                       n_estimators=2000, n_jobs=-1, random_state=42)\n",
      "\n",
      " Mejor hiperparm:\n",
      "0.8497119169302575\n"
     ]
    }
   ],
   "source": [
    "print('\\n Mejor estimador:')\n",
    "print(random_search.best_estimator_)\n",
    "print('\\n Mejor hiperparm:')\n",
    "print(random_search.best_score_ )"
   ]
  },
  {
   "cell_type": "markdown",
   "metadata": {},
   "source": [
    "#### Predicción en los datos de test para kaggle"
   ]
  },
  {
   "cell_type": "code",
   "execution_count": null,
   "metadata": {},
   "outputs": [],
   "source": [
    "df_test = pd.read_csv('datasets/test.csv', sep=',')\n",
    "df_test_copia = df_test.copy()\n",
    "\n",
    "df_test_copia['review_es'] = df_test_copia['review_es'].apply(demojize)\n",
    "df_test_copia['review_es'] = df_test_copia['review_es'].apply(tokenize)\n",
    "\n",
    "prediccion = modelo_random_forest.predict(df_test_copia['review_es'])\n",
    "prediccion = np.where(prediccion == 0, 'negativo', 'positivo')\n",
    "\n",
    "df_entrega = df_test.copy()\n",
    "\n",
    "df_entrega['sentimiento'] = prediccion\n",
    "df_entrega.drop('review_es', axis=1, inplace=True)\n",
    "\n",
    "df_entrega.to_csv('random_forest.csv', index=False)"
   ]
  },
  {
   "cell_type": "markdown",
   "metadata": {},
   "source": [
    "### SVM"
   ]
  },
  {
   "cell_type": "markdown",
   "metadata": {},
   "source": [
    "Tambien decidimos implementar este modelo porque, averiguando en internet, vimos que es un modelo que tiene muy buenos resultados para este tipo de problemas. El problema de este modelo es que solo se entrena en un solo hilo, por lo tanto, es muy lento a la hora de entrenar y para predecir. Es por ello que exportamos el modelo entrenado para poder utilizarlo cuando se desee."
   ]
  },
  {
   "cell_type": "code",
   "execution_count": null,
   "metadata": {},
   "outputs": [],
   "source": [
    "vectorizer = TfidfVectorizer(max_features=7000, ngram_range=(1, 2))\n",
    "modelo_svm = Pipeline([\n",
    "    ('tfidf', vectorizer), \n",
    "    ('svm', SVC(C=1, probability=True, gamma=0.1, kernel='rbf'))\n",
    "    ])\n",
    "\n",
    "modelo_svm.fit(x_train, y_train)\n",
    "\n",
    "y_pred = modelo_svm.predict(x_test)\n",
    "\n",
    "mostrar_scores(y_test, y_pred)"
   ]
  },
  {
   "cell_type": "code",
   "execution_count": null,
   "metadata": {},
   "outputs": [],
   "source": [
    "tabla = confusion_matrix(y_test, y_pred)\n",
    "sns.heatmap(tabla, annot=True, fmt='d').set_title('Matriz de confusión SVM')\n",
    "plt.xlabel('Predicho')\n",
    "plt.ylabel('Real')\n",
    "plt.show()"
   ]
  },
  {
   "cell_type": "code",
   "execution_count": null,
   "metadata": {},
   "outputs": [],
   "source": [
    "y_pred_train = modelo_svm.predict(x_train)\n",
    "\n",
    "mostrar_scores(y_train, y_pred_train)    "
   ]
  },
  {
   "cell_type": "code",
   "execution_count": null,
   "metadata": {},
   "outputs": [],
   "source": [
    "pickle.dump(modelo_svm, open('modelos/svm.pkl', 'wb'))"
   ]
  },
  {
   "cell_type": "markdown",
   "metadata": {},
   "source": [
    "Por lo mencionado al principio, decidimos no realizar una busqueda de hiperparametros ya que el tiempo de entrenamiento seria muy largo."
   ]
  },
  {
   "cell_type": "markdown",
   "metadata": {},
   "source": [
    "#### Predicción en los datos de test para kaggle"
   ]
  },
  {
   "cell_type": "code",
   "execution_count": null,
   "metadata": {},
   "outputs": [],
   "source": [
    "df_test = pd.read_csv('test.csv', sep=',')\n",
    "df_test_copia = df_test.copy()\n",
    "\n",
    "df_test_copia['review_es'] = df_test_copia['review_es'].apply(demojize)\n",
    "df_test_copia['review_es'] = df_test_copia['review_es'].apply(tokenize)\n",
    "\n",
    "prediccion = modelo_svm.predict(df_test_copia['review_es'])\n",
    "prediccion = np.where(prediccion == 0, 'negativo', 'positivo')\n",
    "\n",
    "df_entrega = df_test.copy()\n",
    "\n",
    "df_entrega['sentimiento'] = prediccion\n",
    "df_entrega.drop('review_es', axis=1, inplace=True)\n",
    "\n",
    "df_entrega.to_csv('lr_preproceso_demoji.csv', index=False)"
   ]
  },
  {
   "cell_type": "markdown",
   "metadata": {},
   "source": [
    "### Arbol de decision"
   ]
  },
  {
   "cell_type": "code",
   "execution_count": 150,
   "metadata": {},
   "outputs": [
    {
     "name": "stdout",
     "output_type": "stream",
     "text": [
      "Accuracy: 0.754881154499151\n",
      "Recall: 0.7570272572402045\n",
      "Precision: 0.7525402201524132\n",
      "f1 score: 0.7547770700636943\n"
     ]
    }
   ],
   "source": [
    "vectorizer = TfidfVectorizer(max_features=7000, ngram_range=(1, 2), min_df=5, max_df=0.7, binary=True)\n",
    "modelo_arbol = Pipeline([\n",
    "    ('tfidf', vectorizer), \n",
    "    ('dtc', DecisionTreeClassifier(\n",
    "            criterion='entropy',\n",
    "            random_state=42,\n",
    "            max_depth=120,\n",
    "            min_samples_leaf=50,\n",
    "            ccp_alpha=0.001,\n",
    "    ))])\n",
    "\n",
    "modelo_arbol.fit(x_train, y_train)\n",
    "\n",
    "y_pred = modelo_arbol.predict(x_test)\n",
    "\n",
    "mostrar_scores(y_test, y_pred)"
   ]
  },
  {
   "cell_type": "markdown",
   "metadata": {},
   "source": [
    "Con estos resultados podemos determianr que es un modelo muy pobre comparado con los que venimos utilizando. Sin embargo, es un modelo muy rapido de entrenar y de predecir. Decidimos utilizarlo ya que en el tp1 nos brindo grandes resultados, pero seguramente no es un modelo muy positivo para este tipo de problemas."
   ]
  },
  {
   "cell_type": "code",
   "execution_count": 151,
   "metadata": {},
   "outputs": [
    {
     "data": {
      "image/png": "[encoded data removed]",
      "text/plain": [
       "<Figure size 640x480 with 2 Axes>"
      ]
     },
     "metadata": {},
     "output_type": "display_data"
    }
   ],
   "source": [
    "tabla = confusion_matrix(y_test, y_pred)\n",
    "sns.heatmap(tabla, annot=True, fmt='d').set_title('Matriz de confusión arbol de decision')\n",
    "plt.xlabel('Predicho')\n",
    "plt.ylabel('Real')\n",
    "plt.show()"
   ]
  },
  {
   "cell_type": "code",
   "execution_count": 152,
   "metadata": {},
   "outputs": [
    {
     "name": "stdout",
     "output_type": "stream",
     "text": [
      "Accuracy: 0.7589664685908319\n",
      "Recall: 0.7648896182963629\n",
      "Precision: 0.756717121458126\n",
      "f1 score: 0.7607814227792111\n"
     ]
    }
   ],
   "source": [
    "y_pred_train = modelo_arbol.predict(x_train)\n",
    "\n",
    "mostrar_scores(y_train, y_pred_train)"
   ]
  },
  {
   "cell_type": "code",
   "execution_count": null,
   "metadata": {},
   "outputs": [],
   "source": [
    "pickle.dump(modelo_svm, open('modelos/arbol_decision.pkl', 'wb'))"
   ]
  },
  {
   "cell_type": "markdown",
   "metadata": {},
   "source": [
    "### Red Neuronal"
   ]
  },
  {
   "cell_type": "markdown",
   "metadata": {},
   "source": [
    "Vamos a intentar en primer lugar con una red neuronal simple con GRU para ver que resultados nos brinda. Luego, vamos a probar con una red neuronalmas compleja para ver si podemos mejorar los resultados."
   ]
  },
  {
   "cell_type": "code",
   "execution_count": null,
   "metadata": {},
   "outputs": [
    {
     "name": "stdout",
     "output_type": "stream",
     "text": [
      "Model: \"model_3\"\n",
      "_________________________________________________________________\n",
      " Layer (type)                Output Shape              Param #   \n",
      "=================================================================\n",
      " inputs (InputLayer)         [(None, 1000)]            0         \n",
      "                                                                 \n",
      " embedding_6 (Embedding)     (None, 1000, 128)         1280000   \n",
      "                                                                 \n",
      " gru_3 (GRU)                 (None, 64)                37248     \n",
      "                                                                 \n",
      " FC1 (Dense)                 (None, 256)               16640     \n",
      "                                                                 \n",
      " out_layer (Dense)           (None, 1)                 257       \n",
      "                                                                 \n",
      " activation_3 (Activation)   (None, 1)                 0         \n",
      "                                                                 \n",
      "=================================================================\n",
      "Total params: 1334145 (5.09 MB)\n",
      "Trainable params: 1334145 (5.09 MB)\n",
      "Non-trainable params: 0 (0.00 Byte)\n",
      "_________________________________________________________________\n",
      "Epoch 1/10\n",
      "207/207 [==============================] - 68s 318ms/step - loss: 0.4227 - accuracy: 0.7950 - val_loss: 0.3156 - val_accuracy: 0.8675\n",
      "Epoch 2/10\n",
      "207/207 [==============================] - 62s 298ms/step - loss: 0.2459 - accuracy: 0.9038 - val_loss: 0.3406 - val_accuracy: 0.8609\n",
      "Epoch 3/10\n",
      "207/207 [==============================] - 59s 283ms/step - loss: 0.1759 - accuracy: 0.9343 - val_loss: 0.3953 - val_accuracy: 0.8539\n",
      "Epoch 4/10\n",
      "207/207 [==============================] - 53s 254ms/step - loss: 0.1212 - accuracy: 0.9562 - val_loss: 0.4624 - val_accuracy: 0.8445\n",
      "Epoch 5/10\n",
      "207/207 [==============================] - 54s 260ms/step - loss: 0.0919 - accuracy: 0.9681 - val_loss: 0.5876 - val_accuracy: 0.8454\n",
      "Epoch 6/10\n",
      "207/207 [==============================] - 50s 243ms/step - loss: 0.0684 - accuracy: 0.9765 - val_loss: 0.6014 - val_accuracy: 0.8462\n",
      "Epoch 7/10\n",
      "207/207 [==============================] - 47s 227ms/step - loss: 0.0634 - accuracy: 0.9787 - val_loss: 0.7638 - val_accuracy: 0.8474\n",
      "Epoch 8/10\n",
      "207/207 [==============================] - 47s 226ms/step - loss: 0.0375 - accuracy: 0.9879 - val_loss: 0.8073 - val_accuracy: 0.8335\n",
      "Epoch 9/10\n",
      "207/207 [==============================] - 47s 225ms/step - loss: 0.0373 - accuracy: 0.9879 - val_loss: 0.8253 - val_accuracy: 0.8335\n",
      "Epoch 10/10\n",
      "207/207 [==============================] - 44s 211ms/step - loss: 0.0257 - accuracy: 0.9911 - val_loss: 0.9690 - val_accuracy: 0.8404\n",
      "295/295 [==============================] - 8s 26ms/step - loss: 0.9447 - accuracy: 0.8444\n",
      "Test set\n",
      "  Loss: 0.945\n",
      "  Accuracy: 0.844\n",
      "295/295 [==============================] - 7s 22ms/step\n",
      "Accuracy: 0.844439728353141\n",
      "Recall: 0.8654173764906303\n",
      "Precision: 0.8297264189465088\n",
      "f1 score: 0.847196164269335\n"
     ]
    }
   ],
   "source": [
    "np.random.seed(1)\n",
    "tf.random.set_seed(1)\n",
    "keras.utils.set_random_seed(812)\n",
    "os.environ['PYTHONHASHSEED']=str(1)\n",
    "\n",
    "\n",
    "df_preprocesado_copy = df_preprocesado.copy()\n",
    "df_preprocesado_copy['sentimiento'] = df_preprocesado_copy['sentimiento'].map({'negativo': 0, 'positivo': 1})\n",
    "\n",
    "max_words = 10000\n",
    "max_len = 1000\n",
    "tok = Tokenizer(num_words=max_words)\n",
    "tok.fit_on_texts(x_train)\n",
    "sequences = tok.texts_to_sequences(x_train)\n",
    "sequences_matrix = pad_sequences(sequences,maxlen=max_len)\n",
    "\n",
    "def red_neuronal_recurrente():\n",
    "    inputs = Input(name='inputs', shape=[max_len])\n",
    "    layer = Embedding(max_words, 128, input_length=max_len)(inputs)\n",
    "    layer = GRU(64)(layer)\n",
    "    layer = Dense(1,name='out_layer')(layer)\n",
    "    layer = Activation('sigmoid')(layer)\n",
    "    model = tf.keras.Model(inputs=inputs,outputs=layer)\n",
    "    return model\n",
    "\n",
    "model_rnn = red_neuronal_recurrente()\n",
    "model_rnn.summary()\n",
    "model_rnn.compile(loss='binary_crossentropy', optimizer='adam', metrics=['accuracy'])\n",
    "\n",
    "model_rnn.fit(sequences_matrix, y_train, batch_size=128, epochs=10, \n",
    "            validation_split=0.3,callbacks=[EarlyStopping(min_delta=0.0001)])\n",
    "\n",
    "test_sequences = tok.texts_to_sequences(x_test)\n",
    "test_sequences_matrix = pad_sequences(test_sequences, maxlen=max_len)\n",
    "\n",
    "accr = model_rnn.evaluate(test_sequences_matrix, y_test)\n",
    "\n",
    "print('Test set\\n  Loss: {:0.3f}\\n  Accuracy: {:0.3f}'.format(accr[0],accr[1]))\n",
    "\n",
    "prediccion = model_rnn.predict(test_sequences_matrix)\n",
    "prediccion = np.where(prediccion >= 0.5, 1, 0)\n",
    "mostrar_scores(y_test, prediccion)\n",
    "prediccion = np.where(prediccion == 1, 'positivo', 'negativo')\n"
   ]
  },
  {
   "cell_type": "code",
   "execution_count": null,
   "metadata": {},
   "outputs": [
    {
     "data": {
      "image/png": "[encoded data removed]",
      "text/plain": [
       "<Figure size 640x480 with 2 Axes>"
      ]
     },
     "metadata": {},
     "output_type": "display_data"
    }
   ],
   "source": [
    "prediccion_heatmap = np.where(prediccion == 'positivo', 1, 0)\n",
    "\n",
    "tabla = confusion_matrix(y_test, prediccion_heatmap)\n",
    "sns.heatmap(tabla, annot=True, fmt='d')\n",
    "plt.xlabel('Predicho')\n",
    "plt.ylabel('Real')\n",
    "plt.show()"
   ]
  },
  {
   "cell_type": "code",
   "execution_count": 54,
   "metadata": {},
   "outputs": [
    {
     "name": "stdout",
     "output_type": "stream",
     "text": [
      "1178/1178 [==============================] - 29s 25ms/step\n",
      "Accuracy: 0.949411078098472\n",
      "Recall: 0.9572237810365821\n",
      "Precision: 0.9427007299270073\n",
      "f1 score: 0.9499067482728729\n"
     ]
    }
   ],
   "source": [
    "train_sequences = tok.texts_to_sequences(x_train)\n",
    "train_sequences_matrix = pad_sequences(train_sequences, maxlen=max_len)\n",
    "prediccion_train = model_rnn.predict(train_sequences_matrix)\n",
    "prediccion_train = np.where(prediccion_train >= 0.5, 1, 0)\n",
    "mostrar_scores(y_train, prediccion_train)"
   ]
  },
  {
   "cell_type": "markdown",
   "metadata": {},
   "source": [
    "Como podemos ver, los resultados no son malos pero vamos a intentar con una capa convolucional para ver si podemos mejorar los resultados."
   ]
  },
  {
   "cell_type": "code",
   "execution_count": null,
   "metadata": {},
   "outputs": [
    {
     "name": "stdout",
     "output_type": "stream",
     "text": [
      "Epoch 1/10\n"
     ]
    },
    {
     "name": "stderr",
     "output_type": "stream",
     "text": [
      "2023-11-15 22:15:33.883538: I tensorflow/core/common_runtime/executor.cc:1197] [/device:CPU:0] (DEBUG INFO) Executor start aborting (this does not indicate an error and you can ignore this message): INVALID_ARGUMENT: You must feed a value for placeholder tensor 'gradients/split_2_grad/concat/split_2/split_dim' with dtype int32\n",
      "\t [[{{node gradients/split_2_grad/concat/split_2/split_dim}}]]\n",
      "2023-11-15 22:15:33.884783: I tensorflow/core/common_runtime/executor.cc:1197] [/device:CPU:0] (DEBUG INFO) Executor start aborting (this does not indicate an error and you can ignore this message): INVALID_ARGUMENT: You must feed a value for placeholder tensor 'gradients/split_grad/concat/split/split_dim' with dtype int32\n",
      "\t [[{{node gradients/split_grad/concat/split/split_dim}}]]\n",
      "2023-11-15 22:15:33.885307: I tensorflow/core/common_runtime/executor.cc:1197] [/device:CPU:0] (DEBUG INFO) Executor start aborting (this does not indicate an error and you can ignore this message): INVALID_ARGUMENT: You must feed a value for placeholder tensor 'gradients/split_1_grad/concat/split_1/split_dim' with dtype int32\n",
      "\t [[{{node gradients/split_1_grad/concat/split_1/split_dim}}]]\n",
      "2023-11-15 22:15:34.065454: I tensorflow/core/common_runtime/executor.cc:1197] [/device:CPU:0] (DEBUG INFO) Executor start aborting (this does not indicate an error and you can ignore this message): INVALID_ARGUMENT: You must feed a value for placeholder tensor 'gradients/split_2_grad/concat/split_2/split_dim' with dtype int32\n",
      "\t [[{{node gradients/split_2_grad/concat/split_2/split_dim}}]]\n",
      "2023-11-15 22:15:34.066121: I tensorflow/core/common_runtime/executor.cc:1197] [/device:CPU:0] (DEBUG INFO) Executor start aborting (this does not indicate an error and you can ignore this message): INVALID_ARGUMENT: You must feed a value for placeholder tensor 'gradients/split_grad/concat/split/split_dim' with dtype int32\n",
      "\t [[{{node gradients/split_grad/concat/split/split_dim}}]]\n",
      "2023-11-15 22:15:34.066747: I tensorflow/core/common_runtime/executor.cc:1197] [/device:CPU:0] (DEBUG INFO) Executor start aborting (this does not indicate an error and you can ignore this message): INVALID_ARGUMENT: You must feed a value for placeholder tensor 'gradients/split_1_grad/concat/split_1/split_dim' with dtype int32\n",
      "\t [[{{node gradients/split_1_grad/concat/split_1/split_dim}}]]\n",
      "2023-11-15 22:15:34.340900: I tensorflow/core/common_runtime/executor.cc:1197] [/device:CPU:0] (DEBUG INFO) Executor start aborting (this does not indicate an error and you can ignore this message): INVALID_ARGUMENT: You must feed a value for placeholder tensor 'gradients/split_2_grad/concat/split_2/split_dim' with dtype int32\n",
      "\t [[{{node gradients/split_2_grad/concat/split_2/split_dim}}]]\n",
      "2023-11-15 22:15:34.341563: I tensorflow/core/common_runtime/executor.cc:1197] [/device:CPU:0] (DEBUG INFO) Executor start aborting (this does not indicate an error and you can ignore this message): INVALID_ARGUMENT: You must feed a value for placeholder tensor 'gradients/split_grad/concat/split/split_dim' with dtype int32\n",
      "\t [[{{node gradients/split_grad/concat/split/split_dim}}]]\n",
      "2023-11-15 22:15:34.342222: I tensorflow/core/common_runtime/executor.cc:1197] [/device:CPU:0] (DEBUG INFO) Executor start aborting (this does not indicate an error and you can ignore this message): INVALID_ARGUMENT: You must feed a value for placeholder tensor 'gradients/split_1_grad/concat/split_1/split_dim' with dtype int32\n",
      "\t [[{{node gradients/split_1_grad/concat/split_1/split_dim}}]]\n"
     ]
    },
    {
     "name": "stdout",
     "output_type": "stream",
     "text": [
      "1085/1085 [==============================] - 553s 509ms/step - loss: 0.4476 - accuracy: 0.7848\n",
      "Epoch 2/10\n",
      "1085/1085 [==============================] - 536s 494ms/step - loss: 0.2515 - accuracy: 0.8988\n",
      "Epoch 3/10\n",
      "1085/1085 [==============================] - 531s 489ms/step - loss: 0.1804 - accuracy: 0.9318\n",
      "Epoch 4/10\n",
      "1085/1085 [==============================] - 533s 491ms/step - loss: 0.1094 - accuracy: 0.9612\n",
      "Epoch 5/10\n",
      "1085/1085 [==============================] - 539s 497ms/step - loss: 0.0599 - accuracy: 0.9803\n",
      "Epoch 6/10\n",
      "1085/1085 [==============================] - 553s 509ms/step - loss: 0.0414 - accuracy: 0.9860\n",
      "Epoch 7/10\n",
      "1085/1085 [==============================] - 540s 498ms/step - loss: 0.0246 - accuracy: 0.9921\n",
      "Epoch 8/10\n",
      "1085/1085 [==============================] - 539s 497ms/step - loss: 0.0200 - accuracy: 0.9933\n",
      "Epoch 9/10\n",
      "1085/1085 [==============================] - 536s 494ms/step - loss: 0.0201 - accuracy: 0.9929\n",
      "Epoch 10/10\n",
      "1085/1085 [==============================] - 540s 498ms/step - loss: 0.0162 - accuracy: 0.9941\n"
     ]
    },
    {
     "data": {
      "text/plain": [
       "<keras.callbacks.History at 0x28e436290>"
      ]
     },
     "execution_count": 92,
     "metadata": {},
     "output_type": "execute_result"
    }
   ],
   "source": [
    "np.random.seed(1)\n",
    "tf.random.set_seed(1)\n",
    "keras.utils.set_random_seed(812)\n",
    "os.environ['PYTHONHASHSEED']=str(1)\n",
    "\n",
    "df_preprocesado_copy = df_preprocesado.copy()\n",
    "df_preprocesado_copy['sentimiento'] = df_preprocesado_copy['sentimiento'].map({'negativo': 0, 'positivo': 1})\n",
    "x_train, x_test, y_train, y_test = train_test_split(df_preprocesado_copy['review_es'], df_preprocesado_copy['sentimiento'], test_size=0.3, random_state=42)\n",
    "\n",
    "max_len = 1000\n",
    "tok = Tokenizer(num_words=max_words)\n",
    "tok.fit_on_texts(x_train)\n",
    "sequences = tok.texts_to_sequences(x_train)\n",
    "sequences_matrix = pad_sequences(sequences,maxlen=max_len)\n",
    "\n",
    "model = tf.keras.Sequential([\n",
    "    tf.keras.layers.Embedding(input_dim=10000, output_dim=128),\n",
    "    tf.keras.layers.Conv1D(filters=64, kernel_size=3, padding='same', activation='relu'),\n",
    "    tf.keras.layers.GRU(128),\n",
    "    tf.keras.layers.Dense(1, activation='sigmoid')\n",
    "])\n",
    "\n",
    "model.compile(loss='binary_crossentropy', optimizer='adam', metrics=['accuracy'])\n",
    "model.fit(x=sequences_matrix, y=y_train, epochs=10)\n"
   ]
  },
  {
   "cell_type": "code",
   "execution_count": null,
   "metadata": {},
   "outputs": [
    {
     "name": "stdout",
     "output_type": "stream",
     "text": [
      "465/465 [==============================] - 53s 113ms/step\n",
      "Accuracy: 0.8436155913978495\n",
      "Recall: 0.8690796555435952\n",
      "Precision: 0.8266990912581594\n",
      "f1 score: 0.8473597900951131\n"
     ]
    }
   ],
   "source": [
    "test_sequences = tok.texts_to_sequences(x_test)\n",
    "test_sequences_matrix = pad_sequences(test_sequences, maxlen=1000)\n",
    "prediccion = model.predict(test_sequences_matrix)\n",
    "prediccion = np.where(prediccion >= 0.5, 1, 0)\n",
    "mostrar_scores(y_test, prediccion)\n",
    "prediccion = np.where(prediccion == 1, 'positivo', 'negativo')"
   ]
  },
  {
   "cell_type": "code",
   "execution_count": null,
   "metadata": {},
   "outputs": [
    {
     "name": "stderr",
     "output_type": "stream",
     "text": [
      "2023-11-15 23:53:15.747490: I tensorflow/core/common_runtime/executor.cc:1197] [/device:CPU:0] (DEBUG INFO) Executor start aborting (this does not indicate an error and you can ignore this message): INVALID_ARGUMENT: You must feed a value for placeholder tensor 'gradients/split_2_grad/concat/split_2/split_dim' with dtype int32\n",
      "\t [[{{node gradients/split_2_grad/concat/split_2/split_dim}}]]\n",
      "2023-11-15 23:53:15.748132: I tensorflow/core/common_runtime/executor.cc:1197] [/device:CPU:0] (DEBUG INFO) Executor start aborting (this does not indicate an error and you can ignore this message): INVALID_ARGUMENT: You must feed a value for placeholder tensor 'gradients/split_grad/concat/split/split_dim' with dtype int32\n",
      "\t [[{{node gradients/split_grad/concat/split/split_dim}}]]\n",
      "2023-11-15 23:53:15.748825: I tensorflow/core/common_runtime/executor.cc:1197] [/device:CPU:0] (DEBUG INFO) Executor start aborting (this does not indicate an error and you can ignore this message): INVALID_ARGUMENT: You must feed a value for placeholder tensor 'gradients/split_1_grad/concat/split_1/split_dim' with dtype int32\n",
      "\t [[{{node gradients/split_1_grad/concat/split_1/split_dim}}]]\n"
     ]
    },
    {
     "name": "stdout",
     "output_type": "stream",
     "text": [
      "1085/1085 [==============================] - 126s 115ms/step\n",
      "Accuracy: 0.9976669834960684\n",
      "Recall: 0.999427065429128\n",
      "Precision: 0.9959463317156723\n",
      "f1 score: 0.997683662672653\n"
     ]
    }
   ],
   "source": [
    "train_sequences = tok.texts_to_sequences(x_train)\n",
    "train_sequences_matrix = pad_sequences(train_sequences, maxlen=max_len)\n",
    "prediccion_train = model.predict(train_sequences_matrix)\n",
    "prediccion_train = np.where(prediccion_train >= 0.5, 1, 0)\n",
    "mostrar_scores(y_train, prediccion_train)"
   ]
  },
  {
   "cell_type": "markdown",
   "metadata": {},
   "source": [
    "#### Red neuronal Pooled GRU"
   ]
  },
  {
   "cell_type": "code",
   "execution_count": 58,
   "metadata": {},
   "outputs": [
    {
     "ename": "KeyboardInterrupt",
     "evalue": "",
     "output_type": "error",
     "traceback": [
      "\u001b[0;31m---------------------------------------------------------------------------\u001b[0m",
      "\u001b[0;31mKeyboardInterrupt\u001b[0m                         Traceback (most recent call last)",
      "\u001b[1;32m/Users/juampi/Documents/uba/Cuarto Cuatrimestre/Organizacion de Datos/tp2/7506R_TP2_GRUPO23_ENTREGA.ipynb Cell 194\u001b[0m line \u001b[0;36m1\n\u001b[1;32m     <a href='vscode-notebook-cell:/Users/juampi/Documents/uba/Cuarto%20Cuatrimestre/Organizacion%20de%20Datos/tp2/7506R_TP2_GRUPO23_ENTREGA.ipynb#Y414sZmlsZQ%3D%3D?line=10'>11</a>\u001b[0m tok \u001b[39m=\u001b[39m Tokenizer(num_words\u001b[39m=\u001b[39mmax_words)\n\u001b[1;32m     <a href='vscode-notebook-cell:/Users/juampi/Documents/uba/Cuarto%20Cuatrimestre/Organizacion%20de%20Datos/tp2/7506R_TP2_GRUPO23_ENTREGA.ipynb#Y414sZmlsZQ%3D%3D?line=11'>12</a>\u001b[0m tok\u001b[39m.\u001b[39mfit_on_texts(x_train)\n\u001b[0;32m---> <a href='vscode-notebook-cell:/Users/juampi/Documents/uba/Cuarto%20Cuatrimestre/Organizacion%20de%20Datos/tp2/7506R_TP2_GRUPO23_ENTREGA.ipynb#Y414sZmlsZQ%3D%3D?line=12'>13</a>\u001b[0m sequences \u001b[39m=\u001b[39m tok\u001b[39m.\u001b[39;49mtexts_to_sequences(x_train)\n\u001b[1;32m     <a href='vscode-notebook-cell:/Users/juampi/Documents/uba/Cuarto%20Cuatrimestre/Organizacion%20de%20Datos/tp2/7506R_TP2_GRUPO23_ENTREGA.ipynb#Y414sZmlsZQ%3D%3D?line=13'>14</a>\u001b[0m sequences_matrix \u001b[39m=\u001b[39m pad_sequences(sequences,maxlen\u001b[39m=\u001b[39mmax_len)\n\u001b[1;32m     <a href='vscode-notebook-cell:/Users/juampi/Documents/uba/Cuarto%20Cuatrimestre/Organizacion%20de%20Datos/tp2/7506R_TP2_GRUPO23_ENTREGA.ipynb#Y414sZmlsZQ%3D%3D?line=15'>16</a>\u001b[0m input_layer \u001b[39m=\u001b[39m Input(shape\u001b[39m=\u001b[39m(max_len,))\n",
      "File \u001b[0;32m~/Library/Python/3.9/lib/python/site-packages/keras/src/preprocessing/text.py:357\u001b[0m, in \u001b[0;36mTokenizer.texts_to_sequences\u001b[0;34m(self, texts)\u001b[0m\n\u001b[1;32m    345\u001b[0m \u001b[39mdef\u001b[39;00m \u001b[39mtexts_to_sequences\u001b[39m(\u001b[39mself\u001b[39m, texts):\n\u001b[1;32m    346\u001b[0m \u001b[39m    \u001b[39m\u001b[39m\"\"\"Transforms each text in texts to a sequence of integers.\u001b[39;00m\n\u001b[1;32m    347\u001b[0m \n\u001b[1;32m    348\u001b[0m \u001b[39m    Only top `num_words-1` most frequent words will be taken into account.\u001b[39;00m\n\u001b[0;32m   (...)\u001b[0m\n\u001b[1;32m    355\u001b[0m \u001b[39m        A list of sequences.\u001b[39;00m\n\u001b[1;32m    356\u001b[0m \u001b[39m    \"\"\"\u001b[39;00m\n\u001b[0;32m--> 357\u001b[0m     \u001b[39mreturn\u001b[39;00m \u001b[39mlist\u001b[39;49m(\u001b[39mself\u001b[39;49m\u001b[39m.\u001b[39;49mtexts_to_sequences_generator(texts))\n",
      "File \u001b[0;32m~/Library/Python/3.9/lib/python/site-packages/keras/src/preprocessing/text.py:376\u001b[0m, in \u001b[0;36mTokenizer.texts_to_sequences_generator\u001b[0;34m(self, texts)\u001b[0m\n\u001b[1;32m    374\u001b[0m num_words \u001b[39m=\u001b[39m \u001b[39mself\u001b[39m\u001b[39m.\u001b[39mnum_words\n\u001b[1;32m    375\u001b[0m oov_token_index \u001b[39m=\u001b[39m \u001b[39mself\u001b[39m\u001b[39m.\u001b[39mword_index\u001b[39m.\u001b[39mget(\u001b[39mself\u001b[39m\u001b[39m.\u001b[39moov_token)\n\u001b[0;32m--> 376\u001b[0m \u001b[39mfor\u001b[39;00m text \u001b[39min\u001b[39;00m texts:\n\u001b[1;32m    377\u001b[0m     \u001b[39mif\u001b[39;00m \u001b[39mself\u001b[39m\u001b[39m.\u001b[39mchar_level \u001b[39mor\u001b[39;00m \u001b[39misinstance\u001b[39m(text, \u001b[39mlist\u001b[39m):\n\u001b[1;32m    378\u001b[0m         \u001b[39mif\u001b[39;00m \u001b[39mself\u001b[39m\u001b[39m.\u001b[39mlower:\n",
      "\u001b[0;31mKeyboardInterrupt\u001b[0m: "
     ]
    }
   ],
   "source": [
    "#np.random.seed(1)\n",
    "#tf.random.set_seed(1)\n",
    "\n",
    "#keras.utils.set_random_seed(812)\n",
    "#os.environ['PYTHONHASHSEED']=str(1)\n",
    "#df_preprocesado_copy = df_preprocesado.copy()\n",
    "#df_preprocesado_copy['sentimiento'] = df_preprocesado_copy['sentimiento'].map({'negativo': 0, 'positivo': 1})\n",
    "\n",
    "# max_words = 512\n",
    "# max_len = 1000\n",
    "# tok = Tokenizer(num_words=max_words)\n",
    "# tok.fit_on_texts(x_train)\n",
    "# sequences = tok.texts_to_sequences(x_train)\n",
    "# sequences_matrix = pad_sequences(sequences,maxlen=max_len)\n",
    "\n",
    "# input_layer = Input(shape=(max_len,))\n",
    "# embedding_layer = Embedding(max_words, 64, input_length=max_len)(input_layer)\n",
    "\n",
    "# gru_layer = Bidirectional(GRU(250, return_sequences=True))(embedding_layer)\n",
    "\n",
    "# avg_pool = GlobalAveragePooling1D()(gru_layer)\n",
    "# max_pool = GlobalMaxPooling1D()(gru_layer)\n",
    "\n",
    "# concatenated = Concatenate()([avg_pool, max_pool])\n",
    "\n",
    "# dense_layer = Dense(512, activation='relu')(concatenated)\n",
    "# dropout_layer = Dropout(0.5)(dense_layer)\n",
    "# output_layer = Dense(2, activation='softmax')(dropout_layer)\n",
    "\n",
    "\n",
    "# model = Model(inputs=input_layer, outputs=output_layer)\n",
    "\n",
    "# model.compile(loss='sparse_categorical_crossentropy', optimizer=Adam(0.1), metrics=['accuracy'])\n",
    "# model.fit(x=sequences_matrix, y=y_train, epochs=25)\n",
    "\n"
   ]
  },
  {
   "cell_type": "markdown",
   "metadata": {},
   "source": [
    "Observando los resultados, podemos ver que no son muy buenos. Es posible que haya que realizar mayor regularizacion para evitar el overfitting, sin embargo el modelo es muy costoso de entrenar por lo tanto lo vamos a dejar aca."
   ]
  },
  {
   "cell_type": "markdown",
   "metadata": {},
   "source": [
    "### Ensamble de modelos"
   ]
  },
  {
   "cell_type": "markdown",
   "metadata": {},
   "source": [
    "Como ultimo paso, vamos a realizar un ensamble de los modelos que mejor resultados nos dieron. Para este caso nos vino bien los modelos extras que realizamos."
   ]
  },
  {
   "cell_type": "markdown",
   "metadata": {},
   "source": [
    "#### Voting Classifier"
   ]
  },
  {
   "cell_type": "code",
   "execution_count": 163,
   "metadata": {},
   "outputs": [
    {
     "name": "stdout",
     "output_type": "stream",
     "text": [
      "Accuracy: 0.8790322580645161\n",
      "Recall: 0.9022572402044293\n",
      "Precision: 0.8615290768605124\n",
      "f1 score: 0.8814229249011858\n"
     ]
    }
   ],
   "source": [
    "\n",
    "estimators = [ ('lr', modelo_regresion_logistica), \n",
    "            ('mnb', modelo_bigramas), ('mnb2', modelo_bernoulli), ('xgb', modelo_xg_boost), ('rf', modelo_random_forest)]\n",
    "ensamble_voting = VotingClassifier(estimators=estimators, voting='hard')\n",
    "ensamble_voting.fit(x_train, y_train)\n",
    "    \n",
    "prediccion = ensamble_voting.predict(x_test)\n",
    "mostrar_scores(y_test, prediccion)"
   ]
  },
  {
   "cell_type": "markdown",
   "metadata": {},
   "source": [
    "Exportamos el modelo"
   ]
  },
  {
   "cell_type": "code",
   "execution_count": null,
   "metadata": {},
   "outputs": [],
   "source": [
    "pickle.dump(ensamble_voting, open('modelos/ensamble_voting.pkl', 'wb'))"
   ]
  },
  {
   "cell_type": "code",
   "execution_count": 175,
   "metadata": {},
   "outputs": [
    {
     "data": {
      "image/png": "[encoded data removed]",
      "text/plain": [
       "<Figure size 640x480 with 2 Axes>"
      ]
     },
     "metadata": {},
     "output_type": "display_data"
    }
   ],
   "source": [
    "tabla = confusion_matrix(y_test, prediccion)\n",
    "sns.heatmap(tabla, annot=True, fmt='d').set_title('Matriz de confusión ensamble voting')\n",
    "plt.xlabel('Predicho')\n",
    "plt.ylabel('Real')\n",
    "plt.show()"
   ]
  },
  {
   "cell_type": "code",
   "execution_count": 165,
   "metadata": {},
   "outputs": [
    {
     "name": "stdout",
     "output_type": "stream",
     "text": [
      "Accuracy: 0.9010770373514432\n",
      "Recall: 0.9231298639419768\n",
      "Precision: 0.8844983260626965\n",
      "f1 score: 0.9034012900551771\n"
     ]
    }
   ],
   "source": [
    "prediccion_train = ensamble_voting.predict(x_train)\n",
    "\n",
    "mostrar_scores(y_train, prediccion_train)"
   ]
  },
  {
   "cell_type": "markdown",
   "metadata": {},
   "source": [
    "#### Stacking Classifier"
   ]
  },
  {
   "cell_type": "markdown",
   "metadata": {},
   "source": [
    "Para este caso vamos a probar dos variantes, uno con regresion logistica de metamodelo y otro con un random forest. "
   ]
  },
  {
   "cell_type": "markdown",
   "metadata": {},
   "source": [
    "##### Regresion logistica como metamodelo"
   ]
  },
  {
   "cell_type": "code",
   "execution_count": 167,
   "metadata": {},
   "outputs": [
    {
     "name": "stdout",
     "output_type": "stream",
     "text": [
      "Accuracy: 0.8880517826825127\n",
      "Recall: 0.895655877342419\n",
      "Precision: 0.8815761894780968\n",
      "f1 score: 0.8885602619626068\n"
     ]
    }
   ],
   "source": [
    "\n",
    "estimators = [('xgb', modelo_xg_boost), ('lr', modelo_regresion_logistica), \n",
    "            ('mnb', modelo_bernoulli), ('rfc', modelo_random_forest), ('mnb2', modelo_bernoulli)]\n",
    "\n",
    "metamodel = LogisticRegression(random_state=33, max_iter=1000, solver=\"liblinear\", penalty='l2', C=0.3)\n",
    "\n",
    "ensamble_stacking_lr = StackingClassifier(estimators=estimators, final_estimator=metamodel, cv=5)\n",
    "ensamble_stacking_lr.fit(x_train, y_train)\n",
    "\n",
    "prediccion = ensamble_stacking_lr.predict(x_test)\n",
    "mostrar_scores(y_test, prediccion)"
   ]
  },
  {
   "cell_type": "markdown",
   "metadata": {},
   "source": [
    "Exportamos el modelo"
   ]
  },
  {
   "cell_type": "code",
   "execution_count": 168,
   "metadata": {},
   "outputs": [],
   "source": [
    "pickle.dump(ensamble_stacking_lr, open('modelos/ensamble_stacking_lr.pkl', 'wb'))"
   ]
  },
  {
   "cell_type": "code",
   "execution_count": 169,
   "metadata": {},
   "outputs": [
    {
     "data": {
      "image/png": "[encoded data removed]",
      "text/plain": [
       "<Figure size 640x480 with 2 Axes>"
      ]
     },
     "metadata": {},
     "output_type": "display_data"
    }
   ],
   "source": [
    "tabla = confusion_matrix(y_test, prediccion)\n",
    "sns.heatmap(tabla, annot=True, fmt='d').set_title('Matriz de confusión ensamble stacking con lr como metamodelo')\n",
    "plt.xlabel('Predicho')\n",
    "plt.ylabel('Real')\n",
    "plt.show()"
   ]
  },
  {
   "cell_type": "code",
   "execution_count": 170,
   "metadata": {},
   "outputs": [
    {
     "name": "stdout",
     "output_type": "stream",
     "text": [
      "Accuracy: 0.9104679541595926\n",
      "Recall: 0.9194769442532691\n",
      "Precision: 0.9035480178961607\n",
      "f1 score: 0.911442890504054\n"
     ]
    }
   ],
   "source": [
    "prediccion_train = ensamble_stacking_lr.predict(x_train)\n",
    "\n",
    "mostrar_scores(y_train, prediccion_train)"
   ]
  },
  {
   "cell_type": "markdown",
   "metadata": {},
   "source": [
    "##### Random forest como metamodelo"
   ]
  },
  {
   "cell_type": "code",
   "execution_count": 171,
   "metadata": {},
   "outputs": [
    {
     "name": "stdout",
     "output_type": "stream",
     "text": [
      "Accuracy: 0.8821095076400679\n",
      "Recall: 0.8858603066439523\n",
      "Precision: 0.8785638859556494\n",
      "f1 score: 0.8821970098610964\n"
     ]
    }
   ],
   "source": [
    "\n",
    "estimators = [('xgb', modelo_xg_boost), ('lr', modelo_regresion_logistica), \n",
    "            ('mnb', modelo_bernoulli), ('rfc', modelo_random_forest), ('mnb2', modelo_bernoulli)]\n",
    "\n",
    "metamodel = RandomForestClassifier(\n",
    "    criterion='entropy',\n",
    "    n_jobs=-1,\n",
    "    random_state=42,\n",
    "    n_estimators=1000,\n",
    ")\n",
    "\n",
    "ensamble_stacking_rf = StackingClassifier(estimators=estimators, final_estimator=metamodel, cv=5)\n",
    "ensamble_stacking_rf.fit(x_train, y_train)\n",
    "\n",
    "prediccion = ensamble_stacking_rf.predict(x_test)\n",
    "mostrar_scores(y_test, prediccion)"
   ]
  },
  {
   "cell_type": "markdown",
   "metadata": {},
   "source": [
    "Exportamos el modelo"
   ]
  },
  {
   "cell_type": "code",
   "execution_count": 32,
   "metadata": {},
   "outputs": [],
   "source": [
    "pickle.dump(ensamble_stacking_rf, open('modelos/ensamble_stacking_rf.pkl', 'wb'))"
   ]
  },
  {
   "cell_type": "code",
   "execution_count": 3,
   "metadata": {},
   "outputs": [
    {
     "ename": "NameError",
     "evalue": "name 'y_test' is not defined",
     "output_type": "error",
     "traceback": [
      "\u001b[0;31m---------------------------------------------------------------------------\u001b[0m",
      "\u001b[0;31mNameError\u001b[0m                                 Traceback (most recent call last)",
      "\u001b[1;32m/Users/juampi/Documents/uba/Cuarto Cuatrimestre/Organizacion de Datos/tp2/7506R_TP2_GRUPO23_ENTREGA.ipynb Cell 219\u001b[0m line \u001b[0;36m1\n\u001b[0;32m----> <a href='vscode-notebook-cell:/Users/juampi/Documents/uba/Cuarto%20Cuatrimestre/Organizacion%20de%20Datos/tp2/7506R_TP2_GRUPO23_ENTREGA.ipynb#Y362sZmlsZQ%3D%3D?line=0'>1</a>\u001b[0m tabla \u001b[39m=\u001b[39m confusion_matrix(y_test, prediccion)\n\u001b[1;32m      <a href='vscode-notebook-cell:/Users/juampi/Documents/uba/Cuarto%20Cuatrimestre/Organizacion%20de%20Datos/tp2/7506R_TP2_GRUPO23_ENTREGA.ipynb#Y362sZmlsZQ%3D%3D?line=1'>2</a>\u001b[0m sns\u001b[39m.\u001b[39mheatmap(tabla, annot\u001b[39m=\u001b[39m\u001b[39mTrue\u001b[39;00m, fmt\u001b[39m=\u001b[39m\u001b[39m'\u001b[39m\u001b[39md\u001b[39m\u001b[39m'\u001b[39m)\u001b[39m.\u001b[39mset_title(\u001b[39m'\u001b[39m\u001b[39mMatriz de confusión ensamble stacking con rf como metamodelo\u001b[39m\u001b[39m'\u001b[39m)\n\u001b[1;32m      <a href='vscode-notebook-cell:/Users/juampi/Documents/uba/Cuarto%20Cuatrimestre/Organizacion%20de%20Datos/tp2/7506R_TP2_GRUPO23_ENTREGA.ipynb#Y362sZmlsZQ%3D%3D?line=2'>3</a>\u001b[0m plt\u001b[39m.\u001b[39mxlabel(\u001b[39m'\u001b[39m\u001b[39mPredicho\u001b[39m\u001b[39m'\u001b[39m)\n",
      "\u001b[0;31mNameError\u001b[0m: name 'y_test' is not defined"
     ]
    }
   ],
   "source": [
    "tabla = confusion_matrix(y_test, prediccion)\n",
    "sns.heatmap(tabla, annot=True, fmt='d').set_title('Matriz de confusión ensamble stacking con rf como metamodelo')\n",
    "plt.xlabel('Predicho')\n",
    "plt.ylabel('Real')\n",
    "plt.show()"
   ]
  },
  {
   "cell_type": "code",
   "execution_count": 173,
   "metadata": {},
   "outputs": [
    {
     "name": "stdout",
     "output_type": "stream",
     "text": [
      "Accuracy: 0.9124575551782682\n",
      "Recall: 0.9164593149452062\n",
      "Precision: 0.9095255608679662\n",
      "f1 score: 0.9129792732450821\n"
     ]
    }
   ],
   "source": [
    "prediccion_train = ensamble_stacking_rf.predict(x_train)\n",
    "\n",
    "mostrar_scores(y_train, prediccion_train)"
   ]
  },
  {
   "cell_type": "markdown",
   "metadata": {},
   "source": [
    "##### Arbol de decision como metamodelo"
   ]
  },
  {
   "cell_type": "code",
   "execution_count": 179,
   "metadata": {},
   "outputs": [
    {
     "name": "stdout",
     "output_type": "stream",
     "text": [
      "Accuracy: 0.8880517826825127\n",
      "Recall: 0.895655877342419\n",
      "Precision: 0.8815761894780968\n",
      "f1 score: 0.8885602619626068\n"
     ]
    }
   ],
   "source": [
    "\n",
    "estimators = [('xgb', modelo_xg_boost), ('lr', modelo_regresion_logistica), \n",
    "            ('mnb', modelo_bernoulli), ('rfc', modelo_random_forest), ('mnb2', modelo_bernoulli)]\n",
    "\n",
    "arbol = DecisionTreeClassifier(\n",
    "    criterion='entropy',\n",
    "    random_state=42,\n",
    "    max_depth=120,\n",
    ")\n",
    "\n",
    "ensamble_stacking_arbol = StackingClassifier(estimators=estimators, final_estimator=metamodel, cv=5)\n",
    "ensamble_stacking_arbol.fit(x_train, y_train)\n",
    "\n",
    "prediccion = ensamble_stacking_arbol.predict(x_test)\n",
    "mostrar_scores(y_test, prediccion)"
   ]
  },
  {
   "cell_type": "code",
   "execution_count": 40,
   "metadata": {},
   "outputs": [],
   "source": [
    "pickle.dump(ensamble_stacking_arbol, open('modelos/ensamble_stacking_arbol.pkl', 'wb'))"
   ]
  },
  {
   "cell_type": "code",
   "execution_count": 177,
   "metadata": {},
   "outputs": [
    {
     "data": {
      "image/png": "[encoded data removed]",
      "text/plain": [
       "<Figure size 640x480 with 2 Axes>"
      ]
     },
     "metadata": {},
     "output_type": "display_data"
    }
   ],
   "source": [
    "tabla = confusion_matrix(y_test, prediccion)\n",
    "sns.heatmap(tabla, annot=True, fmt='d').set_title('Matriz de confusión ensamble stacking con arbol como metamodelo')\n",
    "plt.xlabel('Predicho')\n",
    "plt.ylabel('Real')\n",
    "plt.show()"
   ]
  },
  {
   "cell_type": "code",
   "execution_count": 178,
   "metadata": {},
   "outputs": [
    {
     "ename": "NameError",
     "evalue": "name 'ensamble_stacking_arbol' is not defined",
     "output_type": "error",
     "traceback": [
      "\u001b[0;31m---------------------------------------------------------------------------\u001b[0m",
      "\u001b[0;31mNameError\u001b[0m                                 Traceback (most recent call last)",
      "\u001b[1;32m/Users/juampi/Documents/uba/Cuarto Cuatrimestre/Organizacion de Datos/tp2/7506R_TP2_GRUPO23_ENTREGA.ipynb Cell 225\u001b[0m line \u001b[0;36m1\n\u001b[0;32m----> <a href='vscode-notebook-cell:/Users/juampi/Documents/uba/Cuarto%20Cuatrimestre/Organizacion%20de%20Datos/tp2/7506R_TP2_GRUPO23_ENTREGA.ipynb#Y453sZmlsZQ%3D%3D?line=0'>1</a>\u001b[0m prediccion_train \u001b[39m=\u001b[39m ensamble_stacking_arbol\u001b[39m.\u001b[39mpredict(x_train)\n\u001b[1;32m      <a href='vscode-notebook-cell:/Users/juampi/Documents/uba/Cuarto%20Cuatrimestre/Organizacion%20de%20Datos/tp2/7506R_TP2_GRUPO23_ENTREGA.ipynb#Y453sZmlsZQ%3D%3D?line=2'>3</a>\u001b[0m mostrar_scores(y_train, prediccion_train)\n",
      "\u001b[0;31mNameError\u001b[0m: name 'ensamble_stacking_arbol' is not defined"
     ]
    }
   ],
   "source": [
    "prediccion_train = ensamble_stacking_arbol.predict(x_train)\n",
    "\n",
    "mostrar_scores(y_train, prediccion_train)"
   ]
  },
  {
   "cell_type": "markdown",
   "metadata": {},
   "source": [
    "A modo resumen de esta seccion de ensambles stacking, podemos ver que los 3 modelos se comoportaron de manera similar. Sin embargo, el que mejor resultados nos brindo fue el que tiene como metamodelo a la regresion logistica."
   ]
  },
  {
   "cell_type": "markdown",
   "metadata": {},
   "source": [
    "#### Prediccion en los datos de test"
   ]
  },
  {
   "cell_type": "code",
   "execution_count": 53,
   "metadata": {},
   "outputs": [],
   "source": [
    "df_test = pd.read_csv('datasets/test.csv', sep=',')\n",
    "df_test_copia = df_test.copy()\n",
    "\n",
    "df_test_copia['review_es'] = df_test_copia['review_es'].apply(demojize)\n",
    "df_test_copia['review_es'] = df_test_copia['review_es'].apply(tokenize)\n",
    "\n",
    "prediccion = ensamble_stacking_lr.predict(df_test_copia['review_es'])\n",
    "prediccion = np.where(prediccion == 0, 'negativo', 'positivo')\n",
    "\n",
    "df_entrega = df_test.copy()\n",
    "\n",
    "df_entrega['sentimiento'] = prediccion\n",
    "df_entrega.drop('review_es', axis=1, inplace=True)\n",
    "\n",
    "df_entrega.to_csv('stacking_lr.csv', index=False)"
   ]
  }
 ],
 "metadata": {
  "kernelspec": {
   "display_name": "base",
   "language": "python",
   "name": "python3"
  },
  "language_info": {
   "codemirror_mode": {
    "name": "ipython",
    "version": 3
   },
   "file_extension": ".py",
   "mimetype": "text/x-python",
   "name": "python",
   "nbconvert_exporter": "python",
   "pygments_lexer": "ipython3",
   "version": "3.11.5"
  }
 },
 "nbformat": 4,
 "nbformat_minor": 2
}
