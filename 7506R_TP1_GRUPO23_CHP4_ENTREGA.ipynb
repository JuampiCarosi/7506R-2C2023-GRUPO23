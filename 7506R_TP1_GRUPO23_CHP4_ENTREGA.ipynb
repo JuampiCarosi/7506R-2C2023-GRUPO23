{
 "cells": [
  {
   "cell_type": "markdown",
   "metadata": {},
   "source": [
    "# Trabajo Práctico 1 : Reservas de Hotel\n"
   ]
  },
  {
   "cell_type": "markdown",
   "metadata": {},
   "source": [
    "## Librerias\n"
   ]
  },
  {
   "cell_type": "code",
   "execution_count": 136,
   "metadata": {},
   "outputs": [],
   "source": [
    "import matplotlib.pyplot as plt\n",
    "import seaborn as sns\n",
    "\n",
    "import pandas as pd\n",
    "import numpy as np\n",
    "\n",
    "from sklearn.metrics import f1_score,  recall_score, precision_score, accuracy_score\n",
    "from sklearn.preprocessing import MinMaxScaler, StandardScaler\n",
    "from sklearn.model_selection import train_test_split\n",
    "from sklearn.metrics import confusion_matrix\n",
    "\n",
    "import tensorflow as tf\n",
    "from tensorflow import keras\n",
    "from sklearn.model_selection import RandomizedSearchCV\n",
    "from keras.wrappers.scikit_learn import KerasClassifier\n",
    "from keras.models import Sequential\n",
    "\n",
    "\n",
    "np.random.seed(1)\n",
    "tf.random.set_seed(1)\n",
    "\n",
    "import warnings\n",
    "warnings.filterwarnings(\"ignore\", category=DeprecationWarning)"
   ]
  },
  {
   "cell_type": "code",
   "execution_count": 114,
   "metadata": {},
   "outputs": [],
   "source": [
    "def mostrar_scores(y_test, y_prediccion):\n",
    "    accuracy = accuracy_score(y_test,y_prediccion)\n",
    "    recall = recall_score(y_test,y_prediccion)\n",
    "    f1 = f1_score(y_test,y_prediccion,)\n",
    "    precision = precision_score(y_test,y_prediccion)\n",
    "\n",
    "    print(\"Accuracy: \"+str(accuracy))\n",
    "    print(\"Recall: \"+str(recall))\n",
    "    print(\"Precision: \"+str(precision))\n",
    "    print(\"f1 score: \"+str(f1))"
   ]
  },
  {
   "cell_type": "markdown",
   "metadata": {},
   "source": [
    "## Redes Neuronales"
   ]
  },
  {
   "cell_type": "markdown",
   "metadata": {},
   "source": [
    "Importamos el dataset y las librerias necesarias para el analisis. Conservamos el mismo procesamiento de datos que en el del chapter 1."
   ]
  },
  {
   "cell_type": "code",
   "execution_count": 115,
   "metadata": {},
   "outputs": [],
   "source": [
    "df_redes = pd.read_csv('dataframe_chp1.csv')"
   ]
  },
  {
   "cell_type": "code",
   "execution_count": 116,
   "metadata": {},
   "outputs": [],
   "source": [
    "df_a_utilizar = df_redes.copy()"
   ]
  },
  {
   "cell_type": "markdown",
   "metadata": {},
   "source": [
    "Inicialmente vamos a utilizar el mismo dataset con las mismas features que veniamos porbando en los demas capitulos. Cabe recalcar que en un futuro quizas cambiemos estas features ya que no sabemos como se van a comportar con nuestro modelo de redes neuronales."
   ]
  },
  {
   "cell_type": "code",
   "execution_count": 117,
   "metadata": {},
   "outputs": [],
   "source": [
    "columns = [\n",
    "    'hotel',\n",
    "    'lead_time',\n",
    "    'year',\n",
    "    'week_number',\n",
    "    'meal_type',\n",
    "    'country',\n",
    "    'market_segment',\n",
    "    'is_repeated_guest',\n",
    "    'previous_cancellations',\n",
    "    'booking_changes',\n",
    "    'deposit_type',\n",
    "    'agent_id',\n",
    "    'days_in_waiting_list',\n",
    "    'customer_type',\n",
    "    'average_daily_rate',\n",
    "    'required_car_parking_spaces',\n",
    "    'total_of_special_requests',\n",
    "    'is_canceled',\n",
    "    'total_people'\n",
    "]\n",
    "\n",
    "dummy_columns = [\n",
    "    'hotel',\n",
    "    'deposit_type',\n",
    "    'market_segment',\n",
    "    'agent_id',\n",
    "    'country',\n",
    "    'customer_type',\n",
    "    'meal_type',\n",
    "]"
   ]
  },
  {
   "cell_type": "code",
   "execution_count": 118,
   "metadata": {},
   "outputs": [],
   "source": [
    "agentes = df_a_utilizar[['agent_id']].value_counts().reset_index()\n",
    "\n",
    "agentes.columns = ['agent_id', 'cantidad']\n",
    "agentes_mayoritarios = agentes[agentes['cantidad'] > 20]\n",
    "agentes_minoritarios = agentes[agentes['cantidad'] <= 20]\n",
    "\n",
    "df_agentes_mayoritarios = df_a_utilizar[df_a_utilizar['agent_id'].isin(agentes_mayoritarios['agent_id'])]\n",
    "df_agentes_minoritarios = df_a_utilizar[df_a_utilizar['agent_id'].isin(agentes_minoritarios['agent_id'])]\n",
    "df_agentes_minoritarios.loc[df_a_utilizar['agent_id'].isin(agentes_minoritarios['agent_id']), 'agent_id'] = 'Otros'\n",
    "\n",
    "df_agentes = pd.concat([df_agentes_mayoritarios, df_agentes_minoritarios])\n",
    "\n",
    "paises = df_agentes[['country']].value_counts().reset_index()\n",
    "paises.columns = ['country', 'cantidad']\n",
    "paises_mayoritarios = paises[paises['cantidad'] > 15]\n",
    "paises_minoritarios = paises[paises['cantidad'] <= 15]\n",
    "\n",
    "df_paises_mayoritarios = df_agentes[df_agentes['country'].isin(paises_mayoritarios['country'])]\n",
    "df_paises_minoritarios = df_agentes[df_agentes['country'].isin(paises_minoritarios['country'])]\n",
    "df_paises_minoritarios.loc[df_agentes['country'].isin(paises_minoritarios['country']), 'country'] = 'Otros'\n",
    "\n",
    "df_encode = pd.concat([df_paises_mayoritarios, df_paises_minoritarios])\n",
    "\n",
    "filtrado = df_encode[columns]\n",
    "\n",
    "df_con_dummies = pd.get_dummies(filtrado, columns=dummy_columns, drop_first=True)\n",
    "\n",
    "\n",
    "df_con_dummies['cuarto_correcto'] = df_redes['reserved_room_type'] == df_redes['assigned_room_type']\n",
    "df_con_dummies['cuarto_correcto'] = df_con_dummies['cuarto_correcto'].apply(lambda x: 1 if x == True else 0)\n",
    "\n",
    "df_trabajo_x = df_con_dummies.drop(['is_canceled'], axis='columns', inplace=False)\n",
    "df_trabajo_y = df_con_dummies['is_canceled'].copy()"
   ]
  },
  {
   "cell_type": "markdown",
   "metadata": {},
   "source": [
    "Utilizamos un split de data de 0.7 para train y 0.3 para test."
   ]
  },
  {
   "cell_type": "code",
   "execution_count": 119,
   "metadata": {},
   "outputs": [],
   "source": [
    "x_train, x_test, y_train, y_test = train_test_split(df_trabajo_x,\n",
    "                                                    df_trabajo_y,\n",
    "                                                    test_size=0.3,\n",
    "                                                    random_state=11457,\n",
    "                                                    stratify=df_a_utilizar[\"is_canceled\"].values\n",
    "                                                    )"
   ]
  },
  {
   "cell_type": "markdown",
   "metadata": {},
   "source": [
    "Usamos el min max scaler para escalar los datos ya que esto mejora la convergencia de la red neuronal, iguala la influencia de las caracteristicas y ademas evita problemas numericos debido a que algunas funciones de activacion no trabajan muy bien si los valores de entrada son muy grandes."
   ]
  },
  {
   "cell_type": "code",
   "execution_count": 120,
   "metadata": {},
   "outputs": [],
   "source": [
    "escalador=MinMaxScaler()\n",
    "\n",
    "x_train_escalado_min_max=pd.DataFrame(escalador.fit_transform(x_train))\n",
    "x_test_escalado_min_max=pd.DataFrame(escalador.transform(x_test))"
   ]
  },
  {
   "cell_type": "markdown",
   "metadata": {},
   "source": [
    "Ademas, lo bueno del min max es que nuestras variables dummies van a seguir estando exactamente igual a como estaban antes del escalado."
   ]
  },
  {
   "cell_type": "code",
   "execution_count": 9,
   "metadata": {},
   "outputs": [],
   "source": [
    "escalador=StandardScaler()\n",
    "escalador.fit(pd.DataFrame(x_train))\n",
    "\n",
    "x_train_escalado_std=pd.DataFrame(escalador.transform(x_train))\n",
    "x_test_escalado_std=pd.DataFrame(escalador.transform(x_test))"
   ]
  },
  {
   "cell_type": "markdown",
   "metadata": {},
   "source": [
    "### Red neuronal básica"
   ]
  },
  {
   "cell_type": "markdown",
   "metadata": {},
   "source": [
    "Utilizamos el optimizador de Adam ya que investigamos que es de los mejores en este aspecto, ya que combina el optimizador de RMSProp y el de descenso de gradiente estocastico (SGD). "
   ]
  },
  {
   "cell_type": "code",
   "execution_count": 160,
   "metadata": {},
   "outputs": [
    {
     "name": "stdout",
     "output_type": "stream",
     "text": [
      "Epoch 1/10\n",
      "1218/1218 [==============================] - 1s 616us/step - loss: 0.3871 - accuracy: 0.8107\n",
      "Epoch 2/10\n",
      "1218/1218 [==============================] - 1s 580us/step - loss: 0.3318 - accuracy: 0.8393\n",
      "Epoch 3/10\n",
      "1218/1218 [==============================] - 1s 579us/step - loss: 0.3215 - accuracy: 0.8449\n",
      "Epoch 4/10\n",
      "1218/1218 [==============================] - 1s 486us/step - loss: 0.3143 - accuracy: 0.8475\n",
      "Epoch 5/10\n",
      "1218/1218 [==============================] - 1s 483us/step - loss: 0.3082 - accuracy: 0.8518\n",
      "Epoch 6/10\n",
      "1218/1218 [==============================] - 1s 472us/step - loss: 0.3035 - accuracy: 0.8553\n",
      "Epoch 7/10\n",
      "1218/1218 [==============================] - 1s 488us/step - loss: 0.2986 - accuracy: 0.8560\n",
      "Epoch 8/10\n",
      "1218/1218 [==============================] - 1s 474us/step - loss: 0.2940 - accuracy: 0.8592\n",
      "Epoch 9/10\n",
      "1218/1218 [==============================] - 1s 574us/step - loss: 0.2901 - accuracy: 0.8623\n",
      "Epoch 10/10\n",
      "1218/1218 [==============================] - 1s 480us/step - loss: 0.2867 - accuracy: 0.8646\n",
      "522/522 [==============================] - 0s 285us/step\n",
      "Accuracy: 0.8600778676250375\n",
      "Recall: 0.8841978287092883\n",
      "Precision: 0.8419480817826787\n",
      "f1 score: 0.8625558955048247\n"
     ]
    },
    {
     "data": {
      "image/png": "[encoded data removed]",
      "text/plain": [
       "<Figure size 640x480 with 2 Axes>"
      ]
     },
     "metadata": {},
     "output_type": "display_data"
    },
    {
     "name": "stdout",
     "output_type": "stream",
     "text": [
      "1218/1218 [==============================] - 0s 317us/step\n",
      "Accuracy: 0.8704915928635605\n",
      "Recall: 0.8993403625409028\n",
      "Precision: 0.8478601508177456\n",
      "f1 score: 0.8728418399495904\n"
     ]
    }
   ],
   "source": [
    "modelo = keras.Sequential([\n",
    "   keras.layers.Dense(128, input_shape=(x_train_escalado_min_max.shape[1],), activation='relu'),\n",
    "   keras.layers.Dense(1, activation='sigmoid')\n",
    "])\n",
    "\n",
    "modelo.compile(optimizer='adam',\n",
    "             loss='binary_crossentropy',\n",
    "             metrics=['accuracy'])\n",
    "\n",
    "modelo.fit(x_train_escalado_min_max, y_train, epochs=10)\n",
    "\n",
    "y_prediccion = modelo.predict(x_test_escalado_min_max)\n",
    "mostrar_scores(y_test, y_prediccion.round())\n",
    "\n",
    "tabla = confusion_matrix(y_test, y_prediccion.round())\n",
    "sns.heatmap(tabla, cmap='GnBu', annot=True, fmt='g')\n",
    "plt.title('Matriz de confusión')\n",
    "plt.xlabel('Predicted')\n",
    "plt.ylabel('True')\n",
    "plt.show()\n",
    "\n",
    "\n",
    "y_prediccion_train = modelo.predict(x_train_escalado_min_max)\n",
    "mostrar_scores(y_train, y_prediccion_train.round())"
   ]
  },
  {
   "cell_type": "markdown",
   "metadata": {},
   "source": [
    "Podemos ver que el Recall es considerablemente mas elevado que el Precision, lo cual nos indica que el modelo esta prediciendo correctamente los casos negativos, pero no tanto los positivos."
   ]
  },
  {
   "cell_type": "markdown",
   "metadata": {},
   "source": [
    "### Red neuronal con capas de dropout"
   ]
  },
  {
   "cell_type": "markdown",
   "metadata": {},
   "source": [
    "Ahora agregamos dropout, el cual es una tecnica de regularizacion que se utiliza en redes neuronales para evitar el overfitting."
   ]
  },
  {
   "cell_type": "code",
   "execution_count": 38,
   "metadata": {},
   "outputs": [
    {
     "name": "stdout",
     "output_type": "stream",
     "text": [
      "Epoch 1/10\n",
      "1218/1218 [==============================] - 1s 606us/step - loss: 0.3952 - accuracy: 0.8087\n",
      "Epoch 2/10\n",
      "1218/1218 [==============================] - 1s 504us/step - loss: 0.3379 - accuracy: 0.8346\n",
      "Epoch 3/10\n",
      "1218/1218 [==============================] - 1s 502us/step - loss: 0.3273 - accuracy: 0.8403\n",
      "Epoch 4/10\n",
      "1218/1218 [==============================] - 1s 503us/step - loss: 0.3196 - accuracy: 0.8453\n",
      "Epoch 5/10\n",
      "1218/1218 [==============================] - 1s 500us/step - loss: 0.3141 - accuracy: 0.8482\n",
      "Epoch 6/10\n",
      "1218/1218 [==============================] - 1s 539us/step - loss: 0.3089 - accuracy: 0.8523\n",
      "Epoch 7/10\n",
      "1218/1218 [==============================] - 1s 499us/step - loss: 0.3038 - accuracy: 0.8543\n",
      "Epoch 8/10\n",
      "1218/1218 [==============================] - 1s 618us/step - loss: 0.2996 - accuracy: 0.8571\n",
      "Epoch 9/10\n",
      "1218/1218 [==============================] - 1s 503us/step - loss: 0.2968 - accuracy: 0.8590\n",
      "Epoch 10/10\n",
      "1218/1218 [==============================] - 1s 552us/step - loss: 0.2926 - accuracy: 0.8615\n",
      "522/522 [==============================] - 0s 284us/step\n",
      "Accuracy: 0.8615154237795747\n",
      "Recall: 0.8735826296743064\n",
      "Precision: 0.8513990124617917\n",
      "f1 score: 0.8623481781376519\n"
     ]
    },
    {
     "data": {
      "image/png": "[encoded data removed]",
      "text/plain": [
       "<Figure size 640x480 with 2 Axes>"
      ]
     },
     "metadata": {},
     "output_type": "display_data"
    },
    {
     "name": "stdout",
     "output_type": "stream",
     "text": [
      "1218/1218 [==============================] - 0s 332us/step\n",
      "Accuracy: 0.8695417789757413\n",
      "Recall: 0.8874461122941879\n",
      "Precision: 0.8542572871356432\n",
      "f1 score: 0.8705354868293675\n"
     ]
    }
   ],
   "source": [
    "modelo = keras.Sequential([\n",
    "    keras.layers.Dense(128, input_shape=(x_train_escalado_min_max.shape[1],), activation='relu'),\n",
    "    keras.layers.Dropout(0.2),\n",
    "    keras.layers.Dense(1, activation='sigmoid')\n",
    "\n",
    "])\n",
    "\n",
    "modelo.compile(optimizer='adam',\n",
    "                loss='binary_crossentropy',\n",
    "                metrics=['accuracy'])\n",
    "\n",
    "modelo.fit(x_train_escalado_min_max, y_train, epochs=10)\n",
    "\n",
    "y_prediccion = modelo.predict(x_test_escalado_min_max)\n",
    "mostrar_scores(y_test, y_prediccion.round())\n",
    "\n",
    "tabla = confusion_matrix(y_test, y_prediccion.round())\n",
    "sns.heatmap(tabla, cmap='GnBu', annot=True, fmt='g')\n",
    "plt.title('Matriz de confusión')\n",
    "plt.xlabel('Predicted')\n",
    "plt.ylabel('True')\n",
    "plt.show()\n",
    "\n",
    "\n",
    "y_prediccion_train = modelo.predict(x_train_escalado_min_max)\n",
    "mostrar_scores(y_train, y_prediccion_train.round())"
   ]
  },
  {
   "cell_type": "markdown",
   "metadata": {},
   "source": [
    "En este caso nos presentamos con el mismo problema que el modelo anterior, donde el recall es mucho mas alto que el precision. Cabe destacar que el conjunto de train es mas cercano en f1 al conjunto de test que el modelo anterior, indicando menos overfitting."
   ]
  },
  {
   "cell_type": "markdown",
   "metadata": {},
   "source": [
    "### Redes neuronales con capas de dropout, regularizacion L1 y L2"
   ]
  },
  {
   "cell_type": "markdown",
   "metadata": {},
   "source": [
    "La regularizacion l1 y l2 tambien son tecnicas de regularizacion que se utilizan para evitar el overfitting. La regularizacion l1 es la suma de los valores absolutos de los coeficientes multiplicados por un factor lambda. La regularizacion l2 es la suma de los valores al cuadrado de los coeficientes multiplicados por un factor lambda."
   ]
  },
  {
   "cell_type": "markdown",
   "metadata": {},
   "source": [
    "#### Con L2 y dropout"
   ]
  },
  {
   "cell_type": "code",
   "execution_count": 27,
   "metadata": {},
   "outputs": [
    {
     "name": "stdout",
     "output_type": "stream",
     "text": [
      "Epoch 1/10\n",
      "1218/1218 [==============================] - 1s 538us/step - loss: 0.4416 - accuracy: 0.8044\n",
      "Epoch 2/10\n",
      "1218/1218 [==============================] - 1s 593us/step - loss: 0.3813 - accuracy: 0.8293\n",
      "Epoch 3/10\n",
      "1218/1218 [==============================] - 1s 611us/step - loss: 0.3712 - accuracy: 0.8323\n",
      "Epoch 4/10\n",
      "1218/1218 [==============================] - 1s 526us/step - loss: 0.3640 - accuracy: 0.8352\n",
      "Epoch 5/10\n",
      "1218/1218 [==============================] - 1s 557us/step - loss: 0.3602 - accuracy: 0.8385\n",
      "Epoch 6/10\n",
      "1218/1218 [==============================] - 1s 559us/step - loss: 0.3576 - accuracy: 0.8386\n",
      "Epoch 7/10\n",
      "1218/1218 [==============================] - 1s 577us/step - loss: 0.3543 - accuracy: 0.8389\n",
      "Epoch 8/10\n",
      "1218/1218 [==============================] - 1s 607us/step - loss: 0.3526 - accuracy: 0.8401\n",
      "Epoch 9/10\n",
      "1218/1218 [==============================] - 1s 507us/step - loss: 0.3495 - accuracy: 0.8428\n",
      "Epoch 10/10\n",
      "1218/1218 [==============================] - 1s 494us/step - loss: 0.3478 - accuracy: 0.8425\n",
      "522/522 [==============================] - 0s 274us/step\n",
      "Accuracy: 0.8491165019466906\n",
      "Recall: 0.8882991556091677\n",
      "Precision: 0.8221502735290834\n",
      "f1 score: 0.8539456137299241\n"
     ]
    }
   ],
   "source": [
    "modelo = keras.Sequential([\n",
    "    keras.layers.Dense(128, input_shape=(x_train_escalado_min_max.shape[1],), activation='relu', kernel_regularizer=keras.regularizers.l2(0.001)),\n",
    "    keras.layers.Dropout(0.2),\n",
    "    keras.layers.Dense(1, activation='sigmoid')\n",
    "\n",
    "])\n",
    "\n",
    "modelo.compile(optimizer='adam',   \n",
    "                loss='binary_crossentropy',\n",
    "                metrics=['accuracy'])\n",
    "\n",
    "modelo.fit(x_train_escalado_min_max, y_train, epochs=10)\n",
    "\n",
    "y_prediccion = modelo.predict(x_test_escalado_min_max)\n",
    "mostrar_scores(y_test, y_prediccion.round())\n",
    "\n",
    "tabla = confusion_matrix(y_test, y_prediccion.round())\n",
    "sns.heatmap(tabla, cmap='GnBu', annot=True, fmt='g')\n",
    "plt.title('Matriz de confusión')\n",
    "plt.xlabel('Predicted')\n",
    "plt.ylabel('True')\n",
    "plt.show()\n",
    "\n",
    "y_prediccion_train = modelo.predict(x_train_escalado_min_max)\n",
    "mostrar_scores(y_train, y_prediccion_train.round())\n"
   ]
  },
  {
   "cell_type": "markdown",
   "metadata": {},
   "source": [
    "#### Con L1 y dropout"
   ]
  },
  {
   "cell_type": "code",
   "execution_count": 39,
   "metadata": {},
   "outputs": [
    {
     "name": "stdout",
     "output_type": "stream",
     "text": [
      "Epoch 1/10\n",
      "1218/1218 [==============================] - 1s 622us/step - loss: 0.5949 - accuracy: 0.7878\n",
      "Epoch 2/10\n",
      "1218/1218 [==============================] - 1s 655us/step - loss: 0.4538 - accuracy: 0.8166\n",
      "Epoch 3/10\n",
      "1218/1218 [==============================] - 1s 711us/step - loss: 0.4340 - accuracy: 0.8229\n",
      "Epoch 4/10\n",
      "1218/1218 [==============================] - 1s 576us/step - loss: 0.4221 - accuracy: 0.8258\n",
      "Epoch 5/10\n",
      "1218/1218 [==============================] - 1s 633us/step - loss: 0.4145 - accuracy: 0.8270\n",
      "Epoch 6/10\n",
      "1218/1218 [==============================] - 1s 548us/step - loss: 0.4068 - accuracy: 0.8294\n",
      "Epoch 7/10\n",
      "1218/1218 [==============================] - 1s 547us/step - loss: 0.4035 - accuracy: 0.8328\n",
      "Epoch 8/10\n",
      "1218/1218 [==============================] - 1s 510us/step - loss: 0.3994 - accuracy: 0.8323\n",
      "Epoch 9/10\n",
      "1218/1218 [==============================] - 1s 516us/step - loss: 0.3956 - accuracy: 0.8334\n",
      "Epoch 10/10\n",
      "1218/1218 [==============================] - 1s 513us/step - loss: 0.3932 - accuracy: 0.8348\n",
      "522/522 [==============================] - 0s 285us/step\n",
      "Accuracy: 0.8418089248277928\n",
      "Recall: 0.8735826296743064\n",
      "Precision: 0.8196943972835314\n",
      "f1 score: 0.8457810218978102\n"
     ]
    },
    {
     "data": {
      "image/png": "[encoded data removed]",
      "text/plain": [
       "<Figure size 640x480 with 2 Axes>"
      ]
     },
     "metadata": {},
     "output_type": "display_data"
    },
    {
     "name": "stdout",
     "output_type": "stream",
     "text": [
      "1218/1218 [==============================] - 0s 389us/step\n",
      "Accuracy: 0.8408933384674625\n",
      "Recall: 0.8755518620474732\n",
      "Precision: 0.8159639866402052\n",
      "f1 score: 0.8447083583884546\n"
     ]
    }
   ],
   "source": [
    "modelo = keras.Sequential([\n",
    "    keras.layers.Dense(128, input_shape=(x_train_escalado_min_max.shape[1],), activation='relu', kernel_regularizer=keras.regularizers.l1(0.001)),\n",
    "    keras.layers.Dropout(0.2),\n",
    "    keras.layers.Dense(1, activation='sigmoid')\n",
    "\n",
    "])\n",
    "\n",
    "modelo.compile(optimizer='adam',\n",
    "                loss='binary_crossentropy',\n",
    "                metrics=['accuracy'])\n",
    "\n",
    "modelo.fit(x_train_escalado_min_max, y_train, epochs=10)\n",
    "\n",
    "y_prediccion = modelo.predict(x_test_escalado_min_max)\n",
    "mostrar_scores(y_test, y_prediccion.round())\n",
    "\n",
    "tabla = confusion_matrix(y_test, y_prediccion.round())\n",
    "sns.heatmap(tabla, cmap='GnBu', annot=True, fmt='g')\n",
    "plt.title('Matriz de confusión')\n",
    "plt.xlabel('Predicted')\n",
    "plt.ylabel('True')\n",
    "plt.show()\n",
    "\n",
    "\n",
    "y_prediccion_train = modelo.predict(x_train_escalado_min_max)\n",
    "mostrar_scores(y_train, y_prediccion_train.round())"
   ]
  },
  {
   "cell_type": "markdown",
   "metadata": {},
   "source": [
    "En este caso la diferencia entre Recall y Precision en muchisimo mas elevada, esto puede ser debido a la regularizacion."
   ]
  },
  {
   "cell_type": "markdown",
   "metadata": {},
   "source": [
    "#### Con dropout, L1 y L2"
   ]
  },
  {
   "cell_type": "code",
   "execution_count": 40,
   "metadata": {},
   "outputs": [
    {
     "name": "stdout",
     "output_type": "stream",
     "text": [
      "Epoch 1/10\n",
      "1218/1218 [==============================] - 1s 635us/step - loss: 0.6059 - accuracy: 0.7884\n",
      "Epoch 2/10\n",
      "1218/1218 [==============================] - 1s 566us/step - loss: 0.4589 - accuracy: 0.8144\n",
      "Epoch 3/10\n",
      "1218/1218 [==============================] - 1s 544us/step - loss: 0.4402 - accuracy: 0.8198\n",
      "Epoch 4/10\n",
      "1218/1218 [==============================] - 1s 544us/step - loss: 0.4284 - accuracy: 0.8238\n",
      "Epoch 5/10\n",
      "1218/1218 [==============================] - 1s 569us/step - loss: 0.4207 - accuracy: 0.8260\n",
      "Epoch 6/10\n",
      "1218/1218 [==============================] - 1s 564us/step - loss: 0.4129 - accuracy: 0.8274\n",
      "Epoch 7/10\n",
      "1218/1218 [==============================] - 1s 614us/step - loss: 0.4099 - accuracy: 0.8275\n",
      "Epoch 8/10\n",
      "1218/1218 [==============================] - 1s 600us/step - loss: 0.4048 - accuracy: 0.8289\n",
      "Epoch 9/10\n",
      "1218/1218 [==============================] - 1s 558us/step - loss: 0.4024 - accuracy: 0.8308\n",
      "Epoch 10/10\n",
      "1218/1218 [==============================] - 1s 574us/step - loss: 0.3999 - accuracy: 0.8314\n",
      "522/522 [==============================] - 0s 288us/step\n",
      "Accuracy: 0.8390536088649296\n",
      "Recall: 0.8674306393244874\n",
      "Precision: 0.8191137942818089\n",
      "f1 score: 0.8425801159997657\n"
     ]
    },
    {
     "data": {
      "image/png": "[encoded data removed]",
      "text/plain": [
       "<Figure size 640x480 with 2 Axes>"
      ]
     },
     "metadata": {},
     "output_type": "display_data"
    },
    {
     "name": "stdout",
     "output_type": "stream",
     "text": [
      "1218/1218 [==============================] - 0s 319us/step\n",
      "Accuracy: 0.839276087793608\n",
      "Recall: 0.8734223237936944\n",
      "Precision: 0.8147286821705426\n",
      "f1 score: 0.8430551725866693\n"
     ]
    }
   ],
   "source": [
    "modelo = keras.Sequential([\n",
    "    keras.layers.Dense(128, input_shape=(x_train_escalado_min_max.shape[1],), activation='relu', kernel_regularizer=keras.regularizers.l1_l2(l1=0.001, l2=0.001)),\n",
    "    keras.layers.Dropout(0.2),\n",
    "    keras.layers.Dense(1, activation='sigmoid')\n",
    "\n",
    "])\n",
    "\n",
    "modelo.compile(optimizer='adam',\n",
    "                loss='binary_crossentropy',\n",
    "                metrics=['accuracy'])\n",
    "\n",
    "modelo.fit(x_train_escalado_min_max, y_train, epochs=10)\n",
    "\n",
    "y_prediccion = modelo.predict(x_test_escalado_min_max)\n",
    "mostrar_scores(y_test, y_prediccion.round())\n",
    "\n",
    "tabla = confusion_matrix(y_test, y_prediccion.round())\n",
    "sns.heatmap(tabla, cmap='GnBu', annot=True, fmt='g')\n",
    "plt.title('Matriz de confusión')\n",
    "plt.xlabel('Predicted')\n",
    "plt.ylabel('True')\n",
    "plt.show()\n",
    "\n",
    "\n",
    "y_prediccion_train = modelo.predict(x_train_escalado_min_max)\n",
    "mostrar_scores(y_train, y_prediccion_train.round())"
   ]
  },
  {
   "cell_type": "markdown",
   "metadata": {},
   "source": [
    "Notamos la misma diferencia que en el caso anterior, confirmando la teoria que es la regularizacion."
   ]
  },
  {
   "cell_type": "markdown",
   "metadata": {},
   "source": [
    "### Red neuronal con batch normalization"
   ]
  },
  {
   "cell_type": "markdown",
   "metadata": {},
   "source": [
    "Esta nueva caracteristica, batch normalization, leimos que ayuda a mejorar la velocidad de convergencia y estabilidad del algortimo. "
   ]
  },
  {
   "cell_type": "code",
   "execution_count": 41,
   "metadata": {},
   "outputs": [
    {
     "name": "stdout",
     "output_type": "stream",
     "text": [
      "Epoch 1/10\n",
      "1218/1218 [==============================] - 1s 715us/step - loss: 0.6932 - accuracy: 0.8065\n",
      "Epoch 2/10\n",
      "1218/1218 [==============================] - 1s 673us/step - loss: 0.4592 - accuracy: 0.8191\n",
      "Epoch 3/10\n",
      "1218/1218 [==============================] - 1s 637us/step - loss: 0.4288 - accuracy: 0.8243\n",
      "Epoch 4/10\n",
      "1218/1218 [==============================] - 1s 671us/step - loss: 0.4142 - accuracy: 0.8307\n",
      "Epoch 5/10\n",
      "1218/1218 [==============================] - 1s 616us/step - loss: 0.4055 - accuracy: 0.8320\n",
      "Epoch 6/10\n",
      "1218/1218 [==============================] - 1s 617us/step - loss: 0.3996 - accuracy: 0.8315\n",
      "Epoch 7/10\n",
      "1218/1218 [==============================] - 1s 733us/step - loss: 0.3974 - accuracy: 0.8341\n",
      "Epoch 8/10\n",
      "1218/1218 [==============================] - 1s 620us/step - loss: 0.3968 - accuracy: 0.8338\n",
      "Epoch 9/10\n",
      "1218/1218 [==============================] - 1s 630us/step - loss: 0.3965 - accuracy: 0.8321\n",
      "Epoch 10/10\n",
      "1218/1218 [==============================] - 1s 670us/step - loss: 0.3964 - accuracy: 0.8323\n",
      "522/522 [==============================] - 0s 297us/step\n",
      "Accuracy: 0.8503743635819108\n",
      "Recall: 0.8337756332931242\n",
      "Precision: 0.8605577689243028\n",
      "f1 score: 0.8469550300208308\n"
     ]
    },
    {
     "data": {
      "image/png": "[encoded data removed]",
      "text/plain": [
       "<Figure size 640x480 with 2 Axes>"
      ]
     },
     "metadata": {},
     "output_type": "display_data"
    },
    {
     "name": "stdout",
     "output_type": "stream",
     "text": [
      "1218/1218 [==============================] - 0s 345us/step\n",
      "Accuracy: 0.8515979976896418\n",
      "Recall: 0.8383628525424609\n",
      "Precision: 0.858107389686337\n",
      "f1 score: 0.8481202217376455\n"
     ]
    }
   ],
   "source": [
    "modelo = keras.Sequential([\n",
    "\n",
    "    keras.layers.Dense(128, input_shape=(x_train_escalado_min_max.shape[1],), activation='relu', kernel_regularizer=keras.regularizers.l1_l2(l1=0.001, l2=0.001)),\n",
    "    keras.layers.BatchNormalization(),\n",
    "    keras.layers.Dropout(0.2),\n",
    "    keras.layers.Dense(1, activation='sigmoid')\n",
    "\n",
    "])\n",
    "\n",
    "modelo.compile(optimizer='adam',\n",
    "                loss='binary_crossentropy',\n",
    "                metrics=['accuracy'])\n",
    "\n",
    "modelo.fit(x_train_escalado_min_max, y_train, epochs=10)\n",
    "\n",
    "y_prediccion = modelo.predict(x_test_escalado_min_max)\n",
    "mostrar_scores(y_test, y_prediccion.round())\n",
    "\n",
    "tabla = confusion_matrix(y_test, y_prediccion.round())\n",
    "sns.heatmap(tabla, cmap='GnBu', annot=True, fmt='g')\n",
    "plt.title('Matriz de confusión')\n",
    "plt.xlabel('Predicted')\n",
    "plt.ylabel('True')\n",
    "plt.show()\n",
    "\n",
    "\n",
    "y_prediccion_train = modelo.predict(x_train_escalado_min_max)\n",
    "mostrar_scores(y_train, y_prediccion_train.round())"
   ]
  },
  {
   "cell_type": "markdown",
   "metadata": {},
   "source": [
    "Este es el primer caso donde la precision es mayor que el recall, mirando la matriz de confusion podemos observar tambien que nuestro modelo tiene a predecir mas casos negativos que positivos."
   ]
  },
  {
   "cell_type": "markdown",
   "metadata": {},
   "source": [
    "### Red neuronal con early stopping"
   ]
  },
  {
   "cell_type": "markdown",
   "metadata": {},
   "source": [
    "El early stopping es otro parametro para evitar el overfit. La idea de esto es que si el modelo no mejora despues de cierta cantidad de epochs, se detiene el entrenamiento."
   ]
  },
  {
   "cell_type": "code",
   "execution_count": 42,
   "metadata": {},
   "outputs": [
    {
     "name": "stdout",
     "output_type": "stream",
     "text": [
      "Epoch 1/10\n",
      "1191/1218 [============================>.] - ETA: 0s - loss: 0.6962 - accuracy: 0.8067WARNING:tensorflow:Early stopping conditioned on metric `val_loss` which is not available. Available metrics are: loss,accuracy\n",
      "1218/1218 [==============================] - 1s 637us/step - loss: 0.6917 - accuracy: 0.8068\n",
      "Epoch 2/10\n",
      "1214/1218 [============================>.] - ETA: 0s - loss: 0.4592 - accuracy: 0.8207WARNING:tensorflow:Early stopping conditioned on metric `val_loss` which is not available. Available metrics are: loss,accuracy\n",
      "1218/1218 [==============================] - 1s 749us/step - loss: 0.4592 - accuracy: 0.8206\n",
      "Epoch 3/10\n",
      "1168/1218 [===========================>..] - ETA: 0s - loss: 0.4344 - accuracy: 0.8221WARNING:tensorflow:Early stopping conditioned on metric `val_loss` which is not available. Available metrics are: loss,accuracy\n",
      "1218/1218 [==============================] - 1s 647us/step - loss: 0.4340 - accuracy: 0.8223\n",
      "Epoch 4/10\n",
      "1177/1218 [===========================>..] - ETA: 0s - loss: 0.4212 - accuracy: 0.8268WARNING:tensorflow:Early stopping conditioned on metric `val_loss` which is not available. Available metrics are: loss,accuracy\n",
      "1218/1218 [==============================] - 1s 642us/step - loss: 0.4205 - accuracy: 0.8274\n",
      "Epoch 5/10\n",
      "1194/1218 [============================>.] - ETA: 0s - loss: 0.4119 - accuracy: 0.8290WARNING:tensorflow:Early stopping conditioned on metric `val_loss` which is not available. Available metrics are: loss,accuracy\n",
      "1218/1218 [==============================] - 1s 634us/step - loss: 0.4126 - accuracy: 0.8285\n",
      "Epoch 6/10\n",
      "1168/1218 [===========================>..] - ETA: 0s - loss: 0.4058 - accuracy: 0.8283WARNING:tensorflow:Early stopping conditioned on metric `val_loss` which is not available. Available metrics are: loss,accuracy\n",
      "1218/1218 [==============================] - 1s 647us/step - loss: 0.4061 - accuracy: 0.8280\n",
      "Epoch 7/10\n",
      "1147/1218 [===========================>..] - ETA: 0s - loss: 0.4034 - accuracy: 0.8297WARNING:tensorflow:Early stopping conditioned on metric `val_loss` which is not available. Available metrics are: loss,accuracy\n",
      "1218/1218 [==============================] - 1s 616us/step - loss: 0.4036 - accuracy: 0.8295\n",
      "Epoch 8/10\n",
      "1149/1218 [===========================>..] - ETA: 0s - loss: 0.4031 - accuracy: 0.8315WARNING:tensorflow:Early stopping conditioned on metric `val_loss` which is not available. Available metrics are: loss,accuracy\n",
      "1218/1218 [==============================] - 1s 657us/step - loss: 0.4032 - accuracy: 0.8309\n",
      "Epoch 9/10\n",
      "1212/1218 [============================>.] - ETA: 0s - loss: 0.4017 - accuracy: 0.8297WARNING:tensorflow:Early stopping conditioned on metric `val_loss` which is not available. Available metrics are: loss,accuracy\n",
      "1218/1218 [==============================] - 1s 623us/step - loss: 0.4017 - accuracy: 0.8297\n",
      "Epoch 10/10\n",
      "1205/1218 [============================>.] - ETA: 0s - loss: 0.3977 - accuracy: 0.8330WARNING:tensorflow:Early stopping conditioned on metric `val_loss` which is not available. Available metrics are: loss,accuracy\n",
      "1218/1218 [==============================] - 1s 628us/step - loss: 0.3980 - accuracy: 0.8327\n",
      "522/522 [==============================] - 0s 306us/step\n",
      "Accuracy: 0.8476190476190476\n",
      "Recall: 0.8021712907117008\n",
      "Precision: 0.8803283028858883\n",
      "f1 score: 0.8394344862408482\n"
     ]
    },
    {
     "data": {
      "image/png": "[encoded data removed]",
      "text/plain": [
       "<Figure size 640x480 with 2 Axes>"
      ]
     },
     "metadata": {},
     "output_type": "display_data"
    },
    {
     "name": "stdout",
     "output_type": "stream",
     "text": [
      "1218/1218 [==============================] - 0s 377us/step\n",
      "Accuracy: 0.8467205750224618\n",
      "Recall: 0.8050693398431413\n",
      "Precision: 0.8748165707190427\n",
      "f1 score: 0.8384950366503476\n"
     ]
    }
   ],
   "source": [
    "modelo = keras.Sequential([\n",
    "    keras.layers.Dense(128, input_shape=(x_train_escalado_min_max.shape[1],), activation='relu', kernel_regularizer=keras.regularizers.l1_l2(l1=0.001, l2=0.001)),\n",
    "    keras.layers.BatchNormalization(),\n",
    "    keras.layers.Dropout(0.2),\n",
    "    keras.layers.Dense(1, activation='sigmoid')\n",
    "\n",
    "])\n",
    "\n",
    "modelo.compile(optimizer='adam',\n",
    "                loss='binary_crossentropy',\n",
    "                metrics=['accuracy'])\n",
    "\n",
    "early_stopping = keras.callbacks.EarlyStopping(\n",
    "    patience=10,\n",
    "    min_delta=0.001,\n",
    "    restore_best_weights=True,\n",
    ")\n",
    "\n",
    "modelo.fit(x_train_escalado_min_max, y_train, epochs=10, callbacks=[early_stopping])\n",
    "\n",
    "y_prediccion = modelo.predict(x_test_escalado_min_max)\n",
    "mostrar_scores(y_test, y_prediccion.round())\n",
    "\n",
    "tabla = confusion_matrix(y_test, y_prediccion.round())\n",
    "sns.heatmap(tabla, cmap='GnBu', annot=True, fmt='g')\n",
    "plt.title('Matriz de confusión')\n",
    "plt.xlabel('Predicted')\n",
    "plt.ylabel('True')\n",
    "plt.show()\n",
    "\n",
    "\n",
    "y_prediccion_train = modelo.predict(x_train_escalado_min_max)\n",
    "mostrar_scores(y_train, y_prediccion_train.round())"
   ]
  },
  {
   "cell_type": "markdown",
   "metadata": {},
   "source": [
    "Aqui podemos notar el mismo caso que el del modelo anterior pero aun mas acentuado, donde la precision es mucho mas alta que el recall."
   ]
  },
  {
   "cell_type": "markdown",
   "metadata": {},
   "source": [
    "### Red neuronal con learning rate"
   ]
  },
  {
   "cell_type": "markdown",
   "metadata": {},
   "source": [
    "Por ultimo, agregamos el learning rate el cual es clave para las redes neuronales. Este parametro es el que determina el tamaño del paso que se da en cada iteracion mientras se busca un minimo de la funcion de perdida. Si el learning rate es muy pequeño, el entrenamiento va a ser muy lento. Si el learning rate es muy grande, el entrenamiento puede no converger o incluso diverger."
   ]
  },
  {
   "cell_type": "code",
   "execution_count": 165,
   "metadata": {},
   "outputs": [
    {
     "name": "stdout",
     "output_type": "stream",
     "text": [
      "Epoch 1/20\n",
      "1218/1218 [==============================] - 1s 640us/step - loss: 0.6825 - accuracy: 0.8073\n",
      "Epoch 2/20\n",
      "1218/1218 [==============================] - 1s 636us/step - loss: 0.4532 - accuracy: 0.8217\n",
      "Epoch 3/20\n",
      "1218/1218 [==============================] - 1s 622us/step - loss: 0.4283 - accuracy: 0.8238\n",
      "Epoch 4/20\n",
      "1218/1218 [==============================] - 1s 667us/step - loss: 0.4139 - accuracy: 0.8292\n",
      "Epoch 5/20\n",
      "1218/1218 [==============================] - 1s 628us/step - loss: 0.4095 - accuracy: 0.8285\n",
      "Epoch 6/20\n",
      "1218/1218 [==============================] - 1s 642us/step - loss: 0.4026 - accuracy: 0.8287\n",
      "Epoch 7/20\n",
      "1218/1218 [==============================] - 1s 617us/step - loss: 0.3983 - accuracy: 0.8323\n",
      "Epoch 8/20\n",
      "1218/1218 [==============================] - 1s 727us/step - loss: 0.3979 - accuracy: 0.8318\n",
      "Epoch 9/20\n",
      "1218/1218 [==============================] - 1s 682us/step - loss: 0.3961 - accuracy: 0.8333\n",
      "Epoch 10/20\n",
      "1218/1218 [==============================] - 1s 620us/step - loss: 0.3971 - accuracy: 0.8314\n",
      "Epoch 11/20\n",
      "1218/1218 [==============================] - 1s 617us/step - loss: 0.3982 - accuracy: 0.8309\n",
      "Epoch 12/20\n",
      "1218/1218 [==============================] - 1s 670us/step - loss: 0.3958 - accuracy: 0.8309\n",
      "Epoch 13/20\n",
      "1218/1218 [==============================] - 1s 657us/step - loss: 0.3948 - accuracy: 0.8355\n",
      "Epoch 14/20\n",
      "1218/1218 [==============================] - 1s 619us/step - loss: 0.3926 - accuracy: 0.8327\n",
      "Epoch 15/20\n",
      "1218/1218 [==============================] - 1s 666us/step - loss: 0.3917 - accuracy: 0.8344\n",
      "Epoch 16/20\n",
      "1218/1218 [==============================] - 1s 640us/step - loss: 0.3934 - accuracy: 0.8355\n",
      "Epoch 17/20\n",
      "1218/1218 [==============================] - 1s 645us/step - loss: 0.3940 - accuracy: 0.8352\n",
      "Epoch 18/20\n",
      "1218/1218 [==============================] - 1s 629us/step - loss: 0.3951 - accuracy: 0.8320\n",
      "Epoch 19/20\n",
      "1218/1218 [==============================] - 1s 645us/step - loss: 0.3931 - accuracy: 0.8320\n",
      "Epoch 20/20\n",
      "1218/1218 [==============================] - 1s 656us/step - loss: 0.3913 - accuracy: 0.8341\n",
      "522/522 [==============================] - 0s 316us/step\n",
      "Accuracy: 0.8492961964660077\n",
      "Recall: 0.8708082026537998\n",
      "Precision: 0.8332179132040628\n",
      "f1 score: 0.8515984428453461\n"
     ]
    },
    {
     "data": {
      "image/png": "[encoded data removed]",
      "text/plain": [
       "<Figure size 640x480 with 2 Axes>"
      ]
     },
     "metadata": {},
     "output_type": "display_data"
    },
    {
     "name": "stdout",
     "output_type": "stream",
     "text": [
      "1218/1218 [==============================] - 0s 312us/step\n",
      "Accuracy: 0.8515979976896418\n",
      "Recall: 0.8772658806419779\n",
      "Precision: 0.8316919440614536\n",
      "f1 score: 0.8538712368241449\n"
     ]
    }
   ],
   "source": [
    "modelo = keras.Sequential([\n",
    "    keras.layers.Dense(128, input_shape=(x_train_escalado_min_max.shape[1],), activation='relu', kernel_regularizer=keras.regularizers.l1_l2(l1=0.001, l2=0.001)),\n",
    "    keras.layers.BatchNormalization(),\n",
    "    keras.layers.Dropout(0.2),\n",
    "    keras.layers.Dense(1, activation='sigmoid')\n",
    "\n",
    "])\n",
    "\n",
    "modelo.compile(optimizer=keras.optimizers.legacy.Adam(learning_rate=0.001),\n",
    "                loss='binary_crossentropy',\n",
    "                metrics=['accuracy'])\n",
    "\n",
    "modelo.fit(x_train_escalado_min_max, y_train, epochs=20)\n",
    "\n",
    "y_prediccion = modelo.predict(x_test_escalado_min_max)\n",
    "mostrar_scores(y_test, y_prediccion.round())\n",
    "\n",
    "tabla = confusion_matrix(y_test, y_prediccion.round())\n",
    "sns.heatmap(tabla, cmap='GnBu', annot=True, fmt='g')\n",
    "plt.title('Matriz de confusión')\n",
    "plt.xlabel('Predicted')\n",
    "plt.ylabel('True')\n",
    "plt.show()\n",
    "\n",
    "y_prediccion_train = modelo.predict(x_train_escalado_min_max)\n",
    "mostrar_scores(y_train, y_prediccion_train.round())"
   ]
  },
  {
   "cell_type": "markdown",
   "metadata": {},
   "source": [
    "Aqui volvemos al caso inverso, donde no solo el recall es mayor, sino que tambien  hay mas casos en general catalogados como cancelados"
   ]
  },
  {
   "cell_type": "markdown",
   "metadata": {},
   "source": [
    "Con esto podemos observar como el loss va disminuyendo a medida que pasan los epochs."
   ]
  },
  {
   "cell_type": "code",
   "execution_count": 122,
   "metadata": {},
   "outputs": [
    {
     "name": "stdout",
     "output_type": "stream",
     "text": [
      "Epoch 1/50\n",
      "1181/1218 [============================>.] - ETA: 0s - loss: 0.4926 - accuracy: 0.7990WARNING:tensorflow:Early stopping conditioned on metric `val_loss` which is not available. Available metrics are: loss,accuracy\n"
     ]
    },
    {
     "name": "stderr",
     "output_type": "stream",
     "text": [
      "WARNING:tensorflow:Early stopping conditioned on metric `val_loss` which is not available. Available metrics are: loss,accuracy\n"
     ]
    },
    {
     "name": "stdout",
     "output_type": "stream",
     "text": [
      "1218/1218 [==============================] - 1s 640us/step - loss: 0.4937 - accuracy: 0.7980\n",
      "Epoch 2/50\n",
      "1194/1218 [============================>.] - ETA: 0s - loss: 0.4922 - accuracy: 0.7993WARNING:tensorflow:Early stopping conditioned on metric `val_loss` which is not available. Available metrics are: loss,accuracy\n"
     ]
    },
    {
     "name": "stderr",
     "output_type": "stream",
     "text": [
      "WARNING:tensorflow:Early stopping conditioned on metric `val_loss` which is not available. Available metrics are: loss,accuracy\n"
     ]
    },
    {
     "name": "stdout",
     "output_type": "stream",
     "text": [
      "1218/1218 [==============================] - 1s 723us/step - loss: 0.4921 - accuracy: 0.7991\n",
      "Epoch 3/50\n",
      "1200/1218 [============================>.] - ETA: 0s - loss: 0.4912 - accuracy: 0.7981WARNING:tensorflow:Early stopping conditioned on metric `val_loss` which is not available. Available metrics are: loss,accuracy\n"
     ]
    },
    {
     "name": "stderr",
     "output_type": "stream",
     "text": [
      "WARNING:tensorflow:Early stopping conditioned on metric `val_loss` which is not available. Available metrics are: loss,accuracy\n"
     ]
    },
    {
     "name": "stdout",
     "output_type": "stream",
     "text": [
      "1218/1218 [==============================] - 1s 795us/step - loss: 0.4908 - accuracy: 0.7984\n",
      "Epoch 4/50\n",
      "1141/1218 [===========================>..] - ETA: 0s - loss: 0.4928 - accuracy: 0.7996WARNING:tensorflow:Early stopping conditioned on metric `val_loss` which is not available. Available metrics are: loss,accuracy\n"
     ]
    },
    {
     "name": "stderr",
     "output_type": "stream",
     "text": [
      "WARNING:tensorflow:Early stopping conditioned on metric `val_loss` which is not available. Available metrics are: loss,accuracy\n"
     ]
    },
    {
     "name": "stdout",
     "output_type": "stream",
     "text": [
      "1218/1218 [==============================] - 1s 762us/step - loss: 0.4914 - accuracy: 0.8002\n",
      "Epoch 5/50\n",
      "1162/1218 [===========================>..] - ETA: 0s - loss: 0.4877 - accuracy: 0.8028WARNING:tensorflow:Early stopping conditioned on metric `val_loss` which is not available. Available metrics are: loss,accuracy\n"
     ]
    },
    {
     "name": "stderr",
     "output_type": "stream",
     "text": [
      "WARNING:tensorflow:Early stopping conditioned on metric `val_loss` which is not available. Available metrics are: loss,accuracy\n"
     ]
    },
    {
     "name": "stdout",
     "output_type": "stream",
     "text": [
      "1218/1218 [==============================] - 1s 785us/step - loss: 0.4890 - accuracy: 0.8020\n",
      "Epoch 6/50\n",
      "1160/1218 [===========================>..] - ETA: 0s - loss: 0.4883 - accuracy: 0.8000WARNING:tensorflow:Early stopping conditioned on metric `val_loss` which is not available. Available metrics are: loss,accuracy\n"
     ]
    },
    {
     "name": "stderr",
     "output_type": "stream",
     "text": [
      "WARNING:tensorflow:Early stopping conditioned on metric `val_loss` which is not available. Available metrics are: loss,accuracy\n"
     ]
    },
    {
     "name": "stdout",
     "output_type": "stream",
     "text": [
      "1218/1218 [==============================] - 1s 652us/step - loss: 0.4888 - accuracy: 0.7995\n",
      "Epoch 7/50\n",
      "1216/1218 [============================>.] - ETA: 0s - loss: 0.4853 - accuracy: 0.8011WARNING:tensorflow:Early stopping conditioned on metric `val_loss` which is not available. Available metrics are: loss,accuracy\n"
     ]
    },
    {
     "name": "stderr",
     "output_type": "stream",
     "text": [
      "WARNING:tensorflow:Early stopping conditioned on metric `val_loss` which is not available. Available metrics are: loss,accuracy\n"
     ]
    },
    {
     "name": "stdout",
     "output_type": "stream",
     "text": [
      "1218/1218 [==============================] - 1s 664us/step - loss: 0.4854 - accuracy: 0.8010\n",
      "Epoch 8/50\n",
      "1212/1218 [============================>.] - ETA: 0s - loss: 0.4892 - accuracy: 0.8000WARNING:tensorflow:Early stopping conditioned on metric `val_loss` which is not available. Available metrics are: loss,accuracy\n"
     ]
    },
    {
     "name": "stderr",
     "output_type": "stream",
     "text": [
      "WARNING:tensorflow:Early stopping conditioned on metric `val_loss` which is not available. Available metrics are: loss,accuracy\n"
     ]
    },
    {
     "name": "stdout",
     "output_type": "stream",
     "text": [
      "1218/1218 [==============================] - 1s 794us/step - loss: 0.4894 - accuracy: 0.7999\n",
      "Epoch 9/50\n",
      "1208/1218 [============================>.] - ETA: 0s - loss: 0.4862 - accuracy: 0.8025WARNING:tensorflow:Early stopping conditioned on metric `val_loss` which is not available. Available metrics are: loss,accuracy\n"
     ]
    },
    {
     "name": "stderr",
     "output_type": "stream",
     "text": [
      "WARNING:tensorflow:Early stopping conditioned on metric `val_loss` which is not available. Available metrics are: loss,accuracy\n"
     ]
    },
    {
     "name": "stdout",
     "output_type": "stream",
     "text": [
      "1218/1218 [==============================] - 1s 670us/step - loss: 0.4861 - accuracy: 0.8025\n",
      "Epoch 10/50\n",
      "1191/1218 [============================>.] - ETA: 0s - loss: 0.4891 - accuracy: 0.7985WARNING:tensorflow:Early stopping conditioned on metric `val_loss` which is not available. Available metrics are: loss,accuracy\n"
     ]
    },
    {
     "name": "stderr",
     "output_type": "stream",
     "text": [
      "WARNING:tensorflow:Early stopping conditioned on metric `val_loss` which is not available. Available metrics are: loss,accuracy\n"
     ]
    },
    {
     "name": "stdout",
     "output_type": "stream",
     "text": [
      "1218/1218 [==============================] - 1s 725us/step - loss: 0.4891 - accuracy: 0.7984\n",
      "Epoch 11/50\n",
      "1216/1218 [============================>.] - ETA: 0s - loss: 0.4874 - accuracy: 0.7987WARNING:tensorflow:Early stopping conditioned on metric `val_loss` which is not available. Available metrics are: loss,accuracy\n"
     ]
    },
    {
     "name": "stderr",
     "output_type": "stream",
     "text": [
      "WARNING:tensorflow:Early stopping conditioned on metric `val_loss` which is not available. Available metrics are: loss,accuracy\n"
     ]
    },
    {
     "name": "stdout",
     "output_type": "stream",
     "text": [
      "1218/1218 [==============================] - 1s 708us/step - loss: 0.4875 - accuracy: 0.7987\n",
      "Epoch 12/50\n",
      "1200/1218 [============================>.] - ETA: 0s - loss: 0.4917 - accuracy: 0.7967WARNING:tensorflow:Early stopping conditioned on metric `val_loss` which is not available. Available metrics are: loss,accuracy\n"
     ]
    },
    {
     "name": "stderr",
     "output_type": "stream",
     "text": [
      "WARNING:tensorflow:Early stopping conditioned on metric `val_loss` which is not available. Available metrics are: loss,accuracy\n"
     ]
    },
    {
     "name": "stdout",
     "output_type": "stream",
     "text": [
      "1218/1218 [==============================] - 1s 635us/step - loss: 0.4914 - accuracy: 0.7968\n",
      "Epoch 13/50\n",
      "1171/1218 [===========================>..] - ETA: 0s - loss: 0.4869 - accuracy: 0.7976WARNING:tensorflow:Early stopping conditioned on metric `val_loss` which is not available. Available metrics are: loss,accuracy\n"
     ]
    },
    {
     "name": "stderr",
     "output_type": "stream",
     "text": [
      "WARNING:tensorflow:Early stopping conditioned on metric `val_loss` which is not available. Available metrics are: loss,accuracy\n"
     ]
    },
    {
     "name": "stdout",
     "output_type": "stream",
     "text": [
      "1218/1218 [==============================] - 1s 698us/step - loss: 0.4872 - accuracy: 0.7977\n",
      "Epoch 14/50\n",
      "1148/1218 [===========================>..] - ETA: 0s - loss: 0.4872 - accuracy: 0.8029WARNING:tensorflow:Early stopping conditioned on metric `val_loss` which is not available. Available metrics are: loss,accuracy\n"
     ]
    },
    {
     "name": "stderr",
     "output_type": "stream",
     "text": [
      "WARNING:tensorflow:Early stopping conditioned on metric `val_loss` which is not available. Available metrics are: loss,accuracy\n"
     ]
    },
    {
     "name": "stdout",
     "output_type": "stream",
     "text": [
      "1218/1218 [==============================] - 1s 659us/step - loss: 0.4864 - accuracy: 0.8035\n",
      "Epoch 15/50\n",
      "1208/1218 [============================>.] - ETA: 0s - loss: 0.4853 - accuracy: 0.8011WARNING:tensorflow:Early stopping conditioned on metric `val_loss` which is not available. Available metrics are: loss,accuracy\n"
     ]
    },
    {
     "name": "stderr",
     "output_type": "stream",
     "text": [
      "WARNING:tensorflow:Early stopping conditioned on metric `val_loss` which is not available. Available metrics are: loss,accuracy\n"
     ]
    },
    {
     "name": "stdout",
     "output_type": "stream",
     "text": [
      "1218/1218 [==============================] - 1s 627us/step - loss: 0.4853 - accuracy: 0.8011\n",
      "Epoch 16/50\n",
      "1166/1218 [===========================>..] - ETA: 0s - loss: 0.4879 - accuracy: 0.7999WARNING:tensorflow:Early stopping conditioned on metric `val_loss` which is not available. Available metrics are: loss,accuracy\n"
     ]
    },
    {
     "name": "stderr",
     "output_type": "stream",
     "text": [
      "WARNING:tensorflow:Early stopping conditioned on metric `val_loss` which is not available. Available metrics are: loss,accuracy\n"
     ]
    },
    {
     "name": "stdout",
     "output_type": "stream",
     "text": [
      "1218/1218 [==============================] - 1s 647us/step - loss: 0.4876 - accuracy: 0.7997\n",
      "Epoch 17/50\n",
      "1175/1218 [===========================>..] - ETA: 0s - loss: 0.4865 - accuracy: 0.8003WARNING:tensorflow:Early stopping conditioned on metric `val_loss` which is not available. Available metrics are: loss,accuracy\n"
     ]
    },
    {
     "name": "stderr",
     "output_type": "stream",
     "text": [
      "WARNING:tensorflow:Early stopping conditioned on metric `val_loss` which is not available. Available metrics are: loss,accuracy\n"
     ]
    },
    {
     "name": "stdout",
     "output_type": "stream",
     "text": [
      "1218/1218 [==============================] - 1s 600us/step - loss: 0.4870 - accuracy: 0.8001\n",
      "Epoch 18/50\n",
      "1186/1218 [============================>.] - ETA: 0s - loss: 0.4869 - accuracy: 0.7995WARNING:tensorflow:Early stopping conditioned on metric `val_loss` which is not available. Available metrics are: loss,accuracy\n"
     ]
    },
    {
     "name": "stderr",
     "output_type": "stream",
     "text": [
      "WARNING:tensorflow:Early stopping conditioned on metric `val_loss` which is not available. Available metrics are: loss,accuracy\n"
     ]
    },
    {
     "name": "stdout",
     "output_type": "stream",
     "text": [
      "1218/1218 [==============================] - 1s 636us/step - loss: 0.4876 - accuracy: 0.7994\n",
      "Epoch 19/50\n",
      "1174/1218 [===========================>..] - ETA: 0s - loss: 0.4930 - accuracy: 0.7997WARNING:tensorflow:Early stopping conditioned on metric `val_loss` which is not available. Available metrics are: loss,accuracy\n"
     ]
    },
    {
     "name": "stderr",
     "output_type": "stream",
     "text": [
      "WARNING:tensorflow:Early stopping conditioned on metric `val_loss` which is not available. Available metrics are: loss,accuracy\n"
     ]
    },
    {
     "name": "stdout",
     "output_type": "stream",
     "text": [
      "1218/1218 [==============================] - 1s 601us/step - loss: 0.4926 - accuracy: 0.8000\n",
      "Epoch 20/50\n",
      "1139/1218 [===========================>..] - ETA: 0s - loss: 0.4871 - accuracy: 0.7986WARNING:tensorflow:Early stopping conditioned on metric `val_loss` which is not available. Available metrics are: loss,accuracy\n"
     ]
    },
    {
     "name": "stderr",
     "output_type": "stream",
     "text": [
      "WARNING:tensorflow:Early stopping conditioned on metric `val_loss` which is not available. Available metrics are: loss,accuracy\n"
     ]
    },
    {
     "name": "stdout",
     "output_type": "stream",
     "text": [
      "1218/1218 [==============================] - 1s 660us/step - loss: 0.4866 - accuracy: 0.7990\n",
      "Epoch 21/50\n",
      "1182/1218 [============================>.] - ETA: 0s - loss: 0.4880 - accuracy: 0.8023WARNING:tensorflow:Early stopping conditioned on metric `val_loss` which is not available. Available metrics are: loss,accuracy\n"
     ]
    },
    {
     "name": "stderr",
     "output_type": "stream",
     "text": [
      "WARNING:tensorflow:Early stopping conditioned on metric `val_loss` which is not available. Available metrics are: loss,accuracy\n"
     ]
    },
    {
     "name": "stdout",
     "output_type": "stream",
     "text": [
      "1218/1218 [==============================] - 1s 639us/step - loss: 0.4875 - accuracy: 0.8028\n",
      "Epoch 22/50\n",
      "1150/1218 [===========================>..] - ETA: 0s - loss: 0.4911 - accuracy: 0.7985WARNING:tensorflow:Early stopping conditioned on metric `val_loss` which is not available. Available metrics are: loss,accuracy\n"
     ]
    },
    {
     "name": "stderr",
     "output_type": "stream",
     "text": [
      "WARNING:tensorflow:Early stopping conditioned on metric `val_loss` which is not available. Available metrics are: loss,accuracy\n"
     ]
    },
    {
     "name": "stdout",
     "output_type": "stream",
     "text": [
      "1218/1218 [==============================] - 1s 614us/step - loss: 0.4917 - accuracy: 0.7979\n",
      "Epoch 23/50\n",
      "1164/1218 [===========================>..] - ETA: 0s - loss: 0.4880 - accuracy: 0.7966WARNING:tensorflow:Early stopping conditioned on metric `val_loss` which is not available. Available metrics are: loss,accuracy\n"
     ]
    },
    {
     "name": "stderr",
     "output_type": "stream",
     "text": [
      "WARNING:tensorflow:Early stopping conditioned on metric `val_loss` which is not available. Available metrics are: loss,accuracy\n"
     ]
    },
    {
     "name": "stdout",
     "output_type": "stream",
     "text": [
      "1218/1218 [==============================] - 1s 606us/step - loss: 0.4877 - accuracy: 0.7966\n",
      "Epoch 24/50\n",
      "1168/1218 [===========================>..] - ETA: 0s - loss: 0.4832 - accuracy: 0.7977WARNING:tensorflow:Early stopping conditioned on metric `val_loss` which is not available. Available metrics are: loss,accuracy\n"
     ]
    },
    {
     "name": "stderr",
     "output_type": "stream",
     "text": [
      "WARNING:tensorflow:Early stopping conditioned on metric `val_loss` which is not available. Available metrics are: loss,accuracy\n"
     ]
    },
    {
     "name": "stdout",
     "output_type": "stream",
     "text": [
      "1218/1218 [==============================] - 1s 604us/step - loss: 0.4832 - accuracy: 0.7977\n",
      "Epoch 25/50\n",
      "1201/1218 [============================>.] - ETA: 0s - loss: 0.4864 - accuracy: 0.7960WARNING:tensorflow:Early stopping conditioned on metric `val_loss` which is not available. Available metrics are: loss,accuracy\n"
     ]
    },
    {
     "name": "stderr",
     "output_type": "stream",
     "text": [
      "WARNING:tensorflow:Early stopping conditioned on metric `val_loss` which is not available. Available metrics are: loss,accuracy\n"
     ]
    },
    {
     "name": "stdout",
     "output_type": "stream",
     "text": [
      "1218/1218 [==============================] - 1s 805us/step - loss: 0.4861 - accuracy: 0.7961\n",
      "Epoch 26/50\n",
      "1188/1218 [============================>.] - ETA: 0s - loss: 0.4916 - accuracy: 0.7945WARNING:tensorflow:Early stopping conditioned on metric `val_loss` which is not available. Available metrics are: loss,accuracy\n"
     ]
    },
    {
     "name": "stderr",
     "output_type": "stream",
     "text": [
      "WARNING:tensorflow:Early stopping conditioned on metric `val_loss` which is not available. Available metrics are: loss,accuracy\n"
     ]
    },
    {
     "name": "stdout",
     "output_type": "stream",
     "text": [
      "1218/1218 [==============================] - 1s 762us/step - loss: 0.4911 - accuracy: 0.7949\n",
      "Epoch 27/50\n",
      "1148/1218 [===========================>..] - ETA: 0s - loss: 0.4834 - accuracy: 0.8004WARNING:tensorflow:Early stopping conditioned on metric `val_loss` which is not available. Available metrics are: loss,accuracy\n"
     ]
    },
    {
     "name": "stderr",
     "output_type": "stream",
     "text": [
      "WARNING:tensorflow:Early stopping conditioned on metric `val_loss` which is not available. Available metrics are: loss,accuracy\n"
     ]
    },
    {
     "name": "stdout",
     "output_type": "stream",
     "text": [
      "1218/1218 [==============================] - 1s 702us/step - loss: 0.4848 - accuracy: 0.7993\n",
      "Epoch 28/50\n",
      "1214/1218 [============================>.] - ETA: 0s - loss: 0.4844 - accuracy: 0.7949WARNING:tensorflow:Early stopping conditioned on metric `val_loss` which is not available. Available metrics are: loss,accuracy\n"
     ]
    },
    {
     "name": "stderr",
     "output_type": "stream",
     "text": [
      "WARNING:tensorflow:Early stopping conditioned on metric `val_loss` which is not available. Available metrics are: loss,accuracy\n"
     ]
    },
    {
     "name": "stdout",
     "output_type": "stream",
     "text": [
      "1218/1218 [==============================] - 1s 749us/step - loss: 0.4842 - accuracy: 0.7951\n",
      "Epoch 29/50\n",
      "1174/1218 [===========================>..] - ETA: 0s - loss: 0.4851 - accuracy: 0.7951WARNING:tensorflow:Early stopping conditioned on metric `val_loss` which is not available. Available metrics are: loss,accuracy\n"
     ]
    },
    {
     "name": "stderr",
     "output_type": "stream",
     "text": [
      "WARNING:tensorflow:Early stopping conditioned on metric `val_loss` which is not available. Available metrics are: loss,accuracy\n"
     ]
    },
    {
     "name": "stdout",
     "output_type": "stream",
     "text": [
      "1218/1218 [==============================] - 1s 643us/step - loss: 0.4845 - accuracy: 0.7952\n",
      "Epoch 30/50\n",
      "1193/1218 [============================>.] - ETA: 0s - loss: 0.4878 - accuracy: 0.7931WARNING:tensorflow:Early stopping conditioned on metric `val_loss` which is not available. Available metrics are: loss,accuracy\n"
     ]
    },
    {
     "name": "stderr",
     "output_type": "stream",
     "text": [
      "WARNING:tensorflow:Early stopping conditioned on metric `val_loss` which is not available. Available metrics are: loss,accuracy\n"
     ]
    },
    {
     "name": "stdout",
     "output_type": "stream",
     "text": [
      "1218/1218 [==============================] - 1s 678us/step - loss: 0.4878 - accuracy: 0.7932\n",
      "Epoch 31/50\n",
      "1214/1218 [============================>.] - ETA: 0s - loss: 0.4870 - accuracy: 0.7967WARNING:tensorflow:Early stopping conditioned on metric `val_loss` which is not available. Available metrics are: loss,accuracy\n"
     ]
    },
    {
     "name": "stderr",
     "output_type": "stream",
     "text": [
      "WARNING:tensorflow:Early stopping conditioned on metric `val_loss` which is not available. Available metrics are: loss,accuracy\n"
     ]
    },
    {
     "name": "stdout",
     "output_type": "stream",
     "text": [
      "1218/1218 [==============================] - 1s 878us/step - loss: 0.4873 - accuracy: 0.7965\n",
      "Epoch 32/50\n",
      "1157/1218 [===========================>..] - ETA: 0s - loss: 0.4903 - accuracy: 0.7942WARNING:tensorflow:Early stopping conditioned on metric `val_loss` which is not available. Available metrics are: loss,accuracy\n"
     ]
    },
    {
     "name": "stderr",
     "output_type": "stream",
     "text": [
      "WARNING:tensorflow:Early stopping conditioned on metric `val_loss` which is not available. Available metrics are: loss,accuracy\n"
     ]
    },
    {
     "name": "stdout",
     "output_type": "stream",
     "text": [
      "1218/1218 [==============================] - 1s 742us/step - loss: 0.4898 - accuracy: 0.7942\n",
      "Epoch 33/50\n",
      "1158/1218 [===========================>..] - ETA: 0s - loss: 0.4842 - accuracy: 0.7980WARNING:tensorflow:Early stopping conditioned on metric `val_loss` which is not available. Available metrics are: loss,accuracy\n"
     ]
    },
    {
     "name": "stderr",
     "output_type": "stream",
     "text": [
      "WARNING:tensorflow:Early stopping conditioned on metric `val_loss` which is not available. Available metrics are: loss,accuracy\n"
     ]
    },
    {
     "name": "stdout",
     "output_type": "stream",
     "text": [
      "1218/1218 [==============================] - 1s 655us/step - loss: 0.4843 - accuracy: 0.7979\n",
      "Epoch 34/50\n",
      "1178/1218 [============================>.] - ETA: 0s - loss: 0.4884 - accuracy: 0.7963WARNING:tensorflow:Early stopping conditioned on metric `val_loss` which is not available. Available metrics are: loss,accuracy\n"
     ]
    },
    {
     "name": "stderr",
     "output_type": "stream",
     "text": [
      "WARNING:tensorflow:Early stopping conditioned on metric `val_loss` which is not available. Available metrics are: loss,accuracy\n"
     ]
    },
    {
     "name": "stdout",
     "output_type": "stream",
     "text": [
      "1218/1218 [==============================] - 1s 781us/step - loss: 0.4884 - accuracy: 0.7964\n",
      "Epoch 35/50\n",
      "1190/1218 [============================>.] - ETA: 0s - loss: 0.4858 - accuracy: 0.7973WARNING:tensorflow:Early stopping conditioned on metric `val_loss` which is not available. Available metrics are: loss,accuracy\n"
     ]
    },
    {
     "name": "stderr",
     "output_type": "stream",
     "text": [
      "WARNING:tensorflow:Early stopping conditioned on metric `val_loss` which is not available. Available metrics are: loss,accuracy\n"
     ]
    },
    {
     "name": "stdout",
     "output_type": "stream",
     "text": [
      "1218/1218 [==============================] - 1s 679us/step - loss: 0.4850 - accuracy: 0.7976\n",
      "Epoch 36/50\n",
      "1195/1218 [============================>.] - ETA: 0s - loss: 0.4851 - accuracy: 0.7953WARNING:tensorflow:Early stopping conditioned on metric `val_loss` which is not available. Available metrics are: loss,accuracy\n"
     ]
    },
    {
     "name": "stderr",
     "output_type": "stream",
     "text": [
      "WARNING:tensorflow:Early stopping conditioned on metric `val_loss` which is not available. Available metrics are: loss,accuracy\n"
     ]
    },
    {
     "name": "stdout",
     "output_type": "stream",
     "text": [
      "1218/1218 [==============================] - 1s 820us/step - loss: 0.4849 - accuracy: 0.7954\n",
      "Epoch 37/50\n",
      "1210/1218 [============================>.] - ETA: 0s - loss: 0.4883 - accuracy: 0.7947WARNING:tensorflow:Early stopping conditioned on metric `val_loss` which is not available. Available metrics are: loss,accuracy\n"
     ]
    },
    {
     "name": "stderr",
     "output_type": "stream",
     "text": [
      "WARNING:tensorflow:Early stopping conditioned on metric `val_loss` which is not available. Available metrics are: loss,accuracy\n"
     ]
    },
    {
     "name": "stdout",
     "output_type": "stream",
     "text": [
      "1218/1218 [==============================] - 1s 754us/step - loss: 0.4881 - accuracy: 0.7947\n",
      "Epoch 38/50\n",
      "1153/1218 [===========================>..] - ETA: 0s - loss: 0.4871 - accuracy: 0.7923WARNING:tensorflow:Early stopping conditioned on metric `val_loss` which is not available. Available metrics are: loss,accuracy\n"
     ]
    },
    {
     "name": "stderr",
     "output_type": "stream",
     "text": [
      "WARNING:tensorflow:Early stopping conditioned on metric `val_loss` which is not available. Available metrics are: loss,accuracy\n"
     ]
    },
    {
     "name": "stdout",
     "output_type": "stream",
     "text": [
      "1218/1218 [==============================] - 1s 702us/step - loss: 0.4875 - accuracy: 0.7926\n",
      "Epoch 39/50\n",
      "1164/1218 [===========================>..] - ETA: 0s - loss: 0.4869 - accuracy: 0.7944WARNING:tensorflow:Early stopping conditioned on metric `val_loss` which is not available. Available metrics are: loss,accuracy\n"
     ]
    },
    {
     "name": "stderr",
     "output_type": "stream",
     "text": [
      "WARNING:tensorflow:Early stopping conditioned on metric `val_loss` which is not available. Available metrics are: loss,accuracy\n"
     ]
    },
    {
     "name": "stdout",
     "output_type": "stream",
     "text": [
      "1218/1218 [==============================] - 1s 749us/step - loss: 0.4870 - accuracy: 0.7946\n",
      "Epoch 40/50\n",
      "1142/1218 [===========================>..] - ETA: 0s - loss: 0.4871 - accuracy: 0.7955WARNING:tensorflow:Early stopping conditioned on metric `val_loss` which is not available. Available metrics are: loss,accuracy\n"
     ]
    },
    {
     "name": "stderr",
     "output_type": "stream",
     "text": [
      "WARNING:tensorflow:Early stopping conditioned on metric `val_loss` which is not available. Available metrics are: loss,accuracy\n"
     ]
    },
    {
     "name": "stdout",
     "output_type": "stream",
     "text": [
      "1218/1218 [==============================] - 1s 705us/step - loss: 0.4873 - accuracy: 0.7962\n",
      "Epoch 41/50\n",
      "1202/1218 [============================>.] - ETA: 0s - loss: 0.4894 - accuracy: 0.7971WARNING:tensorflow:Early stopping conditioned on metric `val_loss` which is not available. Available metrics are: loss,accuracy\n"
     ]
    },
    {
     "name": "stderr",
     "output_type": "stream",
     "text": [
      "WARNING:tensorflow:Early stopping conditioned on metric `val_loss` which is not available. Available metrics are: loss,accuracy\n"
     ]
    },
    {
     "name": "stdout",
     "output_type": "stream",
     "text": [
      "1218/1218 [==============================] - 1s 672us/step - loss: 0.4895 - accuracy: 0.7973\n",
      "Epoch 42/50\n",
      "1162/1218 [===========================>..] - ETA: 0s - loss: 0.4885 - accuracy: 0.7978WARNING:tensorflow:Early stopping conditioned on metric `val_loss` which is not available. Available metrics are: loss,accuracy\n"
     ]
    },
    {
     "name": "stderr",
     "output_type": "stream",
     "text": [
      "WARNING:tensorflow:Early stopping conditioned on metric `val_loss` which is not available. Available metrics are: loss,accuracy\n"
     ]
    },
    {
     "name": "stdout",
     "output_type": "stream",
     "text": [
      "1218/1218 [==============================] - 1s 693us/step - loss: 0.4884 - accuracy: 0.7984\n",
      "Epoch 43/50\n",
      "1174/1218 [===========================>..] - ETA: 0s - loss: 0.4883 - accuracy: 0.7982WARNING:tensorflow:Early stopping conditioned on metric `val_loss` which is not available. Available metrics are: loss,accuracy\n"
     ]
    },
    {
     "name": "stderr",
     "output_type": "stream",
     "text": [
      "WARNING:tensorflow:Early stopping conditioned on metric `val_loss` which is not available. Available metrics are: loss,accuracy\n"
     ]
    },
    {
     "name": "stdout",
     "output_type": "stream",
     "text": [
      "1218/1218 [==============================] - 1s 643us/step - loss: 0.4880 - accuracy: 0.7985\n",
      "Epoch 44/50\n",
      "1201/1218 [============================>.] - ETA: 0s - loss: 0.4873 - accuracy: 0.7974WARNING:tensorflow:Early stopping conditioned on metric `val_loss` which is not available. Available metrics are: loss,accuracy\n"
     ]
    },
    {
     "name": "stderr",
     "output_type": "stream",
     "text": [
      "WARNING:tensorflow:Early stopping conditioned on metric `val_loss` which is not available. Available metrics are: loss,accuracy\n"
     ]
    },
    {
     "name": "stdout",
     "output_type": "stream",
     "text": [
      "1218/1218 [==============================] - 1s 673us/step - loss: 0.4868 - accuracy: 0.7977\n",
      "Epoch 45/50\n",
      "1196/1218 [============================>.] - ETA: 0s - loss: 0.4864 - accuracy: 0.7967WARNING:tensorflow:Early stopping conditioned on metric `val_loss` which is not available. Available metrics are: loss,accuracy\n"
     ]
    },
    {
     "name": "stderr",
     "output_type": "stream",
     "text": [
      "WARNING:tensorflow:Early stopping conditioned on metric `val_loss` which is not available. Available metrics are: loss,accuracy\n"
     ]
    },
    {
     "name": "stdout",
     "output_type": "stream",
     "text": [
      "1218/1218 [==============================] - 1s 675us/step - loss: 0.4865 - accuracy: 0.7965\n",
      "Epoch 46/50\n",
      "1158/1218 [===========================>..] - ETA: 0s - loss: 0.4835 - accuracy: 0.7953WARNING:tensorflow:Early stopping conditioned on metric `val_loss` which is not available. Available metrics are: loss,accuracy\n"
     ]
    },
    {
     "name": "stderr",
     "output_type": "stream",
     "text": [
      "WARNING:tensorflow:Early stopping conditioned on metric `val_loss` which is not available. Available metrics are: loss,accuracy\n"
     ]
    },
    {
     "name": "stdout",
     "output_type": "stream",
     "text": [
      "1218/1218 [==============================] - 1s 654us/step - loss: 0.4831 - accuracy: 0.7952\n",
      "Epoch 47/50\n",
      "1200/1218 [============================>.] - ETA: 0s - loss: 0.4862 - accuracy: 0.7966WARNING:tensorflow:Early stopping conditioned on metric `val_loss` which is not available. Available metrics are: loss,accuracy\n"
     ]
    },
    {
     "name": "stderr",
     "output_type": "stream",
     "text": [
      "WARNING:tensorflow:Early stopping conditioned on metric `val_loss` which is not available. Available metrics are: loss,accuracy\n"
     ]
    },
    {
     "name": "stdout",
     "output_type": "stream",
     "text": [
      "1218/1218 [==============================] - 1s 716us/step - loss: 0.4864 - accuracy: 0.7964\n",
      "Epoch 48/50\n",
      "1182/1218 [============================>.] - ETA: 0s - loss: 0.4871 - accuracy: 0.7967WARNING:tensorflow:Early stopping conditioned on metric `val_loss` which is not available. Available metrics are: loss,accuracy\n"
     ]
    },
    {
     "name": "stderr",
     "output_type": "stream",
     "text": [
      "WARNING:tensorflow:Early stopping conditioned on metric `val_loss` which is not available. Available metrics are: loss,accuracy\n"
     ]
    },
    {
     "name": "stdout",
     "output_type": "stream",
     "text": [
      "1218/1218 [==============================] - 1s 730us/step - loss: 0.4877 - accuracy: 0.7962\n",
      "Epoch 49/50\n",
      "1190/1218 [============================>.] - ETA: 0s - loss: 0.4864 - accuracy: 0.7977WARNING:tensorflow:Early stopping conditioned on metric `val_loss` which is not available. Available metrics are: loss,accuracy\n"
     ]
    },
    {
     "name": "stderr",
     "output_type": "stream",
     "text": [
      "WARNING:tensorflow:Early stopping conditioned on metric `val_loss` which is not available. Available metrics are: loss,accuracy\n"
     ]
    },
    {
     "name": "stdout",
     "output_type": "stream",
     "text": [
      "1218/1218 [==============================] - 1s 721us/step - loss: 0.4862 - accuracy: 0.7977\n",
      "Epoch 50/50\n",
      "1168/1218 [===========================>..] - ETA: 0s - loss: 0.4810 - accuracy: 0.7972WARNING:tensorflow:Early stopping conditioned on metric `val_loss` which is not available. Available metrics are: loss,accuracy\n"
     ]
    },
    {
     "name": "stderr",
     "output_type": "stream",
     "text": [
      "WARNING:tensorflow:Early stopping conditioned on metric `val_loss` which is not available. Available metrics are: loss,accuracy\n"
     ]
    },
    {
     "name": "stdout",
     "output_type": "stream",
     "text": [
      "1218/1218 [==============================] - 1s 734us/step - loss: 0.4811 - accuracy: 0.7970\n"
     ]
    },
    {
     "data": {
      "image/png": "[encoded data removed]",
      "text/plain": [
       "<Figure size 640x480 with 1 Axes>"
      ]
     },
     "metadata": {},
     "output_type": "display_data"
    }
   ],
   "source": [
    "history = modelo.fit(x_train_escalado_min_max, y_train, epochs=50, callbacks=[early_stopping])\n",
    "\n",
    "plt.plot(history.history['loss'])\n",
    "plt.title('Loss por epoch')\n",
    "plt.xlabel('Epoch')\n",
    "plt.ylabel('Loss')\n",
    "plt.show()"
   ]
  },
  {
   "cell_type": "markdown",
   "metadata": {},
   "source": [
    "#### Red neuronal con regularizador L2 y optimizador de Descenso por Gradiente Estocastico con learning rate"
   ]
  },
  {
   "cell_type": "markdown",
   "metadata": {},
   "source": [
    "Probamos con el optimizador de SGD ya que es el mas basico y en algunos casos puede llegar a obtener mejores resultados que el de Adam."
   ]
  },
  {
   "cell_type": "code",
   "execution_count": null,
   "metadata": {},
   "outputs": [
    {
     "name": "stdout",
     "output_type": "stream",
     "text": [
      "Epoch 1/60\n",
      "1218/1218 [==============================] - 1s 462us/step - loss: 0.6795 - accuracy: 0.7186\n",
      "Epoch 2/60\n",
      "1218/1218 [==============================] - 1s 489us/step - loss: 0.5589 - accuracy: 0.7858\n",
      "Epoch 3/60\n",
      "1218/1218 [==============================] - 1s 498us/step - loss: 0.5163 - accuracy: 0.8019\n",
      "Epoch 4/60\n",
      "1218/1218 [==============================] - 1s 489us/step - loss: 0.4952 - accuracy: 0.8119\n",
      "Epoch 5/60\n",
      "1218/1218 [==============================] - 1s 576us/step - loss: 0.4817 - accuracy: 0.8185\n",
      "Epoch 6/60\n",
      "1218/1218 [==============================] - 1s 462us/step - loss: 0.4719 - accuracy: 0.8225\n",
      "Epoch 7/60\n",
      "1218/1218 [==============================] - 1s 545us/step - loss: 0.4637 - accuracy: 0.8245\n",
      "Epoch 8/60\n",
      "1218/1218 [==============================] - 1s 522us/step - loss: 0.4569 - accuracy: 0.8259\n",
      "Epoch 9/60\n",
      "1218/1218 [==============================] - 1s 565us/step - loss: 0.4509 - accuracy: 0.8269\n",
      "Epoch 10/60\n",
      "1218/1218 [==============================] - 1s 534us/step - loss: 0.4454 - accuracy: 0.8291\n",
      "Epoch 11/60\n",
      "1218/1218 [==============================] - 1s 463us/step - loss: 0.4405 - accuracy: 0.8303\n",
      "Epoch 12/60\n",
      "1218/1218 [==============================] - 1s 483us/step - loss: 0.4361 - accuracy: 0.8303\n",
      "Epoch 13/60\n",
      "1218/1218 [==============================] - 1s 457us/step - loss: 0.4319 - accuracy: 0.8320\n",
      "Epoch 14/60\n",
      "1218/1218 [==============================] - 1s 456us/step - loss: 0.4279 - accuracy: 0.8329\n",
      "Epoch 15/60\n",
      "1218/1218 [==============================] - 1s 481us/step - loss: 0.4244 - accuracy: 0.8334\n",
      "Epoch 16/60\n",
      "1218/1218 [==============================] - 1s 529us/step - loss: 0.4209 - accuracy: 0.8351\n",
      "Epoch 17/60\n",
      "1218/1218 [==============================] - 1s 478us/step - loss: 0.4179 - accuracy: 0.8356\n",
      "Epoch 18/60\n",
      "1218/1218 [==============================] - 1s 469us/step - loss: 0.4150 - accuracy: 0.8363\n",
      "Epoch 19/60\n",
      "1218/1218 [==============================] - 1s 515us/step - loss: 0.4120 - accuracy: 0.8367\n",
      "Epoch 20/60\n",
      "1218/1218 [==============================] - 1s 501us/step - loss: 0.4096 - accuracy: 0.8368\n",
      "Epoch 21/60\n",
      "1218/1218 [==============================] - 1s 481us/step - loss: 0.4071 - accuracy: 0.8375\n",
      "Epoch 22/60\n",
      "1218/1218 [==============================] - 1s 479us/step - loss: 0.4046 - accuracy: 0.8398\n",
      "Epoch 23/60\n",
      "1218/1218 [==============================] - 1s 487us/step - loss: 0.4025 - accuracy: 0.8398\n",
      "Epoch 24/60\n",
      "1218/1218 [==============================] - 1s 522us/step - loss: 0.4002 - accuracy: 0.8403\n",
      "Epoch 25/60\n",
      "1218/1218 [==============================] - 1s 484us/step - loss: 0.3981 - accuracy: 0.8412\n",
      "Epoch 26/60\n",
      "1218/1218 [==============================] - 1s 449us/step - loss: 0.3962 - accuracy: 0.8416\n",
      "Epoch 27/60\n",
      "1218/1218 [==============================] - 1s 464us/step - loss: 0.3942 - accuracy: 0.8426\n",
      "Epoch 28/60\n",
      "1218/1218 [==============================] - 1s 511us/step - loss: 0.3924 - accuracy: 0.8428\n",
      "Epoch 29/60\n",
      "1218/1218 [==============================] - 1s 561us/step - loss: 0.3907 - accuracy: 0.8429\n",
      "Epoch 30/60\n",
      "1218/1218 [==============================] - 1s 549us/step - loss: 0.3890 - accuracy: 0.8443\n",
      "Epoch 31/60\n",
      "1218/1218 [==============================] - 1s 543us/step - loss: 0.3874 - accuracy: 0.8440\n",
      "Epoch 32/60\n",
      "1218/1218 [==============================] - 1s 534us/step - loss: 0.3856 - accuracy: 0.8444\n",
      "Epoch 33/60\n",
      "1218/1218 [==============================] - 1s 460us/step - loss: 0.3842 - accuracy: 0.8447\n",
      "Epoch 34/60\n",
      "1218/1218 [==============================] - 1s 488us/step - loss: 0.3824 - accuracy: 0.8452\n",
      "Epoch 35/60\n",
      "1218/1218 [==============================] - 1s 447us/step - loss: 0.3808 - accuracy: 0.8457\n",
      "Epoch 36/60\n",
      "1218/1218 [==============================] - 1s 498us/step - loss: 0.3795 - accuracy: 0.8455\n",
      "Epoch 37/60\n",
      "1218/1218 [==============================] - 1s 468us/step - loss: 0.3781 - accuracy: 0.8465\n",
      "Epoch 38/60\n",
      "1218/1218 [==============================] - 1s 503us/step - loss: 0.3766 - accuracy: 0.8467\n",
      "Epoch 39/60\n",
      "1218/1218 [==============================] - 1s 528us/step - loss: 0.3754 - accuracy: 0.8474\n",
      "Epoch 40/60\n",
      "1218/1218 [==============================] - 1s 670us/step - loss: 0.3742 - accuracy: 0.8466\n",
      "Epoch 41/60\n",
      "1218/1218 [==============================] - 1s 558us/step - loss: 0.3726 - accuracy: 0.8473\n",
      "Epoch 42/60\n",
      "1218/1218 [==============================] - 1s 517us/step - loss: 0.3716 - accuracy: 0.8481\n",
      "Epoch 43/60\n",
      "1218/1218 [==============================] - 1s 565us/step - loss: 0.3701 - accuracy: 0.8480\n",
      "Epoch 44/60\n",
      "1218/1218 [==============================] - 1s 530us/step - loss: 0.3690 - accuracy: 0.8479\n",
      "Epoch 45/60\n",
      "1218/1218 [==============================] - 1s 527us/step - loss: 0.3679 - accuracy: 0.8477\n",
      "Epoch 46/60\n",
      "1218/1218 [==============================] - 1s 511us/step - loss: 0.3665 - accuracy: 0.8480\n",
      "Epoch 47/60\n",
      "1218/1218 [==============================] - 1s 572us/step - loss: 0.3655 - accuracy: 0.8483\n",
      "Epoch 48/60\n",
      "1218/1218 [==============================] - 1s 528us/step - loss: 0.3646 - accuracy: 0.8476\n",
      "Epoch 49/60\n",
      "1218/1218 [==============================] - 1s 490us/step - loss: 0.3633 - accuracy: 0.8482\n",
      "Epoch 50/60\n",
      "1218/1218 [==============================] - 1s 490us/step - loss: 0.3622 - accuracy: 0.8483\n",
      "Epoch 51/60\n",
      "1218/1218 [==============================] - 1s 570us/step - loss: 0.3616 - accuracy: 0.8489\n",
      "Epoch 52/60\n",
      "1218/1218 [==============================] - 1s 595us/step - loss: 0.3602 - accuracy: 0.8490\n",
      "Epoch 53/60\n",
      "1218/1218 [==============================] - 1s 517us/step - loss: 0.3592 - accuracy: 0.8504\n",
      "Epoch 54/60\n",
      "1218/1218 [==============================] - 1s 491us/step - loss: 0.3581 - accuracy: 0.8495\n",
      "Epoch 55/60\n",
      "1218/1218 [==============================] - 1s 598us/step - loss: 0.3573 - accuracy: 0.8497\n",
      "Epoch 56/60\n",
      "1218/1218 [==============================] - 1s 592us/step - loss: 0.3565 - accuracy: 0.8489\n",
      "Epoch 57/60\n",
      "1218/1218 [==============================] - 1s 492us/step - loss: 0.3554 - accuracy: 0.8500\n",
      "Epoch 58/60\n",
      "1218/1218 [==============================] - 1s 548us/step - loss: 0.3547 - accuracy: 0.8507\n",
      "Epoch 59/60\n",
      "1218/1218 [==============================] - 1s 451us/step - loss: 0.3536 - accuracy: 0.8506\n",
      "Epoch 60/60\n",
      "1218/1218 [==============================] - 1s 442us/step - loss: 0.3526 - accuracy: 0.8507\n",
      "522/522 [==============================] - 0s 295us/step\n",
      "Accuracy: 0.8516921233902366\n",
      "Recall: 0.8447527141133896\n",
      "Precision: 0.8548583984375\n",
      "f1 score: 0.8497755126805\n"
     ]
    },
    {
     "data": {
      "image/png": "[encoded data removed]",
      "text/plain": [
       "<Figure size 640x480 with 2 Axes>"
      ]
     },
     "metadata": {},
     "output_type": "display_data"
    },
    {
     "name": "stdout",
     "output_type": "stream",
     "text": [
      "1218/1218 [==============================] - 0s 298us/step\n",
      "Accuracy: 0.8523167757669106\n",
      "Recall: 0.8507765023632681\n",
      "Precision: 0.8504672897196262\n",
      "f1 score: 0.8506218679406953\n"
     ]
    }
   ],
   "source": [
    "modelo = keras.Sequential([\n",
    "   keras.layers.Dense(256, input_shape=(x_train_escalado_min_max.shape[1],), activation='relu', kernel_regularizer=keras.regularizers.l2(0.0004)),\n",
    "   keras.layers.Dense(1, activation='sigmoid'),\n",
    "\n",
    "])\n",
    "\n",
    "modelo.compile(optimizer=keras.optimizers.legacy.SGD(learning_rate=0.01),\n",
    "             loss='binary_crossentropy',\n",
    "             metrics=['accuracy'], \n",
    "             \n",
    "             )\n",
    "\n",
    "modelo.fit(x_train_escalado_min_max, y_train, epochs=60)\n",
    "\n",
    "y_prediccion = modelo.predict(x_test_escalado_min_max)\n",
    "mostrar_scores(y_test, y_prediccion.round())\n",
    "\n",
    "tabla = confusion_matrix(y_test, y_prediccion.round())\n",
    "sns.heatmap(tabla, cmap='GnBu', annot=True, fmt='g')\n",
    "plt.title('Matriz de confusión')\n",
    "plt.xlabel('Predicted')\n",
    "plt.ylabel('True')\n",
    "plt.show()\n",
    "\n",
    "\n",
    "y_prediccion_train = modelo.predict(x_train_escalado_min_max)\n",
    "mostrar_scores(y_train, y_prediccion_train.round())"
   ]
  },
  {
   "cell_type": "markdown",
   "metadata": {},
   "source": [
    "Como podemos ver este modelo esta bastante balanceado, sin embargo no predice muy bien en general."
   ]
  },
  {
   "cell_type": "markdown",
   "metadata": {},
   "source": [
    "### Busqueda de hiperparams"
   ]
  },
  {
   "cell_type": "code",
   "execution_count": 128,
   "metadata": {},
   "outputs": [
    {
     "name": "stdout",
     "output_type": "stream",
     "text": [
      "Fitting 5 folds for each of 10 candidates, totalling 50 fits\n"
     ]
    },
    {
     "name": "stdout",
     "output_type": "stream",
     "text": [
      "[CV 1/5; 1/10] START activation=relu, batch_size=32, epochs=50, kernel_initializer=normal, neurons=256, optimizer=sdg[CV 4/5; 1/10] START activation=relu, batch_size=32, epochs=50, kernel_initializer=normal, neurons=256, optimizer=sdg\n",
      "\n",
      "[CV 3/5; 1/10] START activation=relu, batch_size=32, epochs=50, kernel_initializer=normal, neurons=256, optimizer=sdg\n",
      "[CV 2/5; 2/10] START activation=relu, batch_size=32, epochs=10, kernel_initializer=uniform, neurons=512, optimizer=sdg\n",
      "[CV 3/5; 2/10] START activation=relu, batch_size=32, epochs=10, kernel_initializer=uniform, neurons=512, optimizer=sdg\n",
      "[CV 1/5; 2/10] START activation=relu, batch_size=32, epochs=10, kernel_initializer=uniform, neurons=512, optimizer=sdg\n",
      "[CV 5/5; 1/10] START activation=relu, batch_size=32, epochs=50, kernel_initializer=normal, neurons=256, optimizer=sdg\n",
      "[CV 2/5; 1/10] START activation=relu, batch_size=32, epochs=50, kernel_initializer=normal, neurons=256, optimizer=sdg\n",
      "[CV 2/5; 1/10] END activation=relu, batch_size=32, epochs=50, kernel_initializer=normal, neurons=256, optimizer=sdg;, score=nan total time=   0.5s\n",
      "[CV 1/5; 2/10] END activation=relu, batch_size=32, epochs=10, kernel_initializer=uniform, neurons=512, optimizer=sdg;, score=nan total time=   0.5s\n",
      "[CV 3/5; 1/10] END activation=relu, batch_size=32, epochs=50, kernel_initializer=normal, neurons=256, optimizer=sdg;, score=nan total time=   0.6s\n",
      "[CV 5/5; 1/10] END activation=relu, batch_size=32, epochs=50, kernel_initializer=normal, neurons=256, optimizer=sdg;, score=nan total time=   0.5s\n",
      "[CV 3/5; 2/10] END activation=relu, batch_size=32, epochs=10, kernel_initializer=uniform, neurons=512, optimizer=sdg;, score=nan total time=   0.6s\n",
      "[CV 2/5; 2/10] END activation=relu, batch_size=32, epochs=10, kernel_initializer=uniform, neurons=512, optimizer=sdg;, score=nan total time=   0.6s\n",
      "[CV 4/5; 1/10] END activation=relu, batch_size=32, epochs=50, kernel_initializer=normal, neurons=256, optimizer=sdg;, score=nan total time=   0.7s\n",
      "[CV 1/5; 1/10] END activation=relu, batch_size=32, epochs=50, kernel_initializer=normal, neurons=256, optimizer=sdg;, score=nan total time=   0.8s\n",
      "[CV 4/5; 2/10] START activation=relu, batch_size=32, epochs=10, kernel_initializer=uniform, neurons=512, optimizer=sdg\n",
      "[CV 5/5; 2/10] START activation=relu, batch_size=32, epochs=10, kernel_initializer=uniform, neurons=512, optimizer=sdg\n",
      "[CV 1/5; 3/10] START activation=tanh, batch_size=64, epochs=50, kernel_initializer=normal, neurons=256, optimizer=adam\n",
      "[CV 2/5; 3/10] START activation=tanh, batch_size=64, epochs=50, kernel_initializer=normal, neurons=256, optimizer=adam\n",
      "[CV 3/5; 3/10] START activation=tanh, batch_size=64, epochs=50, kernel_initializer=normal, neurons=256, optimizer=adam\n",
      "[CV 4/5; 3/10] START activation=tanh, batch_size=64, epochs=50, kernel_initializer=normal, neurons=256, optimizer=adam\n",
      "[CV 4/5; 2/10] END activation=relu, batch_size=32, epochs=10, kernel_initializer=uniform, neurons=512, optimizer=sdg;, score=nan total time=   0.4s\n",
      "[CV 5/5; 3/10] START activation=tanh, batch_size=64, epochs=50, kernel_initializer=normal, neurons=256, optimizer=adam\n",
      "[CV 1/5; 4/10] START activation=sigmoid, batch_size=16, epochs=50, kernel_initializer=glorot_uniform, neurons=128, optimizer=adam\n",
      "[CV 5/5; 2/10] END activation=relu, batch_size=32, epochs=10, kernel_initializer=uniform, neurons=512, optimizer=sdg;, score=nan total time=   0.3s\n",
      "[CV 2/5; 4/10] START activation=sigmoid, batch_size=16, epochs=50, kernel_initializer=glorot_uniform, neurons=128, optimizer=adam\n",
      "[CV 3/5; 4/10] START activation=sigmoid, batch_size=16, epochs=50, kernel_initializer=glorot_uniform, neurons=128, optimizer=adam\n"
     ]
    },
    {
     "name": "stderr",
     "output_type": "stream",
     "text": [
      "2023-10-31 10:59:53.158901: W tensorflow/tsl/platform/profile_utils/cpu_utils.cc:128] Failed to get CPU frequency: 0 Hz\n",
      "2023-10-31 10:59:53.247927: W tensorflow/tsl/platform/profile_utils/cpu_utils.cc:128] Failed to get CPU frequency: 0 Hz\n",
      "2023-10-31 10:59:53.292797: W tensorflow/tsl/platform/profile_utils/cpu_utils.cc:128] Failed to get CPU frequency: 0 Hz\n",
      "2023-10-31 10:59:53.293468: W tensorflow/tsl/platform/profile_utils/cpu_utils.cc:128] Failed to get CPU frequency: 0 Hz\n",
      "2023-10-31 10:59:53.423561: W tensorflow/tsl/platform/profile_utils/cpu_utils.cc:128] Failed to get CPU frequency: 0 Hz\n",
      "2023-10-31 10:59:53.430147: W tensorflow/tsl/platform/profile_utils/cpu_utils.cc:128] Failed to get CPU frequency: 0 Hz\n",
      "2023-10-31 10:59:53.448450: W tensorflow/tsl/platform/profile_utils/cpu_utils.cc:128] Failed to get CPU frequency: 0 Hz\n",
      "2023-10-31 10:59:53.553210: W tensorflow/tsl/platform/profile_utils/cpu_utils.cc:128] Failed to get CPU frequency: 0 Hz\n"
     ]
    },
    {
     "name": "stdout",
     "output_type": "stream",
     "text": [
      "244/244 [==============================] - 1s 2ms/step\n",
      "182/244 [=====================>........] - ETA: 0s[CV 1/5; 3/10] END activation=tanh, batch_size=64, epochs=50, kernel_initializer=normal, neurons=256, optimizer=adam;, score=0.858 total time= 1.6min\n",
      "220/244 [==========================>...] - ETA: 0s[CV 4/5; 4/10] START activation=sigmoid, batch_size=16, epochs=50, kernel_initializer=glorot_uniform, neurons=128, optimizer=adam\n",
      "244/244 [==============================] - 1s 2ms/step\n",
      "244/244 [==============================] - 1s 2ms/step\n",
      "244/244 [==============================] - 1s 3ms/step\n",
      "[CV 3/5; 3/10] END activation=tanh, batch_size=64, epochs=50, kernel_initializer=normal, neurons=256, optimizer=adam;, score=0.852 total time= 1.6min\n",
      "[CV 4/5; 3/10] END activation=tanh, batch_size=64, epochs=50, kernel_initializer=normal, neurons=256, optimizer=adam;, score=0.860 total time= 1.6min\n",
      "[CV 5/5; 4/10] START activation=sigmoid, batch_size=16, epochs=50, kernel_initializer=glorot_uniform, neurons=128, optimizer=adam\n",
      "[CV 1/5; 5/10] START activation=relu, batch_size=128, epochs=10, kernel_initializer=normal, neurons=128, optimizer=sdg\n",
      "[CV 5/5; 3/10] END activation=tanh, batch_size=64, epochs=50, kernel_initializer=normal, neurons=256, optimizer=adam;, score=0.860 total time= 1.6min\n",
      "[CV 2/5; 5/10] START activation=relu, batch_size=128, epochs=10, kernel_initializer=normal, neurons=128, optimizer=sdg\n",
      "[CV 1/5; 5/10] END activation=relu, batch_size=128, epochs=10, kernel_initializer=normal, neurons=128, optimizer=sdg;, score=nan total time=   0.1s\n",
      "[CV 2/5; 5/10] END activation=relu, batch_size=128, epochs=10, kernel_initializer=normal, neurons=128, optimizer=sdg;, score=nan total time=   0.1s\n",
      "[CV 3/5; 5/10] START activation=relu, batch_size=128, epochs=10, kernel_initializer=normal, neurons=128, optimizer=sdg\n",
      "[CV 4/5; 5/10] START activation=relu, batch_size=128, epochs=10, kernel_initializer=normal, neurons=128, optimizer=sdg\n",
      "[CV 3/5; 5/10] END activation=relu, batch_size=128, epochs=10, kernel_initializer=normal, neurons=128, optimizer=sdg;, score=nan total time=   0.1s\n",
      "[CV 4/5; 5/10] END activation=relu, batch_size=128, epochs=10, kernel_initializer=normal, neurons=128, optimizer=sdg;, score=nan total time=   0.1s\n",
      "[CV 5/5; 5/10] START activation=relu, batch_size=128, epochs=10, kernel_initializer=normal, neurons=128, optimizer=sdg\n",
      "[CV 1/5; 6/10] START activation=sigmoid, batch_size=64, epochs=100, kernel_initializer=uniform, neurons=512, optimizer=adam\n",
      "[CV 5/5; 5/10] END activation=relu, batch_size=128, epochs=10, kernel_initializer=normal, neurons=128, optimizer=sdg;, score=nan total time=   0.0s\n",
      "[CV 2/5; 6/10] START activation=sigmoid, batch_size=64, epochs=100, kernel_initializer=uniform, neurons=512, optimizer=adam\n",
      "244/244 [==============================] - 1s 3ms/step\n",
      "[CV 2/5; 3/10] END activation=tanh, batch_size=64, epochs=50, kernel_initializer=normal, neurons=256, optimizer=adam;, score=0.855 total time= 2.4min\n",
      "[CV 3/5; 6/10] START activation=sigmoid, batch_size=64, epochs=100, kernel_initializer=uniform, neurons=512, optimizer=adam\n",
      "244/244 [==============================] - 1s 5ms/step\n",
      "244/244 [==============================] - 1s 4ms/step\n",
      "186/244 [=====================>........] - ETA: 0s[CV 1/5; 4/10] END activation=sigmoid, batch_size=16, epochs=50, kernel_initializer=glorot_uniform, neurons=128, optimizer=adam;, score=0.855 total time= 5.4min\n",
      "207/244 [========================>.....] - ETA: 0s[CV 4/5; 6/10] START activation=sigmoid, batch_size=64, epochs=100, kernel_initializer=uniform, neurons=512, optimizer=adam\n",
      "244/244 [==============================] - 1s 4ms/step\n",
      "[CV 2/5; 4/10] END activation=sigmoid, batch_size=16, epochs=50, kernel_initializer=glorot_uniform, neurons=128, optimizer=adam;, score=0.854 total time= 5.4min\n",
      "[CV 5/5; 6/10] START activation=sigmoid, batch_size=64, epochs=100, kernel_initializer=uniform, neurons=512, optimizer=adam\n",
      "[CV 3/5; 4/10] END activation=sigmoid, batch_size=16, epochs=50, kernel_initializer=glorot_uniform, neurons=128, optimizer=adam;, score=0.849 total time= 5.4min\n",
      "[CV 1/5; 7/10] START activation=sigmoid, batch_size=64, epochs=50, kernel_initializer=uniform, neurons=128, optimizer=sdg\n",
      "[CV 1/5; 7/10] END activation=sigmoid, batch_size=64, epochs=50, kernel_initializer=uniform, neurons=128, optimizer=sdg;, score=nan total time=   0.4s\n",
      "[CV 2/5; 7/10] START activation=sigmoid, batch_size=64, epochs=50, kernel_initializer=uniform, neurons=128, optimizer=sdg\n",
      "[CV 2/5; 7/10] END activation=sigmoid, batch_size=64, epochs=50, kernel_initializer=uniform, neurons=128, optimizer=sdg;, score=nan total time=   0.2s\n",
      "[CV 3/5; 7/10] START activation=sigmoid, batch_size=64, epochs=50, kernel_initializer=uniform, neurons=128, optimizer=sdg\n",
      "[CV 3/5; 7/10] END activation=sigmoid, batch_size=64, epochs=50, kernel_initializer=uniform, neurons=128, optimizer=sdg;, score=nan total time=   0.3s\n",
      "[CV 4/5; 7/10] START activation=sigmoid, batch_size=64, epochs=50, kernel_initializer=uniform, neurons=128, optimizer=sdg\n",
      "[CV 4/5; 7/10] END activation=sigmoid, batch_size=64, epochs=50, kernel_initializer=uniform, neurons=128, optimizer=sdg;, score=nan total time=   0.1s\n",
      "[CV 5/5; 7/10] START activation=sigmoid, batch_size=64, epochs=50, kernel_initializer=uniform, neurons=128, optimizer=sdg\n",
      "[CV 5/5; 7/10] END activation=sigmoid, batch_size=64, epochs=50, kernel_initializer=uniform, neurons=128, optimizer=sdg;, score=nan total time=   0.1s\n",
      "[CV 1/5; 8/10] START activation=relu, batch_size=128, epochs=10, kernel_initializer=uniform, neurons=256, optimizer=sdg\n",
      "[CV 1/5; 8/10] END activation=relu, batch_size=128, epochs=10, kernel_initializer=uniform, neurons=256, optimizer=sdg;, score=nan total time=   0.1s\n",
      "[CV 2/5; 8/10] START activation=relu, batch_size=128, epochs=10, kernel_initializer=uniform, neurons=256, optimizer=sdg\n",
      "[CV 2/5; 8/10] END activation=relu, batch_size=128, epochs=10, kernel_initializer=uniform, neurons=256, optimizer=sdg;, score=nan total time=   0.3s\n",
      "[CV 3/5; 8/10] START activation=relu, batch_size=128, epochs=10, kernel_initializer=uniform, neurons=256, optimizer=sdg\n",
      "[CV 3/5; 8/10] END activation=relu, batch_size=128, epochs=10, kernel_initializer=uniform, neurons=256, optimizer=sdg;, score=nan total time=   0.4s\n",
      "[CV 4/5; 8/10] START activation=relu, batch_size=128, epochs=10, kernel_initializer=uniform, neurons=256, optimizer=sdg\n",
      "[CV 4/5; 8/10] END activation=relu, batch_size=128, epochs=10, kernel_initializer=uniform, neurons=256, optimizer=sdg;, score=nan total time=   0.3s\n",
      "[CV 5/5; 8/10] START activation=relu, batch_size=128, epochs=10, kernel_initializer=uniform, neurons=256, optimizer=sdg\n",
      "[CV 5/5; 8/10] END activation=relu, batch_size=128, epochs=10, kernel_initializer=uniform, neurons=256, optimizer=sdg;, score=nan total time=   0.4s\n",
      "[CV 1/5; 9/10] START activation=sigmoid, batch_size=128, epochs=50, kernel_initializer=glorot_uniform, neurons=128, optimizer=adam\n",
      "244/244 [==============================] - 1s 4ms/step\n",
      "[CV 1/5; 6/10] END activation=sigmoid, batch_size=64, epochs=100, kernel_initializer=uniform, neurons=512, optimizer=adam;, score=0.854 total time= 4.0min\n",
      "[CV 2/5; 9/10] START activation=sigmoid, batch_size=128, epochs=50, kernel_initializer=glorot_uniform, neurons=128, optimizer=adam\n",
      "244/244 [==============================] - 1s 3ms/step\n",
      "[CV 2/5; 6/10] END activation=sigmoid, batch_size=64, epochs=100, kernel_initializer=uniform, neurons=512, optimizer=adam;, score=0.851 total time= 4.0min\n",
      "[CV 3/5; 9/10] START activation=sigmoid, batch_size=128, epochs=50, kernel_initializer=glorot_uniform, neurons=128, optimizer=adam\n",
      "244/244 [==============================] - 2s 6ms/step\n",
      "[CV 1/5; 9/10] END activation=sigmoid, batch_size=128, epochs=50, kernel_initializer=glorot_uniform, neurons=128, optimizer=adam;, score=0.845 total time= 1.1min\n",
      "[CV 4/5; 9/10] START activation=sigmoid, batch_size=128, epochs=50, kernel_initializer=glorot_uniform, neurons=128, optimizer=adam\n",
      "244/244 [==============================] - 1s 4ms/step\n",
      "[CV 2/5; 9/10] END activation=sigmoid, batch_size=128, epochs=50, kernel_initializer=glorot_uniform, neurons=128, optimizer=adam;, score=0.837 total time= 1.1min\n",
      "[CV 5/5; 9/10] START activation=sigmoid, batch_size=128, epochs=50, kernel_initializer=glorot_uniform, neurons=128, optimizer=adam\n",
      "244/244 [==============================] - 1s 3ms/step\n",
      "244/244 [==============================] - 1s 2ms/step\n",
      "[CV 3/5; 6/10] END activation=sigmoid, batch_size=64, epochs=100, kernel_initializer=uniform, neurons=512, optimizer=adam;, score=0.847 total time= 4.3min\n",
      "[CV 1/5; 10/10] START activation=tanh, batch_size=128, epochs=10, kernel_initializer=uniform, neurons=512, optimizer=sdg\n",
      "[CV 1/5; 10/10] END activation=tanh, batch_size=128, epochs=10, kernel_initializer=uniform, neurons=512, optimizer=sdg;, score=nan total time=   0.1s\n",
      "[CV 2/5; 10/10] START activation=tanh, batch_size=128, epochs=10, kernel_initializer=uniform, neurons=512, optimizer=sdg\n",
      "[CV 2/5; 10/10] END activation=tanh, batch_size=128, epochs=10, kernel_initializer=uniform, neurons=512, optimizer=sdg;, score=nan total time=   0.1s\n",
      "[CV 3/5; 10/10] START activation=tanh, batch_size=128, epochs=10, kernel_initializer=uniform, neurons=512, optimizer=sdg\n",
      "[CV 3/5; 10/10] END activation=tanh, batch_size=128, epochs=10, kernel_initializer=uniform, neurons=512, optimizer=sdg;, score=nan total time=   0.1s\n",
      "[CV 4/5; 10/10] START activation=tanh, batch_size=128, epochs=10, kernel_initializer=uniform, neurons=512, optimizer=sdg\n",
      "[CV 3/5; 9/10] END activation=sigmoid, batch_size=128, epochs=50, kernel_initializer=glorot_uniform, neurons=128, optimizer=adam;, score=0.838 total time= 1.1min\n",
      "[CV 5/5; 10/10] START activation=tanh, batch_size=128, epochs=10, kernel_initializer=uniform, neurons=512, optimizer=sdg\n",
      "[CV 4/5; 10/10] END activation=tanh, batch_size=128, epochs=10, kernel_initializer=uniform, neurons=512, optimizer=sdg;, score=nan total time=   0.3s\n",
      "[CV 5/5; 10/10] END activation=tanh, batch_size=128, epochs=10, kernel_initializer=uniform, neurons=512, optimizer=sdg;, score=nan total time=   0.2s\n",
      "244/244 [==============================] - 1s 2ms/step\n",
      "[CV 4/5; 4/10] END activation=sigmoid, batch_size=16, epochs=50, kernel_initializer=glorot_uniform, neurons=128, optimizer=adam;, score=0.858 total time= 5.6min\n",
      "244/244 [==============================] - 1s 3ms/step\n",
      "[CV 5/5; 4/10] END activation=sigmoid, batch_size=16, epochs=50, kernel_initializer=glorot_uniform, neurons=128, optimizer=adam;, score=0.857 total time= 5.6min\n",
      "244/244 [==============================] - 1s 1ms/step\n",
      "[CV 4/5; 9/10] END activation=sigmoid, batch_size=128, epochs=50, kernel_initializer=glorot_uniform, neurons=128, optimizer=adam;, score=0.846 total time=  45.9s\n",
      "244/244 [==============================] - 0s 711us/step\n",
      "[CV 5/5; 9/10] END activation=sigmoid, batch_size=128, epochs=50, kernel_initializer=glorot_uniform, neurons=128, optimizer=adam;, score=0.840 total time=  43.5s\n",
      "244/244 [==============================] - 0s 870us/step\n",
      "167/244 [===================>..........] - ETA: 0s[CV 4/5; 6/10] END activation=sigmoid, batch_size=64, epochs=100, kernel_initializer=uniform, neurons=512, optimizer=adam;, score=0.858 total time= 2.9min\n",
      "244/244 [==============================] - 0s 629us/step\n",
      "[CV 5/5; 6/10] END activation=sigmoid, batch_size=64, epochs=100, kernel_initializer=uniform, neurons=512, optimizer=adam;, score=0.857 total time= 2.9min\n"
     ]
    },
    {
     "name": "stderr",
     "output_type": "stream",
     "text": [
      "/Users/juampi/anaconda3/lib/python3.11/site-packages/sklearn/model_selection/_validation.py:425: FitFailedWarning: \n",
      "30 fits failed out of a total of 50.\n",
      "The score on these train-test partitions for these parameters will be set to nan.\n",
      "If these failures are not expected, you can try to debug them by setting error_score='raise'.\n",
      "\n",
      "Below are more details about the failures:\n",
      "--------------------------------------------------------------------------------\n",
      "30 fits failed with the following error:\n",
      "Traceback (most recent call last):\n",
      "  File \"/Users/juampi/anaconda3/lib/python3.11/site-packages/sklearn/model_selection/_validation.py\", line 732, in _fit_and_score\n",
      "    estimator.fit(X_train, y_train, **fit_params)\n",
      "  File \"/Users/juampi/anaconda3/lib/python3.11/site-packages/keras/wrappers/scikit_learn.py\", line 248, in fit\n",
      "    return super().fit(x, y, **kwargs)\n",
      "           ^^^^^^^^^^^^^^^^^^^^^^^^^^^\n",
      "  File \"/Users/juampi/anaconda3/lib/python3.11/site-packages/keras/wrappers/scikit_learn.py\", line 164, in fit\n",
      "    self.model = self.build_fn(**self.filter_sk_params(self.build_fn))\n",
      "                 ^^^^^^^^^^^^^^^^^^^^^^^^^^^^^^^^^^^^^^^^^^^^^^^^^^^^^\n",
      "  File \"/var/folders/pm/lyty8ft16l3dvy_kdh07l4dc0000gn/T/ipykernel_38252/3453965808.py\", line 13, in crear_modelo\n",
      "  File \"/Users/juampi/anaconda3/lib/python3.11/site-packages/keras/utils/traceback_utils.py\", line 70, in error_handler\n",
      "    raise e.with_traceback(filtered_tb) from None\n",
      "  File \"/Users/juampi/anaconda3/lib/python3.11/site-packages/keras/saving/legacy/serialization.py\", line 368, in class_and_config_for_serialized_keras_object\n",
      "    raise ValueError(\n",
      "ValueError: Unknown optimizer: 'sdg'. Please ensure you are using a `keras.utils.custom_object_scope` and that this object is included in the scope. See https://www.tensorflow.org/guide/keras/save_and_serialize#registering_the_custom_object for details.\n",
      "\n",
      "  warnings.warn(some_fits_failed_message, FitFailedWarning)\n",
      "/Users/juampi/anaconda3/lib/python3.11/site-packages/sklearn/model_selection/_search.py:976: UserWarning: One or more of the test scores are non-finite: [       nan        nan 0.85706585 0.85442177        nan 0.85321525\n",
      "        nan        nan 0.84122706        nan]\n",
      "  warnings.warn(\n"
     ]
    },
    {
     "name": "stdout",
     "output_type": "stream",
     "text": [
      "{'optimizer': 'adam', 'neurons': 256, 'kernel_initializer': 'normal', 'epochs': 50, 'batch_size': 64, 'activation': 'tanh'}\n",
      "0.8570658452060069\n"
     ]
    }
   ],
   "source": [
    "def crear_modelo(optimizer='adam', kernel_initializer='glorot_uniform', activation='relu', neurons=1):\n",
    "    modelo = keras.Sequential([\n",
    "        keras.layers.Dense(neurons, input_shape=(x_train_escalado_min_max.shape[1],), activation=activation, kernel_initializer=kernel_initializer),\n",
    "        keras.layers.BatchNormalization(),\n",
    "        keras.layers.Dropout(0.2),\n",
    "        keras.layers.Dense(1, activation='sigmoid')\n",
    "\n",
    "    ])\n",
    "\n",
    "    modelo.compile(optimizer=optimizer,\n",
    "                    loss='binary_crossentropy',\n",
    "                    metrics=['accuracy'])\n",
    "\n",
    "    return modelo\n",
    "\n",
    "modelo = KerasClassifier(build_fn=crear_modelo, verbose=0)\n",
    "\n",
    "param_grid = {\n",
    "\n",
    "    'batch_size': [16, 32, 64, 128],\n",
    "    'epochs': [10, 50, 100],\n",
    "    'optimizer': ['adam'],\n",
    "    'activation': ['relu', 'tanh', 'sigmoid'],\n",
    "    'neurons': [128, 256, 512],\n",
    "    'kernel_initializer': ['glorot_uniform', 'normal', 'uniform']\n",
    "}\n",
    "\n",
    "random_search = RandomizedSearchCV(modelo, param_grid, cv=5, n_iter=10, scoring='accuracy', verbose=10, n_jobs=-1)\n",
    "random_search.fit(x_train_escalado_min_max, y_train)\n",
    "\n",
    "print(random_search.best_params_)\n",
    "print(random_search.best_score_)"
   ]
  },
  {
   "cell_type": "markdown",
   "metadata": {},
   "source": [
    "Luego de esta busqueda podemos ver los  resultados de este nuevo modelo tanto con los datos de train y los de test, para ver si realmente hay una mejora y si el modelo no esta overfiteado."
   ]
  },
  {
   "cell_type": "code",
   "execution_count": 168,
   "metadata": {},
   "outputs": [
    {
     "name": "stdout",
     "output_type": "stream",
     "text": [
      "522/522 [==============================] - 0s 342us/step\n",
      "Accuracy: 0.8630128781072177\n",
      "Recall: 0.8676718938480097\n",
      "Precision: 0.8580460455684122\n",
      "f1 score: 0.8628321237929586\n"
     ]
    },
    {
     "data": {
      "image/png": "[encoded data removed]",
      "text/plain": [
       "<Figure size 640x480 with 2 Axes>"
      ]
     },
     "metadata": {},
     "output_type": "display_data"
    },
    {
     "name": "stdout",
     "output_type": "stream",
     "text": [
      "1218/1218 [==============================] - 0s 386us/step\n",
      "Accuracy: 0.871030676421512\n",
      "Recall: 0.8809016776606243\n",
      "Precision: 0.8613071961809964\n",
      "f1 score: 0.8709942481511915\n"
     ]
    }
   ],
   "source": [
    "y_prediccion = random_search.predict(x_test_escalado_min_max)\n",
    "mostrar_scores(y_test, y_prediccion)\n",
    "\n",
    "tabla = confusion_matrix(y_test, y_prediccion)\n",
    "sns.heatmap(tabla, cmap='GnBu', annot=True, fmt='g')\n",
    "plt.title('Matriz de confusión')\n",
    "plt.xlabel('Predicted')\n",
    "plt.ylabel('True')\n",
    "plt.show()\n",
    "\n",
    "y_prediccion_train = random_search.predict(x_train_escalado_min_max)\n",
    "mostrar_scores(y_train, y_prediccion_train)"
   ]
  },
  {
   "cell_type": "markdown",
   "metadata": {},
   "source": [
    "En este modelo ambas metricas estan balanceadas, sin embargo presenta cierto overfitting, vamos a ver si podemos mejorar eso manteniendo el balance de las metricas."
   ]
  },
  {
   "cell_type": "markdown",
   "metadata": {},
   "source": [
    "### Armado del mejor modelo"
   ]
  },
  {
   "cell_type": "markdown",
   "metadata": {},
   "source": [
    "Luego de haber testeado con multiples parametros, vamos a crear una red neuronales tomando los que mejor resultados nos den y predictear a kaggle."
   ]
  },
  {
   "cell_type": "code",
   "execution_count": 166,
   "metadata": {},
   "outputs": [
    {
     "name": "stdout",
     "output_type": "stream",
     "text": [
      "Epoch 1/60\n",
      "1218/1218 [==============================] - 1s 662us/step - loss: 0.4081 - accuracy: 0.8164\n",
      "Epoch 2/60\n",
      "1218/1218 [==============================] - 1s 574us/step - loss: 0.3619 - accuracy: 0.8354\n",
      "Epoch 3/60\n",
      "1218/1218 [==============================] - 1s 568us/step - loss: 0.3537 - accuracy: 0.8391\n",
      "Epoch 4/60\n",
      "1218/1218 [==============================] - 1s 572us/step - loss: 0.3474 - accuracy: 0.8416\n",
      "Epoch 5/60\n",
      "1218/1218 [==============================] - 1s 553us/step - loss: 0.3430 - accuracy: 0.8455\n",
      "Epoch 6/60\n",
      "1218/1218 [==============================] - 1s 629us/step - loss: 0.3390 - accuracy: 0.8487\n",
      "Epoch 7/60\n",
      "1218/1218 [==============================] - 1s 687us/step - loss: 0.3357 - accuracy: 0.8489\n",
      "Epoch 8/60\n",
      "1218/1218 [==============================] - 1s 597us/step - loss: 0.3323 - accuracy: 0.8520\n",
      "Epoch 9/60\n",
      "1218/1218 [==============================] - 1s 544us/step - loss: 0.3293 - accuracy: 0.8522\n",
      "Epoch 10/60\n",
      "1218/1218 [==============================] - 1s 653us/step - loss: 0.3268 - accuracy: 0.8541\n",
      "Epoch 11/60\n",
      "1218/1218 [==============================] - 1s 535us/step - loss: 0.3242 - accuracy: 0.8566\n",
      "Epoch 12/60\n",
      "1218/1218 [==============================] - 1s 550us/step - loss: 0.3224 - accuracy: 0.8573\n",
      "Epoch 13/60\n",
      "1218/1218 [==============================] - 1s 541us/step - loss: 0.3208 - accuracy: 0.8588\n",
      "Epoch 14/60\n",
      "1218/1218 [==============================] - 1s 502us/step - loss: 0.3189 - accuracy: 0.8590\n",
      "Epoch 15/60\n",
      "1218/1218 [==============================] - 1s 544us/step - loss: 0.3178 - accuracy: 0.8602\n",
      "Epoch 16/60\n",
      "1218/1218 [==============================] - 1s 501us/step - loss: 0.3162 - accuracy: 0.8613\n",
      "Epoch 17/60\n",
      "1218/1218 [==============================] - 1s 538us/step - loss: 0.3149 - accuracy: 0.8619\n",
      "Epoch 18/60\n",
      "1218/1218 [==============================] - 1s 498us/step - loss: 0.3146 - accuracy: 0.8615\n",
      "Epoch 19/60\n",
      "1218/1218 [==============================] - 1s 533us/step - loss: 0.3134 - accuracy: 0.8616\n",
      "Epoch 20/60\n",
      "1218/1218 [==============================] - 1s 533us/step - loss: 0.3120 - accuracy: 0.8636\n",
      "Epoch 21/60\n",
      "1218/1218 [==============================] - 1s 559us/step - loss: 0.3114 - accuracy: 0.8637\n",
      "Epoch 22/60\n",
      "1218/1218 [==============================] - 1s 533us/step - loss: 0.3108 - accuracy: 0.8647\n",
      "Epoch 23/60\n",
      "1218/1218 [==============================] - 1s 539us/step - loss: 0.3098 - accuracy: 0.8659\n",
      "Epoch 24/60\n",
      "1218/1218 [==============================] - 1s 544us/step - loss: 0.3085 - accuracy: 0.8644\n",
      "Epoch 25/60\n",
      "1218/1218 [==============================] - 1s 551us/step - loss: 0.3082 - accuracy: 0.8651\n",
      "Epoch 26/60\n",
      "1218/1218 [==============================] - 1s 552us/step - loss: 0.3074 - accuracy: 0.8664\n",
      "Epoch 27/60\n",
      "1218/1218 [==============================] - 1s 551us/step - loss: 0.3063 - accuracy: 0.8661\n",
      "Epoch 28/60\n",
      "1218/1218 [==============================] - 1s 521us/step - loss: 0.3061 - accuracy: 0.8660\n",
      "Epoch 29/60\n",
      "1218/1218 [==============================] - 1s 666us/step - loss: 0.3048 - accuracy: 0.8674\n",
      "Epoch 30/60\n",
      "1218/1218 [==============================] - 1s 566us/step - loss: 0.3041 - accuracy: 0.8672\n",
      "Epoch 31/60\n",
      "1218/1218 [==============================] - 1s 565us/step - loss: 0.3042 - accuracy: 0.8675\n",
      "Epoch 32/60\n",
      "1218/1218 [==============================] - 1s 577us/step - loss: 0.3034 - accuracy: 0.8671\n",
      "Epoch 33/60\n",
      "1218/1218 [==============================] - 1s 659us/step - loss: 0.3032 - accuracy: 0.8671\n",
      "Epoch 34/60\n",
      "1218/1218 [==============================] - 1s 572us/step - loss: 0.3022 - accuracy: 0.8697\n",
      "Epoch 35/60\n",
      "1218/1218 [==============================] - 1s 619us/step - loss: 0.3024 - accuracy: 0.8691\n",
      "Epoch 36/60\n",
      "1218/1218 [==============================] - 1s 692us/step - loss: 0.3010 - accuracy: 0.8683\n",
      "Epoch 37/60\n",
      "1218/1218 [==============================] - 1s 629us/step - loss: 0.3013 - accuracy: 0.8688\n",
      "Epoch 38/60\n",
      "1218/1218 [==============================] - 1s 547us/step - loss: 0.3004 - accuracy: 0.8697\n",
      "Epoch 39/60\n",
      "1218/1218 [==============================] - 1s 517us/step - loss: 0.3008 - accuracy: 0.8692\n",
      "Epoch 40/60\n",
      "1218/1218 [==============================] - 1s 674us/step - loss: 0.3006 - accuracy: 0.8699\n",
      "Epoch 41/60\n",
      "1218/1218 [==============================] - 1s 517us/step - loss: 0.2991 - accuracy: 0.8722\n",
      "Epoch 42/60\n",
      "1218/1218 [==============================] - 1s 560us/step - loss: 0.2985 - accuracy: 0.8702\n",
      "Epoch 43/60\n",
      "1218/1218 [==============================] - 1s 566us/step - loss: 0.2984 - accuracy: 0.8723\n",
      "Epoch 44/60\n",
      "1218/1218 [==============================] - 1s 544us/step - loss: 0.2979 - accuracy: 0.8724\n",
      "Epoch 45/60\n",
      "1218/1218 [==============================] - 1s 654us/step - loss: 0.2972 - accuracy: 0.8717\n",
      "Epoch 46/60\n",
      "1218/1218 [==============================] - 1s 684us/step - loss: 0.2965 - accuracy: 0.8723\n",
      "Epoch 47/60\n",
      "1218/1218 [==============================] - 1s 528us/step - loss: 0.2968 - accuracy: 0.8717\n",
      "Epoch 48/60\n",
      "1218/1218 [==============================] - 1s 536us/step - loss: 0.2970 - accuracy: 0.8724\n",
      "Epoch 49/60\n",
      "1218/1218 [==============================] - 1s 691us/step - loss: 0.2955 - accuracy: 0.8733\n",
      "Epoch 50/60\n",
      "1218/1218 [==============================] - 1s 548us/step - loss: 0.2950 - accuracy: 0.8722\n",
      "Epoch 51/60\n",
      "1218/1218 [==============================] - 1s 622us/step - loss: 0.2961 - accuracy: 0.8725\n",
      "Epoch 52/60\n",
      "1218/1218 [==============================] - 1s 631us/step - loss: 0.2949 - accuracy: 0.8736\n",
      "Epoch 53/60\n",
      "1218/1218 [==============================] - 1s 586us/step - loss: 0.2946 - accuracy: 0.8728\n",
      "Epoch 54/60\n",
      "1218/1218 [==============================] - 1s 632us/step - loss: 0.2941 - accuracy: 0.8734\n",
      "Epoch 55/60\n",
      "1218/1218 [==============================] - 1s 629us/step - loss: 0.2937 - accuracy: 0.8736\n",
      "Epoch 56/60\n",
      "1218/1218 [==============================] - 1s 519us/step - loss: 0.2940 - accuracy: 0.8734\n",
      "Epoch 57/60\n",
      "1218/1218 [==============================] - 1s 547us/step - loss: 0.2934 - accuracy: 0.8738\n",
      "Epoch 58/60\n",
      "1218/1218 [==============================] - 1s 539us/step - loss: 0.2926 - accuracy: 0.8735\n",
      "Epoch 59/60\n",
      "1218/1218 [==============================] - 1s 606us/step - loss: 0.2925 - accuracy: 0.8743\n",
      "Epoch 60/60\n",
      "1218/1218 [==============================] - 1s 528us/step - loss: 0.2922 - accuracy: 0.8744\n",
      "522/522 [==============================] - 0s 295us/step\n",
      "Accuracy: 0.8623539982030548\n",
      "Recall: 0.8483715319662244\n",
      "Precision: 0.8710676244736191\n",
      "f1 score: 0.8595697873380591\n"
     ]
    },
    {
     "data": {
      "image/png": "[encoded data removed]",
      "text/plain": [
       "<Figure size 640x480 with 2 Axes>"
      ]
     },
     "metadata": {},
     "output_type": "display_data"
    },
    {
     "name": "stdout",
     "output_type": "stream",
     "text": [
      "1218/1218 [==============================] - 0s 355us/step\n",
      "Accuracy: 0.8783211397766654\n",
      "Recall: 0.8687996675842726\n",
      "Precision: 0.8831107122116044\n",
      "f1 score: 0.8758967377074933\n"
     ]
    }
   ],
   "source": [
    "modelo = keras.Sequential([\n",
    "   keras.layers.Dense(256, input_shape=(x_train_escalado_min_max.shape[1],), activation='relu', kernel_regularizer=keras.regularizers.l2(0.0004)),\n",
    "   keras.layers.Dense(1, activation='sigmoid'),\n",
    "\n",
    "])\n",
    "\n",
    "modelo.compile(optimizer='adam',\n",
    "             loss='binary_crossentropy',\n",
    "             metrics=['accuracy'])\n",
    "\n",
    "modelo.fit(x_train_escalado_min_max, y_train, epochs=60)\n",
    "\n",
    "y_prediccion = modelo.predict(x_test_escalado_min_max)\n",
    "mostrar_scores(y_test, y_prediccion.round())\n",
    "tabla = confusion_matrix(y_test, y_prediccion.round())\n",
    "sns.heatmap(tabla, cmap='GnBu', annot=True, fmt='g')\n",
    "plt.title('Matriz de confusión')\n",
    "plt.xlabel('Predicted')\n",
    "plt.ylabel('True')\n",
    "plt.show()\n",
    "\n",
    "\n",
    "y_prediccion_train = modelo.predict(x_train_escalado_min_max)\n",
    "mostrar_scores(y_train, y_prediccion_train.round())"
   ]
  },
  {
   "cell_type": "markdown",
   "metadata": {},
   "source": [
    "Como podemos ver el modelo empeoro tanto en el f1 score, como el balanceo y el overfitting, vamos a probar con otro modelo."
   ]
  },
  {
   "cell_type": "markdown",
   "metadata": {},
   "source": [
    "#### Red neuronal con muchas capas y dropout\n"
   ]
  },
  {
   "cell_type": "markdown",
   "metadata": {},
   "source": [
    "Vamos a probar agregando mas capas y epochs para ver si mejora el modelo, para evitar el overfitting realizamos dropouts."
   ]
  },
  {
   "cell_type": "code",
   "execution_count": 159,
   "metadata": {},
   "outputs": [
    {
     "name": "stdout",
     "output_type": "stream",
     "text": [
      "Epoch 1/50\n",
      "1218/1218 [==============================] - 2s 1ms/step - loss: 0.4662 - accuracy: 0.8191\n",
      "Epoch 2/50\n",
      "1218/1218 [==============================] - 1s 1ms/step - loss: 0.3952 - accuracy: 0.8370\n",
      "Epoch 3/50\n",
      "1218/1218 [==============================] - 1s 1ms/step - loss: 0.3760 - accuracy: 0.8428\n",
      "Epoch 4/50\n",
      "1218/1218 [==============================] - 1s 1ms/step - loss: 0.3616 - accuracy: 0.8476\n",
      "Epoch 5/50\n",
      "1218/1218 [==============================] - 1s 1ms/step - loss: 0.3540 - accuracy: 0.8480\n",
      "Epoch 6/50\n",
      "1218/1218 [==============================] - 1s 1ms/step - loss: 0.3470 - accuracy: 0.8535\n",
      "Epoch 7/50\n",
      "1218/1218 [==============================] - 2s 1ms/step - loss: 0.3434 - accuracy: 0.8540\n",
      "Epoch 8/50\n",
      "1218/1218 [==============================] - 1s 1ms/step - loss: 0.3389 - accuracy: 0.8568\n",
      "Epoch 9/50\n",
      "1218/1218 [==============================] - 1s 1ms/step - loss: 0.3370 - accuracy: 0.8559\n",
      "Epoch 10/50\n",
      "1218/1218 [==============================] - 2s 1ms/step - loss: 0.3356 - accuracy: 0.8563\n",
      "Epoch 11/50\n",
      "1218/1218 [==============================] - 1s 1ms/step - loss: 0.3318 - accuracy: 0.8590\n",
      "Epoch 12/50\n",
      "1218/1218 [==============================] - 1s 1ms/step - loss: 0.3302 - accuracy: 0.8601\n",
      "Epoch 13/50\n",
      "1218/1218 [==============================] - 2s 1ms/step - loss: 0.3314 - accuracy: 0.8593\n",
      "Epoch 14/50\n",
      "1218/1218 [==============================] - 1s 1ms/step - loss: 0.3296 - accuracy: 0.8612\n",
      "Epoch 15/50\n",
      "1218/1218 [==============================] - 2s 1ms/step - loss: 0.3284 - accuracy: 0.8611\n",
      "Epoch 16/50\n",
      "1218/1218 [==============================] - 1s 1ms/step - loss: 0.3273 - accuracy: 0.8610\n",
      "Epoch 17/50\n",
      "1218/1218 [==============================] - 1s 1ms/step - loss: 0.3275 - accuracy: 0.8616\n",
      "Epoch 18/50\n",
      "1218/1218 [==============================] - 1s 959us/step - loss: 0.3281 - accuracy: 0.8619\n",
      "Epoch 19/50\n",
      "1218/1218 [==============================] - 1s 1ms/step - loss: 0.3261 - accuracy: 0.8620\n",
      "Epoch 20/50\n",
      "1218/1218 [==============================] - 1s 1ms/step - loss: 0.3263 - accuracy: 0.8621\n",
      "Epoch 21/50\n",
      "1218/1218 [==============================] - 1s 1ms/step - loss: 0.3260 - accuracy: 0.8625\n",
      "Epoch 22/50\n",
      "1218/1218 [==============================] - 2s 1ms/step - loss: 0.3258 - accuracy: 0.8620\n",
      "Epoch 23/50\n",
      "1218/1218 [==============================] - 2s 1ms/step - loss: 0.3257 - accuracy: 0.8618\n",
      "Epoch 24/50\n",
      "1218/1218 [==============================] - 1s 1ms/step - loss: 0.3249 - accuracy: 0.8627\n",
      "Epoch 25/50\n",
      "1218/1218 [==============================] - 1s 1ms/step - loss: 0.3235 - accuracy: 0.8635\n",
      "Epoch 26/50\n",
      "1218/1218 [==============================] - 1s 1ms/step - loss: 0.3244 - accuracy: 0.8620\n",
      "Epoch 27/50\n",
      "1218/1218 [==============================] - 1s 993us/step - loss: 0.3241 - accuracy: 0.8625\n",
      "Epoch 28/50\n",
      "1218/1218 [==============================] - 1s 948us/step - loss: 0.3222 - accuracy: 0.8644\n",
      "Epoch 29/50\n",
      "1218/1218 [==============================] - 1s 955us/step - loss: 0.3239 - accuracy: 0.8623\n",
      "Epoch 30/50\n",
      "1218/1218 [==============================] - 2s 1ms/step - loss: 0.3223 - accuracy: 0.8636\n",
      "Epoch 31/50\n",
      "1218/1218 [==============================] - 1s 1ms/step - loss: 0.3208 - accuracy: 0.8648\n",
      "Epoch 32/50\n",
      "1218/1218 [==============================] - 1s 1ms/step - loss: 0.3231 - accuracy: 0.8642\n",
      "Epoch 33/50\n",
      "1218/1218 [==============================] - 1s 1ms/step - loss: 0.3236 - accuracy: 0.8631\n",
      "Epoch 34/50\n",
      "1218/1218 [==============================] - 1s 996us/step - loss: 0.3223 - accuracy: 0.8634\n",
      "Epoch 35/50\n",
      "1218/1218 [==============================] - 1s 970us/step - loss: 0.3223 - accuracy: 0.8658\n",
      "Epoch 36/50\n",
      "1218/1218 [==============================] - 1s 1ms/step - loss: 0.3205 - accuracy: 0.8648\n",
      "Epoch 37/50\n",
      "1218/1218 [==============================] - 1s 1ms/step - loss: 0.3215 - accuracy: 0.8637\n",
      "Epoch 38/50\n",
      "1218/1218 [==============================] - 1s 1ms/step - loss: 0.3209 - accuracy: 0.8639\n",
      "Epoch 39/50\n",
      "1218/1218 [==============================] - 1s 968us/step - loss: 0.3217 - accuracy: 0.8647\n",
      "Epoch 40/50\n",
      "1218/1218 [==============================] - 1s 993us/step - loss: 0.3207 - accuracy: 0.8640\n",
      "Epoch 41/50\n",
      "1218/1218 [==============================] - 1s 1ms/step - loss: 0.3194 - accuracy: 0.8658\n",
      "Epoch 42/50\n",
      "1218/1218 [==============================] - 1s 977us/step - loss: 0.3193 - accuracy: 0.8653\n",
      "Epoch 43/50\n",
      "1218/1218 [==============================] - 1s 994us/step - loss: 0.3216 - accuracy: 0.8630\n",
      "Epoch 44/50\n",
      "1218/1218 [==============================] - 1s 995us/step - loss: 0.3194 - accuracy: 0.8656\n",
      "Epoch 45/50\n",
      "1218/1218 [==============================] - 1s 1ms/step - loss: 0.3196 - accuracy: 0.8645\n",
      "Epoch 46/50\n",
      "1218/1218 [==============================] - 1s 1ms/step - loss: 0.3187 - accuracy: 0.8653\n",
      "Epoch 47/50\n",
      "1218/1218 [==============================] - 1s 1ms/step - loss: 0.3200 - accuracy: 0.8632\n",
      "Epoch 48/50\n",
      "1218/1218 [==============================] - 1s 972us/step - loss: 0.3198 - accuracy: 0.8656\n",
      "Epoch 49/50\n",
      "1218/1218 [==============================] - 1s 1ms/step - loss: 0.3177 - accuracy: 0.8649\n",
      "Epoch 50/50\n",
      "1218/1218 [==============================] - 1s 955us/step - loss: 0.3190 - accuracy: 0.8649\n",
      "522/522 [==============================] - 0s 400us/step\n",
      "Accuracy: 0.865109314165918\n",
      "Recall: 0.8700844390832329\n",
      "Precision: 0.8599189318073438\n",
      "f1 score: 0.8649718191629693\n"
     ]
    },
    {
     "data": {
      "image/png": "[encoded data removed]",
      "text/plain": [
       "<Figure size 640x480 with 2 Axes>"
      ]
     },
     "metadata": {},
     "output_type": "display_data"
    },
    {
     "name": "stdout",
     "output_type": "stream",
     "text": [
      "1218/1218 [==============================] - 0s 375us/step\n",
      "Accuracy: 0.8769862662045951\n",
      "Recall: 0.886355373188594\n",
      "Precision: 0.8676089277543342\n",
      "f1 score: 0.8768819690663379\n"
     ]
    }
   ],
   "source": [
    "modelo = keras.Sequential([\n",
    "    keras.layers.Dense(256, input_shape=(x_train_escalado_min_max.shape[1],), activation='relu', kernel_regularizer=keras.regularizers.l1_l2(0.00004, 0.0005), kernel_initializer='normal'),\n",
    "    keras.layers.Dropout(0.2),\n",
    "    keras.layers.Dense(128, activation='relu', kernel_regularizer=keras.regularizers.l1(0.00004)),\n",
    "    keras.layers.Dense(64, activation='relu',  kernel_regularizer=keras.regularizers.l1(0.00004)),\n",
    "    keras.layers.Dense(1, activation='sigmoid'),\n",
    "    \n",
    "    ])\n",
    "\n",
    "modelo.compile(optimizer='adam',\n",
    "               loss='binary_crossentropy',\n",
    "               metrics=['accuracy'])\n",
    "\n",
    "modelo.fit(x_train_escalado_min_max, y_train, epochs=50)\n",
    "y_prediccion = modelo.predict(x_test_escalado_min_max)\n",
    "\n",
    "mostrar_scores(y_test, y_prediccion.round())\n",
    "\n",
    "tabla = confusion_matrix(y_test, y_prediccion.round())\n",
    "sns.heatmap(tabla, cmap='GnBu', annot=True, fmt='g')\n",
    "plt.title('Matriz de confusión')\n",
    "plt.xlabel('Predicted')\n",
    "plt.ylabel('True')\n",
    "plt.show()\n",
    "\n",
    "\n",
    "y_prediccion_train = modelo.predict(x_train_escalado_min_max)\n",
    "\n",
    "mostrar_scores(y_train, y_prediccion_train.round())\n",
    "\n"
   ]
  },
  {
   "cell_type": "markdown",
   "metadata": {},
   "source": [
    "En nuestro modelo final podemos ver como a pesar que haya cierto overfitting, el recall y precision son muy similares, al igual con el f1, y la cantidad de positivos y negativos esta equitativamente balanceada."
   ]
  },
  {
   "cell_type": "markdown",
   "metadata": {},
   "source": [
    "## Evaluación con el dataset de test"
   ]
  },
  {
   "cell_type": "code",
   "execution_count": 81,
   "metadata": {},
   "outputs": [
    {
     "data": {
      "text/plain": [
       "(26535, 31)"
      ]
     },
     "execution_count": 81,
     "metadata": {},
     "output_type": "execute_result"
    }
   ],
   "source": [
    "df_test = pd.read_csv('https://drive.usercontent.google.com/download?id=1ruDne6JVJTwK0TbDNQEUfUtoxA6gVTiy&export=download&authuser=0&confirm=t&uuid=2892328a-d7d8-47c7-98e1-3e69ef723100&at=APZUnTU5aCf9tHsTaF3PM7aD9Lym:1695760323667')\n",
    "\n",
    "df_test.shape"
   ]
  },
  {
   "cell_type": "markdown",
   "metadata": {},
   "source": [
    "### Imputacion de valores faltantes"
   ]
  },
  {
   "cell_type": "markdown",
   "metadata": {},
   "source": [
    "Primero imputamos el dataset tal cual lo hicimos con el de train, sin inspeccionar casos bordes para evitar data leakage."
   ]
  },
  {
   "cell_type": "code",
   "execution_count": 82,
   "metadata": {},
   "outputs": [],
   "source": [
    "nuevas_columnas = {\n",
    "    'arrival_date_year' : 'year',\n",
    "    'arrival_date_month' : 'month',\n",
    "    'arrival_date_week_number' : 'week_number',\n",
    "    'arrival_date_day_of_month' : 'day_of_month',\n",
    "    'meal' : 'meal_type',\n",
    "    'agent' : 'agent_id',\n",
    "    'adr' : 'average_daily_rate'\n",
    "}\n",
    "df_test.rename(columns = nuevas_columnas, inplace = True)"
   ]
  },
  {
   "cell_type": "markdown",
   "metadata": {},
   "source": [
    "Imputación de children, company y adults"
   ]
  },
  {
   "cell_type": "code",
   "execution_count": 83,
   "metadata": {},
   "outputs": [],
   "source": [
    "df_test['total_nights'] = df_test['stays_in_week_nights'] + df_test['stays_in_weekend_nights']\n",
    "df_test['children'].fillna(0, inplace=True)\n",
    "df_test['total_people'] = df_test['adults'] + df_test['children'] + df_test['babies']\n",
    "df_test['meal_type'].replace(['SC', 'Undefined'], 'NoMeal', inplace=True)\n",
    "df_test.drop(columns=['company'], inplace=True)"
   ]
  },
  {
   "cell_type": "markdown",
   "metadata": {},
   "source": [
    "Imputación de agent id"
   ]
  },
  {
   "cell_type": "code",
   "execution_count": 84,
   "metadata": {},
   "outputs": [],
   "source": [
    "for index, row in df_test.iterrows():\n",
    "    if (pd.isna(row['agent_id'])) & (row['distribution_channel'] == 'Direct'):\n",
    "        df_test.loc[index, 'agent_id'] = -1\n",
    "\n",
    "for index, row in df_test.iterrows():\n",
    "    if (not pd.isna(row['agent_id'])) or (row['distribution_channel'] == 'Direct'):\n",
    "        continue\n",
    "    if row['hotel'] == 'City Hotel':\n",
    "        if row['country'] == 'PRT':\n",
    "            df_test.loc[index, 'agent_id'] = 1.0\n",
    "        else: \n",
    "            df_test.loc[index, 'agent_id'] = 9.0\n",
    "    else:\n",
    "        df_test.loc[index, 'agent_id'] = 240.0"
   ]
  },
  {
   "cell_type": "markdown",
   "metadata": {},
   "source": [
    "Imputación de country"
   ]
  },
  {
   "cell_type": "code",
   "execution_count": 85,
   "metadata": {},
   "outputs": [],
   "source": [
    "for index, row in df_test.iterrows():\n",
    "    if pd.isna(row['country']) and row['deposit_type'] == 'Non Refund':\n",
    "        df_test.loc[index, 'country'] = 'PRT'\n",
    "\n",
    "for index, row in df_test.iterrows():\n",
    "    if pd.isna(row['country']) and (row['market_segment'] == 'Corporate' or row['market_segment'] == 'Offline TA/TO' or row['market_segment'] == 'Direct'):\n",
    "        df_test.loc[index, 'country'] = 'PRT'"
   ]
  },
  {
   "cell_type": "markdown",
   "metadata": {},
   "source": [
    "Prediccion final"
   ]
  },
  {
   "cell_type": "code",
   "execution_count": 87,
   "metadata": {},
   "outputs": [
    {
     "name": "stdout",
     "output_type": "stream",
     "text": [
      "830/830 [==============================] - 0s 398us/step\n"
     ]
    }
   ],
   "source": [
    "df_encode = df_test.copy()\n",
    "\n",
    "df_encode['agent_id'] = df_test['agent_id'].apply(lambda x: x if x in list(df_agentes_mayoritarios['agent_id']) else 'Otros')\n",
    "df_encode['country'] = df_test['country'].apply(lambda x: x if x in list(df_paises_mayoritarios['country']) else 'Otros')\n",
    "\n",
    "columns.remove('is_canceled')\n",
    "df_filtrado = df_encode[columns]\n",
    "columns.append('is_canceled')\n",
    "df_test_con_dummies = pd.get_dummies(df_filtrado, columns=dummy_columns, drop_first=True).reset_index(drop=True)\n",
    "\n",
    "df_test_con_dummies['cuarto_correcto'] = df_encode['reserved_room_type'] == df_encode['assigned_room_type']\n",
    "df_test_con_dummies['cuarto_correcto'] = df_test_con_dummies['cuarto_correcto'].apply(lambda x: 1 if x == True else 0)\n",
    "\n",
    "\n"
   ]
  },
  {
   "cell_type": "code",
   "execution_count": 161,
   "metadata": {},
   "outputs": [
    {
     "name": "stdout",
     "output_type": "stream",
     "text": [
      "830/830 [==============================] - 0s 297us/step\n"
     ]
    }
   ],
   "source": [
    "mejor_modelo = modelo\n",
    "\n",
    "test_scaled = escalador.transform(df_test_con_dummies)\n",
    "y_pred= mejor_modelo.predict(test_scaled)\n",
    "\n",
    "y_pred_int  = y_pred.round().astype(int)\n",
    "\n",
    "df_prediccion = pd.DataFrame(y_pred_int, columns=['is_canceled'])\n",
    "df_prediccion['id'] = df_test['id']\n",
    "df_prediccion = df_prediccion[['id', 'is_canceled']]\n",
    "\n",
    "\n",
    "df_prediccion.to_csv('prediccion.csv', index=False)"
   ]
  }
 ],
 "metadata": {
  "kernelspec": {
   "display_name": "base",
   "language": "python",
   "name": "python3"
  },
  "language_info": {
   "codemirror_mode": {
    "name": "ipython",
    "version": 3
   },
   "file_extension": ".py",
   "mimetype": "text/x-python",
   "name": "python",
   "nbconvert_exporter": "python",
   "pygments_lexer": "ipython3",
   "version": "3.11.4"
  }
 },
 "nbformat": 4,
 "nbformat_minor": 2
}
