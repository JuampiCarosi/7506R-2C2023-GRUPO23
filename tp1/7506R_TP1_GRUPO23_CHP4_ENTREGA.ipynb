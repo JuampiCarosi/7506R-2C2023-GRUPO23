{
 "cells": [
  {
   "cell_type": "markdown",
   "metadata": {},
   "source": [
    "# Trabajo Práctico 1 : Reservas de Hotel\n"
   ]
  },
  {
   "cell_type": "markdown",
   "metadata": {},
   "source": [
    "## Librerias\n"
   ]
  },
  {
   "cell_type": "code",
   "execution_count": 86,
   "metadata": {},
   "outputs": [],
   "source": [
    "import matplotlib.pyplot as plt\n",
    "import seaborn as sns\n",
    "\n",
    "import pandas as pd\n",
    "import numpy as np\n",
    "\n",
    "from sklearn.metrics import f1_score,  recall_score, precision_score, accuracy_score\n",
    "from sklearn.preprocessing import MinMaxScaler, StandardScaler\n",
    "from sklearn.model_selection import train_test_split\n",
    "from sklearn.metrics import confusion_matrix\n",
    "\n",
    "import tensorflow as tf\n",
    "from tensorflow import keras\n",
    "from sklearn.model_selection import RandomizedSearchCV\n",
    "from keras.wrappers.scikit_learn import KerasClassifier\n",
    "from keras.models import Sequential\n",
    "import os\n",
    "\n",
    "\n",
    "np.random.seed(1)\n",
    "tf.random.set_seed(1)\n",
    "keras.utils.set_random_seed(812)\n",
    "os.environ['PYTHONHASHSEED']=str(1)\n",
    "\n",
    "import warnings\n",
    "warnings.filterwarnings(\"ignore\", category=DeprecationWarning)"
   ]
  },
  {
   "cell_type": "code",
   "execution_count": 87,
   "metadata": {},
   "outputs": [],
   "source": [
    "def mostrar_scores(y_test, y_prediccion):\n",
    "    accuracy = accuracy_score(y_test,y_prediccion)\n",
    "    recall = recall_score(y_test,y_prediccion)\n",
    "    f1 = f1_score(y_test,y_prediccion,)\n",
    "    precision = precision_score(y_test,y_prediccion)\n",
    "\n",
    "    print(\"Accuracy: \"+str(accuracy))\n",
    "    print(\"Recall: \"+str(recall))\n",
    "    print(\"Precision: \"+str(precision))\n",
    "    print(\"f1 score: \"+str(f1))"
   ]
  },
  {
   "cell_type": "markdown",
   "metadata": {},
   "source": [
    "## Redes Neuronales"
   ]
  },
  {
   "cell_type": "markdown",
   "metadata": {},
   "source": [
    "Importamos el dataset y las librerias necesarias para el analisis. Conservamos el mismo procesamiento de datos que en el del chapter 1."
   ]
  },
  {
   "cell_type": "code",
   "execution_count": 88,
   "metadata": {},
   "outputs": [],
   "source": [
    "df_redes = pd.read_csv('dataframe_chp1.csv')"
   ]
  },
  {
   "cell_type": "code",
   "execution_count": 89,
   "metadata": {},
   "outputs": [],
   "source": [
    "df_a_utilizar = df_redes.copy()"
   ]
  },
  {
   "cell_type": "markdown",
   "metadata": {},
   "source": [
    "Inicialmente vamos a utilizar el mismo dataset con las mismas features que veniamos porbando en los demas capitulos. Cabe recalcar que en un futuro quizas cambiemos estas features ya que no sabemos como se van a comportar con nuestro modelo de redes neuronales."
   ]
  },
  {
   "cell_type": "code",
   "execution_count": 90,
   "metadata": {},
   "outputs": [],
   "source": [
    "columns = [\n",
    "    'hotel',\n",
    "    'lead_time',\n",
    "    'year',\n",
    "    'week_number',\n",
    "    'meal_type',\n",
    "    'country',\n",
    "    'market_segment',\n",
    "    'is_repeated_guest',\n",
    "    'previous_cancellations',\n",
    "    'booking_changes',\n",
    "    'deposit_type',\n",
    "    'agent_id',\n",
    "    'days_in_waiting_list',\n",
    "    'customer_type',\n",
    "    'average_daily_rate',\n",
    "    'required_car_parking_spaces',\n",
    "    'total_of_special_requests',\n",
    "    'is_canceled',\n",
    "    'total_people'\n",
    "]\n",
    "\n",
    "dummy_columns = [\n",
    "    'hotel',\n",
    "    'deposit_type',\n",
    "    'market_segment',\n",
    "    'agent_id',\n",
    "    'country',\n",
    "    'customer_type',\n",
    "    'meal_type',\n",
    "]"
   ]
  },
  {
   "cell_type": "code",
   "execution_count": 91,
   "metadata": {},
   "outputs": [],
   "source": [
    "agentes = df_a_utilizar[['agent_id']].value_counts().reset_index()\n",
    "\n",
    "agentes.columns = ['agent_id', 'cantidad']\n",
    "agentes_mayoritarios = agentes[agentes['cantidad'] > 20]\n",
    "agentes_minoritarios = agentes[agentes['cantidad'] <= 20]\n",
    "\n",
    "df_agentes_mayoritarios = df_a_utilizar[df_a_utilizar['agent_id'].isin(agentes_mayoritarios['agent_id'])]\n",
    "df_agentes_minoritarios = df_a_utilizar[df_a_utilizar['agent_id'].isin(agentes_minoritarios['agent_id'])]\n",
    "df_agentes_minoritarios.loc[df_a_utilizar['agent_id'].isin(agentes_minoritarios['agent_id']), 'agent_id'] = 'Otros'\n",
    "\n",
    "df_agentes = pd.concat([df_agentes_mayoritarios, df_agentes_minoritarios])\n",
    "\n",
    "paises = df_agentes[['country']].value_counts().reset_index()\n",
    "paises.columns = ['country', 'cantidad']\n",
    "paises_mayoritarios = paises[paises['cantidad'] > 15]\n",
    "paises_minoritarios = paises[paises['cantidad'] <= 15]\n",
    "\n",
    "df_paises_mayoritarios = df_agentes[df_agentes['country'].isin(paises_mayoritarios['country'])]\n",
    "df_paises_minoritarios = df_agentes[df_agentes['country'].isin(paises_minoritarios['country'])]\n",
    "df_paises_minoritarios.loc[df_agentes['country'].isin(paises_minoritarios['country']), 'country'] = 'Otros'\n",
    "\n",
    "df_encode = pd.concat([df_paises_mayoritarios, df_paises_minoritarios])\n",
    "\n",
    "filtrado = df_encode[columns]\n",
    "\n",
    "df_con_dummies = pd.get_dummies(filtrado, columns=dummy_columns, drop_first=True)\n",
    "\n",
    "\n",
    "df_con_dummies['cuarto_correcto'] = df_redes['reserved_room_type'] == df_redes['assigned_room_type']\n",
    "df_con_dummies['cuarto_correcto'] = df_con_dummies['cuarto_correcto'].apply(lambda x: 1 if x == True else 0)\n",
    "\n",
    "df_trabajo_x = df_con_dummies.drop(['is_canceled'], axis='columns', inplace=False)\n",
    "df_trabajo_y = df_con_dummies['is_canceled'].copy()"
   ]
  },
  {
   "cell_type": "markdown",
   "metadata": {},
   "source": [
    "Utilizamos un split de data de 0.7 para train y 0.3 para test."
   ]
  },
  {
   "cell_type": "code",
   "execution_count": 92,
   "metadata": {},
   "outputs": [],
   "source": [
    "x_train, x_test, y_train, y_test = train_test_split(df_trabajo_x,\n",
    "                                                    df_trabajo_y,\n",
    "                                                    test_size=0.3,\n",
    "                                                    random_state=11457,\n",
    "                                                    stratify=df_a_utilizar[\"is_canceled\"].values\n",
    "                                                    )"
   ]
  },
  {
   "cell_type": "markdown",
   "metadata": {},
   "source": [
    "Usamos el min max scaler para escalar los datos ya que esto mejora la convergencia de la red neuronal, iguala la influencia de las caracteristicas y ademas evita problemas numericos debido a que algunas funciones de activacion no trabajan muy bien si los valores de entrada son muy grandes."
   ]
  },
  {
   "cell_type": "code",
   "execution_count": 93,
   "metadata": {},
   "outputs": [],
   "source": [
    "escalador=MinMaxScaler()\n",
    "\n",
    "x_train_escalado_min_max=pd.DataFrame(escalador.fit_transform(x_train))\n",
    "x_test_escalado_min_max=pd.DataFrame(escalador.transform(x_test))"
   ]
  },
  {
   "cell_type": "markdown",
   "metadata": {},
   "source": [
    "Ademas, lo bueno del min max es que nuestras variables dummies van a seguir estando exactamente igual a como estaban antes del escalado."
   ]
  },
  {
   "cell_type": "markdown",
   "metadata": {},
   "source": [
    "### Red neuronal básica"
   ]
  },
  {
   "cell_type": "markdown",
   "metadata": {},
   "source": [
    "Utilizamos el optimizador de Adam ya que investigamos que es de los mejores en este aspecto, ya que combina el optimizador de RMSProp y el de descenso de gradiente estocastico (SGD). "
   ]
  },
  {
   "cell_type": "code",
   "execution_count": 94,
   "metadata": {},
   "outputs": [
    {
     "name": "stdout",
     "output_type": "stream",
     "text": [
      "Epoch 1/10\n",
      "1218/1218 [==============================] - 1s 616us/step - loss: 0.3872 - accuracy: 0.8150\n",
      "Epoch 2/10\n",
      "1218/1218 [==============================] - 1s 542us/step - loss: 0.3319 - accuracy: 0.8400\n",
      "Epoch 3/10\n",
      "1218/1218 [==============================] - 1s 462us/step - loss: 0.3218 - accuracy: 0.8437\n",
      "Epoch 4/10\n",
      "1218/1218 [==============================] - 1s 480us/step - loss: 0.3146 - accuracy: 0.8490\n",
      "Epoch 5/10\n",
      "1218/1218 [==============================] - 1s 608us/step - loss: 0.3085 - accuracy: 0.8508\n",
      "Epoch 6/10\n",
      "1218/1218 [==============================] - 1s 498us/step - loss: 0.3035 - accuracy: 0.8546\n",
      "Epoch 7/10\n",
      "1218/1218 [==============================] - 1s 507us/step - loss: 0.2994 - accuracy: 0.8563\n",
      "Epoch 8/10\n",
      "1218/1218 [==============================] - 1s 457us/step - loss: 0.2944 - accuracy: 0.8603\n",
      "Epoch 9/10\n",
      "1218/1218 [==============================] - 1s 459us/step - loss: 0.2902 - accuracy: 0.8638\n",
      "Epoch 10/10\n",
      "1218/1218 [==============================] - 1s 467us/step - loss: 0.2868 - accuracy: 0.8643\n",
      "522/522 [==============================] - 0s 274us/step\n",
      "Accuracy: 0.8601976639712489\n",
      "Recall: 0.8571773220747889\n",
      "Precision: 0.8607073643410853\n",
      "f1 score: 0.858938716306056\n"
     ]
    },
    {
     "data": {
      "image/png": "[encoded data removed]",
      "text/plain": [
       "<Figure size 640x480 with 2 Axes>"
      ]
     },
     "metadata": {},
     "output_type": "display_data"
    },
    {
     "name": "stdout",
     "output_type": "stream",
     "text": [
      "1218/1218 [==============================] - 0s 348us/step\n",
      "Accuracy: 0.8699781799512257\n",
      "Recall: 0.8732665039214668\n",
      "Precision: 0.8649552423088795\n",
      "f1 score: 0.8690910030756507\n"
     ]
    }
   ],
   "source": [
    "modelo = keras.Sequential([\n",
    "   keras.layers.Dense(128, input_shape=(x_train_escalado_min_max.shape[1],), activation='relu'),\n",
    "   keras.layers.Dense(1, activation='sigmoid')\n",
    "])\n",
    "\n",
    "modelo.compile(optimizer='adam',\n",
    "             loss='binary_crossentropy',\n",
    "             metrics=['accuracy'])\n",
    "\n",
    "modelo.fit(x_train_escalado_min_max, y_train, epochs=10)\n",
    "\n",
    "y_prediccion = modelo.predict(x_test_escalado_min_max)\n",
    "mostrar_scores(y_test, y_prediccion.round())\n",
    "\n",
    "tabla = confusion_matrix(y_test, y_prediccion.round())\n",
    "sns.heatmap(tabla, cmap='GnBu', annot=True, fmt='g')\n",
    "plt.title('Matriz de confusión')\n",
    "plt.xlabel('Predicted')\n",
    "plt.ylabel('True')\n",
    "plt.show()\n",
    "\n",
    "\n",
    "y_prediccion_train = modelo.predict(x_train_escalado_min_max)\n",
    "mostrar_scores(y_train, y_prediccion_train.round())"
   ]
  },
  {
   "cell_type": "markdown",
   "metadata": {},
   "source": [
    "Podemos ver que el Recall es considerablemente mas elevado que el Precision, lo cual nos indica que el modelo esta prediciendo correctamente los casos negativos, pero no tanto los positivos."
   ]
  },
  {
   "cell_type": "markdown",
   "metadata": {},
   "source": [
    "### Red neuronal con capas de dropout"
   ]
  },
  {
   "cell_type": "markdown",
   "metadata": {},
   "source": [
    "Ahora agregamos dropout, el cual es una tecnica de regularizacion que se utiliza en redes neuronales para evitar el overfitting."
   ]
  },
  {
   "cell_type": "code",
   "execution_count": 95,
   "metadata": {},
   "outputs": [
    {
     "name": "stdout",
     "output_type": "stream",
     "text": [
      "Epoch 1/10\n",
      "1218/1218 [==============================] - 1s 641us/step - loss: 0.3934 - accuracy: 0.8094\n",
      "Epoch 2/10\n",
      "1218/1218 [==============================] - 1s 780us/step - loss: 0.3371 - accuracy: 0.8368\n",
      "Epoch 3/10\n",
      "1218/1218 [==============================] - 1s 921us/step - loss: 0.3267 - accuracy: 0.8410\n",
      "Epoch 4/10\n",
      "1218/1218 [==============================] - 1s 517us/step - loss: 0.3189 - accuracy: 0.8457\n",
      "Epoch 5/10\n",
      "1218/1218 [==============================] - 1s 533us/step - loss: 0.3135 - accuracy: 0.8484\n",
      "Epoch 6/10\n",
      "1218/1218 [==============================] - 1s 554us/step - loss: 0.3083 - accuracy: 0.8526\n",
      "Epoch 7/10\n",
      "1218/1218 [==============================] - 1s 479us/step - loss: 0.3042 - accuracy: 0.8543\n",
      "Epoch 8/10\n",
      "1218/1218 [==============================] - 1s 638us/step - loss: 0.2997 - accuracy: 0.8564\n",
      "Epoch 9/10\n",
      "1218/1218 [==============================] - 1s 525us/step - loss: 0.2964 - accuracy: 0.8600\n",
      "Epoch 10/10\n",
      "1218/1218 [==============================] - 1s 542us/step - loss: 0.2934 - accuracy: 0.8607\n",
      "522/522 [==============================] - 0s 283us/step\n",
      "Accuracy: 0.8609763402216233\n",
      "Recall: 0.8588661037394452\n",
      "Precision: 0.860839076290654\n",
      "f1 score: 0.8598514582452751\n"
     ]
    },
    {
     "data": {
      "image/png": "[encoded data removed]",
      "text/plain": [
       "<Figure size 640x480 with 2 Axes>"
      ]
     },
     "metadata": {},
     "output_type": "display_data"
    },
    {
     "name": "stdout",
     "output_type": "stream",
     "text": [
      "1218/1218 [==============================] - 0s 323us/step\n",
      "Accuracy: 0.8690283660634065\n",
      "Recall: 0.8726432244325559\n",
      "Precision: 0.8637602179836512\n",
      "f1 score: 0.868178999586606\n"
     ]
    }
   ],
   "source": [
    "modelo = keras.Sequential([\n",
    "    keras.layers.Dense(128, input_shape=(x_train_escalado_min_max.shape[1],), activation='relu'),\n",
    "    keras.layers.Dropout(0.2),\n",
    "    keras.layers.Dense(1, activation='sigmoid')\n",
    "\n",
    "])\n",
    "\n",
    "modelo.compile(optimizer='adam',\n",
    "                loss='binary_crossentropy',\n",
    "                metrics=['accuracy'])\n",
    "\n",
    "modelo.fit(x_train_escalado_min_max, y_train, epochs=10)\n",
    "\n",
    "y_prediccion = modelo.predict(x_test_escalado_min_max)\n",
    "mostrar_scores(y_test, y_prediccion.round())\n",
    "\n",
    "tabla = confusion_matrix(y_test, y_prediccion.round())\n",
    "sns.heatmap(tabla, cmap='GnBu', annot=True, fmt='g')\n",
    "plt.title('Matriz de confusión')\n",
    "plt.xlabel('Predicted')\n",
    "plt.ylabel('True')\n",
    "plt.show()\n",
    "\n",
    "\n",
    "y_prediccion_train = modelo.predict(x_train_escalado_min_max)\n",
    "mostrar_scores(y_train, y_prediccion_train.round())"
   ]
  },
  {
   "cell_type": "markdown",
   "metadata": {},
   "source": [
    "En este caso nos presentamos con el mismo problema que el modelo anterior, donde el recall es mucho mas alto que el precision. Cabe destacar que el conjunto de train es mas cercano en f1 al conjunto de test que el modelo anterior, indicando menos overfitting."
   ]
  },
  {
   "cell_type": "markdown",
   "metadata": {},
   "source": [
    "### Redes neuronales con capas de dropout, regularizacion L1 y L2"
   ]
  },
  {
   "cell_type": "markdown",
   "metadata": {},
   "source": [
    "La regularizacion l1 y l2 tambien son tecnicas de regularizacion que se utilizan para evitar el overfitting. La regularizacion l1 es la suma de los valores absolutos de los coeficientes multiplicados por un factor lambda. La regularizacion l2 es la suma de los valores al cuadrado de los coeficientes multiplicados por un factor lambda."
   ]
  },
  {
   "cell_type": "markdown",
   "metadata": {},
   "source": [
    "#### Con L2 y dropout"
   ]
  },
  {
   "cell_type": "code",
   "execution_count": 96,
   "metadata": {},
   "outputs": [
    {
     "name": "stdout",
     "output_type": "stream",
     "text": [
      "Epoch 1/10\n",
      "1218/1218 [==============================] - 1s 545us/step - loss: 0.4388 - accuracy: 0.8077\n",
      "Epoch 2/10\n",
      "1218/1218 [==============================] - 1s 538us/step - loss: 0.3797 - accuracy: 0.8316\n",
      "Epoch 3/10\n",
      "1218/1218 [==============================] - 1s 531us/step - loss: 0.3704 - accuracy: 0.8341\n",
      "Epoch 4/10\n",
      "1218/1218 [==============================] - 1s 510us/step - loss: 0.3637 - accuracy: 0.8359\n",
      "Epoch 5/10\n",
      "1218/1218 [==============================] - 1s 546us/step - loss: 0.3600 - accuracy: 0.8377\n",
      "Epoch 6/10\n",
      "1218/1218 [==============================] - 1s 611us/step - loss: 0.3571 - accuracy: 0.8401\n",
      "Epoch 7/10\n",
      "1218/1218 [==============================] - 1s 606us/step - loss: 0.3547 - accuracy: 0.8408\n",
      "Epoch 8/10\n",
      "1218/1218 [==============================] - 1s 678us/step - loss: 0.3516 - accuracy: 0.8429\n",
      "Epoch 9/10\n",
      "1218/1218 [==============================] - 1s 751us/step - loss: 0.3505 - accuracy: 0.8433\n",
      "Epoch 10/10\n",
      "1218/1218 [==============================] - 1s 524us/step - loss: 0.3482 - accuracy: 0.8442\n",
      "522/522 [==============================] - 0s 282us/step\n",
      "Accuracy: 0.8501946690625936\n",
      "Recall: 0.8686369119420989\n",
      "Precision: 0.8360617670962499\n",
      "f1 score: 0.8520380997456074\n"
     ]
    },
    {
     "data": {
      "image/png": "[encoded data removed]",
      "text/plain": [
       "<Figure size 640x480 with 2 Axes>"
      ]
     },
     "metadata": {},
     "output_type": "display_data"
    },
    {
     "name": "stdout",
     "output_type": "stream",
     "text": [
      "1218/1218 [==============================] - 0s 334us/step\n",
      "Accuracy: 0.8521627518932101\n",
      "Recall: 0.876175141536384\n",
      "Precision: 0.8332839359810315\n",
      "f1 score: 0.8541914575790567\n"
     ]
    }
   ],
   "source": [
    "modelo = keras.Sequential([\n",
    "    keras.layers.Dense(128, input_shape=(x_train_escalado_min_max.shape[1],), activation='relu', kernel_regularizer=keras.regularizers.l2(0.001)),\n",
    "    keras.layers.Dropout(0.2),\n",
    "    keras.layers.Dense(1, activation='sigmoid')\n",
    "\n",
    "])\n",
    "\n",
    "modelo.compile(optimizer='adam',   \n",
    "                loss='binary_crossentropy',\n",
    "                metrics=['accuracy'])\n",
    "\n",
    "modelo.fit(x_train_escalado_min_max, y_train, epochs=10)\n",
    "\n",
    "y_prediccion = modelo.predict(x_test_escalado_min_max)\n",
    "mostrar_scores(y_test, y_prediccion.round())\n",
    "\n",
    "tabla = confusion_matrix(y_test, y_prediccion.round())\n",
    "sns.heatmap(tabla, cmap='GnBu', annot=True, fmt='g')\n",
    "plt.title('Matriz de confusión')\n",
    "plt.xlabel('Predicted')\n",
    "plt.ylabel('True')\n",
    "plt.show()\n",
    "\n",
    "y_prediccion_train = modelo.predict(x_train_escalado_min_max)\n",
    "mostrar_scores(y_train, y_prediccion_train.round())\n"
   ]
  },
  {
   "cell_type": "markdown",
   "metadata": {},
   "source": [
    "#### Con L1 y dropout"
   ]
  },
  {
   "cell_type": "code",
   "execution_count": 97,
   "metadata": {},
   "outputs": [
    {
     "name": "stdout",
     "output_type": "stream",
     "text": [
      "Epoch 1/10\n",
      "1218/1218 [==============================] - 1s 601us/step - loss: 0.5929 - accuracy: 0.7914\n",
      "Epoch 2/10\n",
      "1218/1218 [==============================] - 1s 559us/step - loss: 0.4501 - accuracy: 0.8178\n",
      "Epoch 3/10\n",
      "1218/1218 [==============================] - 1s 529us/step - loss: 0.4314 - accuracy: 0.8227\n",
      "Epoch 4/10\n",
      "1218/1218 [==============================] - 1s 541us/step - loss: 0.4187 - accuracy: 0.8252\n",
      "Epoch 5/10\n",
      "1218/1218 [==============================] - 1s 501us/step - loss: 0.4112 - accuracy: 0.8282\n",
      "Epoch 6/10\n",
      "1218/1218 [==============================] - 1s 516us/step - loss: 0.4059 - accuracy: 0.8299\n",
      "Epoch 7/10\n",
      "1218/1218 [==============================] - 1s 501us/step - loss: 0.4032 - accuracy: 0.8299\n",
      "Epoch 8/10\n",
      "1218/1218 [==============================] - 1s 641us/step - loss: 0.3986 - accuracy: 0.8333\n",
      "Epoch 9/10\n",
      "1218/1218 [==============================] - 1s 506us/step - loss: 0.3955 - accuracy: 0.8325\n",
      "Epoch 10/10\n",
      "1218/1218 [==============================] - 1s 500us/step - loss: 0.3931 - accuracy: 0.8336\n",
      "522/522 [==============================] - 0s 279us/step\n",
      "Accuracy: 0.8437256663671758\n",
      "Recall: 0.8613992762364294\n",
      "Precision: 0.8302522962446227\n",
      "f1 score: 0.8455390444615476\n"
     ]
    },
    {
     "data": {
      "image/png": "[encoded data removed]",
      "text/plain": [
       "<Figure size 640x480 with 2 Axes>"
      ]
     },
     "metadata": {},
     "output_type": "display_data"
    },
    {
     "name": "stdout",
     "output_type": "stream",
     "text": [
      "1218/1218 [==============================] - 0s 280us/step\n",
      "Accuracy: 0.8428186368887177\n",
      "Recall: 0.862930452397029\n",
      "Precision: 0.8266494178525227\n",
      "f1 score: 0.844400396432111\n"
     ]
    }
   ],
   "source": [
    "modelo = keras.Sequential([\n",
    "    keras.layers.Dense(128, input_shape=(x_train_escalado_min_max.shape[1],), activation='relu', kernel_regularizer=keras.regularizers.l1(0.001)),\n",
    "    keras.layers.Dropout(0.2),\n",
    "    keras.layers.Dense(1, activation='sigmoid')\n",
    "\n",
    "])\n",
    "\n",
    "modelo.compile(optimizer='adam',\n",
    "                loss='binary_crossentropy',\n",
    "                metrics=['accuracy'])\n",
    "\n",
    "modelo.fit(x_train_escalado_min_max, y_train, epochs=10)\n",
    "\n",
    "y_prediccion = modelo.predict(x_test_escalado_min_max)\n",
    "mostrar_scores(y_test, y_prediccion.round())\n",
    "\n",
    "tabla = confusion_matrix(y_test, y_prediccion.round())\n",
    "sns.heatmap(tabla, cmap='GnBu', annot=True, fmt='g')\n",
    "plt.title('Matriz de confusión')\n",
    "plt.xlabel('Predicted')\n",
    "plt.ylabel('True')\n",
    "plt.show()\n",
    "\n",
    "\n",
    "y_prediccion_train = modelo.predict(x_train_escalado_min_max)\n",
    "mostrar_scores(y_train, y_prediccion_train.round())"
   ]
  },
  {
   "cell_type": "markdown",
   "metadata": {},
   "source": [
    "En este caso la diferencia entre Recall y Precision en muchisimo mas elevada, esto puede ser debido a la regularizacion."
   ]
  },
  {
   "cell_type": "markdown",
   "metadata": {},
   "source": [
    "#### Con dropout, L1 y L2"
   ]
  },
  {
   "cell_type": "code",
   "execution_count": 98,
   "metadata": {},
   "outputs": [
    {
     "name": "stdout",
     "output_type": "stream",
     "text": [
      "Epoch 1/10\n",
      "1218/1218 [==============================] - 1s 556us/step - loss: 0.6021 - accuracy: 0.7927\n",
      "Epoch 2/10\n",
      "1218/1218 [==============================] - 1s 540us/step - loss: 0.4554 - accuracy: 0.8183\n",
      "Epoch 3/10\n",
      "1218/1218 [==============================] - 1s 521us/step - loss: 0.4382 - accuracy: 0.8223\n",
      "Epoch 4/10\n",
      "1218/1218 [==============================] - 1s 536us/step - loss: 0.4280 - accuracy: 0.8244\n",
      "Epoch 5/10\n",
      "1218/1218 [==============================] - 1s 521us/step - loss: 0.4204 - accuracy: 0.8257\n",
      "Epoch 6/10\n",
      "1218/1218 [==============================] - 1s 545us/step - loss: 0.4150 - accuracy: 0.8259\n",
      "Epoch 7/10\n",
      "1218/1218 [==============================] - 1s 519us/step - loss: 0.4111 - accuracy: 0.8263\n",
      "Epoch 8/10\n",
      "1218/1218 [==============================] - 1s 513us/step - loss: 0.4062 - accuracy: 0.8291\n",
      "Epoch 9/10\n",
      "1218/1218 [==============================] - 1s 520us/step - loss: 0.4029 - accuracy: 0.8312\n",
      "Epoch 10/10\n",
      "1218/1218 [==============================] - 1s 539us/step - loss: 0.4003 - accuracy: 0.8326\n",
      "522/522 [==============================] - 0s 275us/step\n",
      "Accuracy: 0.8410302485774184\n",
      "Recall: 0.8810615199034982\n",
      "Precision: 0.814088274632189\n",
      "f1 score: 0.8462518827482332\n"
     ]
    },
    {
     "data": {
      "image/png": "[encoded data removed]",
      "text/plain": [
       "<Figure size 640x480 with 2 Axes>"
      ]
     },
     "metadata": {},
     "output_type": "display_data"
    },
    {
     "name": "stdout",
     "output_type": "stream",
     "text": [
      "1218/1218 [==============================] - 0s 283us/step\n",
      "Accuracy: 0.8403029136182775\n",
      "Recall: 0.8850049342959538\n",
      "Precision: 0.8096075263708068\n",
      "f1 score: 0.8456289237946351\n"
     ]
    }
   ],
   "source": [
    "modelo = keras.Sequential([\n",
    "    keras.layers.Dense(128, input_shape=(x_train_escalado_min_max.shape[1],), activation='relu', kernel_regularizer=keras.regularizers.l1_l2(l1=0.001, l2=0.001)),\n",
    "    keras.layers.Dropout(0.2),\n",
    "    keras.layers.Dense(1, activation='sigmoid')\n",
    "\n",
    "])\n",
    "\n",
    "modelo.compile(optimizer='adam',\n",
    "                loss='binary_crossentropy',\n",
    "                metrics=['accuracy'])\n",
    "\n",
    "modelo.fit(x_train_escalado_min_max, y_train, epochs=10)\n",
    "\n",
    "y_prediccion = modelo.predict(x_test_escalado_min_max)\n",
    "mostrar_scores(y_test, y_prediccion.round())\n",
    "\n",
    "tabla = confusion_matrix(y_test, y_prediccion.round())\n",
    "sns.heatmap(tabla, cmap='GnBu', annot=True, fmt='g')\n",
    "plt.title('Matriz de confusión')\n",
    "plt.xlabel('Predicted')\n",
    "plt.ylabel('True')\n",
    "plt.show()\n",
    "\n",
    "\n",
    "y_prediccion_train = modelo.predict(x_train_escalado_min_max)\n",
    "mostrar_scores(y_train, y_prediccion_train.round())"
   ]
  },
  {
   "cell_type": "markdown",
   "metadata": {},
   "source": [
    "Notamos la misma diferencia que en el caso anterior, confirmando la teoria que es la regularizacion."
   ]
  },
  {
   "cell_type": "markdown",
   "metadata": {},
   "source": [
    "### Red neuronal con batch normalization"
   ]
  },
  {
   "cell_type": "markdown",
   "metadata": {},
   "source": [
    "Esta nueva caracteristica, batch normalization, leimos que ayuda a mejorar la velocidad de convergencia y estabilidad del algortimo. "
   ]
  },
  {
   "cell_type": "code",
   "execution_count": 99,
   "metadata": {},
   "outputs": [
    {
     "name": "stdout",
     "output_type": "stream",
     "text": [
      "Epoch 1/10\n",
      "1218/1218 [==============================] - 1s 615us/step - loss: 0.6970 - accuracy: 0.8056\n",
      "Epoch 2/10\n",
      "1218/1218 [==============================] - 1s 596us/step - loss: 0.4572 - accuracy: 0.8209\n",
      "Epoch 3/10\n",
      "1218/1218 [==============================] - 1s 616us/step - loss: 0.4292 - accuracy: 0.8222\n",
      "Epoch 4/10\n",
      "1218/1218 [==============================] - 1s 591us/step - loss: 0.4148 - accuracy: 0.8262\n",
      "Epoch 5/10\n",
      "1218/1218 [==============================] - 1s 613us/step - loss: 0.4091 - accuracy: 0.8302\n",
      "Epoch 6/10\n",
      "1218/1218 [==============================] - 1s 587us/step - loss: 0.4034 - accuracy: 0.8318\n",
      "Epoch 7/10\n",
      "1218/1218 [==============================] - 1s 617us/step - loss: 0.4018 - accuracy: 0.8310\n",
      "Epoch 8/10\n",
      "1218/1218 [==============================] - 1s 611us/step - loss: 0.3995 - accuracy: 0.8317\n",
      "Epoch 9/10\n",
      "1218/1218 [==============================] - 1s 655us/step - loss: 0.3978 - accuracy: 0.8321\n",
      "Epoch 10/10\n",
      "1218/1218 [==============================] - 1s 602us/step - loss: 0.3968 - accuracy: 0.8319\n",
      "522/522 [==============================] - 0s 288us/step\n",
      "Accuracy: 0.8515723270440252\n",
      "Recall: 0.8172496984318456\n",
      "Precision: 0.8755492375290773\n",
      "f1 score: 0.8453955577738956\n"
     ]
    },
    {
     "data": {
      "image/png": "[encoded data removed]",
      "text/plain": [
       "<Figure size 640x480 with 2 Axes>"
      ]
     },
     "metadata": {},
     "output_type": "display_data"
    },
    {
     "name": "stdout",
     "output_type": "stream",
     "text": [
      "1218/1218 [==============================] - 0s 314us/step\n",
      "Accuracy: 0.8508792196123732\n",
      "Recall: 0.8188853685139978\n",
      "Precision: 0.8716275984077841\n",
      "f1 score: 0.8444337323585336\n"
     ]
    }
   ],
   "source": [
    "modelo = keras.Sequential([\n",
    "\n",
    "    keras.layers.Dense(128, input_shape=(x_train_escalado_min_max.shape[1],), activation='relu', kernel_regularizer=keras.regularizers.l1_l2(l1=0.001, l2=0.001)),\n",
    "    keras.layers.BatchNormalization(),\n",
    "    keras.layers.Dropout(0.2),\n",
    "    keras.layers.Dense(1, activation='sigmoid')\n",
    "\n",
    "])\n",
    "\n",
    "modelo.compile(optimizer='adam',\n",
    "                loss='binary_crossentropy',\n",
    "                metrics=['accuracy'])\n",
    "\n",
    "modelo.fit(x_train_escalado_min_max, y_train, epochs=10)\n",
    "\n",
    "y_prediccion = modelo.predict(x_test_escalado_min_max)\n",
    "mostrar_scores(y_test, y_prediccion.round())\n",
    "\n",
    "tabla = confusion_matrix(y_test, y_prediccion.round())\n",
    "sns.heatmap(tabla, cmap='GnBu', annot=True, fmt='g')\n",
    "plt.title('Matriz de confusión')\n",
    "plt.xlabel('Predicted')\n",
    "plt.ylabel('True')\n",
    "plt.show()\n",
    "\n",
    "\n",
    "y_prediccion_train = modelo.predict(x_train_escalado_min_max)\n",
    "mostrar_scores(y_train, y_prediccion_train.round())"
   ]
  },
  {
   "cell_type": "markdown",
   "metadata": {},
   "source": [
    "Este es el primer caso donde la precision es mayor que el recall, mirando la matriz de confusion podemos observar tambien que nuestro modelo tiene a predecir mas casos negativos que positivos."
   ]
  },
  {
   "cell_type": "markdown",
   "metadata": {},
   "source": [
    "### Red neuronal con early stopping"
   ]
  },
  {
   "cell_type": "markdown",
   "metadata": {},
   "source": [
    "El early stopping es otro parametro para evitar el overfit. La idea de esto es que si el modelo no mejora despues de cierta cantidad de epochs, se detiene el entrenamiento."
   ]
  },
  {
   "cell_type": "code",
   "execution_count": 100,
   "metadata": {},
   "outputs": [
    {
     "name": "stdout",
     "output_type": "stream",
     "text": [
      "Epoch 1/10\n",
      "1198/1218 [============================>.] - ETA: 0s - loss: 0.6760 - accuracy: 0.8055WARNING:tensorflow:Early stopping conditioned on metric `val_loss` which is not available. Available metrics are: loss,accuracy\n",
      "1218/1218 [==============================] - 1s 633us/step - loss: 0.6725 - accuracy: 0.8061\n",
      "Epoch 2/10\n",
      "1164/1218 [===========================>..] - ETA: 0s - loss: 0.4535 - accuracy: 0.8213WARNING:tensorflow:Early stopping conditioned on metric `val_loss` which is not available. Available metrics are: loss,accuracy\n",
      "1218/1218 [==============================] - 1s 649us/step - loss: 0.4528 - accuracy: 0.8213\n",
      "Epoch 3/10\n",
      "1199/1218 [============================>.] - ETA: 0s - loss: 0.4288 - accuracy: 0.8243WARNING:tensorflow:Early stopping conditioned on metric `val_loss` which is not available. Available metrics are: loss,accuracy\n",
      "1218/1218 [==============================] - 1s 592us/step - loss: 0.4289 - accuracy: 0.8243\n",
      "Epoch 4/10\n",
      "1189/1218 [============================>.] - ETA: 0s - loss: 0.4173 - accuracy: 0.8261WARNING:tensorflow:Early stopping conditioned on metric `val_loss` which is not available. Available metrics are: loss,accuracy\n",
      "1218/1218 [==============================] - 1s 594us/step - loss: 0.4174 - accuracy: 0.8263\n",
      "Epoch 5/10\n",
      "1189/1218 [============================>.] - ETA: 0s - loss: 0.4106 - accuracy: 0.8296WARNING:tensorflow:Early stopping conditioned on metric `val_loss` which is not available. Available metrics are: loss,accuracy\n",
      "1218/1218 [==============================] - 1s 636us/step - loss: 0.4100 - accuracy: 0.8299\n",
      "Epoch 6/10\n",
      "1152/1218 [===========================>..] - ETA: 0s - loss: 0.4018 - accuracy: 0.8287WARNING:tensorflow:Early stopping conditioned on metric `val_loss` which is not available. Available metrics are: loss,accuracy\n",
      "1218/1218 [==============================] - 1s 615us/step - loss: 0.4021 - accuracy: 0.8287\n",
      "Epoch 7/10\n",
      "1216/1218 [============================>.] - ETA: 0s - loss: 0.4021 - accuracy: 0.8302WARNING:tensorflow:Early stopping conditioned on metric `val_loss` which is not available. Available metrics are: loss,accuracy\n",
      "1218/1218 [==============================] - 1s 623us/step - loss: 0.4021 - accuracy: 0.8302\n",
      "Epoch 8/10\n",
      "1211/1218 [============================>.] - ETA: 0s - loss: 0.4005 - accuracy: 0.8326WARNING:tensorflow:Early stopping conditioned on metric `val_loss` which is not available. Available metrics are: loss,accuracy\n",
      "1218/1218 [==============================] - 1s 583us/step - loss: 0.4007 - accuracy: 0.8324\n",
      "Epoch 9/10\n",
      "1202/1218 [============================>.] - ETA: 0s - loss: 0.3976 - accuracy: 0.8324WARNING:tensorflow:Early stopping conditioned on metric `val_loss` which is not available. Available metrics are: loss,accuracy\n",
      "1218/1218 [==============================] - 1s 587us/step - loss: 0.3981 - accuracy: 0.8320\n",
      "Epoch 10/10\n",
      "1163/1218 [===========================>..] - ETA: 0s - loss: 0.3989 - accuracy: 0.8322WARNING:tensorflow:Early stopping conditioned on metric `val_loss` which is not available. Available metrics are: loss,accuracy\n",
      "1218/1218 [==============================] - 1s 615us/step - loss: 0.3982 - accuracy: 0.8321\n",
      "522/522 [==============================] - 0s 295us/step\n",
      "Accuracy: 0.8539083557951482\n",
      "Recall: 0.858021712907117\n",
      "Precision: 0.849313432835821\n",
      "f1 score: 0.8536453645364537\n"
     ]
    },
    {
     "data": {
      "image/png": "[encoded data removed]",
      "text/plain": [
       "<Figure size 640x480 with 2 Axes>"
      ]
     },
     "metadata": {},
     "output_type": "display_data"
    },
    {
     "name": "stdout",
     "output_type": "stream",
     "text": [
      "1218/1218 [==============================] - 0s 295us/step\n",
      "Accuracy: 0.8542420741881658\n",
      "Recall: 0.8621513530358905\n",
      "Precision: 0.845895123069867\n",
      "f1 score: 0.8539458792056797\n"
     ]
    }
   ],
   "source": [
    "modelo = keras.Sequential([\n",
    "    keras.layers.Dense(128, input_shape=(x_train_escalado_min_max.shape[1],), activation='relu', kernel_regularizer=keras.regularizers.l1_l2(l1=0.001, l2=0.001)),\n",
    "    keras.layers.BatchNormalization(),\n",
    "    keras.layers.Dropout(0.2),\n",
    "    keras.layers.Dense(1, activation='sigmoid')\n",
    "\n",
    "])\n",
    "\n",
    "modelo.compile(optimizer='adam',\n",
    "                loss='binary_crossentropy',\n",
    "                metrics=['accuracy'])\n",
    "\n",
    "early_stopping = keras.callbacks.EarlyStopping(\n",
    "    patience=10,\n",
    "    min_delta=0.001,\n",
    "    restore_best_weights=True,\n",
    ")\n",
    "\n",
    "modelo.fit(x_train_escalado_min_max, y_train, epochs=10, callbacks=[early_stopping])\n",
    "\n",
    "y_prediccion = modelo.predict(x_test_escalado_min_max)\n",
    "mostrar_scores(y_test, y_prediccion.round())\n",
    "\n",
    "tabla = confusion_matrix(y_test, y_prediccion.round())\n",
    "sns.heatmap(tabla, cmap='GnBu', annot=True, fmt='g')\n",
    "plt.title('Matriz de confusión')\n",
    "plt.xlabel('Predicted')\n",
    "plt.ylabel('True')\n",
    "plt.show()\n",
    "\n",
    "\n",
    "y_prediccion_train = modelo.predict(x_train_escalado_min_max)\n",
    "mostrar_scores(y_train, y_prediccion_train.round())"
   ]
  },
  {
   "cell_type": "markdown",
   "metadata": {},
   "source": [
    "Aqui podemos notar el mismo caso que el del modelo anterior pero aun mas acentuado, donde la precision es mucho mas alta que el recall."
   ]
  },
  {
   "cell_type": "markdown",
   "metadata": {},
   "source": [
    "### Red neuronal con learning rate"
   ]
  },
  {
   "cell_type": "markdown",
   "metadata": {},
   "source": [
    "Por ultimo, agregamos el learning rate el cual es clave para las redes neuronales. Este parametro es el que determina el tamaño del paso que se da en cada iteracion mientras se busca un minimo de la funcion de perdida. Si el learning rate es muy pequeño, el entrenamiento va a ser muy lento. Si el learning rate es muy grande, el entrenamiento puede no converger o incluso diverger."
   ]
  },
  {
   "cell_type": "code",
   "execution_count": 101,
   "metadata": {},
   "outputs": [
    {
     "name": "stdout",
     "output_type": "stream",
     "text": [
      "Epoch 1/20\n",
      "1218/1218 [==============================] - 1s 619us/step - loss: 0.6569 - accuracy: 0.8122\n",
      "Epoch 2/20\n",
      "1218/1218 [==============================] - 1s 772us/step - loss: 0.4475 - accuracy: 0.8242\n",
      "Epoch 3/20\n",
      "1218/1218 [==============================] - 1s 597us/step - loss: 0.4236 - accuracy: 0.8269\n",
      "Epoch 4/20\n",
      "1218/1218 [==============================] - 1s 674us/step - loss: 0.4130 - accuracy: 0.8293\n",
      "Epoch 5/20\n",
      "1218/1218 [==============================] - 1s 588us/step - loss: 0.4084 - accuracy: 0.8302\n",
      "Epoch 6/20\n",
      "1218/1218 [==============================] - 1s 760us/step - loss: 0.4024 - accuracy: 0.8304\n",
      "Epoch 7/20\n",
      "1218/1218 [==============================] - 1s 600us/step - loss: 0.3994 - accuracy: 0.8328\n",
      "Epoch 8/20\n",
      "1218/1218 [==============================] - 1s 588us/step - loss: 0.3987 - accuracy: 0.8335\n",
      "Epoch 9/20\n",
      "1218/1218 [==============================] - 1s 584us/step - loss: 0.3944 - accuracy: 0.8337\n",
      "Epoch 10/20\n",
      "1218/1218 [==============================] - 1s 602us/step - loss: 0.3965 - accuracy: 0.8311\n",
      "Epoch 11/20\n",
      "1218/1218 [==============================] - 1s 585us/step - loss: 0.3956 - accuracy: 0.8325\n",
      "Epoch 12/20\n",
      "1218/1218 [==============================] - 1s 671us/step - loss: 0.3973 - accuracy: 0.8333\n",
      "Epoch 13/20\n",
      "1218/1218 [==============================] - 1s 628us/step - loss: 0.3944 - accuracy: 0.8340\n",
      "Epoch 14/20\n",
      "1218/1218 [==============================] - 1s 596us/step - loss: 0.3950 - accuracy: 0.8331\n",
      "Epoch 15/20\n",
      "1218/1218 [==============================] - 1s 592us/step - loss: 0.3970 - accuracy: 0.8322\n",
      "Epoch 16/20\n",
      "1218/1218 [==============================] - 1s 583us/step - loss: 0.3928 - accuracy: 0.8346\n",
      "Epoch 17/20\n",
      "1218/1218 [==============================] - 1s 603us/step - loss: 0.3940 - accuracy: 0.8347\n",
      "Epoch 18/20\n",
      "1218/1218 [==============================] - 1s 661us/step - loss: 0.3957 - accuracy: 0.8322\n",
      "Epoch 19/20\n",
      "1218/1218 [==============================] - 1s 604us/step - loss: 0.3916 - accuracy: 0.8332\n",
      "Epoch 20/20\n",
      "1218/1218 [==============================] - 1s 588us/step - loss: 0.3932 - accuracy: 0.8352\n",
      "522/522 [==============================] - 0s 391us/step\n",
      "Accuracy: 0.8539682539682539\n",
      "Recall: 0.8588661037394452\n",
      "Precision: 0.848831664282308\n",
      "f1 score: 0.8538194028060919\n"
     ]
    },
    {
     "data": {
      "image/png": "[encoded data removed]",
      "text/plain": [
       "<Figure size 640x480 with 2 Axes>"
      ]
     },
     "metadata": {},
     "output_type": "display_data"
    },
    {
     "name": "stdout",
     "output_type": "stream",
     "text": [
      "1218/1218 [==============================] - 0s 298us/step\n",
      "Accuracy: 0.8535489667565139\n",
      "Recall: 0.8633459720563029\n",
      "Precision: 0.843927701056052\n",
      "f1 score: 0.8535264063262213\n"
     ]
    }
   ],
   "source": [
    "modelo = keras.Sequential([\n",
    "    keras.layers.Dense(128, input_shape=(x_train_escalado_min_max.shape[1],), activation='relu', kernel_regularizer=keras.regularizers.l1_l2(l1=0.001, l2=0.001)),\n",
    "    keras.layers.BatchNormalization(),\n",
    "    keras.layers.Dropout(0.2),\n",
    "    keras.layers.Dense(1, activation='sigmoid')\n",
    "\n",
    "])\n",
    "\n",
    "modelo.compile(optimizer=keras.optimizers.legacy.Adam(learning_rate=0.001),\n",
    "                loss='binary_crossentropy',\n",
    "                metrics=['accuracy'])\n",
    "\n",
    "modelo.fit(x_train_escalado_min_max, y_train, epochs=20)\n",
    "\n",
    "y_prediccion = modelo.predict(x_test_escalado_min_max)\n",
    "mostrar_scores(y_test, y_prediccion.round())\n",
    "\n",
    "tabla = confusion_matrix(y_test, y_prediccion.round())\n",
    "sns.heatmap(tabla, cmap='GnBu', annot=True, fmt='g')\n",
    "plt.title('Matriz de confusión')\n",
    "plt.xlabel('Predicted')\n",
    "plt.ylabel('True')\n",
    "plt.show()\n",
    "\n",
    "y_prediccion_train = modelo.predict(x_train_escalado_min_max)\n",
    "mostrar_scores(y_train, y_prediccion_train.round())"
   ]
  },
  {
   "cell_type": "markdown",
   "metadata": {},
   "source": [
    "Aqui volvemos al caso inverso, donde no solo el recall es mayor, sino que tambien  hay mas casos en general catalogados como cancelados"
   ]
  },
  {
   "cell_type": "markdown",
   "metadata": {},
   "source": [
    "Con esto podemos observar como el loss va disminuyendo a medida que pasan los epochs."
   ]
  },
  {
   "cell_type": "code",
   "execution_count": 102,
   "metadata": {},
   "outputs": [
    {
     "name": "stdout",
     "output_type": "stream",
     "text": [
      "Epoch 1/50\n",
      "   1/1218 [..............................] - ETA: 2s - loss: 0.3701 - accuracy: 0.8438"
     ]
    },
    {
     "name": "stdout",
     "output_type": "stream",
     "text": [
      "1150/1218 [===========================>..] - ETA: 0s - loss: 0.3938 - accuracy: 0.8330WARNING:tensorflow:Early stopping conditioned on metric `val_loss` which is not available. Available metrics are: loss,accuracy\n",
      "1218/1218 [==============================] - 1s 612us/step - loss: 0.3933 - accuracy: 0.8334\n",
      "Epoch 2/50\n",
      "1211/1218 [============================>.] - ETA: 0s - loss: 0.3909 - accuracy: 0.8360WARNING:tensorflow:Early stopping conditioned on metric `val_loss` which is not available. Available metrics are: loss,accuracy\n",
      "1218/1218 [==============================] - 1s 624us/step - loss: 0.3907 - accuracy: 0.8362\n",
      "Epoch 3/50\n",
      "1172/1218 [===========================>..] - ETA: 0s - loss: 0.3916 - accuracy: 0.8348WARNING:tensorflow:Early stopping conditioned on metric `val_loss` which is not available. Available metrics are: loss,accuracy\n",
      "1218/1218 [==============================] - 1s 601us/step - loss: 0.3923 - accuracy: 0.8349\n",
      "Epoch 4/50\n",
      "1181/1218 [============================>.] - ETA: 0s - loss: 0.3919 - accuracy: 0.8328WARNING:tensorflow:Early stopping conditioned on metric `val_loss` which is not available. Available metrics are: loss,accuracy\n",
      "1218/1218 [==============================] - 1s 598us/step - loss: 0.3916 - accuracy: 0.8331\n",
      "Epoch 5/50\n",
      "1177/1218 [===========================>..] - ETA: 0s - loss: 0.3938 - accuracy: 0.8331WARNING:tensorflow:Early stopping conditioned on metric `val_loss` which is not available. Available metrics are: loss,accuracy\n",
      "1218/1218 [==============================] - 1s 641us/step - loss: 0.3930 - accuracy: 0.8333\n",
      "Epoch 6/50\n",
      "1210/1218 [============================>.] - ETA: 0s - loss: 0.3912 - accuracy: 0.8338WARNING:tensorflow:Early stopping conditioned on metric `val_loss` which is not available. Available metrics are: loss,accuracy\n",
      "1218/1218 [==============================] - 1s 724us/step - loss: 0.3910 - accuracy: 0.8338\n",
      "Epoch 7/50\n",
      "1175/1218 [===========================>..] - ETA: 0s - loss: 0.3903 - accuracy: 0.8361WARNING:tensorflow:Early stopping conditioned on metric `val_loss` which is not available. Available metrics are: loss,accuracy\n",
      "1218/1218 [==============================] - 1s 602us/step - loss: 0.3902 - accuracy: 0.8360\n",
      "Epoch 8/50\n",
      "1181/1218 [============================>.] - ETA: 0s - loss: 0.3927 - accuracy: 0.8349WARNING:tensorflow:Early stopping conditioned on metric `val_loss` which is not available. Available metrics are: loss,accuracy\n",
      "1218/1218 [==============================] - 1s 598us/step - loss: 0.3931 - accuracy: 0.8346\n",
      "Epoch 9/50\n",
      "1167/1218 [===========================>..] - ETA: 0s - loss: 0.3912 - accuracy: 0.8340WARNING:tensorflow:Early stopping conditioned on metric `val_loss` which is not available. Available metrics are: loss,accuracy\n",
      "1218/1218 [==============================] - 1s 610us/step - loss: 0.3920 - accuracy: 0.8336\n",
      "Epoch 10/50\n",
      "1171/1218 [===========================>..] - ETA: 0s - loss: 0.3917 - accuracy: 0.8332WARNING:tensorflow:Early stopping conditioned on metric `val_loss` which is not available. Available metrics are: loss,accuracy\n",
      "1218/1218 [==============================] - 1s 603us/step - loss: 0.3912 - accuracy: 0.8334\n",
      "Epoch 11/50\n",
      "1202/1218 [============================>.] - ETA: 0s - loss: 0.3920 - accuracy: 0.8330WARNING:tensorflow:Early stopping conditioned on metric `val_loss` which is not available. Available metrics are: loss,accuracy\n",
      "1218/1218 [==============================] - 1s 628us/step - loss: 0.3918 - accuracy: 0.8331\n",
      "Epoch 12/50\n",
      "1187/1218 [============================>.] - ETA: 0s - loss: 0.3943 - accuracy: 0.8324WARNING:tensorflow:Early stopping conditioned on metric `val_loss` which is not available. Available metrics are: loss,accuracy\n",
      "1218/1218 [==============================] - 1s 679us/step - loss: 0.3934 - accuracy: 0.8332\n",
      "Epoch 13/50\n",
      "1181/1218 [============================>.] - ETA: 0s - loss: 0.3919 - accuracy: 0.8352WARNING:tensorflow:Early stopping conditioned on metric `val_loss` which is not available. Available metrics are: loss,accuracy\n",
      "1218/1218 [==============================] - 1s 599us/step - loss: 0.3917 - accuracy: 0.8352\n",
      "Epoch 14/50\n",
      "1178/1218 [============================>.] - ETA: 0s - loss: 0.3915 - accuracy: 0.8355WARNING:tensorflow:Early stopping conditioned on metric `val_loss` which is not available. Available metrics are: loss,accuracy\n",
      "1218/1218 [==============================] - 1s 599us/step - loss: 0.3911 - accuracy: 0.8355\n",
      "Epoch 15/50\n",
      "1206/1218 [============================>.] - ETA: 0s - loss: 0.3915 - accuracy: 0.8341WARNING:tensorflow:Early stopping conditioned on metric `val_loss` which is not available. Available metrics are: loss,accuracy\n",
      "1218/1218 [==============================] - 1s 669us/step - loss: 0.3915 - accuracy: 0.8339\n",
      "Epoch 16/50\n",
      "1195/1218 [============================>.] - ETA: 0s - loss: 0.3904 - accuracy: 0.8351WARNING:tensorflow:Early stopping conditioned on metric `val_loss` which is not available. Available metrics are: loss,accuracy\n",
      "1218/1218 [==============================] - 1s 592us/step - loss: 0.3913 - accuracy: 0.8344\n",
      "Epoch 17/50\n",
      "1152/1218 [===========================>..] - ETA: 0s - loss: 0.3910 - accuracy: 0.8338WARNING:tensorflow:Early stopping conditioned on metric `val_loss` which is not available. Available metrics are: loss,accuracy\n",
      "1218/1218 [==============================] - 1s 613us/step - loss: 0.3916 - accuracy: 0.8335\n",
      "Epoch 18/50\n",
      "1218/1218 [==============================] - ETA: 0s - loss: 0.3903 - accuracy: 0.8341WARNING:tensorflow:Early stopping conditioned on metric `val_loss` which is not available. Available metrics are: loss,accuracy\n",
      "1218/1218 [==============================] - 1s 621us/step - loss: 0.3903 - accuracy: 0.8341\n",
      "Epoch 19/50\n",
      "1154/1218 [===========================>..] - ETA: 0s - loss: 0.3861 - accuracy: 0.8345WARNING:tensorflow:Early stopping conditioned on metric `val_loss` which is not available. Available metrics are: loss,accuracy\n",
      "1218/1218 [==============================] - 1s 610us/step - loss: 0.3869 - accuracy: 0.8341\n",
      "Epoch 20/50\n",
      "1179/1218 [============================>.] - ETA: 0s - loss: 0.3935 - accuracy: 0.8338WARNING:tensorflow:Early stopping conditioned on metric `val_loss` which is not available. Available metrics are: loss,accuracy\n",
      "1218/1218 [==============================] - 1s 599us/step - loss: 0.3934 - accuracy: 0.8338\n",
      "Epoch 21/50\n",
      "1187/1218 [============================>.] - ETA: 0s - loss: 0.3904 - accuracy: 0.8350WARNING:tensorflow:Early stopping conditioned on metric `val_loss` which is not available. Available metrics are: loss,accuracy\n",
      "1218/1218 [==============================] - 1s 594us/step - loss: 0.3907 - accuracy: 0.8341\n",
      "Epoch 22/50\n",
      "1196/1218 [============================>.] - ETA: 0s - loss: 0.3876 - accuracy: 0.8333WARNING:tensorflow:Early stopping conditioned on metric `val_loss` which is not available. Available metrics are: loss,accuracy\n",
      "1218/1218 [==============================] - 1s 631us/step - loss: 0.3877 - accuracy: 0.8333\n",
      "Epoch 23/50\n",
      "1186/1218 [============================>.] - ETA: 0s - loss: 0.3906 - accuracy: 0.8341WARNING:tensorflow:Early stopping conditioned on metric `val_loss` which is not available. Available metrics are: loss,accuracy\n",
      "1218/1218 [==============================] - 1s 596us/step - loss: 0.3909 - accuracy: 0.8338\n",
      "Epoch 24/50\n",
      "1167/1218 [===========================>..] - ETA: 0s - loss: 0.3916 - accuracy: 0.8334WARNING:tensorflow:Early stopping conditioned on metric `val_loss` which is not available. Available metrics are: loss,accuracy\n",
      "1218/1218 [==============================] - 1s 605us/step - loss: 0.3915 - accuracy: 0.8335\n",
      "Epoch 25/50\n",
      "1153/1218 [===========================>..] - ETA: 0s - loss: 0.3897 - accuracy: 0.8358WARNING:tensorflow:Early stopping conditioned on metric `val_loss` which is not available. Available metrics are: loss,accuracy\n",
      "1218/1218 [==============================] - 1s 655us/step - loss: 0.3910 - accuracy: 0.8352\n",
      "Epoch 26/50\n",
      "1157/1218 [===========================>..] - ETA: 0s - loss: 0.3886 - accuracy: 0.8356WARNING:tensorflow:Early stopping conditioned on metric `val_loss` which is not available. Available metrics are: loss,accuracy\n",
      "1218/1218 [==============================] - 1s 608us/step - loss: 0.3892 - accuracy: 0.8348\n",
      "Epoch 27/50\n",
      "1182/1218 [============================>.] - ETA: 0s - loss: 0.3912 - accuracy: 0.8334WARNING:tensorflow:Early stopping conditioned on metric `val_loss` which is not available. Available metrics are: loss,accuracy\n",
      "1218/1218 [==============================] - 1s 597us/step - loss: 0.3905 - accuracy: 0.8340\n",
      "Epoch 28/50\n",
      "1214/1218 [============================>.] - ETA: 0s - loss: 0.3920 - accuracy: 0.8335WARNING:tensorflow:Early stopping conditioned on metric `val_loss` which is not available. Available metrics are: loss,accuracy\n",
      "1218/1218 [==============================] - 1s 623us/step - loss: 0.3920 - accuracy: 0.8336\n",
      "Epoch 29/50\n",
      "1149/1218 [===========================>..] - ETA: 0s - loss: 0.3909 - accuracy: 0.8356WARNING:tensorflow:Early stopping conditioned on metric `val_loss` which is not available. Available metrics are: loss,accuracy\n",
      "1218/1218 [==============================] - 1s 617us/step - loss: 0.3911 - accuracy: 0.8352\n",
      "Epoch 30/50\n",
      "1158/1218 [===========================>..] - ETA: 0s - loss: 0.3888 - accuracy: 0.8339WARNING:tensorflow:Early stopping conditioned on metric `val_loss` which is not available. Available metrics are: loss,accuracy\n",
      "1218/1218 [==============================] - 1s 697us/step - loss: 0.3894 - accuracy: 0.8338\n",
      "Epoch 31/50\n",
      "1217/1218 [============================>.] - ETA: 0s - loss: 0.3914 - accuracy: 0.8347WARNING:tensorflow:Early stopping conditioned on metric `val_loss` which is not available. Available metrics are: loss,accuracy\n",
      "1218/1218 [==============================] - 1s 621us/step - loss: 0.3914 - accuracy: 0.8347\n",
      "Epoch 32/50\n",
      "1186/1218 [============================>.] - ETA: 0s - loss: 0.3894 - accuracy: 0.8332WARNING:tensorflow:Early stopping conditioned on metric `val_loss` which is not available. Available metrics are: loss,accuracy\n",
      "1218/1218 [==============================] - 1s 595us/step - loss: 0.3884 - accuracy: 0.8340\n",
      "Epoch 33/50\n",
      "1189/1218 [============================>.] - ETA: 0s - loss: 0.3907 - accuracy: 0.8332WARNING:tensorflow:Early stopping conditioned on metric `val_loss` which is not available. Available metrics are: loss,accuracy\n",
      "1218/1218 [==============================] - 1s 679us/step - loss: 0.3902 - accuracy: 0.8335\n",
      "Epoch 34/50\n",
      "1182/1218 [============================>.] - ETA: 0s - loss: 0.3884 - accuracy: 0.8354WARNING:tensorflow:Early stopping conditioned on metric `val_loss` which is not available. Available metrics are: loss,accuracy\n",
      "1218/1218 [==============================] - 1s 638us/step - loss: 0.3882 - accuracy: 0.8355\n",
      "Epoch 35/50\n",
      "1174/1218 [===========================>..] - ETA: 0s - loss: 0.3901 - accuracy: 0.8315WARNING:tensorflow:Early stopping conditioned on metric `val_loss` which is not available. Available metrics are: loss,accuracy\n",
      "1218/1218 [==============================] - 1s 600us/step - loss: 0.3906 - accuracy: 0.8314\n",
      "Epoch 36/50\n",
      "1172/1218 [===========================>..] - ETA: 0s - loss: 0.3899 - accuracy: 0.8332WARNING:tensorflow:Early stopping conditioned on metric `val_loss` which is not available. Available metrics are: loss,accuracy\n",
      "1218/1218 [==============================] - 1s 602us/step - loss: 0.3898 - accuracy: 0.8333\n",
      "Epoch 37/50\n",
      "1132/1218 [==========================>...] - ETA: 0s - loss: 0.3897 - accuracy: 0.8346WARNING:tensorflow:Early stopping conditioned on metric `val_loss` which is not available. Available metrics are: loss,accuracy\n",
      "1218/1218 [==============================] - 1s 618us/step - loss: 0.3905 - accuracy: 0.8338\n",
      "Epoch 38/50\n",
      "1186/1218 [============================>.] - ETA: 0s - loss: 0.3894 - accuracy: 0.8342WARNING:tensorflow:Early stopping conditioned on metric `val_loss` which is not available. Available metrics are: loss,accuracy\n",
      "1218/1218 [==============================] - 1s 597us/step - loss: 0.3894 - accuracy: 0.8340\n",
      "Epoch 39/50\n",
      "1185/1218 [============================>.] - ETA: 0s - loss: 0.3875 - accuracy: 0.8359WARNING:tensorflow:Early stopping conditioned on metric `val_loss` which is not available. Available metrics are: loss,accuracy\n",
      "1218/1218 [==============================] - 1s 594us/step - loss: 0.3871 - accuracy: 0.8359\n",
      "Epoch 40/50\n",
      "1186/1218 [============================>.] - ETA: 0s - loss: 0.3879 - accuracy: 0.8351WARNING:tensorflow:Early stopping conditioned on metric `val_loss` which is not available. Available metrics are: loss,accuracy\n",
      "1218/1218 [==============================] - 1s 636us/step - loss: 0.3872 - accuracy: 0.8352\n",
      "Epoch 41/50\n",
      "1189/1218 [============================>.] - ETA: 0s - loss: 0.3894 - accuracy: 0.8356WARNING:tensorflow:Early stopping conditioned on metric `val_loss` which is not available. Available metrics are: loss,accuracy\n",
      "1218/1218 [==============================] - 1s 593us/step - loss: 0.3893 - accuracy: 0.8354\n",
      "Epoch 42/50\n",
      "1183/1218 [============================>.] - ETA: 0s - loss: 0.3857 - accuracy: 0.8346WARNING:tensorflow:Early stopping conditioned on metric `val_loss` which is not available. Available metrics are: loss,accuracy\n",
      "1218/1218 [==============================] - 1s 597us/step - loss: 0.3858 - accuracy: 0.8347\n",
      "Epoch 43/50\n",
      "1183/1218 [============================>.] - ETA: 0s - loss: 0.3886 - accuracy: 0.8332WARNING:tensorflow:Early stopping conditioned on metric `val_loss` which is not available. Available metrics are: loss,accuracy\n",
      "1218/1218 [==============================] - 1s 596us/step - loss: 0.3883 - accuracy: 0.8336\n",
      "Epoch 44/50\n",
      "1204/1218 [============================>.] - ETA: 0s - loss: 0.3883 - accuracy: 0.8337WARNING:tensorflow:Early stopping conditioned on metric `val_loss` which is not available. Available metrics are: loss,accuracy\n",
      "1218/1218 [==============================] - 1s 627us/step - loss: 0.3876 - accuracy: 0.8343\n",
      "Epoch 45/50\n",
      "1183/1218 [============================>.] - ETA: 0s - loss: 0.3877 - accuracy: 0.8351WARNING:tensorflow:Early stopping conditioned on metric `val_loss` which is not available. Available metrics are: loss,accuracy\n",
      "1218/1218 [==============================] - 1s 598us/step - loss: 0.3883 - accuracy: 0.8350\n",
      "Epoch 46/50\n",
      "1180/1218 [============================>.] - ETA: 0s - loss: 0.3909 - accuracy: 0.8318WARNING:tensorflow:Early stopping conditioned on metric `val_loss` which is not available. Available metrics are: loss,accuracy\n",
      "1218/1218 [==============================] - 1s 605us/step - loss: 0.3910 - accuracy: 0.8315\n",
      "Epoch 47/50\n",
      "1156/1218 [===========================>..] - ETA: 0s - loss: 0.3878 - accuracy: 0.8355WARNING:tensorflow:Early stopping conditioned on metric `val_loss` which is not available. Available metrics are: loss,accuracy\n",
      "1218/1218 [==============================] - 1s 738us/step - loss: 0.3876 - accuracy: 0.8356\n",
      "Epoch 48/50\n",
      "1165/1218 [===========================>..] - ETA: 0s - loss: 0.3878 - accuracy: 0.8339WARNING:tensorflow:Early stopping conditioned on metric `val_loss` which is not available. Available metrics are: loss,accuracy\n",
      "1218/1218 [==============================] - 1s 606us/step - loss: 0.3877 - accuracy: 0.8342\n",
      "Epoch 49/50\n",
      "1186/1218 [============================>.] - ETA: 0s - loss: 0.3871 - accuracy: 0.8354WARNING:tensorflow:Early stopping conditioned on metric `val_loss` which is not available. Available metrics are: loss,accuracy\n",
      "1218/1218 [==============================] - 1s 596us/step - loss: 0.3868 - accuracy: 0.8357\n",
      "Epoch 50/50\n",
      "1209/1218 [============================>.] - ETA: 0s - loss: 0.3904 - accuracy: 0.8349WARNING:tensorflow:Early stopping conditioned on metric `val_loss` which is not available. Available metrics are: loss,accuracy\n",
      "1218/1218 [==============================] - 1s 626us/step - loss: 0.3907 - accuracy: 0.8347\n"
     ]
    },
    {
     "data": {
      "image/png": "[encoded data removed]",
      "text/plain": [
       "<Figure size 640x480 with 1 Axes>"
      ]
     },
     "metadata": {},
     "output_type": "display_data"
    }
   ],
   "source": [
    "history = modelo.fit(x_train_escalado_min_max, y_train, epochs=50, callbacks=[early_stopping])\n",
    "\n",
    "plt.plot(history.history['loss'])\n",
    "plt.title('Loss por epoch')\n",
    "plt.xlabel('Epoch')\n",
    "plt.ylabel('Loss')\n",
    "plt.show()"
   ]
  },
  {
   "cell_type": "markdown",
   "metadata": {},
   "source": [
    "#### Red neuronal con regularizador L2 y optimizador de Descenso por Gradiente Estocastico con learning rate"
   ]
  },
  {
   "cell_type": "markdown",
   "metadata": {},
   "source": [
    "Probamos con el optimizador de SGD ya que es el mas basico y en algunos casos puede llegar a obtener mejores resultados que el de Adam."
   ]
  },
  {
   "cell_type": "code",
   "execution_count": 103,
   "metadata": {},
   "outputs": [
    {
     "name": "stdout",
     "output_type": "stream",
     "text": [
      "Epoch 1/60\n",
      "1218/1218 [==============================] - 1s 452us/step - loss: 0.6746 - accuracy: 0.7239\n",
      "Epoch 2/60\n",
      "1218/1218 [==============================] - 1s 484us/step - loss: 0.5577 - accuracy: 0.7874\n",
      "Epoch 3/60\n",
      "1218/1218 [==============================] - 1s 481us/step - loss: 0.5161 - accuracy: 0.8036\n",
      "Epoch 4/60\n",
      "1218/1218 [==============================] - 1s 460us/step - loss: 0.4956 - accuracy: 0.8119\n",
      "Epoch 5/60\n",
      "1218/1218 [==============================] - 1s 452us/step - loss: 0.4826 - accuracy: 0.8178\n",
      "Epoch 6/60\n",
      "1218/1218 [==============================] - 1s 448us/step - loss: 0.4732 - accuracy: 0.8221\n",
      "Epoch 7/60\n",
      "1218/1218 [==============================] - 1s 438us/step - loss: 0.4651 - accuracy: 0.8242\n",
      "Epoch 8/60\n",
      "1218/1218 [==============================] - 1s 439us/step - loss: 0.4581 - accuracy: 0.8261\n",
      "Epoch 9/60\n",
      "1218/1218 [==============================] - 1s 462us/step - loss: 0.4519 - accuracy: 0.8273\n",
      "Epoch 10/60\n",
      "1218/1218 [==============================] - 1s 439us/step - loss: 0.4462 - accuracy: 0.8284\n",
      "Epoch 11/60\n",
      "1218/1218 [==============================] - 1s 447us/step - loss: 0.4410 - accuracy: 0.8289\n",
      "Epoch 12/60\n",
      "1218/1218 [==============================] - 1s 476us/step - loss: 0.4365 - accuracy: 0.8301\n",
      "Epoch 13/60\n",
      "1218/1218 [==============================] - 1s 532us/step - loss: 0.4321 - accuracy: 0.8312\n",
      "Epoch 14/60\n",
      "1218/1218 [==============================] - 1s 485us/step - loss: 0.4283 - accuracy: 0.8320\n",
      "Epoch 15/60\n",
      "1218/1218 [==============================] - 1s 439us/step - loss: 0.4246 - accuracy: 0.8333\n",
      "Epoch 16/60\n",
      "1218/1218 [==============================] - 1s 443us/step - loss: 0.4213 - accuracy: 0.8335\n",
      "Epoch 17/60\n",
      "1218/1218 [==============================] - 1s 441us/step - loss: 0.4180 - accuracy: 0.8358\n",
      "Epoch 18/60\n",
      "1218/1218 [==============================] - 1s 515us/step - loss: 0.4150 - accuracy: 0.8357\n",
      "Epoch 19/60\n",
      "1218/1218 [==============================] - 1s 467us/step - loss: 0.4124 - accuracy: 0.8367\n",
      "Epoch 20/60\n",
      "1218/1218 [==============================] - 1s 440us/step - loss: 0.4097 - accuracy: 0.8375\n",
      "Epoch 21/60\n",
      "1218/1218 [==============================] - 1s 457us/step - loss: 0.4071 - accuracy: 0.8385\n",
      "Epoch 22/60\n",
      "1218/1218 [==============================] - 1s 445us/step - loss: 0.4049 - accuracy: 0.8386\n",
      "Epoch 23/60\n",
      "1218/1218 [==============================] - 1s 459us/step - loss: 0.4026 - accuracy: 0.8390\n",
      "Epoch 24/60\n",
      "1218/1218 [==============================] - 1s 466us/step - loss: 0.4002 - accuracy: 0.8412\n",
      "Epoch 25/60\n",
      "1218/1218 [==============================] - 1s 696us/step - loss: 0.3985 - accuracy: 0.8407\n",
      "Epoch 26/60\n",
      "1218/1218 [==============================] - 1s 481us/step - loss: 0.3962 - accuracy: 0.8417\n",
      "Epoch 27/60\n",
      "1218/1218 [==============================] - 1s 442us/step - loss: 0.3943 - accuracy: 0.8423\n",
      "Epoch 28/60\n",
      "1218/1218 [==============================] - 1s 485us/step - loss: 0.3926 - accuracy: 0.8422\n",
      "Epoch 29/60\n",
      "1218/1218 [==============================] - 1s 504us/step - loss: 0.3910 - accuracy: 0.8433\n",
      "Epoch 30/60\n",
      "1218/1218 [==============================] - 1s 481us/step - loss: 0.3890 - accuracy: 0.8428\n",
      "Epoch 31/60\n",
      "1218/1218 [==============================] - 1s 458us/step - loss: 0.3875 - accuracy: 0.8445\n",
      "Epoch 32/60\n",
      "1218/1218 [==============================] - 1s 460us/step - loss: 0.3860 - accuracy: 0.8452\n",
      "Epoch 33/60\n",
      "1218/1218 [==============================] - 1s 452us/step - loss: 0.3842 - accuracy: 0.8457\n",
      "Epoch 34/60\n",
      "1218/1218 [==============================] - 1s 471us/step - loss: 0.3828 - accuracy: 0.8455\n",
      "Epoch 35/60\n",
      "1218/1218 [==============================] - 1s 449us/step - loss: 0.3815 - accuracy: 0.8457\n",
      "Epoch 36/60\n",
      "1218/1218 [==============================] - 1s 441us/step - loss: 0.3800 - accuracy: 0.8470\n",
      "Epoch 37/60\n",
      "1218/1218 [==============================] - 1s 439us/step - loss: 0.3785 - accuracy: 0.8467\n",
      "Epoch 38/60\n",
      "1218/1218 [==============================] - 1s 440us/step - loss: 0.3771 - accuracy: 0.8463\n",
      "Epoch 39/60\n",
      "1218/1218 [==============================] - 1s 465us/step - loss: 0.3760 - accuracy: 0.8459\n",
      "Epoch 40/60\n",
      "1218/1218 [==============================] - 1s 475us/step - loss: 0.3748 - accuracy: 0.8465\n",
      "Epoch 41/60\n",
      "1218/1218 [==============================] - 1s 464us/step - loss: 0.3734 - accuracy: 0.8461\n",
      "Epoch 42/60\n",
      "1218/1218 [==============================] - 1s 468us/step - loss: 0.3721 - accuracy: 0.8458\n",
      "Epoch 43/60\n",
      "1218/1218 [==============================] - 1s 446us/step - loss: 0.3710 - accuracy: 0.8475\n",
      "Epoch 44/60\n",
      "1218/1218 [==============================] - 1s 539us/step - loss: 0.3695 - accuracy: 0.8475\n",
      "Epoch 45/60\n",
      "1218/1218 [==============================] - 1s 459us/step - loss: 0.3686 - accuracy: 0.8479\n",
      "Epoch 46/60\n",
      "1218/1218 [==============================] - 1s 441us/step - loss: 0.3674 - accuracy: 0.8479\n",
      "Epoch 47/60\n",
      "1218/1218 [==============================] - 1s 468us/step - loss: 0.3664 - accuracy: 0.8488\n",
      "Epoch 48/60\n",
      "1218/1218 [==============================] - 1s 496us/step - loss: 0.3654 - accuracy: 0.8476\n",
      "Epoch 49/60\n",
      "1218/1218 [==============================] - 1s 448us/step - loss: 0.3643 - accuracy: 0.8479\n",
      "Epoch 50/60\n",
      "1218/1218 [==============================] - 1s 457us/step - loss: 0.3630 - accuracy: 0.8493\n",
      "Epoch 51/60\n",
      "1218/1218 [==============================] - 1s 446us/step - loss: 0.3622 - accuracy: 0.8483\n",
      "Epoch 52/60\n",
      "1218/1218 [==============================] - 1s 442us/step - loss: 0.3611 - accuracy: 0.8488\n",
      "Epoch 53/60\n",
      "1218/1218 [==============================] - 1s 469us/step - loss: 0.3601 - accuracy: 0.8496\n",
      "Epoch 54/60\n",
      "1218/1218 [==============================] - 1s 447us/step - loss: 0.3592 - accuracy: 0.8490\n",
      "Epoch 55/60\n",
      "1218/1218 [==============================] - 1s 446us/step - loss: 0.3584 - accuracy: 0.8488\n",
      "Epoch 56/60\n",
      "1218/1218 [==============================] - 1s 458us/step - loss: 0.3573 - accuracy: 0.8499\n",
      "Epoch 57/60\n",
      "1218/1218 [==============================] - 1s 437us/step - loss: 0.3563 - accuracy: 0.8495\n",
      "Epoch 58/60\n",
      "1218/1218 [==============================] - 1s 469us/step - loss: 0.3557 - accuracy: 0.8489\n",
      "Epoch 59/60\n",
      "1218/1218 [==============================] - 1s 457us/step - loss: 0.3547 - accuracy: 0.8498\n",
      "Epoch 60/60\n",
      "1218/1218 [==============================] - 1s 445us/step - loss: 0.3538 - accuracy: 0.8510\n",
      "522/522 [==============================] - 0s 305us/step\n",
      "Accuracy: 0.8501946690625936\n",
      "Recall: 0.8400482509047045\n",
      "Precision: 0.8556333701928984\n",
      "f1 score: 0.8477691886298618\n"
     ]
    },
    {
     "data": {
      "image/png": "[encoded data removed]",
      "text/plain": [
       "<Figure size 640x480 with 2 Axes>"
      ]
     },
     "metadata": {},
     "output_type": "display_data"
    },
    {
     "name": "stdout",
     "output_type": "stream",
     "text": [
      "1218/1218 [==============================] - 0s 302us/step\n",
      "Accuracy: 0.8507765370299063\n",
      "Recall: 0.8453747467927076\n",
      "Precision: 0.8516115529510255\n",
      "f1 score: 0.8484816890394891\n"
     ]
    }
   ],
   "source": [
    "modelo = keras.Sequential([\n",
    "   keras.layers.Dense(256, input_shape=(x_train_escalado_min_max.shape[1],), activation='relu', kernel_regularizer=keras.regularizers.l2(0.0004)),\n",
    "   keras.layers.Dense(1, activation='sigmoid'),\n",
    "\n",
    "])\n",
    "\n",
    "modelo.compile(optimizer=keras.optimizers.legacy.SGD(learning_rate=0.01),\n",
    "             loss='binary_crossentropy',\n",
    "             metrics=['accuracy'], \n",
    "             \n",
    "             )\n",
    "\n",
    "modelo.fit(x_train_escalado_min_max, y_train, epochs=60)\n",
    "\n",
    "y_prediccion = modelo.predict(x_test_escalado_min_max)\n",
    "mostrar_scores(y_test, y_prediccion.round())\n",
    "\n",
    "tabla = confusion_matrix(y_test, y_prediccion.round())\n",
    "sns.heatmap(tabla, cmap='GnBu', annot=True, fmt='g')\n",
    "plt.title('Matriz de confusión')\n",
    "plt.xlabel('Predicted')\n",
    "plt.ylabel('True')\n",
    "plt.show()\n",
    "\n",
    "\n",
    "y_prediccion_train = modelo.predict(x_train_escalado_min_max)\n",
    "mostrar_scores(y_train, y_prediccion_train.round())"
   ]
  },
  {
   "cell_type": "markdown",
   "metadata": {},
   "source": [
    "Como podemos ver este modelo esta bastante balanceado, sin embargo no predice muy bien en general."
   ]
  },
  {
   "cell_type": "markdown",
   "metadata": {},
   "source": [
    "### Busqueda de hiperparams"
   ]
  },
  {
   "cell_type": "code",
   "execution_count": 104,
   "metadata": {},
   "outputs": [
    {
     "name": "stdout",
     "output_type": "stream",
     "text": [
      "Fitting 5 folds for each of 10 candidates, totalling 50 fits\n"
     ]
    },
    {
     "name": "stdout",
     "output_type": "stream",
     "text": [
      "[CV 3/5; 2/10] START activation=relu, batch_size=32, epochs=10, kernel_initializer=normal, neurons=512, optimizer=adam\n",
      "[CV 1/5; 1/10] START activation=tanh, batch_size=128, epochs=10, kernel_initializer=glorot_uniform, neurons=128, optimizer=adam[CV 2/5; 2/10] START activation=relu, batch_size=32, epochs=10, kernel_initializer=normal, neurons=512, optimizer=adam\n",
      "\n",
      "[CV 2/5; 1/10] START activation=tanh, batch_size=128, epochs=10, kernel_initializer=glorot_uniform, neurons=128, optimizer=adam\n",
      "[CV 1/5; 2/10] START activation=relu, batch_size=32, epochs=10, kernel_initializer=normal, neurons=512, optimizer=adam\n",
      "[CV 4/5; 1/10] START activation=tanh, batch_size=128, epochs=10, kernel_initializer=glorot_uniform, neurons=128, optimizer=adam\n",
      "[CV 3/5; 1/10] START activation=tanh, batch_size=128, epochs=10, kernel_initializer=glorot_uniform, neurons=128, optimizer=adam\n",
      "[CV 5/5; 1/10] START activation=tanh, batch_size=128, epochs=10, kernel_initializer=glorot_uniform, neurons=128, optimizer=adam\n"
     ]
    },
    {
     "name": "stderr",
     "output_type": "stream",
     "text": [
      "2023-11-02 17:14:22.305978: W tensorflow/tsl/platform/profile_utils/cpu_utils.cc:128] Failed to get CPU frequency: 0 Hz\n",
      "2023-11-02 17:14:22.313314: W tensorflow/tsl/platform/profile_utils/cpu_utils.cc:128] Failed to get CPU frequency: 0 Hz\n",
      "2023-11-02 17:14:22.315051: W tensorflow/tsl/platform/profile_utils/cpu_utils.cc:128] Failed to get CPU frequency: 0 Hz\n",
      "2023-11-02 17:14:22.337521: W tensorflow/tsl/platform/profile_utils/cpu_utils.cc:128] Failed to get CPU frequency: 0 Hz\n",
      "2023-11-02 17:14:22.358873: W tensorflow/tsl/platform/profile_utils/cpu_utils.cc:128] Failed to get CPU frequency: 0 Hz\n",
      "2023-11-02 17:14:22.361144: W tensorflow/tsl/platform/profile_utils/cpu_utils.cc:128] Failed to get CPU frequency: 0 Hz\n",
      "2023-11-02 17:14:22.375206: W tensorflow/tsl/platform/profile_utils/cpu_utils.cc:128] Failed to get CPU frequency: 0 Hz\n",
      "2023-11-02 17:14:22.381993: W tensorflow/tsl/platform/profile_utils/cpu_utils.cc:128] Failed to get CPU frequency: 0 Hz\n"
     ]
    },
    {
     "name": "stdout",
     "output_type": "stream",
     "text": [
      "244/244 [==============================] - 0s 1ms/step\n",
      "244/244 [==============================] - 1s 1ms/step\n",
      "172/244 [====================>.........] - ETA: 0s[CV 4/5; 1/10] END activation=tanh, batch_size=128, epochs=10, kernel_initializer=glorot_uniform, neurons=128, optimizer=adam;, score=0.827 total time=  12.5s\n",
      "244/244 [==============================] - 1s 2ms/step\n",
      "244/244 [==============================] - 1s 2ms/step\n",
      "244/244 [==============================] - 1s 3ms/step\n",
      "[CV 3/5; 1/10] END activation=tanh, batch_size=128, epochs=10, kernel_initializer=glorot_uniform, neurons=128, optimizer=adam;, score=0.829 total time=  12.6s\n",
      "[CV 1/5; 1/10] END activation=tanh, batch_size=128, epochs=10, kernel_initializer=glorot_uniform, neurons=128, optimizer=adam;, score=0.843 total time=  12.6s\n",
      "[CV 5/5; 1/10] END activation=tanh, batch_size=128, epochs=10, kernel_initializer=glorot_uniform, neurons=128, optimizer=adam;, score=0.834 total time=  12.6s\n",
      "[CV 4/5; 2/10] START activation=relu, batch_size=32, epochs=10, kernel_initializer=normal, neurons=512, optimizer=adam\n",
      "[CV 2/5; 1/10] END activation=tanh, batch_size=128, epochs=10, kernel_initializer=glorot_uniform, neurons=128, optimizer=adam;, score=0.829 total time=  12.7s\n",
      "[CV 5/5; 2/10] START activation=relu, batch_size=32, epochs=10, kernel_initializer=normal, neurons=512, optimizer=adam\n",
      "[CV 1/5; 3/10] START activation=sigmoid, batch_size=128, epochs=50, kernel_initializer=glorot_uniform, neurons=128, optimizer=adam\n",
      "[CV 2/5; 3/10] START activation=sigmoid, batch_size=128, epochs=50, kernel_initializer=glorot_uniform, neurons=128, optimizer=adam\n",
      "[CV 3/5; 3/10] START activation=sigmoid, batch_size=128, epochs=50, kernel_initializer=glorot_uniform, neurons=128, optimizer=adam\n",
      "244/244 [==============================] - 1s 2ms/step\n",
      "226/244 [==========================>...] - ETA: 0s[CV 1/5; 2/10] END activation=relu, batch_size=32, epochs=10, kernel_initializer=normal, neurons=512, optimizer=adam;, score=0.859 total time=  43.6s\n",
      "244/244 [==============================] - 1s 2ms/step\n",
      "244/244 [==============================] - 1s 3ms/step\n",
      "[CV 4/5; 3/10] START activation=sigmoid, batch_size=128, epochs=50, kernel_initializer=glorot_uniform, neurons=128, optimizer=adam\n",
      "[CV 3/5; 2/10] END activation=relu, batch_size=32, epochs=10, kernel_initializer=normal, neurons=512, optimizer=adam;, score=0.851 total time=  43.9s\n",
      "[CV 2/5; 2/10] END activation=relu, batch_size=32, epochs=10, kernel_initializer=normal, neurons=512, optimizer=adam;, score=0.854 total time=  44.0s\n",
      "[CV 5/5; 3/10] START activation=sigmoid, batch_size=128, epochs=50, kernel_initializer=glorot_uniform, neurons=128, optimizer=adam\n",
      "[CV 1/5; 4/10] START activation=relu, batch_size=16, epochs=100, kernel_initializer=normal, neurons=256, optimizer=adam\n",
      "244/244 [==============================] - 1s 2ms/step\n",
      "244/244 [==============================] - 1s 3ms/step\n",
      "[CV 4/5; 2/10] END activation=relu, batch_size=32, epochs=10, kernel_initializer=normal, neurons=512, optimizer=adam;, score=0.849 total time=  41.8s\n",
      "[CV 5/5; 2/10] END activation=relu, batch_size=32, epochs=10, kernel_initializer=normal, neurons=512, optimizer=adam;, score=0.864 total time=  41.6s\n",
      "[CV 2/5; 4/10] START activation=relu, batch_size=16, epochs=100, kernel_initializer=normal, neurons=256, optimizer=adam\n",
      "[CV 3/5; 4/10] START activation=relu, batch_size=16, epochs=100, kernel_initializer=normal, neurons=256, optimizer=adam\n",
      "244/244 [==============================] - 1s 2ms/step\n",
      " 43/244 [====>.........................] - ETA: 0s[CV 3/5; 3/10] END activation=sigmoid, batch_size=128, epochs=50, kernel_initializer=glorot_uniform, neurons=128, optimizer=adam;, score=0.834 total time=  49.6s\n",
      "[CV 4/5; 4/10] START activation=relu, batch_size=16, epochs=100, kernel_initializer=normal, neurons=256, optimizer=adam\n",
      "244/244 [==============================] - 1s 2ms/step\n",
      "244/244 [==============================] - 1s 2ms/step\n",
      "[CV 1/5; 3/10] END activation=sigmoid, batch_size=128, epochs=50, kernel_initializer=glorot_uniform, neurons=128, optimizer=adam;, score=0.846 total time=  50.3s\n",
      "[CV 5/5; 4/10] START activation=relu, batch_size=16, epochs=100, kernel_initializer=normal, neurons=256, optimizer=adam\n",
      "[CV 2/5; 3/10] END activation=sigmoid, batch_size=128, epochs=50, kernel_initializer=glorot_uniform, neurons=128, optimizer=adam;, score=0.839 total time=  50.3s\n",
      "[CV 1/5; 5/10] START activation=tanh, batch_size=128, epochs=10, kernel_initializer=glorot_uniform, neurons=256, optimizer=adam\n",
      "244/244 [==============================] - 1s 3ms/step\n",
      "[CV 1/5; 5/10] END activation=tanh, batch_size=128, epochs=10, kernel_initializer=glorot_uniform, neurons=256, optimizer=adam;, score=0.832 total time=  12.8s\n",
      "[CV 2/5; 5/10] START activation=tanh, batch_size=128, epochs=10, kernel_initializer=glorot_uniform, neurons=256, optimizer=adam\n",
      "244/244 [==============================] - 1s 2ms/step\n",
      "152/244 [=================>............] - ETA: 0s[CV 4/5; 3/10] END activation=sigmoid, batch_size=128, epochs=50, kernel_initializer=glorot_uniform, neurons=128, optimizer=adam;, score=0.846 total time=  45.1s\n",
      "138/244 [===============>..............] - ETA: 0s[CV 3/5; 5/10] START activation=tanh, batch_size=128, epochs=10, kernel_initializer=glorot_uniform, neurons=256, optimizer=adam\n",
      "244/244 [==============================] - 1s 3ms/step\n",
      "188/244 [======================>.......] - ETA: 0s[CV 2/5; 5/10] END activation=tanh, batch_size=128, epochs=10, kernel_initializer=glorot_uniform, neurons=256, optimizer=adam;, score=0.827 total time=  12.9s\n",
      "[CV 4/5; 5/10] START activation=tanh, batch_size=128, epochs=10, kernel_initializer=glorot_uniform, neurons=256, optimizer=adam\n",
      "244/244 [==============================] - 1s 2ms/step\n",
      "[CV 5/5; 3/10] END activation=sigmoid, batch_size=128, epochs=50, kernel_initializer=glorot_uniform, neurons=128, optimizer=adam;, score=0.841 total time=  45.2s\n",
      "[CV 5/5; 5/10] START activation=tanh, batch_size=128, epochs=10, kernel_initializer=glorot_uniform, neurons=256, optimizer=adam\n",
      "244/244 [==============================] - 1s 2ms/step\n",
      "244/244 [==============================] - 1s 2ms/step\n",
      "[CV 5/5; 5/10] END activation=tanh, batch_size=128, epochs=10, kernel_initializer=glorot_uniform, neurons=256, optimizer=adam;, score=0.836 total time=  12.4s\n",
      "[CV 1/5; 6/10] START activation=tanh, batch_size=64, epochs=50, kernel_initializer=normal, neurons=512, optimizer=adam\n",
      "[CV 3/5; 5/10] END activation=tanh, batch_size=128, epochs=10, kernel_initializer=glorot_uniform, neurons=256, optimizer=adam;, score=0.829 total time=  12.9s\n",
      "[CV 2/5; 6/10] START activation=tanh, batch_size=64, epochs=50, kernel_initializer=normal, neurons=512, optimizer=adam\n",
      "244/244 [==============================] - 1s 2ms/step\n",
      "[CV 4/5; 5/10] END activation=tanh, batch_size=128, epochs=10, kernel_initializer=glorot_uniform, neurons=256, optimizer=adam;, score=0.840 total time=  13.5s\n",
      "[CV 3/5; 6/10] START activation=tanh, batch_size=64, epochs=50, kernel_initializer=normal, neurons=512, optimizer=adam\n",
      "244/244 [==============================] - 1s 3ms/step\n",
      " 55/244 [=====>........................] - ETA: 0s[CV 1/5; 6/10] END activation=tanh, batch_size=64, epochs=50, kernel_initializer=normal, neurons=512, optimizer=adam;, score=0.859 total time= 2.0min\n",
      "[CV 4/5; 6/10] START activation=tanh, batch_size=64, epochs=50, kernel_initializer=normal, neurons=512, optimizer=adam\n",
      "244/244 [==============================] - 1s 4ms/step\n",
      "[CV 2/5; 6/10] END activation=tanh, batch_size=64, epochs=50, kernel_initializer=normal, neurons=512, optimizer=adam;, score=0.855 total time= 2.0min\n",
      "[CV 5/5; 6/10] START activation=tanh, batch_size=64, epochs=50, kernel_initializer=normal, neurons=512, optimizer=adam\n",
      "244/244 [==============================] - 1s 3ms/step\n",
      "[CV 3/5; 6/10] END activation=tanh, batch_size=64, epochs=50, kernel_initializer=normal, neurons=512, optimizer=adam;, score=0.853 total time= 2.0min\n",
      "[CV 1/5; 7/10] START activation=sigmoid, batch_size=128, epochs=50, kernel_initializer=uniform, neurons=256, optimizer=adam\n",
      "244/244 [==============================] - 2s 7ms/step\n",
      "[CV 1/5; 7/10] END activation=sigmoid, batch_size=128, epochs=50, kernel_initializer=uniform, neurons=256, optimizer=adam;, score=0.842 total time= 1.3min\n",
      "[CV 2/5; 7/10] START activation=sigmoid, batch_size=128, epochs=50, kernel_initializer=uniform, neurons=256, optimizer=adam\n",
      "244/244 [==============================] - 1s 2ms/step\n",
      " 63/244 [======>.......................] - ETA: 0s [CV 2/5; 7/10] END activation=sigmoid, batch_size=128, epochs=50, kernel_initializer=uniform, neurons=256, optimizer=adam;, score=0.833 total time= 1.2min\n",
      " 99/244 [===========>..................] - ETA: 0s[CV 3/5; 7/10] START activation=sigmoid, batch_size=128, epochs=50, kernel_initializer=uniform, neurons=256, optimizer=adam\n",
      "244/244 [==============================] - 1s 2ms/step\n",
      "133/244 [===============>..............] - ETA: 0s[CV 4/5; 6/10] END activation=tanh, batch_size=64, epochs=50, kernel_initializer=normal, neurons=512, optimizer=adam;, score=0.859 total time= 2.6min\n",
      "153/244 [=================>............] - ETA: 0s[CV 4/5; 7/10] START activation=sigmoid, batch_size=128, epochs=50, kernel_initializer=uniform, neurons=256, optimizer=adam\n",
      "244/244 [==============================] - 1s 2ms/step\n",
      "[CV 5/5; 6/10] END activation=tanh, batch_size=64, epochs=50, kernel_initializer=normal, neurons=512, optimizer=adam;, score=0.861 total time= 2.6min\n",
      "[CV 5/5; 7/10] START activation=sigmoid, batch_size=128, epochs=50, kernel_initializer=uniform, neurons=256, optimizer=adam\n",
      "244/244 [==============================] - 1s 2ms/step\n",
      "222/244 [==========================>...] - ETA: 0s[CV 3/5; 7/10] END activation=sigmoid, batch_size=128, epochs=50, kernel_initializer=uniform, neurons=256, optimizer=adam;, score=0.833 total time= 1.0min\n",
      "[CV 1/5; 8/10] START activation=tanh, batch_size=128, epochs=50, kernel_initializer=uniform, neurons=512, optimizer=adam\n",
      "244/244 [==============================] - 1s 2ms/step\n",
      "[CV 5/5; 7/10] END activation=sigmoid, batch_size=128, epochs=50, kernel_initializer=uniform, neurons=256, optimizer=adam;, score=0.838 total time=  59.7s\n",
      "[CV 2/5; 8/10] START activation=tanh, batch_size=128, epochs=50, kernel_initializer=uniform, neurons=512, optimizer=adam\n",
      "244/244 [==============================] - 1s 3ms/step\n",
      "[CV 4/5; 7/10] END activation=sigmoid, batch_size=128, epochs=50, kernel_initializer=uniform, neurons=256, optimizer=adam;, score=0.840 total time= 1.4min\n",
      "[CV 3/5; 8/10] START activation=tanh, batch_size=128, epochs=50, kernel_initializer=uniform, neurons=512, optimizer=adam\n",
      "244/244 [==============================] - 1s 4ms/step\n",
      "244/244 [==============================] - 1s 3ms/step\n",
      "[CV 1/5; 8/10] END activation=tanh, batch_size=128, epochs=50, kernel_initializer=uniform, neurons=512, optimizer=adam;, score=0.853 total time= 1.5min\n",
      "[CV 2/5; 8/10] END activation=tanh, batch_size=128, epochs=50, kernel_initializer=uniform, neurons=512, optimizer=adam;, score=0.852 total time= 1.4min\n",
      "[CV 4/5; 8/10] START activation=tanh, batch_size=128, epochs=50, kernel_initializer=uniform, neurons=512, optimizer=adam\n",
      "[CV 5/5; 8/10] START activation=tanh, batch_size=128, epochs=50, kernel_initializer=uniform, neurons=512, optimizer=adam\n",
      "244/244 [==============================] - 1s 3ms/step\n",
      "[CV 3/5; 8/10] END activation=tanh, batch_size=128, epochs=50, kernel_initializer=uniform, neurons=512, optimizer=adam;, score=0.847 total time= 1.5min\n",
      "[CV 1/5; 9/10] START activation=relu, batch_size=64, epochs=50, kernel_initializer=glorot_uniform, neurons=512, optimizer=adam\n",
      "244/244 [==============================] - 1s 3ms/step\n",
      "[CV 5/5; 8/10] END activation=tanh, batch_size=128, epochs=50, kernel_initializer=uniform, neurons=512, optimizer=adam;, score=0.857 total time= 1.5min\n",
      "[CV 2/5; 9/10] START activation=relu, batch_size=64, epochs=50, kernel_initializer=glorot_uniform, neurons=512, optimizer=adam\n",
      "244/244 [==============================] - 1s 3ms/step\n",
      "[CV 4/5; 8/10] END activation=tanh, batch_size=128, epochs=50, kernel_initializer=uniform, neurons=512, optimizer=adam;, score=0.854 total time= 1.5min\n",
      "[CV 3/5; 9/10] START activation=relu, batch_size=64, epochs=50, kernel_initializer=glorot_uniform, neurons=512, optimizer=adam\n",
      "244/244 [==============================] - 1s 2ms/step\n",
      "[CV 1/5; 9/10] END activation=relu, batch_size=64, epochs=50, kernel_initializer=glorot_uniform, neurons=512, optimizer=adam;, score=0.860 total time= 2.3min\n",
      "[CV 4/5; 9/10] START activation=relu, batch_size=64, epochs=50, kernel_initializer=glorot_uniform, neurons=512, optimizer=adam\n",
      "244/244 [==============================] - 1s 3ms/step\n",
      "[CV 2/5; 9/10] END activation=relu, batch_size=64, epochs=50, kernel_initializer=glorot_uniform, neurons=512, optimizer=adam;, score=0.860 total time= 2.2min\n",
      "[CV 5/5; 9/10] START activation=relu, batch_size=64, epochs=50, kernel_initializer=glorot_uniform, neurons=512, optimizer=adam\n",
      "244/244 [==============================] - 2s 7ms/step\n",
      "[CV 3/5; 9/10] END activation=relu, batch_size=64, epochs=50, kernel_initializer=glorot_uniform, neurons=512, optimizer=adam;, score=0.852 total time= 2.3min\n",
      "[CV 1/5; 10/10] START activation=sigmoid, batch_size=64, epochs=10, kernel_initializer=glorot_uniform, neurons=256, optimizer=adam\n",
      "244/244 [==============================] - 1s 3ms/step\n",
      "[CV 1/5; 10/10] END activation=sigmoid, batch_size=64, epochs=10, kernel_initializer=glorot_uniform, neurons=256, optimizer=adam;, score=0.831 total time=  30.1s\n",
      "[CV 2/5; 10/10] START activation=sigmoid, batch_size=64, epochs=10, kernel_initializer=glorot_uniform, neurons=256, optimizer=adam\n",
      "244/244 [==============================] - 1s 5ms/step\n",
      "[CV 2/5; 10/10] END activation=sigmoid, batch_size=64, epochs=10, kernel_initializer=glorot_uniform, neurons=256, optimizer=adam;, score=0.819 total time=  32.9s\n",
      "[CV 3/5; 10/10] START activation=sigmoid, batch_size=64, epochs=10, kernel_initializer=glorot_uniform, neurons=256, optimizer=adam\n",
      "244/244 [==============================] - 2s 7ms/step\n",
      "[CV 4/5; 9/10] END activation=relu, batch_size=64, epochs=50, kernel_initializer=glorot_uniform, neurons=512, optimizer=adam;, score=0.863 total time= 2.4min\n",
      "[CV 4/5; 10/10] START activation=sigmoid, batch_size=64, epochs=10, kernel_initializer=glorot_uniform, neurons=256, optimizer=adam\n",
      "244/244 [==============================] - 1s 4ms/step\n",
      "[CV 1/5; 4/10] END activation=relu, batch_size=16, epochs=100, kernel_initializer=normal, neurons=256, optimizer=adam;, score=0.855 total time=13.2min\n",
      "[CV 5/5; 10/10] START activation=sigmoid, batch_size=64, epochs=10, kernel_initializer=glorot_uniform, neurons=256, optimizer=adam\n",
      "244/244 [==============================] - 1s 5ms/step\n",
      "[CV 3/5; 10/10] END activation=sigmoid, batch_size=64, epochs=10, kernel_initializer=glorot_uniform, neurons=256, optimizer=adam;, score=0.821 total time=  28.5s\n",
      "244/244 [==============================] - 1s 3ms/step\n",
      "222/244 [==========================>...] - ETA: 0s[CV 4/5; 4/10] END activation=relu, batch_size=16, epochs=100, kernel_initializer=normal, neurons=256, optimizer=adam;, score=0.862 total time=13.1min\n",
      "244/244 [==============================] - 1s 3ms/step\n",
      "[CV 3/5; 4/10] END activation=relu, batch_size=16, epochs=100, kernel_initializer=normal, neurons=256, optimizer=adam;, score=0.851 total time=13.2min\n",
      "244/244 [==============================] - 0s 2ms/step\n",
      "200/244 [=======================>......] - ETA: 0s[CV 2/5; 4/10] END activation=relu, batch_size=16, epochs=100, kernel_initializer=normal, neurons=256, optimizer=adam;, score=0.857 total time=13.3min\n",
      "244/244 [==============================] - 0s 1ms/step\n",
      "[CV 5/5; 4/10] END activation=relu, batch_size=16, epochs=100, kernel_initializer=normal, neurons=256, optimizer=adam;, score=0.864 total time=13.1min\n",
      "244/244 [==============================] - 0s 848us/step\n",
      "[CV 4/5; 10/10] END activation=sigmoid, batch_size=64, epochs=10, kernel_initializer=glorot_uniform, neurons=256, optimizer=adam;, score=0.826 total time=  21.5s\n",
      "244/244 [==============================] - 0s 593us/step\n",
      "[CV 5/5; 10/10] END activation=sigmoid, batch_size=64, epochs=10, kernel_initializer=glorot_uniform, neurons=256, optimizer=adam;, score=0.818 total time=  16.4s\n",
      "244/244 [==============================] - 0s 404us/step\n",
      "[CV 5/5; 9/10] END activation=relu, batch_size=64, epochs=50, kernel_initializer=glorot_uniform, neurons=512, optimizer=adam;, score=0.863 total time= 1.9min\n",
      "{'optimizer': 'adam', 'neurons': 512, 'kernel_initializer': 'glorot_uniform', 'epochs': 50, 'batch_size': 64, 'activation': 'relu'}\n",
      "0.8598126042869978\n"
     ]
    }
   ],
   "source": [
    "def crear_modelo(optimizer='adam', kernel_initializer='glorot_uniform', activation='relu', neurons=1):\n",
    "    modelo = keras.Sequential([\n",
    "        keras.layers.Dense(neurons, input_shape=(x_train_escalado_min_max.shape[1],), activation=activation, kernel_initializer=kernel_initializer),\n",
    "        keras.layers.BatchNormalization(),\n",
    "        keras.layers.Dropout(0.2),\n",
    "        keras.layers.Dense(1, activation='sigmoid')\n",
    "\n",
    "    ])\n",
    "\n",
    "    modelo.compile(optimizer=optimizer,\n",
    "                    loss='binary_crossentropy',\n",
    "                    metrics=['accuracy'])\n",
    "\n",
    "    return modelo\n",
    "\n",
    "modelo = KerasClassifier(build_fn=crear_modelo, verbose=0)\n",
    "\n",
    "param_grid = {\n",
    "\n",
    "    'batch_size': [16, 32, 64, 128],\n",
    "    'epochs': [10, 50, 100],\n",
    "    'optimizer': ['adam'],\n",
    "    'activation': ['relu', 'tanh', 'sigmoid'],\n",
    "    'neurons': [128, 256, 512],\n",
    "    'kernel_initializer': ['glorot_uniform', 'normal', 'uniform']\n",
    "}\n",
    "\n",
    "random_search = RandomizedSearchCV(modelo, param_grid, cv=5, n_iter=10, scoring='accuracy', verbose=10, n_jobs=-1)\n",
    "random_search.fit(x_train_escalado_min_max, y_train)\n",
    "\n",
    "print(random_search.best_params_)\n",
    "print(random_search.best_score_)"
   ]
  },
  {
   "cell_type": "markdown",
   "metadata": {},
   "source": [
    "Luego de esta busqueda podemos ver los  resultados de este nuevo modelo tanto con los datos de train y los de test, para ver si realmente hay una mejora y si el modelo no esta overfiteado."
   ]
  },
  {
   "cell_type": "code",
   "execution_count": 105,
   "metadata": {},
   "outputs": [
    {
     "name": "stdout",
     "output_type": "stream",
     "text": [
      "522/522 [==============================] - 0s 727us/step\n",
      "Accuracy: 0.8619347109913148\n",
      "Recall: 0.8697225572979493\n",
      "Precision: 0.8547717842323651\n",
      "f1 score: 0.8621823617339311\n"
     ]
    },
    {
     "data": {
      "image/png": "[encoded data removed]",
      "text/plain": [
       "<Figure size 640x480 with 2 Axes>"
      ]
     },
     "metadata": {},
     "output_type": "display_data"
    },
    {
     "name": "stdout",
     "output_type": "stream",
     "text": [
      "1218/1218 [==============================] - 1s 521us/step\n",
      "Accuracy: 0.9078937235271467\n",
      "Recall: 0.9182984469952734\n",
      "Precision: 0.8976897689768977\n",
      "f1 score: 0.9078771695594124\n"
     ]
    }
   ],
   "source": [
    "y_prediccion = random_search.predict(x_test_escalado_min_max)\n",
    "mostrar_scores(y_test, y_prediccion)\n",
    "\n",
    "tabla = confusion_matrix(y_test, y_prediccion)\n",
    "sns.heatmap(tabla, cmap='GnBu', annot=True, fmt='g')\n",
    "plt.title('Matriz de confusión')\n",
    "plt.xlabel('Predicted')\n",
    "plt.ylabel('True')\n",
    "plt.show()\n",
    "\n",
    "y_prediccion_train = random_search.predict(x_train_escalado_min_max)\n",
    "mostrar_scores(y_train, y_prediccion_train)"
   ]
  },
  {
   "cell_type": "markdown",
   "metadata": {},
   "source": [
    "En este modelo ambas metricas estan balanceadas, sin embargo presenta cierto overfitting, vamos a ver si podemos mejorar eso manteniendo el balance de las metricas."
   ]
  },
  {
   "cell_type": "markdown",
   "metadata": {},
   "source": [
    "### Armado del mejor modelo"
   ]
  },
  {
   "cell_type": "markdown",
   "metadata": {},
   "source": [
    "Luego de haber testeado con multiples parametros, vamos a crear una red neuronales tomando los que mejor resultados nos den y predictear a kaggle."
   ]
  },
  {
   "cell_type": "code",
   "execution_count": 106,
   "metadata": {},
   "outputs": [
    {
     "name": "stdout",
     "output_type": "stream",
     "text": [
      "Epoch 1/60\n",
      "1218/1218 [==============================] - 1s 888us/step - loss: 0.4077 - accuracy: 0.8183\n",
      "Epoch 2/60\n",
      "1218/1218 [==============================] - 1s 1ms/step - loss: 0.3617 - accuracy: 0.8367\n",
      "Epoch 3/60\n",
      "1218/1218 [==============================] - 2s 1ms/step - loss: 0.3524 - accuracy: 0.8408\n",
      "Epoch 4/60\n",
      "1218/1218 [==============================] - 1s 990us/step - loss: 0.3463 - accuracy: 0.8426\n",
      "Epoch 5/60\n",
      "1218/1218 [==============================] - 1s 967us/step - loss: 0.3414 - accuracy: 0.8452\n",
      "Epoch 6/60\n",
      "1218/1218 [==============================] - 1s 682us/step - loss: 0.3378 - accuracy: 0.8483\n",
      "Epoch 7/60\n",
      "1218/1218 [==============================] - 1s 902us/step - loss: 0.3350 - accuracy: 0.8480\n",
      "Epoch 8/60\n",
      "1218/1218 [==============================] - 1s 583us/step - loss: 0.3317 - accuracy: 0.8513\n",
      "Epoch 9/60\n",
      "1218/1218 [==============================] - 1s 811us/step - loss: 0.3286 - accuracy: 0.8539\n",
      "Epoch 10/60\n",
      "1218/1218 [==============================] - 1s 678us/step - loss: 0.3263 - accuracy: 0.8556\n",
      "Epoch 11/60\n",
      "1218/1218 [==============================] - 1s 621us/step - loss: 0.3240 - accuracy: 0.8557\n",
      "Epoch 12/60\n",
      "1218/1218 [==============================] - 1s 605us/step - loss: 0.3224 - accuracy: 0.8579\n",
      "Epoch 13/60\n",
      "1218/1218 [==============================] - 1s 585us/step - loss: 0.3209 - accuracy: 0.8586\n",
      "Epoch 14/60\n",
      "1218/1218 [==============================] - 1s 744us/step - loss: 0.3185 - accuracy: 0.8592\n",
      "Epoch 15/60\n",
      "1218/1218 [==============================] - 1s 523us/step - loss: 0.3177 - accuracy: 0.8595\n",
      "Epoch 16/60\n",
      "1218/1218 [==============================] - 1s 608us/step - loss: 0.3166 - accuracy: 0.8595\n",
      "Epoch 17/60\n",
      "1218/1218 [==============================] - 1s 517us/step - loss: 0.3151 - accuracy: 0.8623\n",
      "Epoch 18/60\n",
      "1218/1218 [==============================] - 1s 725us/step - loss: 0.3152 - accuracy: 0.8610\n",
      "Epoch 19/60\n",
      "1218/1218 [==============================] - 1s 667us/step - loss: 0.3138 - accuracy: 0.8605\n",
      "Epoch 20/60\n",
      "1218/1218 [==============================] - 1s 612us/step - loss: 0.3126 - accuracy: 0.8635\n",
      "Epoch 21/60\n",
      "1218/1218 [==============================] - 1s 660us/step - loss: 0.3113 - accuracy: 0.8636\n",
      "Epoch 22/60\n",
      "1218/1218 [==============================] - 1s 688us/step - loss: 0.3103 - accuracy: 0.8640\n",
      "Epoch 23/60\n",
      "1218/1218 [==============================] - 1s 832us/step - loss: 0.3101 - accuracy: 0.8646\n",
      "Epoch 24/60\n",
      "1218/1218 [==============================] - 1s 623us/step - loss: 0.3090 - accuracy: 0.8658\n",
      "Epoch 25/60\n",
      "1218/1218 [==============================] - 1s 662us/step - loss: 0.3091 - accuracy: 0.8653\n",
      "Epoch 26/60\n",
      "1218/1218 [==============================] - 1s 1ms/step - loss: 0.3077 - accuracy: 0.8653\n",
      "Epoch 27/60\n",
      "1218/1218 [==============================] - 1s 696us/step - loss: 0.3061 - accuracy: 0.8669\n",
      "Epoch 28/60\n",
      "1218/1218 [==============================] - 1s 1ms/step - loss: 0.3056 - accuracy: 0.8669\n",
      "Epoch 29/60\n",
      "1218/1218 [==============================] - 1s 547us/step - loss: 0.3059 - accuracy: 0.8670\n",
      "Epoch 30/60\n",
      "1218/1218 [==============================] - 1s 546us/step - loss: 0.3042 - accuracy: 0.8688\n",
      "Epoch 31/60\n",
      "1218/1218 [==============================] - 1s 649us/step - loss: 0.3037 - accuracy: 0.8683\n",
      "Epoch 32/60\n",
      "1218/1218 [==============================] - 1s 587us/step - loss: 0.3034 - accuracy: 0.8686\n",
      "Epoch 33/60\n",
      "1218/1218 [==============================] - 1s 533us/step - loss: 0.3030 - accuracy: 0.8694\n",
      "Epoch 34/60\n",
      "1218/1218 [==============================] - 1s 731us/step - loss: 0.3026 - accuracy: 0.8689\n",
      "Epoch 35/60\n",
      "1218/1218 [==============================] - 1s 974us/step - loss: 0.3019 - accuracy: 0.8700\n",
      "Epoch 36/60\n",
      "1218/1218 [==============================] - 1s 903us/step - loss: 0.3019 - accuracy: 0.8690\n",
      "Epoch 37/60\n",
      "1218/1218 [==============================] - 1s 607us/step - loss: 0.3010 - accuracy: 0.8701\n",
      "Epoch 38/60\n",
      "1218/1218 [==============================] - 1s 689us/step - loss: 0.3004 - accuracy: 0.8702\n",
      "Epoch 39/60\n",
      "1218/1218 [==============================] - 1s 632us/step - loss: 0.3007 - accuracy: 0.8688\n",
      "Epoch 40/60\n",
      "1218/1218 [==============================] - 1s 684us/step - loss: 0.2994 - accuracy: 0.8713\n",
      "Epoch 41/60\n",
      "1218/1218 [==============================] - 1s 780us/step - loss: 0.2990 - accuracy: 0.8716\n",
      "Epoch 42/60\n",
      "1218/1218 [==============================] - 1s 1ms/step - loss: 0.2986 - accuracy: 0.8710\n",
      "Epoch 43/60\n",
      "1218/1218 [==============================] - 1s 720us/step - loss: 0.2987 - accuracy: 0.8704\n",
      "Epoch 44/60\n",
      "1218/1218 [==============================] - 1s 567us/step - loss: 0.2968 - accuracy: 0.8728\n",
      "Epoch 45/60\n",
      "1218/1218 [==============================] - 1s 588us/step - loss: 0.2966 - accuracy: 0.8712\n",
      "Epoch 46/60\n",
      "1218/1218 [==============================] - 1s 604us/step - loss: 0.2968 - accuracy: 0.8726\n",
      "Epoch 47/60\n",
      "1218/1218 [==============================] - 1s 582us/step - loss: 0.2958 - accuracy: 0.8722\n",
      "Epoch 48/60\n",
      "1218/1218 [==============================] - 1s 597us/step - loss: 0.2960 - accuracy: 0.8732\n",
      "Epoch 49/60\n",
      "1218/1218 [==============================] - 1s 534us/step - loss: 0.2961 - accuracy: 0.8731\n",
      "Epoch 50/60\n",
      "1218/1218 [==============================] - 1s 534us/step - loss: 0.2947 - accuracy: 0.8727\n",
      "Epoch 51/60\n",
      "1218/1218 [==============================] - 1s 559us/step - loss: 0.2953 - accuracy: 0.8724\n",
      "Epoch 52/60\n",
      "1218/1218 [==============================] - 1s 600us/step - loss: 0.2944 - accuracy: 0.8733\n",
      "Epoch 53/60\n",
      "1218/1218 [==============================] - 1s 532us/step - loss: 0.2944 - accuracy: 0.8736\n",
      "Epoch 54/60\n",
      "1218/1218 [==============================] - 1s 533us/step - loss: 0.2948 - accuracy: 0.8727\n",
      "Epoch 55/60\n",
      "1218/1218 [==============================] - 1s 540us/step - loss: 0.2933 - accuracy: 0.8744\n",
      "Epoch 56/60\n",
      "1218/1218 [==============================] - 1s 498us/step - loss: 0.2924 - accuracy: 0.8746\n",
      "Epoch 57/60\n",
      "1218/1218 [==============================] - 1s 518us/step - loss: 0.2935 - accuracy: 0.8738\n",
      "Epoch 58/60\n",
      "1218/1218 [==============================] - 1s 540us/step - loss: 0.2929 - accuracy: 0.8749\n",
      "Epoch 59/60\n",
      "1218/1218 [==============================] - 1s 727us/step - loss: 0.2929 - accuracy: 0.8760\n",
      "Epoch 60/60\n",
      "1218/1218 [==============================] - 1s 577us/step - loss: 0.2916 - accuracy: 0.8747\n",
      "522/522 [==============================] - 0s 280us/step\n",
      "Accuracy: 0.8616352201257862\n",
      "Recall: 0.8387213510253317\n",
      "Precision: 0.8772394650517285\n",
      "f1 score: 0.8575481006413419\n"
     ]
    },
    {
     "data": {
      "image/png": "[encoded data removed]",
      "text/plain": [
       "<Figure size 640x480 with 2 Axes>"
      ]
     },
     "metadata": {},
     "output_type": "display_data"
    },
    {
     "name": "stdout",
     "output_type": "stream",
     "text": [
      "1218/1218 [==============================] - 0s 351us/step\n",
      "Accuracy: 0.8795276601206521\n",
      "Recall: 0.8617358333766166\n",
      "Precision: 0.8909354526903662\n",
      "f1 score: 0.876092409240924\n"
     ]
    }
   ],
   "source": [
    "modelo = keras.Sequential([\n",
    "   keras.layers.Dense(256, input_shape=(x_train_escalado_min_max.shape[1],), activation='relu', kernel_regularizer=keras.regularizers.l2(0.0004)),\n",
    "   keras.layers.Dense(1, activation='sigmoid'),\n",
    "\n",
    "])\n",
    "\n",
    "modelo.compile(optimizer='adam',\n",
    "             loss='binary_crossentropy',\n",
    "             metrics=['accuracy'])\n",
    "\n",
    "modelo.fit(x_train_escalado_min_max, y_train, epochs=60)\n",
    "\n",
    "y_prediccion = modelo.predict(x_test_escalado_min_max)\n",
    "mostrar_scores(y_test, y_prediccion.round())\n",
    "tabla = confusion_matrix(y_test, y_prediccion.round())\n",
    "sns.heatmap(tabla, cmap='GnBu', annot=True, fmt='g')\n",
    "plt.title('Matriz de confusión')\n",
    "plt.xlabel('Predicted')\n",
    "plt.ylabel('True')\n",
    "plt.show()\n",
    "\n",
    "\n",
    "y_prediccion_train = modelo.predict(x_train_escalado_min_max)\n",
    "mostrar_scores(y_train, y_prediccion_train.round())"
   ]
  },
  {
   "cell_type": "markdown",
   "metadata": {},
   "source": [
    "Como podemos ver el modelo empeoro tanto en el f1 score, como el balanceo y el overfitting, vamos a probar con otro modelo."
   ]
  },
  {
   "cell_type": "markdown",
   "metadata": {},
   "source": [
    "#### Red neuronal con muchas capas y dropout\n"
   ]
  },
  {
   "cell_type": "markdown",
   "metadata": {},
   "source": [
    "Vamos a probar agregando mas capas y epochs para ver si mejora el modelo, para evitar el overfitting realizamos dropouts."
   ]
  },
  {
   "cell_type": "code",
   "execution_count": 107,
   "metadata": {},
   "outputs": [
    {
     "name": "stdout",
     "output_type": "stream",
     "text": [
      "Epoch 1/50\n",
      "1218/1218 [==============================] - 2s 1ms/step - loss: 0.4661 - accuracy: 0.8209\n",
      "Epoch 2/50\n",
      "1218/1218 [==============================] - 2s 1ms/step - loss: 0.3940 - accuracy: 0.8384\n",
      "Epoch 3/50\n",
      "1218/1218 [==============================] - 2s 2ms/step - loss: 0.3716 - accuracy: 0.8437\n",
      "Epoch 4/50\n",
      "1218/1218 [==============================] - 2s 1ms/step - loss: 0.3588 - accuracy: 0.8482\n",
      "Epoch 5/50\n",
      "1218/1218 [==============================] - 2s 1ms/step - loss: 0.3502 - accuracy: 0.8522\n",
      "Epoch 6/50\n",
      "1218/1218 [==============================] - 2s 2ms/step - loss: 0.3450 - accuracy: 0.8537\n",
      "Epoch 7/50\n",
      "1218/1218 [==============================] - 2s 1ms/step - loss: 0.3427 - accuracy: 0.8534\n",
      "Epoch 8/50\n",
      "1218/1218 [==============================] - 2s 1ms/step - loss: 0.3395 - accuracy: 0.8552\n",
      "Epoch 9/50\n",
      "1218/1218 [==============================] - 2s 1ms/step - loss: 0.3381 - accuracy: 0.8558\n",
      "Epoch 10/50\n",
      "1218/1218 [==============================] - 2s 2ms/step - loss: 0.3338 - accuracy: 0.8571\n",
      "Epoch 11/50\n",
      "1218/1218 [==============================] - 2s 2ms/step - loss: 0.3337 - accuracy: 0.8583\n",
      "Epoch 12/50\n",
      "1218/1218 [==============================] - 2s 2ms/step - loss: 0.3319 - accuracy: 0.8590\n",
      "Epoch 13/50\n",
      "1218/1218 [==============================] - 2s 2ms/step - loss: 0.3306 - accuracy: 0.8586\n",
      "Epoch 14/50\n",
      "1218/1218 [==============================] - 3s 2ms/step - loss: 0.3299 - accuracy: 0.8581\n",
      "Epoch 15/50\n",
      "1218/1218 [==============================] - 2s 1ms/step - loss: 0.3289 - accuracy: 0.8602\n",
      "Epoch 16/50\n",
      "1218/1218 [==============================] - 2s 1ms/step - loss: 0.3285 - accuracy: 0.8585\n",
      "Epoch 17/50\n",
      "1218/1218 [==============================] - 1s 1ms/step - loss: 0.3262 - accuracy: 0.8602\n",
      "Epoch 18/50\n",
      "1218/1218 [==============================] - 1s 1ms/step - loss: 0.3280 - accuracy: 0.8599\n",
      "Epoch 19/50\n",
      "1218/1218 [==============================] - 1s 1ms/step - loss: 0.3275 - accuracy: 0.8589\n",
      "Epoch 20/50\n",
      "1218/1218 [==============================] - 2s 1ms/step - loss: 0.3269 - accuracy: 0.8616\n",
      "Epoch 21/50\n",
      "1218/1218 [==============================] - 1s 1ms/step - loss: 0.3250 - accuracy: 0.8614\n",
      "Epoch 22/50\n",
      "1218/1218 [==============================] - 2s 1ms/step - loss: 0.3241 - accuracy: 0.8624\n",
      "Epoch 23/50\n",
      "1218/1218 [==============================] - 2s 2ms/step - loss: 0.3242 - accuracy: 0.8628\n",
      "Epoch 24/50\n",
      "1218/1218 [==============================] - 2s 2ms/step - loss: 0.3248 - accuracy: 0.8626\n",
      "Epoch 25/50\n",
      "1218/1218 [==============================] - 2s 1ms/step - loss: 0.3240 - accuracy: 0.8603\n",
      "Epoch 26/50\n",
      "1218/1218 [==============================] - 1s 1ms/step - loss: 0.3231 - accuracy: 0.8630\n",
      "Epoch 27/50\n",
      "1218/1218 [==============================] - 1s 1ms/step - loss: 0.3228 - accuracy: 0.8628\n",
      "Epoch 28/50\n",
      "1218/1218 [==============================] - 2s 1ms/step - loss: 0.3217 - accuracy: 0.8639\n",
      "Epoch 29/50\n",
      "1218/1218 [==============================] - 1s 1ms/step - loss: 0.3240 - accuracy: 0.8628\n",
      "Epoch 30/50\n",
      "1218/1218 [==============================] - 2s 2ms/step - loss: 0.3229 - accuracy: 0.8634\n",
      "Epoch 31/50\n",
      "1218/1218 [==============================] - 1s 1ms/step - loss: 0.3213 - accuracy: 0.8661\n",
      "Epoch 32/50\n",
      "1218/1218 [==============================] - 1s 1ms/step - loss: 0.3220 - accuracy: 0.8618\n",
      "Epoch 33/50\n",
      "1218/1218 [==============================] - 2s 2ms/step - loss: 0.3227 - accuracy: 0.8627\n",
      "Epoch 34/50\n",
      "1218/1218 [==============================] - 1s 1ms/step - loss: 0.3211 - accuracy: 0.8644\n",
      "Epoch 35/50\n",
      "1218/1218 [==============================] - 2s 2ms/step - loss: 0.3218 - accuracy: 0.8615\n",
      "Epoch 36/50\n",
      "1218/1218 [==============================] - 1s 1ms/step - loss: 0.3206 - accuracy: 0.8648\n",
      "Epoch 37/50\n",
      "1218/1218 [==============================] - 1s 977us/step - loss: 0.3212 - accuracy: 0.8636\n",
      "Epoch 38/50\n",
      "1218/1218 [==============================] - 1s 1ms/step - loss: 0.3219 - accuracy: 0.8635\n",
      "Epoch 39/50\n",
      "1218/1218 [==============================] - 2s 1ms/step - loss: 0.3208 - accuracy: 0.8639\n",
      "Epoch 40/50\n",
      "1218/1218 [==============================] - 2s 1ms/step - loss: 0.3210 - accuracy: 0.8629\n",
      "Epoch 41/50\n",
      "1218/1218 [==============================] - 2s 1ms/step - loss: 0.3205 - accuracy: 0.8646\n",
      "Epoch 42/50\n",
      "1218/1218 [==============================] - 1s 1ms/step - loss: 0.3205 - accuracy: 0.8646\n",
      "Epoch 43/50\n",
      "1218/1218 [==============================] - 2s 1ms/step - loss: 0.3202 - accuracy: 0.8641\n",
      "Epoch 44/50\n",
      "1218/1218 [==============================] - 1s 1ms/step - loss: 0.3195 - accuracy: 0.8637\n",
      "Epoch 45/50\n",
      "1218/1218 [==============================] - 1s 1ms/step - loss: 0.3192 - accuracy: 0.8637\n",
      "Epoch 46/50\n",
      "1218/1218 [==============================] - 1s 1ms/step - loss: 0.3199 - accuracy: 0.8641\n",
      "Epoch 47/50\n",
      "1218/1218 [==============================] - 1s 1ms/step - loss: 0.3197 - accuracy: 0.8646\n",
      "Epoch 48/50\n",
      "1218/1218 [==============================] - 2s 1ms/step - loss: 0.3195 - accuracy: 0.8643\n",
      "Epoch 49/50\n",
      "1218/1218 [==============================] - 1s 1ms/step - loss: 0.3176 - accuracy: 0.8658\n",
      "Epoch 50/50\n",
      "1218/1218 [==============================] - 2s 1ms/step - loss: 0.3190 - accuracy: 0.8659\n",
      "522/522 [==============================] - 0s 406us/step\n",
      "Accuracy: 0.8648098233003894\n",
      "Recall: 0.8628468033775634\n",
      "Precision: 0.8646198476973287\n",
      "f1 score: 0.8637324156251888\n"
     ]
    },
    {
     "data": {
      "image/png": "[encoded data removed]",
      "text/plain": [
       "<Figure size 640x480 with 2 Axes>"
      ]
     },
     "metadata": {},
     "output_type": "display_data"
    },
    {
     "name": "stdout",
     "output_type": "stream",
     "text": [
      "1218/1218 [==============================] - 1s 450us/step\n",
      "Accuracy: 0.8771659607239122\n",
      "Recall: 0.8797589985976212\n",
      "Precision: 0.8727328936521023\n",
      "f1 score: 0.8762318615659193\n"
     ]
    }
   ],
   "source": [
    "modelo = keras.Sequential([\n",
    "    keras.layers.Dense(256, input_shape=(x_train_escalado_min_max.shape[1],), activation='relu', kernel_regularizer=keras.regularizers.l1_l2(0.00004, 0.0005), kernel_initializer='normal'),\n",
    "    keras.layers.Dropout(0.2),\n",
    "    keras.layers.Dense(128, activation='relu', kernel_regularizer=keras.regularizers.l1(0.00004)),\n",
    "    keras.layers.Dense(64, activation='relu',  kernel_regularizer=keras.regularizers.l1(0.00004)),\n",
    "    keras.layers.Dense(1, activation='sigmoid'),\n",
    "    \n",
    "    ])\n",
    "\n",
    "modelo.compile(optimizer='adam',\n",
    "               loss='binary_crossentropy',\n",
    "               metrics=['accuracy'])\n",
    "\n",
    "modelo.fit(x_train_escalado_min_max, y_train, epochs=50)\n",
    "y_prediccion = modelo.predict(x_test_escalado_min_max)\n",
    "\n",
    "mostrar_scores(y_test, y_prediccion.round())\n",
    "\n",
    "tabla = confusion_matrix(y_test, y_prediccion.round())\n",
    "sns.heatmap(tabla, cmap='GnBu', annot=True, fmt='g')\n",
    "plt.title('Matriz de confusión')\n",
    "plt.xlabel('Predicted')\n",
    "plt.ylabel('True')\n",
    "plt.show()\n",
    "\n",
    "\n",
    "y_prediccion_train = modelo.predict(x_train_escalado_min_max)\n",
    "\n",
    "mostrar_scores(y_train, y_prediccion_train.round())\n",
    "\n"
   ]
  },
  {
   "cell_type": "markdown",
   "metadata": {},
   "source": [
    "En nuestro modelo final podemos ver como a pesar que haya cierto overfitting, el recall y precision son muy similares, al igual con el f1, y la cantidad de positivos y negativos esta equitativamente balanceada."
   ]
  },
  {
   "cell_type": "markdown",
   "metadata": {},
   "source": [
    "## Evaluación con el dataset de test"
   ]
  },
  {
   "cell_type": "code",
   "execution_count": 108,
   "metadata": {},
   "outputs": [
    {
     "data": {
      "text/plain": [
       "(26535, 31)"
      ]
     },
     "execution_count": 108,
     "metadata": {},
     "output_type": "execute_result"
    }
   ],
   "source": [
    "df_test = pd.read_csv('https://drive.usercontent.google.com/download?id=1ruDne6JVJTwK0TbDNQEUfUtoxA6gVTiy&export=download&authuser=0&confirm=t&uuid=2892328a-d7d8-47c7-98e1-3e69ef723100&at=APZUnTU5aCf9tHsTaF3PM7aD9Lym:1695760323667')\n",
    "\n",
    "df_test.shape"
   ]
  },
  {
   "cell_type": "markdown",
   "metadata": {},
   "source": [
    "### Imputacion de valores faltantes"
   ]
  },
  {
   "cell_type": "markdown",
   "metadata": {},
   "source": [
    "Primero imputamos el dataset tal cual lo hicimos con el de train, sin inspeccionar casos bordes para evitar data leakage."
   ]
  },
  {
   "cell_type": "code",
   "execution_count": 109,
   "metadata": {},
   "outputs": [],
   "source": [
    "nuevas_columnas = {\n",
    "    'arrival_date_year' : 'year',\n",
    "    'arrival_date_month' : 'month',\n",
    "    'arrival_date_week_number' : 'week_number',\n",
    "    'arrival_date_day_of_month' : 'day_of_month',\n",
    "    'meal' : 'meal_type',\n",
    "    'agent' : 'agent_id',\n",
    "    'adr' : 'average_daily_rate'\n",
    "}\n",
    "df_test.rename(columns = nuevas_columnas, inplace = True)"
   ]
  },
  {
   "cell_type": "markdown",
   "metadata": {},
   "source": [
    "Imputación de children, company y adults"
   ]
  },
  {
   "cell_type": "code",
   "execution_count": 110,
   "metadata": {},
   "outputs": [],
   "source": [
    "df_test['total_nights'] = df_test['stays_in_week_nights'] + df_test['stays_in_weekend_nights']\n",
    "df_test['children'].fillna(0, inplace=True)\n",
    "df_test['total_people'] = df_test['adults'] + df_test['children'] + df_test['babies']\n",
    "df_test['meal_type'].replace(['SC', 'Undefined'], 'NoMeal', inplace=True)\n",
    "df_test.drop(columns=['company'], inplace=True)"
   ]
  },
  {
   "cell_type": "markdown",
   "metadata": {},
   "source": [
    "Imputación de agent id"
   ]
  },
  {
   "cell_type": "code",
   "execution_count": 111,
   "metadata": {},
   "outputs": [],
   "source": [
    "for index, row in df_test.iterrows():\n",
    "    if (pd.isna(row['agent_id'])) & (row['distribution_channel'] == 'Direct'):\n",
    "        df_test.loc[index, 'agent_id'] = -1\n",
    "\n",
    "for index, row in df_test.iterrows():\n",
    "    if (not pd.isna(row['agent_id'])) or (row['distribution_channel'] == 'Direct'):\n",
    "        continue\n",
    "    if row['hotel'] == 'City Hotel':\n",
    "        if row['country'] == 'PRT':\n",
    "            df_test.loc[index, 'agent_id'] = 1.0\n",
    "        else: \n",
    "            df_test.loc[index, 'agent_id'] = 9.0\n",
    "    else:\n",
    "        df_test.loc[index, 'agent_id'] = 240.0"
   ]
  },
  {
   "cell_type": "markdown",
   "metadata": {},
   "source": [
    "Imputación de country"
   ]
  },
  {
   "cell_type": "code",
   "execution_count": 112,
   "metadata": {},
   "outputs": [],
   "source": [
    "for index, row in df_test.iterrows():\n",
    "    if pd.isna(row['country']) and row['deposit_type'] == 'Non Refund':\n",
    "        df_test.loc[index, 'country'] = 'PRT'\n",
    "\n",
    "for index, row in df_test.iterrows():\n",
    "    if pd.isna(row['country']) and (row['market_segment'] == 'Corporate' or row['market_segment'] == 'Offline TA/TO' or row['market_segment'] == 'Direct'):\n",
    "        df_test.loc[index, 'country'] = 'PRT'"
   ]
  },
  {
   "cell_type": "markdown",
   "metadata": {},
   "source": [
    "Prediccion final"
   ]
  },
  {
   "cell_type": "code",
   "execution_count": 113,
   "metadata": {},
   "outputs": [],
   "source": [
    "df_encode = df_test.copy()\n",
    "\n",
    "df_encode['agent_id'] = df_test['agent_id'].apply(lambda x: x if x in list(df_agentes_mayoritarios['agent_id']) else 'Otros')\n",
    "df_encode['country'] = df_test['country'].apply(lambda x: x if x in list(df_paises_mayoritarios['country']) else 'Otros')\n",
    "\n",
    "columns.remove('is_canceled')\n",
    "df_filtrado = df_encode[columns]\n",
    "columns.append('is_canceled')\n",
    "df_test_con_dummies = pd.get_dummies(df_filtrado, columns=dummy_columns, drop_first=True).reset_index(drop=True)\n",
    "\n",
    "df_test_con_dummies['cuarto_correcto'] = df_encode['reserved_room_type'] == df_encode['assigned_room_type']\n",
    "df_test_con_dummies['cuarto_correcto'] = df_test_con_dummies['cuarto_correcto'].apply(lambda x: 1 if x == True else 0)\n",
    "\n",
    "\n"
   ]
  },
  {
   "cell_type": "code",
   "execution_count": 114,
   "metadata": {},
   "outputs": [
    {
     "name": "stdout",
     "output_type": "stream",
     "text": [
      "830/830 [==============================] - 0s 356us/step\n"
     ]
    }
   ],
   "source": [
    "mejor_modelo = modelo\n",
    "\n",
    "test_scaled = escalador.transform(df_test_con_dummies)\n",
    "y_pred= mejor_modelo.predict(test_scaled)\n",
    "\n",
    "y_pred_int  = y_pred.round().astype(int)\n",
    "\n",
    "df_prediccion = pd.DataFrame(y_pred_int, columns=['is_canceled'])\n",
    "df_prediccion['id'] = df_test['id']\n",
    "df_prediccion = df_prediccion[['id', 'is_canceled']]\n",
    "\n",
    "\n",
    "df_prediccion.to_csv('prediccion.csv', index=False)"
   ]
  }
 ],
 "metadata": {
  "kernelspec": {
   "display_name": "base",
   "language": "python",
   "name": "python3"
  },
  "language_info": {
   "codemirror_mode": {
    "name": "ipython",
    "version": 3
   },
   "file_extension": ".py",
   "mimetype": "text/x-python",
   "name": "python",
   "nbconvert_exporter": "python",
   "pygments_lexer": "ipython3",
   "version": "3.11.4"
  }
 },
 "nbformat": 4,
 "nbformat_minor": 2
}
